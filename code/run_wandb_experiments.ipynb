{
 "cells": [
  {
   "cell_type": "code",
   "execution_count": 1,
   "metadata": {},
   "outputs": [
    {
     "name": "stderr",
     "output_type": "stream",
     "text": [
      "/home/ganddalf/anaconda3/envs/dl/lib/python3.12/site-packages/tqdm/auto.py:21: TqdmWarning: IProgress not found. Please update jupyter and ipywidgets. See https://ipywidgets.readthedocs.io/en/stable/user_install.html\n",
      "  from .autonotebook import tqdm as notebook_tqdm\n"
     ]
    }
   ],
   "source": [
    "import numpy as np\n",
    "import wandb\n",
    "import optuna\n",
    "from optuna.integration.wandb import WeightsAndBiasesCallback\n",
    "import lightning as L\n",
    "from lightning.pytorch.loggers import WandbLogger\n",
    "\n",
    "from lightning_modules import Base_Model, Hinton_Distillation, All_Connections_Distillation\n",
    "from cifar_dataset import cifar10_loader\n",
    "from cifar_tiny import Cifar_Tiny\n",
    "from cifar_very_tiny import Cifar_Very_Tiny"
   ]
  },
  {
   "cell_type": "markdown",
   "metadata": {},
   "source": [
    "## Данные"
   ]
  },
  {
   "cell_type": "code",
   "execution_count": 2,
   "metadata": {},
   "outputs": [
    {
     "name": "stdout",
     "output_type": "stream",
     "text": [
      "Files already downloaded and verified\n",
      "Files already downloaded and verified\n"
     ]
    }
   ],
   "source": [
    "train_loader, test_loader = cifar10_loader(batch_size=128, maxsize=10112)"
   ]
  },
  {
   "cell_type": "markdown",
   "metadata": {},
   "source": [
    "## Без Дистилляции"
   ]
  },
  {
   "cell_type": "markdown",
   "metadata": {},
   "source": [
    "### Модель Tiny"
   ]
  },
  {
   "cell_type": "code",
   "execution_count": 3,
   "metadata": {},
   "outputs": [
    {
     "name": "stderr",
     "output_type": "stream",
     "text": [
      "Failed to detect the name of this notebook, you can set it manually with the WANDB_NOTEBOOK_NAME environment variable to enable code saving.\n",
      "\u001b[34m\u001b[1mwandb\u001b[0m: Currently logged in as: \u001b[33mpotapuch2001\u001b[0m. Use \u001b[1m`wandb login --relogin`\u001b[0m to force relogin\n"
     ]
    },
    {
     "data": {
      "text/html": [
       "wandb version 0.17.2 is available!  To upgrade, please run:\n",
       " $ pip install wandb --upgrade"
      ],
      "text/plain": [
       "<IPython.core.display.HTML object>"
      ]
     },
     "metadata": {},
     "output_type": "display_data"
    },
    {
     "data": {
      "text/html": [
       "Tracking run with wandb version 0.16.6"
      ],
      "text/plain": [
       "<IPython.core.display.HTML object>"
      ]
     },
     "metadata": {},
     "output_type": "display_data"
    },
    {
     "data": {
      "text/html": [
       "Run data is saved locally in <code>/home/ganddalf/MIPT/Kafedra/Oleinik-BS-Thesis/code/wandb/run-20240623_012001-o4i569db</code>"
      ],
      "text/plain": [
       "<IPython.core.display.HTML object>"
      ]
     },
     "metadata": {},
     "output_type": "display_data"
    },
    {
     "data": {
      "text/html": [
       "Syncing run <strong><a href='https://wandb.ai/potapuch2001/Oleinik-BS-Thesis-code/runs/o4i569db' target=\"_blank\">toasty-haze-253</a></strong> to <a href='https://wandb.ai/potapuch2001/Oleinik-BS-Thesis-code' target=\"_blank\">Weights & Biases</a> (<a href='https://wandb.me/run' target=\"_blank\">docs</a>)<br/>"
      ],
      "text/plain": [
       "<IPython.core.display.HTML object>"
      ]
     },
     "metadata": {},
     "output_type": "display_data"
    },
    {
     "data": {
      "text/html": [
       " View project at <a href='https://wandb.ai/potapuch2001/Oleinik-BS-Thesis-code' target=\"_blank\">https://wandb.ai/potapuch2001/Oleinik-BS-Thesis-code</a>"
      ],
      "text/plain": [
       "<IPython.core.display.HTML object>"
      ]
     },
     "metadata": {},
     "output_type": "display_data"
    },
    {
     "data": {
      "text/html": [
       " View run at <a href='https://wandb.ai/potapuch2001/Oleinik-BS-Thesis-code/runs/o4i569db' target=\"_blank\">https://wandb.ai/potapuch2001/Oleinik-BS-Thesis-code/runs/o4i569db</a>"
      ],
      "text/plain": [
       "<IPython.core.display.HTML object>"
      ]
     },
     "metadata": {},
     "output_type": "display_data"
    },
    {
     "name": "stderr",
     "output_type": "stream",
     "text": [
      "GPU available: True (cuda), used: True\n",
      "TPU available: False, using: 0 TPU cores\n",
      "IPU available: False, using: 0 IPUs\n",
      "HPU available: False, using: 0 HPUs\n",
      "You are using a CUDA device ('NVIDIA GeForce RTX 3060 Ti') that has Tensor Cores. To properly utilize them, you should set `torch.set_float32_matmul_precision('medium' | 'high')` which will trade-off precision for performance. For more details, read https://pytorch.org/docs/stable/generated/torch.set_float32_matmul_precision.html#torch.set_float32_matmul_precision\n",
      "/home/ganddalf/anaconda3/envs/dl/lib/python3.12/site-packages/lightning/pytorch/loggers/wandb.py:391: There is a wandb run already in progress and newly created instances of `WandbLogger` will reuse this run. If this is not desired, call `wandb.finish()` before instantiating `WandbLogger`.\n",
      "LOCAL_RANK: 0 - CUDA_VISIBLE_DEVICES: [0]\n",
      "\n",
      "  | Name  | Type             | Params\n",
      "-------------------------------------------\n",
      "0 | model | Cifar_Tiny       | 58.0 K\n",
      "1 | loss  | CrossEntropyLoss | 0     \n",
      "-------------------------------------------\n",
      "58.0 K    Trainable params\n",
      "0         Non-trainable params\n",
      "58.0 K    Total params\n",
      "0.232     Total estimated model params size (MB)\n"
     ]
    },
    {
     "name": "stdout",
     "output_type": "stream",
     "text": [
      "Epoch 99: 100%|██████████| 79/79 [00:00<00:00, 185.55it/s, v_num=69db]"
     ]
    },
    {
     "name": "stderr",
     "output_type": "stream",
     "text": [
      "`Trainer.fit` stopped: `max_epochs=100` reached.\n"
     ]
    },
    {
     "name": "stdout",
     "output_type": "stream",
     "text": [
      "Epoch 99: 100%|██████████| 79/79 [00:00<00:00, 183.76it/s, v_num=69db]\n"
     ]
    },
    {
     "name": "stderr",
     "output_type": "stream",
     "text": [
      "/home/ganddalf/anaconda3/envs/dl/lib/python3.12/site-packages/lightning/pytorch/trainer/connectors/checkpoint_connector.py:145: `.test(ckpt_path=None)` was called without a model. The best model of the previous `fit` call will be used. You can pass `.test(ckpt_path='best')` to use the best model or `.test(ckpt_path='last')` to use the last model. If you pass a value, this warning will be silenced.\n",
      "Restoring states from the checkpoint path at ./lightning_logs/o4i569db/checkpoints/epoch=99-step=7900.ckpt\n",
      "LOCAL_RANK: 0 - CUDA_VISIBLE_DEVICES: [0]\n",
      "Loaded model weights from the checkpoint at ./lightning_logs/o4i569db/checkpoints/epoch=99-step=7900.ckpt\n"
     ]
    },
    {
     "name": "stdout",
     "output_type": "stream",
     "text": [
      "Testing DataLoader 0: 100%|██████████| 79/79 [00:05<00:00, 13.89it/s] \n",
      "────────────────────────────────────────────────────────────────────────────────────────────────────────────────────────\n",
      "       Test metric             DataLoader 0\n",
      "────────────────────────────────────────────────────────────────────────────────────────────────────────────────────────\n",
      "        AUC_FGSM            0.1554526388645172\n",
      "        AUC_Noise           0.35581153631210327\n",
      "        test_acc            0.5888000130653381\n",
      "────────────────────────────────────────────────────────────────────────────────────────────────────────────────────────\n"
     ]
    },
    {
     "data": {
      "text/html": [
       "<style>\n",
       "    table.wandb td:nth-child(1) { padding: 0 10px; text-align: left ; width: auto;} td:nth-child(2) {text-align: left ; width: 100%}\n",
       "    .wandb-row { display: flex; flex-direction: row; flex-wrap: wrap; justify-content: flex-start; width: 100% }\n",
       "    .wandb-col { display: flex; flex-direction: column; flex-basis: 100%; flex: 1; padding: 10px; }\n",
       "    </style>\n",
       "<div class=\"wandb-row\"><div class=\"wandb-col\"><h3>Run history:</h3><br/><table class=\"wandb\"><tr><td>AUC_FGSM</td><td>▁</td></tr><tr><td>AUC_Noise</td><td>▁</td></tr><tr><td>epoch</td><td>▁▁▁▁▂▂▂▂▂▃▃▃▃▃▃▄▄▄▄▄▅▅▅▅▅▅▆▆▆▆▆▇▇▇▇▇▇███</td></tr><tr><td>lr</td><td>▁</td></tr><tr><td>test_acc</td><td>▁</td></tr><tr><td>train_acc</td><td>▁▃▃▅▅▆▆▆▇▇▇█████████████████████████████</td></tr><tr><td>train_loss</td><td>█▇▆▄▄▃▃▃▂▂▂▁▁▁▁▁▁▁▁▁▁▁▁▁▁▁▁▁▁▁▁▁▁▁▁▁▁▁▁▁</td></tr><tr><td>trainer/global_step</td><td>▁▁▁▂▂▂▂▂▂▃▃▃▃▃▄▄▄▄▄▄▅▅▅▅▅▅▆▆▆▆▆▇▇▇▇▇▇███</td></tr></table><br/></div><div class=\"wandb-col\"><h3>Run summary:</h3><br/><table class=\"wandb\"><tr><td>AUC_FGSM</td><td>0.15545</td></tr><tr><td>AUC_Noise</td><td>0.35581</td></tr><tr><td>distillation_type</td><td>without</td></tr><tr><td>epoch</td><td>100</td></tr><tr><td>lr</td><td>0.1</td></tr><tr><td>model_name</td><td>tiny</td></tr><tr><td>optimizer</td><td>SGD</td></tr><tr><td>test_acc</td><td>0.5888</td></tr><tr><td>train_acc</td><td>1.0</td></tr><tr><td>train_loss</td><td>0.00063</td></tr><tr><td>trainer/global_step</td><td>7900</td></tr></table><br/></div></div>"
      ],
      "text/plain": [
       "<IPython.core.display.HTML object>"
      ]
     },
     "metadata": {},
     "output_type": "display_data"
    },
    {
     "data": {
      "text/html": [
       " View run <strong style=\"color:#cdcd00\">toasty-haze-253</strong> at: <a href='https://wandb.ai/potapuch2001/Oleinik-BS-Thesis-code/runs/o4i569db' target=\"_blank\">https://wandb.ai/potapuch2001/Oleinik-BS-Thesis-code/runs/o4i569db</a><br/> View project at: <a href='https://wandb.ai/potapuch2001/Oleinik-BS-Thesis-code' target=\"_blank\">https://wandb.ai/potapuch2001/Oleinik-BS-Thesis-code</a><br/>Synced 6 W&B file(s), 2 media file(s), 2 artifact file(s) and 0 other file(s)"
      ],
      "text/plain": [
       "<IPython.core.display.HTML object>"
      ]
     },
     "metadata": {},
     "output_type": "display_data"
    },
    {
     "data": {
      "text/html": [
       "Find logs at: <code>./wandb/run-20240623_012001-o4i569db/logs</code>"
      ],
      "text/plain": [
       "<IPython.core.display.HTML object>"
      ]
     },
     "metadata": {},
     "output_type": "display_data"
    },
    {
     "data": {
      "text/html": [
       "wandb version 0.17.2 is available!  To upgrade, please run:\n",
       " $ pip install wandb --upgrade"
      ],
      "text/plain": [
       "<IPython.core.display.HTML object>"
      ]
     },
     "metadata": {},
     "output_type": "display_data"
    },
    {
     "data": {
      "text/html": [
       "Tracking run with wandb version 0.16.6"
      ],
      "text/plain": [
       "<IPython.core.display.HTML object>"
      ]
     },
     "metadata": {},
     "output_type": "display_data"
    },
    {
     "data": {
      "text/html": [
       "Run data is saved locally in <code>/home/ganddalf/MIPT/Kafedra/Oleinik-BS-Thesis/code/wandb/run-20240623_012107-p9irvofw</code>"
      ],
      "text/plain": [
       "<IPython.core.display.HTML object>"
      ]
     },
     "metadata": {},
     "output_type": "display_data"
    },
    {
     "data": {
      "text/html": [
       "Syncing run <strong><a href='https://wandb.ai/potapuch2001/Oleinik-BS-Thesis-code/runs/p9irvofw' target=\"_blank\">cosmic-brook-254</a></strong> to <a href='https://wandb.ai/potapuch2001/Oleinik-BS-Thesis-code' target=\"_blank\">Weights & Biases</a> (<a href='https://wandb.me/run' target=\"_blank\">docs</a>)<br/>"
      ],
      "text/plain": [
       "<IPython.core.display.HTML object>"
      ]
     },
     "metadata": {},
     "output_type": "display_data"
    },
    {
     "data": {
      "text/html": [
       " View project at <a href='https://wandb.ai/potapuch2001/Oleinik-BS-Thesis-code' target=\"_blank\">https://wandb.ai/potapuch2001/Oleinik-BS-Thesis-code</a>"
      ],
      "text/plain": [
       "<IPython.core.display.HTML object>"
      ]
     },
     "metadata": {},
     "output_type": "display_data"
    },
    {
     "data": {
      "text/html": [
       " View run at <a href='https://wandb.ai/potapuch2001/Oleinik-BS-Thesis-code/runs/p9irvofw' target=\"_blank\">https://wandb.ai/potapuch2001/Oleinik-BS-Thesis-code/runs/p9irvofw</a>"
      ],
      "text/plain": [
       "<IPython.core.display.HTML object>"
      ]
     },
     "metadata": {},
     "output_type": "display_data"
    },
    {
     "name": "stderr",
     "output_type": "stream",
     "text": [
      "GPU available: True (cuda), used: True\n",
      "TPU available: False, using: 0 TPU cores\n",
      "IPU available: False, using: 0 IPUs\n",
      "HPU available: False, using: 0 HPUs\n",
      "/home/ganddalf/anaconda3/envs/dl/lib/python3.12/site-packages/lightning/pytorch/loggers/wandb.py:391: There is a wandb run already in progress and newly created instances of `WandbLogger` will reuse this run. If this is not desired, call `wandb.finish()` before instantiating `WandbLogger`.\n",
      "LOCAL_RANK: 0 - CUDA_VISIBLE_DEVICES: [0]\n",
      "\n",
      "  | Name  | Type             | Params\n",
      "-------------------------------------------\n",
      "0 | model | Cifar_Tiny       | 58.0 K\n",
      "1 | loss  | CrossEntropyLoss | 0     \n",
      "-------------------------------------------\n",
      "58.0 K    Trainable params\n",
      "0         Non-trainable params\n",
      "58.0 K    Total params\n",
      "0.232     Total estimated model params size (MB)\n"
     ]
    },
    {
     "name": "stdout",
     "output_type": "stream",
     "text": [
      "Epoch 99: 100%|██████████| 79/79 [00:00<00:00, 171.38it/s, v_num=vofw]"
     ]
    },
    {
     "name": "stderr",
     "output_type": "stream",
     "text": [
      "`Trainer.fit` stopped: `max_epochs=100` reached.\n"
     ]
    },
    {
     "name": "stdout",
     "output_type": "stream",
     "text": [
      "Epoch 99: 100%|██████████| 79/79 [00:00<00:00, 169.62it/s, v_num=vofw]\n"
     ]
    },
    {
     "name": "stderr",
     "output_type": "stream",
     "text": [
      "/home/ganddalf/anaconda3/envs/dl/lib/python3.12/site-packages/lightning/pytorch/trainer/connectors/checkpoint_connector.py:145: `.test(ckpt_path=None)` was called without a model. The best model of the previous `fit` call will be used. You can pass `.test(ckpt_path='best')` to use the best model or `.test(ckpt_path='last')` to use the last model. If you pass a value, this warning will be silenced.\n",
      "Restoring states from the checkpoint path at ./lightning_logs/p9irvofw/checkpoints/epoch=99-step=7900.ckpt\n",
      "LOCAL_RANK: 0 - CUDA_VISIBLE_DEVICES: [0]\n",
      "Loaded model weights from the checkpoint at ./lightning_logs/p9irvofw/checkpoints/epoch=99-step=7900.ckpt\n"
     ]
    },
    {
     "name": "stdout",
     "output_type": "stream",
     "text": [
      "Testing DataLoader 0: 100%|██████████| 79/79 [00:04<00:00, 16.61it/s] \n",
      "────────────────────────────────────────────────────────────────────────────────────────────────────────────────────────\n",
      "       Test metric             DataLoader 0\n",
      "────────────────────────────────────────────────────────────────────────────────────────────────────────────────────────\n",
      "        AUC_FGSM            0.16740526258945465\n",
      "        AUC_Noise           0.3660525679588318\n",
      "        test_acc            0.6074000000953674\n",
      "────────────────────────────────────────────────────────────────────────────────────────────────────────────────────────\n"
     ]
    },
    {
     "data": {
      "text/html": [
       "<style>\n",
       "    table.wandb td:nth-child(1) { padding: 0 10px; text-align: left ; width: auto;} td:nth-child(2) {text-align: left ; width: 100%}\n",
       "    .wandb-row { display: flex; flex-direction: row; flex-wrap: wrap; justify-content: flex-start; width: 100% }\n",
       "    .wandb-col { display: flex; flex-direction: column; flex-basis: 100%; flex: 1; padding: 10px; }\n",
       "    </style>\n",
       "<div class=\"wandb-row\"><div class=\"wandb-col\"><h3>Run history:</h3><br/><table class=\"wandb\"><tr><td>AUC_FGSM</td><td>▁</td></tr><tr><td>AUC_Noise</td><td>▁</td></tr><tr><td>epoch</td><td>▁▁▁▁▂▂▂▂▂▃▃▃▃▃▃▄▄▄▄▄▅▅▅▅▅▅▆▆▆▆▆▇▇▇▇▇▇███</td></tr><tr><td>lr</td><td>▁</td></tr><tr><td>test_acc</td><td>▁</td></tr><tr><td>train_acc</td><td>▁▂▃▄▅▆▅▆▆███████████████████████████████</td></tr><tr><td>train_loss</td><td>█▇▆▅▄▃▄▃▃▂▁▁▁▁▁▁▁▁▁▁▁▁▁▁▁▁▁▁▁▁▁▁▁▁▁▁▁▁▁▁</td></tr><tr><td>trainer/global_step</td><td>▁▁▁▂▂▂▂▂▂▃▃▃▃▃▄▄▄▄▄▄▅▅▅▅▅▅▆▆▆▆▆▇▇▇▇▇▇███</td></tr></table><br/></div><div class=\"wandb-col\"><h3>Run summary:</h3><br/><table class=\"wandb\"><tr><td>AUC_FGSM</td><td>0.16741</td></tr><tr><td>AUC_Noise</td><td>0.36605</td></tr><tr><td>distillation_type</td><td>without</td></tr><tr><td>epoch</td><td>100</td></tr><tr><td>lr</td><td>0.1</td></tr><tr><td>model_name</td><td>tiny</td></tr><tr><td>optimizer</td><td>SGD</td></tr><tr><td>test_acc</td><td>0.6074</td></tr><tr><td>train_acc</td><td>1.0</td></tr><tr><td>train_loss</td><td>0.00067</td></tr><tr><td>trainer/global_step</td><td>7900</td></tr></table><br/></div></div>"
      ],
      "text/plain": [
       "<IPython.core.display.HTML object>"
      ]
     },
     "metadata": {},
     "output_type": "display_data"
    },
    {
     "data": {
      "text/html": [
       " View run <strong style=\"color:#cdcd00\">cosmic-brook-254</strong> at: <a href='https://wandb.ai/potapuch2001/Oleinik-BS-Thesis-code/runs/p9irvofw' target=\"_blank\">https://wandb.ai/potapuch2001/Oleinik-BS-Thesis-code/runs/p9irvofw</a><br/> View project at: <a href='https://wandb.ai/potapuch2001/Oleinik-BS-Thesis-code' target=\"_blank\">https://wandb.ai/potapuch2001/Oleinik-BS-Thesis-code</a><br/>Synced 6 W&B file(s), 2 media file(s), 2 artifact file(s) and 0 other file(s)"
      ],
      "text/plain": [
       "<IPython.core.display.HTML object>"
      ]
     },
     "metadata": {},
     "output_type": "display_data"
    },
    {
     "data": {
      "text/html": [
       "Find logs at: <code>./wandb/run-20240623_012107-p9irvofw/logs</code>"
      ],
      "text/plain": [
       "<IPython.core.display.HTML object>"
      ]
     },
     "metadata": {},
     "output_type": "display_data"
    },
    {
     "data": {
      "text/html": [
       "wandb version 0.17.2 is available!  To upgrade, please run:\n",
       " $ pip install wandb --upgrade"
      ],
      "text/plain": [
       "<IPython.core.display.HTML object>"
      ]
     },
     "metadata": {},
     "output_type": "display_data"
    },
    {
     "data": {
      "text/html": [
       "Tracking run with wandb version 0.16.6"
      ],
      "text/plain": [
       "<IPython.core.display.HTML object>"
      ]
     },
     "metadata": {},
     "output_type": "display_data"
    },
    {
     "data": {
      "text/html": [
       "Run data is saved locally in <code>/home/ganddalf/MIPT/Kafedra/Oleinik-BS-Thesis/code/wandb/run-20240623_012211-2pazj7ef</code>"
      ],
      "text/plain": [
       "<IPython.core.display.HTML object>"
      ]
     },
     "metadata": {},
     "output_type": "display_data"
    },
    {
     "data": {
      "text/html": [
       "Syncing run <strong><a href='https://wandb.ai/potapuch2001/Oleinik-BS-Thesis-code/runs/2pazj7ef' target=\"_blank\">decent-dream-255</a></strong> to <a href='https://wandb.ai/potapuch2001/Oleinik-BS-Thesis-code' target=\"_blank\">Weights & Biases</a> (<a href='https://wandb.me/run' target=\"_blank\">docs</a>)<br/>"
      ],
      "text/plain": [
       "<IPython.core.display.HTML object>"
      ]
     },
     "metadata": {},
     "output_type": "display_data"
    },
    {
     "data": {
      "text/html": [
       " View project at <a href='https://wandb.ai/potapuch2001/Oleinik-BS-Thesis-code' target=\"_blank\">https://wandb.ai/potapuch2001/Oleinik-BS-Thesis-code</a>"
      ],
      "text/plain": [
       "<IPython.core.display.HTML object>"
      ]
     },
     "metadata": {},
     "output_type": "display_data"
    },
    {
     "data": {
      "text/html": [
       " View run at <a href='https://wandb.ai/potapuch2001/Oleinik-BS-Thesis-code/runs/2pazj7ef' target=\"_blank\">https://wandb.ai/potapuch2001/Oleinik-BS-Thesis-code/runs/2pazj7ef</a>"
      ],
      "text/plain": [
       "<IPython.core.display.HTML object>"
      ]
     },
     "metadata": {},
     "output_type": "display_data"
    },
    {
     "name": "stderr",
     "output_type": "stream",
     "text": [
      "GPU available: True (cuda), used: True\n",
      "TPU available: False, using: 0 TPU cores\n",
      "IPU available: False, using: 0 IPUs\n",
      "HPU available: False, using: 0 HPUs\n",
      "/home/ganddalf/anaconda3/envs/dl/lib/python3.12/site-packages/lightning/pytorch/loggers/wandb.py:391: There is a wandb run already in progress and newly created instances of `WandbLogger` will reuse this run. If this is not desired, call `wandb.finish()` before instantiating `WandbLogger`.\n",
      "LOCAL_RANK: 0 - CUDA_VISIBLE_DEVICES: [0]\n",
      "\n",
      "  | Name  | Type             | Params\n",
      "-------------------------------------------\n",
      "0 | model | Cifar_Tiny       | 58.0 K\n",
      "1 | loss  | CrossEntropyLoss | 0     \n",
      "-------------------------------------------\n",
      "58.0 K    Trainable params\n",
      "0         Non-trainable params\n",
      "58.0 K    Total params\n",
      "0.232     Total estimated model params size (MB)\n"
     ]
    },
    {
     "name": "stdout",
     "output_type": "stream",
     "text": [
      "Epoch 99: 100%|██████████| 79/79 [00:00<00:00, 175.19it/s, v_num=j7ef]"
     ]
    },
    {
     "name": "stderr",
     "output_type": "stream",
     "text": [
      "`Trainer.fit` stopped: `max_epochs=100` reached.\n"
     ]
    },
    {
     "name": "stdout",
     "output_type": "stream",
     "text": [
      "Epoch 99: 100%|██████████| 79/79 [00:00<00:00, 173.37it/s, v_num=j7ef]\n"
     ]
    },
    {
     "name": "stderr",
     "output_type": "stream",
     "text": [
      "/home/ganddalf/anaconda3/envs/dl/lib/python3.12/site-packages/lightning/pytorch/trainer/connectors/checkpoint_connector.py:145: `.test(ckpt_path=None)` was called without a model. The best model of the previous `fit` call will be used. You can pass `.test(ckpt_path='best')` to use the best model or `.test(ckpt_path='last')` to use the last model. If you pass a value, this warning will be silenced.\n",
      "Restoring states from the checkpoint path at ./lightning_logs/2pazj7ef/checkpoints/epoch=99-step=7900.ckpt\n",
      "LOCAL_RANK: 0 - CUDA_VISIBLE_DEVICES: [0]\n",
      "Loaded model weights from the checkpoint at ./lightning_logs/2pazj7ef/checkpoints/epoch=99-step=7900.ckpt\n"
     ]
    },
    {
     "name": "stdout",
     "output_type": "stream",
     "text": [
      "Testing DataLoader 0: 100%|██████████| 79/79 [00:04<00:00, 16.46it/s] \n",
      "────────────────────────────────────────────────────────────────────────────────────────────────────────────────────────\n",
      "       Test metric             DataLoader 0\n",
      "────────────────────────────────────────────────────────────────────────────────────────────────────────────────────────\n",
      "        AUC_FGSM            0.16047368943691254\n",
      "        AUC_Noise           0.3550063967704773\n",
      "        test_acc            0.5929999947547913\n",
      "────────────────────────────────────────────────────────────────────────────────────────────────────────────────────────\n"
     ]
    },
    {
     "data": {
      "text/html": [
       "<style>\n",
       "    table.wandb td:nth-child(1) { padding: 0 10px; text-align: left ; width: auto;} td:nth-child(2) {text-align: left ; width: 100%}\n",
       "    .wandb-row { display: flex; flex-direction: row; flex-wrap: wrap; justify-content: flex-start; width: 100% }\n",
       "    .wandb-col { display: flex; flex-direction: column; flex-basis: 100%; flex: 1; padding: 10px; }\n",
       "    </style>\n",
       "<div class=\"wandb-row\"><div class=\"wandb-col\"><h3>Run history:</h3><br/><table class=\"wandb\"><tr><td>AUC_FGSM</td><td>▁</td></tr><tr><td>AUC_Noise</td><td>▁</td></tr><tr><td>epoch</td><td>▁▁▁▁▂▂▂▂▂▃▃▃▃▃▃▄▄▄▄▄▅▅▅▅▅▅▆▆▆▆▆▇▇▇▇▇▇███</td></tr><tr><td>lr</td><td>▁</td></tr><tr><td>test_acc</td><td>▁</td></tr><tr><td>train_acc</td><td>▁▂▃▅▅▆▆▆▇▇▆█████████████████████████████</td></tr><tr><td>train_loss</td><td>█▇▆▄▄▄▃▃▂▂▃▁▁▁▁▁▁▁▁▁▁▁▁▁▁▁▁▁▁▁▁▁▁▁▁▁▁▁▁▁</td></tr><tr><td>trainer/global_step</td><td>▁▁▁▂▂▂▂▂▂▃▃▃▃▃▄▄▄▄▄▄▅▅▅▅▅▅▆▆▆▆▆▇▇▇▇▇▇███</td></tr></table><br/></div><div class=\"wandb-col\"><h3>Run summary:</h3><br/><table class=\"wandb\"><tr><td>AUC_FGSM</td><td>0.16047</td></tr><tr><td>AUC_Noise</td><td>0.35501</td></tr><tr><td>distillation_type</td><td>without</td></tr><tr><td>epoch</td><td>100</td></tr><tr><td>lr</td><td>0.1</td></tr><tr><td>model_name</td><td>tiny</td></tr><tr><td>optimizer</td><td>SGD</td></tr><tr><td>test_acc</td><td>0.593</td></tr><tr><td>train_acc</td><td>1.0</td></tr><tr><td>train_loss</td><td>0.00079</td></tr><tr><td>trainer/global_step</td><td>7900</td></tr></table><br/></div></div>"
      ],
      "text/plain": [
       "<IPython.core.display.HTML object>"
      ]
     },
     "metadata": {},
     "output_type": "display_data"
    },
    {
     "data": {
      "text/html": [
       " View run <strong style=\"color:#cdcd00\">decent-dream-255</strong> at: <a href='https://wandb.ai/potapuch2001/Oleinik-BS-Thesis-code/runs/2pazj7ef' target=\"_blank\">https://wandb.ai/potapuch2001/Oleinik-BS-Thesis-code/runs/2pazj7ef</a><br/> View project at: <a href='https://wandb.ai/potapuch2001/Oleinik-BS-Thesis-code' target=\"_blank\">https://wandb.ai/potapuch2001/Oleinik-BS-Thesis-code</a><br/>Synced 6 W&B file(s), 2 media file(s), 2 artifact file(s) and 0 other file(s)"
      ],
      "text/plain": [
       "<IPython.core.display.HTML object>"
      ]
     },
     "metadata": {},
     "output_type": "display_data"
    },
    {
     "data": {
      "text/html": [
       "Find logs at: <code>./wandb/run-20240623_012211-2pazj7ef/logs</code>"
      ],
      "text/plain": [
       "<IPython.core.display.HTML object>"
      ]
     },
     "metadata": {},
     "output_type": "display_data"
    },
    {
     "data": {
      "text/html": [
       "wandb version 0.17.2 is available!  To upgrade, please run:\n",
       " $ pip install wandb --upgrade"
      ],
      "text/plain": [
       "<IPython.core.display.HTML object>"
      ]
     },
     "metadata": {},
     "output_type": "display_data"
    },
    {
     "data": {
      "text/html": [
       "Tracking run with wandb version 0.16.6"
      ],
      "text/plain": [
       "<IPython.core.display.HTML object>"
      ]
     },
     "metadata": {},
     "output_type": "display_data"
    },
    {
     "data": {
      "text/html": [
       "Run data is saved locally in <code>/home/ganddalf/MIPT/Kafedra/Oleinik-BS-Thesis/code/wandb/run-20240623_012315-6xs0fdjp</code>"
      ],
      "text/plain": [
       "<IPython.core.display.HTML object>"
      ]
     },
     "metadata": {},
     "output_type": "display_data"
    },
    {
     "data": {
      "text/html": [
       "Syncing run <strong><a href='https://wandb.ai/potapuch2001/Oleinik-BS-Thesis-code/runs/6xs0fdjp' target=\"_blank\">apricot-meadow-256</a></strong> to <a href='https://wandb.ai/potapuch2001/Oleinik-BS-Thesis-code' target=\"_blank\">Weights & Biases</a> (<a href='https://wandb.me/run' target=\"_blank\">docs</a>)<br/>"
      ],
      "text/plain": [
       "<IPython.core.display.HTML object>"
      ]
     },
     "metadata": {},
     "output_type": "display_data"
    },
    {
     "data": {
      "text/html": [
       " View project at <a href='https://wandb.ai/potapuch2001/Oleinik-BS-Thesis-code' target=\"_blank\">https://wandb.ai/potapuch2001/Oleinik-BS-Thesis-code</a>"
      ],
      "text/plain": [
       "<IPython.core.display.HTML object>"
      ]
     },
     "metadata": {},
     "output_type": "display_data"
    },
    {
     "data": {
      "text/html": [
       " View run at <a href='https://wandb.ai/potapuch2001/Oleinik-BS-Thesis-code/runs/6xs0fdjp' target=\"_blank\">https://wandb.ai/potapuch2001/Oleinik-BS-Thesis-code/runs/6xs0fdjp</a>"
      ],
      "text/plain": [
       "<IPython.core.display.HTML object>"
      ]
     },
     "metadata": {},
     "output_type": "display_data"
    },
    {
     "name": "stderr",
     "output_type": "stream",
     "text": [
      "GPU available: True (cuda), used: True\n",
      "TPU available: False, using: 0 TPU cores\n",
      "IPU available: False, using: 0 IPUs\n",
      "HPU available: False, using: 0 HPUs\n",
      "/home/ganddalf/anaconda3/envs/dl/lib/python3.12/site-packages/lightning/pytorch/loggers/wandb.py:391: There is a wandb run already in progress and newly created instances of `WandbLogger` will reuse this run. If this is not desired, call `wandb.finish()` before instantiating `WandbLogger`.\n",
      "LOCAL_RANK: 0 - CUDA_VISIBLE_DEVICES: [0]\n",
      "\n",
      "  | Name  | Type             | Params\n",
      "-------------------------------------------\n",
      "0 | model | Cifar_Tiny       | 58.0 K\n",
      "1 | loss  | CrossEntropyLoss | 0     \n",
      "-------------------------------------------\n",
      "58.0 K    Trainable params\n",
      "0         Non-trainable params\n",
      "58.0 K    Total params\n",
      "0.232     Total estimated model params size (MB)\n"
     ]
    },
    {
     "name": "stdout",
     "output_type": "stream",
     "text": [
      "Epoch 99: 100%|██████████| 79/79 [00:00<00:00, 175.56it/s, v_num=fdjp]"
     ]
    },
    {
     "name": "stderr",
     "output_type": "stream",
     "text": [
      "`Trainer.fit` stopped: `max_epochs=100` reached.\n"
     ]
    },
    {
     "name": "stdout",
     "output_type": "stream",
     "text": [
      "Epoch 99: 100%|██████████| 79/79 [00:00<00:00, 173.83it/s, v_num=fdjp]\n"
     ]
    },
    {
     "name": "stderr",
     "output_type": "stream",
     "text": [
      "/home/ganddalf/anaconda3/envs/dl/lib/python3.12/site-packages/lightning/pytorch/trainer/connectors/checkpoint_connector.py:145: `.test(ckpt_path=None)` was called without a model. The best model of the previous `fit` call will be used. You can pass `.test(ckpt_path='best')` to use the best model or `.test(ckpt_path='last')` to use the last model. If you pass a value, this warning will be silenced.\n",
      "Restoring states from the checkpoint path at ./lightning_logs/6xs0fdjp/checkpoints/epoch=99-step=7900.ckpt\n",
      "LOCAL_RANK: 0 - CUDA_VISIBLE_DEVICES: [0]\n",
      "Loaded model weights from the checkpoint at ./lightning_logs/6xs0fdjp/checkpoints/epoch=99-step=7900.ckpt\n"
     ]
    },
    {
     "name": "stdout",
     "output_type": "stream",
     "text": [
      "Testing DataLoader 0: 100%|██████████| 79/79 [00:04<00:00, 16.36it/s] \n",
      "────────────────────────────────────────────────────────────────────────────────────────────────────────────────────────\n",
      "       Test metric             DataLoader 0\n",
      "────────────────────────────────────────────────────────────────────────────────────────────────────────────────────────\n",
      "        AUC_FGSM            0.17489999532699585\n",
      "        AUC_Noise           0.3654717803001404\n",
      "        test_acc             0.607200026512146\n",
      "────────────────────────────────────────────────────────────────────────────────────────────────────────────────────────\n"
     ]
    },
    {
     "data": {
      "text/html": [
       "<style>\n",
       "    table.wandb td:nth-child(1) { padding: 0 10px; text-align: left ; width: auto;} td:nth-child(2) {text-align: left ; width: 100%}\n",
       "    .wandb-row { display: flex; flex-direction: row; flex-wrap: wrap; justify-content: flex-start; width: 100% }\n",
       "    .wandb-col { display: flex; flex-direction: column; flex-basis: 100%; flex: 1; padding: 10px; }\n",
       "    </style>\n",
       "<div class=\"wandb-row\"><div class=\"wandb-col\"><h3>Run history:</h3><br/><table class=\"wandb\"><tr><td>AUC_FGSM</td><td>▁</td></tr><tr><td>AUC_Noise</td><td>▁</td></tr><tr><td>epoch</td><td>▁▁▁▁▂▂▂▂▂▃▃▃▃▃▃▄▄▄▄▄▅▅▅▅▅▅▆▆▆▆▆▇▇▇▇▇▇███</td></tr><tr><td>lr</td><td>▁</td></tr><tr><td>test_acc</td><td>▁</td></tr><tr><td>train_acc</td><td>▁▃▃▅▅▆▅▆▆█▇█████████████████████████████</td></tr><tr><td>train_loss</td><td>█▇▆▄▄▃▃▃▂▂▂▁▁▁▁▁▁▁▁▁▁▁▁▁▁▁▁▁▁▁▁▁▁▁▁▁▁▁▁▁</td></tr><tr><td>trainer/global_step</td><td>▁▁▁▂▂▂▂▂▂▃▃▃▃▃▄▄▄▄▄▄▅▅▅▅▅▅▆▆▆▆▆▇▇▇▇▇▇███</td></tr></table><br/></div><div class=\"wandb-col\"><h3>Run summary:</h3><br/><table class=\"wandb\"><tr><td>AUC_FGSM</td><td>0.1749</td></tr><tr><td>AUC_Noise</td><td>0.36547</td></tr><tr><td>distillation_type</td><td>without</td></tr><tr><td>epoch</td><td>100</td></tr><tr><td>lr</td><td>0.1</td></tr><tr><td>model_name</td><td>tiny</td></tr><tr><td>optimizer</td><td>SGD</td></tr><tr><td>test_acc</td><td>0.6072</td></tr><tr><td>train_acc</td><td>1.0</td></tr><tr><td>train_loss</td><td>0.00063</td></tr><tr><td>trainer/global_step</td><td>7900</td></tr></table><br/></div></div>"
      ],
      "text/plain": [
       "<IPython.core.display.HTML object>"
      ]
     },
     "metadata": {},
     "output_type": "display_data"
    },
    {
     "data": {
      "text/html": [
       " View run <strong style=\"color:#cdcd00\">apricot-meadow-256</strong> at: <a href='https://wandb.ai/potapuch2001/Oleinik-BS-Thesis-code/runs/6xs0fdjp' target=\"_blank\">https://wandb.ai/potapuch2001/Oleinik-BS-Thesis-code/runs/6xs0fdjp</a><br/> View project at: <a href='https://wandb.ai/potapuch2001/Oleinik-BS-Thesis-code' target=\"_blank\">https://wandb.ai/potapuch2001/Oleinik-BS-Thesis-code</a><br/>Synced 6 W&B file(s), 2 media file(s), 2 artifact file(s) and 0 other file(s)"
      ],
      "text/plain": [
       "<IPython.core.display.HTML object>"
      ]
     },
     "metadata": {},
     "output_type": "display_data"
    },
    {
     "data": {
      "text/html": [
       "Find logs at: <code>./wandb/run-20240623_012315-6xs0fdjp/logs</code>"
      ],
      "text/plain": [
       "<IPython.core.display.HTML object>"
      ]
     },
     "metadata": {},
     "output_type": "display_data"
    },
    {
     "data": {
      "text/html": [
       "wandb version 0.17.2 is available!  To upgrade, please run:\n",
       " $ pip install wandb --upgrade"
      ],
      "text/plain": [
       "<IPython.core.display.HTML object>"
      ]
     },
     "metadata": {},
     "output_type": "display_data"
    },
    {
     "data": {
      "text/html": [
       "Tracking run with wandb version 0.16.6"
      ],
      "text/plain": [
       "<IPython.core.display.HTML object>"
      ]
     },
     "metadata": {},
     "output_type": "display_data"
    },
    {
     "data": {
      "text/html": [
       "Run data is saved locally in <code>/home/ganddalf/MIPT/Kafedra/Oleinik-BS-Thesis/code/wandb/run-20240623_012419-ty8fr65b</code>"
      ],
      "text/plain": [
       "<IPython.core.display.HTML object>"
      ]
     },
     "metadata": {},
     "output_type": "display_data"
    },
    {
     "data": {
      "text/html": [
       "Syncing run <strong><a href='https://wandb.ai/potapuch2001/Oleinik-BS-Thesis-code/runs/ty8fr65b' target=\"_blank\">crimson-dragon-257</a></strong> to <a href='https://wandb.ai/potapuch2001/Oleinik-BS-Thesis-code' target=\"_blank\">Weights & Biases</a> (<a href='https://wandb.me/run' target=\"_blank\">docs</a>)<br/>"
      ],
      "text/plain": [
       "<IPython.core.display.HTML object>"
      ]
     },
     "metadata": {},
     "output_type": "display_data"
    },
    {
     "data": {
      "text/html": [
       " View project at <a href='https://wandb.ai/potapuch2001/Oleinik-BS-Thesis-code' target=\"_blank\">https://wandb.ai/potapuch2001/Oleinik-BS-Thesis-code</a>"
      ],
      "text/plain": [
       "<IPython.core.display.HTML object>"
      ]
     },
     "metadata": {},
     "output_type": "display_data"
    },
    {
     "data": {
      "text/html": [
       " View run at <a href='https://wandb.ai/potapuch2001/Oleinik-BS-Thesis-code/runs/ty8fr65b' target=\"_blank\">https://wandb.ai/potapuch2001/Oleinik-BS-Thesis-code/runs/ty8fr65b</a>"
      ],
      "text/plain": [
       "<IPython.core.display.HTML object>"
      ]
     },
     "metadata": {},
     "output_type": "display_data"
    },
    {
     "name": "stderr",
     "output_type": "stream",
     "text": [
      "GPU available: True (cuda), used: True\n",
      "TPU available: False, using: 0 TPU cores\n",
      "IPU available: False, using: 0 IPUs\n",
      "HPU available: False, using: 0 HPUs\n",
      "/home/ganddalf/anaconda3/envs/dl/lib/python3.12/site-packages/lightning/pytorch/loggers/wandb.py:391: There is a wandb run already in progress and newly created instances of `WandbLogger` will reuse this run. If this is not desired, call `wandb.finish()` before instantiating `WandbLogger`.\n",
      "LOCAL_RANK: 0 - CUDA_VISIBLE_DEVICES: [0]\n",
      "\n",
      "  | Name  | Type             | Params\n",
      "-------------------------------------------\n",
      "0 | model | Cifar_Tiny       | 58.0 K\n",
      "1 | loss  | CrossEntropyLoss | 0     \n",
      "-------------------------------------------\n",
      "58.0 K    Trainable params\n",
      "0         Non-trainable params\n",
      "58.0 K    Total params\n",
      "0.232     Total estimated model params size (MB)\n"
     ]
    },
    {
     "name": "stdout",
     "output_type": "stream",
     "text": [
      "Epoch 99: 100%|██████████| 79/79 [00:00<00:00, 168.09it/s, v_num=r65b]"
     ]
    },
    {
     "name": "stderr",
     "output_type": "stream",
     "text": [
      "`Trainer.fit` stopped: `max_epochs=100` reached.\n"
     ]
    },
    {
     "name": "stdout",
     "output_type": "stream",
     "text": [
      "Epoch 99: 100%|██████████| 79/79 [00:00<00:00, 166.41it/s, v_num=r65b]\n"
     ]
    },
    {
     "name": "stderr",
     "output_type": "stream",
     "text": [
      "/home/ganddalf/anaconda3/envs/dl/lib/python3.12/site-packages/lightning/pytorch/trainer/connectors/checkpoint_connector.py:145: `.test(ckpt_path=None)` was called without a model. The best model of the previous `fit` call will be used. You can pass `.test(ckpt_path='best')` to use the best model or `.test(ckpt_path='last')` to use the last model. If you pass a value, this warning will be silenced.\n",
      "Restoring states from the checkpoint path at ./lightning_logs/ty8fr65b/checkpoints/epoch=99-step=7900.ckpt\n",
      "LOCAL_RANK: 0 - CUDA_VISIBLE_DEVICES: [0]\n",
      "Loaded model weights from the checkpoint at ./lightning_logs/ty8fr65b/checkpoints/epoch=99-step=7900.ckpt\n"
     ]
    },
    {
     "name": "stdout",
     "output_type": "stream",
     "text": [
      "Testing DataLoader 0: 100%|██████████| 79/79 [00:04<00:00, 16.46it/s] \n",
      "────────────────────────────────────────────────────────────────────────────────────────────────────────────────────────\n",
      "       Test metric             DataLoader 0\n",
      "────────────────────────────────────────────────────────────────────────────────────────────────────────────────────────\n",
      "        AUC_FGSM            0.16065789759159088\n",
      "        AUC_Noise           0.37256667017936707\n",
      "        test_acc            0.5934000015258789\n",
      "────────────────────────────────────────────────────────────────────────────────────────────────────────────────────────\n"
     ]
    },
    {
     "data": {
      "text/html": [
       "<style>\n",
       "    table.wandb td:nth-child(1) { padding: 0 10px; text-align: left ; width: auto;} td:nth-child(2) {text-align: left ; width: 100%}\n",
       "    .wandb-row { display: flex; flex-direction: row; flex-wrap: wrap; justify-content: flex-start; width: 100% }\n",
       "    .wandb-col { display: flex; flex-direction: column; flex-basis: 100%; flex: 1; padding: 10px; }\n",
       "    </style>\n",
       "<div class=\"wandb-row\"><div class=\"wandb-col\"><h3>Run history:</h3><br/><table class=\"wandb\"><tr><td>AUC_FGSM</td><td>▁</td></tr><tr><td>AUC_Noise</td><td>▁</td></tr><tr><td>epoch</td><td>▁▁▁▁▂▂▂▂▂▃▃▃▃▃▃▄▄▄▄▄▅▅▅▅▅▅▆▆▆▆▆▇▇▇▇▇▇███</td></tr><tr><td>lr</td><td>▁</td></tr><tr><td>test_acc</td><td>▁</td></tr><tr><td>train_acc</td><td>▁▂▃▅▅▆▆▆▆▇▇█████████████████████████████</td></tr><tr><td>train_loss</td><td>█▇▆▄▄▄▃▃▃▂▂▁▁▁▁▁▁▁▁▁▁▁▁▁▁▁▁▁▁▁▁▁▁▁▁▁▁▁▁▁</td></tr><tr><td>trainer/global_step</td><td>▁▁▁▂▂▂▂▂▂▃▃▃▃▃▄▄▄▄▄▄▅▅▅▅▅▅▆▆▆▆▆▇▇▇▇▇▇███</td></tr></table><br/></div><div class=\"wandb-col\"><h3>Run summary:</h3><br/><table class=\"wandb\"><tr><td>AUC_FGSM</td><td>0.16066</td></tr><tr><td>AUC_Noise</td><td>0.37257</td></tr><tr><td>distillation_type</td><td>without</td></tr><tr><td>epoch</td><td>100</td></tr><tr><td>lr</td><td>0.1</td></tr><tr><td>model_name</td><td>tiny</td></tr><tr><td>optimizer</td><td>SGD</td></tr><tr><td>test_acc</td><td>0.5934</td></tr><tr><td>train_acc</td><td>1.0</td></tr><tr><td>train_loss</td><td>0.00077</td></tr><tr><td>trainer/global_step</td><td>7900</td></tr></table><br/></div></div>"
      ],
      "text/plain": [
       "<IPython.core.display.HTML object>"
      ]
     },
     "metadata": {},
     "output_type": "display_data"
    },
    {
     "data": {
      "text/html": [
       " View run <strong style=\"color:#cdcd00\">crimson-dragon-257</strong> at: <a href='https://wandb.ai/potapuch2001/Oleinik-BS-Thesis-code/runs/ty8fr65b' target=\"_blank\">https://wandb.ai/potapuch2001/Oleinik-BS-Thesis-code/runs/ty8fr65b</a><br/> View project at: <a href='https://wandb.ai/potapuch2001/Oleinik-BS-Thesis-code' target=\"_blank\">https://wandb.ai/potapuch2001/Oleinik-BS-Thesis-code</a><br/>Synced 6 W&B file(s), 2 media file(s), 2 artifact file(s) and 0 other file(s)"
      ],
      "text/plain": [
       "<IPython.core.display.HTML object>"
      ]
     },
     "metadata": {},
     "output_type": "display_data"
    },
    {
     "data": {
      "text/html": [
       "Find logs at: <code>./wandb/run-20240623_012419-ty8fr65b/logs</code>"
      ],
      "text/plain": [
       "<IPython.core.display.HTML object>"
      ]
     },
     "metadata": {},
     "output_type": "display_data"
    }
   ],
   "source": [
    "for _ in range(5):\n",
    "    with wandb.init() as run:\n",
    "        wandb.log({\n",
    "            \"model_name\": \"tiny\",\n",
    "            \"distillation_type\": \"without\",\n",
    "        })\n",
    "        model = Base_Model(Cifar_Tiny(10))\n",
    "        trainer = L.Trainer(max_epochs=100, logger=WandbLogger(), inference_mode=False)\n",
    "        trainer.fit(model=model, train_dataloaders=train_loader)\n",
    "        trainer.test(dataloaders=test_loader)"
   ]
  },
  {
   "cell_type": "markdown",
   "metadata": {},
   "source": [
    "### Модель VeryTiny"
   ]
  },
  {
   "cell_type": "code",
   "execution_count": 4,
   "metadata": {},
   "outputs": [
    {
     "data": {
      "text/html": [
       "wandb version 0.17.2 is available!  To upgrade, please run:\n",
       " $ pip install wandb --upgrade"
      ],
      "text/plain": [
       "<IPython.core.display.HTML object>"
      ]
     },
     "metadata": {},
     "output_type": "display_data"
    },
    {
     "data": {
      "text/html": [
       "Tracking run with wandb version 0.16.6"
      ],
      "text/plain": [
       "<IPython.core.display.HTML object>"
      ]
     },
     "metadata": {},
     "output_type": "display_data"
    },
    {
     "data": {
      "text/html": [
       "Run data is saved locally in <code>/home/ganddalf/MIPT/Kafedra/Oleinik-BS-Thesis/code/wandb/run-20240623_012523-jm7w1oqf</code>"
      ],
      "text/plain": [
       "<IPython.core.display.HTML object>"
      ]
     },
     "metadata": {},
     "output_type": "display_data"
    },
    {
     "data": {
      "text/html": [
       "Syncing run <strong><a href='https://wandb.ai/potapuch2001/Oleinik-BS-Thesis-code/runs/jm7w1oqf' target=\"_blank\">rural-glade-258</a></strong> to <a href='https://wandb.ai/potapuch2001/Oleinik-BS-Thesis-code' target=\"_blank\">Weights & Biases</a> (<a href='https://wandb.me/run' target=\"_blank\">docs</a>)<br/>"
      ],
      "text/plain": [
       "<IPython.core.display.HTML object>"
      ]
     },
     "metadata": {},
     "output_type": "display_data"
    },
    {
     "data": {
      "text/html": [
       " View project at <a href='https://wandb.ai/potapuch2001/Oleinik-BS-Thesis-code' target=\"_blank\">https://wandb.ai/potapuch2001/Oleinik-BS-Thesis-code</a>"
      ],
      "text/plain": [
       "<IPython.core.display.HTML object>"
      ]
     },
     "metadata": {},
     "output_type": "display_data"
    },
    {
     "data": {
      "text/html": [
       " View run at <a href='https://wandb.ai/potapuch2001/Oleinik-BS-Thesis-code/runs/jm7w1oqf' target=\"_blank\">https://wandb.ai/potapuch2001/Oleinik-BS-Thesis-code/runs/jm7w1oqf</a>"
      ],
      "text/plain": [
       "<IPython.core.display.HTML object>"
      ]
     },
     "metadata": {},
     "output_type": "display_data"
    },
    {
     "name": "stderr",
     "output_type": "stream",
     "text": [
      "GPU available: True (cuda), used: True\n",
      "TPU available: False, using: 0 TPU cores\n",
      "IPU available: False, using: 0 IPUs\n",
      "HPU available: False, using: 0 HPUs\n",
      "/home/ganddalf/anaconda3/envs/dl/lib/python3.12/site-packages/lightning/pytorch/loggers/wandb.py:391: There is a wandb run already in progress and newly created instances of `WandbLogger` will reuse this run. If this is not desired, call `wandb.finish()` before instantiating `WandbLogger`.\n",
      "LOCAL_RANK: 0 - CUDA_VISIBLE_DEVICES: [0]\n",
      "\n",
      "  | Name  | Type             | Params\n",
      "-------------------------------------------\n",
      "0 | model | Cifar_Very_Tiny  | 15.1 K\n",
      "1 | loss  | CrossEntropyLoss | 0     \n",
      "-------------------------------------------\n",
      "15.1 K    Trainable params\n",
      "0         Non-trainable params\n",
      "15.1 K    Total params\n",
      "0.060     Total estimated model params size (MB)\n"
     ]
    },
    {
     "name": "stdout",
     "output_type": "stream",
     "text": [
      "Epoch 99: 100%|██████████| 79/79 [00:00<00:00, 177.18it/s, v_num=1oqf]"
     ]
    },
    {
     "name": "stderr",
     "output_type": "stream",
     "text": [
      "`Trainer.fit` stopped: `max_epochs=100` reached.\n"
     ]
    },
    {
     "name": "stdout",
     "output_type": "stream",
     "text": [
      "Epoch 99: 100%|██████████| 79/79 [00:00<00:00, 175.52it/s, v_num=1oqf]\n"
     ]
    },
    {
     "name": "stderr",
     "output_type": "stream",
     "text": [
      "/home/ganddalf/anaconda3/envs/dl/lib/python3.12/site-packages/lightning/pytorch/trainer/connectors/checkpoint_connector.py:145: `.test(ckpt_path=None)` was called without a model. The best model of the previous `fit` call will be used. You can pass `.test(ckpt_path='best')` to use the best model or `.test(ckpt_path='last')` to use the last model. If you pass a value, this warning will be silenced.\n",
      "Restoring states from the checkpoint path at ./lightning_logs/jm7w1oqf/checkpoints/epoch=99-step=7900.ckpt\n",
      "LOCAL_RANK: 0 - CUDA_VISIBLE_DEVICES: [0]\n",
      "Loaded model weights from the checkpoint at ./lightning_logs/jm7w1oqf/checkpoints/epoch=99-step=7900.ckpt\n"
     ]
    },
    {
     "name": "stdout",
     "output_type": "stream",
     "text": [
      "Testing DataLoader 0: 100%|██████████| 79/79 [00:04<00:00, 16.90it/s] \n",
      "────────────────────────────────────────────────────────────────────────────────────────────────────────────────────────\n",
      "       Test metric             DataLoader 0\n",
      "────────────────────────────────────────────────────────────────────────────────────────────────────────────────────────\n",
      "        AUC_FGSM            0.14324736595153809\n",
      "        AUC_Noise           0.4344487190246582\n",
      "        test_acc            0.5281999707221985\n",
      "────────────────────────────────────────────────────────────────────────────────────────────────────────────────────────\n"
     ]
    },
    {
     "data": {
      "text/html": [
       "<style>\n",
       "    table.wandb td:nth-child(1) { padding: 0 10px; text-align: left ; width: auto;} td:nth-child(2) {text-align: left ; width: 100%}\n",
       "    .wandb-row { display: flex; flex-direction: row; flex-wrap: wrap; justify-content: flex-start; width: 100% }\n",
       "    .wandb-col { display: flex; flex-direction: column; flex-basis: 100%; flex: 1; padding: 10px; }\n",
       "    </style>\n",
       "<div class=\"wandb-row\"><div class=\"wandb-col\"><h3>Run history:</h3><br/><table class=\"wandb\"><tr><td>AUC_FGSM</td><td>▁</td></tr><tr><td>AUC_Noise</td><td>▁</td></tr><tr><td>epoch</td><td>▁▁▁▁▂▂▂▂▂▃▃▃▃▃▃▄▄▄▄▄▅▅▅▅▅▅▆▆▆▆▆▇▇▇▇▇▇███</td></tr><tr><td>lr</td><td>▁</td></tr><tr><td>test_acc</td><td>▁</td></tr><tr><td>train_acc</td><td>▁▂▄▄▃▅▄▅▄▅▅▆▆▆▆▆▆▆▇▇▆▇▇▆▆▇▇▇▇▇▇██▇▇█████</td></tr><tr><td>train_loss</td><td>█▇▆▆▅▄▅▄▄▃▄▄▃▃▃▃▃▃▂▂▃▂▂▃▃▂▂▂▂▂▂▁▁▂▂▁▁▁▁▁</td></tr><tr><td>trainer/global_step</td><td>▁▁▁▂▂▂▂▂▂▃▃▃▃▃▄▄▄▄▄▄▅▅▅▅▅▅▆▆▆▆▆▇▇▇▇▇▇███</td></tr></table><br/></div><div class=\"wandb-col\"><h3>Run summary:</h3><br/><table class=\"wandb\"><tr><td>AUC_FGSM</td><td>0.14325</td></tr><tr><td>AUC_Noise</td><td>0.43445</td></tr><tr><td>distillation_type</td><td>without</td></tr><tr><td>epoch</td><td>100</td></tr><tr><td>lr</td><td>0.1</td></tr><tr><td>model_name</td><td>very_tiny</td></tr><tr><td>optimizer</td><td>SGD</td></tr><tr><td>test_acc</td><td>0.5282</td></tr><tr><td>train_acc</td><td>1.0</td></tr><tr><td>train_loss</td><td>0.02604</td></tr><tr><td>trainer/global_step</td><td>7900</td></tr></table><br/></div></div>"
      ],
      "text/plain": [
       "<IPython.core.display.HTML object>"
      ]
     },
     "metadata": {},
     "output_type": "display_data"
    },
    {
     "data": {
      "text/html": [
       " View run <strong style=\"color:#cdcd00\">rural-glade-258</strong> at: <a href='https://wandb.ai/potapuch2001/Oleinik-BS-Thesis-code/runs/jm7w1oqf' target=\"_blank\">https://wandb.ai/potapuch2001/Oleinik-BS-Thesis-code/runs/jm7w1oqf</a><br/> View project at: <a href='https://wandb.ai/potapuch2001/Oleinik-BS-Thesis-code' target=\"_blank\">https://wandb.ai/potapuch2001/Oleinik-BS-Thesis-code</a><br/>Synced 6 W&B file(s), 2 media file(s), 2 artifact file(s) and 0 other file(s)"
      ],
      "text/plain": [
       "<IPython.core.display.HTML object>"
      ]
     },
     "metadata": {},
     "output_type": "display_data"
    },
    {
     "data": {
      "text/html": [
       "Find logs at: <code>./wandb/run-20240623_012523-jm7w1oqf/logs</code>"
      ],
      "text/plain": [
       "<IPython.core.display.HTML object>"
      ]
     },
     "metadata": {},
     "output_type": "display_data"
    },
    {
     "data": {
      "text/html": [
       "wandb version 0.17.2 is available!  To upgrade, please run:\n",
       " $ pip install wandb --upgrade"
      ],
      "text/plain": [
       "<IPython.core.display.HTML object>"
      ]
     },
     "metadata": {},
     "output_type": "display_data"
    },
    {
     "data": {
      "text/html": [
       "Tracking run with wandb version 0.16.6"
      ],
      "text/plain": [
       "<IPython.core.display.HTML object>"
      ]
     },
     "metadata": {},
     "output_type": "display_data"
    },
    {
     "data": {
      "text/html": [
       "Run data is saved locally in <code>/home/ganddalf/MIPT/Kafedra/Oleinik-BS-Thesis/code/wandb/run-20240623_012625-vg56lbmu</code>"
      ],
      "text/plain": [
       "<IPython.core.display.HTML object>"
      ]
     },
     "metadata": {},
     "output_type": "display_data"
    },
    {
     "data": {
      "text/html": [
       "Syncing run <strong><a href='https://wandb.ai/potapuch2001/Oleinik-BS-Thesis-code/runs/vg56lbmu' target=\"_blank\">glowing-night-259</a></strong> to <a href='https://wandb.ai/potapuch2001/Oleinik-BS-Thesis-code' target=\"_blank\">Weights & Biases</a> (<a href='https://wandb.me/run' target=\"_blank\">docs</a>)<br/>"
      ],
      "text/plain": [
       "<IPython.core.display.HTML object>"
      ]
     },
     "metadata": {},
     "output_type": "display_data"
    },
    {
     "data": {
      "text/html": [
       " View project at <a href='https://wandb.ai/potapuch2001/Oleinik-BS-Thesis-code' target=\"_blank\">https://wandb.ai/potapuch2001/Oleinik-BS-Thesis-code</a>"
      ],
      "text/plain": [
       "<IPython.core.display.HTML object>"
      ]
     },
     "metadata": {},
     "output_type": "display_data"
    },
    {
     "data": {
      "text/html": [
       " View run at <a href='https://wandb.ai/potapuch2001/Oleinik-BS-Thesis-code/runs/vg56lbmu' target=\"_blank\">https://wandb.ai/potapuch2001/Oleinik-BS-Thesis-code/runs/vg56lbmu</a>"
      ],
      "text/plain": [
       "<IPython.core.display.HTML object>"
      ]
     },
     "metadata": {},
     "output_type": "display_data"
    },
    {
     "name": "stderr",
     "output_type": "stream",
     "text": [
      "GPU available: True (cuda), used: True\n",
      "TPU available: False, using: 0 TPU cores\n",
      "IPU available: False, using: 0 IPUs\n",
      "HPU available: False, using: 0 HPUs\n",
      "/home/ganddalf/anaconda3/envs/dl/lib/python3.12/site-packages/lightning/pytorch/loggers/wandb.py:391: There is a wandb run already in progress and newly created instances of `WandbLogger` will reuse this run. If this is not desired, call `wandb.finish()` before instantiating `WandbLogger`.\n",
      "LOCAL_RANK: 0 - CUDA_VISIBLE_DEVICES: [0]\n",
      "\n",
      "  | Name  | Type             | Params\n",
      "-------------------------------------------\n",
      "0 | model | Cifar_Very_Tiny  | 15.1 K\n",
      "1 | loss  | CrossEntropyLoss | 0     \n",
      "-------------------------------------------\n",
      "15.1 K    Trainable params\n",
      "0         Non-trainable params\n",
      "15.1 K    Total params\n",
      "0.060     Total estimated model params size (MB)\n"
     ]
    },
    {
     "name": "stdout",
     "output_type": "stream",
     "text": [
      "Epoch 99: 100%|██████████| 79/79 [00:00<00:00, 173.30it/s, v_num=lbmu]"
     ]
    },
    {
     "name": "stderr",
     "output_type": "stream",
     "text": [
      "`Trainer.fit` stopped: `max_epochs=100` reached.\n"
     ]
    },
    {
     "name": "stdout",
     "output_type": "stream",
     "text": [
      "Epoch 99: 100%|██████████| 79/79 [00:00<00:00, 171.80it/s, v_num=lbmu]\n"
     ]
    },
    {
     "name": "stderr",
     "output_type": "stream",
     "text": [
      "/home/ganddalf/anaconda3/envs/dl/lib/python3.12/site-packages/lightning/pytorch/trainer/connectors/checkpoint_connector.py:145: `.test(ckpt_path=None)` was called without a model. The best model of the previous `fit` call will be used. You can pass `.test(ckpt_path='best')` to use the best model or `.test(ckpt_path='last')` to use the last model. If you pass a value, this warning will be silenced.\n",
      "Restoring states from the checkpoint path at ./lightning_logs/vg56lbmu/checkpoints/epoch=99-step=7900.ckpt\n",
      "LOCAL_RANK: 0 - CUDA_VISIBLE_DEVICES: [0]\n",
      "Loaded model weights from the checkpoint at ./lightning_logs/vg56lbmu/checkpoints/epoch=99-step=7900.ckpt\n"
     ]
    },
    {
     "name": "stdout",
     "output_type": "stream",
     "text": [
      "Testing DataLoader 0: 100%|██████████| 79/79 [00:04<00:00, 17.99it/s]  \n",
      "────────────────────────────────────────────────────────────────────────────────────────────────────────────────────────\n",
      "       Test metric             DataLoader 0\n",
      "────────────────────────────────────────────────────────────────────────────────────────────────────────────────────────\n",
      "        AUC_FGSM            0.11100263148546219\n",
      "        AUC_Noise           0.4324948787689209\n",
      "        test_acc            0.5238000154495239\n",
      "────────────────────────────────────────────────────────────────────────────────────────────────────────────────────────\n"
     ]
    },
    {
     "data": {
      "text/html": [
       "<style>\n",
       "    table.wandb td:nth-child(1) { padding: 0 10px; text-align: left ; width: auto;} td:nth-child(2) {text-align: left ; width: 100%}\n",
       "    .wandb-row { display: flex; flex-direction: row; flex-wrap: wrap; justify-content: flex-start; width: 100% }\n",
       "    .wandb-col { display: flex; flex-direction: column; flex-basis: 100%; flex: 1; padding: 10px; }\n",
       "    </style>\n",
       "<div class=\"wandb-row\"><div class=\"wandb-col\"><h3>Run history:</h3><br/><table class=\"wandb\"><tr><td>AUC_FGSM</td><td>▁</td></tr><tr><td>AUC_Noise</td><td>▁</td></tr><tr><td>epoch</td><td>▁▁▁▁▂▂▂▂▂▃▃▃▃▃▃▄▄▄▄▄▅▅▅▅▅▅▆▆▆▆▆▇▇▇▇▇▇███</td></tr><tr><td>lr</td><td>▁</td></tr><tr><td>test_acc</td><td>▁</td></tr><tr><td>train_acc</td><td>▁▂▃▄▄▅▅▅▄▆▆▅▆▆▆▆▆▆▇▇▆▇▆▇▇▆▇▇▇▇██▇▇▇▇▇███</td></tr><tr><td>train_loss</td><td>█▇▆▅▅▄▅▄▅▄▄▄▄▃▄▃▃▃▂▂▃▂▃▂▂▃▂▂▂▂▁▁▂▂▁▂▂▁▁▁</td></tr><tr><td>trainer/global_step</td><td>▁▁▁▂▂▂▂▂▂▃▃▃▃▃▄▄▄▄▄▄▅▅▅▅▅▅▆▆▆▆▆▇▇▇▇▇▇███</td></tr></table><br/></div><div class=\"wandb-col\"><h3>Run summary:</h3><br/><table class=\"wandb\"><tr><td>AUC_FGSM</td><td>0.111</td></tr><tr><td>AUC_Noise</td><td>0.43249</td></tr><tr><td>distillation_type</td><td>without</td></tr><tr><td>epoch</td><td>100</td></tr><tr><td>lr</td><td>0.1</td></tr><tr><td>model_name</td><td>very_tiny</td></tr><tr><td>optimizer</td><td>SGD</td></tr><tr><td>test_acc</td><td>0.5238</td></tr><tr><td>train_acc</td><td>1.0</td></tr><tr><td>train_loss</td><td>0.03183</td></tr><tr><td>trainer/global_step</td><td>7900</td></tr></table><br/></div></div>"
      ],
      "text/plain": [
       "<IPython.core.display.HTML object>"
      ]
     },
     "metadata": {},
     "output_type": "display_data"
    },
    {
     "data": {
      "text/html": [
       " View run <strong style=\"color:#cdcd00\">glowing-night-259</strong> at: <a href='https://wandb.ai/potapuch2001/Oleinik-BS-Thesis-code/runs/vg56lbmu' target=\"_blank\">https://wandb.ai/potapuch2001/Oleinik-BS-Thesis-code/runs/vg56lbmu</a><br/> View project at: <a href='https://wandb.ai/potapuch2001/Oleinik-BS-Thesis-code' target=\"_blank\">https://wandb.ai/potapuch2001/Oleinik-BS-Thesis-code</a><br/>Synced 6 W&B file(s), 2 media file(s), 2 artifact file(s) and 0 other file(s)"
      ],
      "text/plain": [
       "<IPython.core.display.HTML object>"
      ]
     },
     "metadata": {},
     "output_type": "display_data"
    },
    {
     "data": {
      "text/html": [
       "Find logs at: <code>./wandb/run-20240623_012625-vg56lbmu/logs</code>"
      ],
      "text/plain": [
       "<IPython.core.display.HTML object>"
      ]
     },
     "metadata": {},
     "output_type": "display_data"
    },
    {
     "data": {
      "text/html": [
       "wandb version 0.17.2 is available!  To upgrade, please run:\n",
       " $ pip install wandb --upgrade"
      ],
      "text/plain": [
       "<IPython.core.display.HTML object>"
      ]
     },
     "metadata": {},
     "output_type": "display_data"
    },
    {
     "data": {
      "text/html": [
       "Tracking run with wandb version 0.16.6"
      ],
      "text/plain": [
       "<IPython.core.display.HTML object>"
      ]
     },
     "metadata": {},
     "output_type": "display_data"
    },
    {
     "data": {
      "text/html": [
       "Run data is saved locally in <code>/home/ganddalf/MIPT/Kafedra/Oleinik-BS-Thesis/code/wandb/run-20240623_012729-5qptnb50</code>"
      ],
      "text/plain": [
       "<IPython.core.display.HTML object>"
      ]
     },
     "metadata": {},
     "output_type": "display_data"
    },
    {
     "data": {
      "text/html": [
       "Syncing run <strong><a href='https://wandb.ai/potapuch2001/Oleinik-BS-Thesis-code/runs/5qptnb50' target=\"_blank\">quiet-sunset-260</a></strong> to <a href='https://wandb.ai/potapuch2001/Oleinik-BS-Thesis-code' target=\"_blank\">Weights & Biases</a> (<a href='https://wandb.me/run' target=\"_blank\">docs</a>)<br/>"
      ],
      "text/plain": [
       "<IPython.core.display.HTML object>"
      ]
     },
     "metadata": {},
     "output_type": "display_data"
    },
    {
     "data": {
      "text/html": [
       " View project at <a href='https://wandb.ai/potapuch2001/Oleinik-BS-Thesis-code' target=\"_blank\">https://wandb.ai/potapuch2001/Oleinik-BS-Thesis-code</a>"
      ],
      "text/plain": [
       "<IPython.core.display.HTML object>"
      ]
     },
     "metadata": {},
     "output_type": "display_data"
    },
    {
     "data": {
      "text/html": [
       " View run at <a href='https://wandb.ai/potapuch2001/Oleinik-BS-Thesis-code/runs/5qptnb50' target=\"_blank\">https://wandb.ai/potapuch2001/Oleinik-BS-Thesis-code/runs/5qptnb50</a>"
      ],
      "text/plain": [
       "<IPython.core.display.HTML object>"
      ]
     },
     "metadata": {},
     "output_type": "display_data"
    },
    {
     "name": "stderr",
     "output_type": "stream",
     "text": [
      "GPU available: True (cuda), used: True\n",
      "TPU available: False, using: 0 TPU cores\n",
      "IPU available: False, using: 0 IPUs\n",
      "HPU available: False, using: 0 HPUs\n",
      "/home/ganddalf/anaconda3/envs/dl/lib/python3.12/site-packages/lightning/pytorch/loggers/wandb.py:391: There is a wandb run already in progress and newly created instances of `WandbLogger` will reuse this run. If this is not desired, call `wandb.finish()` before instantiating `WandbLogger`.\n",
      "LOCAL_RANK: 0 - CUDA_VISIBLE_DEVICES: [0]\n",
      "\n",
      "  | Name  | Type             | Params\n",
      "-------------------------------------------\n",
      "0 | model | Cifar_Very_Tiny  | 15.1 K\n",
      "1 | loss  | CrossEntropyLoss | 0     \n",
      "-------------------------------------------\n",
      "15.1 K    Trainable params\n",
      "0         Non-trainable params\n",
      "15.1 K    Total params\n",
      "0.060     Total estimated model params size (MB)\n"
     ]
    },
    {
     "name": "stdout",
     "output_type": "stream",
     "text": [
      "Epoch 99: 100%|██████████| 79/79 [00:00<00:00, 174.17it/s, v_num=nb50]"
     ]
    },
    {
     "name": "stderr",
     "output_type": "stream",
     "text": [
      "`Trainer.fit` stopped: `max_epochs=100` reached.\n"
     ]
    },
    {
     "name": "stdout",
     "output_type": "stream",
     "text": [
      "Epoch 99: 100%|██████████| 79/79 [00:00<00:00, 172.61it/s, v_num=nb50]\n"
     ]
    },
    {
     "name": "stderr",
     "output_type": "stream",
     "text": [
      "/home/ganddalf/anaconda3/envs/dl/lib/python3.12/site-packages/lightning/pytorch/trainer/connectors/checkpoint_connector.py:145: `.test(ckpt_path=None)` was called without a model. The best model of the previous `fit` call will be used. You can pass `.test(ckpt_path='best')` to use the best model or `.test(ckpt_path='last')` to use the last model. If you pass a value, this warning will be silenced.\n",
      "Restoring states from the checkpoint path at ./lightning_logs/5qptnb50/checkpoints/epoch=99-step=7900.ckpt\n",
      "LOCAL_RANK: 0 - CUDA_VISIBLE_DEVICES: [0]\n",
      "Loaded model weights from the checkpoint at ./lightning_logs/5qptnb50/checkpoints/epoch=99-step=7900.ckpt\n"
     ]
    },
    {
     "name": "stdout",
     "output_type": "stream",
     "text": [
      "Testing DataLoader 0: 100%|██████████| 79/79 [00:04<00:00, 17.83it/s] \n",
      "────────────────────────────────────────────────────────────────────────────────────────────────────────────────────────\n",
      "       Test metric             DataLoader 0\n",
      "────────────────────────────────────────────────────────────────────────────────────────────────────────────────────────\n",
      "        AUC_FGSM            0.13246051967144012\n",
      "        AUC_Noise           0.4277166724205017\n",
      "        test_acc            0.5192999839782715\n",
      "────────────────────────────────────────────────────────────────────────────────────────────────────────────────────────\n"
     ]
    },
    {
     "data": {
      "text/html": [
       "<style>\n",
       "    table.wandb td:nth-child(1) { padding: 0 10px; text-align: left ; width: auto;} td:nth-child(2) {text-align: left ; width: 100%}\n",
       "    .wandb-row { display: flex; flex-direction: row; flex-wrap: wrap; justify-content: flex-start; width: 100% }\n",
       "    .wandb-col { display: flex; flex-direction: column; flex-basis: 100%; flex: 1; padding: 10px; }\n",
       "    </style>\n",
       "<div class=\"wandb-row\"><div class=\"wandb-col\"><h3>Run history:</h3><br/><table class=\"wandb\"><tr><td>AUC_FGSM</td><td>▁</td></tr><tr><td>AUC_Noise</td><td>▁</td></tr><tr><td>epoch</td><td>▁▁▁▁▂▂▂▂▂▃▃▃▃▃▃▄▄▄▄▄▅▅▅▅▅▅▆▆▆▆▆▇▇▇▇▇▇███</td></tr><tr><td>lr</td><td>▁</td></tr><tr><td>test_acc</td><td>▁</td></tr><tr><td>train_acc</td><td>▁▃▃▄▄▅▅▅▅▅▅▅▆▅▆▆▇▆▇▇▇▇▇▆▇▇▇██▇█▇█▆▇█████</td></tr><tr><td>train_loss</td><td>█▇▆▆▅▅▅▅▅▄▄▃▄▄▃▃▃▃▂▂▃▂▂▃▂▂▂▂▂▂▂▂▁▃▂▁▁▁▁▁</td></tr><tr><td>trainer/global_step</td><td>▁▁▁▂▂▂▂▂▂▃▃▃▃▃▄▄▄▄▄▄▅▅▅▅▅▅▆▆▆▆▆▇▇▇▇▇▇███</td></tr></table><br/></div><div class=\"wandb-col\"><h3>Run summary:</h3><br/><table class=\"wandb\"><tr><td>AUC_FGSM</td><td>0.13246</td></tr><tr><td>AUC_Noise</td><td>0.42772</td></tr><tr><td>distillation_type</td><td>without</td></tr><tr><td>epoch</td><td>100</td></tr><tr><td>lr</td><td>0.1</td></tr><tr><td>model_name</td><td>very_tiny</td></tr><tr><td>optimizer</td><td>SGD</td></tr><tr><td>test_acc</td><td>0.5193</td></tr><tr><td>train_acc</td><td>1.0</td></tr><tr><td>train_loss</td><td>0.02718</td></tr><tr><td>trainer/global_step</td><td>7900</td></tr></table><br/></div></div>"
      ],
      "text/plain": [
       "<IPython.core.display.HTML object>"
      ]
     },
     "metadata": {},
     "output_type": "display_data"
    },
    {
     "data": {
      "text/html": [
       " View run <strong style=\"color:#cdcd00\">quiet-sunset-260</strong> at: <a href='https://wandb.ai/potapuch2001/Oleinik-BS-Thesis-code/runs/5qptnb50' target=\"_blank\">https://wandb.ai/potapuch2001/Oleinik-BS-Thesis-code/runs/5qptnb50</a><br/> View project at: <a href='https://wandb.ai/potapuch2001/Oleinik-BS-Thesis-code' target=\"_blank\">https://wandb.ai/potapuch2001/Oleinik-BS-Thesis-code</a><br/>Synced 6 W&B file(s), 2 media file(s), 2 artifact file(s) and 0 other file(s)"
      ],
      "text/plain": [
       "<IPython.core.display.HTML object>"
      ]
     },
     "metadata": {},
     "output_type": "display_data"
    },
    {
     "data": {
      "text/html": [
       "Find logs at: <code>./wandb/run-20240623_012729-5qptnb50/logs</code>"
      ],
      "text/plain": [
       "<IPython.core.display.HTML object>"
      ]
     },
     "metadata": {},
     "output_type": "display_data"
    },
    {
     "data": {
      "text/html": [
       "wandb version 0.17.2 is available!  To upgrade, please run:\n",
       " $ pip install wandb --upgrade"
      ],
      "text/plain": [
       "<IPython.core.display.HTML object>"
      ]
     },
     "metadata": {},
     "output_type": "display_data"
    },
    {
     "data": {
      "text/html": [
       "Tracking run with wandb version 0.16.6"
      ],
      "text/plain": [
       "<IPython.core.display.HTML object>"
      ]
     },
     "metadata": {},
     "output_type": "display_data"
    },
    {
     "data": {
      "text/html": [
       "Run data is saved locally in <code>/home/ganddalf/MIPT/Kafedra/Oleinik-BS-Thesis/code/wandb/run-20240623_012833-071vo6jx</code>"
      ],
      "text/plain": [
       "<IPython.core.display.HTML object>"
      ]
     },
     "metadata": {},
     "output_type": "display_data"
    },
    {
     "data": {
      "text/html": [
       "Syncing run <strong><a href='https://wandb.ai/potapuch2001/Oleinik-BS-Thesis-code/runs/071vo6jx' target=\"_blank\">graceful-sunset-261</a></strong> to <a href='https://wandb.ai/potapuch2001/Oleinik-BS-Thesis-code' target=\"_blank\">Weights & Biases</a> (<a href='https://wandb.me/run' target=\"_blank\">docs</a>)<br/>"
      ],
      "text/plain": [
       "<IPython.core.display.HTML object>"
      ]
     },
     "metadata": {},
     "output_type": "display_data"
    },
    {
     "data": {
      "text/html": [
       " View project at <a href='https://wandb.ai/potapuch2001/Oleinik-BS-Thesis-code' target=\"_blank\">https://wandb.ai/potapuch2001/Oleinik-BS-Thesis-code</a>"
      ],
      "text/plain": [
       "<IPython.core.display.HTML object>"
      ]
     },
     "metadata": {},
     "output_type": "display_data"
    },
    {
     "data": {
      "text/html": [
       " View run at <a href='https://wandb.ai/potapuch2001/Oleinik-BS-Thesis-code/runs/071vo6jx' target=\"_blank\">https://wandb.ai/potapuch2001/Oleinik-BS-Thesis-code/runs/071vo6jx</a>"
      ],
      "text/plain": [
       "<IPython.core.display.HTML object>"
      ]
     },
     "metadata": {},
     "output_type": "display_data"
    },
    {
     "name": "stderr",
     "output_type": "stream",
     "text": [
      "GPU available: True (cuda), used: True\n",
      "TPU available: False, using: 0 TPU cores\n",
      "IPU available: False, using: 0 IPUs\n",
      "HPU available: False, using: 0 HPUs\n",
      "/home/ganddalf/anaconda3/envs/dl/lib/python3.12/site-packages/lightning/pytorch/loggers/wandb.py:391: There is a wandb run already in progress and newly created instances of `WandbLogger` will reuse this run. If this is not desired, call `wandb.finish()` before instantiating `WandbLogger`.\n",
      "LOCAL_RANK: 0 - CUDA_VISIBLE_DEVICES: [0]\n",
      "\n",
      "  | Name  | Type             | Params\n",
      "-------------------------------------------\n",
      "0 | model | Cifar_Very_Tiny  | 15.1 K\n",
      "1 | loss  | CrossEntropyLoss | 0     \n",
      "-------------------------------------------\n",
      "15.1 K    Trainable params\n",
      "0         Non-trainable params\n",
      "15.1 K    Total params\n",
      "0.060     Total estimated model params size (MB)\n"
     ]
    },
    {
     "name": "stdout",
     "output_type": "stream",
     "text": [
      "Epoch 99: 100%|██████████| 79/79 [00:00<00:00, 163.77it/s, v_num=o6jx]"
     ]
    },
    {
     "name": "stderr",
     "output_type": "stream",
     "text": [
      "`Trainer.fit` stopped: `max_epochs=100` reached.\n"
     ]
    },
    {
     "name": "stdout",
     "output_type": "stream",
     "text": [
      "Epoch 99: 100%|██████████| 79/79 [00:00<00:00, 162.33it/s, v_num=o6jx]\n"
     ]
    },
    {
     "name": "stderr",
     "output_type": "stream",
     "text": [
      "/home/ganddalf/anaconda3/envs/dl/lib/python3.12/site-packages/lightning/pytorch/trainer/connectors/checkpoint_connector.py:145: `.test(ckpt_path=None)` was called without a model. The best model of the previous `fit` call will be used. You can pass `.test(ckpt_path='best')` to use the best model or `.test(ckpt_path='last')` to use the last model. If you pass a value, this warning will be silenced.\n",
      "Restoring states from the checkpoint path at ./lightning_logs/071vo6jx/checkpoints/epoch=99-step=7900.ckpt\n",
      "LOCAL_RANK: 0 - CUDA_VISIBLE_DEVICES: [0]\n",
      "Loaded model weights from the checkpoint at ./lightning_logs/071vo6jx/checkpoints/epoch=99-step=7900.ckpt\n"
     ]
    },
    {
     "name": "stdout",
     "output_type": "stream",
     "text": [
      "Testing DataLoader 0: 100%|██████████| 79/79 [00:04<00:00, 18.50it/s] \n",
      "────────────────────────────────────────────────────────────────────────────────────────────────────────────────────────\n",
      "       Test metric             DataLoader 0\n",
      "────────────────────────────────────────────────────────────────────────────────────────────────────────────────────────\n",
      "        AUC_FGSM            0.12091579288244247\n",
      "        AUC_Noise           0.42213332653045654\n",
      "        test_acc            0.4945000112056732\n",
      "────────────────────────────────────────────────────────────────────────────────────────────────────────────────────────\n"
     ]
    },
    {
     "data": {
      "text/html": [
       "<style>\n",
       "    table.wandb td:nth-child(1) { padding: 0 10px; text-align: left ; width: auto;} td:nth-child(2) {text-align: left ; width: 100%}\n",
       "    .wandb-row { display: flex; flex-direction: row; flex-wrap: wrap; justify-content: flex-start; width: 100% }\n",
       "    .wandb-col { display: flex; flex-direction: column; flex-basis: 100%; flex: 1; padding: 10px; }\n",
       "    </style>\n",
       "<div class=\"wandb-row\"><div class=\"wandb-col\"><h3>Run history:</h3><br/><table class=\"wandb\"><tr><td>AUC_FGSM</td><td>▁</td></tr><tr><td>AUC_Noise</td><td>▁</td></tr><tr><td>epoch</td><td>▁▁▁▁▂▂▂▂▂▃▃▃▃▃▃▄▄▄▄▄▅▅▅▅▅▅▆▆▆▆▆▇▇▇▇▇▇███</td></tr><tr><td>lr</td><td>▁</td></tr><tr><td>test_acc</td><td>▁</td></tr><tr><td>train_acc</td><td>▁▂▂▄▃▄▃▅▃▄▄▅▅▅▅▆▆▆▆▆▆▇▇▆▆▄▆▇▇▇▇█▇▇█▇▇▇██</td></tr><tr><td>train_loss</td><td>█▆▆▅▅▄▅▄▅▄▄▄▄▃▃▃▃▃▂▂▄▂▂▂▂▅▂▂▂▂▂▁▂▂▁▂▁▁▁▁</td></tr><tr><td>trainer/global_step</td><td>▁▁▁▂▂▂▂▂▂▃▃▃▃▃▄▄▄▄▄▄▅▅▅▅▅▅▆▆▆▆▆▇▇▇▇▇▇███</td></tr></table><br/></div><div class=\"wandb-col\"><h3>Run summary:</h3><br/><table class=\"wandb\"><tr><td>AUC_FGSM</td><td>0.12092</td></tr><tr><td>AUC_Noise</td><td>0.42213</td></tr><tr><td>distillation_type</td><td>without</td></tr><tr><td>epoch</td><td>100</td></tr><tr><td>lr</td><td>0.1</td></tr><tr><td>model_name</td><td>very_tiny</td></tr><tr><td>optimizer</td><td>SGD</td></tr><tr><td>test_acc</td><td>0.4945</td></tr><tr><td>train_acc</td><td>1.0</td></tr><tr><td>train_loss</td><td>0.04334</td></tr><tr><td>trainer/global_step</td><td>7900</td></tr></table><br/></div></div>"
      ],
      "text/plain": [
       "<IPython.core.display.HTML object>"
      ]
     },
     "metadata": {},
     "output_type": "display_data"
    },
    {
     "data": {
      "text/html": [
       " View run <strong style=\"color:#cdcd00\">graceful-sunset-261</strong> at: <a href='https://wandb.ai/potapuch2001/Oleinik-BS-Thesis-code/runs/071vo6jx' target=\"_blank\">https://wandb.ai/potapuch2001/Oleinik-BS-Thesis-code/runs/071vo6jx</a><br/> View project at: <a href='https://wandb.ai/potapuch2001/Oleinik-BS-Thesis-code' target=\"_blank\">https://wandb.ai/potapuch2001/Oleinik-BS-Thesis-code</a><br/>Synced 6 W&B file(s), 2 media file(s), 2 artifact file(s) and 0 other file(s)"
      ],
      "text/plain": [
       "<IPython.core.display.HTML object>"
      ]
     },
     "metadata": {},
     "output_type": "display_data"
    },
    {
     "data": {
      "text/html": [
       "Find logs at: <code>./wandb/run-20240623_012833-071vo6jx/logs</code>"
      ],
      "text/plain": [
       "<IPython.core.display.HTML object>"
      ]
     },
     "metadata": {},
     "output_type": "display_data"
    },
    {
     "data": {
      "text/html": [
       "wandb version 0.17.2 is available!  To upgrade, please run:\n",
       " $ pip install wandb --upgrade"
      ],
      "text/plain": [
       "<IPython.core.display.HTML object>"
      ]
     },
     "metadata": {},
     "output_type": "display_data"
    },
    {
     "data": {
      "text/html": [
       "Tracking run with wandb version 0.16.6"
      ],
      "text/plain": [
       "<IPython.core.display.HTML object>"
      ]
     },
     "metadata": {},
     "output_type": "display_data"
    },
    {
     "data": {
      "text/html": [
       "Run data is saved locally in <code>/home/ganddalf/MIPT/Kafedra/Oleinik-BS-Thesis/code/wandb/run-20240623_012939-wof2seh0</code>"
      ],
      "text/plain": [
       "<IPython.core.display.HTML object>"
      ]
     },
     "metadata": {},
     "output_type": "display_data"
    },
    {
     "data": {
      "text/html": [
       "Syncing run <strong><a href='https://wandb.ai/potapuch2001/Oleinik-BS-Thesis-code/runs/wof2seh0' target=\"_blank\">lucky-mountain-262</a></strong> to <a href='https://wandb.ai/potapuch2001/Oleinik-BS-Thesis-code' target=\"_blank\">Weights & Biases</a> (<a href='https://wandb.me/run' target=\"_blank\">docs</a>)<br/>"
      ],
      "text/plain": [
       "<IPython.core.display.HTML object>"
      ]
     },
     "metadata": {},
     "output_type": "display_data"
    },
    {
     "data": {
      "text/html": [
       " View project at <a href='https://wandb.ai/potapuch2001/Oleinik-BS-Thesis-code' target=\"_blank\">https://wandb.ai/potapuch2001/Oleinik-BS-Thesis-code</a>"
      ],
      "text/plain": [
       "<IPython.core.display.HTML object>"
      ]
     },
     "metadata": {},
     "output_type": "display_data"
    },
    {
     "data": {
      "text/html": [
       " View run at <a href='https://wandb.ai/potapuch2001/Oleinik-BS-Thesis-code/runs/wof2seh0' target=\"_blank\">https://wandb.ai/potapuch2001/Oleinik-BS-Thesis-code/runs/wof2seh0</a>"
      ],
      "text/plain": [
       "<IPython.core.display.HTML object>"
      ]
     },
     "metadata": {},
     "output_type": "display_data"
    },
    {
     "name": "stderr",
     "output_type": "stream",
     "text": [
      "GPU available: True (cuda), used: True\n",
      "TPU available: False, using: 0 TPU cores\n",
      "IPU available: False, using: 0 IPUs\n",
      "HPU available: False, using: 0 HPUs\n",
      "/home/ganddalf/anaconda3/envs/dl/lib/python3.12/site-packages/lightning/pytorch/loggers/wandb.py:391: There is a wandb run already in progress and newly created instances of `WandbLogger` will reuse this run. If this is not desired, call `wandb.finish()` before instantiating `WandbLogger`.\n",
      "LOCAL_RANK: 0 - CUDA_VISIBLE_DEVICES: [0]\n",
      "\n",
      "  | Name  | Type             | Params\n",
      "-------------------------------------------\n",
      "0 | model | Cifar_Very_Tiny  | 15.1 K\n",
      "1 | loss  | CrossEntropyLoss | 0     \n",
      "-------------------------------------------\n",
      "15.1 K    Trainable params\n",
      "0         Non-trainable params\n",
      "15.1 K    Total params\n",
      "0.060     Total estimated model params size (MB)\n"
     ]
    },
    {
     "name": "stdout",
     "output_type": "stream",
     "text": [
      "Epoch 99: 100%|██████████| 79/79 [00:00<00:00, 173.30it/s, v_num=seh0]"
     ]
    },
    {
     "name": "stderr",
     "output_type": "stream",
     "text": [
      "`Trainer.fit` stopped: `max_epochs=100` reached.\n"
     ]
    },
    {
     "name": "stdout",
     "output_type": "stream",
     "text": [
      "Epoch 99: 100%|██████████| 79/79 [00:00<00:00, 171.78it/s, v_num=seh0]\n"
     ]
    },
    {
     "name": "stderr",
     "output_type": "stream",
     "text": [
      "/home/ganddalf/anaconda3/envs/dl/lib/python3.12/site-packages/lightning/pytorch/trainer/connectors/checkpoint_connector.py:145: `.test(ckpt_path=None)` was called without a model. The best model of the previous `fit` call will be used. You can pass `.test(ckpt_path='best')` to use the best model or `.test(ckpt_path='last')` to use the last model. If you pass a value, this warning will be silenced.\n",
      "Restoring states from the checkpoint path at ./lightning_logs/wof2seh0/checkpoints/epoch=99-step=7900.ckpt\n",
      "LOCAL_RANK: 0 - CUDA_VISIBLE_DEVICES: [0]\n",
      "Loaded model weights from the checkpoint at ./lightning_logs/wof2seh0/checkpoints/epoch=99-step=7900.ckpt\n"
     ]
    },
    {
     "name": "stdout",
     "output_type": "stream",
     "text": [
      "Testing DataLoader 0: 100%|██████████| 79/79 [00:04<00:00, 18.81it/s] \n",
      "────────────────────────────────────────────────────────────────────────────────────────────────────────────────────────\n",
      "       Test metric             DataLoader 0\n",
      "────────────────────────────────────────────────────────────────────────────────────────────────────────────────────────\n",
      "        AUC_FGSM            0.13709473609924316\n",
      "        AUC_Noise           0.4284166693687439\n",
      "        test_acc            0.5181000232696533\n",
      "────────────────────────────────────────────────────────────────────────────────────────────────────────────────────────\n"
     ]
    },
    {
     "data": {
      "text/html": [
       "<style>\n",
       "    table.wandb td:nth-child(1) { padding: 0 10px; text-align: left ; width: auto;} td:nth-child(2) {text-align: left ; width: 100%}\n",
       "    .wandb-row { display: flex; flex-direction: row; flex-wrap: wrap; justify-content: flex-start; width: 100% }\n",
       "    .wandb-col { display: flex; flex-direction: column; flex-basis: 100%; flex: 1; padding: 10px; }\n",
       "    </style>\n",
       "<div class=\"wandb-row\"><div class=\"wandb-col\"><h3>Run history:</h3><br/><table class=\"wandb\"><tr><td>AUC_FGSM</td><td>▁</td></tr><tr><td>AUC_Noise</td><td>▁</td></tr><tr><td>epoch</td><td>▁▁▁▁▂▂▂▂▂▃▃▃▃▃▃▄▄▄▄▄▅▅▅▅▅▅▆▆▆▆▆▇▇▇▇▇▇███</td></tr><tr><td>lr</td><td>▁</td></tr><tr><td>test_acc</td><td>▁</td></tr><tr><td>train_acc</td><td>▁▂▂▃▄▄▄▄▄▅▅▅▅▆▅▅▆▆▇▆▆▇▇▇▇▇▇▇▇▇▇▇█▅█▇████</td></tr><tr><td>train_loss</td><td>█▇▆▅▆▅▅▅▄▄▄▄▃▃▄▃▃▃▂▂▃▂▂▂▂▂▂▂▂▂▂▂▂▄▂▁▁▁▁▁</td></tr><tr><td>trainer/global_step</td><td>▁▁▁▂▂▂▂▂▂▃▃▃▃▃▄▄▄▄▄▄▅▅▅▅▅▅▆▆▆▆▆▇▇▇▇▇▇███</td></tr></table><br/></div><div class=\"wandb-col\"><h3>Run summary:</h3><br/><table class=\"wandb\"><tr><td>AUC_FGSM</td><td>0.13709</td></tr><tr><td>AUC_Noise</td><td>0.42842</td></tr><tr><td>distillation_type</td><td>without</td></tr><tr><td>epoch</td><td>100</td></tr><tr><td>lr</td><td>0.1</td></tr><tr><td>model_name</td><td>very_tiny</td></tr><tr><td>optimizer</td><td>SGD</td></tr><tr><td>test_acc</td><td>0.5181</td></tr><tr><td>train_acc</td><td>1.0</td></tr><tr><td>train_loss</td><td>0.03169</td></tr><tr><td>trainer/global_step</td><td>7900</td></tr></table><br/></div></div>"
      ],
      "text/plain": [
       "<IPython.core.display.HTML object>"
      ]
     },
     "metadata": {},
     "output_type": "display_data"
    },
    {
     "data": {
      "text/html": [
       " View run <strong style=\"color:#cdcd00\">lucky-mountain-262</strong> at: <a href='https://wandb.ai/potapuch2001/Oleinik-BS-Thesis-code/runs/wof2seh0' target=\"_blank\">https://wandb.ai/potapuch2001/Oleinik-BS-Thesis-code/runs/wof2seh0</a><br/> View project at: <a href='https://wandb.ai/potapuch2001/Oleinik-BS-Thesis-code' target=\"_blank\">https://wandb.ai/potapuch2001/Oleinik-BS-Thesis-code</a><br/>Synced 6 W&B file(s), 2 media file(s), 2 artifact file(s) and 0 other file(s)"
      ],
      "text/plain": [
       "<IPython.core.display.HTML object>"
      ]
     },
     "metadata": {},
     "output_type": "display_data"
    },
    {
     "data": {
      "text/html": [
       "Find logs at: <code>./wandb/run-20240623_012939-wof2seh0/logs</code>"
      ],
      "text/plain": [
       "<IPython.core.display.HTML object>"
      ]
     },
     "metadata": {},
     "output_type": "display_data"
    }
   ],
   "source": [
    "for _ in range(5):\n",
    "    with wandb.init() as run:\n",
    "        wandb.log({\n",
    "            \"model_name\": \"very_tiny\",\n",
    "            \"distillation_type\": \"without\",\n",
    "        })\n",
    "        model = Base_Model(Cifar_Very_Tiny(10))\n",
    "        trainer = L.Trainer(max_epochs=100, logger=WandbLogger(), inference_mode=False)\n",
    "        trainer.fit(model=model, train_dataloaders=train_loader)\n",
    "        trainer.test(dataloaders=test_loader)"
   ]
  },
  {
   "cell_type": "markdown",
   "metadata": {},
   "source": [
    "## Дистиляция Хинтона\n",
    "Из Tiny в VeryTiny"
   ]
  },
  {
   "cell_type": "code",
   "execution_count": 5,
   "metadata": {},
   "outputs": [
    {
     "data": {
      "text/html": [
       "wandb version 0.17.2 is available!  To upgrade, please run:\n",
       " $ pip install wandb --upgrade"
      ],
      "text/plain": [
       "<IPython.core.display.HTML object>"
      ]
     },
     "metadata": {},
     "output_type": "display_data"
    },
    {
     "data": {
      "text/html": [
       "Tracking run with wandb version 0.16.6"
      ],
      "text/plain": [
       "<IPython.core.display.HTML object>"
      ]
     },
     "metadata": {},
     "output_type": "display_data"
    },
    {
     "data": {
      "text/html": [
       "Run data is saved locally in <code>/home/ganddalf/MIPT/Kafedra/Oleinik-BS-Thesis/code/wandb/run-20240623_013043-fmw68qfv</code>"
      ],
      "text/plain": [
       "<IPython.core.display.HTML object>"
      ]
     },
     "metadata": {},
     "output_type": "display_data"
    },
    {
     "data": {
      "text/html": [
       "Syncing run <strong><a href='https://wandb.ai/potapuch2001/Oleinik-BS-Thesis-code/runs/fmw68qfv' target=\"_blank\">lunar-firebrand-263</a></strong> to <a href='https://wandb.ai/potapuch2001/Oleinik-BS-Thesis-code' target=\"_blank\">Weights & Biases</a> (<a href='https://wandb.me/run' target=\"_blank\">docs</a>)<br/>"
      ],
      "text/plain": [
       "<IPython.core.display.HTML object>"
      ]
     },
     "metadata": {},
     "output_type": "display_data"
    },
    {
     "data": {
      "text/html": [
       " View project at <a href='https://wandb.ai/potapuch2001/Oleinik-BS-Thesis-code' target=\"_blank\">https://wandb.ai/potapuch2001/Oleinik-BS-Thesis-code</a>"
      ],
      "text/plain": [
       "<IPython.core.display.HTML object>"
      ]
     },
     "metadata": {},
     "output_type": "display_data"
    },
    {
     "data": {
      "text/html": [
       " View run at <a href='https://wandb.ai/potapuch2001/Oleinik-BS-Thesis-code/runs/fmw68qfv' target=\"_blank\">https://wandb.ai/potapuch2001/Oleinik-BS-Thesis-code/runs/fmw68qfv</a>"
      ],
      "text/plain": [
       "<IPython.core.display.HTML object>"
      ]
     },
     "metadata": {},
     "output_type": "display_data"
    },
    {
     "name": "stderr",
     "output_type": "stream",
     "text": [
      "GPU available: True (cuda), used: True\n",
      "TPU available: False, using: 0 TPU cores\n",
      "IPU available: False, using: 0 IPUs\n",
      "HPU available: False, using: 0 HPUs\n",
      "/home/ganddalf/anaconda3/envs/dl/lib/python3.12/site-packages/lightning/pytorch/loggers/wandb.py:391: There is a wandb run already in progress and newly created instances of `WandbLogger` will reuse this run. If this is not desired, call `wandb.finish()` before instantiating `WandbLogger`.\n",
      "LOCAL_RANK: 0 - CUDA_VISIBLE_DEVICES: [0]\n",
      "\n",
      "  | Name    | Type             | Params\n",
      "---------------------------------------------\n",
      "0 | student | Cifar_Very_Tiny  | 15.1 K\n",
      "1 | teacher | Cifar_Tiny       | 58.0 K\n",
      "2 | loss    | CrossEntropyLoss | 0     \n",
      "---------------------------------------------\n",
      "15.1 K    Trainable params\n",
      "58.0 K    Non-trainable params\n",
      "73.0 K    Total params\n",
      "0.292     Total estimated model params size (MB)\n"
     ]
    },
    {
     "name": "stdout",
     "output_type": "stream",
     "text": [
      "Epoch 0:   0%|          | 0/79 [00:00<?, ?it/s] "
     ]
    },
    {
     "name": "stderr",
     "output_type": "stream",
     "text": [
      "/home/ganddalf/MIPT/Kafedra/Oleinik-BS-Thesis/code/lightning_modules/hinton.py:27: Implicit dimension choice for log_softmax has been deprecated. Change the call to include dim=X as an argument.\n"
     ]
    },
    {
     "name": "stdout",
     "output_type": "stream",
     "text": [
      "Epoch 99: 100%|██████████| 79/79 [00:00<00:00, 150.42it/s, v_num=8qfv]"
     ]
    },
    {
     "name": "stderr",
     "output_type": "stream",
     "text": [
      "`Trainer.fit` stopped: `max_epochs=100` reached.\n"
     ]
    },
    {
     "name": "stdout",
     "output_type": "stream",
     "text": [
      "Epoch 99: 100%|██████████| 79/79 [00:00<00:00, 148.76it/s, v_num=8qfv]\n"
     ]
    },
    {
     "name": "stderr",
     "output_type": "stream",
     "text": [
      "/home/ganddalf/anaconda3/envs/dl/lib/python3.12/site-packages/lightning/pytorch/trainer/connectors/checkpoint_connector.py:145: `.test(ckpt_path=None)` was called without a model. The best model of the previous `fit` call will be used. You can pass `.test(ckpt_path='best')` to use the best model or `.test(ckpt_path='last')` to use the last model. If you pass a value, this warning will be silenced.\n",
      "Restoring states from the checkpoint path at ./lightning_logs/fmw68qfv/checkpoints/epoch=99-step=7900.ckpt\n",
      "LOCAL_RANK: 0 - CUDA_VISIBLE_DEVICES: [0]\n",
      "Loaded model weights from the checkpoint at ./lightning_logs/fmw68qfv/checkpoints/epoch=99-step=7900.ckpt\n"
     ]
    },
    {
     "name": "stdout",
     "output_type": "stream",
     "text": [
      "Testing DataLoader 0: 100%|██████████| 79/79 [00:04<00:00, 17.57it/s] \n",
      "────────────────────────────────────────────────────────────────────────────────────────────────────────────────────────\n",
      "       Test metric             DataLoader 0\n",
      "────────────────────────────────────────────────────────────────────────────────────────────────────────────────────────\n",
      "        AUC_FGSM            0.10000000149011612\n",
      "        AUC_Noise           0.10000000149011612\n",
      "        test_acc            0.10000000149011612\n",
      "────────────────────────────────────────────────────────────────────────────────────────────────────────────────────────\n"
     ]
    },
    {
     "data": {
      "text/html": [
       "<style>\n",
       "    table.wandb td:nth-child(1) { padding: 0 10px; text-align: left ; width: auto;} td:nth-child(2) {text-align: left ; width: 100%}\n",
       "    .wandb-row { display: flex; flex-direction: row; flex-wrap: wrap; justify-content: flex-start; width: 100% }\n",
       "    .wandb-col { display: flex; flex-direction: column; flex-basis: 100%; flex: 1; padding: 10px; }\n",
       "    </style>\n",
       "<div class=\"wandb-row\"><div class=\"wandb-col\"><h3>Run history:</h3><br/><table class=\"wandb\"><tr><td>AUC_FGSM</td><td>▁</td></tr><tr><td>AUC_Noise</td><td>▁</td></tr><tr><td>epoch</td><td>▁▁▁▁▂▂▂▂▂▃▃▃▃▃▃▄▄▄▄▄▅▅▅▅▅▅▆▆▆▆▆▇▇▇▇▇▇███</td></tr><tr><td>lr</td><td>▁</td></tr><tr><td>test_acc</td><td>▁</td></tr><tr><td>train_acc</td><td>▄▄▅▆▆▆▆▆▆▆▆▇▇▇▆▇▇▇██▇▇▇▇▇█▇█▇▇██▇██▁▁▁▁▁</td></tr><tr><td>train_loss</td><td>█▆▅▄▄▃▄▃▄▃▃▂▂▃▃▂▂▂▂▂▂▂▂▂▂▁▂▁▂▂▁▁▁▁▂     </td></tr><tr><td>trainer/global_step</td><td>▁▁▁▂▂▂▂▂▂▃▃▃▃▃▄▄▄▄▄▄▅▅▅▅▅▅▆▆▆▆▆▇▇▇▇▇▇███</td></tr></table><br/></div><div class=\"wandb-col\"><h3>Run summary:</h3><br/><table class=\"wandb\"><tr><td>AUC_FGSM</td><td>0.1</td></tr><tr><td>AUC_Noise</td><td>0.1</td></tr><tr><td>distillation_type</td><td>hinton</td></tr><tr><td>epoch</td><td>100</td></tr><tr><td>lr</td><td>0.1</td></tr><tr><td>model_name</td><td>very_tiny</td></tr><tr><td>optimizer</td><td>SGD</td></tr><tr><td>test_acc</td><td>0.1</td></tr><tr><td>train_acc</td><td>0.08594</td></tr><tr><td>train_loss</td><td>nan</td></tr><tr><td>trainer/global_step</td><td>7900</td></tr></table><br/></div></div>"
      ],
      "text/plain": [
       "<IPython.core.display.HTML object>"
      ]
     },
     "metadata": {},
     "output_type": "display_data"
    },
    {
     "data": {
      "text/html": [
       " View run <strong style=\"color:#cdcd00\">lunar-firebrand-263</strong> at: <a href='https://wandb.ai/potapuch2001/Oleinik-BS-Thesis-code/runs/fmw68qfv' target=\"_blank\">https://wandb.ai/potapuch2001/Oleinik-BS-Thesis-code/runs/fmw68qfv</a><br/> View project at: <a href='https://wandb.ai/potapuch2001/Oleinik-BS-Thesis-code' target=\"_blank\">https://wandb.ai/potapuch2001/Oleinik-BS-Thesis-code</a><br/>Synced 6 W&B file(s), 2 media file(s), 2 artifact file(s) and 0 other file(s)"
      ],
      "text/plain": [
       "<IPython.core.display.HTML object>"
      ]
     },
     "metadata": {},
     "output_type": "display_data"
    },
    {
     "data": {
      "text/html": [
       "Find logs at: <code>./wandb/run-20240623_013043-fmw68qfv/logs</code>"
      ],
      "text/plain": [
       "<IPython.core.display.HTML object>"
      ]
     },
     "metadata": {},
     "output_type": "display_data"
    },
    {
     "data": {
      "text/html": [
       "wandb version 0.17.2 is available!  To upgrade, please run:\n",
       " $ pip install wandb --upgrade"
      ],
      "text/plain": [
       "<IPython.core.display.HTML object>"
      ]
     },
     "metadata": {},
     "output_type": "display_data"
    },
    {
     "data": {
      "text/html": [
       "Tracking run with wandb version 0.16.6"
      ],
      "text/plain": [
       "<IPython.core.display.HTML object>"
      ]
     },
     "metadata": {},
     "output_type": "display_data"
    },
    {
     "data": {
      "text/html": [
       "Run data is saved locally in <code>/home/ganddalf/MIPT/Kafedra/Oleinik-BS-Thesis/code/wandb/run-20240623_013156-6sjtaq7o</code>"
      ],
      "text/plain": [
       "<IPython.core.display.HTML object>"
      ]
     },
     "metadata": {},
     "output_type": "display_data"
    },
    {
     "data": {
      "text/html": [
       "Syncing run <strong><a href='https://wandb.ai/potapuch2001/Oleinik-BS-Thesis-code/runs/6sjtaq7o' target=\"_blank\">olive-surf-264</a></strong> to <a href='https://wandb.ai/potapuch2001/Oleinik-BS-Thesis-code' target=\"_blank\">Weights & Biases</a> (<a href='https://wandb.me/run' target=\"_blank\">docs</a>)<br/>"
      ],
      "text/plain": [
       "<IPython.core.display.HTML object>"
      ]
     },
     "metadata": {},
     "output_type": "display_data"
    },
    {
     "data": {
      "text/html": [
       " View project at <a href='https://wandb.ai/potapuch2001/Oleinik-BS-Thesis-code' target=\"_blank\">https://wandb.ai/potapuch2001/Oleinik-BS-Thesis-code</a>"
      ],
      "text/plain": [
       "<IPython.core.display.HTML object>"
      ]
     },
     "metadata": {},
     "output_type": "display_data"
    },
    {
     "data": {
      "text/html": [
       " View run at <a href='https://wandb.ai/potapuch2001/Oleinik-BS-Thesis-code/runs/6sjtaq7o' target=\"_blank\">https://wandb.ai/potapuch2001/Oleinik-BS-Thesis-code/runs/6sjtaq7o</a>"
      ],
      "text/plain": [
       "<IPython.core.display.HTML object>"
      ]
     },
     "metadata": {},
     "output_type": "display_data"
    },
    {
     "name": "stderr",
     "output_type": "stream",
     "text": [
      "GPU available: True (cuda), used: True\n",
      "TPU available: False, using: 0 TPU cores\n",
      "IPU available: False, using: 0 IPUs\n",
      "HPU available: False, using: 0 HPUs\n",
      "/home/ganddalf/anaconda3/envs/dl/lib/python3.12/site-packages/lightning/pytorch/loggers/wandb.py:391: There is a wandb run already in progress and newly created instances of `WandbLogger` will reuse this run. If this is not desired, call `wandb.finish()` before instantiating `WandbLogger`.\n",
      "LOCAL_RANK: 0 - CUDA_VISIBLE_DEVICES: [0]\n",
      "\n",
      "  | Name    | Type             | Params\n",
      "---------------------------------------------\n",
      "0 | student | Cifar_Very_Tiny  | 15.1 K\n",
      "1 | teacher | Cifar_Tiny       | 58.0 K\n",
      "2 | loss    | CrossEntropyLoss | 0     \n",
      "---------------------------------------------\n",
      "15.1 K    Trainable params\n",
      "58.0 K    Non-trainable params\n",
      "73.0 K    Total params\n",
      "0.292     Total estimated model params size (MB)\n"
     ]
    },
    {
     "name": "stdout",
     "output_type": "stream",
     "text": [
      "Epoch 0:   6%|▋         | 5/79 [00:00<00:01, 73.71it/s, v_num=aq7o]"
     ]
    },
    {
     "name": "stderr",
     "output_type": "stream",
     "text": [
      "/home/ganddalf/MIPT/Kafedra/Oleinik-BS-Thesis/code/lightning_modules/hinton.py:27: Implicit dimension choice for log_softmax has been deprecated. Change the call to include dim=X as an argument.\n"
     ]
    },
    {
     "name": "stdout",
     "output_type": "stream",
     "text": [
      "Epoch 99: 100%|██████████| 79/79 [00:00<00:00, 152.18it/s, v_num=aq7o]"
     ]
    },
    {
     "name": "stderr",
     "output_type": "stream",
     "text": [
      "`Trainer.fit` stopped: `max_epochs=100` reached.\n"
     ]
    },
    {
     "name": "stdout",
     "output_type": "stream",
     "text": [
      "Epoch 99: 100%|██████████| 79/79 [00:00<00:00, 150.42it/s, v_num=aq7o]\n"
     ]
    },
    {
     "name": "stderr",
     "output_type": "stream",
     "text": [
      "/home/ganddalf/anaconda3/envs/dl/lib/python3.12/site-packages/lightning/pytorch/trainer/connectors/checkpoint_connector.py:145: `.test(ckpt_path=None)` was called without a model. The best model of the previous `fit` call will be used. You can pass `.test(ckpt_path='best')` to use the best model or `.test(ckpt_path='last')` to use the last model. If you pass a value, this warning will be silenced.\n",
      "Restoring states from the checkpoint path at ./lightning_logs/6sjtaq7o/checkpoints/epoch=99-step=7900.ckpt\n",
      "LOCAL_RANK: 0 - CUDA_VISIBLE_DEVICES: [0]\n",
      "Loaded model weights from the checkpoint at ./lightning_logs/6sjtaq7o/checkpoints/epoch=99-step=7900.ckpt\n"
     ]
    },
    {
     "name": "stdout",
     "output_type": "stream",
     "text": [
      "Testing DataLoader 0: 100%|██████████| 79/79 [00:04<00:00, 18.62it/s] \n",
      "────────────────────────────────────────────────────────────────────────────────────────────────────────────────────────\n",
      "       Test metric             DataLoader 0\n",
      "────────────────────────────────────────────────────────────────────────────────────────────────────────────────────────\n",
      "        AUC_FGSM            0.10000000149011612\n",
      "        AUC_Noise           0.10000000149011612\n",
      "        test_acc            0.10000000149011612\n",
      "────────────────────────────────────────────────────────────────────────────────────────────────────────────────────────\n"
     ]
    },
    {
     "data": {
      "text/html": [
       "<style>\n",
       "    table.wandb td:nth-child(1) { padding: 0 10px; text-align: left ; width: auto;} td:nth-child(2) {text-align: left ; width: 100%}\n",
       "    .wandb-row { display: flex; flex-direction: row; flex-wrap: wrap; justify-content: flex-start; width: 100% }\n",
       "    .wandb-col { display: flex; flex-direction: column; flex-basis: 100%; flex: 1; padding: 10px; }\n",
       "    </style>\n",
       "<div class=\"wandb-row\"><div class=\"wandb-col\"><h3>Run history:</h3><br/><table class=\"wandb\"><tr><td>AUC_FGSM</td><td>▁</td></tr><tr><td>AUC_Noise</td><td>▁</td></tr><tr><td>epoch</td><td>▁▁▁▁▂▂▂▂▂▃▃▃▃▃▃▄▄▄▄▄▅▅▅▅▅▅▆▆▆▆▆▇▇▇▇▇▇███</td></tr><tr><td>lr</td><td>▁</td></tr><tr><td>test_acc</td><td>▁</td></tr><tr><td>train_acc</td><td>▄▄▅▆▅▆▆▆▆▇▆▆▆▇▇█▇▇▇▇▇▇▇▇█▇█▇█▇████████▁▁</td></tr><tr><td>train_loss</td><td>█▆▅▄▄▄▄▃▃▃▃▃▃▂▃▁▂▂▂▂▂▂▂▂▂▂▂▂▂▂▂▁▁▁▁▂▁▁  </td></tr><tr><td>trainer/global_step</td><td>▁▁▁▂▂▂▂▂▂▃▃▃▃▃▄▄▄▄▄▄▅▅▅▅▅▅▆▆▆▆▆▇▇▇▇▇▇███</td></tr></table><br/></div><div class=\"wandb-col\"><h3>Run summary:</h3><br/><table class=\"wandb\"><tr><td>AUC_FGSM</td><td>0.1</td></tr><tr><td>AUC_Noise</td><td>0.1</td></tr><tr><td>distillation_type</td><td>hinton</td></tr><tr><td>epoch</td><td>100</td></tr><tr><td>lr</td><td>0.1</td></tr><tr><td>model_name</td><td>very_tiny</td></tr><tr><td>optimizer</td><td>SGD</td></tr><tr><td>test_acc</td><td>0.1</td></tr><tr><td>train_acc</td><td>0.08594</td></tr><tr><td>train_loss</td><td>nan</td></tr><tr><td>trainer/global_step</td><td>7900</td></tr></table><br/></div></div>"
      ],
      "text/plain": [
       "<IPython.core.display.HTML object>"
      ]
     },
     "metadata": {},
     "output_type": "display_data"
    },
    {
     "data": {
      "text/html": [
       " View run <strong style=\"color:#cdcd00\">olive-surf-264</strong> at: <a href='https://wandb.ai/potapuch2001/Oleinik-BS-Thesis-code/runs/6sjtaq7o' target=\"_blank\">https://wandb.ai/potapuch2001/Oleinik-BS-Thesis-code/runs/6sjtaq7o</a><br/> View project at: <a href='https://wandb.ai/potapuch2001/Oleinik-BS-Thesis-code' target=\"_blank\">https://wandb.ai/potapuch2001/Oleinik-BS-Thesis-code</a><br/>Synced 6 W&B file(s), 2 media file(s), 2 artifact file(s) and 0 other file(s)"
      ],
      "text/plain": [
       "<IPython.core.display.HTML object>"
      ]
     },
     "metadata": {},
     "output_type": "display_data"
    },
    {
     "data": {
      "text/html": [
       "Find logs at: <code>./wandb/run-20240623_013156-6sjtaq7o/logs</code>"
      ],
      "text/plain": [
       "<IPython.core.display.HTML object>"
      ]
     },
     "metadata": {},
     "output_type": "display_data"
    },
    {
     "data": {
      "text/html": [
       "wandb version 0.17.2 is available!  To upgrade, please run:\n",
       " $ pip install wandb --upgrade"
      ],
      "text/plain": [
       "<IPython.core.display.HTML object>"
      ]
     },
     "metadata": {},
     "output_type": "display_data"
    },
    {
     "data": {
      "text/html": [
       "Tracking run with wandb version 0.16.6"
      ],
      "text/plain": [
       "<IPython.core.display.HTML object>"
      ]
     },
     "metadata": {},
     "output_type": "display_data"
    },
    {
     "data": {
      "text/html": [
       "Run data is saved locally in <code>/home/ganddalf/MIPT/Kafedra/Oleinik-BS-Thesis/code/wandb/run-20240623_013309-2ajbq2e2</code>"
      ],
      "text/plain": [
       "<IPython.core.display.HTML object>"
      ]
     },
     "metadata": {},
     "output_type": "display_data"
    },
    {
     "data": {
      "text/html": [
       "Syncing run <strong><a href='https://wandb.ai/potapuch2001/Oleinik-BS-Thesis-code/runs/2ajbq2e2' target=\"_blank\">eternal-serenity-265</a></strong> to <a href='https://wandb.ai/potapuch2001/Oleinik-BS-Thesis-code' target=\"_blank\">Weights & Biases</a> (<a href='https://wandb.me/run' target=\"_blank\">docs</a>)<br/>"
      ],
      "text/plain": [
       "<IPython.core.display.HTML object>"
      ]
     },
     "metadata": {},
     "output_type": "display_data"
    },
    {
     "data": {
      "text/html": [
       " View project at <a href='https://wandb.ai/potapuch2001/Oleinik-BS-Thesis-code' target=\"_blank\">https://wandb.ai/potapuch2001/Oleinik-BS-Thesis-code</a>"
      ],
      "text/plain": [
       "<IPython.core.display.HTML object>"
      ]
     },
     "metadata": {},
     "output_type": "display_data"
    },
    {
     "data": {
      "text/html": [
       " View run at <a href='https://wandb.ai/potapuch2001/Oleinik-BS-Thesis-code/runs/2ajbq2e2' target=\"_blank\">https://wandb.ai/potapuch2001/Oleinik-BS-Thesis-code/runs/2ajbq2e2</a>"
      ],
      "text/plain": [
       "<IPython.core.display.HTML object>"
      ]
     },
     "metadata": {},
     "output_type": "display_data"
    },
    {
     "name": "stderr",
     "output_type": "stream",
     "text": [
      "GPU available: True (cuda), used: True\n",
      "TPU available: False, using: 0 TPU cores\n",
      "IPU available: False, using: 0 IPUs\n",
      "HPU available: False, using: 0 HPUs\n",
      "/home/ganddalf/anaconda3/envs/dl/lib/python3.12/site-packages/lightning/pytorch/loggers/wandb.py:391: There is a wandb run already in progress and newly created instances of `WandbLogger` will reuse this run. If this is not desired, call `wandb.finish()` before instantiating `WandbLogger`.\n",
      "LOCAL_RANK: 0 - CUDA_VISIBLE_DEVICES: [0]\n",
      "\n",
      "  | Name    | Type             | Params\n",
      "---------------------------------------------\n",
      "0 | student | Cifar_Very_Tiny  | 15.1 K\n",
      "1 | teacher | Cifar_Tiny       | 58.0 K\n",
      "2 | loss    | CrossEntropyLoss | 0     \n",
      "---------------------------------------------\n",
      "15.1 K    Trainable params\n",
      "58.0 K    Non-trainable params\n",
      "73.0 K    Total params\n",
      "0.292     Total estimated model params size (MB)\n"
     ]
    },
    {
     "name": "stdout",
     "output_type": "stream",
     "text": [
      "Epoch 0:   5%|▌         | 4/79 [00:00<00:01, 63.15it/s, v_num=q2e2]"
     ]
    },
    {
     "name": "stderr",
     "output_type": "stream",
     "text": [
      "/home/ganddalf/MIPT/Kafedra/Oleinik-BS-Thesis/code/lightning_modules/hinton.py:27: Implicit dimension choice for log_softmax has been deprecated. Change the call to include dim=X as an argument.\n"
     ]
    },
    {
     "name": "stdout",
     "output_type": "stream",
     "text": [
      "Epoch 99: 100%|██████████| 79/79 [00:00<00:00, 146.18it/s, v_num=q2e2]"
     ]
    },
    {
     "name": "stderr",
     "output_type": "stream",
     "text": [
      "`Trainer.fit` stopped: `max_epochs=100` reached.\n"
     ]
    },
    {
     "name": "stdout",
     "output_type": "stream",
     "text": [
      "Epoch 99: 100%|██████████| 79/79 [00:00<00:00, 144.72it/s, v_num=q2e2]\n"
     ]
    },
    {
     "name": "stderr",
     "output_type": "stream",
     "text": [
      "/home/ganddalf/anaconda3/envs/dl/lib/python3.12/site-packages/lightning/pytorch/trainer/connectors/checkpoint_connector.py:145: `.test(ckpt_path=None)` was called without a model. The best model of the previous `fit` call will be used. You can pass `.test(ckpt_path='best')` to use the best model or `.test(ckpt_path='last')` to use the last model. If you pass a value, this warning will be silenced.\n",
      "Restoring states from the checkpoint path at ./lightning_logs/2ajbq2e2/checkpoints/epoch=99-step=7900.ckpt\n",
      "LOCAL_RANK: 0 - CUDA_VISIBLE_DEVICES: [0]\n",
      "Loaded model weights from the checkpoint at ./lightning_logs/2ajbq2e2/checkpoints/epoch=99-step=7900.ckpt\n"
     ]
    },
    {
     "name": "stdout",
     "output_type": "stream",
     "text": [
      "Testing DataLoader 0: 100%|██████████| 79/79 [00:04<00:00, 16.59it/s] \n",
      "────────────────────────────────────────────────────────────────────────────────────────────────────────────────────────\n",
      "       Test metric             DataLoader 0\n",
      "────────────────────────────────────────────────────────────────────────────────────────────────────────────────────────\n",
      "        AUC_FGSM            0.10000000149011612\n",
      "        AUC_Noise           0.10000000149011612\n",
      "        test_acc            0.10000000149011612\n",
      "────────────────────────────────────────────────────────────────────────────────────────────────────────────────────────\n"
     ]
    },
    {
     "data": {
      "text/html": [
       "<style>\n",
       "    table.wandb td:nth-child(1) { padding: 0 10px; text-align: left ; width: auto;} td:nth-child(2) {text-align: left ; width: 100%}\n",
       "    .wandb-row { display: flex; flex-direction: row; flex-wrap: wrap; justify-content: flex-start; width: 100% }\n",
       "    .wandb-col { display: flex; flex-direction: column; flex-basis: 100%; flex: 1; padding: 10px; }\n",
       "    </style>\n",
       "<div class=\"wandb-row\"><div class=\"wandb-col\"><h3>Run history:</h3><br/><table class=\"wandb\"><tr><td>AUC_FGSM</td><td>▁</td></tr><tr><td>AUC_Noise</td><td>▁</td></tr><tr><td>epoch</td><td>▁▁▁▁▂▂▂▂▂▃▃▃▃▃▃▄▄▄▄▄▅▅▅▅▅▅▆▆▆▆▆▇▇▇▇▇▇███</td></tr><tr><td>lr</td><td>▁</td></tr><tr><td>test_acc</td><td>▁</td></tr><tr><td>train_acc</td><td>▄▄▅▅▅▆▆▇▆▆▆▇▇▇▇▇▇▇▇▇▇▇█▇██▇██▇█▇▇███▁▁▁▁</td></tr><tr><td>train_loss</td><td>█▆▅▄▄▃▄▃▃▃▃▃▂▂▃▂▂▃▂▂▂▂▂▂▁▂▂▁▁▂▁▁▂▁▂▁    </td></tr><tr><td>trainer/global_step</td><td>▁▁▁▂▂▂▂▂▂▃▃▃▃▃▄▄▄▄▄▄▅▅▅▅▅▅▆▆▆▆▆▇▇▇▇▇▇███</td></tr></table><br/></div><div class=\"wandb-col\"><h3>Run summary:</h3><br/><table class=\"wandb\"><tr><td>AUC_FGSM</td><td>0.1</td></tr><tr><td>AUC_Noise</td><td>0.1</td></tr><tr><td>distillation_type</td><td>hinton</td></tr><tr><td>epoch</td><td>100</td></tr><tr><td>lr</td><td>0.1</td></tr><tr><td>model_name</td><td>very_tiny</td></tr><tr><td>optimizer</td><td>SGD</td></tr><tr><td>test_acc</td><td>0.1</td></tr><tr><td>train_acc</td><td>0.08594</td></tr><tr><td>train_loss</td><td>nan</td></tr><tr><td>trainer/global_step</td><td>7900</td></tr></table><br/></div></div>"
      ],
      "text/plain": [
       "<IPython.core.display.HTML object>"
      ]
     },
     "metadata": {},
     "output_type": "display_data"
    },
    {
     "data": {
      "text/html": [
       " View run <strong style=\"color:#cdcd00\">eternal-serenity-265</strong> at: <a href='https://wandb.ai/potapuch2001/Oleinik-BS-Thesis-code/runs/2ajbq2e2' target=\"_blank\">https://wandb.ai/potapuch2001/Oleinik-BS-Thesis-code/runs/2ajbq2e2</a><br/> View project at: <a href='https://wandb.ai/potapuch2001/Oleinik-BS-Thesis-code' target=\"_blank\">https://wandb.ai/potapuch2001/Oleinik-BS-Thesis-code</a><br/>Synced 6 W&B file(s), 2 media file(s), 2 artifact file(s) and 0 other file(s)"
      ],
      "text/plain": [
       "<IPython.core.display.HTML object>"
      ]
     },
     "metadata": {},
     "output_type": "display_data"
    },
    {
     "data": {
      "text/html": [
       "Find logs at: <code>./wandb/run-20240623_013309-2ajbq2e2/logs</code>"
      ],
      "text/plain": [
       "<IPython.core.display.HTML object>"
      ]
     },
     "metadata": {},
     "output_type": "display_data"
    },
    {
     "data": {
      "text/html": [
       "wandb version 0.17.2 is available!  To upgrade, please run:\n",
       " $ pip install wandb --upgrade"
      ],
      "text/plain": [
       "<IPython.core.display.HTML object>"
      ]
     },
     "metadata": {},
     "output_type": "display_data"
    },
    {
     "data": {
      "text/html": [
       "Tracking run with wandb version 0.16.6"
      ],
      "text/plain": [
       "<IPython.core.display.HTML object>"
      ]
     },
     "metadata": {},
     "output_type": "display_data"
    },
    {
     "data": {
      "text/html": [
       "Run data is saved locally in <code>/home/ganddalf/MIPT/Kafedra/Oleinik-BS-Thesis/code/wandb/run-20240623_013420-asd5an5a</code>"
      ],
      "text/plain": [
       "<IPython.core.display.HTML object>"
      ]
     },
     "metadata": {},
     "output_type": "display_data"
    },
    {
     "data": {
      "text/html": [
       "Syncing run <strong><a href='https://wandb.ai/potapuch2001/Oleinik-BS-Thesis-code/runs/asd5an5a' target=\"_blank\">proud-moon-266</a></strong> to <a href='https://wandb.ai/potapuch2001/Oleinik-BS-Thesis-code' target=\"_blank\">Weights & Biases</a> (<a href='https://wandb.me/run' target=\"_blank\">docs</a>)<br/>"
      ],
      "text/plain": [
       "<IPython.core.display.HTML object>"
      ]
     },
     "metadata": {},
     "output_type": "display_data"
    },
    {
     "data": {
      "text/html": [
       " View project at <a href='https://wandb.ai/potapuch2001/Oleinik-BS-Thesis-code' target=\"_blank\">https://wandb.ai/potapuch2001/Oleinik-BS-Thesis-code</a>"
      ],
      "text/plain": [
       "<IPython.core.display.HTML object>"
      ]
     },
     "metadata": {},
     "output_type": "display_data"
    },
    {
     "data": {
      "text/html": [
       " View run at <a href='https://wandb.ai/potapuch2001/Oleinik-BS-Thesis-code/runs/asd5an5a' target=\"_blank\">https://wandb.ai/potapuch2001/Oleinik-BS-Thesis-code/runs/asd5an5a</a>"
      ],
      "text/plain": [
       "<IPython.core.display.HTML object>"
      ]
     },
     "metadata": {},
     "output_type": "display_data"
    },
    {
     "name": "stderr",
     "output_type": "stream",
     "text": [
      "GPU available: True (cuda), used: True\n",
      "TPU available: False, using: 0 TPU cores\n",
      "IPU available: False, using: 0 IPUs\n",
      "HPU available: False, using: 0 HPUs\n",
      "/home/ganddalf/anaconda3/envs/dl/lib/python3.12/site-packages/lightning/pytorch/loggers/wandb.py:391: There is a wandb run already in progress and newly created instances of `WandbLogger` will reuse this run. If this is not desired, call `wandb.finish()` before instantiating `WandbLogger`.\n",
      "LOCAL_RANK: 0 - CUDA_VISIBLE_DEVICES: [0]\n",
      "\n",
      "  | Name    | Type             | Params\n",
      "---------------------------------------------\n",
      "0 | student | Cifar_Very_Tiny  | 15.1 K\n",
      "1 | teacher | Cifar_Tiny       | 58.0 K\n",
      "2 | loss    | CrossEntropyLoss | 0     \n",
      "---------------------------------------------\n",
      "15.1 K    Trainable params\n",
      "58.0 K    Non-trainable params\n",
      "73.0 K    Total params\n",
      "0.292     Total estimated model params size (MB)\n"
     ]
    },
    {
     "name": "stdout",
     "output_type": "stream",
     "text": [
      "Epoch 0:   6%|▋         | 5/79 [00:00<00:00, 74.10it/s, v_num=an5a]"
     ]
    },
    {
     "name": "stderr",
     "output_type": "stream",
     "text": [
      "/home/ganddalf/MIPT/Kafedra/Oleinik-BS-Thesis/code/lightning_modules/hinton.py:27: Implicit dimension choice for log_softmax has been deprecated. Change the call to include dim=X as an argument.\n"
     ]
    },
    {
     "name": "stdout",
     "output_type": "stream",
     "text": [
      "Epoch 99: 100%|██████████| 79/79 [00:00<00:00, 145.35it/s, v_num=an5a]"
     ]
    },
    {
     "name": "stderr",
     "output_type": "stream",
     "text": [
      "`Trainer.fit` stopped: `max_epochs=100` reached.\n"
     ]
    },
    {
     "name": "stdout",
     "output_type": "stream",
     "text": [
      "Epoch 99: 100%|██████████| 79/79 [00:00<00:00, 143.49it/s, v_num=an5a]\n"
     ]
    },
    {
     "name": "stderr",
     "output_type": "stream",
     "text": [
      "/home/ganddalf/anaconda3/envs/dl/lib/python3.12/site-packages/lightning/pytorch/trainer/connectors/checkpoint_connector.py:145: `.test(ckpt_path=None)` was called without a model. The best model of the previous `fit` call will be used. You can pass `.test(ckpt_path='best')` to use the best model or `.test(ckpt_path='last')` to use the last model. If you pass a value, this warning will be silenced.\n",
      "Restoring states from the checkpoint path at ./lightning_logs/asd5an5a/checkpoints/epoch=99-step=7900.ckpt\n",
      "LOCAL_RANK: 0 - CUDA_VISIBLE_DEVICES: [0]\n",
      "Loaded model weights from the checkpoint at ./lightning_logs/asd5an5a/checkpoints/epoch=99-step=7900.ckpt\n"
     ]
    },
    {
     "name": "stdout",
     "output_type": "stream",
     "text": [
      "Testing DataLoader 0: 100%|██████████| 79/79 [00:04<00:00, 17.99it/s] \n",
      "────────────────────────────────────────────────────────────────────────────────────────────────────────────────────────\n",
      "       Test metric             DataLoader 0\n",
      "────────────────────────────────────────────────────────────────────────────────────────────────────────────────────────\n",
      "        AUC_FGSM            0.10000000149011612\n",
      "        AUC_Noise           0.10000000149011612\n",
      "        test_acc            0.10000000149011612\n",
      "────────────────────────────────────────────────────────────────────────────────────────────────────────────────────────\n"
     ]
    },
    {
     "data": {
      "text/html": [
       "<style>\n",
       "    table.wandb td:nth-child(1) { padding: 0 10px; text-align: left ; width: auto;} td:nth-child(2) {text-align: left ; width: 100%}\n",
       "    .wandb-row { display: flex; flex-direction: row; flex-wrap: wrap; justify-content: flex-start; width: 100% }\n",
       "    .wandb-col { display: flex; flex-direction: column; flex-basis: 100%; flex: 1; padding: 10px; }\n",
       "    </style>\n",
       "<div class=\"wandb-row\"><div class=\"wandb-col\"><h3>Run history:</h3><br/><table class=\"wandb\"><tr><td>AUC_FGSM</td><td>▁</td></tr><tr><td>AUC_Noise</td><td>▁</td></tr><tr><td>epoch</td><td>▁▁▁▁▂▂▂▂▂▃▃▃▃▃▃▄▄▄▄▄▅▅▅▅▅▅▆▆▆▆▆▇▇▇▇▇▇███</td></tr><tr><td>lr</td><td>▁</td></tr><tr><td>test_acc</td><td>▁</td></tr><tr><td>train_acc</td><td>▄▄▅▅▅▆▅▇▆▆▇▆▇▇▆▇▇▇▇▇▇▇▇▇▇▇▇██▇██████▁▁▁▁</td></tr><tr><td>train_loss</td><td>█▆▆▅▄▄▄▃▃▃▃▃▃▃▃▃▂▂▂▂▂▂▂▁▂▂▂▂▁▂▁▁▁▂▁▁    </td></tr><tr><td>trainer/global_step</td><td>▁▁▁▂▂▂▂▂▂▃▃▃▃▃▄▄▄▄▄▄▅▅▅▅▅▅▆▆▆▆▆▇▇▇▇▇▇███</td></tr></table><br/></div><div class=\"wandb-col\"><h3>Run summary:</h3><br/><table class=\"wandb\"><tr><td>AUC_FGSM</td><td>0.1</td></tr><tr><td>AUC_Noise</td><td>0.1</td></tr><tr><td>distillation_type</td><td>hinton</td></tr><tr><td>epoch</td><td>100</td></tr><tr><td>lr</td><td>0.1</td></tr><tr><td>model_name</td><td>very_tiny</td></tr><tr><td>optimizer</td><td>SGD</td></tr><tr><td>test_acc</td><td>0.1</td></tr><tr><td>train_acc</td><td>0.08594</td></tr><tr><td>train_loss</td><td>nan</td></tr><tr><td>trainer/global_step</td><td>7900</td></tr></table><br/></div></div>"
      ],
      "text/plain": [
       "<IPython.core.display.HTML object>"
      ]
     },
     "metadata": {},
     "output_type": "display_data"
    },
    {
     "data": {
      "text/html": [
       " View run <strong style=\"color:#cdcd00\">proud-moon-266</strong> at: <a href='https://wandb.ai/potapuch2001/Oleinik-BS-Thesis-code/runs/asd5an5a' target=\"_blank\">https://wandb.ai/potapuch2001/Oleinik-BS-Thesis-code/runs/asd5an5a</a><br/> View project at: <a href='https://wandb.ai/potapuch2001/Oleinik-BS-Thesis-code' target=\"_blank\">https://wandb.ai/potapuch2001/Oleinik-BS-Thesis-code</a><br/>Synced 6 W&B file(s), 2 media file(s), 2 artifact file(s) and 0 other file(s)"
      ],
      "text/plain": [
       "<IPython.core.display.HTML object>"
      ]
     },
     "metadata": {},
     "output_type": "display_data"
    },
    {
     "data": {
      "text/html": [
       "Find logs at: <code>./wandb/run-20240623_013420-asd5an5a/logs</code>"
      ],
      "text/plain": [
       "<IPython.core.display.HTML object>"
      ]
     },
     "metadata": {},
     "output_type": "display_data"
    },
    {
     "data": {
      "text/html": [
       "wandb version 0.17.2 is available!  To upgrade, please run:\n",
       " $ pip install wandb --upgrade"
      ],
      "text/plain": [
       "<IPython.core.display.HTML object>"
      ]
     },
     "metadata": {},
     "output_type": "display_data"
    },
    {
     "data": {
      "text/html": [
       "Tracking run with wandb version 0.16.6"
      ],
      "text/plain": [
       "<IPython.core.display.HTML object>"
      ]
     },
     "metadata": {},
     "output_type": "display_data"
    },
    {
     "data": {
      "text/html": [
       "Run data is saved locally in <code>/home/ganddalf/MIPT/Kafedra/Oleinik-BS-Thesis/code/wandb/run-20240623_013533-0j8jewd8</code>"
      ],
      "text/plain": [
       "<IPython.core.display.HTML object>"
      ]
     },
     "metadata": {},
     "output_type": "display_data"
    },
    {
     "data": {
      "text/html": [
       "Syncing run <strong><a href='https://wandb.ai/potapuch2001/Oleinik-BS-Thesis-code/runs/0j8jewd8' target=\"_blank\">frosty-breeze-267</a></strong> to <a href='https://wandb.ai/potapuch2001/Oleinik-BS-Thesis-code' target=\"_blank\">Weights & Biases</a> (<a href='https://wandb.me/run' target=\"_blank\">docs</a>)<br/>"
      ],
      "text/plain": [
       "<IPython.core.display.HTML object>"
      ]
     },
     "metadata": {},
     "output_type": "display_data"
    },
    {
     "data": {
      "text/html": [
       " View project at <a href='https://wandb.ai/potapuch2001/Oleinik-BS-Thesis-code' target=\"_blank\">https://wandb.ai/potapuch2001/Oleinik-BS-Thesis-code</a>"
      ],
      "text/plain": [
       "<IPython.core.display.HTML object>"
      ]
     },
     "metadata": {},
     "output_type": "display_data"
    },
    {
     "data": {
      "text/html": [
       " View run at <a href='https://wandb.ai/potapuch2001/Oleinik-BS-Thesis-code/runs/0j8jewd8' target=\"_blank\">https://wandb.ai/potapuch2001/Oleinik-BS-Thesis-code/runs/0j8jewd8</a>"
      ],
      "text/plain": [
       "<IPython.core.display.HTML object>"
      ]
     },
     "metadata": {},
     "output_type": "display_data"
    },
    {
     "name": "stderr",
     "output_type": "stream",
     "text": [
      "GPU available: True (cuda), used: True\n",
      "TPU available: False, using: 0 TPU cores\n",
      "IPU available: False, using: 0 IPUs\n",
      "HPU available: False, using: 0 HPUs\n",
      "/home/ganddalf/anaconda3/envs/dl/lib/python3.12/site-packages/lightning/pytorch/loggers/wandb.py:391: There is a wandb run already in progress and newly created instances of `WandbLogger` will reuse this run. If this is not desired, call `wandb.finish()` before instantiating `WandbLogger`.\n",
      "LOCAL_RANK: 0 - CUDA_VISIBLE_DEVICES: [0]\n",
      "\n",
      "  | Name    | Type             | Params\n",
      "---------------------------------------------\n",
      "0 | student | Cifar_Very_Tiny  | 15.1 K\n",
      "1 | teacher | Cifar_Tiny       | 58.0 K\n",
      "2 | loss    | CrossEntropyLoss | 0     \n",
      "---------------------------------------------\n",
      "15.1 K    Trainable params\n",
      "58.0 K    Non-trainable params\n",
      "73.0 K    Total params\n",
      "0.292     Total estimated model params size (MB)\n"
     ]
    },
    {
     "name": "stdout",
     "output_type": "stream",
     "text": [
      "Epoch 0:   8%|▊         | 6/79 [00:00<00:00, 87.35it/s, v_num=ewd8]"
     ]
    },
    {
     "name": "stderr",
     "output_type": "stream",
     "text": [
      "/home/ganddalf/MIPT/Kafedra/Oleinik-BS-Thesis/code/lightning_modules/hinton.py:27: Implicit dimension choice for log_softmax has been deprecated. Change the call to include dim=X as an argument.\n"
     ]
    },
    {
     "name": "stdout",
     "output_type": "stream",
     "text": [
      "Epoch 99: 100%|██████████| 79/79 [00:00<00:00, 143.78it/s, v_num=ewd8]"
     ]
    },
    {
     "name": "stderr",
     "output_type": "stream",
     "text": [
      "`Trainer.fit` stopped: `max_epochs=100` reached.\n"
     ]
    },
    {
     "name": "stdout",
     "output_type": "stream",
     "text": [
      "Epoch 99: 100%|██████████| 79/79 [00:00<00:00, 141.96it/s, v_num=ewd8]\n"
     ]
    },
    {
     "name": "stderr",
     "output_type": "stream",
     "text": [
      "/home/ganddalf/anaconda3/envs/dl/lib/python3.12/site-packages/lightning/pytorch/trainer/connectors/checkpoint_connector.py:145: `.test(ckpt_path=None)` was called without a model. The best model of the previous `fit` call will be used. You can pass `.test(ckpt_path='best')` to use the best model or `.test(ckpt_path='last')` to use the last model. If you pass a value, this warning will be silenced.\n",
      "Restoring states from the checkpoint path at ./lightning_logs/0j8jewd8/checkpoints/epoch=99-step=7900.ckpt\n",
      "LOCAL_RANK: 0 - CUDA_VISIBLE_DEVICES: [0]\n",
      "Loaded model weights from the checkpoint at ./lightning_logs/0j8jewd8/checkpoints/epoch=99-step=7900.ckpt\n"
     ]
    },
    {
     "name": "stdout",
     "output_type": "stream",
     "text": [
      "Testing DataLoader 0: 100%|██████████| 79/79 [00:04<00:00, 19.29it/s] \n",
      "────────────────────────────────────────────────────────────────────────────────────────────────────────────────────────\n",
      "       Test metric             DataLoader 0\n",
      "────────────────────────────────────────────────────────────────────────────────────────────────────────────────────────\n",
      "        AUC_FGSM            0.19915525615215302\n",
      "        AUC_Noise           0.4890102446079254\n",
      "        test_acc            0.5580999851226807\n",
      "────────────────────────────────────────────────────────────────────────────────────────────────────────────────────────\n"
     ]
    },
    {
     "data": {
      "text/html": [
       "<style>\n",
       "    table.wandb td:nth-child(1) { padding: 0 10px; text-align: left ; width: auto;} td:nth-child(2) {text-align: left ; width: 100%}\n",
       "    .wandb-row { display: flex; flex-direction: row; flex-wrap: wrap; justify-content: flex-start; width: 100% }\n",
       "    .wandb-col { display: flex; flex-direction: column; flex-basis: 100%; flex: 1; padding: 10px; }\n",
       "    </style>\n",
       "<div class=\"wandb-row\"><div class=\"wandb-col\"><h3>Run history:</h3><br/><table class=\"wandb\"><tr><td>AUC_FGSM</td><td>▁</td></tr><tr><td>AUC_Noise</td><td>▁</td></tr><tr><td>epoch</td><td>▁▁▁▁▂▂▂▂▂▃▃▃▃▃▃▄▄▄▄▄▅▅▅▅▅▅▆▆▆▆▆▇▇▇▇▇▇███</td></tr><tr><td>lr</td><td>▁</td></tr><tr><td>test_acc</td><td>▁</td></tr><tr><td>train_acc</td><td>▁▂▃▄▃▅▄▅▄▆▅▆▅▆▅▇▆▆█▇▆▇▇▆▇▇▇█▇▇█▇▇█▇▇▇███</td></tr><tr><td>train_loss</td><td>█▆▅▄▄▃▃▃▃▃▃▂▂▃▃▂▂▂▁▂▂▁▁▂▂▂▂▁▁▂▁▁▁▁▂▂▁▁▁▁</td></tr><tr><td>trainer/global_step</td><td>▁▁▁▂▂▂▂▂▂▃▃▃▃▃▄▄▄▄▄▄▅▅▅▅▅▅▆▆▆▆▆▇▇▇▇▇▇███</td></tr></table><br/></div><div class=\"wandb-col\"><h3>Run summary:</h3><br/><table class=\"wandb\"><tr><td>AUC_FGSM</td><td>0.19916</td></tr><tr><td>AUC_Noise</td><td>0.48901</td></tr><tr><td>distillation_type</td><td>hinton</td></tr><tr><td>epoch</td><td>100</td></tr><tr><td>lr</td><td>0.1</td></tr><tr><td>model_name</td><td>very_tiny</td></tr><tr><td>optimizer</td><td>SGD</td></tr><tr><td>test_acc</td><td>0.5581</td></tr><tr><td>train_acc</td><td>0.96875</td></tr><tr><td>train_loss</td><td>0.21344</td></tr><tr><td>trainer/global_step</td><td>7900</td></tr></table><br/></div></div>"
      ],
      "text/plain": [
       "<IPython.core.display.HTML object>"
      ]
     },
     "metadata": {},
     "output_type": "display_data"
    },
    {
     "data": {
      "text/html": [
       " View run <strong style=\"color:#cdcd00\">frosty-breeze-267</strong> at: <a href='https://wandb.ai/potapuch2001/Oleinik-BS-Thesis-code/runs/0j8jewd8' target=\"_blank\">https://wandb.ai/potapuch2001/Oleinik-BS-Thesis-code/runs/0j8jewd8</a><br/> View project at: <a href='https://wandb.ai/potapuch2001/Oleinik-BS-Thesis-code' target=\"_blank\">https://wandb.ai/potapuch2001/Oleinik-BS-Thesis-code</a><br/>Synced 6 W&B file(s), 2 media file(s), 2 artifact file(s) and 0 other file(s)"
      ],
      "text/plain": [
       "<IPython.core.display.HTML object>"
      ]
     },
     "metadata": {},
     "output_type": "display_data"
    },
    {
     "data": {
      "text/html": [
       "Find logs at: <code>./wandb/run-20240623_013533-0j8jewd8/logs</code>"
      ],
      "text/plain": [
       "<IPython.core.display.HTML object>"
      ]
     },
     "metadata": {},
     "output_type": "display_data"
    }
   ],
   "source": [
    "for _ in range(5):\n",
    "    with wandb.init() as run:\n",
    "        wandb.log({\n",
    "            \"model_name\": \"very_tiny\",\n",
    "            \"distillation_type\": \"hinton\",\n",
    "        })\n",
    "        teacher = Base_Model.load_from_checkpoint(\"./lightning_logs/bov6ycbq/checkpoints/epoch=99-step=7900.ckpt\", model=Cifar_Tiny(10)).model\n",
    "        model = Hinton_Distillation(student=Cifar_Very_Tiny(10), teacher=teacher)\n",
    "        trainer = L.Trainer(max_epochs=100, logger=WandbLogger(), inference_mode=False)\n",
    "        trainer.fit(model=model, train_dataloaders=train_loader)\n",
    "        trainer.test(dataloaders=test_loader)"
   ]
  },
  {
   "cell_type": "markdown",
   "metadata": {},
   "source": [
    "## Дистилляция междуслойная"
   ]
  },
  {
   "cell_type": "code",
   "execution_count": 6,
   "metadata": {},
   "outputs": [],
   "source": [
    "coeffs_one_to_one = [1, 0, 0, 0,\n",
    "                     0, 1, 0, 0,\n",
    "                     0, 0, 1, 0,\n",
    "                     0, 0, 0, 1]\n",
    "coeffs_all_to_one = [0, 0, 1, 0,\n",
    "                     0, 0, 1, 0,\n",
    "                     0, 0, 1, 0,\n",
    "                     0, 0, 1, 0]\n",
    "coeffs_all_to_all = [1/4.0 for _ in range(16)]\n",
    "\n",
    "def random_coeffs():\n",
    "    coeffs = np.random.rand(16)\n",
    "    coeffs = coeffs * 4 / sum(coeffs)\n",
    "    return list(coeffs)"
   ]
  },
  {
   "cell_type": "markdown",
   "metadata": {},
   "source": [
    "### По схеме \"один к одному\""
   ]
  },
  {
   "cell_type": "code",
   "execution_count": 7,
   "metadata": {},
   "outputs": [
    {
     "data": {
      "text/html": [
       "wandb version 0.17.2 is available!  To upgrade, please run:\n",
       " $ pip install wandb --upgrade"
      ],
      "text/plain": [
       "<IPython.core.display.HTML object>"
      ]
     },
     "metadata": {},
     "output_type": "display_data"
    },
    {
     "data": {
      "text/html": [
       "Tracking run with wandb version 0.16.6"
      ],
      "text/plain": [
       "<IPython.core.display.HTML object>"
      ]
     },
     "metadata": {},
     "output_type": "display_data"
    },
    {
     "data": {
      "text/html": [
       "Run data is saved locally in <code>/home/ganddalf/MIPT/Kafedra/Oleinik-BS-Thesis/code/wandb/run-20240623_013644-yenom022</code>"
      ],
      "text/plain": [
       "<IPython.core.display.HTML object>"
      ]
     },
     "metadata": {},
     "output_type": "display_data"
    },
    {
     "data": {
      "text/html": [
       "Syncing run <strong><a href='https://wandb.ai/potapuch2001/Oleinik-BS-Thesis-code/runs/yenom022' target=\"_blank\">sleek-totem-268</a></strong> to <a href='https://wandb.ai/potapuch2001/Oleinik-BS-Thesis-code' target=\"_blank\">Weights & Biases</a> (<a href='https://wandb.me/run' target=\"_blank\">docs</a>)<br/>"
      ],
      "text/plain": [
       "<IPython.core.display.HTML object>"
      ]
     },
     "metadata": {},
     "output_type": "display_data"
    },
    {
     "data": {
      "text/html": [
       " View project at <a href='https://wandb.ai/potapuch2001/Oleinik-BS-Thesis-code' target=\"_blank\">https://wandb.ai/potapuch2001/Oleinik-BS-Thesis-code</a>"
      ],
      "text/plain": [
       "<IPython.core.display.HTML object>"
      ]
     },
     "metadata": {},
     "output_type": "display_data"
    },
    {
     "data": {
      "text/html": [
       " View run at <a href='https://wandb.ai/potapuch2001/Oleinik-BS-Thesis-code/runs/yenom022' target=\"_blank\">https://wandb.ai/potapuch2001/Oleinik-BS-Thesis-code/runs/yenom022</a>"
      ],
      "text/plain": [
       "<IPython.core.display.HTML object>"
      ]
     },
     "metadata": {},
     "output_type": "display_data"
    },
    {
     "name": "stderr",
     "output_type": "stream",
     "text": [
      "GPU available: True (cuda), used: True\n",
      "TPU available: False, using: 0 TPU cores\n",
      "IPU available: False, using: 0 IPUs\n",
      "HPU available: False, using: 0 HPUs\n",
      "/home/ganddalf/anaconda3/envs/dl/lib/python3.12/site-packages/lightning/pytorch/loggers/wandb.py:391: There is a wandb run already in progress and newly created instances of `WandbLogger` will reuse this run. If this is not desired, call `wandb.finish()` before instantiating `WandbLogger`.\n",
      "LOCAL_RANK: 0 - CUDA_VISIBLE_DEVICES: [0]\n",
      "\n",
      "  | Name    | Type             | Params\n",
      "---------------------------------------------\n",
      "0 | student | Cifar_Very_Tiny  | 15.1 K\n",
      "1 | teacher | Cifar_Tiny       | 58.0 K\n",
      "2 | loss    | CrossEntropyLoss | 0     \n",
      "---------------------------------------------\n",
      "15.1 K    Trainable params\n",
      "58.0 K    Non-trainable params\n",
      "73.0 K    Total params\n",
      "0.292     Total estimated model params size (MB)\n"
     ]
    },
    {
     "name": "stdout",
     "output_type": "stream",
     "text": [
      "Epoch 99: 100%|██████████| 79/79 [00:02<00:00, 35.24it/s, v_num=m022]"
     ]
    },
    {
     "name": "stderr",
     "output_type": "stream",
     "text": [
      "`Trainer.fit` stopped: `max_epochs=100` reached.\n"
     ]
    },
    {
     "name": "stdout",
     "output_type": "stream",
     "text": [
      "Epoch 99: 100%|██████████| 79/79 [00:02<00:00, 35.10it/s, v_num=m022]\n"
     ]
    },
    {
     "name": "stderr",
     "output_type": "stream",
     "text": [
      "/home/ganddalf/anaconda3/envs/dl/lib/python3.12/site-packages/lightning/pytorch/trainer/connectors/checkpoint_connector.py:145: `.test(ckpt_path=None)` was called without a model. The best model of the previous `fit` call will be used. You can pass `.test(ckpt_path='best')` to use the best model or `.test(ckpt_path='last')` to use the last model. If you pass a value, this warning will be silenced.\n",
      "Restoring states from the checkpoint path at ./lightning_logs/yenom022/checkpoints/epoch=99-step=7900.ckpt\n",
      "LOCAL_RANK: 0 - CUDA_VISIBLE_DEVICES: [0]\n",
      "Loaded model weights from the checkpoint at ./lightning_logs/yenom022/checkpoints/epoch=99-step=7900.ckpt\n"
     ]
    },
    {
     "name": "stdout",
     "output_type": "stream",
     "text": [
      "Testing DataLoader 0: 100%|██████████| 79/79 [00:04<00:00, 18.02it/s] \n",
      "────────────────────────────────────────────────────────────────────────────────────────────────────────────────────────\n",
      "       Test metric             DataLoader 0\n",
      "────────────────────────────────────────────────────────────────────────────────────────────────────────────────────────\n",
      "        AUC_FGSM            0.10000000149011612\n",
      "        AUC_Noise           0.10000000149011612\n",
      "        test_acc            0.10000000149011612\n",
      "────────────────────────────────────────────────────────────────────────────────────────────────────────────────────────\n"
     ]
    },
    {
     "data": {
      "text/html": [
       "<style>\n",
       "    table.wandb td:nth-child(1) { padding: 0 10px; text-align: left ; width: auto;} td:nth-child(2) {text-align: left ; width: 100%}\n",
       "    .wandb-row { display: flex; flex-direction: row; flex-wrap: wrap; justify-content: flex-start; width: 100% }\n",
       "    .wandb-col { display: flex; flex-direction: column; flex-basis: 100%; flex: 1; padding: 10px; }\n",
       "    </style>\n",
       "<div class=\"wandb-row\"><div class=\"wandb-col\"><h3>Run history:</h3><br/><table class=\"wandb\"><tr><td>AUC_FGSM</td><td>▁</td></tr><tr><td>AUC_Noise</td><td>▁</td></tr><tr><td>epoch</td><td>▁▁▁▁▂▂▂▂▂▃▃▃▃▃▃▄▄▄▄▄▅▅▅▅▅▅▆▆▆▆▆▇▇▇▇▇▇███</td></tr><tr><td>lr</td><td>▁</td></tr><tr><td>test_acc</td><td>▁</td></tr><tr><td>train_acc</td><td>▆▄▄▄▆▅█▅▂▇▅▃▃▅▁▆▅▆▅▄▅▆▅▅▃▅▃▃▆▁▃█▃▇▆▅▅▆▅▄</td></tr><tr><td>trainer/global_step</td><td>▁▁▁▂▂▂▂▂▂▃▃▃▃▃▄▄▄▄▄▄▅▅▅▅▅▅▆▆▆▆▆▇▇▇▇▇▇███</td></tr></table><br/></div><div class=\"wandb-col\"><h3>Run summary:</h3><br/><table class=\"wandb\"><tr><td>AUC_FGSM</td><td>0.1</td></tr><tr><td>AUC_Noise</td><td>0.1</td></tr><tr><td>distillation_type</td><td>one_to_one</td></tr><tr><td>epoch</td><td>100</td></tr><tr><td>lr</td><td>0.1</td></tr><tr><td>model_name</td><td>very_tiny</td></tr><tr><td>optimizer</td><td>SGD</td></tr><tr><td>test_acc</td><td>0.1</td></tr><tr><td>train_acc</td><td>0.08594</td></tr><tr><td>train_loss</td><td>nan</td></tr><tr><td>trainer/global_step</td><td>7900</td></tr></table><br/></div></div>"
      ],
      "text/plain": [
       "<IPython.core.display.HTML object>"
      ]
     },
     "metadata": {},
     "output_type": "display_data"
    },
    {
     "data": {
      "text/html": [
       " View run <strong style=\"color:#cdcd00\">sleek-totem-268</strong> at: <a href='https://wandb.ai/potapuch2001/Oleinik-BS-Thesis-code/runs/yenom022' target=\"_blank\">https://wandb.ai/potapuch2001/Oleinik-BS-Thesis-code/runs/yenom022</a><br/> View project at: <a href='https://wandb.ai/potapuch2001/Oleinik-BS-Thesis-code' target=\"_blank\">https://wandb.ai/potapuch2001/Oleinik-BS-Thesis-code</a><br/>Synced 6 W&B file(s), 3 media file(s), 2 artifact file(s) and 0 other file(s)"
      ],
      "text/plain": [
       "<IPython.core.display.HTML object>"
      ]
     },
     "metadata": {},
     "output_type": "display_data"
    },
    {
     "data": {
      "text/html": [
       "Find logs at: <code>./wandb/run-20240623_013644-yenom022/logs</code>"
      ],
      "text/plain": [
       "<IPython.core.display.HTML object>"
      ]
     },
     "metadata": {},
     "output_type": "display_data"
    },
    {
     "data": {
      "text/html": [
       "wandb version 0.17.2 is available!  To upgrade, please run:\n",
       " $ pip install wandb --upgrade"
      ],
      "text/plain": [
       "<IPython.core.display.HTML object>"
      ]
     },
     "metadata": {},
     "output_type": "display_data"
    },
    {
     "data": {
      "text/html": [
       "Tracking run with wandb version 0.16.6"
      ],
      "text/plain": [
       "<IPython.core.display.HTML object>"
      ]
     },
     "metadata": {},
     "output_type": "display_data"
    },
    {
     "data": {
      "text/html": [
       "Run data is saved locally in <code>/home/ganddalf/MIPT/Kafedra/Oleinik-BS-Thesis/code/wandb/run-20240623_014051-rudokq2k</code>"
      ],
      "text/plain": [
       "<IPython.core.display.HTML object>"
      ]
     },
     "metadata": {},
     "output_type": "display_data"
    },
    {
     "data": {
      "text/html": [
       "Syncing run <strong><a href='https://wandb.ai/potapuch2001/Oleinik-BS-Thesis-code/runs/rudokq2k' target=\"_blank\">tough-tree-269</a></strong> to <a href='https://wandb.ai/potapuch2001/Oleinik-BS-Thesis-code' target=\"_blank\">Weights & Biases</a> (<a href='https://wandb.me/run' target=\"_blank\">docs</a>)<br/>"
      ],
      "text/plain": [
       "<IPython.core.display.HTML object>"
      ]
     },
     "metadata": {},
     "output_type": "display_data"
    },
    {
     "data": {
      "text/html": [
       " View project at <a href='https://wandb.ai/potapuch2001/Oleinik-BS-Thesis-code' target=\"_blank\">https://wandb.ai/potapuch2001/Oleinik-BS-Thesis-code</a>"
      ],
      "text/plain": [
       "<IPython.core.display.HTML object>"
      ]
     },
     "metadata": {},
     "output_type": "display_data"
    },
    {
     "data": {
      "text/html": [
       " View run at <a href='https://wandb.ai/potapuch2001/Oleinik-BS-Thesis-code/runs/rudokq2k' target=\"_blank\">https://wandb.ai/potapuch2001/Oleinik-BS-Thesis-code/runs/rudokq2k</a>"
      ],
      "text/plain": [
       "<IPython.core.display.HTML object>"
      ]
     },
     "metadata": {},
     "output_type": "display_data"
    },
    {
     "name": "stderr",
     "output_type": "stream",
     "text": [
      "GPU available: True (cuda), used: True\n",
      "TPU available: False, using: 0 TPU cores\n",
      "IPU available: False, using: 0 IPUs\n",
      "HPU available: False, using: 0 HPUs\n",
      "/home/ganddalf/anaconda3/envs/dl/lib/python3.12/site-packages/lightning/pytorch/loggers/wandb.py:391: There is a wandb run already in progress and newly created instances of `WandbLogger` will reuse this run. If this is not desired, call `wandb.finish()` before instantiating `WandbLogger`.\n",
      "LOCAL_RANK: 0 - CUDA_VISIBLE_DEVICES: [0]\n",
      "\n",
      "  | Name    | Type             | Params\n",
      "---------------------------------------------\n",
      "0 | student | Cifar_Very_Tiny  | 15.1 K\n",
      "1 | teacher | Cifar_Tiny       | 58.0 K\n",
      "2 | loss    | CrossEntropyLoss | 0     \n",
      "---------------------------------------------\n",
      "15.1 K    Trainable params\n",
      "58.0 K    Non-trainable params\n",
      "73.0 K    Total params\n",
      "0.292     Total estimated model params size (MB)\n"
     ]
    },
    {
     "name": "stdout",
     "output_type": "stream",
     "text": [
      "Epoch 99: 100%|██████████| 79/79 [00:02<00:00, 33.15it/s, v_num=kq2k]"
     ]
    },
    {
     "name": "stderr",
     "output_type": "stream",
     "text": [
      "`Trainer.fit` stopped: `max_epochs=100` reached.\n"
     ]
    },
    {
     "name": "stdout",
     "output_type": "stream",
     "text": [
      "Epoch 99: 100%|██████████| 79/79 [00:02<00:00, 33.00it/s, v_num=kq2k]\n"
     ]
    },
    {
     "name": "stderr",
     "output_type": "stream",
     "text": [
      "/home/ganddalf/anaconda3/envs/dl/lib/python3.12/site-packages/lightning/pytorch/trainer/connectors/checkpoint_connector.py:145: `.test(ckpt_path=None)` was called without a model. The best model of the previous `fit` call will be used. You can pass `.test(ckpt_path='best')` to use the best model or `.test(ckpt_path='last')` to use the last model. If you pass a value, this warning will be silenced.\n",
      "Restoring states from the checkpoint path at ./lightning_logs/rudokq2k/checkpoints/epoch=99-step=7900.ckpt\n",
      "LOCAL_RANK: 0 - CUDA_VISIBLE_DEVICES: [0]\n",
      "Loaded model weights from the checkpoint at ./lightning_logs/rudokq2k/checkpoints/epoch=99-step=7900.ckpt\n"
     ]
    },
    {
     "name": "stdout",
     "output_type": "stream",
     "text": [
      "Testing DataLoader 0: 100%|██████████| 79/79 [00:04<00:00, 17.88it/s] \n",
      "────────────────────────────────────────────────────────────────────────────────────────────────────────────────────────\n",
      "       Test metric             DataLoader 0\n",
      "────────────────────────────────────────────────────────────────────────────────────────────────────────────────────────\n",
      "        AUC_FGSM            0.10000000149011612\n",
      "        AUC_Noise           0.10000000149011612\n",
      "        test_acc            0.10000000149011612\n",
      "────────────────────────────────────────────────────────────────────────────────────────────────────────────────────────\n"
     ]
    },
    {
     "data": {
      "text/html": [
       "<style>\n",
       "    table.wandb td:nth-child(1) { padding: 0 10px; text-align: left ; width: auto;} td:nth-child(2) {text-align: left ; width: 100%}\n",
       "    .wandb-row { display: flex; flex-direction: row; flex-wrap: wrap; justify-content: flex-start; width: 100% }\n",
       "    .wandb-col { display: flex; flex-direction: column; flex-basis: 100%; flex: 1; padding: 10px; }\n",
       "    </style>\n",
       "<div class=\"wandb-row\"><div class=\"wandb-col\"><h3>Run history:</h3><br/><table class=\"wandb\"><tr><td>AUC_FGSM</td><td>▁</td></tr><tr><td>AUC_Noise</td><td>▁</td></tr><tr><td>epoch</td><td>▁▁▁▁▂▂▂▂▂▃▃▃▃▃▃▄▄▄▄▄▅▅▅▅▅▅▆▆▆▆▆▇▇▇▇▇▇███</td></tr><tr><td>lr</td><td>▁</td></tr><tr><td>test_acc</td><td>▁</td></tr><tr><td>train_acc</td><td>▆▄▄▄▆▅█▅▂▇▅▃▃▅▁▆▅▆▅▄▅▆▅▅▃▅▃▃▆▁▃█▃▇▆▅▅▆▅▄</td></tr><tr><td>trainer/global_step</td><td>▁▁▁▂▂▂▂▂▂▃▃▃▃▃▄▄▄▄▄▄▅▅▅▅▅▅▆▆▆▆▆▇▇▇▇▇▇███</td></tr></table><br/></div><div class=\"wandb-col\"><h3>Run summary:</h3><br/><table class=\"wandb\"><tr><td>AUC_FGSM</td><td>0.1</td></tr><tr><td>AUC_Noise</td><td>0.1</td></tr><tr><td>distillation_type</td><td>one_to_one</td></tr><tr><td>epoch</td><td>100</td></tr><tr><td>lr</td><td>0.1</td></tr><tr><td>model_name</td><td>very_tiny</td></tr><tr><td>optimizer</td><td>SGD</td></tr><tr><td>test_acc</td><td>0.1</td></tr><tr><td>train_acc</td><td>0.08594</td></tr><tr><td>train_loss</td><td>nan</td></tr><tr><td>trainer/global_step</td><td>7900</td></tr></table><br/></div></div>"
      ],
      "text/plain": [
       "<IPython.core.display.HTML object>"
      ]
     },
     "metadata": {},
     "output_type": "display_data"
    },
    {
     "data": {
      "text/html": [
       " View run <strong style=\"color:#cdcd00\">tough-tree-269</strong> at: <a href='https://wandb.ai/potapuch2001/Oleinik-BS-Thesis-code/runs/rudokq2k' target=\"_blank\">https://wandb.ai/potapuch2001/Oleinik-BS-Thesis-code/runs/rudokq2k</a><br/> View project at: <a href='https://wandb.ai/potapuch2001/Oleinik-BS-Thesis-code' target=\"_blank\">https://wandb.ai/potapuch2001/Oleinik-BS-Thesis-code</a><br/>Synced 6 W&B file(s), 3 media file(s), 2 artifact file(s) and 0 other file(s)"
      ],
      "text/plain": [
       "<IPython.core.display.HTML object>"
      ]
     },
     "metadata": {},
     "output_type": "display_data"
    },
    {
     "data": {
      "text/html": [
       "Find logs at: <code>./wandb/run-20240623_014051-rudokq2k/logs</code>"
      ],
      "text/plain": [
       "<IPython.core.display.HTML object>"
      ]
     },
     "metadata": {},
     "output_type": "display_data"
    },
    {
     "data": {
      "text/html": [
       "wandb version 0.17.2 is available!  To upgrade, please run:\n",
       " $ pip install wandb --upgrade"
      ],
      "text/plain": [
       "<IPython.core.display.HTML object>"
      ]
     },
     "metadata": {},
     "output_type": "display_data"
    },
    {
     "data": {
      "text/html": [
       "Tracking run with wandb version 0.16.6"
      ],
      "text/plain": [
       "<IPython.core.display.HTML object>"
      ]
     },
     "metadata": {},
     "output_type": "display_data"
    },
    {
     "data": {
      "text/html": [
       "Run data is saved locally in <code>/home/ganddalf/MIPT/Kafedra/Oleinik-BS-Thesis/code/wandb/run-20240623_014456-bntw45ng</code>"
      ],
      "text/plain": [
       "<IPython.core.display.HTML object>"
      ]
     },
     "metadata": {},
     "output_type": "display_data"
    },
    {
     "data": {
      "text/html": [
       "Syncing run <strong><a href='https://wandb.ai/potapuch2001/Oleinik-BS-Thesis-code/runs/bntw45ng' target=\"_blank\">radiant-morning-270</a></strong> to <a href='https://wandb.ai/potapuch2001/Oleinik-BS-Thesis-code' target=\"_blank\">Weights & Biases</a> (<a href='https://wandb.me/run' target=\"_blank\">docs</a>)<br/>"
      ],
      "text/plain": [
       "<IPython.core.display.HTML object>"
      ]
     },
     "metadata": {},
     "output_type": "display_data"
    },
    {
     "data": {
      "text/html": [
       " View project at <a href='https://wandb.ai/potapuch2001/Oleinik-BS-Thesis-code' target=\"_blank\">https://wandb.ai/potapuch2001/Oleinik-BS-Thesis-code</a>"
      ],
      "text/plain": [
       "<IPython.core.display.HTML object>"
      ]
     },
     "metadata": {},
     "output_type": "display_data"
    },
    {
     "data": {
      "text/html": [
       " View run at <a href='https://wandb.ai/potapuch2001/Oleinik-BS-Thesis-code/runs/bntw45ng' target=\"_blank\">https://wandb.ai/potapuch2001/Oleinik-BS-Thesis-code/runs/bntw45ng</a>"
      ],
      "text/plain": [
       "<IPython.core.display.HTML object>"
      ]
     },
     "metadata": {},
     "output_type": "display_data"
    },
    {
     "name": "stderr",
     "output_type": "stream",
     "text": [
      "GPU available: True (cuda), used: True\n",
      "TPU available: False, using: 0 TPU cores\n",
      "IPU available: False, using: 0 IPUs\n",
      "HPU available: False, using: 0 HPUs\n",
      "/home/ganddalf/anaconda3/envs/dl/lib/python3.12/site-packages/lightning/pytorch/loggers/wandb.py:391: There is a wandb run already in progress and newly created instances of `WandbLogger` will reuse this run. If this is not desired, call `wandb.finish()` before instantiating `WandbLogger`.\n",
      "LOCAL_RANK: 0 - CUDA_VISIBLE_DEVICES: [0]\n",
      "\n",
      "  | Name    | Type             | Params\n",
      "---------------------------------------------\n",
      "0 | student | Cifar_Very_Tiny  | 15.1 K\n",
      "1 | teacher | Cifar_Tiny       | 58.0 K\n",
      "2 | loss    | CrossEntropyLoss | 0     \n",
      "---------------------------------------------\n",
      "15.1 K    Trainable params\n",
      "58.0 K    Non-trainable params\n",
      "73.0 K    Total params\n",
      "0.292     Total estimated model params size (MB)\n"
     ]
    },
    {
     "name": "stdout",
     "output_type": "stream",
     "text": [
      "Epoch 99: 100%|██████████| 79/79 [00:02<00:00, 38.88it/s, v_num=45ng]"
     ]
    },
    {
     "name": "stderr",
     "output_type": "stream",
     "text": [
      "`Trainer.fit` stopped: `max_epochs=100` reached.\n"
     ]
    },
    {
     "name": "stdout",
     "output_type": "stream",
     "text": [
      "Epoch 99: 100%|██████████| 79/79 [00:02<00:00, 38.70it/s, v_num=45ng]\n"
     ]
    },
    {
     "name": "stderr",
     "output_type": "stream",
     "text": [
      "/home/ganddalf/anaconda3/envs/dl/lib/python3.12/site-packages/lightning/pytorch/trainer/connectors/checkpoint_connector.py:145: `.test(ckpt_path=None)` was called without a model. The best model of the previous `fit` call will be used. You can pass `.test(ckpt_path='best')` to use the best model or `.test(ckpt_path='last')` to use the last model. If you pass a value, this warning will be silenced.\n",
      "Restoring states from the checkpoint path at ./lightning_logs/bntw45ng/checkpoints/epoch=99-step=7900.ckpt\n",
      "LOCAL_RANK: 0 - CUDA_VISIBLE_DEVICES: [0]\n",
      "Loaded model weights from the checkpoint at ./lightning_logs/bntw45ng/checkpoints/epoch=99-step=7900.ckpt\n"
     ]
    },
    {
     "name": "stdout",
     "output_type": "stream",
     "text": [
      "Testing DataLoader 0: 100%|██████████| 79/79 [00:04<00:00, 18.06it/s] \n",
      "────────────────────────────────────────────────────────────────────────────────────────────────────────────────────────\n",
      "       Test metric             DataLoader 0\n",
      "────────────────────────────────────────────────────────────────────────────────────────────────────────────────────────\n",
      "        AUC_FGSM            0.10000000149011612\n",
      "        AUC_Noise           0.10000000149011612\n",
      "        test_acc            0.10000000149011612\n",
      "────────────────────────────────────────────────────────────────────────────────────────────────────────────────────────\n"
     ]
    },
    {
     "data": {
      "text/html": [
       "<style>\n",
       "    table.wandb td:nth-child(1) { padding: 0 10px; text-align: left ; width: auto;} td:nth-child(2) {text-align: left ; width: 100%}\n",
       "    .wandb-row { display: flex; flex-direction: row; flex-wrap: wrap; justify-content: flex-start; width: 100% }\n",
       "    .wandb-col { display: flex; flex-direction: column; flex-basis: 100%; flex: 1; padding: 10px; }\n",
       "    </style>\n",
       "<div class=\"wandb-row\"><div class=\"wandb-col\"><h3>Run history:</h3><br/><table class=\"wandb\"><tr><td>AUC_FGSM</td><td>▁</td></tr><tr><td>AUC_Noise</td><td>▁</td></tr><tr><td>epoch</td><td>▁▁▁▁▂▂▂▂▂▃▃▃▃▃▃▄▄▄▄▄▅▅▅▅▅▅▆▆▆▆▆▇▇▇▇▇▇███</td></tr><tr><td>lr</td><td>▁</td></tr><tr><td>test_acc</td><td>▁</td></tr><tr><td>train_acc</td><td>▆▄▄▄▆▅█▅▂▇▅▃▃▅▁▆▅▆▅▄▅▆▅▅▃▅▃▃▆▁▃█▃▇▆▅▅▆▅▄</td></tr><tr><td>trainer/global_step</td><td>▁▁▁▂▂▂▂▂▂▃▃▃▃▃▄▄▄▄▄▄▅▅▅▅▅▅▆▆▆▆▆▇▇▇▇▇▇███</td></tr></table><br/></div><div class=\"wandb-col\"><h3>Run summary:</h3><br/><table class=\"wandb\"><tr><td>AUC_FGSM</td><td>0.1</td></tr><tr><td>AUC_Noise</td><td>0.1</td></tr><tr><td>distillation_type</td><td>one_to_one</td></tr><tr><td>epoch</td><td>100</td></tr><tr><td>lr</td><td>0.1</td></tr><tr><td>model_name</td><td>very_tiny</td></tr><tr><td>optimizer</td><td>SGD</td></tr><tr><td>test_acc</td><td>0.1</td></tr><tr><td>train_acc</td><td>0.08594</td></tr><tr><td>train_loss</td><td>nan</td></tr><tr><td>trainer/global_step</td><td>7900</td></tr></table><br/></div></div>"
      ],
      "text/plain": [
       "<IPython.core.display.HTML object>"
      ]
     },
     "metadata": {},
     "output_type": "display_data"
    },
    {
     "data": {
      "text/html": [
       " View run <strong style=\"color:#cdcd00\">radiant-morning-270</strong> at: <a href='https://wandb.ai/potapuch2001/Oleinik-BS-Thesis-code/runs/bntw45ng' target=\"_blank\">https://wandb.ai/potapuch2001/Oleinik-BS-Thesis-code/runs/bntw45ng</a><br/> View project at: <a href='https://wandb.ai/potapuch2001/Oleinik-BS-Thesis-code' target=\"_blank\">https://wandb.ai/potapuch2001/Oleinik-BS-Thesis-code</a><br/>Synced 6 W&B file(s), 3 media file(s), 2 artifact file(s) and 0 other file(s)"
      ],
      "text/plain": [
       "<IPython.core.display.HTML object>"
      ]
     },
     "metadata": {},
     "output_type": "display_data"
    },
    {
     "data": {
      "text/html": [
       "Find logs at: <code>./wandb/run-20240623_014456-bntw45ng/logs</code>"
      ],
      "text/plain": [
       "<IPython.core.display.HTML object>"
      ]
     },
     "metadata": {},
     "output_type": "display_data"
    },
    {
     "data": {
      "text/html": [
       "wandb version 0.17.2 is available!  To upgrade, please run:\n",
       " $ pip install wandb --upgrade"
      ],
      "text/plain": [
       "<IPython.core.display.HTML object>"
      ]
     },
     "metadata": {},
     "output_type": "display_data"
    },
    {
     "data": {
      "text/html": [
       "Tracking run with wandb version 0.16.6"
      ],
      "text/plain": [
       "<IPython.core.display.HTML object>"
      ]
     },
     "metadata": {},
     "output_type": "display_data"
    },
    {
     "data": {
      "text/html": [
       "Run data is saved locally in <code>/home/ganddalf/MIPT/Kafedra/Oleinik-BS-Thesis/code/wandb/run-20240623_014900-bmmvzlzh</code>"
      ],
      "text/plain": [
       "<IPython.core.display.HTML object>"
      ]
     },
     "metadata": {},
     "output_type": "display_data"
    },
    {
     "data": {
      "text/html": [
       "Syncing run <strong><a href='https://wandb.ai/potapuch2001/Oleinik-BS-Thesis-code/runs/bmmvzlzh' target=\"_blank\">toasty-universe-271</a></strong> to <a href='https://wandb.ai/potapuch2001/Oleinik-BS-Thesis-code' target=\"_blank\">Weights & Biases</a> (<a href='https://wandb.me/run' target=\"_blank\">docs</a>)<br/>"
      ],
      "text/plain": [
       "<IPython.core.display.HTML object>"
      ]
     },
     "metadata": {},
     "output_type": "display_data"
    },
    {
     "data": {
      "text/html": [
       " View project at <a href='https://wandb.ai/potapuch2001/Oleinik-BS-Thesis-code' target=\"_blank\">https://wandb.ai/potapuch2001/Oleinik-BS-Thesis-code</a>"
      ],
      "text/plain": [
       "<IPython.core.display.HTML object>"
      ]
     },
     "metadata": {},
     "output_type": "display_data"
    },
    {
     "data": {
      "text/html": [
       " View run at <a href='https://wandb.ai/potapuch2001/Oleinik-BS-Thesis-code/runs/bmmvzlzh' target=\"_blank\">https://wandb.ai/potapuch2001/Oleinik-BS-Thesis-code/runs/bmmvzlzh</a>"
      ],
      "text/plain": [
       "<IPython.core.display.HTML object>"
      ]
     },
     "metadata": {},
     "output_type": "display_data"
    },
    {
     "name": "stderr",
     "output_type": "stream",
     "text": [
      "GPU available: True (cuda), used: True\n",
      "TPU available: False, using: 0 TPU cores\n",
      "IPU available: False, using: 0 IPUs\n",
      "HPU available: False, using: 0 HPUs\n",
      "/home/ganddalf/anaconda3/envs/dl/lib/python3.12/site-packages/lightning/pytorch/loggers/wandb.py:391: There is a wandb run already in progress and newly created instances of `WandbLogger` will reuse this run. If this is not desired, call `wandb.finish()` before instantiating `WandbLogger`.\n",
      "LOCAL_RANK: 0 - CUDA_VISIBLE_DEVICES: [0]\n",
      "\n",
      "  | Name    | Type             | Params\n",
      "---------------------------------------------\n",
      "0 | student | Cifar_Very_Tiny  | 15.1 K\n",
      "1 | teacher | Cifar_Tiny       | 58.0 K\n",
      "2 | loss    | CrossEntropyLoss | 0     \n",
      "---------------------------------------------\n",
      "15.1 K    Trainable params\n",
      "58.0 K    Non-trainable params\n",
      "73.0 K    Total params\n",
      "0.292     Total estimated model params size (MB)\n"
     ]
    },
    {
     "name": "stdout",
     "output_type": "stream",
     "text": [
      "Epoch 99: 100%|██████████| 79/79 [00:02<00:00, 34.60it/s, v_num=zlzh]"
     ]
    },
    {
     "name": "stderr",
     "output_type": "stream",
     "text": [
      "`Trainer.fit` stopped: `max_epochs=100` reached.\n"
     ]
    },
    {
     "name": "stdout",
     "output_type": "stream",
     "text": [
      "Epoch 99: 100%|██████████| 79/79 [00:02<00:00, 34.44it/s, v_num=zlzh]\n"
     ]
    },
    {
     "name": "stderr",
     "output_type": "stream",
     "text": [
      "/home/ganddalf/anaconda3/envs/dl/lib/python3.12/site-packages/lightning/pytorch/trainer/connectors/checkpoint_connector.py:145: `.test(ckpt_path=None)` was called without a model. The best model of the previous `fit` call will be used. You can pass `.test(ckpt_path='best')` to use the best model or `.test(ckpt_path='last')` to use the last model. If you pass a value, this warning will be silenced.\n",
      "Restoring states from the checkpoint path at ./lightning_logs/bmmvzlzh/checkpoints/epoch=99-step=7900.ckpt\n",
      "LOCAL_RANK: 0 - CUDA_VISIBLE_DEVICES: [0]\n",
      "Loaded model weights from the checkpoint at ./lightning_logs/bmmvzlzh/checkpoints/epoch=99-step=7900.ckpt\n"
     ]
    },
    {
     "name": "stdout",
     "output_type": "stream",
     "text": [
      "Testing DataLoader 0: 100%|██████████| 79/79 [00:04<00:00, 18.85it/s] \n",
      "────────────────────────────────────────────────────────────────────────────────────────────────────────────────────────\n",
      "       Test metric             DataLoader 0\n",
      "────────────────────────────────────────────────────────────────────────────────────────────────────────────────────────\n",
      "        AUC_FGSM            0.10000000149011612\n",
      "        AUC_Noise           0.10000000149011612\n",
      "        test_acc            0.10000000149011612\n",
      "────────────────────────────────────────────────────────────────────────────────────────────────────────────────────────\n"
     ]
    },
    {
     "data": {
      "text/html": [
       "<style>\n",
       "    table.wandb td:nth-child(1) { padding: 0 10px; text-align: left ; width: auto;} td:nth-child(2) {text-align: left ; width: 100%}\n",
       "    .wandb-row { display: flex; flex-direction: row; flex-wrap: wrap; justify-content: flex-start; width: 100% }\n",
       "    .wandb-col { display: flex; flex-direction: column; flex-basis: 100%; flex: 1; padding: 10px; }\n",
       "    </style>\n",
       "<div class=\"wandb-row\"><div class=\"wandb-col\"><h3>Run history:</h3><br/><table class=\"wandb\"><tr><td>AUC_FGSM</td><td>▁</td></tr><tr><td>AUC_Noise</td><td>▁</td></tr><tr><td>epoch</td><td>▁▁▁▁▂▂▂▂▂▃▃▃▃▃▃▄▄▄▄▄▅▅▅▅▅▅▆▆▆▆▆▇▇▇▇▇▇███</td></tr><tr><td>lr</td><td>▁</td></tr><tr><td>test_acc</td><td>▁</td></tr><tr><td>train_acc</td><td>▆▄▄▄▆▅█▅▂▇▅▃▃▅▁▆▅▆▅▄▅▆▅▅▃▅▃▃▆▁▃█▃▇▆▅▅▆▅▄</td></tr><tr><td>trainer/global_step</td><td>▁▁▁▂▂▂▂▂▂▃▃▃▃▃▄▄▄▄▄▄▅▅▅▅▅▅▆▆▆▆▆▇▇▇▇▇▇███</td></tr></table><br/></div><div class=\"wandb-col\"><h3>Run summary:</h3><br/><table class=\"wandb\"><tr><td>AUC_FGSM</td><td>0.1</td></tr><tr><td>AUC_Noise</td><td>0.1</td></tr><tr><td>distillation_type</td><td>one_to_one</td></tr><tr><td>epoch</td><td>100</td></tr><tr><td>lr</td><td>0.1</td></tr><tr><td>model_name</td><td>very_tiny</td></tr><tr><td>optimizer</td><td>SGD</td></tr><tr><td>test_acc</td><td>0.1</td></tr><tr><td>train_acc</td><td>0.08594</td></tr><tr><td>train_loss</td><td>nan</td></tr><tr><td>trainer/global_step</td><td>7900</td></tr></table><br/></div></div>"
      ],
      "text/plain": [
       "<IPython.core.display.HTML object>"
      ]
     },
     "metadata": {},
     "output_type": "display_data"
    },
    {
     "data": {
      "text/html": [
       " View run <strong style=\"color:#cdcd00\">toasty-universe-271</strong> at: <a href='https://wandb.ai/potapuch2001/Oleinik-BS-Thesis-code/runs/bmmvzlzh' target=\"_blank\">https://wandb.ai/potapuch2001/Oleinik-BS-Thesis-code/runs/bmmvzlzh</a><br/> View project at: <a href='https://wandb.ai/potapuch2001/Oleinik-BS-Thesis-code' target=\"_blank\">https://wandb.ai/potapuch2001/Oleinik-BS-Thesis-code</a><br/>Synced 6 W&B file(s), 3 media file(s), 2 artifact file(s) and 0 other file(s)"
      ],
      "text/plain": [
       "<IPython.core.display.HTML object>"
      ]
     },
     "metadata": {},
     "output_type": "display_data"
    },
    {
     "data": {
      "text/html": [
       "Find logs at: <code>./wandb/run-20240623_014900-bmmvzlzh/logs</code>"
      ],
      "text/plain": [
       "<IPython.core.display.HTML object>"
      ]
     },
     "metadata": {},
     "output_type": "display_data"
    },
    {
     "data": {
      "text/html": [
       "wandb version 0.17.2 is available!  To upgrade, please run:\n",
       " $ pip install wandb --upgrade"
      ],
      "text/plain": [
       "<IPython.core.display.HTML object>"
      ]
     },
     "metadata": {},
     "output_type": "display_data"
    },
    {
     "data": {
      "text/html": [
       "Tracking run with wandb version 0.16.6"
      ],
      "text/plain": [
       "<IPython.core.display.HTML object>"
      ]
     },
     "metadata": {},
     "output_type": "display_data"
    },
    {
     "data": {
      "text/html": [
       "Run data is saved locally in <code>/home/ganddalf/MIPT/Kafedra/Oleinik-BS-Thesis/code/wandb/run-20240623_015300-r3ae002s</code>"
      ],
      "text/plain": [
       "<IPython.core.display.HTML object>"
      ]
     },
     "metadata": {},
     "output_type": "display_data"
    },
    {
     "data": {
      "text/html": [
       "Syncing run <strong><a href='https://wandb.ai/potapuch2001/Oleinik-BS-Thesis-code/runs/r3ae002s' target=\"_blank\">balmy-plasma-272</a></strong> to <a href='https://wandb.ai/potapuch2001/Oleinik-BS-Thesis-code' target=\"_blank\">Weights & Biases</a> (<a href='https://wandb.me/run' target=\"_blank\">docs</a>)<br/>"
      ],
      "text/plain": [
       "<IPython.core.display.HTML object>"
      ]
     },
     "metadata": {},
     "output_type": "display_data"
    },
    {
     "data": {
      "text/html": [
       " View project at <a href='https://wandb.ai/potapuch2001/Oleinik-BS-Thesis-code' target=\"_blank\">https://wandb.ai/potapuch2001/Oleinik-BS-Thesis-code</a>"
      ],
      "text/plain": [
       "<IPython.core.display.HTML object>"
      ]
     },
     "metadata": {},
     "output_type": "display_data"
    },
    {
     "data": {
      "text/html": [
       " View run at <a href='https://wandb.ai/potapuch2001/Oleinik-BS-Thesis-code/runs/r3ae002s' target=\"_blank\">https://wandb.ai/potapuch2001/Oleinik-BS-Thesis-code/runs/r3ae002s</a>"
      ],
      "text/plain": [
       "<IPython.core.display.HTML object>"
      ]
     },
     "metadata": {},
     "output_type": "display_data"
    },
    {
     "name": "stderr",
     "output_type": "stream",
     "text": [
      "GPU available: True (cuda), used: True\n",
      "TPU available: False, using: 0 TPU cores\n",
      "IPU available: False, using: 0 IPUs\n",
      "HPU available: False, using: 0 HPUs\n",
      "/home/ganddalf/anaconda3/envs/dl/lib/python3.12/site-packages/lightning/pytorch/loggers/wandb.py:391: There is a wandb run already in progress and newly created instances of `WandbLogger` will reuse this run. If this is not desired, call `wandb.finish()` before instantiating `WandbLogger`.\n",
      "LOCAL_RANK: 0 - CUDA_VISIBLE_DEVICES: [0]\n",
      "\n",
      "  | Name    | Type             | Params\n",
      "---------------------------------------------\n",
      "0 | student | Cifar_Very_Tiny  | 15.1 K\n",
      "1 | teacher | Cifar_Tiny       | 58.0 K\n",
      "2 | loss    | CrossEntropyLoss | 0     \n",
      "---------------------------------------------\n",
      "15.1 K    Trainable params\n",
      "58.0 K    Non-trainable params\n",
      "73.0 K    Total params\n",
      "0.292     Total estimated model params size (MB)\n"
     ]
    },
    {
     "name": "stdout",
     "output_type": "stream",
     "text": [
      "Epoch 99: 100%|██████████| 79/79 [00:02<00:00, 33.77it/s, v_num=002s]"
     ]
    },
    {
     "name": "stderr",
     "output_type": "stream",
     "text": [
      "`Trainer.fit` stopped: `max_epochs=100` reached.\n"
     ]
    },
    {
     "name": "stdout",
     "output_type": "stream",
     "text": [
      "Epoch 99: 100%|██████████| 79/79 [00:02<00:00, 33.66it/s, v_num=002s]\n"
     ]
    },
    {
     "name": "stderr",
     "output_type": "stream",
     "text": [
      "/home/ganddalf/anaconda3/envs/dl/lib/python3.12/site-packages/lightning/pytorch/trainer/connectors/checkpoint_connector.py:145: `.test(ckpt_path=None)` was called without a model. The best model of the previous `fit` call will be used. You can pass `.test(ckpt_path='best')` to use the best model or `.test(ckpt_path='last')` to use the last model. If you pass a value, this warning will be silenced.\n",
      "Restoring states from the checkpoint path at ./lightning_logs/r3ae002s/checkpoints/epoch=99-step=7900.ckpt\n",
      "LOCAL_RANK: 0 - CUDA_VISIBLE_DEVICES: [0]\n",
      "Loaded model weights from the checkpoint at ./lightning_logs/r3ae002s/checkpoints/epoch=99-step=7900.ckpt\n"
     ]
    },
    {
     "name": "stdout",
     "output_type": "stream",
     "text": [
      "Testing DataLoader 0: 100%|██████████| 79/79 [00:04<00:00, 17.39it/s] \n",
      "────────────────────────────────────────────────────────────────────────────────────────────────────────────────────────\n",
      "       Test metric             DataLoader 0\n",
      "────────────────────────────────────────────────────────────────────────────────────────────────────────────────────────\n",
      "        AUC_FGSM            0.10000000149011612\n",
      "        AUC_Noise           0.10000000149011612\n",
      "        test_acc            0.10000000149011612\n",
      "────────────────────────────────────────────────────────────────────────────────────────────────────────────────────────\n"
     ]
    },
    {
     "data": {
      "text/html": [
       "<style>\n",
       "    table.wandb td:nth-child(1) { padding: 0 10px; text-align: left ; width: auto;} td:nth-child(2) {text-align: left ; width: 100%}\n",
       "    .wandb-row { display: flex; flex-direction: row; flex-wrap: wrap; justify-content: flex-start; width: 100% }\n",
       "    .wandb-col { display: flex; flex-direction: column; flex-basis: 100%; flex: 1; padding: 10px; }\n",
       "    </style>\n",
       "<div class=\"wandb-row\"><div class=\"wandb-col\"><h3>Run history:</h3><br/><table class=\"wandb\"><tr><td>AUC_FGSM</td><td>▁</td></tr><tr><td>AUC_Noise</td><td>▁</td></tr><tr><td>epoch</td><td>▁▁▁▁▂▂▂▂▂▃▃▃▃▃▃▄▄▄▄▄▅▅▅▅▅▅▆▆▆▆▆▇▇▇▇▇▇███</td></tr><tr><td>lr</td><td>▁</td></tr><tr><td>test_acc</td><td>▁</td></tr><tr><td>train_acc</td><td>▆▄▄▄▆▅█▅▂▇▅▃▃▅▁▆▅▆▅▄▅▆▅▅▃▅▃▃▆▁▃█▃▇▆▅▅▆▅▄</td></tr><tr><td>trainer/global_step</td><td>▁▁▁▂▂▂▂▂▂▃▃▃▃▃▄▄▄▄▄▄▅▅▅▅▅▅▆▆▆▆▆▇▇▇▇▇▇███</td></tr></table><br/></div><div class=\"wandb-col\"><h3>Run summary:</h3><br/><table class=\"wandb\"><tr><td>AUC_FGSM</td><td>0.1</td></tr><tr><td>AUC_Noise</td><td>0.1</td></tr><tr><td>distillation_type</td><td>one_to_one</td></tr><tr><td>epoch</td><td>100</td></tr><tr><td>lr</td><td>0.1</td></tr><tr><td>model_name</td><td>very_tiny</td></tr><tr><td>optimizer</td><td>SGD</td></tr><tr><td>test_acc</td><td>0.1</td></tr><tr><td>train_acc</td><td>0.08594</td></tr><tr><td>train_loss</td><td>nan</td></tr><tr><td>trainer/global_step</td><td>7900</td></tr></table><br/></div></div>"
      ],
      "text/plain": [
       "<IPython.core.display.HTML object>"
      ]
     },
     "metadata": {},
     "output_type": "display_data"
    },
    {
     "data": {
      "text/html": [
       " View run <strong style=\"color:#cdcd00\">balmy-plasma-272</strong> at: <a href='https://wandb.ai/potapuch2001/Oleinik-BS-Thesis-code/runs/r3ae002s' target=\"_blank\">https://wandb.ai/potapuch2001/Oleinik-BS-Thesis-code/runs/r3ae002s</a><br/> View project at: <a href='https://wandb.ai/potapuch2001/Oleinik-BS-Thesis-code' target=\"_blank\">https://wandb.ai/potapuch2001/Oleinik-BS-Thesis-code</a><br/>Synced 6 W&B file(s), 3 media file(s), 2 artifact file(s) and 0 other file(s)"
      ],
      "text/plain": [
       "<IPython.core.display.HTML object>"
      ]
     },
     "metadata": {},
     "output_type": "display_data"
    },
    {
     "data": {
      "text/html": [
       "Find logs at: <code>./wandb/run-20240623_015300-r3ae002s/logs</code>"
      ],
      "text/plain": [
       "<IPython.core.display.HTML object>"
      ]
     },
     "metadata": {},
     "output_type": "display_data"
    },
    {
     "data": {
      "image/png": "[encoded data removed]",
      "text/plain": [
       "<Figure size 640x480 with 1 Axes>"
      ]
     },
     "metadata": {},
     "output_type": "display_data"
    }
   ],
   "source": [
    "for _ in range(5):\n",
    "    with wandb.init() as run:\n",
    "        wandb.log({\n",
    "            \"model_name\": \"very_tiny\",\n",
    "            \"distillation_type\": \"one_to_one\",\n",
    "        })\n",
    "        teacher = Base_Model.load_from_checkpoint(\"./lightning_logs/bov6ycbq/checkpoints/epoch=99-step=7900.ckpt\", model=Cifar_Tiny(10)).model\n",
    "        model = All_Connections_Distillation(student=Cifar_Very_Tiny(10), teacher=teacher, coeffs=coeffs_one_to_one)\n",
    "        trainer = L.Trainer(max_epochs=100, logger=WandbLogger(), inference_mode=False)\n",
    "        trainer.fit(model=model, train_dataloaders=train_loader)\n",
    "        trainer.test(dataloaders=test_loader)"
   ]
  },
  {
   "cell_type": "markdown",
   "metadata": {},
   "source": [
    "### По схеме \"все со всеми\""
   ]
  },
  {
   "cell_type": "code",
   "execution_count": 8,
   "metadata": {},
   "outputs": [
    {
     "data": {
      "text/html": [
       "wandb version 0.17.2 is available!  To upgrade, please run:\n",
       " $ pip install wandb --upgrade"
      ],
      "text/plain": [
       "<IPython.core.display.HTML object>"
      ]
     },
     "metadata": {},
     "output_type": "display_data"
    },
    {
     "data": {
      "text/html": [
       "Tracking run with wandb version 0.16.6"
      ],
      "text/plain": [
       "<IPython.core.display.HTML object>"
      ]
     },
     "metadata": {},
     "output_type": "display_data"
    },
    {
     "data": {
      "text/html": [
       "Run data is saved locally in <code>/home/ganddalf/MIPT/Kafedra/Oleinik-BS-Thesis/code/wandb/run-20240623_015704-e7ybx56x</code>"
      ],
      "text/plain": [
       "<IPython.core.display.HTML object>"
      ]
     },
     "metadata": {},
     "output_type": "display_data"
    },
    {
     "data": {
      "text/html": [
       "Syncing run <strong><a href='https://wandb.ai/potapuch2001/Oleinik-BS-Thesis-code/runs/e7ybx56x' target=\"_blank\">fresh-hill-273</a></strong> to <a href='https://wandb.ai/potapuch2001/Oleinik-BS-Thesis-code' target=\"_blank\">Weights & Biases</a> (<a href='https://wandb.me/run' target=\"_blank\">docs</a>)<br/>"
      ],
      "text/plain": [
       "<IPython.core.display.HTML object>"
      ]
     },
     "metadata": {},
     "output_type": "display_data"
    },
    {
     "data": {
      "text/html": [
       " View project at <a href='https://wandb.ai/potapuch2001/Oleinik-BS-Thesis-code' target=\"_blank\">https://wandb.ai/potapuch2001/Oleinik-BS-Thesis-code</a>"
      ],
      "text/plain": [
       "<IPython.core.display.HTML object>"
      ]
     },
     "metadata": {},
     "output_type": "display_data"
    },
    {
     "data": {
      "text/html": [
       " View run at <a href='https://wandb.ai/potapuch2001/Oleinik-BS-Thesis-code/runs/e7ybx56x' target=\"_blank\">https://wandb.ai/potapuch2001/Oleinik-BS-Thesis-code/runs/e7ybx56x</a>"
      ],
      "text/plain": [
       "<IPython.core.display.HTML object>"
      ]
     },
     "metadata": {},
     "output_type": "display_data"
    },
    {
     "name": "stderr",
     "output_type": "stream",
     "text": [
      "GPU available: True (cuda), used: True\n",
      "TPU available: False, using: 0 TPU cores\n",
      "IPU available: False, using: 0 IPUs\n",
      "HPU available: False, using: 0 HPUs\n",
      "/home/ganddalf/anaconda3/envs/dl/lib/python3.12/site-packages/lightning/pytorch/loggers/wandb.py:391: There is a wandb run already in progress and newly created instances of `WandbLogger` will reuse this run. If this is not desired, call `wandb.finish()` before instantiating `WandbLogger`.\n",
      "LOCAL_RANK: 0 - CUDA_VISIBLE_DEVICES: [0]\n",
      "\n",
      "  | Name    | Type             | Params\n",
      "---------------------------------------------\n",
      "0 | student | Cifar_Very_Tiny  | 15.1 K\n",
      "1 | teacher | Cifar_Tiny       | 58.0 K\n",
      "2 | loss    | CrossEntropyLoss | 0     \n",
      "---------------------------------------------\n",
      "15.1 K    Trainable params\n",
      "58.0 K    Non-trainable params\n",
      "73.0 K    Total params\n",
      "0.292     Total estimated model params size (MB)\n"
     ]
    },
    {
     "name": "stdout",
     "output_type": "stream",
     "text": [
      "Epoch 99: 100%|██████████| 79/79 [00:02<00:00, 26.87it/s, v_num=x56x]"
     ]
    },
    {
     "name": "stderr",
     "output_type": "stream",
     "text": [
      "`Trainer.fit` stopped: `max_epochs=100` reached.\n"
     ]
    },
    {
     "name": "stdout",
     "output_type": "stream",
     "text": [
      "Epoch 99: 100%|██████████| 79/79 [00:02<00:00, 26.77it/s, v_num=x56x]\n"
     ]
    },
    {
     "name": "stderr",
     "output_type": "stream",
     "text": [
      "/home/ganddalf/anaconda3/envs/dl/lib/python3.12/site-packages/lightning/pytorch/trainer/connectors/checkpoint_connector.py:145: `.test(ckpt_path=None)` was called without a model. The best model of the previous `fit` call will be used. You can pass `.test(ckpt_path='best')` to use the best model or `.test(ckpt_path='last')` to use the last model. If you pass a value, this warning will be silenced.\n",
      "Restoring states from the checkpoint path at ./lightning_logs/e7ybx56x/checkpoints/epoch=99-step=7900.ckpt\n",
      "LOCAL_RANK: 0 - CUDA_VISIBLE_DEVICES: [0]\n",
      "Loaded model weights from the checkpoint at ./lightning_logs/e7ybx56x/checkpoints/epoch=99-step=7900.ckpt\n"
     ]
    },
    {
     "name": "stdout",
     "output_type": "stream",
     "text": [
      "Testing DataLoader 0: 100%|██████████| 79/79 [00:04<00:00, 19.69it/s] \n",
      "────────────────────────────────────────────────────────────────────────────────────────────────────────────────────────\n",
      "       Test metric             DataLoader 0\n",
      "────────────────────────────────────────────────────────────────────────────────────────────────────────────────────────\n",
      "        AUC_FGSM            0.24321578443050385\n",
      "        AUC_Noise           0.4049217998981476\n",
      "        test_acc            0.5029000043869019\n",
      "────────────────────────────────────────────────────────────────────────────────────────────────────────────────────────\n"
     ]
    },
    {
     "data": {
      "text/html": [
       "<style>\n",
       "    table.wandb td:nth-child(1) { padding: 0 10px; text-align: left ; width: auto;} td:nth-child(2) {text-align: left ; width: 100%}\n",
       "    .wandb-row { display: flex; flex-direction: row; flex-wrap: wrap; justify-content: flex-start; width: 100% }\n",
       "    .wandb-col { display: flex; flex-direction: column; flex-basis: 100%; flex: 1; padding: 10px; }\n",
       "    </style>\n",
       "<div class=\"wandb-row\"><div class=\"wandb-col\"><h3>Run history:</h3><br/><table class=\"wandb\"><tr><td>AUC_FGSM</td><td>▁</td></tr><tr><td>AUC_Noise</td><td>▁</td></tr><tr><td>epoch</td><td>▁▁▁▁▂▂▂▂▂▃▃▃▃▃▃▄▄▄▄▄▅▅▅▅▅▅▆▆▆▆▆▇▇▇▇▇▇███</td></tr><tr><td>lr</td><td>▁</td></tr><tr><td>test_acc</td><td>▁</td></tr><tr><td>train_acc</td><td>▁▁▃▄▃▅▄▅▅▄▄▄▅▅▅▆▆▅▆▇▆▆▅▇▇▇▆▇▆▆▇▇▇▇▇▆▇██▇</td></tr><tr><td>train_loss</td><td>█▄▃▃▃▃▂▂▂▂▂▂▂▂▂▂▂▂▁▁▂▂▁▁▁▂▁▂▂▂▁▁▁▁▁▁▁▁▁▁</td></tr><tr><td>trainer/global_step</td><td>▁▁▁▂▂▂▂▂▂▃▃▃▃▃▄▄▄▄▄▄▅▅▅▅▅▅▆▆▆▆▆▇▇▇▇▇▇███</td></tr></table><br/></div><div class=\"wandb-col\"><h3>Run summary:</h3><br/><table class=\"wandb\"><tr><td>AUC_FGSM</td><td>0.24322</td></tr><tr><td>AUC_Noise</td><td>0.40492</td></tr><tr><td>distillation_type</td><td>all_to_all</td></tr><tr><td>epoch</td><td>100</td></tr><tr><td>lr</td><td>0.1</td></tr><tr><td>model_name</td><td>very_tiny</td></tr><tr><td>optimizer</td><td>SGD</td></tr><tr><td>test_acc</td><td>0.5029</td></tr><tr><td>train_acc</td><td>0.5</td></tr><tr><td>train_loss</td><td>84.05788</td></tr><tr><td>trainer/global_step</td><td>7900</td></tr></table><br/></div></div>"
      ],
      "text/plain": [
       "<IPython.core.display.HTML object>"
      ]
     },
     "metadata": {},
     "output_type": "display_data"
    },
    {
     "data": {
      "text/html": [
       " View run <strong style=\"color:#cdcd00\">fresh-hill-273</strong> at: <a href='https://wandb.ai/potapuch2001/Oleinik-BS-Thesis-code/runs/e7ybx56x' target=\"_blank\">https://wandb.ai/potapuch2001/Oleinik-BS-Thesis-code/runs/e7ybx56x</a><br/> View project at: <a href='https://wandb.ai/potapuch2001/Oleinik-BS-Thesis-code' target=\"_blank\">https://wandb.ai/potapuch2001/Oleinik-BS-Thesis-code</a><br/>Synced 6 W&B file(s), 3 media file(s), 2 artifact file(s) and 0 other file(s)"
      ],
      "text/plain": [
       "<IPython.core.display.HTML object>"
      ]
     },
     "metadata": {},
     "output_type": "display_data"
    },
    {
     "data": {
      "text/html": [
       "Find logs at: <code>./wandb/run-20240623_015704-e7ybx56x/logs</code>"
      ],
      "text/plain": [
       "<IPython.core.display.HTML object>"
      ]
     },
     "metadata": {},
     "output_type": "display_data"
    },
    {
     "data": {
      "text/html": [
       "wandb version 0.17.2 is available!  To upgrade, please run:\n",
       " $ pip install wandb --upgrade"
      ],
      "text/plain": [
       "<IPython.core.display.HTML object>"
      ]
     },
     "metadata": {},
     "output_type": "display_data"
    },
    {
     "data": {
      "text/html": [
       "Tracking run with wandb version 0.16.6"
      ],
      "text/plain": [
       "<IPython.core.display.HTML object>"
      ]
     },
     "metadata": {},
     "output_type": "display_data"
    },
    {
     "data": {
      "text/html": [
       "Run data is saved locally in <code>/home/ganddalf/MIPT/Kafedra/Oleinik-BS-Thesis/code/wandb/run-20240623_020110-rllqnfzg</code>"
      ],
      "text/plain": [
       "<IPython.core.display.HTML object>"
      ]
     },
     "metadata": {},
     "output_type": "display_data"
    },
    {
     "data": {
      "text/html": [
       "Syncing run <strong><a href='https://wandb.ai/potapuch2001/Oleinik-BS-Thesis-code/runs/rllqnfzg' target=\"_blank\">skilled-gorge-274</a></strong> to <a href='https://wandb.ai/potapuch2001/Oleinik-BS-Thesis-code' target=\"_blank\">Weights & Biases</a> (<a href='https://wandb.me/run' target=\"_blank\">docs</a>)<br/>"
      ],
      "text/plain": [
       "<IPython.core.display.HTML object>"
      ]
     },
     "metadata": {},
     "output_type": "display_data"
    },
    {
     "data": {
      "text/html": [
       " View project at <a href='https://wandb.ai/potapuch2001/Oleinik-BS-Thesis-code' target=\"_blank\">https://wandb.ai/potapuch2001/Oleinik-BS-Thesis-code</a>"
      ],
      "text/plain": [
       "<IPython.core.display.HTML object>"
      ]
     },
     "metadata": {},
     "output_type": "display_data"
    },
    {
     "data": {
      "text/html": [
       " View run at <a href='https://wandb.ai/potapuch2001/Oleinik-BS-Thesis-code/runs/rllqnfzg' target=\"_blank\">https://wandb.ai/potapuch2001/Oleinik-BS-Thesis-code/runs/rllqnfzg</a>"
      ],
      "text/plain": [
       "<IPython.core.display.HTML object>"
      ]
     },
     "metadata": {},
     "output_type": "display_data"
    },
    {
     "name": "stderr",
     "output_type": "stream",
     "text": [
      "GPU available: True (cuda), used: True\n",
      "TPU available: False, using: 0 TPU cores\n",
      "IPU available: False, using: 0 IPUs\n",
      "HPU available: False, using: 0 HPUs\n",
      "/home/ganddalf/anaconda3/envs/dl/lib/python3.12/site-packages/lightning/pytorch/loggers/wandb.py:391: There is a wandb run already in progress and newly created instances of `WandbLogger` will reuse this run. If this is not desired, call `wandb.finish()` before instantiating `WandbLogger`.\n",
      "LOCAL_RANK: 0 - CUDA_VISIBLE_DEVICES: [0]\n",
      "\n",
      "  | Name    | Type             | Params\n",
      "---------------------------------------------\n",
      "0 | student | Cifar_Very_Tiny  | 15.1 K\n",
      "1 | teacher | Cifar_Tiny       | 58.0 K\n",
      "2 | loss    | CrossEntropyLoss | 0     \n",
      "---------------------------------------------\n",
      "15.1 K    Trainable params\n",
      "58.0 K    Non-trainable params\n",
      "73.0 K    Total params\n",
      "0.292     Total estimated model params size (MB)\n"
     ]
    },
    {
     "name": "stdout",
     "output_type": "stream",
     "text": [
      "Epoch 99: 100%|██████████| 79/79 [00:01<00:00, 43.66it/s, v_num=nfzg]"
     ]
    },
    {
     "name": "stderr",
     "output_type": "stream",
     "text": [
      "`Trainer.fit` stopped: `max_epochs=100` reached.\n"
     ]
    },
    {
     "name": "stdout",
     "output_type": "stream",
     "text": [
      "Epoch 99: 100%|██████████| 79/79 [00:01<00:00, 43.53it/s, v_num=nfzg]\n"
     ]
    },
    {
     "name": "stderr",
     "output_type": "stream",
     "text": [
      "/home/ganddalf/anaconda3/envs/dl/lib/python3.12/site-packages/lightning/pytorch/trainer/connectors/checkpoint_connector.py:145: `.test(ckpt_path=None)` was called without a model. The best model of the previous `fit` call will be used. You can pass `.test(ckpt_path='best')` to use the best model or `.test(ckpt_path='last')` to use the last model. If you pass a value, this warning will be silenced.\n",
      "Restoring states from the checkpoint path at ./lightning_logs/rllqnfzg/checkpoints/epoch=99-step=7900.ckpt\n",
      "LOCAL_RANK: 0 - CUDA_VISIBLE_DEVICES: [0]\n",
      "Loaded model weights from the checkpoint at ./lightning_logs/rllqnfzg/checkpoints/epoch=99-step=7900.ckpt\n"
     ]
    },
    {
     "name": "stdout",
     "output_type": "stream",
     "text": [
      "Testing DataLoader 0: 100%|██████████| 79/79 [00:04<00:00, 17.79it/s] \n",
      "────────────────────────────────────────────────────────────────────────────────────────────────────────────────────────\n",
      "       Test metric             DataLoader 0\n",
      "────────────────────────────────────────────────────────────────────────────────────────────────────────────────────────\n",
      "        AUC_FGSM            0.2605000138282776\n",
      "        AUC_Noise           0.37959229946136475\n",
      "        test_acc            0.4724999964237213\n",
      "────────────────────────────────────────────────────────────────────────────────────────────────────────────────────────\n"
     ]
    },
    {
     "data": {
      "text/html": [
       "<style>\n",
       "    table.wandb td:nth-child(1) { padding: 0 10px; text-align: left ; width: auto;} td:nth-child(2) {text-align: left ; width: 100%}\n",
       "    .wandb-row { display: flex; flex-direction: row; flex-wrap: wrap; justify-content: flex-start; width: 100% }\n",
       "    .wandb-col { display: flex; flex-direction: column; flex-basis: 100%; flex: 1; padding: 10px; }\n",
       "    </style>\n",
       "<div class=\"wandb-row\"><div class=\"wandb-col\"><h3>Run history:</h3><br/><table class=\"wandb\"><tr><td>AUC_FGSM</td><td>▁</td></tr><tr><td>AUC_Noise</td><td>▁</td></tr><tr><td>epoch</td><td>▁▁▁▁▂▂▂▂▂▃▃▃▃▃▃▄▄▄▄▄▅▅▅▅▅▅▆▆▆▆▆▇▇▇▇▇▇███</td></tr><tr><td>lr</td><td>▁</td></tr><tr><td>test_acc</td><td>▁</td></tr><tr><td>train_acc</td><td>▁▁▁▁▁▃▂▃▃▃▃▃▅▄▄▅▅▅▅▆▅▆▅▆▆▇▆▆▇██▆▆▇▆▅▇▆▇▇</td></tr><tr><td>train_loss</td><td>█▅▄▃▃▃▂▃▂▂▂▂▂▂▂▁▂▂▁▁▂▂▂▁▂▂▁▂▂▁▁▁▁▁▁▁▁▁▁▁</td></tr><tr><td>trainer/global_step</td><td>▁▁▁▂▂▂▂▂▂▃▃▃▃▃▄▄▄▄▄▄▅▅▅▅▅▅▆▆▆▆▆▇▇▇▇▇▇███</td></tr></table><br/></div><div class=\"wandb-col\"><h3>Run summary:</h3><br/><table class=\"wandb\"><tr><td>AUC_FGSM</td><td>0.2605</td></tr><tr><td>AUC_Noise</td><td>0.37959</td></tr><tr><td>distillation_type</td><td>all_to_all</td></tr><tr><td>epoch</td><td>100</td></tr><tr><td>lr</td><td>0.1</td></tr><tr><td>model_name</td><td>very_tiny</td></tr><tr><td>optimizer</td><td>SGD</td></tr><tr><td>test_acc</td><td>0.4725</td></tr><tr><td>train_acc</td><td>0.50781</td></tr><tr><td>train_loss</td><td>84.26929</td></tr><tr><td>trainer/global_step</td><td>7900</td></tr></table><br/></div></div>"
      ],
      "text/plain": [
       "<IPython.core.display.HTML object>"
      ]
     },
     "metadata": {},
     "output_type": "display_data"
    },
    {
     "data": {
      "text/html": [
       " View run <strong style=\"color:#cdcd00\">skilled-gorge-274</strong> at: <a href='https://wandb.ai/potapuch2001/Oleinik-BS-Thesis-code/runs/rllqnfzg' target=\"_blank\">https://wandb.ai/potapuch2001/Oleinik-BS-Thesis-code/runs/rllqnfzg</a><br/> View project at: <a href='https://wandb.ai/potapuch2001/Oleinik-BS-Thesis-code' target=\"_blank\">https://wandb.ai/potapuch2001/Oleinik-BS-Thesis-code</a><br/>Synced 6 W&B file(s), 3 media file(s), 2 artifact file(s) and 0 other file(s)"
      ],
      "text/plain": [
       "<IPython.core.display.HTML object>"
      ]
     },
     "metadata": {},
     "output_type": "display_data"
    },
    {
     "data": {
      "text/html": [
       "Find logs at: <code>./wandb/run-20240623_020110-rllqnfzg/logs</code>"
      ],
      "text/plain": [
       "<IPython.core.display.HTML object>"
      ]
     },
     "metadata": {},
     "output_type": "display_data"
    },
    {
     "data": {
      "text/html": [
       "wandb version 0.17.2 is available!  To upgrade, please run:\n",
       " $ pip install wandb --upgrade"
      ],
      "text/plain": [
       "<IPython.core.display.HTML object>"
      ]
     },
     "metadata": {},
     "output_type": "display_data"
    },
    {
     "data": {
      "text/html": [
       "Tracking run with wandb version 0.16.6"
      ],
      "text/plain": [
       "<IPython.core.display.HTML object>"
      ]
     },
     "metadata": {},
     "output_type": "display_data"
    },
    {
     "data": {
      "text/html": [
       "Run data is saved locally in <code>/home/ganddalf/MIPT/Kafedra/Oleinik-BS-Thesis/code/wandb/run-20240623_020559-20fdaxny</code>"
      ],
      "text/plain": [
       "<IPython.core.display.HTML object>"
      ]
     },
     "metadata": {},
     "output_type": "display_data"
    },
    {
     "data": {
      "text/html": [
       "Syncing run <strong><a href='https://wandb.ai/potapuch2001/Oleinik-BS-Thesis-code/runs/20fdaxny' target=\"_blank\">breezy-fire-275</a></strong> to <a href='https://wandb.ai/potapuch2001/Oleinik-BS-Thesis-code' target=\"_blank\">Weights & Biases</a> (<a href='https://wandb.me/run' target=\"_blank\">docs</a>)<br/>"
      ],
      "text/plain": [
       "<IPython.core.display.HTML object>"
      ]
     },
     "metadata": {},
     "output_type": "display_data"
    },
    {
     "data": {
      "text/html": [
       " View project at <a href='https://wandb.ai/potapuch2001/Oleinik-BS-Thesis-code' target=\"_blank\">https://wandb.ai/potapuch2001/Oleinik-BS-Thesis-code</a>"
      ],
      "text/plain": [
       "<IPython.core.display.HTML object>"
      ]
     },
     "metadata": {},
     "output_type": "display_data"
    },
    {
     "data": {
      "text/html": [
       " View run at <a href='https://wandb.ai/potapuch2001/Oleinik-BS-Thesis-code/runs/20fdaxny' target=\"_blank\">https://wandb.ai/potapuch2001/Oleinik-BS-Thesis-code/runs/20fdaxny</a>"
      ],
      "text/plain": [
       "<IPython.core.display.HTML object>"
      ]
     },
     "metadata": {},
     "output_type": "display_data"
    },
    {
     "name": "stderr",
     "output_type": "stream",
     "text": [
      "GPU available: True (cuda), used: True\n",
      "TPU available: False, using: 0 TPU cores\n",
      "IPU available: False, using: 0 IPUs\n",
      "HPU available: False, using: 0 HPUs\n",
      "/home/ganddalf/anaconda3/envs/dl/lib/python3.12/site-packages/lightning/pytorch/loggers/wandb.py:391: There is a wandb run already in progress and newly created instances of `WandbLogger` will reuse this run. If this is not desired, call `wandb.finish()` before instantiating `WandbLogger`.\n",
      "LOCAL_RANK: 0 - CUDA_VISIBLE_DEVICES: [0]\n",
      "\n",
      "  | Name    | Type             | Params\n",
      "---------------------------------------------\n",
      "0 | student | Cifar_Very_Tiny  | 15.1 K\n",
      "1 | teacher | Cifar_Tiny       | 58.0 K\n",
      "2 | loss    | CrossEntropyLoss | 0     \n",
      "---------------------------------------------\n",
      "15.1 K    Trainable params\n",
      "58.0 K    Non-trainable params\n",
      "73.0 K    Total params\n",
      "0.292     Total estimated model params size (MB)\n"
     ]
    },
    {
     "name": "stdout",
     "output_type": "stream",
     "text": [
      "Epoch 99: 100%|██████████| 79/79 [00:02<00:00, 29.40it/s, v_num=axny]"
     ]
    },
    {
     "name": "stderr",
     "output_type": "stream",
     "text": [
      "`Trainer.fit` stopped: `max_epochs=100` reached.\n"
     ]
    },
    {
     "name": "stdout",
     "output_type": "stream",
     "text": [
      "Epoch 99: 100%|██████████| 79/79 [00:02<00:00, 29.32it/s, v_num=axny]\n"
     ]
    },
    {
     "name": "stderr",
     "output_type": "stream",
     "text": [
      "/home/ganddalf/anaconda3/envs/dl/lib/python3.12/site-packages/lightning/pytorch/trainer/connectors/checkpoint_connector.py:145: `.test(ckpt_path=None)` was called without a model. The best model of the previous `fit` call will be used. You can pass `.test(ckpt_path='best')` to use the best model or `.test(ckpt_path='last')` to use the last model. If you pass a value, this warning will be silenced.\n",
      "Restoring states from the checkpoint path at ./lightning_logs/20fdaxny/checkpoints/epoch=99-step=7900.ckpt\n",
      "LOCAL_RANK: 0 - CUDA_VISIBLE_DEVICES: [0]\n",
      "Loaded model weights from the checkpoint at ./lightning_logs/20fdaxny/checkpoints/epoch=99-step=7900.ckpt\n"
     ]
    },
    {
     "name": "stdout",
     "output_type": "stream",
     "text": [
      "Testing DataLoader 0: 100%|██████████| 79/79 [00:04<00:00, 19.13it/s] \n",
      "────────────────────────────────────────────────────────────────────────────────────────────────────────────────────────\n",
      "       Test metric             DataLoader 0\n",
      "────────────────────────────────────────────────────────────────────────────────────────────────────────────────────────\n",
      "        AUC_FGSM            0.2545868456363678\n",
      "        AUC_Noise            0.313973069190979\n",
      "        test_acc            0.4000999927520752\n",
      "────────────────────────────────────────────────────────────────────────────────────────────────────────────────────────\n"
     ]
    },
    {
     "data": {
      "text/html": [
       "<style>\n",
       "    table.wandb td:nth-child(1) { padding: 0 10px; text-align: left ; width: auto;} td:nth-child(2) {text-align: left ; width: 100%}\n",
       "    .wandb-row { display: flex; flex-direction: row; flex-wrap: wrap; justify-content: flex-start; width: 100% }\n",
       "    .wandb-col { display: flex; flex-direction: column; flex-basis: 100%; flex: 1; padding: 10px; }\n",
       "    </style>\n",
       "<div class=\"wandb-row\"><div class=\"wandb-col\"><h3>Run history:</h3><br/><table class=\"wandb\"><tr><td>AUC_FGSM</td><td>▁</td></tr><tr><td>AUC_Noise</td><td>▁</td></tr><tr><td>epoch</td><td>▁▁▁▁▂▂▂▂▂▃▃▃▃▃▃▄▄▄▄▄▅▅▅▅▅▅▆▆▆▆▆▇▇▇▇▇▇███</td></tr><tr><td>lr</td><td>▁</td></tr><tr><td>test_acc</td><td>▁</td></tr><tr><td>train_acc</td><td>▂▃▁▁▂▁▁▁▂▃▃▃▃▃▄▂▂▃▃▄▄▅▅▆▆▆▅▄▄▅▆▄▄▇▄▄█▆█▇</td></tr><tr><td>train_loss</td><td>█▅▄▃▃▃▃▃▃▂▂▂▂▂▂▂▂▂▂▂▂▂▂▁▁▁▁▁▁▂▁▁▁▁▁▁▁▁▁▁</td></tr><tr><td>trainer/global_step</td><td>▁▁▁▂▂▂▂▂▂▃▃▃▃▃▄▄▄▄▄▄▅▅▅▅▅▅▆▆▆▆▆▇▇▇▇▇▇███</td></tr></table><br/></div><div class=\"wandb-col\"><h3>Run summary:</h3><br/><table class=\"wandb\"><tr><td>AUC_FGSM</td><td>0.25459</td></tr><tr><td>AUC_Noise</td><td>0.31397</td></tr><tr><td>distillation_type</td><td>all_to_all</td></tr><tr><td>epoch</td><td>100</td></tr><tr><td>lr</td><td>0.1</td></tr><tr><td>model_name</td><td>very_tiny</td></tr><tr><td>optimizer</td><td>SGD</td></tr><tr><td>test_acc</td><td>0.4001</td></tr><tr><td>train_acc</td><td>0.42969</td></tr><tr><td>train_loss</td><td>85.68864</td></tr><tr><td>trainer/global_step</td><td>7900</td></tr></table><br/></div></div>"
      ],
      "text/plain": [
       "<IPython.core.display.HTML object>"
      ]
     },
     "metadata": {},
     "output_type": "display_data"
    },
    {
     "data": {
      "text/html": [
       " View run <strong style=\"color:#cdcd00\">breezy-fire-275</strong> at: <a href='https://wandb.ai/potapuch2001/Oleinik-BS-Thesis-code/runs/20fdaxny' target=\"_blank\">https://wandb.ai/potapuch2001/Oleinik-BS-Thesis-code/runs/20fdaxny</a><br/> View project at: <a href='https://wandb.ai/potapuch2001/Oleinik-BS-Thesis-code' target=\"_blank\">https://wandb.ai/potapuch2001/Oleinik-BS-Thesis-code</a><br/>Synced 6 W&B file(s), 3 media file(s), 2 artifact file(s) and 0 other file(s)"
      ],
      "text/plain": [
       "<IPython.core.display.HTML object>"
      ]
     },
     "metadata": {},
     "output_type": "display_data"
    },
    {
     "data": {
      "text/html": [
       "Find logs at: <code>./wandb/run-20240623_020559-20fdaxny/logs</code>"
      ],
      "text/plain": [
       "<IPython.core.display.HTML object>"
      ]
     },
     "metadata": {},
     "output_type": "display_data"
    },
    {
     "data": {
      "text/html": [
       "wandb version 0.17.2 is available!  To upgrade, please run:\n",
       " $ pip install wandb --upgrade"
      ],
      "text/plain": [
       "<IPython.core.display.HTML object>"
      ]
     },
     "metadata": {},
     "output_type": "display_data"
    },
    {
     "data": {
      "text/html": [
       "Tracking run with wandb version 0.16.6"
      ],
      "text/plain": [
       "<IPython.core.display.HTML object>"
      ]
     },
     "metadata": {},
     "output_type": "display_data"
    },
    {
     "data": {
      "text/html": [
       "Run data is saved locally in <code>/home/ganddalf/MIPT/Kafedra/Oleinik-BS-Thesis/code/wandb/run-20240623_021047-wkbws2fn</code>"
      ],
      "text/plain": [
       "<IPython.core.display.HTML object>"
      ]
     },
     "metadata": {},
     "output_type": "display_data"
    },
    {
     "data": {
      "text/html": [
       "Syncing run <strong><a href='https://wandb.ai/potapuch2001/Oleinik-BS-Thesis-code/runs/wkbws2fn' target=\"_blank\">dark-terrain-276</a></strong> to <a href='https://wandb.ai/potapuch2001/Oleinik-BS-Thesis-code' target=\"_blank\">Weights & Biases</a> (<a href='https://wandb.me/run' target=\"_blank\">docs</a>)<br/>"
      ],
      "text/plain": [
       "<IPython.core.display.HTML object>"
      ]
     },
     "metadata": {},
     "output_type": "display_data"
    },
    {
     "data": {
      "text/html": [
       " View project at <a href='https://wandb.ai/potapuch2001/Oleinik-BS-Thesis-code' target=\"_blank\">https://wandb.ai/potapuch2001/Oleinik-BS-Thesis-code</a>"
      ],
      "text/plain": [
       "<IPython.core.display.HTML object>"
      ]
     },
     "metadata": {},
     "output_type": "display_data"
    },
    {
     "data": {
      "text/html": [
       " View run at <a href='https://wandb.ai/potapuch2001/Oleinik-BS-Thesis-code/runs/wkbws2fn' target=\"_blank\">https://wandb.ai/potapuch2001/Oleinik-BS-Thesis-code/runs/wkbws2fn</a>"
      ],
      "text/plain": [
       "<IPython.core.display.HTML object>"
      ]
     },
     "metadata": {},
     "output_type": "display_data"
    },
    {
     "name": "stderr",
     "output_type": "stream",
     "text": [
      "GPU available: True (cuda), used: True\n",
      "TPU available: False, using: 0 TPU cores\n",
      "IPU available: False, using: 0 IPUs\n",
      "HPU available: False, using: 0 HPUs\n",
      "/home/ganddalf/anaconda3/envs/dl/lib/python3.12/site-packages/lightning/pytorch/loggers/wandb.py:391: There is a wandb run already in progress and newly created instances of `WandbLogger` will reuse this run. If this is not desired, call `wandb.finish()` before instantiating `WandbLogger`.\n",
      "LOCAL_RANK: 0 - CUDA_VISIBLE_DEVICES: [0]\n",
      "\n",
      "  | Name    | Type             | Params\n",
      "---------------------------------------------\n",
      "0 | student | Cifar_Very_Tiny  | 15.1 K\n",
      "1 | teacher | Cifar_Tiny       | 58.0 K\n",
      "2 | loss    | CrossEntropyLoss | 0     \n",
      "---------------------------------------------\n",
      "15.1 K    Trainable params\n",
      "58.0 K    Non-trainable params\n",
      "73.0 K    Total params\n",
      "0.292     Total estimated model params size (MB)\n"
     ]
    },
    {
     "name": "stdout",
     "output_type": "stream",
     "text": [
      "Epoch 99: 100%|██████████| 79/79 [00:02<00:00, 28.07it/s, v_num=s2fn]"
     ]
    },
    {
     "name": "stderr",
     "output_type": "stream",
     "text": [
      "`Trainer.fit` stopped: `max_epochs=100` reached.\n"
     ]
    },
    {
     "name": "stdout",
     "output_type": "stream",
     "text": [
      "Epoch 99: 100%|██████████| 79/79 [00:02<00:00, 27.96it/s, v_num=s2fn]\n"
     ]
    },
    {
     "name": "stderr",
     "output_type": "stream",
     "text": [
      "/home/ganddalf/anaconda3/envs/dl/lib/python3.12/site-packages/lightning/pytorch/trainer/connectors/checkpoint_connector.py:145: `.test(ckpt_path=None)` was called without a model. The best model of the previous `fit` call will be used. You can pass `.test(ckpt_path='best')` to use the best model or `.test(ckpt_path='last')` to use the last model. If you pass a value, this warning will be silenced.\n",
      "Restoring states from the checkpoint path at ./lightning_logs/wkbws2fn/checkpoints/epoch=99-step=7900.ckpt\n",
      "LOCAL_RANK: 0 - CUDA_VISIBLE_DEVICES: [0]\n",
      "Loaded model weights from the checkpoint at ./lightning_logs/wkbws2fn/checkpoints/epoch=99-step=7900.ckpt\n"
     ]
    },
    {
     "name": "stdout",
     "output_type": "stream",
     "text": [
      "Testing DataLoader 0: 100%|██████████| 79/79 [00:04<00:00, 19.56it/s] \n",
      "────────────────────────────────────────────────────────────────────────────────────────────────────────────────────────\n",
      "       Test metric             DataLoader 0\n",
      "────────────────────────────────────────────────────────────────────────────────────────────────────────────────────────\n",
      "        AUC_FGSM            0.24938157200813293\n",
      "        AUC_Noise           0.37978076934814453\n",
      "        test_acc            0.46869999170303345\n",
      "────────────────────────────────────────────────────────────────────────────────────────────────────────────────────────\n"
     ]
    },
    {
     "data": {
      "text/html": [
       "<style>\n",
       "    table.wandb td:nth-child(1) { padding: 0 10px; text-align: left ; width: auto;} td:nth-child(2) {text-align: left ; width: 100%}\n",
       "    .wandb-row { display: flex; flex-direction: row; flex-wrap: wrap; justify-content: flex-start; width: 100% }\n",
       "    .wandb-col { display: flex; flex-direction: column; flex-basis: 100%; flex: 1; padding: 10px; }\n",
       "    </style>\n",
       "<div class=\"wandb-row\"><div class=\"wandb-col\"><h3>Run history:</h3><br/><table class=\"wandb\"><tr><td>AUC_FGSM</td><td>▁</td></tr><tr><td>AUC_Noise</td><td>▁</td></tr><tr><td>epoch</td><td>▁▁▁▁▂▂▂▂▂▃▃▃▃▃▃▄▄▄▄▄▅▅▅▅▅▅▆▆▆▆▆▇▇▇▇▇▇███</td></tr><tr><td>lr</td><td>▁</td></tr><tr><td>test_acc</td><td>▁</td></tr><tr><td>train_acc</td><td>▂▁▂▄▄▄▄▆▅▄▄▅▅▄▅▆▆▅▅▇▅▆▆▇▇▇▇▆▇▇▇▇█▇█▆▇▇█▇</td></tr><tr><td>train_loss</td><td>█▄▃▃▃▃▂▂▂▂▂▂▂▂▂▂▂▂▁▂▂▂▁▁▁▂▁▁▁▂▁▁▁▁▁▁▁▁▁▁</td></tr><tr><td>trainer/global_step</td><td>▁▁▁▂▂▂▂▂▂▃▃▃▃▃▄▄▄▄▄▄▅▅▅▅▅▅▆▆▆▆▆▇▇▇▇▇▇███</td></tr></table><br/></div><div class=\"wandb-col\"><h3>Run summary:</h3><br/><table class=\"wandb\"><tr><td>AUC_FGSM</td><td>0.24938</td></tr><tr><td>AUC_Noise</td><td>0.37978</td></tr><tr><td>distillation_type</td><td>all_to_all</td></tr><tr><td>epoch</td><td>100</td></tr><tr><td>lr</td><td>0.1</td></tr><tr><td>model_name</td><td>very_tiny</td></tr><tr><td>optimizer</td><td>SGD</td></tr><tr><td>test_acc</td><td>0.4687</td></tr><tr><td>train_acc</td><td>0.50781</td></tr><tr><td>train_loss</td><td>84.80119</td></tr><tr><td>trainer/global_step</td><td>7900</td></tr></table><br/></div></div>"
      ],
      "text/plain": [
       "<IPython.core.display.HTML object>"
      ]
     },
     "metadata": {},
     "output_type": "display_data"
    },
    {
     "data": {
      "text/html": [
       " View run <strong style=\"color:#cdcd00\">dark-terrain-276</strong> at: <a href='https://wandb.ai/potapuch2001/Oleinik-BS-Thesis-code/runs/wkbws2fn' target=\"_blank\">https://wandb.ai/potapuch2001/Oleinik-BS-Thesis-code/runs/wkbws2fn</a><br/> View project at: <a href='https://wandb.ai/potapuch2001/Oleinik-BS-Thesis-code' target=\"_blank\">https://wandb.ai/potapuch2001/Oleinik-BS-Thesis-code</a><br/>Synced 6 W&B file(s), 3 media file(s), 2 artifact file(s) and 0 other file(s)"
      ],
      "text/plain": [
       "<IPython.core.display.HTML object>"
      ]
     },
     "metadata": {},
     "output_type": "display_data"
    },
    {
     "data": {
      "text/html": [
       "Find logs at: <code>./wandb/run-20240623_021047-wkbws2fn/logs</code>"
      ],
      "text/plain": [
       "<IPython.core.display.HTML object>"
      ]
     },
     "metadata": {},
     "output_type": "display_data"
    },
    {
     "data": {
      "text/html": [
       "wandb version 0.17.2 is available!  To upgrade, please run:\n",
       " $ pip install wandb --upgrade"
      ],
      "text/plain": [
       "<IPython.core.display.HTML object>"
      ]
     },
     "metadata": {},
     "output_type": "display_data"
    },
    {
     "data": {
      "text/html": [
       "Tracking run with wandb version 0.16.6"
      ],
      "text/plain": [
       "<IPython.core.display.HTML object>"
      ]
     },
     "metadata": {},
     "output_type": "display_data"
    },
    {
     "data": {
      "text/html": [
       "Run data is saved locally in <code>/home/ganddalf/MIPT/Kafedra/Oleinik-BS-Thesis/code/wandb/run-20240623_021539-gznaov4d</code>"
      ],
      "text/plain": [
       "<IPython.core.display.HTML object>"
      ]
     },
     "metadata": {},
     "output_type": "display_data"
    },
    {
     "data": {
      "text/html": [
       "Syncing run <strong><a href='https://wandb.ai/potapuch2001/Oleinik-BS-Thesis-code/runs/gznaov4d' target=\"_blank\">true-night-277</a></strong> to <a href='https://wandb.ai/potapuch2001/Oleinik-BS-Thesis-code' target=\"_blank\">Weights & Biases</a> (<a href='https://wandb.me/run' target=\"_blank\">docs</a>)<br/>"
      ],
      "text/plain": [
       "<IPython.core.display.HTML object>"
      ]
     },
     "metadata": {},
     "output_type": "display_data"
    },
    {
     "data": {
      "text/html": [
       " View project at <a href='https://wandb.ai/potapuch2001/Oleinik-BS-Thesis-code' target=\"_blank\">https://wandb.ai/potapuch2001/Oleinik-BS-Thesis-code</a>"
      ],
      "text/plain": [
       "<IPython.core.display.HTML object>"
      ]
     },
     "metadata": {},
     "output_type": "display_data"
    },
    {
     "data": {
      "text/html": [
       " View run at <a href='https://wandb.ai/potapuch2001/Oleinik-BS-Thesis-code/runs/gznaov4d' target=\"_blank\">https://wandb.ai/potapuch2001/Oleinik-BS-Thesis-code/runs/gznaov4d</a>"
      ],
      "text/plain": [
       "<IPython.core.display.HTML object>"
      ]
     },
     "metadata": {},
     "output_type": "display_data"
    },
    {
     "name": "stderr",
     "output_type": "stream",
     "text": [
      "GPU available: True (cuda), used: True\n",
      "TPU available: False, using: 0 TPU cores\n",
      "IPU available: False, using: 0 IPUs\n",
      "HPU available: False, using: 0 HPUs\n",
      "/home/ganddalf/anaconda3/envs/dl/lib/python3.12/site-packages/lightning/pytorch/loggers/wandb.py:391: There is a wandb run already in progress and newly created instances of `WandbLogger` will reuse this run. If this is not desired, call `wandb.finish()` before instantiating `WandbLogger`.\n",
      "LOCAL_RANK: 0 - CUDA_VISIBLE_DEVICES: [0]\n",
      "\n",
      "  | Name    | Type             | Params\n",
      "---------------------------------------------\n",
      "0 | student | Cifar_Very_Tiny  | 15.1 K\n",
      "1 | teacher | Cifar_Tiny       | 58.0 K\n",
      "2 | loss    | CrossEntropyLoss | 0     \n",
      "---------------------------------------------\n",
      "15.1 K    Trainable params\n",
      "58.0 K    Non-trainable params\n",
      "73.0 K    Total params\n",
      "0.292     Total estimated model params size (MB)\n"
     ]
    },
    {
     "name": "stdout",
     "output_type": "stream",
     "text": [
      "Epoch 99: 100%|██████████| 79/79 [00:02<00:00, 30.85it/s, v_num=ov4d]"
     ]
    },
    {
     "name": "stderr",
     "output_type": "stream",
     "text": [
      "`Trainer.fit` stopped: `max_epochs=100` reached.\n"
     ]
    },
    {
     "name": "stdout",
     "output_type": "stream",
     "text": [
      "Epoch 99: 100%|██████████| 79/79 [00:02<00:00, 30.72it/s, v_num=ov4d]\n"
     ]
    },
    {
     "name": "stderr",
     "output_type": "stream",
     "text": [
      "/home/ganddalf/anaconda3/envs/dl/lib/python3.12/site-packages/lightning/pytorch/trainer/connectors/checkpoint_connector.py:145: `.test(ckpt_path=None)` was called without a model. The best model of the previous `fit` call will be used. You can pass `.test(ckpt_path='best')` to use the best model or `.test(ckpt_path='last')` to use the last model. If you pass a value, this warning will be silenced.\n",
      "Restoring states from the checkpoint path at ./lightning_logs/gznaov4d/checkpoints/epoch=99-step=7900.ckpt\n",
      "LOCAL_RANK: 0 - CUDA_VISIBLE_DEVICES: [0]\n",
      "Loaded model weights from the checkpoint at ./lightning_logs/gznaov4d/checkpoints/epoch=99-step=7900.ckpt\n"
     ]
    },
    {
     "name": "stdout",
     "output_type": "stream",
     "text": [
      "Testing DataLoader 0: 100%|██████████| 79/79 [00:04<00:00, 19.39it/s] \n",
      "────────────────────────────────────────────────────────────────────────────────────────────────────────────────────────\n",
      "       Test metric             DataLoader 0\n",
      "────────────────────────────────────────────────────────────────────────────────────────────────────────────────────────\n",
      "        AUC_FGSM            0.25830525159835815\n",
      "        AUC_Noise           0.39672309160232544\n",
      "        test_acc            0.4878000020980835\n",
      "────────────────────────────────────────────────────────────────────────────────────────────────────────────────────────\n"
     ]
    },
    {
     "data": {
      "text/html": [
       "<style>\n",
       "    table.wandb td:nth-child(1) { padding: 0 10px; text-align: left ; width: auto;} td:nth-child(2) {text-align: left ; width: 100%}\n",
       "    .wandb-row { display: flex; flex-direction: row; flex-wrap: wrap; justify-content: flex-start; width: 100% }\n",
       "    .wandb-col { display: flex; flex-direction: column; flex-basis: 100%; flex: 1; padding: 10px; }\n",
       "    </style>\n",
       "<div class=\"wandb-row\"><div class=\"wandb-col\"><h3>Run history:</h3><br/><table class=\"wandb\"><tr><td>AUC_FGSM</td><td>▁</td></tr><tr><td>AUC_Noise</td><td>▁</td></tr><tr><td>epoch</td><td>▁▁▁▁▂▂▂▂▂▃▃▃▃▃▃▄▄▄▄▄▅▅▅▅▅▅▆▆▆▆▆▇▇▇▇▇▇███</td></tr><tr><td>lr</td><td>▁</td></tr><tr><td>test_acc</td><td>▁</td></tr><tr><td>train_acc</td><td>▁▁▃▄▃▅▃▄▅▅▄▅▄▄▅▆▅▅▆▇▅▇▅▆▇▇▇▇▇▇█▇▇▇▇▅▆▇█▇</td></tr><tr><td>train_loss</td><td>█▄▃▃▃▃▂▃▃▂▂▂▂▂▂▂▂▂▂▂▂▂▂▂▁▁▁▁▂▁▁▁▁▁▁▁▁▁▁▁</td></tr><tr><td>trainer/global_step</td><td>▁▁▁▂▂▂▂▂▂▃▃▃▃▃▄▄▄▄▄▄▅▅▅▅▅▅▆▆▆▆▆▇▇▇▇▇▇███</td></tr></table><br/></div><div class=\"wandb-col\"><h3>Run summary:</h3><br/><table class=\"wandb\"><tr><td>AUC_FGSM</td><td>0.25831</td></tr><tr><td>AUC_Noise</td><td>0.39672</td></tr><tr><td>distillation_type</td><td>all_to_all</td></tr><tr><td>epoch</td><td>100</td></tr><tr><td>lr</td><td>0.1</td></tr><tr><td>model_name</td><td>very_tiny</td></tr><tr><td>optimizer</td><td>SGD</td></tr><tr><td>test_acc</td><td>0.4878</td></tr><tr><td>train_acc</td><td>0.50781</td></tr><tr><td>train_loss</td><td>84.05358</td></tr><tr><td>trainer/global_step</td><td>7900</td></tr></table><br/></div></div>"
      ],
      "text/plain": [
       "<IPython.core.display.HTML object>"
      ]
     },
     "metadata": {},
     "output_type": "display_data"
    },
    {
     "data": {
      "text/html": [
       " View run <strong style=\"color:#cdcd00\">true-night-277</strong> at: <a href='https://wandb.ai/potapuch2001/Oleinik-BS-Thesis-code/runs/gznaov4d' target=\"_blank\">https://wandb.ai/potapuch2001/Oleinik-BS-Thesis-code/runs/gznaov4d</a><br/> View project at: <a href='https://wandb.ai/potapuch2001/Oleinik-BS-Thesis-code' target=\"_blank\">https://wandb.ai/potapuch2001/Oleinik-BS-Thesis-code</a><br/>Synced 6 W&B file(s), 3 media file(s), 2 artifact file(s) and 0 other file(s)"
      ],
      "text/plain": [
       "<IPython.core.display.HTML object>"
      ]
     },
     "metadata": {},
     "output_type": "display_data"
    },
    {
     "data": {
      "text/html": [
       "Find logs at: <code>./wandb/run-20240623_021539-gznaov4d/logs</code>"
      ],
      "text/plain": [
       "<IPython.core.display.HTML object>"
      ]
     },
     "metadata": {},
     "output_type": "display_data"
    },
    {
     "data": {
      "image/png": "[encoded data removed]",
      "text/plain": [
       "<Figure size 640x480 with 1 Axes>"
      ]
     },
     "metadata": {},
     "output_type": "display_data"
    }
   ],
   "source": [
    "for _ in range(5):\n",
    "    with wandb.init() as run:\n",
    "        wandb.log({\n",
    "            \"model_name\": \"very_tiny\",\n",
    "            \"distillation_type\": \"all_to_all\",\n",
    "        })\n",
    "        teacher = Base_Model.load_from_checkpoint(\"./lightning_logs/bov6ycbq/checkpoints/epoch=99-step=7900.ckpt\", model=Cifar_Tiny(10)).model\n",
    "        model = All_Connections_Distillation(student=Cifar_Very_Tiny(10), teacher=teacher, coeffs=coeffs_all_to_all)\n",
    "        trainer = L.Trainer(max_epochs=100, logger=WandbLogger(), inference_mode=False)\n",
    "        trainer.fit(model=model, train_dataloaders=train_loader)\n",
    "        trainer.test(dataloaders=test_loader)"
   ]
  },
  {
   "cell_type": "markdown",
   "metadata": {},
   "source": [
    "### По схеме \"все к одному\" (к наибольшему слою учителя)"
   ]
  },
  {
   "cell_type": "code",
   "execution_count": 9,
   "metadata": {},
   "outputs": [
    {
     "data": {
      "text/html": [
       "wandb version 0.17.2 is available!  To upgrade, please run:\n",
       " $ pip install wandb --upgrade"
      ],
      "text/plain": [
       "<IPython.core.display.HTML object>"
      ]
     },
     "metadata": {},
     "output_type": "display_data"
    },
    {
     "data": {
      "text/html": [
       "Tracking run with wandb version 0.16.6"
      ],
      "text/plain": [
       "<IPython.core.display.HTML object>"
      ]
     },
     "metadata": {},
     "output_type": "display_data"
    },
    {
     "data": {
      "text/html": [
       "Run data is saved locally in <code>/home/ganddalf/MIPT/Kafedra/Oleinik-BS-Thesis/code/wandb/run-20240623_022027-6s6aiuz0</code>"
      ],
      "text/plain": [
       "<IPython.core.display.HTML object>"
      ]
     },
     "metadata": {},
     "output_type": "display_data"
    },
    {
     "data": {
      "text/html": [
       "Syncing run <strong><a href='https://wandb.ai/potapuch2001/Oleinik-BS-Thesis-code/runs/6s6aiuz0' target=\"_blank\">dauntless-haze-278</a></strong> to <a href='https://wandb.ai/potapuch2001/Oleinik-BS-Thesis-code' target=\"_blank\">Weights & Biases</a> (<a href='https://wandb.me/run' target=\"_blank\">docs</a>)<br/>"
      ],
      "text/plain": [
       "<IPython.core.display.HTML object>"
      ]
     },
     "metadata": {},
     "output_type": "display_data"
    },
    {
     "data": {
      "text/html": [
       " View project at <a href='https://wandb.ai/potapuch2001/Oleinik-BS-Thesis-code' target=\"_blank\">https://wandb.ai/potapuch2001/Oleinik-BS-Thesis-code</a>"
      ],
      "text/plain": [
       "<IPython.core.display.HTML object>"
      ]
     },
     "metadata": {},
     "output_type": "display_data"
    },
    {
     "data": {
      "text/html": [
       " View run at <a href='https://wandb.ai/potapuch2001/Oleinik-BS-Thesis-code/runs/6s6aiuz0' target=\"_blank\">https://wandb.ai/potapuch2001/Oleinik-BS-Thesis-code/runs/6s6aiuz0</a>"
      ],
      "text/plain": [
       "<IPython.core.display.HTML object>"
      ]
     },
     "metadata": {},
     "output_type": "display_data"
    },
    {
     "name": "stderr",
     "output_type": "stream",
     "text": [
      "GPU available: True (cuda), used: True\n",
      "TPU available: False, using: 0 TPU cores\n",
      "IPU available: False, using: 0 IPUs\n",
      "HPU available: False, using: 0 HPUs\n",
      "/home/ganddalf/anaconda3/envs/dl/lib/python3.12/site-packages/lightning/pytorch/loggers/wandb.py:391: There is a wandb run already in progress and newly created instances of `WandbLogger` will reuse this run. If this is not desired, call `wandb.finish()` before instantiating `WandbLogger`.\n",
      "LOCAL_RANK: 0 - CUDA_VISIBLE_DEVICES: [0]\n",
      "\n",
      "  | Name    | Type             | Params\n",
      "---------------------------------------------\n",
      "0 | student | Cifar_Very_Tiny  | 15.1 K\n",
      "1 | teacher | Cifar_Tiny       | 58.0 K\n",
      "2 | loss    | CrossEntropyLoss | 0     \n",
      "---------------------------------------------\n",
      "15.1 K    Trainable params\n",
      "58.0 K    Non-trainable params\n",
      "73.0 K    Total params\n",
      "0.292     Total estimated model params size (MB)\n"
     ]
    },
    {
     "name": "stdout",
     "output_type": "stream",
     "text": [
      "Epoch 99: 100%|██████████| 79/79 [00:02<00:00, 30.21it/s, v_num=iuz0]"
     ]
    },
    {
     "name": "stderr",
     "output_type": "stream",
     "text": [
      "`Trainer.fit` stopped: `max_epochs=100` reached.\n"
     ]
    },
    {
     "name": "stdout",
     "output_type": "stream",
     "text": [
      "Epoch 99: 100%|██████████| 79/79 [00:02<00:00, 30.07it/s, v_num=iuz0]\n"
     ]
    },
    {
     "name": "stderr",
     "output_type": "stream",
     "text": [
      "/home/ganddalf/anaconda3/envs/dl/lib/python3.12/site-packages/lightning/pytorch/trainer/connectors/checkpoint_connector.py:145: `.test(ckpt_path=None)` was called without a model. The best model of the previous `fit` call will be used. You can pass `.test(ckpt_path='best')` to use the best model or `.test(ckpt_path='last')` to use the last model. If you pass a value, this warning will be silenced.\n",
      "Restoring states from the checkpoint path at ./lightning_logs/6s6aiuz0/checkpoints/epoch=99-step=7900.ckpt\n",
      "LOCAL_RANK: 0 - CUDA_VISIBLE_DEVICES: [0]\n",
      "Loaded model weights from the checkpoint at ./lightning_logs/6s6aiuz0/checkpoints/epoch=99-step=7900.ckpt\n"
     ]
    },
    {
     "name": "stdout",
     "output_type": "stream",
     "text": [
      "Testing DataLoader 0: 100%|██████████| 79/79 [00:04<00:00, 18.04it/s]  \n",
      "────────────────────────────────────────────────────────────────────────────────────────────────────────────────────────\n",
      "       Test metric             DataLoader 0\n",
      "────────────────────────────────────────────────────────────────────────────────────────────────────────────────────────\n",
      "        AUC_FGSM            0.2470710575580597\n",
      "        AUC_Noise           0.48882564902305603\n",
      "        test_acc            0.5827999711036682\n",
      "────────────────────────────────────────────────────────────────────────────────────────────────────────────────────────\n"
     ]
    },
    {
     "data": {
      "text/html": [
       "<style>\n",
       "    table.wandb td:nth-child(1) { padding: 0 10px; text-align: left ; width: auto;} td:nth-child(2) {text-align: left ; width: 100%}\n",
       "    .wandb-row { display: flex; flex-direction: row; flex-wrap: wrap; justify-content: flex-start; width: 100% }\n",
       "    .wandb-col { display: flex; flex-direction: column; flex-basis: 100%; flex: 1; padding: 10px; }\n",
       "    </style>\n",
       "<div class=\"wandb-row\"><div class=\"wandb-col\"><h3>Run history:</h3><br/><table class=\"wandb\"><tr><td>AUC_FGSM</td><td>▁</td></tr><tr><td>AUC_Noise</td><td>▁</td></tr><tr><td>epoch</td><td>▁▁▁▁▂▂▂▂▂▃▃▃▃▃▃▄▄▄▄▄▅▅▅▅▅▅▆▆▆▆▆▇▇▇▇▇▇███</td></tr><tr><td>lr</td><td>▁</td></tr><tr><td>test_acc</td><td>▁</td></tr><tr><td>train_acc</td><td>▁▄▄▆▅█▅▇▇▅▆▇█▇▇█▇▇▇▇▆▇▇▇█▇▅▇▇▇█▇▇▇▇▅▇██▇</td></tr><tr><td>train_loss</td><td>█▅▄▃▄▃▃▃▃▂▂▂▂▂▂▂▂▂▁▂▂▂▂▂▁▁▂▂▁▂▁▁▁▁▁▂▁▁▁▁</td></tr><tr><td>trainer/global_step</td><td>▁▁▁▂▂▂▂▂▂▃▃▃▃▃▄▄▄▄▄▄▅▅▅▅▅▅▆▆▆▆▆▇▇▇▇▇▇███</td></tr></table><br/></div><div class=\"wandb-col\"><h3>Run summary:</h3><br/><table class=\"wandb\"><tr><td>AUC_FGSM</td><td>0.24707</td></tr><tr><td>AUC_Noise</td><td>0.48883</td></tr><tr><td>distillation_type</td><td>all_to_one</td></tr><tr><td>epoch</td><td>100</td></tr><tr><td>lr</td><td>0.1</td></tr><tr><td>model_name</td><td>very_tiny</td></tr><tr><td>optimizer</td><td>SGD</td></tr><tr><td>test_acc</td><td>0.5828</td></tr><tr><td>train_acc</td><td>0.63281</td></tr><tr><td>train_loss</td><td>21.52335</td></tr><tr><td>trainer/global_step</td><td>7900</td></tr></table><br/></div></div>"
      ],
      "text/plain": [
       "<IPython.core.display.HTML object>"
      ]
     },
     "metadata": {},
     "output_type": "display_data"
    },
    {
     "data": {
      "text/html": [
       " View run <strong style=\"color:#cdcd00\">dauntless-haze-278</strong> at: <a href='https://wandb.ai/potapuch2001/Oleinik-BS-Thesis-code/runs/6s6aiuz0' target=\"_blank\">https://wandb.ai/potapuch2001/Oleinik-BS-Thesis-code/runs/6s6aiuz0</a><br/> View project at: <a href='https://wandb.ai/potapuch2001/Oleinik-BS-Thesis-code' target=\"_blank\">https://wandb.ai/potapuch2001/Oleinik-BS-Thesis-code</a><br/>Synced 6 W&B file(s), 3 media file(s), 2 artifact file(s) and 0 other file(s)"
      ],
      "text/plain": [
       "<IPython.core.display.HTML object>"
      ]
     },
     "metadata": {},
     "output_type": "display_data"
    },
    {
     "data": {
      "text/html": [
       "Find logs at: <code>./wandb/run-20240623_022027-6s6aiuz0/logs</code>"
      ],
      "text/plain": [
       "<IPython.core.display.HTML object>"
      ]
     },
     "metadata": {},
     "output_type": "display_data"
    },
    {
     "data": {
      "text/html": [
       "wandb version 0.17.2 is available!  To upgrade, please run:\n",
       " $ pip install wandb --upgrade"
      ],
      "text/plain": [
       "<IPython.core.display.HTML object>"
      ]
     },
     "metadata": {},
     "output_type": "display_data"
    },
    {
     "data": {
      "text/html": [
       "Tracking run with wandb version 0.16.6"
      ],
      "text/plain": [
       "<IPython.core.display.HTML object>"
      ]
     },
     "metadata": {},
     "output_type": "display_data"
    },
    {
     "data": {
      "text/html": [
       "Run data is saved locally in <code>/home/ganddalf/MIPT/Kafedra/Oleinik-BS-Thesis/code/wandb/run-20240623_022519-4kwwupyr</code>"
      ],
      "text/plain": [
       "<IPython.core.display.HTML object>"
      ]
     },
     "metadata": {},
     "output_type": "display_data"
    },
    {
     "data": {
      "text/html": [
       "Syncing run <strong><a href='https://wandb.ai/potapuch2001/Oleinik-BS-Thesis-code/runs/4kwwupyr' target=\"_blank\">spring-voice-279</a></strong> to <a href='https://wandb.ai/potapuch2001/Oleinik-BS-Thesis-code' target=\"_blank\">Weights & Biases</a> (<a href='https://wandb.me/run' target=\"_blank\">docs</a>)<br/>"
      ],
      "text/plain": [
       "<IPython.core.display.HTML object>"
      ]
     },
     "metadata": {},
     "output_type": "display_data"
    },
    {
     "data": {
      "text/html": [
       " View project at <a href='https://wandb.ai/potapuch2001/Oleinik-BS-Thesis-code' target=\"_blank\">https://wandb.ai/potapuch2001/Oleinik-BS-Thesis-code</a>"
      ],
      "text/plain": [
       "<IPython.core.display.HTML object>"
      ]
     },
     "metadata": {},
     "output_type": "display_data"
    },
    {
     "data": {
      "text/html": [
       " View run at <a href='https://wandb.ai/potapuch2001/Oleinik-BS-Thesis-code/runs/4kwwupyr' target=\"_blank\">https://wandb.ai/potapuch2001/Oleinik-BS-Thesis-code/runs/4kwwupyr</a>"
      ],
      "text/plain": [
       "<IPython.core.display.HTML object>"
      ]
     },
     "metadata": {},
     "output_type": "display_data"
    },
    {
     "name": "stderr",
     "output_type": "stream",
     "text": [
      "GPU available: True (cuda), used: True\n",
      "TPU available: False, using: 0 TPU cores\n",
      "IPU available: False, using: 0 IPUs\n",
      "HPU available: False, using: 0 HPUs\n",
      "/home/ganddalf/anaconda3/envs/dl/lib/python3.12/site-packages/lightning/pytorch/loggers/wandb.py:391: There is a wandb run already in progress and newly created instances of `WandbLogger` will reuse this run. If this is not desired, call `wandb.finish()` before instantiating `WandbLogger`.\n",
      "LOCAL_RANK: 0 - CUDA_VISIBLE_DEVICES: [0]\n",
      "\n",
      "  | Name    | Type             | Params\n",
      "---------------------------------------------\n",
      "0 | student | Cifar_Very_Tiny  | 15.1 K\n",
      "1 | teacher | Cifar_Tiny       | 58.0 K\n",
      "2 | loss    | CrossEntropyLoss | 0     \n",
      "---------------------------------------------\n",
      "15.1 K    Trainable params\n",
      "58.0 K    Non-trainable params\n",
      "73.0 K    Total params\n",
      "0.292     Total estimated model params size (MB)\n"
     ]
    },
    {
     "name": "stdout",
     "output_type": "stream",
     "text": [
      "Epoch 99: 100%|██████████| 79/79 [00:02<00:00, 27.51it/s, v_num=upyr]"
     ]
    },
    {
     "name": "stderr",
     "output_type": "stream",
     "text": [
      "`Trainer.fit` stopped: `max_epochs=100` reached.\n"
     ]
    },
    {
     "name": "stdout",
     "output_type": "stream",
     "text": [
      "Epoch 99: 100%|██████████| 79/79 [00:02<00:00, 27.40it/s, v_num=upyr]\n"
     ]
    },
    {
     "name": "stderr",
     "output_type": "stream",
     "text": [
      "/home/ganddalf/anaconda3/envs/dl/lib/python3.12/site-packages/lightning/pytorch/trainer/connectors/checkpoint_connector.py:145: `.test(ckpt_path=None)` was called without a model. The best model of the previous `fit` call will be used. You can pass `.test(ckpt_path='best')` to use the best model or `.test(ckpt_path='last')` to use the last model. If you pass a value, this warning will be silenced.\n",
      "Restoring states from the checkpoint path at ./lightning_logs/4kwwupyr/checkpoints/epoch=99-step=7900.ckpt\n",
      "LOCAL_RANK: 0 - CUDA_VISIBLE_DEVICES: [0]\n",
      "Loaded model weights from the checkpoint at ./lightning_logs/4kwwupyr/checkpoints/epoch=99-step=7900.ckpt\n"
     ]
    },
    {
     "name": "stdout",
     "output_type": "stream",
     "text": [
      "Testing DataLoader 0: 100%|██████████| 79/79 [00:04<00:00, 17.90it/s] \n",
      "────────────────────────────────────────────────────────────────────────────────────────────────────────────────────────\n",
      "       Test metric             DataLoader 0\n",
      "────────────────────────────────────────────────────────────────────────────────────────────────────────────────────────\n",
      "        AUC_FGSM            0.2396526336669922\n",
      "        AUC_Noise           0.4638064205646515\n",
      "        test_acc            0.5764999985694885\n",
      "────────────────────────────────────────────────────────────────────────────────────────────────────────────────────────\n"
     ]
    },
    {
     "data": {
      "text/html": [
       "<style>\n",
       "    table.wandb td:nth-child(1) { padding: 0 10px; text-align: left ; width: auto;} td:nth-child(2) {text-align: left ; width: 100%}\n",
       "    .wandb-row { display: flex; flex-direction: row; flex-wrap: wrap; justify-content: flex-start; width: 100% }\n",
       "    .wandb-col { display: flex; flex-direction: column; flex-basis: 100%; flex: 1; padding: 10px; }\n",
       "    </style>\n",
       "<div class=\"wandb-row\"><div class=\"wandb-col\"><h3>Run history:</h3><br/><table class=\"wandb\"><tr><td>AUC_FGSM</td><td>▁</td></tr><tr><td>AUC_Noise</td><td>▁</td></tr><tr><td>epoch</td><td>▁▁▁▁▂▂▂▂▂▃▃▃▃▃▃▄▄▄▄▄▅▅▅▅▅▅▆▆▆▆▆▇▇▇▇▇▇███</td></tr><tr><td>lr</td><td>▁</td></tr><tr><td>test_acc</td><td>▁</td></tr><tr><td>train_acc</td><td>▁▄▄▅▄▅▅▇▄▆▅▆▇▆▆▇▆▆▇▇▅▆▇▆▇▇▅▇█▆▇▇▆█▆▆▆▇█▇</td></tr><tr><td>train_loss</td><td>█▅▅▄▄▃▃▃▃▂▂▂▂▂▂▂▂▂▂▂▂▁▂▂▂▂▂▂▂▁▂▂▂▁▁▂▁▁▁▁</td></tr><tr><td>trainer/global_step</td><td>▁▁▁▂▂▂▂▂▂▃▃▃▃▃▄▄▄▄▄▄▅▅▅▅▅▅▆▆▆▆▆▇▇▇▇▇▇███</td></tr></table><br/></div><div class=\"wandb-col\"><h3>Run summary:</h3><br/><table class=\"wandb\"><tr><td>AUC_FGSM</td><td>0.23965</td></tr><tr><td>AUC_Noise</td><td>0.46381</td></tr><tr><td>distillation_type</td><td>all_to_one</td></tr><tr><td>epoch</td><td>100</td></tr><tr><td>lr</td><td>0.1</td></tr><tr><td>model_name</td><td>very_tiny</td></tr><tr><td>optimizer</td><td>SGD</td></tr><tr><td>test_acc</td><td>0.5765</td></tr><tr><td>train_acc</td><td>0.63281</td></tr><tr><td>train_loss</td><td>21.65432</td></tr><tr><td>trainer/global_step</td><td>7900</td></tr></table><br/></div></div>"
      ],
      "text/plain": [
       "<IPython.core.display.HTML object>"
      ]
     },
     "metadata": {},
     "output_type": "display_data"
    },
    {
     "data": {
      "text/html": [
       " View run <strong style=\"color:#cdcd00\">spring-voice-279</strong> at: <a href='https://wandb.ai/potapuch2001/Oleinik-BS-Thesis-code/runs/4kwwupyr' target=\"_blank\">https://wandb.ai/potapuch2001/Oleinik-BS-Thesis-code/runs/4kwwupyr</a><br/> View project at: <a href='https://wandb.ai/potapuch2001/Oleinik-BS-Thesis-code' target=\"_blank\">https://wandb.ai/potapuch2001/Oleinik-BS-Thesis-code</a><br/>Synced 6 W&B file(s), 3 media file(s), 2 artifact file(s) and 0 other file(s)"
      ],
      "text/plain": [
       "<IPython.core.display.HTML object>"
      ]
     },
     "metadata": {},
     "output_type": "display_data"
    },
    {
     "data": {
      "text/html": [
       "Find logs at: <code>./wandb/run-20240623_022519-4kwwupyr/logs</code>"
      ],
      "text/plain": [
       "<IPython.core.display.HTML object>"
      ]
     },
     "metadata": {},
     "output_type": "display_data"
    },
    {
     "data": {
      "text/html": [
       "wandb version 0.17.2 is available!  To upgrade, please run:\n",
       " $ pip install wandb --upgrade"
      ],
      "text/plain": [
       "<IPython.core.display.HTML object>"
      ]
     },
     "metadata": {},
     "output_type": "display_data"
    },
    {
     "data": {
      "text/html": [
       "Tracking run with wandb version 0.16.6"
      ],
      "text/plain": [
       "<IPython.core.display.HTML object>"
      ]
     },
     "metadata": {},
     "output_type": "display_data"
    },
    {
     "data": {
      "text/html": [
       "Run data is saved locally in <code>/home/ganddalf/MIPT/Kafedra/Oleinik-BS-Thesis/code/wandb/run-20240623_023012-z684qw8k</code>"
      ],
      "text/plain": [
       "<IPython.core.display.HTML object>"
      ]
     },
     "metadata": {},
     "output_type": "display_data"
    },
    {
     "data": {
      "text/html": [
       "Syncing run <strong><a href='https://wandb.ai/potapuch2001/Oleinik-BS-Thesis-code/runs/z684qw8k' target=\"_blank\">worldly-glitter-280</a></strong> to <a href='https://wandb.ai/potapuch2001/Oleinik-BS-Thesis-code' target=\"_blank\">Weights & Biases</a> (<a href='https://wandb.me/run' target=\"_blank\">docs</a>)<br/>"
      ],
      "text/plain": [
       "<IPython.core.display.HTML object>"
      ]
     },
     "metadata": {},
     "output_type": "display_data"
    },
    {
     "data": {
      "text/html": [
       " View project at <a href='https://wandb.ai/potapuch2001/Oleinik-BS-Thesis-code' target=\"_blank\">https://wandb.ai/potapuch2001/Oleinik-BS-Thesis-code</a>"
      ],
      "text/plain": [
       "<IPython.core.display.HTML object>"
      ]
     },
     "metadata": {},
     "output_type": "display_data"
    },
    {
     "data": {
      "text/html": [
       " View run at <a href='https://wandb.ai/potapuch2001/Oleinik-BS-Thesis-code/runs/z684qw8k' target=\"_blank\">https://wandb.ai/potapuch2001/Oleinik-BS-Thesis-code/runs/z684qw8k</a>"
      ],
      "text/plain": [
       "<IPython.core.display.HTML object>"
      ]
     },
     "metadata": {},
     "output_type": "display_data"
    },
    {
     "name": "stderr",
     "output_type": "stream",
     "text": [
      "GPU available: True (cuda), used: True\n",
      "TPU available: False, using: 0 TPU cores\n",
      "IPU available: False, using: 0 IPUs\n",
      "HPU available: False, using: 0 HPUs\n",
      "/home/ganddalf/anaconda3/envs/dl/lib/python3.12/site-packages/lightning/pytorch/loggers/wandb.py:391: There is a wandb run already in progress and newly created instances of `WandbLogger` will reuse this run. If this is not desired, call `wandb.finish()` before instantiating `WandbLogger`.\n",
      "LOCAL_RANK: 0 - CUDA_VISIBLE_DEVICES: [0]\n",
      "\n",
      "  | Name    | Type             | Params\n",
      "---------------------------------------------\n",
      "0 | student | Cifar_Very_Tiny  | 15.1 K\n",
      "1 | teacher | Cifar_Tiny       | 58.0 K\n",
      "2 | loss    | CrossEntropyLoss | 0     \n",
      "---------------------------------------------\n",
      "15.1 K    Trainable params\n",
      "58.0 K    Non-trainable params\n",
      "73.0 K    Total params\n",
      "0.292     Total estimated model params size (MB)\n"
     ]
    },
    {
     "name": "stdout",
     "output_type": "stream",
     "text": [
      "Epoch 99: 100%|██████████| 79/79 [00:02<00:00, 27.97it/s, v_num=qw8k]"
     ]
    },
    {
     "name": "stderr",
     "output_type": "stream",
     "text": [
      "`Trainer.fit` stopped: `max_epochs=100` reached.\n"
     ]
    },
    {
     "name": "stdout",
     "output_type": "stream",
     "text": [
      "Epoch 99: 100%|██████████| 79/79 [00:02<00:00, 27.88it/s, v_num=qw8k]\n"
     ]
    },
    {
     "name": "stderr",
     "output_type": "stream",
     "text": [
      "/home/ganddalf/anaconda3/envs/dl/lib/python3.12/site-packages/lightning/pytorch/trainer/connectors/checkpoint_connector.py:145: `.test(ckpt_path=None)` was called without a model. The best model of the previous `fit` call will be used. You can pass `.test(ckpt_path='best')` to use the best model or `.test(ckpt_path='last')` to use the last model. If you pass a value, this warning will be silenced.\n",
      "Restoring states from the checkpoint path at ./lightning_logs/z684qw8k/checkpoints/epoch=99-step=7900.ckpt\n",
      "LOCAL_RANK: 0 - CUDA_VISIBLE_DEVICES: [0]\n",
      "Loaded model weights from the checkpoint at ./lightning_logs/z684qw8k/checkpoints/epoch=99-step=7900.ckpt\n"
     ]
    },
    {
     "name": "stdout",
     "output_type": "stream",
     "text": [
      "Testing DataLoader 0: 100%|██████████| 79/79 [00:04<00:00, 19.55it/s] \n",
      "────────────────────────────────────────────────────────────────────────────────────────────────────────────────────────\n",
      "       Test metric             DataLoader 0\n",
      "────────────────────────────────────────────────────────────────────────────────────────────────────────────────────────\n",
      "        AUC_FGSM            0.2485184222459793\n",
      "        AUC_Noise           0.48190897703170776\n",
      "        test_acc            0.5929999947547913\n",
      "────────────────────────────────────────────────────────────────────────────────────────────────────────────────────────\n"
     ]
    },
    {
     "data": {
      "text/html": [
       "<style>\n",
       "    table.wandb td:nth-child(1) { padding: 0 10px; text-align: left ; width: auto;} td:nth-child(2) {text-align: left ; width: 100%}\n",
       "    .wandb-row { display: flex; flex-direction: row; flex-wrap: wrap; justify-content: flex-start; width: 100% }\n",
       "    .wandb-col { display: flex; flex-direction: column; flex-basis: 100%; flex: 1; padding: 10px; }\n",
       "    </style>\n",
       "<div class=\"wandb-row\"><div class=\"wandb-col\"><h3>Run history:</h3><br/><table class=\"wandb\"><tr><td>AUC_FGSM</td><td>▁</td></tr><tr><td>AUC_Noise</td><td>▁</td></tr><tr><td>epoch</td><td>▁▁▁▁▂▂▂▂▂▃▃▃▃▃▃▄▄▄▄▄▅▅▅▅▅▅▆▆▆▆▆▇▇▇▇▇▇███</td></tr><tr><td>lr</td><td>▁</td></tr><tr><td>test_acc</td><td>▁</td></tr><tr><td>train_acc</td><td>▁▂▂▅▄▆▅▆▅▅▅▅▆▆▆▇▆▆▇▇▆▇▅▆█▇▃▆▅▆▇▆▆▇▅▄▆▇█▇</td></tr><tr><td>train_loss</td><td>█▅▄▃▄▃▃▃▃▂▂▂▂▂▂▂▂▂▁▂▂▁▂▂▂▂▂▂▂▁▁▂▁▁▁▁▁▁▁▁</td></tr><tr><td>trainer/global_step</td><td>▁▁▁▂▂▂▂▂▂▃▃▃▃▃▄▄▄▄▄▄▅▅▅▅▅▅▆▆▆▆▆▇▇▇▇▇▇███</td></tr></table><br/></div><div class=\"wandb-col\"><h3>Run summary:</h3><br/><table class=\"wandb\"><tr><td>AUC_FGSM</td><td>0.24852</td></tr><tr><td>AUC_Noise</td><td>0.48191</td></tr><tr><td>distillation_type</td><td>all_to_one</td></tr><tr><td>epoch</td><td>100</td></tr><tr><td>lr</td><td>0.1</td></tr><tr><td>model_name</td><td>very_tiny</td></tr><tr><td>optimizer</td><td>SGD</td></tr><tr><td>test_acc</td><td>0.593</td></tr><tr><td>train_acc</td><td>0.6875</td></tr><tr><td>train_loss</td><td>21.50499</td></tr><tr><td>trainer/global_step</td><td>7900</td></tr></table><br/></div></div>"
      ],
      "text/plain": [
       "<IPython.core.display.HTML object>"
      ]
     },
     "metadata": {},
     "output_type": "display_data"
    },
    {
     "data": {
      "text/html": [
       " View run <strong style=\"color:#cdcd00\">worldly-glitter-280</strong> at: <a href='https://wandb.ai/potapuch2001/Oleinik-BS-Thesis-code/runs/z684qw8k' target=\"_blank\">https://wandb.ai/potapuch2001/Oleinik-BS-Thesis-code/runs/z684qw8k</a><br/> View project at: <a href='https://wandb.ai/potapuch2001/Oleinik-BS-Thesis-code' target=\"_blank\">https://wandb.ai/potapuch2001/Oleinik-BS-Thesis-code</a><br/>Synced 6 W&B file(s), 3 media file(s), 2 artifact file(s) and 0 other file(s)"
      ],
      "text/plain": [
       "<IPython.core.display.HTML object>"
      ]
     },
     "metadata": {},
     "output_type": "display_data"
    },
    {
     "data": {
      "text/html": [
       "Find logs at: <code>./wandb/run-20240623_023012-z684qw8k/logs</code>"
      ],
      "text/plain": [
       "<IPython.core.display.HTML object>"
      ]
     },
     "metadata": {},
     "output_type": "display_data"
    },
    {
     "data": {
      "text/html": [
       "wandb version 0.17.2 is available!  To upgrade, please run:\n",
       " $ pip install wandb --upgrade"
      ],
      "text/plain": [
       "<IPython.core.display.HTML object>"
      ]
     },
     "metadata": {},
     "output_type": "display_data"
    },
    {
     "data": {
      "text/html": [
       "Tracking run with wandb version 0.16.6"
      ],
      "text/plain": [
       "<IPython.core.display.HTML object>"
      ]
     },
     "metadata": {},
     "output_type": "display_data"
    },
    {
     "data": {
      "text/html": [
       "Run data is saved locally in <code>/home/ganddalf/MIPT/Kafedra/Oleinik-BS-Thesis/code/wandb/run-20240623_023501-wj56ubh9</code>"
      ],
      "text/plain": [
       "<IPython.core.display.HTML object>"
      ]
     },
     "metadata": {},
     "output_type": "display_data"
    },
    {
     "data": {
      "text/html": [
       "Syncing run <strong><a href='https://wandb.ai/potapuch2001/Oleinik-BS-Thesis-code/runs/wj56ubh9' target=\"_blank\">vital-bird-281</a></strong> to <a href='https://wandb.ai/potapuch2001/Oleinik-BS-Thesis-code' target=\"_blank\">Weights & Biases</a> (<a href='https://wandb.me/run' target=\"_blank\">docs</a>)<br/>"
      ],
      "text/plain": [
       "<IPython.core.display.HTML object>"
      ]
     },
     "metadata": {},
     "output_type": "display_data"
    },
    {
     "data": {
      "text/html": [
       " View project at <a href='https://wandb.ai/potapuch2001/Oleinik-BS-Thesis-code' target=\"_blank\">https://wandb.ai/potapuch2001/Oleinik-BS-Thesis-code</a>"
      ],
      "text/plain": [
       "<IPython.core.display.HTML object>"
      ]
     },
     "metadata": {},
     "output_type": "display_data"
    },
    {
     "data": {
      "text/html": [
       " View run at <a href='https://wandb.ai/potapuch2001/Oleinik-BS-Thesis-code/runs/wj56ubh9' target=\"_blank\">https://wandb.ai/potapuch2001/Oleinik-BS-Thesis-code/runs/wj56ubh9</a>"
      ],
      "text/plain": [
       "<IPython.core.display.HTML object>"
      ]
     },
     "metadata": {},
     "output_type": "display_data"
    },
    {
     "name": "stderr",
     "output_type": "stream",
     "text": [
      "GPU available: True (cuda), used: True\n",
      "TPU available: False, using: 0 TPU cores\n",
      "IPU available: False, using: 0 IPUs\n",
      "HPU available: False, using: 0 HPUs\n",
      "/home/ganddalf/anaconda3/envs/dl/lib/python3.12/site-packages/lightning/pytorch/loggers/wandb.py:391: There is a wandb run already in progress and newly created instances of `WandbLogger` will reuse this run. If this is not desired, call `wandb.finish()` before instantiating `WandbLogger`.\n",
      "LOCAL_RANK: 0 - CUDA_VISIBLE_DEVICES: [0]\n",
      "\n",
      "  | Name    | Type             | Params\n",
      "---------------------------------------------\n",
      "0 | student | Cifar_Very_Tiny  | 15.1 K\n",
      "1 | teacher | Cifar_Tiny       | 58.0 K\n",
      "2 | loss    | CrossEntropyLoss | 0     \n",
      "---------------------------------------------\n",
      "15.1 K    Trainable params\n",
      "58.0 K    Non-trainable params\n",
      "73.0 K    Total params\n",
      "0.292     Total estimated model params size (MB)\n"
     ]
    },
    {
     "name": "stdout",
     "output_type": "stream",
     "text": [
      "Epoch 99: 100%|██████████| 79/79 [00:02<00:00, 28.50it/s, v_num=ubh9]"
     ]
    },
    {
     "name": "stderr",
     "output_type": "stream",
     "text": [
      "`Trainer.fit` stopped: `max_epochs=100` reached.\n"
     ]
    },
    {
     "name": "stdout",
     "output_type": "stream",
     "text": [
      "Epoch 99: 100%|██████████| 79/79 [00:02<00:00, 28.38it/s, v_num=ubh9]\n"
     ]
    },
    {
     "name": "stderr",
     "output_type": "stream",
     "text": [
      "/home/ganddalf/anaconda3/envs/dl/lib/python3.12/site-packages/lightning/pytorch/trainer/connectors/checkpoint_connector.py:145: `.test(ckpt_path=None)` was called without a model. The best model of the previous `fit` call will be used. You can pass `.test(ckpt_path='best')` to use the best model or `.test(ckpt_path='last')` to use the last model. If you pass a value, this warning will be silenced.\n",
      "Restoring states from the checkpoint path at ./lightning_logs/wj56ubh9/checkpoints/epoch=99-step=7900.ckpt\n",
      "LOCAL_RANK: 0 - CUDA_VISIBLE_DEVICES: [0]\n",
      "Loaded model weights from the checkpoint at ./lightning_logs/wj56ubh9/checkpoints/epoch=99-step=7900.ckpt\n"
     ]
    },
    {
     "name": "stdout",
     "output_type": "stream",
     "text": [
      "Testing DataLoader 0: 100%|██████████| 79/79 [00:04<00:00, 16.80it/s] \n",
      "────────────────────────────────────────────────────────────────────────────────────────────────────────────────────────\n",
      "       Test metric             DataLoader 0\n",
      "────────────────────────────────────────────────────────────────────────────────────────────────────────────────────────\n",
      "        AUC_FGSM            0.24743683636188507\n",
      "        AUC_Noise           0.47609615325927734\n",
      "        test_acc            0.5745000243186951\n",
      "────────────────────────────────────────────────────────────────────────────────────────────────────────────────────────\n"
     ]
    },
    {
     "data": {
      "text/html": [
       "<style>\n",
       "    table.wandb td:nth-child(1) { padding: 0 10px; text-align: left ; width: auto;} td:nth-child(2) {text-align: left ; width: 100%}\n",
       "    .wandb-row { display: flex; flex-direction: row; flex-wrap: wrap; justify-content: flex-start; width: 100% }\n",
       "    .wandb-col { display: flex; flex-direction: column; flex-basis: 100%; flex: 1; padding: 10px; }\n",
       "    </style>\n",
       "<div class=\"wandb-row\"><div class=\"wandb-col\"><h3>Run history:</h3><br/><table class=\"wandb\"><tr><td>AUC_FGSM</td><td>▁</td></tr><tr><td>AUC_Noise</td><td>▁</td></tr><tr><td>epoch</td><td>▁▁▁▁▂▂▂▂▂▃▃▃▃▃▃▄▄▄▄▄▅▅▅▅▅▅▆▆▆▆▆▇▇▇▇▇▇███</td></tr><tr><td>lr</td><td>▁</td></tr><tr><td>test_acc</td><td>▁</td></tr><tr><td>train_acc</td><td>▁▂▄▆▅▆▅▆▅▅▅▇▆▆▆█▆▆▆▆▅▆▇▆▇▇▅▆▇▆█▆▇█▆▄▇▅▇▆</td></tr><tr><td>train_loss</td><td>█▅▄▄▄▃▃▃▃▂▂▂▂▂▂▂▂▂▂▂▂▂▂▂▂▂▂▂▂▂▁▂▁▁▁▂▂▁▁▁</td></tr><tr><td>trainer/global_step</td><td>▁▁▁▂▂▂▂▂▂▃▃▃▃▃▄▄▄▄▄▄▅▅▅▅▅▅▆▆▆▆▆▇▇▇▇▇▇███</td></tr></table><br/></div><div class=\"wandb-col\"><h3>Run summary:</h3><br/><table class=\"wandb\"><tr><td>AUC_FGSM</td><td>0.24744</td></tr><tr><td>AUC_Noise</td><td>0.4761</td></tr><tr><td>distillation_type</td><td>all_to_one</td></tr><tr><td>epoch</td><td>100</td></tr><tr><td>lr</td><td>0.1</td></tr><tr><td>model_name</td><td>very_tiny</td></tr><tr><td>optimizer</td><td>SGD</td></tr><tr><td>test_acc</td><td>0.5745</td></tr><tr><td>train_acc</td><td>0.60156</td></tr><tr><td>train_loss</td><td>21.39155</td></tr><tr><td>trainer/global_step</td><td>7900</td></tr></table><br/></div></div>"
      ],
      "text/plain": [
       "<IPython.core.display.HTML object>"
      ]
     },
     "metadata": {},
     "output_type": "display_data"
    },
    {
     "data": {
      "text/html": [
       " View run <strong style=\"color:#cdcd00\">vital-bird-281</strong> at: <a href='https://wandb.ai/potapuch2001/Oleinik-BS-Thesis-code/runs/wj56ubh9' target=\"_blank\">https://wandb.ai/potapuch2001/Oleinik-BS-Thesis-code/runs/wj56ubh9</a><br/> View project at: <a href='https://wandb.ai/potapuch2001/Oleinik-BS-Thesis-code' target=\"_blank\">https://wandb.ai/potapuch2001/Oleinik-BS-Thesis-code</a><br/>Synced 6 W&B file(s), 3 media file(s), 2 artifact file(s) and 0 other file(s)"
      ],
      "text/plain": [
       "<IPython.core.display.HTML object>"
      ]
     },
     "metadata": {},
     "output_type": "display_data"
    },
    {
     "data": {
      "text/html": [
       "Find logs at: <code>./wandb/run-20240623_023501-wj56ubh9/logs</code>"
      ],
      "text/plain": [
       "<IPython.core.display.HTML object>"
      ]
     },
     "metadata": {},
     "output_type": "display_data"
    },
    {
     "data": {
      "text/html": [
       "wandb version 0.17.2 is available!  To upgrade, please run:\n",
       " $ pip install wandb --upgrade"
      ],
      "text/plain": [
       "<IPython.core.display.HTML object>"
      ]
     },
     "metadata": {},
     "output_type": "display_data"
    },
    {
     "data": {
      "text/html": [
       "Tracking run with wandb version 0.16.6"
      ],
      "text/plain": [
       "<IPython.core.display.HTML object>"
      ]
     },
     "metadata": {},
     "output_type": "display_data"
    },
    {
     "data": {
      "text/html": [
       "Run data is saved locally in <code>/home/ganddalf/MIPT/Kafedra/Oleinik-BS-Thesis/code/wandb/run-20240623_023947-yaz0wsln</code>"
      ],
      "text/plain": [
       "<IPython.core.display.HTML object>"
      ]
     },
     "metadata": {},
     "output_type": "display_data"
    },
    {
     "data": {
      "text/html": [
       "Syncing run <strong><a href='https://wandb.ai/potapuch2001/Oleinik-BS-Thesis-code/runs/yaz0wsln' target=\"_blank\">vibrant-tree-282</a></strong> to <a href='https://wandb.ai/potapuch2001/Oleinik-BS-Thesis-code' target=\"_blank\">Weights & Biases</a> (<a href='https://wandb.me/run' target=\"_blank\">docs</a>)<br/>"
      ],
      "text/plain": [
       "<IPython.core.display.HTML object>"
      ]
     },
     "metadata": {},
     "output_type": "display_data"
    },
    {
     "data": {
      "text/html": [
       " View project at <a href='https://wandb.ai/potapuch2001/Oleinik-BS-Thesis-code' target=\"_blank\">https://wandb.ai/potapuch2001/Oleinik-BS-Thesis-code</a>"
      ],
      "text/plain": [
       "<IPython.core.display.HTML object>"
      ]
     },
     "metadata": {},
     "output_type": "display_data"
    },
    {
     "data": {
      "text/html": [
       " View run at <a href='https://wandb.ai/potapuch2001/Oleinik-BS-Thesis-code/runs/yaz0wsln' target=\"_blank\">https://wandb.ai/potapuch2001/Oleinik-BS-Thesis-code/runs/yaz0wsln</a>"
      ],
      "text/plain": [
       "<IPython.core.display.HTML object>"
      ]
     },
     "metadata": {},
     "output_type": "display_data"
    },
    {
     "name": "stderr",
     "output_type": "stream",
     "text": [
      "GPU available: True (cuda), used: True\n",
      "TPU available: False, using: 0 TPU cores\n",
      "IPU available: False, using: 0 IPUs\n",
      "HPU available: False, using: 0 HPUs\n",
      "/home/ganddalf/anaconda3/envs/dl/lib/python3.12/site-packages/lightning/pytorch/loggers/wandb.py:391: There is a wandb run already in progress and newly created instances of `WandbLogger` will reuse this run. If this is not desired, call `wandb.finish()` before instantiating `WandbLogger`.\n",
      "LOCAL_RANK: 0 - CUDA_VISIBLE_DEVICES: [0]\n",
      "\n",
      "  | Name    | Type             | Params\n",
      "---------------------------------------------\n",
      "0 | student | Cifar_Very_Tiny  | 15.1 K\n",
      "1 | teacher | Cifar_Tiny       | 58.0 K\n",
      "2 | loss    | CrossEntropyLoss | 0     \n",
      "---------------------------------------------\n",
      "15.1 K    Trainable params\n",
      "58.0 K    Non-trainable params\n",
      "73.0 K    Total params\n",
      "0.292     Total estimated model params size (MB)\n"
     ]
    },
    {
     "name": "stdout",
     "output_type": "stream",
     "text": [
      "Epoch 99: 100%|██████████| 79/79 [00:02<00:00, 26.67it/s, v_num=wsln]"
     ]
    },
    {
     "name": "stderr",
     "output_type": "stream",
     "text": [
      "`Trainer.fit` stopped: `max_epochs=100` reached.\n"
     ]
    },
    {
     "name": "stdout",
     "output_type": "stream",
     "text": [
      "Epoch 99: 100%|██████████| 79/79 [00:02<00:00, 26.56it/s, v_num=wsln]\n"
     ]
    },
    {
     "name": "stderr",
     "output_type": "stream",
     "text": [
      "/home/ganddalf/anaconda3/envs/dl/lib/python3.12/site-packages/lightning/pytorch/trainer/connectors/checkpoint_connector.py:145: `.test(ckpt_path=None)` was called without a model. The best model of the previous `fit` call will be used. You can pass `.test(ckpt_path='best')` to use the best model or `.test(ckpt_path='last')` to use the last model. If you pass a value, this warning will be silenced.\n",
      "Restoring states from the checkpoint path at ./lightning_logs/yaz0wsln/checkpoints/epoch=99-step=7900.ckpt\n",
      "LOCAL_RANK: 0 - CUDA_VISIBLE_DEVICES: [0]\n",
      "Loaded model weights from the checkpoint at ./lightning_logs/yaz0wsln/checkpoints/epoch=99-step=7900.ckpt\n"
     ]
    },
    {
     "name": "stdout",
     "output_type": "stream",
     "text": [
      "Testing DataLoader 0: 100%|██████████| 79/79 [00:04<00:00, 16.03it/s] \n",
      "────────────────────────────────────────────────────────────────────────────────────────────────────────────────────────\n",
      "       Test metric             DataLoader 0\n",
      "────────────────────────────────────────────────────────────────────────────────────────────────────────────────────────\n",
      "        AUC_FGSM            0.23160000145435333\n",
      "        AUC_Noise           0.47339871525764465\n",
      "        test_acc            0.5735999941825867\n",
      "────────────────────────────────────────────────────────────────────────────────────────────────────────────────────────\n"
     ]
    },
    {
     "data": {
      "text/html": [
       "<style>\n",
       "    table.wandb td:nth-child(1) { padding: 0 10px; text-align: left ; width: auto;} td:nth-child(2) {text-align: left ; width: 100%}\n",
       "    .wandb-row { display: flex; flex-direction: row; flex-wrap: wrap; justify-content: flex-start; width: 100% }\n",
       "    .wandb-col { display: flex; flex-direction: column; flex-basis: 100%; flex: 1; padding: 10px; }\n",
       "    </style>\n",
       "<div class=\"wandb-row\"><div class=\"wandb-col\"><h3>Run history:</h3><br/><table class=\"wandb\"><tr><td>AUC_FGSM</td><td>▁</td></tr><tr><td>AUC_Noise</td><td>▁</td></tr><tr><td>epoch</td><td>▁▁▁▁▂▂▂▂▂▃▃▃▃▃▃▄▄▄▄▄▅▅▅▅▅▅▆▆▆▆▆▇▇▇▇▇▇███</td></tr><tr><td>lr</td><td>▁</td></tr><tr><td>test_acc</td><td>▁</td></tr><tr><td>train_acc</td><td>▁▂▄▆▄█▅▆▅▄▆▇▆▆▆█▅▆▇▇▅▅▆▅▇▇▅▇▆▆▇▆▆▇▅▅▇▇█▆</td></tr><tr><td>train_loss</td><td>█▅▄▄▄▃▃▃▃▂▂▂▂▂▂▂▂▂▁▂▂▂▁▂▂▂▂▂▁▁▁▂▁▁▁▁▁▁▁▁</td></tr><tr><td>trainer/global_step</td><td>▁▁▁▂▂▂▂▂▂▃▃▃▃▃▄▄▄▄▄▄▅▅▅▅▅▅▆▆▆▆▆▇▇▇▇▇▇███</td></tr></table><br/></div><div class=\"wandb-col\"><h3>Run summary:</h3><br/><table class=\"wandb\"><tr><td>AUC_FGSM</td><td>0.2316</td></tr><tr><td>AUC_Noise</td><td>0.4734</td></tr><tr><td>distillation_type</td><td>all_to_one</td></tr><tr><td>epoch</td><td>100</td></tr><tr><td>lr</td><td>0.1</td></tr><tr><td>model_name</td><td>very_tiny</td></tr><tr><td>optimizer</td><td>SGD</td></tr><tr><td>test_acc</td><td>0.5736</td></tr><tr><td>train_acc</td><td>0.63281</td></tr><tr><td>train_loss</td><td>21.37067</td></tr><tr><td>trainer/global_step</td><td>7900</td></tr></table><br/></div></div>"
      ],
      "text/plain": [
       "<IPython.core.display.HTML object>"
      ]
     },
     "metadata": {},
     "output_type": "display_data"
    },
    {
     "data": {
      "text/html": [
       " View run <strong style=\"color:#cdcd00\">vibrant-tree-282</strong> at: <a href='https://wandb.ai/potapuch2001/Oleinik-BS-Thesis-code/runs/yaz0wsln' target=\"_blank\">https://wandb.ai/potapuch2001/Oleinik-BS-Thesis-code/runs/yaz0wsln</a><br/> View project at: <a href='https://wandb.ai/potapuch2001/Oleinik-BS-Thesis-code' target=\"_blank\">https://wandb.ai/potapuch2001/Oleinik-BS-Thesis-code</a><br/>Synced 6 W&B file(s), 3 media file(s), 2 artifact file(s) and 0 other file(s)"
      ],
      "text/plain": [
       "<IPython.core.display.HTML object>"
      ]
     },
     "metadata": {},
     "output_type": "display_data"
    },
    {
     "data": {
      "text/html": [
       "Find logs at: <code>./wandb/run-20240623_023947-yaz0wsln/logs</code>"
      ],
      "text/plain": [
       "<IPython.core.display.HTML object>"
      ]
     },
     "metadata": {},
     "output_type": "display_data"
    },
    {
     "data": {
      "image/png": "[encoded data removed]",
      "text/plain": [
       "<Figure size 640x480 with 1 Axes>"
      ]
     },
     "metadata": {},
     "output_type": "display_data"
    }
   ],
   "source": [
    "for _ in range(5):\n",
    "    with wandb.init() as run:\n",
    "        wandb.log({\n",
    "            \"model_name\": \"very_tiny\",\n",
    "            \"distillation_type\": \"all_to_one\",\n",
    "        })\n",
    "        teacher = Base_Model.load_from_checkpoint(\"./lightning_logs/bov6ycbq/checkpoints/epoch=99-step=7900.ckpt\", model=Cifar_Tiny(10)).model\n",
    "        model = All_Connections_Distillation(student=Cifar_Very_Tiny(10), teacher=teacher, coeffs=coeffs_all_to_one)\n",
    "        trainer = L.Trainer(max_epochs=100, logger=WandbLogger(), inference_mode=False)\n",
    "        trainer.fit(model=model, train_dataloaders=train_loader)\n",
    "        trainer.test(dataloaders=test_loader)"
   ]
  },
  {
   "cell_type": "markdown",
   "metadata": {},
   "source": [
    "### Со случайными коэффициентами"
   ]
  },
  {
   "cell_type": "code",
   "execution_count": 10,
   "metadata": {},
   "outputs": [
    {
     "data": {
      "text/html": [
       "wandb version 0.17.2 is available!  To upgrade, please run:\n",
       " $ pip install wandb --upgrade"
      ],
      "text/plain": [
       "<IPython.core.display.HTML object>"
      ]
     },
     "metadata": {},
     "output_type": "display_data"
    },
    {
     "data": {
      "text/html": [
       "Tracking run with wandb version 0.16.6"
      ],
      "text/plain": [
       "<IPython.core.display.HTML object>"
      ]
     },
     "metadata": {},
     "output_type": "display_data"
    },
    {
     "data": {
      "text/html": [
       "Run data is saved locally in <code>/home/ganddalf/MIPT/Kafedra/Oleinik-BS-Thesis/code/wandb/run-20240623_024439-0rptynd1</code>"
      ],
      "text/plain": [
       "<IPython.core.display.HTML object>"
      ]
     },
     "metadata": {},
     "output_type": "display_data"
    },
    {
     "data": {
      "text/html": [
       "Syncing run <strong><a href='https://wandb.ai/potapuch2001/Oleinik-BS-Thesis-code/runs/0rptynd1' target=\"_blank\">upbeat-eon-283</a></strong> to <a href='https://wandb.ai/potapuch2001/Oleinik-BS-Thesis-code' target=\"_blank\">Weights & Biases</a> (<a href='https://wandb.me/run' target=\"_blank\">docs</a>)<br/>"
      ],
      "text/plain": [
       "<IPython.core.display.HTML object>"
      ]
     },
     "metadata": {},
     "output_type": "display_data"
    },
    {
     "data": {
      "text/html": [
       " View project at <a href='https://wandb.ai/potapuch2001/Oleinik-BS-Thesis-code' target=\"_blank\">https://wandb.ai/potapuch2001/Oleinik-BS-Thesis-code</a>"
      ],
      "text/plain": [
       "<IPython.core.display.HTML object>"
      ]
     },
     "metadata": {},
     "output_type": "display_data"
    },
    {
     "data": {
      "text/html": [
       " View run at <a href='https://wandb.ai/potapuch2001/Oleinik-BS-Thesis-code/runs/0rptynd1' target=\"_blank\">https://wandb.ai/potapuch2001/Oleinik-BS-Thesis-code/runs/0rptynd1</a>"
      ],
      "text/plain": [
       "<IPython.core.display.HTML object>"
      ]
     },
     "metadata": {},
     "output_type": "display_data"
    },
    {
     "name": "stderr",
     "output_type": "stream",
     "text": [
      "GPU available: True (cuda), used: True\n",
      "TPU available: False, using: 0 TPU cores\n",
      "IPU available: False, using: 0 IPUs\n",
      "HPU available: False, using: 0 HPUs\n",
      "/home/ganddalf/anaconda3/envs/dl/lib/python3.12/site-packages/lightning/pytorch/loggers/wandb.py:391: There is a wandb run already in progress and newly created instances of `WandbLogger` will reuse this run. If this is not desired, call `wandb.finish()` before instantiating `WandbLogger`.\n",
      "LOCAL_RANK: 0 - CUDA_VISIBLE_DEVICES: [0]\n",
      "\n",
      "  | Name    | Type             | Params\n",
      "---------------------------------------------\n",
      "0 | student | Cifar_Very_Tiny  | 15.1 K\n",
      "1 | teacher | Cifar_Tiny       | 58.0 K\n",
      "2 | loss    | CrossEntropyLoss | 0     \n",
      "---------------------------------------------\n",
      "15.1 K    Trainable params\n",
      "58.0 K    Non-trainable params\n",
      "73.0 K    Total params\n",
      "0.292     Total estimated model params size (MB)\n"
     ]
    },
    {
     "name": "stdout",
     "output_type": "stream",
     "text": [
      "Epoch 99: 100%|██████████| 79/79 [00:02<00:00, 35.73it/s, v_num=ynd1]"
     ]
    },
    {
     "name": "stderr",
     "output_type": "stream",
     "text": [
      "`Trainer.fit` stopped: `max_epochs=100` reached.\n"
     ]
    },
    {
     "name": "stdout",
     "output_type": "stream",
     "text": [
      "Epoch 99: 100%|██████████| 79/79 [00:02<00:00, 35.54it/s, v_num=ynd1]\n"
     ]
    },
    {
     "name": "stderr",
     "output_type": "stream",
     "text": [
      "/home/ganddalf/anaconda3/envs/dl/lib/python3.12/site-packages/lightning/pytorch/trainer/connectors/checkpoint_connector.py:145: `.test(ckpt_path=None)` was called without a model. The best model of the previous `fit` call will be used. You can pass `.test(ckpt_path='best')` to use the best model or `.test(ckpt_path='last')` to use the last model. If you pass a value, this warning will be silenced.\n",
      "Restoring states from the checkpoint path at ./lightning_logs/0rptynd1/checkpoints/epoch=99-step=7900.ckpt\n",
      "LOCAL_RANK: 0 - CUDA_VISIBLE_DEVICES: [0]\n",
      "Loaded model weights from the checkpoint at ./lightning_logs/0rptynd1/checkpoints/epoch=99-step=7900.ckpt\n"
     ]
    },
    {
     "name": "stdout",
     "output_type": "stream",
     "text": [
      "Testing DataLoader 0: 100%|██████████| 79/79 [00:04<00:00, 17.83it/s] \n",
      "────────────────────────────────────────────────────────────────────────────────────────────────────────────────────────\n",
      "       Test metric             DataLoader 0\n",
      "────────────────────────────────────────────────────────────────────────────────────────────────────────────────────────\n",
      "        AUC_FGSM            0.10000000149011612\n",
      "        AUC_Noise           0.10000000149011612\n",
      "        test_acc            0.10000000149011612\n",
      "────────────────────────────────────────────────────────────────────────────────────────────────────────────────────────\n"
     ]
    },
    {
     "data": {
      "text/html": [
       "<style>\n",
       "    table.wandb td:nth-child(1) { padding: 0 10px; text-align: left ; width: auto;} td:nth-child(2) {text-align: left ; width: 100%}\n",
       "    .wandb-row { display: flex; flex-direction: row; flex-wrap: wrap; justify-content: flex-start; width: 100% }\n",
       "    .wandb-col { display: flex; flex-direction: column; flex-basis: 100%; flex: 1; padding: 10px; }\n",
       "    </style>\n",
       "<div class=\"wandb-row\"><div class=\"wandb-col\"><h3>Run history:</h3><br/><table class=\"wandb\"><tr><td>AUC_FGSM</td><td>▁</td></tr><tr><td>AUC_Noise</td><td>▁</td></tr><tr><td>epoch</td><td>▁▁▁▁▂▂▂▂▂▃▃▃▃▃▃▄▄▄▄▄▅▅▅▅▅▅▆▆▆▆▆▇▇▇▇▇▇███</td></tr><tr><td>lr</td><td>▁</td></tr><tr><td>test_acc</td><td>▁</td></tr><tr><td>train_acc</td><td>▆▄▄▄▆▅█▅▂▇▅▃▃▅▁▆▅▆▅▄▅▆▅▅▃▅▃▃▆▁▃█▃▇▆▅▅▆▅▄</td></tr><tr><td>trainer/global_step</td><td>▁▁▁▂▂▂▂▂▂▃▃▃▃▃▄▄▄▄▄▄▅▅▅▅▅▅▆▆▆▆▆▇▇▇▇▇▇███</td></tr></table><br/></div><div class=\"wandb-col\"><h3>Run summary:</h3><br/><table class=\"wandb\"><tr><td>AUC_FGSM</td><td>0.1</td></tr><tr><td>AUC_Noise</td><td>0.1</td></tr><tr><td>distillation_type</td><td>random</td></tr><tr><td>epoch</td><td>100</td></tr><tr><td>lr</td><td>0.1</td></tr><tr><td>model_name</td><td>very_tiny</td></tr><tr><td>optimizer</td><td>SGD</td></tr><tr><td>test_acc</td><td>0.1</td></tr><tr><td>train_acc</td><td>0.08594</td></tr><tr><td>train_loss</td><td>nan</td></tr><tr><td>trainer/global_step</td><td>7900</td></tr></table><br/></div></div>"
      ],
      "text/plain": [
       "<IPython.core.display.HTML object>"
      ]
     },
     "metadata": {},
     "output_type": "display_data"
    },
    {
     "data": {
      "text/html": [
       " View run <strong style=\"color:#cdcd00\">upbeat-eon-283</strong> at: <a href='https://wandb.ai/potapuch2001/Oleinik-BS-Thesis-code/runs/0rptynd1' target=\"_blank\">https://wandb.ai/potapuch2001/Oleinik-BS-Thesis-code/runs/0rptynd1</a><br/> View project at: <a href='https://wandb.ai/potapuch2001/Oleinik-BS-Thesis-code' target=\"_blank\">https://wandb.ai/potapuch2001/Oleinik-BS-Thesis-code</a><br/>Synced 6 W&B file(s), 3 media file(s), 2 artifact file(s) and 0 other file(s)"
      ],
      "text/plain": [
       "<IPython.core.display.HTML object>"
      ]
     },
     "metadata": {},
     "output_type": "display_data"
    },
    {
     "data": {
      "text/html": [
       "Find logs at: <code>./wandb/run-20240623_024439-0rptynd1/logs</code>"
      ],
      "text/plain": [
       "<IPython.core.display.HTML object>"
      ]
     },
     "metadata": {},
     "output_type": "display_data"
    },
    {
     "data": {
      "text/html": [
       "wandb version 0.17.2 is available!  To upgrade, please run:\n",
       " $ pip install wandb --upgrade"
      ],
      "text/plain": [
       "<IPython.core.display.HTML object>"
      ]
     },
     "metadata": {},
     "output_type": "display_data"
    },
    {
     "data": {
      "text/html": [
       "Tracking run with wandb version 0.16.6"
      ],
      "text/plain": [
       "<IPython.core.display.HTML object>"
      ]
     },
     "metadata": {},
     "output_type": "display_data"
    },
    {
     "data": {
      "text/html": [
       "Run data is saved locally in <code>/home/ganddalf/MIPT/Kafedra/Oleinik-BS-Thesis/code/wandb/run-20240623_024929-uwpr4k5g</code>"
      ],
      "text/plain": [
       "<IPython.core.display.HTML object>"
      ]
     },
     "metadata": {},
     "output_type": "display_data"
    },
    {
     "data": {
      "text/html": [
       "Syncing run <strong><a href='https://wandb.ai/potapuch2001/Oleinik-BS-Thesis-code/runs/uwpr4k5g' target=\"_blank\">smart-pine-284</a></strong> to <a href='https://wandb.ai/potapuch2001/Oleinik-BS-Thesis-code' target=\"_blank\">Weights & Biases</a> (<a href='https://wandb.me/run' target=\"_blank\">docs</a>)<br/>"
      ],
      "text/plain": [
       "<IPython.core.display.HTML object>"
      ]
     },
     "metadata": {},
     "output_type": "display_data"
    },
    {
     "data": {
      "text/html": [
       " View project at <a href='https://wandb.ai/potapuch2001/Oleinik-BS-Thesis-code' target=\"_blank\">https://wandb.ai/potapuch2001/Oleinik-BS-Thesis-code</a>"
      ],
      "text/plain": [
       "<IPython.core.display.HTML object>"
      ]
     },
     "metadata": {},
     "output_type": "display_data"
    },
    {
     "data": {
      "text/html": [
       " View run at <a href='https://wandb.ai/potapuch2001/Oleinik-BS-Thesis-code/runs/uwpr4k5g' target=\"_blank\">https://wandb.ai/potapuch2001/Oleinik-BS-Thesis-code/runs/uwpr4k5g</a>"
      ],
      "text/plain": [
       "<IPython.core.display.HTML object>"
      ]
     },
     "metadata": {},
     "output_type": "display_data"
    },
    {
     "name": "stderr",
     "output_type": "stream",
     "text": [
      "GPU available: True (cuda), used: True\n",
      "TPU available: False, using: 0 TPU cores\n",
      "IPU available: False, using: 0 IPUs\n",
      "HPU available: False, using: 0 HPUs\n",
      "/home/ganddalf/anaconda3/envs/dl/lib/python3.12/site-packages/lightning/pytorch/loggers/wandb.py:391: There is a wandb run already in progress and newly created instances of `WandbLogger` will reuse this run. If this is not desired, call `wandb.finish()` before instantiating `WandbLogger`.\n",
      "LOCAL_RANK: 0 - CUDA_VISIBLE_DEVICES: [0]\n",
      "\n",
      "  | Name    | Type             | Params\n",
      "---------------------------------------------\n",
      "0 | student | Cifar_Very_Tiny  | 15.1 K\n",
      "1 | teacher | Cifar_Tiny       | 58.0 K\n",
      "2 | loss    | CrossEntropyLoss | 0     \n",
      "---------------------------------------------\n",
      "15.1 K    Trainable params\n",
      "58.0 K    Non-trainable params\n",
      "73.0 K    Total params\n",
      "0.292     Total estimated model params size (MB)\n"
     ]
    },
    {
     "name": "stdout",
     "output_type": "stream",
     "text": [
      "Epoch 99: 100%|██████████| 79/79 [00:02<00:00, 28.93it/s, v_num=4k5g]"
     ]
    },
    {
     "name": "stderr",
     "output_type": "stream",
     "text": [
      "`Trainer.fit` stopped: `max_epochs=100` reached.\n"
     ]
    },
    {
     "name": "stdout",
     "output_type": "stream",
     "text": [
      "Epoch 99: 100%|██████████| 79/79 [00:02<00:00, 28.80it/s, v_num=4k5g]\n"
     ]
    },
    {
     "name": "stderr",
     "output_type": "stream",
     "text": [
      "/home/ganddalf/anaconda3/envs/dl/lib/python3.12/site-packages/lightning/pytorch/trainer/connectors/checkpoint_connector.py:145: `.test(ckpt_path=None)` was called without a model. The best model of the previous `fit` call will be used. You can pass `.test(ckpt_path='best')` to use the best model or `.test(ckpt_path='last')` to use the last model. If you pass a value, this warning will be silenced.\n",
      "Restoring states from the checkpoint path at ./lightning_logs/uwpr4k5g/checkpoints/epoch=99-step=7900.ckpt\n",
      "LOCAL_RANK: 0 - CUDA_VISIBLE_DEVICES: [0]\n",
      "Loaded model weights from the checkpoint at ./lightning_logs/uwpr4k5g/checkpoints/epoch=99-step=7900.ckpt\n"
     ]
    },
    {
     "name": "stdout",
     "output_type": "stream",
     "text": [
      "Testing DataLoader 0: 100%|██████████| 79/79 [00:04<00:00, 16.03it/s] \n",
      "────────────────────────────────────────────────────────────────────────────────────────────────────────────────────────\n",
      "       Test metric             DataLoader 0\n",
      "────────────────────────────────────────────────────────────────────────────────────────────────────────────────────────\n",
      "        AUC_FGSM            0.10000000149011612\n",
      "        AUC_Noise           0.10000000149011612\n",
      "        test_acc            0.10000000149011612\n",
      "────────────────────────────────────────────────────────────────────────────────────────────────────────────────────────\n"
     ]
    },
    {
     "data": {
      "text/html": [
       "<style>\n",
       "    table.wandb td:nth-child(1) { padding: 0 10px; text-align: left ; width: auto;} td:nth-child(2) {text-align: left ; width: 100%}\n",
       "    .wandb-row { display: flex; flex-direction: row; flex-wrap: wrap; justify-content: flex-start; width: 100% }\n",
       "    .wandb-col { display: flex; flex-direction: column; flex-basis: 100%; flex: 1; padding: 10px; }\n",
       "    </style>\n",
       "<div class=\"wandb-row\"><div class=\"wandb-col\"><h3>Run history:</h3><br/><table class=\"wandb\"><tr><td>AUC_FGSM</td><td>▁</td></tr><tr><td>AUC_Noise</td><td>▁</td></tr><tr><td>epoch</td><td>▁▁▁▁▂▂▂▂▂▃▃▃▃▃▃▄▄▄▄▄▅▅▅▅▅▅▆▆▆▆▆▇▇▇▇▇▇███</td></tr><tr><td>lr</td><td>▁</td></tr><tr><td>test_acc</td><td>▁</td></tr><tr><td>train_acc</td><td>▆▄▄▄▆▅█▅▂▇▅▃▃▅▁▆▅▆▅▄▅▆▅▅▃▅▃▃▆▁▃█▃▇▆▅▅▆▅▄</td></tr><tr><td>trainer/global_step</td><td>▁▁▁▂▂▂▂▂▂▃▃▃▃▃▄▄▄▄▄▄▅▅▅▅▅▅▆▆▆▆▆▇▇▇▇▇▇███</td></tr></table><br/></div><div class=\"wandb-col\"><h3>Run summary:</h3><br/><table class=\"wandb\"><tr><td>AUC_FGSM</td><td>0.1</td></tr><tr><td>AUC_Noise</td><td>0.1</td></tr><tr><td>distillation_type</td><td>random</td></tr><tr><td>epoch</td><td>100</td></tr><tr><td>lr</td><td>0.1</td></tr><tr><td>model_name</td><td>very_tiny</td></tr><tr><td>optimizer</td><td>SGD</td></tr><tr><td>test_acc</td><td>0.1</td></tr><tr><td>train_acc</td><td>0.08594</td></tr><tr><td>train_loss</td><td>nan</td></tr><tr><td>trainer/global_step</td><td>7900</td></tr></table><br/></div></div>"
      ],
      "text/plain": [
       "<IPython.core.display.HTML object>"
      ]
     },
     "metadata": {},
     "output_type": "display_data"
    },
    {
     "data": {
      "text/html": [
       " View run <strong style=\"color:#cdcd00\">smart-pine-284</strong> at: <a href='https://wandb.ai/potapuch2001/Oleinik-BS-Thesis-code/runs/uwpr4k5g' target=\"_blank\">https://wandb.ai/potapuch2001/Oleinik-BS-Thesis-code/runs/uwpr4k5g</a><br/> View project at: <a href='https://wandb.ai/potapuch2001/Oleinik-BS-Thesis-code' target=\"_blank\">https://wandb.ai/potapuch2001/Oleinik-BS-Thesis-code</a><br/>Synced 6 W&B file(s), 3 media file(s), 2 artifact file(s) and 0 other file(s)"
      ],
      "text/plain": [
       "<IPython.core.display.HTML object>"
      ]
     },
     "metadata": {},
     "output_type": "display_data"
    },
    {
     "data": {
      "text/html": [
       "Find logs at: <code>./wandb/run-20240623_024929-uwpr4k5g/logs</code>"
      ],
      "text/plain": [
       "<IPython.core.display.HTML object>"
      ]
     },
     "metadata": {},
     "output_type": "display_data"
    },
    {
     "data": {
      "text/html": [
       "wandb version 0.17.2 is available!  To upgrade, please run:\n",
       " $ pip install wandb --upgrade"
      ],
      "text/plain": [
       "<IPython.core.display.HTML object>"
      ]
     },
     "metadata": {},
     "output_type": "display_data"
    },
    {
     "data": {
      "text/html": [
       "Tracking run with wandb version 0.16.6"
      ],
      "text/plain": [
       "<IPython.core.display.HTML object>"
      ]
     },
     "metadata": {},
     "output_type": "display_data"
    },
    {
     "data": {
      "text/html": [
       "Run data is saved locally in <code>/home/ganddalf/MIPT/Kafedra/Oleinik-BS-Thesis/code/wandb/run-20240623_025422-6ro0z1tg</code>"
      ],
      "text/plain": [
       "<IPython.core.display.HTML object>"
      ]
     },
     "metadata": {},
     "output_type": "display_data"
    },
    {
     "data": {
      "text/html": [
       "Syncing run <strong><a href='https://wandb.ai/potapuch2001/Oleinik-BS-Thesis-code/runs/6ro0z1tg' target=\"_blank\">glorious-yogurt-285</a></strong> to <a href='https://wandb.ai/potapuch2001/Oleinik-BS-Thesis-code' target=\"_blank\">Weights & Biases</a> (<a href='https://wandb.me/run' target=\"_blank\">docs</a>)<br/>"
      ],
      "text/plain": [
       "<IPython.core.display.HTML object>"
      ]
     },
     "metadata": {},
     "output_type": "display_data"
    },
    {
     "data": {
      "text/html": [
       " View project at <a href='https://wandb.ai/potapuch2001/Oleinik-BS-Thesis-code' target=\"_blank\">https://wandb.ai/potapuch2001/Oleinik-BS-Thesis-code</a>"
      ],
      "text/plain": [
       "<IPython.core.display.HTML object>"
      ]
     },
     "metadata": {},
     "output_type": "display_data"
    },
    {
     "data": {
      "text/html": [
       " View run at <a href='https://wandb.ai/potapuch2001/Oleinik-BS-Thesis-code/runs/6ro0z1tg' target=\"_blank\">https://wandb.ai/potapuch2001/Oleinik-BS-Thesis-code/runs/6ro0z1tg</a>"
      ],
      "text/plain": [
       "<IPython.core.display.HTML object>"
      ]
     },
     "metadata": {},
     "output_type": "display_data"
    },
    {
     "name": "stderr",
     "output_type": "stream",
     "text": [
      "GPU available: True (cuda), used: True\n",
      "TPU available: False, using: 0 TPU cores\n",
      "IPU available: False, using: 0 IPUs\n",
      "HPU available: False, using: 0 HPUs\n",
      "/home/ganddalf/anaconda3/envs/dl/lib/python3.12/site-packages/lightning/pytorch/loggers/wandb.py:391: There is a wandb run already in progress and newly created instances of `WandbLogger` will reuse this run. If this is not desired, call `wandb.finish()` before instantiating `WandbLogger`.\n",
      "LOCAL_RANK: 0 - CUDA_VISIBLE_DEVICES: [0]\n",
      "\n",
      "  | Name    | Type             | Params\n",
      "---------------------------------------------\n",
      "0 | student | Cifar_Very_Tiny  | 15.1 K\n",
      "1 | teacher | Cifar_Tiny       | 58.0 K\n",
      "2 | loss    | CrossEntropyLoss | 0     \n",
      "---------------------------------------------\n",
      "15.1 K    Trainable params\n",
      "58.0 K    Non-trainable params\n",
      "73.0 K    Total params\n",
      "0.292     Total estimated model params size (MB)\n"
     ]
    },
    {
     "name": "stdout",
     "output_type": "stream",
     "text": [
      "Epoch 99: 100%|██████████| 79/79 [00:02<00:00, 27.23it/s, v_num=z1tg]"
     ]
    },
    {
     "name": "stderr",
     "output_type": "stream",
     "text": [
      "`Trainer.fit` stopped: `max_epochs=100` reached.\n"
     ]
    },
    {
     "name": "stdout",
     "output_type": "stream",
     "text": [
      "Epoch 99: 100%|██████████| 79/79 [00:02<00:00, 27.12it/s, v_num=z1tg]\n"
     ]
    },
    {
     "name": "stderr",
     "output_type": "stream",
     "text": [
      "/home/ganddalf/anaconda3/envs/dl/lib/python3.12/site-packages/lightning/pytorch/trainer/connectors/checkpoint_connector.py:145: `.test(ckpt_path=None)` was called without a model. The best model of the previous `fit` call will be used. You can pass `.test(ckpt_path='best')` to use the best model or `.test(ckpt_path='last')` to use the last model. If you pass a value, this warning will be silenced.\n",
      "Restoring states from the checkpoint path at ./lightning_logs/6ro0z1tg/checkpoints/epoch=99-step=7900.ckpt\n",
      "LOCAL_RANK: 0 - CUDA_VISIBLE_DEVICES: [0]\n",
      "Loaded model weights from the checkpoint at ./lightning_logs/6ro0z1tg/checkpoints/epoch=99-step=7900.ckpt\n"
     ]
    },
    {
     "name": "stdout",
     "output_type": "stream",
     "text": [
      "Testing DataLoader 0: 100%|██████████| 79/79 [00:04<00:00, 17.97it/s] \n",
      "────────────────────────────────────────────────────────────────────────────────────────────────────────────────────────\n",
      "       Test metric             DataLoader 0\n",
      "────────────────────────────────────────────────────────────────────────────────────────────────────────────────────────\n",
      "        AUC_FGSM            0.10000000149011612\n",
      "        AUC_Noise           0.10000000149011612\n",
      "        test_acc            0.10000000149011612\n",
      "────────────────────────────────────────────────────────────────────────────────────────────────────────────────────────\n"
     ]
    },
    {
     "data": {
      "text/html": [
       "<style>\n",
       "    table.wandb td:nth-child(1) { padding: 0 10px; text-align: left ; width: auto;} td:nth-child(2) {text-align: left ; width: 100%}\n",
       "    .wandb-row { display: flex; flex-direction: row; flex-wrap: wrap; justify-content: flex-start; width: 100% }\n",
       "    .wandb-col { display: flex; flex-direction: column; flex-basis: 100%; flex: 1; padding: 10px; }\n",
       "    </style>\n",
       "<div class=\"wandb-row\"><div class=\"wandb-col\"><h3>Run history:</h3><br/><table class=\"wandb\"><tr><td>AUC_FGSM</td><td>▁</td></tr><tr><td>AUC_Noise</td><td>▁</td></tr><tr><td>epoch</td><td>▁▁▁▁▂▂▂▂▂▃▃▃▃▃▃▄▄▄▄▄▅▅▅▅▅▅▆▆▆▆▆▇▇▇▇▇▇███</td></tr><tr><td>lr</td><td>▁</td></tr><tr><td>test_acc</td><td>▁</td></tr><tr><td>train_acc</td><td>▆▄▄▄▆▅█▅▂▇▅▃▃▅▁▆▅▆▅▄▅▆▅▅▃▅▃▃▆▁▃█▃▇▆▅▅▆▅▄</td></tr><tr><td>trainer/global_step</td><td>▁▁▁▂▂▂▂▂▂▃▃▃▃▃▄▄▄▄▄▄▅▅▅▅▅▅▆▆▆▆▆▇▇▇▇▇▇███</td></tr></table><br/></div><div class=\"wandb-col\"><h3>Run summary:</h3><br/><table class=\"wandb\"><tr><td>AUC_FGSM</td><td>0.1</td></tr><tr><td>AUC_Noise</td><td>0.1</td></tr><tr><td>distillation_type</td><td>random</td></tr><tr><td>epoch</td><td>100</td></tr><tr><td>lr</td><td>0.1</td></tr><tr><td>model_name</td><td>very_tiny</td></tr><tr><td>optimizer</td><td>SGD</td></tr><tr><td>test_acc</td><td>0.1</td></tr><tr><td>train_acc</td><td>0.08594</td></tr><tr><td>train_loss</td><td>nan</td></tr><tr><td>trainer/global_step</td><td>7900</td></tr></table><br/></div></div>"
      ],
      "text/plain": [
       "<IPython.core.display.HTML object>"
      ]
     },
     "metadata": {},
     "output_type": "display_data"
    },
    {
     "data": {
      "text/html": [
       " View run <strong style=\"color:#cdcd00\">glorious-yogurt-285</strong> at: <a href='https://wandb.ai/potapuch2001/Oleinik-BS-Thesis-code/runs/6ro0z1tg' target=\"_blank\">https://wandb.ai/potapuch2001/Oleinik-BS-Thesis-code/runs/6ro0z1tg</a><br/> View project at: <a href='https://wandb.ai/potapuch2001/Oleinik-BS-Thesis-code' target=\"_blank\">https://wandb.ai/potapuch2001/Oleinik-BS-Thesis-code</a><br/>Synced 6 W&B file(s), 3 media file(s), 2 artifact file(s) and 0 other file(s)"
      ],
      "text/plain": [
       "<IPython.core.display.HTML object>"
      ]
     },
     "metadata": {},
     "output_type": "display_data"
    },
    {
     "data": {
      "text/html": [
       "Find logs at: <code>./wandb/run-20240623_025422-6ro0z1tg/logs</code>"
      ],
      "text/plain": [
       "<IPython.core.display.HTML object>"
      ]
     },
     "metadata": {},
     "output_type": "display_data"
    },
    {
     "data": {
      "text/html": [
       "wandb version 0.17.2 is available!  To upgrade, please run:\n",
       " $ pip install wandb --upgrade"
      ],
      "text/plain": [
       "<IPython.core.display.HTML object>"
      ]
     },
     "metadata": {},
     "output_type": "display_data"
    },
    {
     "data": {
      "text/html": [
       "Tracking run with wandb version 0.16.6"
      ],
      "text/plain": [
       "<IPython.core.display.HTML object>"
      ]
     },
     "metadata": {},
     "output_type": "display_data"
    },
    {
     "data": {
      "text/html": [
       "Run data is saved locally in <code>/home/ganddalf/MIPT/Kafedra/Oleinik-BS-Thesis/code/wandb/run-20240623_025914-ajj1ung8</code>"
      ],
      "text/plain": [
       "<IPython.core.display.HTML object>"
      ]
     },
     "metadata": {},
     "output_type": "display_data"
    },
    {
     "data": {
      "text/html": [
       "Syncing run <strong><a href='https://wandb.ai/potapuch2001/Oleinik-BS-Thesis-code/runs/ajj1ung8' target=\"_blank\">decent-oath-286</a></strong> to <a href='https://wandb.ai/potapuch2001/Oleinik-BS-Thesis-code' target=\"_blank\">Weights & Biases</a> (<a href='https://wandb.me/run' target=\"_blank\">docs</a>)<br/>"
      ],
      "text/plain": [
       "<IPython.core.display.HTML object>"
      ]
     },
     "metadata": {},
     "output_type": "display_data"
    },
    {
     "data": {
      "text/html": [
       " View project at <a href='https://wandb.ai/potapuch2001/Oleinik-BS-Thesis-code' target=\"_blank\">https://wandb.ai/potapuch2001/Oleinik-BS-Thesis-code</a>"
      ],
      "text/plain": [
       "<IPython.core.display.HTML object>"
      ]
     },
     "metadata": {},
     "output_type": "display_data"
    },
    {
     "data": {
      "text/html": [
       " View run at <a href='https://wandb.ai/potapuch2001/Oleinik-BS-Thesis-code/runs/ajj1ung8' target=\"_blank\">https://wandb.ai/potapuch2001/Oleinik-BS-Thesis-code/runs/ajj1ung8</a>"
      ],
      "text/plain": [
       "<IPython.core.display.HTML object>"
      ]
     },
     "metadata": {},
     "output_type": "display_data"
    },
    {
     "name": "stderr",
     "output_type": "stream",
     "text": [
      "GPU available: True (cuda), used: True\n",
      "TPU available: False, using: 0 TPU cores\n",
      "IPU available: False, using: 0 IPUs\n",
      "HPU available: False, using: 0 HPUs\n",
      "/home/ganddalf/anaconda3/envs/dl/lib/python3.12/site-packages/lightning/pytorch/loggers/wandb.py:391: There is a wandb run already in progress and newly created instances of `WandbLogger` will reuse this run. If this is not desired, call `wandb.finish()` before instantiating `WandbLogger`.\n",
      "LOCAL_RANK: 0 - CUDA_VISIBLE_DEVICES: [0]\n",
      "\n",
      "  | Name    | Type             | Params\n",
      "---------------------------------------------\n",
      "0 | student | Cifar_Very_Tiny  | 15.1 K\n",
      "1 | teacher | Cifar_Tiny       | 58.0 K\n",
      "2 | loss    | CrossEntropyLoss | 0     \n",
      "---------------------------------------------\n",
      "15.1 K    Trainable params\n",
      "58.0 K    Non-trainable params\n",
      "73.0 K    Total params\n",
      "0.292     Total estimated model params size (MB)\n"
     ]
    },
    {
     "name": "stdout",
     "output_type": "stream",
     "text": [
      "Epoch 99: 100%|██████████| 79/79 [00:02<00:00, 31.19it/s, v_num=ung8]"
     ]
    },
    {
     "name": "stderr",
     "output_type": "stream",
     "text": [
      "`Trainer.fit` stopped: `max_epochs=100` reached.\n"
     ]
    },
    {
     "name": "stdout",
     "output_type": "stream",
     "text": [
      "Epoch 99: 100%|██████████| 79/79 [00:02<00:00, 30.97it/s, v_num=ung8]\n"
     ]
    },
    {
     "name": "stderr",
     "output_type": "stream",
     "text": [
      "/home/ganddalf/anaconda3/envs/dl/lib/python3.12/site-packages/lightning/pytorch/trainer/connectors/checkpoint_connector.py:145: `.test(ckpt_path=None)` was called without a model. The best model of the previous `fit` call will be used. You can pass `.test(ckpt_path='best')` to use the best model or `.test(ckpt_path='last')` to use the last model. If you pass a value, this warning will be silenced.\n",
      "Restoring states from the checkpoint path at ./lightning_logs/ajj1ung8/checkpoints/epoch=99-step=7900.ckpt\n",
      "LOCAL_RANK: 0 - CUDA_VISIBLE_DEVICES: [0]\n",
      "Loaded model weights from the checkpoint at ./lightning_logs/ajj1ung8/checkpoints/epoch=99-step=7900.ckpt\n"
     ]
    },
    {
     "name": "stdout",
     "output_type": "stream",
     "text": [
      "Testing DataLoader 0: 100%|██████████| 79/79 [00:04<00:00, 16.98it/s] \n",
      "────────────────────────────────────────────────────────────────────────────────────────────────────────────────────────\n",
      "       Test metric             DataLoader 0\n",
      "────────────────────────────────────────────────────────────────────────────────────────────────────────────────────────\n",
      "        AUC_FGSM            0.10000000149011612\n",
      "        AUC_Noise           0.10000000149011612\n",
      "        test_acc            0.10000000149011612\n",
      "────────────────────────────────────────────────────────────────────────────────────────────────────────────────────────\n"
     ]
    },
    {
     "data": {
      "text/html": [
       "<style>\n",
       "    table.wandb td:nth-child(1) { padding: 0 10px; text-align: left ; width: auto;} td:nth-child(2) {text-align: left ; width: 100%}\n",
       "    .wandb-row { display: flex; flex-direction: row; flex-wrap: wrap; justify-content: flex-start; width: 100% }\n",
       "    .wandb-col { display: flex; flex-direction: column; flex-basis: 100%; flex: 1; padding: 10px; }\n",
       "    </style>\n",
       "<div class=\"wandb-row\"><div class=\"wandb-col\"><h3>Run history:</h3><br/><table class=\"wandb\"><tr><td>AUC_FGSM</td><td>▁</td></tr><tr><td>AUC_Noise</td><td>▁</td></tr><tr><td>epoch</td><td>▁▁▁▁▂▂▂▂▂▃▃▃▃▃▃▄▄▄▄▄▅▅▅▅▅▅▆▆▆▆▆▇▇▇▇▇▇███</td></tr><tr><td>lr</td><td>▁</td></tr><tr><td>test_acc</td><td>▁</td></tr><tr><td>train_acc</td><td>▆▄▄▄▆▅█▅▂▇▅▃▃▅▁▆▅▆▅▄▅▆▅▅▃▅▃▃▆▁▃█▃▇▆▅▅▆▅▄</td></tr><tr><td>trainer/global_step</td><td>▁▁▁▂▂▂▂▂▂▃▃▃▃▃▄▄▄▄▄▄▅▅▅▅▅▅▆▆▆▆▆▇▇▇▇▇▇███</td></tr></table><br/></div><div class=\"wandb-col\"><h3>Run summary:</h3><br/><table class=\"wandb\"><tr><td>AUC_FGSM</td><td>0.1</td></tr><tr><td>AUC_Noise</td><td>0.1</td></tr><tr><td>distillation_type</td><td>random</td></tr><tr><td>epoch</td><td>100</td></tr><tr><td>lr</td><td>0.1</td></tr><tr><td>model_name</td><td>very_tiny</td></tr><tr><td>optimizer</td><td>SGD</td></tr><tr><td>test_acc</td><td>0.1</td></tr><tr><td>train_acc</td><td>0.08594</td></tr><tr><td>train_loss</td><td>nan</td></tr><tr><td>trainer/global_step</td><td>7900</td></tr></table><br/></div></div>"
      ],
      "text/plain": [
       "<IPython.core.display.HTML object>"
      ]
     },
     "metadata": {},
     "output_type": "display_data"
    },
    {
     "data": {
      "text/html": [
       " View run <strong style=\"color:#cdcd00\">decent-oath-286</strong> at: <a href='https://wandb.ai/potapuch2001/Oleinik-BS-Thesis-code/runs/ajj1ung8' target=\"_blank\">https://wandb.ai/potapuch2001/Oleinik-BS-Thesis-code/runs/ajj1ung8</a><br/> View project at: <a href='https://wandb.ai/potapuch2001/Oleinik-BS-Thesis-code' target=\"_blank\">https://wandb.ai/potapuch2001/Oleinik-BS-Thesis-code</a><br/>Synced 6 W&B file(s), 3 media file(s), 2 artifact file(s) and 0 other file(s)"
      ],
      "text/plain": [
       "<IPython.core.display.HTML object>"
      ]
     },
     "metadata": {},
     "output_type": "display_data"
    },
    {
     "data": {
      "text/html": [
       "Find logs at: <code>./wandb/run-20240623_025914-ajj1ung8/logs</code>"
      ],
      "text/plain": [
       "<IPython.core.display.HTML object>"
      ]
     },
     "metadata": {},
     "output_type": "display_data"
    },
    {
     "data": {
      "text/html": [
       "wandb version 0.17.2 is available!  To upgrade, please run:\n",
       " $ pip install wandb --upgrade"
      ],
      "text/plain": [
       "<IPython.core.display.HTML object>"
      ]
     },
     "metadata": {},
     "output_type": "display_data"
    },
    {
     "data": {
      "text/html": [
       "Tracking run with wandb version 0.16.6"
      ],
      "text/plain": [
       "<IPython.core.display.HTML object>"
      ]
     },
     "metadata": {},
     "output_type": "display_data"
    },
    {
     "data": {
      "text/html": [
       "Run data is saved locally in <code>/home/ganddalf/MIPT/Kafedra/Oleinik-BS-Thesis/code/wandb/run-20240623_030404-a07p99co</code>"
      ],
      "text/plain": [
       "<IPython.core.display.HTML object>"
      ]
     },
     "metadata": {},
     "output_type": "display_data"
    },
    {
     "data": {
      "text/html": [
       "Syncing run <strong><a href='https://wandb.ai/potapuch2001/Oleinik-BS-Thesis-code/runs/a07p99co' target=\"_blank\">wandering-violet-287</a></strong> to <a href='https://wandb.ai/potapuch2001/Oleinik-BS-Thesis-code' target=\"_blank\">Weights & Biases</a> (<a href='https://wandb.me/run' target=\"_blank\">docs</a>)<br/>"
      ],
      "text/plain": [
       "<IPython.core.display.HTML object>"
      ]
     },
     "metadata": {},
     "output_type": "display_data"
    },
    {
     "data": {
      "text/html": [
       " View project at <a href='https://wandb.ai/potapuch2001/Oleinik-BS-Thesis-code' target=\"_blank\">https://wandb.ai/potapuch2001/Oleinik-BS-Thesis-code</a>"
      ],
      "text/plain": [
       "<IPython.core.display.HTML object>"
      ]
     },
     "metadata": {},
     "output_type": "display_data"
    },
    {
     "data": {
      "text/html": [
       " View run at <a href='https://wandb.ai/potapuch2001/Oleinik-BS-Thesis-code/runs/a07p99co' target=\"_blank\">https://wandb.ai/potapuch2001/Oleinik-BS-Thesis-code/runs/a07p99co</a>"
      ],
      "text/plain": [
       "<IPython.core.display.HTML object>"
      ]
     },
     "metadata": {},
     "output_type": "display_data"
    },
    {
     "name": "stderr",
     "output_type": "stream",
     "text": [
      "GPU available: True (cuda), used: True\n",
      "TPU available: False, using: 0 TPU cores\n",
      "IPU available: False, using: 0 IPUs\n",
      "HPU available: False, using: 0 HPUs\n",
      "/home/ganddalf/anaconda3/envs/dl/lib/python3.12/site-packages/lightning/pytorch/loggers/wandb.py:391: There is a wandb run already in progress and newly created instances of `WandbLogger` will reuse this run. If this is not desired, call `wandb.finish()` before instantiating `WandbLogger`.\n",
      "LOCAL_RANK: 0 - CUDA_VISIBLE_DEVICES: [0]\n",
      "\n",
      "  | Name    | Type             | Params\n",
      "---------------------------------------------\n",
      "0 | student | Cifar_Very_Tiny  | 15.1 K\n",
      "1 | teacher | Cifar_Tiny       | 58.0 K\n",
      "2 | loss    | CrossEntropyLoss | 0     \n",
      "---------------------------------------------\n",
      "15.1 K    Trainable params\n",
      "58.0 K    Non-trainable params\n",
      "73.0 K    Total params\n",
      "0.292     Total estimated model params size (MB)\n"
     ]
    },
    {
     "name": "stdout",
     "output_type": "stream",
     "text": [
      "Epoch 99: 100%|██████████| 79/79 [00:02<00:00, 29.03it/s, v_num=99co]"
     ]
    },
    {
     "name": "stderr",
     "output_type": "stream",
     "text": [
      "`Trainer.fit` stopped: `max_epochs=100` reached.\n"
     ]
    },
    {
     "name": "stdout",
     "output_type": "stream",
     "text": [
      "Epoch 99: 100%|██████████| 79/79 [00:02<00:00, 28.92it/s, v_num=99co]\n"
     ]
    },
    {
     "name": "stderr",
     "output_type": "stream",
     "text": [
      "/home/ganddalf/anaconda3/envs/dl/lib/python3.12/site-packages/lightning/pytorch/trainer/connectors/checkpoint_connector.py:145: `.test(ckpt_path=None)` was called without a model. The best model of the previous `fit` call will be used. You can pass `.test(ckpt_path='best')` to use the best model or `.test(ckpt_path='last')` to use the last model. If you pass a value, this warning will be silenced.\n",
      "Restoring states from the checkpoint path at ./lightning_logs/a07p99co/checkpoints/epoch=99-step=7900.ckpt\n",
      "LOCAL_RANK: 0 - CUDA_VISIBLE_DEVICES: [0]\n",
      "Loaded model weights from the checkpoint at ./lightning_logs/a07p99co/checkpoints/epoch=99-step=7900.ckpt\n"
     ]
    },
    {
     "name": "stdout",
     "output_type": "stream",
     "text": [
      "Testing DataLoader 0: 100%|██████████| 79/79 [00:04<00:00, 15.82it/s] \n",
      "────────────────────────────────────────────────────────────────────────────────────────────────────────────────────────\n",
      "       Test metric             DataLoader 0\n",
      "────────────────────────────────────────────────────────────────────────────────────────────────────────────────────────\n",
      "        AUC_FGSM            0.10000000149011612\n",
      "        AUC_Noise           0.10000000149011612\n",
      "        test_acc            0.10000000149011612\n",
      "────────────────────────────────────────────────────────────────────────────────────────────────────────────────────────\n"
     ]
    },
    {
     "data": {
      "text/html": [
       "<style>\n",
       "    table.wandb td:nth-child(1) { padding: 0 10px; text-align: left ; width: auto;} td:nth-child(2) {text-align: left ; width: 100%}\n",
       "    .wandb-row { display: flex; flex-direction: row; flex-wrap: wrap; justify-content: flex-start; width: 100% }\n",
       "    .wandb-col { display: flex; flex-direction: column; flex-basis: 100%; flex: 1; padding: 10px; }\n",
       "    </style>\n",
       "<div class=\"wandb-row\"><div class=\"wandb-col\"><h3>Run history:</h3><br/><table class=\"wandb\"><tr><td>AUC_FGSM</td><td>▁</td></tr><tr><td>AUC_Noise</td><td>▁</td></tr><tr><td>epoch</td><td>▁▁▁▁▂▂▂▂▂▃▃▃▃▃▃▄▄▄▄▄▅▅▅▅▅▅▆▆▆▆▆▇▇▇▇▇▇███</td></tr><tr><td>lr</td><td>▁</td></tr><tr><td>test_acc</td><td>▁</td></tr><tr><td>train_acc</td><td>▆▄▄▄▆▅█▅▂▇▅▃▃▅▁▆▅▆▅▄▅▆▅▅▃▅▃▃▆▁▃█▃▇▆▅▅▆▅▄</td></tr><tr><td>trainer/global_step</td><td>▁▁▁▂▂▂▂▂▂▃▃▃▃▃▄▄▄▄▄▄▅▅▅▅▅▅▆▆▆▆▆▇▇▇▇▇▇███</td></tr></table><br/></div><div class=\"wandb-col\"><h3>Run summary:</h3><br/><table class=\"wandb\"><tr><td>AUC_FGSM</td><td>0.1</td></tr><tr><td>AUC_Noise</td><td>0.1</td></tr><tr><td>distillation_type</td><td>random</td></tr><tr><td>epoch</td><td>100</td></tr><tr><td>lr</td><td>0.1</td></tr><tr><td>model_name</td><td>very_tiny</td></tr><tr><td>optimizer</td><td>SGD</td></tr><tr><td>test_acc</td><td>0.1</td></tr><tr><td>train_acc</td><td>0.08594</td></tr><tr><td>train_loss</td><td>nan</td></tr><tr><td>trainer/global_step</td><td>7900</td></tr></table><br/></div></div>"
      ],
      "text/plain": [
       "<IPython.core.display.HTML object>"
      ]
     },
     "metadata": {},
     "output_type": "display_data"
    },
    {
     "data": {
      "text/html": [
       " View run <strong style=\"color:#cdcd00\">wandering-violet-287</strong> at: <a href='https://wandb.ai/potapuch2001/Oleinik-BS-Thesis-code/runs/a07p99co' target=\"_blank\">https://wandb.ai/potapuch2001/Oleinik-BS-Thesis-code/runs/a07p99co</a><br/> View project at: <a href='https://wandb.ai/potapuch2001/Oleinik-BS-Thesis-code' target=\"_blank\">https://wandb.ai/potapuch2001/Oleinik-BS-Thesis-code</a><br/>Synced 6 W&B file(s), 3 media file(s), 2 artifact file(s) and 0 other file(s)"
      ],
      "text/plain": [
       "<IPython.core.display.HTML object>"
      ]
     },
     "metadata": {},
     "output_type": "display_data"
    },
    {
     "data": {
      "text/html": [
       "Find logs at: <code>./wandb/run-20240623_030404-a07p99co/logs</code>"
      ],
      "text/plain": [
       "<IPython.core.display.HTML object>"
      ]
     },
     "metadata": {},
     "output_type": "display_data"
    },
    {
     "data": {
      "text/html": [
       "wandb version 0.17.2 is available!  To upgrade, please run:\n",
       " $ pip install wandb --upgrade"
      ],
      "text/plain": [
       "<IPython.core.display.HTML object>"
      ]
     },
     "metadata": {},
     "output_type": "display_data"
    },
    {
     "data": {
      "text/html": [
       "Tracking run with wandb version 0.16.6"
      ],
      "text/plain": [
       "<IPython.core.display.HTML object>"
      ]
     },
     "metadata": {},
     "output_type": "display_data"
    },
    {
     "data": {
      "text/html": [
       "Run data is saved locally in <code>/home/ganddalf/MIPT/Kafedra/Oleinik-BS-Thesis/code/wandb/run-20240623_030855-dkqdxpip</code>"
      ],
      "text/plain": [
       "<IPython.core.display.HTML object>"
      ]
     },
     "metadata": {},
     "output_type": "display_data"
    },
    {
     "data": {
      "text/html": [
       "Syncing run <strong><a href='https://wandb.ai/potapuch2001/Oleinik-BS-Thesis-code/runs/dkqdxpip' target=\"_blank\">spring-water-288</a></strong> to <a href='https://wandb.ai/potapuch2001/Oleinik-BS-Thesis-code' target=\"_blank\">Weights & Biases</a> (<a href='https://wandb.me/run' target=\"_blank\">docs</a>)<br/>"
      ],
      "text/plain": [
       "<IPython.core.display.HTML object>"
      ]
     },
     "metadata": {},
     "output_type": "display_data"
    },
    {
     "data": {
      "text/html": [
       " View project at <a href='https://wandb.ai/potapuch2001/Oleinik-BS-Thesis-code' target=\"_blank\">https://wandb.ai/potapuch2001/Oleinik-BS-Thesis-code</a>"
      ],
      "text/plain": [
       "<IPython.core.display.HTML object>"
      ]
     },
     "metadata": {},
     "output_type": "display_data"
    },
    {
     "data": {
      "text/html": [
       " View run at <a href='https://wandb.ai/potapuch2001/Oleinik-BS-Thesis-code/runs/dkqdxpip' target=\"_blank\">https://wandb.ai/potapuch2001/Oleinik-BS-Thesis-code/runs/dkqdxpip</a>"
      ],
      "text/plain": [
       "<IPython.core.display.HTML object>"
      ]
     },
     "metadata": {},
     "output_type": "display_data"
    },
    {
     "name": "stderr",
     "output_type": "stream",
     "text": [
      "GPU available: True (cuda), used: True\n",
      "TPU available: False, using: 0 TPU cores\n",
      "IPU available: False, using: 0 IPUs\n",
      "HPU available: False, using: 0 HPUs\n",
      "/home/ganddalf/anaconda3/envs/dl/lib/python3.12/site-packages/lightning/pytorch/loggers/wandb.py:391: There is a wandb run already in progress and newly created instances of `WandbLogger` will reuse this run. If this is not desired, call `wandb.finish()` before instantiating `WandbLogger`.\n",
      "LOCAL_RANK: 0 - CUDA_VISIBLE_DEVICES: [0]\n",
      "\n",
      "  | Name    | Type             | Params\n",
      "---------------------------------------------\n",
      "0 | student | Cifar_Very_Tiny  | 15.1 K\n",
      "1 | teacher | Cifar_Tiny       | 58.0 K\n",
      "2 | loss    | CrossEntropyLoss | 0     \n",
      "---------------------------------------------\n",
      "15.1 K    Trainable params\n",
      "58.0 K    Non-trainable params\n",
      "73.0 K    Total params\n",
      "0.292     Total estimated model params size (MB)\n"
     ]
    },
    {
     "name": "stdout",
     "output_type": "stream",
     "text": [
      "Epoch 99: 100%|██████████| 79/79 [00:02<00:00, 29.20it/s, v_num=xpip]"
     ]
    },
    {
     "name": "stderr",
     "output_type": "stream",
     "text": [
      "`Trainer.fit` stopped: `max_epochs=100` reached.\n"
     ]
    },
    {
     "name": "stdout",
     "output_type": "stream",
     "text": [
      "Epoch 99: 100%|██████████| 79/79 [00:02<00:00, 29.07it/s, v_num=xpip]\n"
     ]
    },
    {
     "name": "stderr",
     "output_type": "stream",
     "text": [
      "/home/ganddalf/anaconda3/envs/dl/lib/python3.12/site-packages/lightning/pytorch/trainer/connectors/checkpoint_connector.py:145: `.test(ckpt_path=None)` was called without a model. The best model of the previous `fit` call will be used. You can pass `.test(ckpt_path='best')` to use the best model or `.test(ckpt_path='last')` to use the last model. If you pass a value, this warning will be silenced.\n",
      "Restoring states from the checkpoint path at ./lightning_logs/dkqdxpip/checkpoints/epoch=99-step=7900.ckpt\n",
      "LOCAL_RANK: 0 - CUDA_VISIBLE_DEVICES: [0]\n",
      "Loaded model weights from the checkpoint at ./lightning_logs/dkqdxpip/checkpoints/epoch=99-step=7900.ckpt\n"
     ]
    },
    {
     "name": "stdout",
     "output_type": "stream",
     "text": [
      "Testing DataLoader 0: 100%|██████████| 79/79 [00:04<00:00, 19.28it/s] \n",
      "────────────────────────────────────────────────────────────────────────────────────────────────────────────────────────\n",
      "       Test metric             DataLoader 0\n",
      "────────────────────────────────────────────────────────────────────────────────────────────────────────────────────────\n",
      "        AUC_FGSM            0.10000000149011612\n",
      "        AUC_Noise           0.10000000149011612\n",
      "        test_acc            0.10000000149011612\n",
      "────────────────────────────────────────────────────────────────────────────────────────────────────────────────────────\n"
     ]
    },
    {
     "data": {
      "text/html": [
       "<style>\n",
       "    table.wandb td:nth-child(1) { padding: 0 10px; text-align: left ; width: auto;} td:nth-child(2) {text-align: left ; width: 100%}\n",
       "    .wandb-row { display: flex; flex-direction: row; flex-wrap: wrap; justify-content: flex-start; width: 100% }\n",
       "    .wandb-col { display: flex; flex-direction: column; flex-basis: 100%; flex: 1; padding: 10px; }\n",
       "    </style>\n",
       "<div class=\"wandb-row\"><div class=\"wandb-col\"><h3>Run history:</h3><br/><table class=\"wandb\"><tr><td>AUC_FGSM</td><td>▁</td></tr><tr><td>AUC_Noise</td><td>▁</td></tr><tr><td>epoch</td><td>▁▁▁▁▂▂▂▂▂▃▃▃▃▃▃▄▄▄▄▄▅▅▅▅▅▅▆▆▆▆▆▇▇▇▇▇▇███</td></tr><tr><td>lr</td><td>▁</td></tr><tr><td>test_acc</td><td>▁</td></tr><tr><td>train_acc</td><td>▆▄▄▄▆▅█▅▂▇▅▃▃▅▁▆▅▆▅▄▅▆▅▅▃▅▃▃▆▁▃█▃▇▆▅▅▆▅▄</td></tr><tr><td>trainer/global_step</td><td>▁▁▁▂▂▂▂▂▂▃▃▃▃▃▄▄▄▄▄▄▅▅▅▅▅▅▆▆▆▆▆▇▇▇▇▇▇███</td></tr></table><br/></div><div class=\"wandb-col\"><h3>Run summary:</h3><br/><table class=\"wandb\"><tr><td>AUC_FGSM</td><td>0.1</td></tr><tr><td>AUC_Noise</td><td>0.1</td></tr><tr><td>distillation_type</td><td>random</td></tr><tr><td>epoch</td><td>100</td></tr><tr><td>lr</td><td>0.1</td></tr><tr><td>model_name</td><td>very_tiny</td></tr><tr><td>optimizer</td><td>SGD</td></tr><tr><td>test_acc</td><td>0.1</td></tr><tr><td>train_acc</td><td>0.08594</td></tr><tr><td>train_loss</td><td>nan</td></tr><tr><td>trainer/global_step</td><td>7900</td></tr></table><br/></div></div>"
      ],
      "text/plain": [
       "<IPython.core.display.HTML object>"
      ]
     },
     "metadata": {},
     "output_type": "display_data"
    },
    {
     "data": {
      "text/html": [
       " View run <strong style=\"color:#cdcd00\">spring-water-288</strong> at: <a href='https://wandb.ai/potapuch2001/Oleinik-BS-Thesis-code/runs/dkqdxpip' target=\"_blank\">https://wandb.ai/potapuch2001/Oleinik-BS-Thesis-code/runs/dkqdxpip</a><br/> View project at: <a href='https://wandb.ai/potapuch2001/Oleinik-BS-Thesis-code' target=\"_blank\">https://wandb.ai/potapuch2001/Oleinik-BS-Thesis-code</a><br/>Synced 6 W&B file(s), 3 media file(s), 2 artifact file(s) and 0 other file(s)"
      ],
      "text/plain": [
       "<IPython.core.display.HTML object>"
      ]
     },
     "metadata": {},
     "output_type": "display_data"
    },
    {
     "data": {
      "text/html": [
       "Find logs at: <code>./wandb/run-20240623_030855-dkqdxpip/logs</code>"
      ],
      "text/plain": [
       "<IPython.core.display.HTML object>"
      ]
     },
     "metadata": {},
     "output_type": "display_data"
    },
    {
     "data": {
      "text/html": [
       "wandb version 0.17.2 is available!  To upgrade, please run:\n",
       " $ pip install wandb --upgrade"
      ],
      "text/plain": [
       "<IPython.core.display.HTML object>"
      ]
     },
     "metadata": {},
     "output_type": "display_data"
    },
    {
     "data": {
      "text/html": [
       "Tracking run with wandb version 0.16.6"
      ],
      "text/plain": [
       "<IPython.core.display.HTML object>"
      ]
     },
     "metadata": {},
     "output_type": "display_data"
    },
    {
     "data": {
      "text/html": [
       "Run data is saved locally in <code>/home/ganddalf/MIPT/Kafedra/Oleinik-BS-Thesis/code/wandb/run-20240623_031345-7ftzab2a</code>"
      ],
      "text/plain": [
       "<IPython.core.display.HTML object>"
      ]
     },
     "metadata": {},
     "output_type": "display_data"
    },
    {
     "data": {
      "text/html": [
       "Syncing run <strong><a href='https://wandb.ai/potapuch2001/Oleinik-BS-Thesis-code/runs/7ftzab2a' target=\"_blank\">soft-fire-289</a></strong> to <a href='https://wandb.ai/potapuch2001/Oleinik-BS-Thesis-code' target=\"_blank\">Weights & Biases</a> (<a href='https://wandb.me/run' target=\"_blank\">docs</a>)<br/>"
      ],
      "text/plain": [
       "<IPython.core.display.HTML object>"
      ]
     },
     "metadata": {},
     "output_type": "display_data"
    },
    {
     "data": {
      "text/html": [
       " View project at <a href='https://wandb.ai/potapuch2001/Oleinik-BS-Thesis-code' target=\"_blank\">https://wandb.ai/potapuch2001/Oleinik-BS-Thesis-code</a>"
      ],
      "text/plain": [
       "<IPython.core.display.HTML object>"
      ]
     },
     "metadata": {},
     "output_type": "display_data"
    },
    {
     "data": {
      "text/html": [
       " View run at <a href='https://wandb.ai/potapuch2001/Oleinik-BS-Thesis-code/runs/7ftzab2a' target=\"_blank\">https://wandb.ai/potapuch2001/Oleinik-BS-Thesis-code/runs/7ftzab2a</a>"
      ],
      "text/plain": [
       "<IPython.core.display.HTML object>"
      ]
     },
     "metadata": {},
     "output_type": "display_data"
    },
    {
     "name": "stderr",
     "output_type": "stream",
     "text": [
      "GPU available: True (cuda), used: True\n",
      "TPU available: False, using: 0 TPU cores\n",
      "IPU available: False, using: 0 IPUs\n",
      "HPU available: False, using: 0 HPUs\n",
      "/home/ganddalf/anaconda3/envs/dl/lib/python3.12/site-packages/lightning/pytorch/loggers/wandb.py:391: There is a wandb run already in progress and newly created instances of `WandbLogger` will reuse this run. If this is not desired, call `wandb.finish()` before instantiating `WandbLogger`.\n",
      "LOCAL_RANK: 0 - CUDA_VISIBLE_DEVICES: [0]\n",
      "\n",
      "  | Name    | Type             | Params\n",
      "---------------------------------------------\n",
      "0 | student | Cifar_Very_Tiny  | 15.1 K\n",
      "1 | teacher | Cifar_Tiny       | 58.0 K\n",
      "2 | loss    | CrossEntropyLoss | 0     \n",
      "---------------------------------------------\n",
      "15.1 K    Trainable params\n",
      "58.0 K    Non-trainable params\n",
      "73.0 K    Total params\n",
      "0.292     Total estimated model params size (MB)\n"
     ]
    },
    {
     "name": "stdout",
     "output_type": "stream",
     "text": [
      "Epoch 99: 100%|██████████| 79/79 [00:02<00:00, 29.10it/s, v_num=ab2a]"
     ]
    },
    {
     "name": "stderr",
     "output_type": "stream",
     "text": [
      "`Trainer.fit` stopped: `max_epochs=100` reached.\n"
     ]
    },
    {
     "name": "stdout",
     "output_type": "stream",
     "text": [
      "Epoch 99: 100%|██████████| 79/79 [00:02<00:00, 28.98it/s, v_num=ab2a]\n"
     ]
    },
    {
     "name": "stderr",
     "output_type": "stream",
     "text": [
      "/home/ganddalf/anaconda3/envs/dl/lib/python3.12/site-packages/lightning/pytorch/trainer/connectors/checkpoint_connector.py:145: `.test(ckpt_path=None)` was called without a model. The best model of the previous `fit` call will be used. You can pass `.test(ckpt_path='best')` to use the best model or `.test(ckpt_path='last')` to use the last model. If you pass a value, this warning will be silenced.\n",
      "Restoring states from the checkpoint path at ./lightning_logs/7ftzab2a/checkpoints/epoch=99-step=7900.ckpt\n",
      "LOCAL_RANK: 0 - CUDA_VISIBLE_DEVICES: [0]\n",
      "Loaded model weights from the checkpoint at ./lightning_logs/7ftzab2a/checkpoints/epoch=99-step=7900.ckpt\n"
     ]
    },
    {
     "name": "stdout",
     "output_type": "stream",
     "text": [
      "Testing DataLoader 0: 100%|██████████| 79/79 [00:04<00:00, 17.65it/s] \n",
      "────────────────────────────────────────────────────────────────────────────────────────────────────────────────────────\n",
      "       Test metric             DataLoader 0\n",
      "────────────────────────────────────────────────────────────────────────────────────────────────────────────────────────\n",
      "        AUC_FGSM            0.25154998898506165\n",
      "        AUC_Noise           0.4164128303527832\n",
      "        test_acc            0.5188999772071838\n",
      "────────────────────────────────────────────────────────────────────────────────────────────────────────────────────────\n"
     ]
    },
    {
     "data": {
      "text/html": [
       "<style>\n",
       "    table.wandb td:nth-child(1) { padding: 0 10px; text-align: left ; width: auto;} td:nth-child(2) {text-align: left ; width: 100%}\n",
       "    .wandb-row { display: flex; flex-direction: row; flex-wrap: wrap; justify-content: flex-start; width: 100% }\n",
       "    .wandb-col { display: flex; flex-direction: column; flex-basis: 100%; flex: 1; padding: 10px; }\n",
       "    </style>\n",
       "<div class=\"wandb-row\"><div class=\"wandb-col\"><h3>Run history:</h3><br/><table class=\"wandb\"><tr><td>AUC_FGSM</td><td>▁</td></tr><tr><td>AUC_Noise</td><td>▁</td></tr><tr><td>epoch</td><td>▁▁▁▁▂▂▂▂▂▃▃▃▃▃▃▄▄▄▄▄▅▅▅▅▅▅▆▆▆▆▆▇▇▇▇▇▇███</td></tr><tr><td>lr</td><td>▁</td></tr><tr><td>test_acc</td><td>▁</td></tr><tr><td>train_acc</td><td>▁▂▃▄▄▅▄▅▄▄▅▅▆▅▆▅▅▅▆▆▅▅▅▅▆▇▆▆▇▅▇▇▆▇▇▆▇▆█▆</td></tr><tr><td>train_loss</td><td>█▆▅▄▄▄▃▃▃▃▃▂▂▃▂▂▂▂▂▂▂▂▂▂▂▂▁▂▂▂▁▂▁▁▂▁▁▁▁▁</td></tr><tr><td>trainer/global_step</td><td>▁▁▁▂▂▂▂▂▂▃▃▃▃▃▄▄▄▄▄▄▅▅▅▅▅▅▆▆▆▆▆▇▇▇▇▇▇███</td></tr></table><br/></div><div class=\"wandb-col\"><h3>Run summary:</h3><br/><table class=\"wandb\"><tr><td>AUC_FGSM</td><td>0.25155</td></tr><tr><td>AUC_Noise</td><td>0.41641</td></tr><tr><td>distillation_type</td><td>random</td></tr><tr><td>epoch</td><td>100</td></tr><tr><td>lr</td><td>0.1</td></tr><tr><td>model_name</td><td>very_tiny</td></tr><tr><td>optimizer</td><td>SGD</td></tr><tr><td>test_acc</td><td>0.5189</td></tr><tr><td>train_acc</td><td>0.52344</td></tr><tr><td>train_loss</td><td>82.62862</td></tr><tr><td>trainer/global_step</td><td>7900</td></tr></table><br/></div></div>"
      ],
      "text/plain": [
       "<IPython.core.display.HTML object>"
      ]
     },
     "metadata": {},
     "output_type": "display_data"
    },
    {
     "data": {
      "text/html": [
       " View run <strong style=\"color:#cdcd00\">soft-fire-289</strong> at: <a href='https://wandb.ai/potapuch2001/Oleinik-BS-Thesis-code/runs/7ftzab2a' target=\"_blank\">https://wandb.ai/potapuch2001/Oleinik-BS-Thesis-code/runs/7ftzab2a</a><br/> View project at: <a href='https://wandb.ai/potapuch2001/Oleinik-BS-Thesis-code' target=\"_blank\">https://wandb.ai/potapuch2001/Oleinik-BS-Thesis-code</a><br/>Synced 6 W&B file(s), 3 media file(s), 2 artifact file(s) and 0 other file(s)"
      ],
      "text/plain": [
       "<IPython.core.display.HTML object>"
      ]
     },
     "metadata": {},
     "output_type": "display_data"
    },
    {
     "data": {
      "text/html": [
       "Find logs at: <code>./wandb/run-20240623_031345-7ftzab2a/logs</code>"
      ],
      "text/plain": [
       "<IPython.core.display.HTML object>"
      ]
     },
     "metadata": {},
     "output_type": "display_data"
    },
    {
     "data": {
      "text/html": [
       "wandb version 0.17.2 is available!  To upgrade, please run:\n",
       " $ pip install wandb --upgrade"
      ],
      "text/plain": [
       "<IPython.core.display.HTML object>"
      ]
     },
     "metadata": {},
     "output_type": "display_data"
    },
    {
     "data": {
      "text/html": [
       "Tracking run with wandb version 0.16.6"
      ],
      "text/plain": [
       "<IPython.core.display.HTML object>"
      ]
     },
     "metadata": {},
     "output_type": "display_data"
    },
    {
     "data": {
      "text/html": [
       "Run data is saved locally in <code>/home/ganddalf/MIPT/Kafedra/Oleinik-BS-Thesis/code/wandb/run-20240623_031832-imocrqog</code>"
      ],
      "text/plain": [
       "<IPython.core.display.HTML object>"
      ]
     },
     "metadata": {},
     "output_type": "display_data"
    },
    {
     "data": {
      "text/html": [
       "Syncing run <strong><a href='https://wandb.ai/potapuch2001/Oleinik-BS-Thesis-code/runs/imocrqog' target=\"_blank\">floral-dream-290</a></strong> to <a href='https://wandb.ai/potapuch2001/Oleinik-BS-Thesis-code' target=\"_blank\">Weights & Biases</a> (<a href='https://wandb.me/run' target=\"_blank\">docs</a>)<br/>"
      ],
      "text/plain": [
       "<IPython.core.display.HTML object>"
      ]
     },
     "metadata": {},
     "output_type": "display_data"
    },
    {
     "data": {
      "text/html": [
       " View project at <a href='https://wandb.ai/potapuch2001/Oleinik-BS-Thesis-code' target=\"_blank\">https://wandb.ai/potapuch2001/Oleinik-BS-Thesis-code</a>"
      ],
      "text/plain": [
       "<IPython.core.display.HTML object>"
      ]
     },
     "metadata": {},
     "output_type": "display_data"
    },
    {
     "data": {
      "text/html": [
       " View run at <a href='https://wandb.ai/potapuch2001/Oleinik-BS-Thesis-code/runs/imocrqog' target=\"_blank\">https://wandb.ai/potapuch2001/Oleinik-BS-Thesis-code/runs/imocrqog</a>"
      ],
      "text/plain": [
       "<IPython.core.display.HTML object>"
      ]
     },
     "metadata": {},
     "output_type": "display_data"
    },
    {
     "name": "stderr",
     "output_type": "stream",
     "text": [
      "GPU available: True (cuda), used: True\n",
      "TPU available: False, using: 0 TPU cores\n",
      "IPU available: False, using: 0 IPUs\n",
      "HPU available: False, using: 0 HPUs\n",
      "/home/ganddalf/anaconda3/envs/dl/lib/python3.12/site-packages/lightning/pytorch/loggers/wandb.py:391: There is a wandb run already in progress and newly created instances of `WandbLogger` will reuse this run. If this is not desired, call `wandb.finish()` before instantiating `WandbLogger`.\n",
      "LOCAL_RANK: 0 - CUDA_VISIBLE_DEVICES: [0]\n",
      "\n",
      "  | Name    | Type             | Params\n",
      "---------------------------------------------\n",
      "0 | student | Cifar_Very_Tiny  | 15.1 K\n",
      "1 | teacher | Cifar_Tiny       | 58.0 K\n",
      "2 | loss    | CrossEntropyLoss | 0     \n",
      "---------------------------------------------\n",
      "15.1 K    Trainable params\n",
      "58.0 K    Non-trainable params\n",
      "73.0 K    Total params\n",
      "0.292     Total estimated model params size (MB)\n"
     ]
    },
    {
     "name": "stdout",
     "output_type": "stream",
     "text": [
      "Epoch 99: 100%|██████████| 79/79 [00:02<00:00, 29.67it/s, v_num=rqog]"
     ]
    },
    {
     "name": "stderr",
     "output_type": "stream",
     "text": [
      "`Trainer.fit` stopped: `max_epochs=100` reached.\n"
     ]
    },
    {
     "name": "stdout",
     "output_type": "stream",
     "text": [
      "Epoch 99: 100%|██████████| 79/79 [00:02<00:00, 29.53it/s, v_num=rqog]\n"
     ]
    },
    {
     "name": "stderr",
     "output_type": "stream",
     "text": [
      "/home/ganddalf/anaconda3/envs/dl/lib/python3.12/site-packages/lightning/pytorch/trainer/connectors/checkpoint_connector.py:145: `.test(ckpt_path=None)` was called without a model. The best model of the previous `fit` call will be used. You can pass `.test(ckpt_path='best')` to use the best model or `.test(ckpt_path='last')` to use the last model. If you pass a value, this warning will be silenced.\n",
      "Restoring states from the checkpoint path at ./lightning_logs/imocrqog/checkpoints/epoch=99-step=7900.ckpt\n",
      "LOCAL_RANK: 0 - CUDA_VISIBLE_DEVICES: [0]\n",
      "Loaded model weights from the checkpoint at ./lightning_logs/imocrqog/checkpoints/epoch=99-step=7900.ckpt\n"
     ]
    },
    {
     "name": "stdout",
     "output_type": "stream",
     "text": [
      "Testing DataLoader 0: 100%|██████████| 79/79 [00:04<00:00, 16.43it/s] \n",
      "────────────────────────────────────────────────────────────────────────────────────────────────────────────────────────\n",
      "       Test metric             DataLoader 0\n",
      "────────────────────────────────────────────────────────────────────────────────────────────────────────────────────────\n",
      "        AUC_FGSM            0.10000000149011612\n",
      "        AUC_Noise           0.10000000149011612\n",
      "        test_acc            0.10000000149011612\n",
      "────────────────────────────────────────────────────────────────────────────────────────────────────────────────────────\n"
     ]
    },
    {
     "data": {
      "text/html": [
       "<style>\n",
       "    table.wandb td:nth-child(1) { padding: 0 10px; text-align: left ; width: auto;} td:nth-child(2) {text-align: left ; width: 100%}\n",
       "    .wandb-row { display: flex; flex-direction: row; flex-wrap: wrap; justify-content: flex-start; width: 100% }\n",
       "    .wandb-col { display: flex; flex-direction: column; flex-basis: 100%; flex: 1; padding: 10px; }\n",
       "    </style>\n",
       "<div class=\"wandb-row\"><div class=\"wandb-col\"><h3>Run history:</h3><br/><table class=\"wandb\"><tr><td>AUC_FGSM</td><td>▁</td></tr><tr><td>AUC_Noise</td><td>▁</td></tr><tr><td>epoch</td><td>▁▁▁▁▂▂▂▂▂▃▃▃▃▃▃▄▄▄▄▄▅▅▅▅▅▅▆▆▆▆▆▇▇▇▇▇▇███</td></tr><tr><td>lr</td><td>▁</td></tr><tr><td>test_acc</td><td>▁</td></tr><tr><td>train_acc</td><td>▆▄▄▄▆▅█▅▂▇▅▃▃▅▁▆▅▆▅▄▅▆▅▅▃▅▃▃▆▁▃█▃▇▆▅▅▆▅▄</td></tr><tr><td>trainer/global_step</td><td>▁▁▁▂▂▂▂▂▂▃▃▃▃▃▄▄▄▄▄▄▅▅▅▅▅▅▆▆▆▆▆▇▇▇▇▇▇███</td></tr></table><br/></div><div class=\"wandb-col\"><h3>Run summary:</h3><br/><table class=\"wandb\"><tr><td>AUC_FGSM</td><td>0.1</td></tr><tr><td>AUC_Noise</td><td>0.1</td></tr><tr><td>distillation_type</td><td>random</td></tr><tr><td>epoch</td><td>100</td></tr><tr><td>lr</td><td>0.1</td></tr><tr><td>model_name</td><td>very_tiny</td></tr><tr><td>optimizer</td><td>SGD</td></tr><tr><td>test_acc</td><td>0.1</td></tr><tr><td>train_acc</td><td>0.08594</td></tr><tr><td>train_loss</td><td>nan</td></tr><tr><td>trainer/global_step</td><td>7900</td></tr></table><br/></div></div>"
      ],
      "text/plain": [
       "<IPython.core.display.HTML object>"
      ]
     },
     "metadata": {},
     "output_type": "display_data"
    },
    {
     "data": {
      "text/html": [
       " View run <strong style=\"color:#cdcd00\">floral-dream-290</strong> at: <a href='https://wandb.ai/potapuch2001/Oleinik-BS-Thesis-code/runs/imocrqog' target=\"_blank\">https://wandb.ai/potapuch2001/Oleinik-BS-Thesis-code/runs/imocrqog</a><br/> View project at: <a href='https://wandb.ai/potapuch2001/Oleinik-BS-Thesis-code' target=\"_blank\">https://wandb.ai/potapuch2001/Oleinik-BS-Thesis-code</a><br/>Synced 6 W&B file(s), 3 media file(s), 2 artifact file(s) and 0 other file(s)"
      ],
      "text/plain": [
       "<IPython.core.display.HTML object>"
      ]
     },
     "metadata": {},
     "output_type": "display_data"
    },
    {
     "data": {
      "text/html": [
       "Find logs at: <code>./wandb/run-20240623_031832-imocrqog/logs</code>"
      ],
      "text/plain": [
       "<IPython.core.display.HTML object>"
      ]
     },
     "metadata": {},
     "output_type": "display_data"
    },
    {
     "data": {
      "text/html": [
       "wandb version 0.17.2 is available!  To upgrade, please run:\n",
       " $ pip install wandb --upgrade"
      ],
      "text/plain": [
       "<IPython.core.display.HTML object>"
      ]
     },
     "metadata": {},
     "output_type": "display_data"
    },
    {
     "data": {
      "text/html": [
       "Tracking run with wandb version 0.16.6"
      ],
      "text/plain": [
       "<IPython.core.display.HTML object>"
      ]
     },
     "metadata": {},
     "output_type": "display_data"
    },
    {
     "data": {
      "text/html": [
       "Run data is saved locally in <code>/home/ganddalf/MIPT/Kafedra/Oleinik-BS-Thesis/code/wandb/run-20240623_032320-7b499npt</code>"
      ],
      "text/plain": [
       "<IPython.core.display.HTML object>"
      ]
     },
     "metadata": {},
     "output_type": "display_data"
    },
    {
     "data": {
      "text/html": [
       "Syncing run <strong><a href='https://wandb.ai/potapuch2001/Oleinik-BS-Thesis-code/runs/7b499npt' target=\"_blank\">light-silence-291</a></strong> to <a href='https://wandb.ai/potapuch2001/Oleinik-BS-Thesis-code' target=\"_blank\">Weights & Biases</a> (<a href='https://wandb.me/run' target=\"_blank\">docs</a>)<br/>"
      ],
      "text/plain": [
       "<IPython.core.display.HTML object>"
      ]
     },
     "metadata": {},
     "output_type": "display_data"
    },
    {
     "data": {
      "text/html": [
       " View project at <a href='https://wandb.ai/potapuch2001/Oleinik-BS-Thesis-code' target=\"_blank\">https://wandb.ai/potapuch2001/Oleinik-BS-Thesis-code</a>"
      ],
      "text/plain": [
       "<IPython.core.display.HTML object>"
      ]
     },
     "metadata": {},
     "output_type": "display_data"
    },
    {
     "data": {
      "text/html": [
       " View run at <a href='https://wandb.ai/potapuch2001/Oleinik-BS-Thesis-code/runs/7b499npt' target=\"_blank\">https://wandb.ai/potapuch2001/Oleinik-BS-Thesis-code/runs/7b499npt</a>"
      ],
      "text/plain": [
       "<IPython.core.display.HTML object>"
      ]
     },
     "metadata": {},
     "output_type": "display_data"
    },
    {
     "name": "stderr",
     "output_type": "stream",
     "text": [
      "GPU available: True (cuda), used: True\n",
      "TPU available: False, using: 0 TPU cores\n",
      "IPU available: False, using: 0 IPUs\n",
      "HPU available: False, using: 0 HPUs\n",
      "/home/ganddalf/anaconda3/envs/dl/lib/python3.12/site-packages/lightning/pytorch/loggers/wandb.py:391: There is a wandb run already in progress and newly created instances of `WandbLogger` will reuse this run. If this is not desired, call `wandb.finish()` before instantiating `WandbLogger`.\n",
      "LOCAL_RANK: 0 - CUDA_VISIBLE_DEVICES: [0]\n",
      "\n",
      "  | Name    | Type             | Params\n",
      "---------------------------------------------\n",
      "0 | student | Cifar_Very_Tiny  | 15.1 K\n",
      "1 | teacher | Cifar_Tiny       | 58.0 K\n",
      "2 | loss    | CrossEntropyLoss | 0     \n",
      "---------------------------------------------\n",
      "15.1 K    Trainable params\n",
      "58.0 K    Non-trainable params\n",
      "73.0 K    Total params\n",
      "0.292     Total estimated model params size (MB)\n"
     ]
    },
    {
     "name": "stdout",
     "output_type": "stream",
     "text": [
      "Epoch 99: 100%|██████████| 79/79 [00:02<00:00, 33.35it/s, v_num=9npt]"
     ]
    },
    {
     "name": "stderr",
     "output_type": "stream",
     "text": [
      "`Trainer.fit` stopped: `max_epochs=100` reached.\n"
     ]
    },
    {
     "name": "stdout",
     "output_type": "stream",
     "text": [
      "Epoch 99: 100%|██████████| 79/79 [00:02<00:00, 33.25it/s, v_num=9npt]\n"
     ]
    },
    {
     "name": "stderr",
     "output_type": "stream",
     "text": [
      "/home/ganddalf/anaconda3/envs/dl/lib/python3.12/site-packages/lightning/pytorch/trainer/connectors/checkpoint_connector.py:145: `.test(ckpt_path=None)` was called without a model. The best model of the previous `fit` call will be used. You can pass `.test(ckpt_path='best')` to use the best model or `.test(ckpt_path='last')` to use the last model. If you pass a value, this warning will be silenced.\n",
      "Restoring states from the checkpoint path at ./lightning_logs/7b499npt/checkpoints/epoch=99-step=7900.ckpt\n",
      "LOCAL_RANK: 0 - CUDA_VISIBLE_DEVICES: [0]\n",
      "Loaded model weights from the checkpoint at ./lightning_logs/7b499npt/checkpoints/epoch=99-step=7900.ckpt\n"
     ]
    },
    {
     "name": "stdout",
     "output_type": "stream",
     "text": [
      "Testing DataLoader 0: 100%|██████████| 79/79 [00:04<00:00, 16.41it/s] \n",
      "────────────────────────────────────────────────────────────────────────────────────────────────────────────────────────\n",
      "       Test metric             DataLoader 0\n",
      "────────────────────────────────────────────────────────────────────────────────────────────────────────────────────────\n",
      "        AUC_FGSM            0.0997026339173317\n",
      "        AUC_Noise           0.0995243564248085\n",
      "        test_acc            0.0997999981045723\n",
      "────────────────────────────────────────────────────────────────────────────────────────────────────────────────────────\n"
     ]
    },
    {
     "data": {
      "text/html": [
       "<style>\n",
       "    table.wandb td:nth-child(1) { padding: 0 10px; text-align: left ; width: auto;} td:nth-child(2) {text-align: left ; width: 100%}\n",
       "    .wandb-row { display: flex; flex-direction: row; flex-wrap: wrap; justify-content: flex-start; width: 100% }\n",
       "    .wandb-col { display: flex; flex-direction: column; flex-basis: 100%; flex: 1; padding: 10px; }\n",
       "    </style>\n",
       "<div class=\"wandb-row\"><div class=\"wandb-col\"><h3>Run history:</h3><br/><table class=\"wandb\"><tr><td>AUC_FGSM</td><td>▁</td></tr><tr><td>AUC_Noise</td><td>▁</td></tr><tr><td>epoch</td><td>▁▁▁▁▂▂▂▂▂▃▃▃▃▃▃▄▄▄▄▄▅▅▅▅▅▅▆▆▆▆▆▇▇▇▇▇▇███</td></tr><tr><td>lr</td><td>▁</td></tr><tr><td>test_acc</td><td>▁</td></tr><tr><td>train_acc</td><td>▃▄▄▄▃▅▆▃▄▃▂▄▆▃▃▂▃▆▂▆▂▂▂▆█▂▃▃▁▃▃▂▃▁▂▃▅▃▃▇</td></tr><tr><td>train_loss</td><td>█▄▃▂▂▂▂▂▂▂▁▁▁▂▁▁▁▁▁▁▁▂▂▁▁▁▁▂▁▁▁▁▁▁▂▁▁▂▁▁</td></tr><tr><td>trainer/global_step</td><td>▁▁▁▂▂▂▂▂▂▃▃▃▃▃▄▄▄▄▄▄▅▅▅▅▅▅▆▆▆▆▆▇▇▇▇▇▇███</td></tr></table><br/></div><div class=\"wandb-col\"><h3>Run summary:</h3><br/><table class=\"wandb\"><tr><td>AUC_FGSM</td><td>0.0997</td></tr><tr><td>AUC_Noise</td><td>0.09952</td></tr><tr><td>distillation_type</td><td>random</td></tr><tr><td>epoch</td><td>100</td></tr><tr><td>lr</td><td>0.1</td></tr><tr><td>model_name</td><td>very_tiny</td></tr><tr><td>optimizer</td><td>SGD</td></tr><tr><td>test_acc</td><td>0.0998</td></tr><tr><td>train_acc</td><td>0.15625</td></tr><tr><td>train_loss</td><td>76.06702</td></tr><tr><td>trainer/global_step</td><td>7900</td></tr></table><br/></div></div>"
      ],
      "text/plain": [
       "<IPython.core.display.HTML object>"
      ]
     },
     "metadata": {},
     "output_type": "display_data"
    },
    {
     "data": {
      "text/html": [
       " View run <strong style=\"color:#cdcd00\">light-silence-291</strong> at: <a href='https://wandb.ai/potapuch2001/Oleinik-BS-Thesis-code/runs/7b499npt' target=\"_blank\">https://wandb.ai/potapuch2001/Oleinik-BS-Thesis-code/runs/7b499npt</a><br/> View project at: <a href='https://wandb.ai/potapuch2001/Oleinik-BS-Thesis-code' target=\"_blank\">https://wandb.ai/potapuch2001/Oleinik-BS-Thesis-code</a><br/>Synced 6 W&B file(s), 3 media file(s), 2 artifact file(s) and 0 other file(s)"
      ],
      "text/plain": [
       "<IPython.core.display.HTML object>"
      ]
     },
     "metadata": {},
     "output_type": "display_data"
    },
    {
     "data": {
      "text/html": [
       "Find logs at: <code>./wandb/run-20240623_032320-7b499npt/logs</code>"
      ],
      "text/plain": [
       "<IPython.core.display.HTML object>"
      ]
     },
     "metadata": {},
     "output_type": "display_data"
    },
    {
     "data": {
      "text/html": [
       "wandb version 0.17.2 is available!  To upgrade, please run:\n",
       " $ pip install wandb --upgrade"
      ],
      "text/plain": [
       "<IPython.core.display.HTML object>"
      ]
     },
     "metadata": {},
     "output_type": "display_data"
    },
    {
     "data": {
      "text/html": [
       "Tracking run with wandb version 0.16.6"
      ],
      "text/plain": [
       "<IPython.core.display.HTML object>"
      ]
     },
     "metadata": {},
     "output_type": "display_data"
    },
    {
     "data": {
      "text/html": [
       "Run data is saved locally in <code>/home/ganddalf/MIPT/Kafedra/Oleinik-BS-Thesis/code/wandb/run-20240623_032805-12pa7i4q</code>"
      ],
      "text/plain": [
       "<IPython.core.display.HTML object>"
      ]
     },
     "metadata": {},
     "output_type": "display_data"
    },
    {
     "data": {
      "text/html": [
       "Syncing run <strong><a href='https://wandb.ai/potapuch2001/Oleinik-BS-Thesis-code/runs/12pa7i4q' target=\"_blank\">serene-salad-292</a></strong> to <a href='https://wandb.ai/potapuch2001/Oleinik-BS-Thesis-code' target=\"_blank\">Weights & Biases</a> (<a href='https://wandb.me/run' target=\"_blank\">docs</a>)<br/>"
      ],
      "text/plain": [
       "<IPython.core.display.HTML object>"
      ]
     },
     "metadata": {},
     "output_type": "display_data"
    },
    {
     "data": {
      "text/html": [
       " View project at <a href='https://wandb.ai/potapuch2001/Oleinik-BS-Thesis-code' target=\"_blank\">https://wandb.ai/potapuch2001/Oleinik-BS-Thesis-code</a>"
      ],
      "text/plain": [
       "<IPython.core.display.HTML object>"
      ]
     },
     "metadata": {},
     "output_type": "display_data"
    },
    {
     "data": {
      "text/html": [
       " View run at <a href='https://wandb.ai/potapuch2001/Oleinik-BS-Thesis-code/runs/12pa7i4q' target=\"_blank\">https://wandb.ai/potapuch2001/Oleinik-BS-Thesis-code/runs/12pa7i4q</a>"
      ],
      "text/plain": [
       "<IPython.core.display.HTML object>"
      ]
     },
     "metadata": {},
     "output_type": "display_data"
    },
    {
     "name": "stderr",
     "output_type": "stream",
     "text": [
      "GPU available: True (cuda), used: True\n",
      "TPU available: False, using: 0 TPU cores\n",
      "IPU available: False, using: 0 IPUs\n",
      "HPU available: False, using: 0 HPUs\n",
      "/home/ganddalf/anaconda3/envs/dl/lib/python3.12/site-packages/lightning/pytorch/loggers/wandb.py:391: There is a wandb run already in progress and newly created instances of `WandbLogger` will reuse this run. If this is not desired, call `wandb.finish()` before instantiating `WandbLogger`.\n",
      "LOCAL_RANK: 0 - CUDA_VISIBLE_DEVICES: [0]\n",
      "\n",
      "  | Name    | Type             | Params\n",
      "---------------------------------------------\n",
      "0 | student | Cifar_Very_Tiny  | 15.1 K\n",
      "1 | teacher | Cifar_Tiny       | 58.0 K\n",
      "2 | loss    | CrossEntropyLoss | 0     \n",
      "---------------------------------------------\n",
      "15.1 K    Trainable params\n",
      "58.0 K    Non-trainable params\n",
      "73.0 K    Total params\n",
      "0.292     Total estimated model params size (MB)\n"
     ]
    },
    {
     "name": "stdout",
     "output_type": "stream",
     "text": [
      "Epoch 99: 100%|██████████| 79/79 [00:02<00:00, 30.01it/s, v_num=7i4q]"
     ]
    },
    {
     "name": "stderr",
     "output_type": "stream",
     "text": [
      "`Trainer.fit` stopped: `max_epochs=100` reached.\n"
     ]
    },
    {
     "name": "stdout",
     "output_type": "stream",
     "text": [
      "Epoch 99: 100%|██████████| 79/79 [00:02<00:00, 29.88it/s, v_num=7i4q]\n"
     ]
    },
    {
     "name": "stderr",
     "output_type": "stream",
     "text": [
      "/home/ganddalf/anaconda3/envs/dl/lib/python3.12/site-packages/lightning/pytorch/trainer/connectors/checkpoint_connector.py:145: `.test(ckpt_path=None)` was called without a model. The best model of the previous `fit` call will be used. You can pass `.test(ckpt_path='best')` to use the best model or `.test(ckpt_path='last')` to use the last model. If you pass a value, this warning will be silenced.\n",
      "Restoring states from the checkpoint path at ./lightning_logs/12pa7i4q/checkpoints/epoch=99-step=7900.ckpt\n",
      "LOCAL_RANK: 0 - CUDA_VISIBLE_DEVICES: [0]\n",
      "Loaded model weights from the checkpoint at ./lightning_logs/12pa7i4q/checkpoints/epoch=99-step=7900.ckpt\n"
     ]
    },
    {
     "name": "stdout",
     "output_type": "stream",
     "text": [
      "Testing DataLoader 0: 100%|██████████| 79/79 [00:04<00:00, 16.89it/s] \n",
      "────────────────────────────────────────────────────────────────────────────────────────────────────────────────────────\n",
      "       Test metric             DataLoader 0\n",
      "────────────────────────────────────────────────────────────────────────────────────────────────────────────────────────\n",
      "        AUC_FGSM            0.10000000149011612\n",
      "        AUC_Noise           0.10000000149011612\n",
      "        test_acc            0.10000000149011612\n",
      "────────────────────────────────────────────────────────────────────────────────────────────────────────────────────────\n"
     ]
    },
    {
     "data": {
      "text/html": [
       "<style>\n",
       "    table.wandb td:nth-child(1) { padding: 0 10px; text-align: left ; width: auto;} td:nth-child(2) {text-align: left ; width: 100%}\n",
       "    .wandb-row { display: flex; flex-direction: row; flex-wrap: wrap; justify-content: flex-start; width: 100% }\n",
       "    .wandb-col { display: flex; flex-direction: column; flex-basis: 100%; flex: 1; padding: 10px; }\n",
       "    </style>\n",
       "<div class=\"wandb-row\"><div class=\"wandb-col\"><h3>Run history:</h3><br/><table class=\"wandb\"><tr><td>AUC_FGSM</td><td>▁</td></tr><tr><td>AUC_Noise</td><td>▁</td></tr><tr><td>epoch</td><td>▁▁▁▁▂▂▂▂▂▃▃▃▃▃▃▄▄▄▄▄▅▅▅▅▅▅▆▆▆▆▆▇▇▇▇▇▇███</td></tr><tr><td>lr</td><td>▁</td></tr><tr><td>test_acc</td><td>▁</td></tr><tr><td>train_acc</td><td>▆▄▄▄▆▅█▅▂▇▅▃▃▅▁▆▅▆▅▄▅▆▅▅▃▅▃▃▆▁▃█▃▇▆▅▅▆▅▄</td></tr><tr><td>trainer/global_step</td><td>▁▁▁▂▂▂▂▂▂▃▃▃▃▃▄▄▄▄▄▄▅▅▅▅▅▅▆▆▆▆▆▇▇▇▇▇▇███</td></tr></table><br/></div><div class=\"wandb-col\"><h3>Run summary:</h3><br/><table class=\"wandb\"><tr><td>AUC_FGSM</td><td>0.1</td></tr><tr><td>AUC_Noise</td><td>0.1</td></tr><tr><td>distillation_type</td><td>random</td></tr><tr><td>epoch</td><td>100</td></tr><tr><td>lr</td><td>0.1</td></tr><tr><td>model_name</td><td>very_tiny</td></tr><tr><td>optimizer</td><td>SGD</td></tr><tr><td>test_acc</td><td>0.1</td></tr><tr><td>train_acc</td><td>0.08594</td></tr><tr><td>train_loss</td><td>nan</td></tr><tr><td>trainer/global_step</td><td>7900</td></tr></table><br/></div></div>"
      ],
      "text/plain": [
       "<IPython.core.display.HTML object>"
      ]
     },
     "metadata": {},
     "output_type": "display_data"
    },
    {
     "data": {
      "text/html": [
       " View run <strong style=\"color:#cdcd00\">serene-salad-292</strong> at: <a href='https://wandb.ai/potapuch2001/Oleinik-BS-Thesis-code/runs/12pa7i4q' target=\"_blank\">https://wandb.ai/potapuch2001/Oleinik-BS-Thesis-code/runs/12pa7i4q</a><br/> View project at: <a href='https://wandb.ai/potapuch2001/Oleinik-BS-Thesis-code' target=\"_blank\">https://wandb.ai/potapuch2001/Oleinik-BS-Thesis-code</a><br/>Synced 6 W&B file(s), 3 media file(s), 2 artifact file(s) and 0 other file(s)"
      ],
      "text/plain": [
       "<IPython.core.display.HTML object>"
      ]
     },
     "metadata": {},
     "output_type": "display_data"
    },
    {
     "data": {
      "text/html": [
       "Find logs at: <code>./wandb/run-20240623_032805-12pa7i4q/logs</code>"
      ],
      "text/plain": [
       "<IPython.core.display.HTML object>"
      ]
     },
     "metadata": {},
     "output_type": "display_data"
    },
    {
     "data": {
      "text/html": [
       "wandb version 0.17.2 is available!  To upgrade, please run:\n",
       " $ pip install wandb --upgrade"
      ],
      "text/plain": [
       "<IPython.core.display.HTML object>"
      ]
     },
     "metadata": {},
     "output_type": "display_data"
    },
    {
     "data": {
      "text/html": [
       "Tracking run with wandb version 0.16.6"
      ],
      "text/plain": [
       "<IPython.core.display.HTML object>"
      ]
     },
     "metadata": {},
     "output_type": "display_data"
    },
    {
     "data": {
      "text/html": [
       "Run data is saved locally in <code>/home/ganddalf/MIPT/Kafedra/Oleinik-BS-Thesis/code/wandb/run-20240623_033257-gm2zc8zz</code>"
      ],
      "text/plain": [
       "<IPython.core.display.HTML object>"
      ]
     },
     "metadata": {},
     "output_type": "display_data"
    },
    {
     "data": {
      "text/html": [
       "Syncing run <strong><a href='https://wandb.ai/potapuch2001/Oleinik-BS-Thesis-code/runs/gm2zc8zz' target=\"_blank\">brisk-galaxy-293</a></strong> to <a href='https://wandb.ai/potapuch2001/Oleinik-BS-Thesis-code' target=\"_blank\">Weights & Biases</a> (<a href='https://wandb.me/run' target=\"_blank\">docs</a>)<br/>"
      ],
      "text/plain": [
       "<IPython.core.display.HTML object>"
      ]
     },
     "metadata": {},
     "output_type": "display_data"
    },
    {
     "data": {
      "text/html": [
       " View project at <a href='https://wandb.ai/potapuch2001/Oleinik-BS-Thesis-code' target=\"_blank\">https://wandb.ai/potapuch2001/Oleinik-BS-Thesis-code</a>"
      ],
      "text/plain": [
       "<IPython.core.display.HTML object>"
      ]
     },
     "metadata": {},
     "output_type": "display_data"
    },
    {
     "data": {
      "text/html": [
       " View run at <a href='https://wandb.ai/potapuch2001/Oleinik-BS-Thesis-code/runs/gm2zc8zz' target=\"_blank\">https://wandb.ai/potapuch2001/Oleinik-BS-Thesis-code/runs/gm2zc8zz</a>"
      ],
      "text/plain": [
       "<IPython.core.display.HTML object>"
      ]
     },
     "metadata": {},
     "output_type": "display_data"
    },
    {
     "name": "stderr",
     "output_type": "stream",
     "text": [
      "GPU available: True (cuda), used: True\n",
      "TPU available: False, using: 0 TPU cores\n",
      "IPU available: False, using: 0 IPUs\n",
      "HPU available: False, using: 0 HPUs\n",
      "/home/ganddalf/anaconda3/envs/dl/lib/python3.12/site-packages/lightning/pytorch/loggers/wandb.py:391: There is a wandb run already in progress and newly created instances of `WandbLogger` will reuse this run. If this is not desired, call `wandb.finish()` before instantiating `WandbLogger`.\n",
      "LOCAL_RANK: 0 - CUDA_VISIBLE_DEVICES: [0]\n",
      "\n",
      "  | Name    | Type             | Params\n",
      "---------------------------------------------\n",
      "0 | student | Cifar_Very_Tiny  | 15.1 K\n",
      "1 | teacher | Cifar_Tiny       | 58.0 K\n",
      "2 | loss    | CrossEntropyLoss | 0     \n",
      "---------------------------------------------\n",
      "15.1 K    Trainable params\n",
      "58.0 K    Non-trainable params\n",
      "73.0 K    Total params\n",
      "0.292     Total estimated model params size (MB)\n"
     ]
    },
    {
     "name": "stdout",
     "output_type": "stream",
     "text": [
      "Epoch 99: 100%|██████████| 79/79 [00:02<00:00, 26.97it/s, v_num=c8zz]"
     ]
    },
    {
     "name": "stderr",
     "output_type": "stream",
     "text": [
      "`Trainer.fit` stopped: `max_epochs=100` reached.\n"
     ]
    },
    {
     "name": "stdout",
     "output_type": "stream",
     "text": [
      "Epoch 99: 100%|██████████| 79/79 [00:02<00:00, 26.86it/s, v_num=c8zz]\n"
     ]
    },
    {
     "name": "stderr",
     "output_type": "stream",
     "text": [
      "/home/ganddalf/anaconda3/envs/dl/lib/python3.12/site-packages/lightning/pytorch/trainer/connectors/checkpoint_connector.py:145: `.test(ckpt_path=None)` was called without a model. The best model of the previous `fit` call will be used. You can pass `.test(ckpt_path='best')` to use the best model or `.test(ckpt_path='last')` to use the last model. If you pass a value, this warning will be silenced.\n",
      "Restoring states from the checkpoint path at ./lightning_logs/gm2zc8zz/checkpoints/epoch=99-step=7900.ckpt\n",
      "LOCAL_RANK: 0 - CUDA_VISIBLE_DEVICES: [0]\n",
      "Loaded model weights from the checkpoint at ./lightning_logs/gm2zc8zz/checkpoints/epoch=99-step=7900.ckpt\n"
     ]
    },
    {
     "name": "stdout",
     "output_type": "stream",
     "text": [
      "Testing DataLoader 0: 100%|██████████| 79/79 [00:05<00:00, 14.71it/s] \n",
      "────────────────────────────────────────────────────────────────────────────────────────────────────────────────────────\n",
      "       Test metric             DataLoader 0\n",
      "────────────────────────────────────────────────────────────────────────────────────────────────────────────────────────\n",
      "        AUC_FGSM            0.10000000149011612\n",
      "        AUC_Noise           0.10000000149011612\n",
      "        test_acc            0.10000000149011612\n",
      "────────────────────────────────────────────────────────────────────────────────────────────────────────────────────────\n"
     ]
    },
    {
     "data": {
      "text/html": [
       "<style>\n",
       "    table.wandb td:nth-child(1) { padding: 0 10px; text-align: left ; width: auto;} td:nth-child(2) {text-align: left ; width: 100%}\n",
       "    .wandb-row { display: flex; flex-direction: row; flex-wrap: wrap; justify-content: flex-start; width: 100% }\n",
       "    .wandb-col { display: flex; flex-direction: column; flex-basis: 100%; flex: 1; padding: 10px; }\n",
       "    </style>\n",
       "<div class=\"wandb-row\"><div class=\"wandb-col\"><h3>Run history:</h3><br/><table class=\"wandb\"><tr><td>AUC_FGSM</td><td>▁</td></tr><tr><td>AUC_Noise</td><td>▁</td></tr><tr><td>epoch</td><td>▁▁▁▁▂▂▂▂▂▃▃▃▃▃▃▄▄▄▄▄▅▅▅▅▅▅▆▆▆▆▆▇▇▇▇▇▇███</td></tr><tr><td>lr</td><td>▁</td></tr><tr><td>test_acc</td><td>▁</td></tr><tr><td>train_acc</td><td>▆▄▄▄▆▅█▅▂▇▅▃▃▅▁▆▅▆▅▄▅▆▅▅▃▅▃▃▆▁▃█▃▇▆▅▅▆▅▄</td></tr><tr><td>trainer/global_step</td><td>▁▁▁▂▂▂▂▂▂▃▃▃▃▃▄▄▄▄▄▄▅▅▅▅▅▅▆▆▆▆▆▇▇▇▇▇▇███</td></tr></table><br/></div><div class=\"wandb-col\"><h3>Run summary:</h3><br/><table class=\"wandb\"><tr><td>AUC_FGSM</td><td>0.1</td></tr><tr><td>AUC_Noise</td><td>0.1</td></tr><tr><td>distillation_type</td><td>random</td></tr><tr><td>epoch</td><td>100</td></tr><tr><td>lr</td><td>0.1</td></tr><tr><td>model_name</td><td>very_tiny</td></tr><tr><td>optimizer</td><td>SGD</td></tr><tr><td>test_acc</td><td>0.1</td></tr><tr><td>train_acc</td><td>0.08594</td></tr><tr><td>train_loss</td><td>nan</td></tr><tr><td>trainer/global_step</td><td>7900</td></tr></table><br/></div></div>"
      ],
      "text/plain": [
       "<IPython.core.display.HTML object>"
      ]
     },
     "metadata": {},
     "output_type": "display_data"
    },
    {
     "data": {
      "text/html": [
       " View run <strong style=\"color:#cdcd00\">brisk-galaxy-293</strong> at: <a href='https://wandb.ai/potapuch2001/Oleinik-BS-Thesis-code/runs/gm2zc8zz' target=\"_blank\">https://wandb.ai/potapuch2001/Oleinik-BS-Thesis-code/runs/gm2zc8zz</a><br/> View project at: <a href='https://wandb.ai/potapuch2001/Oleinik-BS-Thesis-code' target=\"_blank\">https://wandb.ai/potapuch2001/Oleinik-BS-Thesis-code</a><br/>Synced 6 W&B file(s), 3 media file(s), 2 artifact file(s) and 0 other file(s)"
      ],
      "text/plain": [
       "<IPython.core.display.HTML object>"
      ]
     },
     "metadata": {},
     "output_type": "display_data"
    },
    {
     "data": {
      "text/html": [
       "Find logs at: <code>./wandb/run-20240623_033257-gm2zc8zz/logs</code>"
      ],
      "text/plain": [
       "<IPython.core.display.HTML object>"
      ]
     },
     "metadata": {},
     "output_type": "display_data"
    },
    {
     "data": {
      "text/html": [
       "wandb version 0.17.2 is available!  To upgrade, please run:\n",
       " $ pip install wandb --upgrade"
      ],
      "text/plain": [
       "<IPython.core.display.HTML object>"
      ]
     },
     "metadata": {},
     "output_type": "display_data"
    },
    {
     "data": {
      "text/html": [
       "Tracking run with wandb version 0.16.6"
      ],
      "text/plain": [
       "<IPython.core.display.HTML object>"
      ]
     },
     "metadata": {},
     "output_type": "display_data"
    },
    {
     "data": {
      "text/html": [
       "Run data is saved locally in <code>/home/ganddalf/MIPT/Kafedra/Oleinik-BS-Thesis/code/wandb/run-20240623_033749-8nsmei7x</code>"
      ],
      "text/plain": [
       "<IPython.core.display.HTML object>"
      ]
     },
     "metadata": {},
     "output_type": "display_data"
    },
    {
     "data": {
      "text/html": [
       "Syncing run <strong><a href='https://wandb.ai/potapuch2001/Oleinik-BS-Thesis-code/runs/8nsmei7x' target=\"_blank\">vocal-smoke-294</a></strong> to <a href='https://wandb.ai/potapuch2001/Oleinik-BS-Thesis-code' target=\"_blank\">Weights & Biases</a> (<a href='https://wandb.me/run' target=\"_blank\">docs</a>)<br/>"
      ],
      "text/plain": [
       "<IPython.core.display.HTML object>"
      ]
     },
     "metadata": {},
     "output_type": "display_data"
    },
    {
     "data": {
      "text/html": [
       " View project at <a href='https://wandb.ai/potapuch2001/Oleinik-BS-Thesis-code' target=\"_blank\">https://wandb.ai/potapuch2001/Oleinik-BS-Thesis-code</a>"
      ],
      "text/plain": [
       "<IPython.core.display.HTML object>"
      ]
     },
     "metadata": {},
     "output_type": "display_data"
    },
    {
     "data": {
      "text/html": [
       " View run at <a href='https://wandb.ai/potapuch2001/Oleinik-BS-Thesis-code/runs/8nsmei7x' target=\"_blank\">https://wandb.ai/potapuch2001/Oleinik-BS-Thesis-code/runs/8nsmei7x</a>"
      ],
      "text/plain": [
       "<IPython.core.display.HTML object>"
      ]
     },
     "metadata": {},
     "output_type": "display_data"
    },
    {
     "name": "stderr",
     "output_type": "stream",
     "text": [
      "GPU available: True (cuda), used: True\n",
      "TPU available: False, using: 0 TPU cores\n",
      "IPU available: False, using: 0 IPUs\n",
      "HPU available: False, using: 0 HPUs\n",
      "/home/ganddalf/anaconda3/envs/dl/lib/python3.12/site-packages/lightning/pytorch/loggers/wandb.py:391: There is a wandb run already in progress and newly created instances of `WandbLogger` will reuse this run. If this is not desired, call `wandb.finish()` before instantiating `WandbLogger`.\n",
      "LOCAL_RANK: 0 - CUDA_VISIBLE_DEVICES: [0]\n",
      "\n",
      "  | Name    | Type             | Params\n",
      "---------------------------------------------\n",
      "0 | student | Cifar_Very_Tiny  | 15.1 K\n",
      "1 | teacher | Cifar_Tiny       | 58.0 K\n",
      "2 | loss    | CrossEntropyLoss | 0     \n",
      "---------------------------------------------\n",
      "15.1 K    Trainable params\n",
      "58.0 K    Non-trainable params\n",
      "73.0 K    Total params\n",
      "0.292     Total estimated model params size (MB)\n"
     ]
    },
    {
     "name": "stdout",
     "output_type": "stream",
     "text": [
      "Epoch 99: 100%|██████████| 79/79 [00:02<00:00, 27.27it/s, v_num=ei7x]"
     ]
    },
    {
     "name": "stderr",
     "output_type": "stream",
     "text": [
      "`Trainer.fit` stopped: `max_epochs=100` reached.\n"
     ]
    },
    {
     "name": "stdout",
     "output_type": "stream",
     "text": [
      "Epoch 99: 100%|██████████| 79/79 [00:02<00:00, 27.16it/s, v_num=ei7x]\n"
     ]
    },
    {
     "name": "stderr",
     "output_type": "stream",
     "text": [
      "/home/ganddalf/anaconda3/envs/dl/lib/python3.12/site-packages/lightning/pytorch/trainer/connectors/checkpoint_connector.py:145: `.test(ckpt_path=None)` was called without a model. The best model of the previous `fit` call will be used. You can pass `.test(ckpt_path='best')` to use the best model or `.test(ckpt_path='last')` to use the last model. If you pass a value, this warning will be silenced.\n",
      "Restoring states from the checkpoint path at ./lightning_logs/8nsmei7x/checkpoints/epoch=99-step=7900.ckpt\n",
      "LOCAL_RANK: 0 - CUDA_VISIBLE_DEVICES: [0]\n",
      "Loaded model weights from the checkpoint at ./lightning_logs/8nsmei7x/checkpoints/epoch=99-step=7900.ckpt\n"
     ]
    },
    {
     "name": "stdout",
     "output_type": "stream",
     "text": [
      "Testing DataLoader 0: 100%|██████████| 79/79 [00:04<00:00, 18.01it/s] \n",
      "────────────────────────────────────────────────────────────────────────────────────────────────────────────────────────\n",
      "       Test metric             DataLoader 0\n",
      "────────────────────────────────────────────────────────────────────────────────────────────────────────────────────────\n",
      "        AUC_FGSM            0.10000000149011612\n",
      "        AUC_Noise           0.10000000149011612\n",
      "        test_acc            0.10000000149011612\n",
      "────────────────────────────────────────────────────────────────────────────────────────────────────────────────────────\n"
     ]
    },
    {
     "data": {
      "text/html": [
       "<style>\n",
       "    table.wandb td:nth-child(1) { padding: 0 10px; text-align: left ; width: auto;} td:nth-child(2) {text-align: left ; width: 100%}\n",
       "    .wandb-row { display: flex; flex-direction: row; flex-wrap: wrap; justify-content: flex-start; width: 100% }\n",
       "    .wandb-col { display: flex; flex-direction: column; flex-basis: 100%; flex: 1; padding: 10px; }\n",
       "    </style>\n",
       "<div class=\"wandb-row\"><div class=\"wandb-col\"><h3>Run history:</h3><br/><table class=\"wandb\"><tr><td>AUC_FGSM</td><td>▁</td></tr><tr><td>AUC_Noise</td><td>▁</td></tr><tr><td>epoch</td><td>▁▁▁▁▂▂▂▂▂▃▃▃▃▃▃▄▄▄▄▄▅▅▅▅▅▅▆▆▆▆▆▇▇▇▇▇▇███</td></tr><tr><td>lr</td><td>▁</td></tr><tr><td>test_acc</td><td>▁</td></tr><tr><td>train_acc</td><td>▆▄▄▄▆▅█▅▂▇▅▃▃▅▁▆▅▆▅▄▅▆▅▅▃▅▃▃▆▁▃█▃▇▆▅▅▆▅▄</td></tr><tr><td>trainer/global_step</td><td>▁▁▁▂▂▂▂▂▂▃▃▃▃▃▄▄▄▄▄▄▅▅▅▅▅▅▆▆▆▆▆▇▇▇▇▇▇███</td></tr></table><br/></div><div class=\"wandb-col\"><h3>Run summary:</h3><br/><table class=\"wandb\"><tr><td>AUC_FGSM</td><td>0.1</td></tr><tr><td>AUC_Noise</td><td>0.1</td></tr><tr><td>distillation_type</td><td>random</td></tr><tr><td>epoch</td><td>100</td></tr><tr><td>lr</td><td>0.1</td></tr><tr><td>model_name</td><td>very_tiny</td></tr><tr><td>optimizer</td><td>SGD</td></tr><tr><td>test_acc</td><td>0.1</td></tr><tr><td>train_acc</td><td>0.08594</td></tr><tr><td>train_loss</td><td>nan</td></tr><tr><td>trainer/global_step</td><td>7900</td></tr></table><br/></div></div>"
      ],
      "text/plain": [
       "<IPython.core.display.HTML object>"
      ]
     },
     "metadata": {},
     "output_type": "display_data"
    },
    {
     "data": {
      "text/html": [
       " View run <strong style=\"color:#cdcd00\">vocal-smoke-294</strong> at: <a href='https://wandb.ai/potapuch2001/Oleinik-BS-Thesis-code/runs/8nsmei7x' target=\"_blank\">https://wandb.ai/potapuch2001/Oleinik-BS-Thesis-code/runs/8nsmei7x</a><br/> View project at: <a href='https://wandb.ai/potapuch2001/Oleinik-BS-Thesis-code' target=\"_blank\">https://wandb.ai/potapuch2001/Oleinik-BS-Thesis-code</a><br/>Synced 6 W&B file(s), 3 media file(s), 2 artifact file(s) and 0 other file(s)"
      ],
      "text/plain": [
       "<IPython.core.display.HTML object>"
      ]
     },
     "metadata": {},
     "output_type": "display_data"
    },
    {
     "data": {
      "text/html": [
       "Find logs at: <code>./wandb/run-20240623_033749-8nsmei7x/logs</code>"
      ],
      "text/plain": [
       "<IPython.core.display.HTML object>"
      ]
     },
     "metadata": {},
     "output_type": "display_data"
    },
    {
     "data": {
      "text/html": [
       "wandb version 0.17.2 is available!  To upgrade, please run:\n",
       " $ pip install wandb --upgrade"
      ],
      "text/plain": [
       "<IPython.core.display.HTML object>"
      ]
     },
     "metadata": {},
     "output_type": "display_data"
    },
    {
     "data": {
      "text/html": [
       "Tracking run with wandb version 0.16.6"
      ],
      "text/plain": [
       "<IPython.core.display.HTML object>"
      ]
     },
     "metadata": {},
     "output_type": "display_data"
    },
    {
     "data": {
      "text/html": [
       "Run data is saved locally in <code>/home/ganddalf/MIPT/Kafedra/Oleinik-BS-Thesis/code/wandb/run-20240623_034239-gq64humg</code>"
      ],
      "text/plain": [
       "<IPython.core.display.HTML object>"
      ]
     },
     "metadata": {},
     "output_type": "display_data"
    },
    {
     "data": {
      "text/html": [
       "Syncing run <strong><a href='https://wandb.ai/potapuch2001/Oleinik-BS-Thesis-code/runs/gq64humg' target=\"_blank\">dauntless-lion-295</a></strong> to <a href='https://wandb.ai/potapuch2001/Oleinik-BS-Thesis-code' target=\"_blank\">Weights & Biases</a> (<a href='https://wandb.me/run' target=\"_blank\">docs</a>)<br/>"
      ],
      "text/plain": [
       "<IPython.core.display.HTML object>"
      ]
     },
     "metadata": {},
     "output_type": "display_data"
    },
    {
     "data": {
      "text/html": [
       " View project at <a href='https://wandb.ai/potapuch2001/Oleinik-BS-Thesis-code' target=\"_blank\">https://wandb.ai/potapuch2001/Oleinik-BS-Thesis-code</a>"
      ],
      "text/plain": [
       "<IPython.core.display.HTML object>"
      ]
     },
     "metadata": {},
     "output_type": "display_data"
    },
    {
     "data": {
      "text/html": [
       " View run at <a href='https://wandb.ai/potapuch2001/Oleinik-BS-Thesis-code/runs/gq64humg' target=\"_blank\">https://wandb.ai/potapuch2001/Oleinik-BS-Thesis-code/runs/gq64humg</a>"
      ],
      "text/plain": [
       "<IPython.core.display.HTML object>"
      ]
     },
     "metadata": {},
     "output_type": "display_data"
    },
    {
     "name": "stderr",
     "output_type": "stream",
     "text": [
      "GPU available: True (cuda), used: True\n",
      "TPU available: False, using: 0 TPU cores\n",
      "IPU available: False, using: 0 IPUs\n",
      "HPU available: False, using: 0 HPUs\n",
      "/home/ganddalf/anaconda3/envs/dl/lib/python3.12/site-packages/lightning/pytorch/loggers/wandb.py:391: There is a wandb run already in progress and newly created instances of `WandbLogger` will reuse this run. If this is not desired, call `wandb.finish()` before instantiating `WandbLogger`.\n",
      "LOCAL_RANK: 0 - CUDA_VISIBLE_DEVICES: [0]\n",
      "\n",
      "  | Name    | Type             | Params\n",
      "---------------------------------------------\n",
      "0 | student | Cifar_Very_Tiny  | 15.1 K\n",
      "1 | teacher | Cifar_Tiny       | 58.0 K\n",
      "2 | loss    | CrossEntropyLoss | 0     \n",
      "---------------------------------------------\n",
      "15.1 K    Trainable params\n",
      "58.0 K    Non-trainable params\n",
      "73.0 K    Total params\n",
      "0.292     Total estimated model params size (MB)\n"
     ]
    },
    {
     "name": "stdout",
     "output_type": "stream",
     "text": [
      "Epoch 99: 100%|██████████| 79/79 [00:02<00:00, 27.45it/s, v_num=humg]"
     ]
    },
    {
     "name": "stderr",
     "output_type": "stream",
     "text": [
      "`Trainer.fit` stopped: `max_epochs=100` reached.\n"
     ]
    },
    {
     "name": "stdout",
     "output_type": "stream",
     "text": [
      "Epoch 99: 100%|██████████| 79/79 [00:02<00:00, 27.37it/s, v_num=humg]\n"
     ]
    },
    {
     "name": "stderr",
     "output_type": "stream",
     "text": [
      "/home/ganddalf/anaconda3/envs/dl/lib/python3.12/site-packages/lightning/pytorch/trainer/connectors/checkpoint_connector.py:145: `.test(ckpt_path=None)` was called without a model. The best model of the previous `fit` call will be used. You can pass `.test(ckpt_path='best')` to use the best model or `.test(ckpt_path='last')` to use the last model. If you pass a value, this warning will be silenced.\n",
      "Restoring states from the checkpoint path at ./lightning_logs/gq64humg/checkpoints/epoch=99-step=7900.ckpt\n",
      "LOCAL_RANK: 0 - CUDA_VISIBLE_DEVICES: [0]\n",
      "Loaded model weights from the checkpoint at ./lightning_logs/gq64humg/checkpoints/epoch=99-step=7900.ckpt\n"
     ]
    },
    {
     "name": "stdout",
     "output_type": "stream",
     "text": [
      "Testing DataLoader 0: 100%|██████████| 79/79 [00:04<00:00, 17.86it/s] \n",
      "────────────────────────────────────────────────────────────────────────────────────────────────────────────────────────\n",
      "       Test metric             DataLoader 0\n",
      "────────────────────────────────────────────────────────────────────────────────────────────────────────────────────────\n",
      "        AUC_FGSM            0.10000000149011612\n",
      "        AUC_Noise           0.10000000149011612\n",
      "        test_acc            0.10000000149011612\n",
      "────────────────────────────────────────────────────────────────────────────────────────────────────────────────────────\n"
     ]
    },
    {
     "data": {
      "text/html": [
       "<style>\n",
       "    table.wandb td:nth-child(1) { padding: 0 10px; text-align: left ; width: auto;} td:nth-child(2) {text-align: left ; width: 100%}\n",
       "    .wandb-row { display: flex; flex-direction: row; flex-wrap: wrap; justify-content: flex-start; width: 100% }\n",
       "    .wandb-col { display: flex; flex-direction: column; flex-basis: 100%; flex: 1; padding: 10px; }\n",
       "    </style>\n",
       "<div class=\"wandb-row\"><div class=\"wandb-col\"><h3>Run history:</h3><br/><table class=\"wandb\"><tr><td>AUC_FGSM</td><td>▁</td></tr><tr><td>AUC_Noise</td><td>▁</td></tr><tr><td>epoch</td><td>▁▁▁▁▂▂▂▂▂▃▃▃▃▃▃▄▄▄▄▄▅▅▅▅▅▅▆▆▆▆▆▇▇▇▇▇▇███</td></tr><tr><td>lr</td><td>▁</td></tr><tr><td>test_acc</td><td>▁</td></tr><tr><td>train_acc</td><td>▆▄▄▄▆▅█▅▂▇▅▃▃▅▁▆▅▆▅▄▅▆▅▅▃▅▃▃▆▁▃█▃▇▆▅▅▆▅▄</td></tr><tr><td>trainer/global_step</td><td>▁▁▁▂▂▂▂▂▂▃▃▃▃▃▄▄▄▄▄▄▅▅▅▅▅▅▆▆▆▆▆▇▇▇▇▇▇███</td></tr></table><br/></div><div class=\"wandb-col\"><h3>Run summary:</h3><br/><table class=\"wandb\"><tr><td>AUC_FGSM</td><td>0.1</td></tr><tr><td>AUC_Noise</td><td>0.1</td></tr><tr><td>distillation_type</td><td>random</td></tr><tr><td>epoch</td><td>100</td></tr><tr><td>lr</td><td>0.1</td></tr><tr><td>model_name</td><td>very_tiny</td></tr><tr><td>optimizer</td><td>SGD</td></tr><tr><td>test_acc</td><td>0.1</td></tr><tr><td>train_acc</td><td>0.08594</td></tr><tr><td>train_loss</td><td>nan</td></tr><tr><td>trainer/global_step</td><td>7900</td></tr></table><br/></div></div>"
      ],
      "text/plain": [
       "<IPython.core.display.HTML object>"
      ]
     },
     "metadata": {},
     "output_type": "display_data"
    },
    {
     "data": {
      "text/html": [
       " View run <strong style=\"color:#cdcd00\">dauntless-lion-295</strong> at: <a href='https://wandb.ai/potapuch2001/Oleinik-BS-Thesis-code/runs/gq64humg' target=\"_blank\">https://wandb.ai/potapuch2001/Oleinik-BS-Thesis-code/runs/gq64humg</a><br/> View project at: <a href='https://wandb.ai/potapuch2001/Oleinik-BS-Thesis-code' target=\"_blank\">https://wandb.ai/potapuch2001/Oleinik-BS-Thesis-code</a><br/>Synced 6 W&B file(s), 3 media file(s), 2 artifact file(s) and 0 other file(s)"
      ],
      "text/plain": [
       "<IPython.core.display.HTML object>"
      ]
     },
     "metadata": {},
     "output_type": "display_data"
    },
    {
     "data": {
      "text/html": [
       "Find logs at: <code>./wandb/run-20240623_034239-gq64humg/logs</code>"
      ],
      "text/plain": [
       "<IPython.core.display.HTML object>"
      ]
     },
     "metadata": {},
     "output_type": "display_data"
    },
    {
     "data": {
      "text/html": [
       "wandb version 0.17.2 is available!  To upgrade, please run:\n",
       " $ pip install wandb --upgrade"
      ],
      "text/plain": [
       "<IPython.core.display.HTML object>"
      ]
     },
     "metadata": {},
     "output_type": "display_data"
    },
    {
     "data": {
      "text/html": [
       "Tracking run with wandb version 0.16.6"
      ],
      "text/plain": [
       "<IPython.core.display.HTML object>"
      ]
     },
     "metadata": {},
     "output_type": "display_data"
    },
    {
     "data": {
      "text/html": [
       "Run data is saved locally in <code>/home/ganddalf/MIPT/Kafedra/Oleinik-BS-Thesis/code/wandb/run-20240623_034729-u9rqaq5e</code>"
      ],
      "text/plain": [
       "<IPython.core.display.HTML object>"
      ]
     },
     "metadata": {},
     "output_type": "display_data"
    },
    {
     "data": {
      "text/html": [
       "Syncing run <strong><a href='https://wandb.ai/potapuch2001/Oleinik-BS-Thesis-code/runs/u9rqaq5e' target=\"_blank\">icy-energy-296</a></strong> to <a href='https://wandb.ai/potapuch2001/Oleinik-BS-Thesis-code' target=\"_blank\">Weights & Biases</a> (<a href='https://wandb.me/run' target=\"_blank\">docs</a>)<br/>"
      ],
      "text/plain": [
       "<IPython.core.display.HTML object>"
      ]
     },
     "metadata": {},
     "output_type": "display_data"
    },
    {
     "data": {
      "text/html": [
       " View project at <a href='https://wandb.ai/potapuch2001/Oleinik-BS-Thesis-code' target=\"_blank\">https://wandb.ai/potapuch2001/Oleinik-BS-Thesis-code</a>"
      ],
      "text/plain": [
       "<IPython.core.display.HTML object>"
      ]
     },
     "metadata": {},
     "output_type": "display_data"
    },
    {
     "data": {
      "text/html": [
       " View run at <a href='https://wandb.ai/potapuch2001/Oleinik-BS-Thesis-code/runs/u9rqaq5e' target=\"_blank\">https://wandb.ai/potapuch2001/Oleinik-BS-Thesis-code/runs/u9rqaq5e</a>"
      ],
      "text/plain": [
       "<IPython.core.display.HTML object>"
      ]
     },
     "metadata": {},
     "output_type": "display_data"
    },
    {
     "name": "stderr",
     "output_type": "stream",
     "text": [
      "GPU available: True (cuda), used: True\n",
      "TPU available: False, using: 0 TPU cores\n",
      "IPU available: False, using: 0 IPUs\n",
      "HPU available: False, using: 0 HPUs\n",
      "/home/ganddalf/anaconda3/envs/dl/lib/python3.12/site-packages/lightning/pytorch/loggers/wandb.py:391: There is a wandb run already in progress and newly created instances of `WandbLogger` will reuse this run. If this is not desired, call `wandb.finish()` before instantiating `WandbLogger`.\n",
      "LOCAL_RANK: 0 - CUDA_VISIBLE_DEVICES: [0]\n",
      "\n",
      "  | Name    | Type             | Params\n",
      "---------------------------------------------\n",
      "0 | student | Cifar_Very_Tiny  | 15.1 K\n",
      "1 | teacher | Cifar_Tiny       | 58.0 K\n",
      "2 | loss    | CrossEntropyLoss | 0     \n",
      "---------------------------------------------\n",
      "15.1 K    Trainable params\n",
      "58.0 K    Non-trainable params\n",
      "73.0 K    Total params\n",
      "0.292     Total estimated model params size (MB)\n"
     ]
    },
    {
     "name": "stdout",
     "output_type": "stream",
     "text": [
      "Epoch 99: 100%|██████████| 79/79 [00:02<00:00, 29.42it/s, v_num=aq5e]"
     ]
    },
    {
     "name": "stderr",
     "output_type": "stream",
     "text": [
      "`Trainer.fit` stopped: `max_epochs=100` reached.\n"
     ]
    },
    {
     "name": "stdout",
     "output_type": "stream",
     "text": [
      "Epoch 99: 100%|██████████| 79/79 [00:02<00:00, 29.22it/s, v_num=aq5e]\n"
     ]
    },
    {
     "name": "stderr",
     "output_type": "stream",
     "text": [
      "/home/ganddalf/anaconda3/envs/dl/lib/python3.12/site-packages/lightning/pytorch/trainer/connectors/checkpoint_connector.py:145: `.test(ckpt_path=None)` was called without a model. The best model of the previous `fit` call will be used. You can pass `.test(ckpt_path='best')` to use the best model or `.test(ckpt_path='last')` to use the last model. If you pass a value, this warning will be silenced.\n",
      "Restoring states from the checkpoint path at ./lightning_logs/u9rqaq5e/checkpoints/epoch=99-step=7900.ckpt\n",
      "LOCAL_RANK: 0 - CUDA_VISIBLE_DEVICES: [0]\n",
      "Loaded model weights from the checkpoint at ./lightning_logs/u9rqaq5e/checkpoints/epoch=99-step=7900.ckpt\n"
     ]
    },
    {
     "name": "stdout",
     "output_type": "stream",
     "text": [
      "Testing DataLoader 0: 100%|██████████| 79/79 [00:04<00:00, 17.94it/s] \n",
      "────────────────────────────────────────────────────────────────────────────────────────────────────────────────────────\n",
      "       Test metric             DataLoader 0\n",
      "────────────────────────────────────────────────────────────────────────────────────────────────────────────────────────\n",
      "        AUC_FGSM            0.10000000149011612\n",
      "        AUC_Noise           0.10000000149011612\n",
      "        test_acc            0.10000000149011612\n",
      "────────────────────────────────────────────────────────────────────────────────────────────────────────────────────────\n"
     ]
    },
    {
     "data": {
      "text/html": [
       "<style>\n",
       "    table.wandb td:nth-child(1) { padding: 0 10px; text-align: left ; width: auto;} td:nth-child(2) {text-align: left ; width: 100%}\n",
       "    .wandb-row { display: flex; flex-direction: row; flex-wrap: wrap; justify-content: flex-start; width: 100% }\n",
       "    .wandb-col { display: flex; flex-direction: column; flex-basis: 100%; flex: 1; padding: 10px; }\n",
       "    </style>\n",
       "<div class=\"wandb-row\"><div class=\"wandb-col\"><h3>Run history:</h3><br/><table class=\"wandb\"><tr><td>AUC_FGSM</td><td>▁</td></tr><tr><td>AUC_Noise</td><td>▁</td></tr><tr><td>epoch</td><td>▁▁▁▁▂▂▂▂▂▃▃▃▃▃▃▄▄▄▄▄▅▅▅▅▅▅▆▆▆▆▆▇▇▇▇▇▇███</td></tr><tr><td>lr</td><td>▁</td></tr><tr><td>test_acc</td><td>▁</td></tr><tr><td>train_acc</td><td>▆▄▄▄▆▅█▅▂▇▅▃▃▅▁▆▅▆▅▄▅▆▅▅▃▅▃▃▆▁▃█▃▇▆▅▅▆▅▄</td></tr><tr><td>trainer/global_step</td><td>▁▁▁▂▂▂▂▂▂▃▃▃▃▃▄▄▄▄▄▄▅▅▅▅▅▅▆▆▆▆▆▇▇▇▇▇▇███</td></tr></table><br/></div><div class=\"wandb-col\"><h3>Run summary:</h3><br/><table class=\"wandb\"><tr><td>AUC_FGSM</td><td>0.1</td></tr><tr><td>AUC_Noise</td><td>0.1</td></tr><tr><td>distillation_type</td><td>random</td></tr><tr><td>epoch</td><td>100</td></tr><tr><td>lr</td><td>0.1</td></tr><tr><td>model_name</td><td>very_tiny</td></tr><tr><td>optimizer</td><td>SGD</td></tr><tr><td>test_acc</td><td>0.1</td></tr><tr><td>train_acc</td><td>0.08594</td></tr><tr><td>train_loss</td><td>nan</td></tr><tr><td>trainer/global_step</td><td>7900</td></tr></table><br/></div></div>"
      ],
      "text/plain": [
       "<IPython.core.display.HTML object>"
      ]
     },
     "metadata": {},
     "output_type": "display_data"
    },
    {
     "data": {
      "text/html": [
       " View run <strong style=\"color:#cdcd00\">icy-energy-296</strong> at: <a href='https://wandb.ai/potapuch2001/Oleinik-BS-Thesis-code/runs/u9rqaq5e' target=\"_blank\">https://wandb.ai/potapuch2001/Oleinik-BS-Thesis-code/runs/u9rqaq5e</a><br/> View project at: <a href='https://wandb.ai/potapuch2001/Oleinik-BS-Thesis-code' target=\"_blank\">https://wandb.ai/potapuch2001/Oleinik-BS-Thesis-code</a><br/>Synced 6 W&B file(s), 3 media file(s), 2 artifact file(s) and 0 other file(s)"
      ],
      "text/plain": [
       "<IPython.core.display.HTML object>"
      ]
     },
     "metadata": {},
     "output_type": "display_data"
    },
    {
     "data": {
      "text/html": [
       "Find logs at: <code>./wandb/run-20240623_034729-u9rqaq5e/logs</code>"
      ],
      "text/plain": [
       "<IPython.core.display.HTML object>"
      ]
     },
     "metadata": {},
     "output_type": "display_data"
    },
    {
     "data": {
      "text/html": [
       "wandb version 0.17.2 is available!  To upgrade, please run:\n",
       " $ pip install wandb --upgrade"
      ],
      "text/plain": [
       "<IPython.core.display.HTML object>"
      ]
     },
     "metadata": {},
     "output_type": "display_data"
    },
    {
     "data": {
      "text/html": [
       "Tracking run with wandb version 0.16.6"
      ],
      "text/plain": [
       "<IPython.core.display.HTML object>"
      ]
     },
     "metadata": {},
     "output_type": "display_data"
    },
    {
     "data": {
      "text/html": [
       "Run data is saved locally in <code>/home/ganddalf/MIPT/Kafedra/Oleinik-BS-Thesis/code/wandb/run-20240623_035221-btdzraz2</code>"
      ],
      "text/plain": [
       "<IPython.core.display.HTML object>"
      ]
     },
     "metadata": {},
     "output_type": "display_data"
    },
    {
     "data": {
      "text/html": [
       "Syncing run <strong><a href='https://wandb.ai/potapuch2001/Oleinik-BS-Thesis-code/runs/btdzraz2' target=\"_blank\">ruby-snowflake-297</a></strong> to <a href='https://wandb.ai/potapuch2001/Oleinik-BS-Thesis-code' target=\"_blank\">Weights & Biases</a> (<a href='https://wandb.me/run' target=\"_blank\">docs</a>)<br/>"
      ],
      "text/plain": [
       "<IPython.core.display.HTML object>"
      ]
     },
     "metadata": {},
     "output_type": "display_data"
    },
    {
     "data": {
      "text/html": [
       " View project at <a href='https://wandb.ai/potapuch2001/Oleinik-BS-Thesis-code' target=\"_blank\">https://wandb.ai/potapuch2001/Oleinik-BS-Thesis-code</a>"
      ],
      "text/plain": [
       "<IPython.core.display.HTML object>"
      ]
     },
     "metadata": {},
     "output_type": "display_data"
    },
    {
     "data": {
      "text/html": [
       " View run at <a href='https://wandb.ai/potapuch2001/Oleinik-BS-Thesis-code/runs/btdzraz2' target=\"_blank\">https://wandb.ai/potapuch2001/Oleinik-BS-Thesis-code/runs/btdzraz2</a>"
      ],
      "text/plain": [
       "<IPython.core.display.HTML object>"
      ]
     },
     "metadata": {},
     "output_type": "display_data"
    },
    {
     "name": "stderr",
     "output_type": "stream",
     "text": [
      "GPU available: True (cuda), used: True\n",
      "TPU available: False, using: 0 TPU cores\n",
      "IPU available: False, using: 0 IPUs\n",
      "HPU available: False, using: 0 HPUs\n",
      "/home/ganddalf/anaconda3/envs/dl/lib/python3.12/site-packages/lightning/pytorch/loggers/wandb.py:391: There is a wandb run already in progress and newly created instances of `WandbLogger` will reuse this run. If this is not desired, call `wandb.finish()` before instantiating `WandbLogger`.\n",
      "LOCAL_RANK: 0 - CUDA_VISIBLE_DEVICES: [0]\n",
      "\n",
      "  | Name    | Type             | Params\n",
      "---------------------------------------------\n",
      "0 | student | Cifar_Very_Tiny  | 15.1 K\n",
      "1 | teacher | Cifar_Tiny       | 58.0 K\n",
      "2 | loss    | CrossEntropyLoss | 0     \n",
      "---------------------------------------------\n",
      "15.1 K    Trainable params\n",
      "58.0 K    Non-trainable params\n",
      "73.0 K    Total params\n",
      "0.292     Total estimated model params size (MB)\n"
     ]
    },
    {
     "name": "stdout",
     "output_type": "stream",
     "text": [
      "Epoch 99: 100%|██████████| 79/79 [00:02<00:00, 26.48it/s, v_num=raz2]"
     ]
    },
    {
     "name": "stderr",
     "output_type": "stream",
     "text": [
      "`Trainer.fit` stopped: `max_epochs=100` reached.\n"
     ]
    },
    {
     "name": "stdout",
     "output_type": "stream",
     "text": [
      "Epoch 99: 100%|██████████| 79/79 [00:02<00:00, 26.37it/s, v_num=raz2]\n"
     ]
    },
    {
     "name": "stderr",
     "output_type": "stream",
     "text": [
      "/home/ganddalf/anaconda3/envs/dl/lib/python3.12/site-packages/lightning/pytorch/trainer/connectors/checkpoint_connector.py:145: `.test(ckpt_path=None)` was called without a model. The best model of the previous `fit` call will be used. You can pass `.test(ckpt_path='best')` to use the best model or `.test(ckpt_path='last')` to use the last model. If you pass a value, this warning will be silenced.\n",
      "Restoring states from the checkpoint path at ./lightning_logs/btdzraz2/checkpoints/epoch=99-step=7900.ckpt\n",
      "LOCAL_RANK: 0 - CUDA_VISIBLE_DEVICES: [0]\n",
      "Loaded model weights from the checkpoint at ./lightning_logs/btdzraz2/checkpoints/epoch=99-step=7900.ckpt\n"
     ]
    },
    {
     "name": "stdout",
     "output_type": "stream",
     "text": [
      "Testing DataLoader 0: 100%|██████████| 79/79 [00:04<00:00, 18.61it/s]  \n",
      "────────────────────────────────────────────────────────────────────────────────────────────────────────────────────────\n",
      "       Test metric             DataLoader 0\n",
      "────────────────────────────────────────────────────────────────────────────────────────────────────────────────────────\n",
      "        AUC_FGSM            0.10000000149011612\n",
      "        AUC_Noise           0.10000000149011612\n",
      "        test_acc            0.10000000149011612\n",
      "────────────────────────────────────────────────────────────────────────────────────────────────────────────────────────\n"
     ]
    },
    {
     "data": {
      "text/html": [
       "<style>\n",
       "    table.wandb td:nth-child(1) { padding: 0 10px; text-align: left ; width: auto;} td:nth-child(2) {text-align: left ; width: 100%}\n",
       "    .wandb-row { display: flex; flex-direction: row; flex-wrap: wrap; justify-content: flex-start; width: 100% }\n",
       "    .wandb-col { display: flex; flex-direction: column; flex-basis: 100%; flex: 1; padding: 10px; }\n",
       "    </style>\n",
       "<div class=\"wandb-row\"><div class=\"wandb-col\"><h3>Run history:</h3><br/><table class=\"wandb\"><tr><td>AUC_FGSM</td><td>▁</td></tr><tr><td>AUC_Noise</td><td>▁</td></tr><tr><td>epoch</td><td>▁▁▁▁▂▂▂▂▂▃▃▃▃▃▃▄▄▄▄▄▅▅▅▅▅▅▆▆▆▆▆▇▇▇▇▇▇███</td></tr><tr><td>lr</td><td>▁</td></tr><tr><td>test_acc</td><td>▁</td></tr><tr><td>train_acc</td><td>▆▄▄▄▆▅█▅▂▇▅▃▃▅▁▆▅▆▅▄▅▆▅▅▃▅▃▃▆▁▃█▃▇▆▅▅▆▅▄</td></tr><tr><td>trainer/global_step</td><td>▁▁▁▂▂▂▂▂▂▃▃▃▃▃▄▄▄▄▄▄▅▅▅▅▅▅▆▆▆▆▆▇▇▇▇▇▇███</td></tr></table><br/></div><div class=\"wandb-col\"><h3>Run summary:</h3><br/><table class=\"wandb\"><tr><td>AUC_FGSM</td><td>0.1</td></tr><tr><td>AUC_Noise</td><td>0.1</td></tr><tr><td>distillation_type</td><td>random</td></tr><tr><td>epoch</td><td>100</td></tr><tr><td>lr</td><td>0.1</td></tr><tr><td>model_name</td><td>very_tiny</td></tr><tr><td>optimizer</td><td>SGD</td></tr><tr><td>test_acc</td><td>0.1</td></tr><tr><td>train_acc</td><td>0.08594</td></tr><tr><td>train_loss</td><td>nan</td></tr><tr><td>trainer/global_step</td><td>7900</td></tr></table><br/></div></div>"
      ],
      "text/plain": [
       "<IPython.core.display.HTML object>"
      ]
     },
     "metadata": {},
     "output_type": "display_data"
    },
    {
     "data": {
      "text/html": [
       " View run <strong style=\"color:#cdcd00\">ruby-snowflake-297</strong> at: <a href='https://wandb.ai/potapuch2001/Oleinik-BS-Thesis-code/runs/btdzraz2' target=\"_blank\">https://wandb.ai/potapuch2001/Oleinik-BS-Thesis-code/runs/btdzraz2</a><br/> View project at: <a href='https://wandb.ai/potapuch2001/Oleinik-BS-Thesis-code' target=\"_blank\">https://wandb.ai/potapuch2001/Oleinik-BS-Thesis-code</a><br/>Synced 6 W&B file(s), 3 media file(s), 2 artifact file(s) and 0 other file(s)"
      ],
      "text/plain": [
       "<IPython.core.display.HTML object>"
      ]
     },
     "metadata": {},
     "output_type": "display_data"
    },
    {
     "data": {
      "text/html": [
       "Find logs at: <code>./wandb/run-20240623_035221-btdzraz2/logs</code>"
      ],
      "text/plain": [
       "<IPython.core.display.HTML object>"
      ]
     },
     "metadata": {},
     "output_type": "display_data"
    },
    {
     "data": {
      "text/html": [
       "wandb version 0.17.2 is available!  To upgrade, please run:\n",
       " $ pip install wandb --upgrade"
      ],
      "text/plain": [
       "<IPython.core.display.HTML object>"
      ]
     },
     "metadata": {},
     "output_type": "display_data"
    },
    {
     "data": {
      "text/html": [
       "Tracking run with wandb version 0.16.6"
      ],
      "text/plain": [
       "<IPython.core.display.HTML object>"
      ]
     },
     "metadata": {},
     "output_type": "display_data"
    },
    {
     "data": {
      "text/html": [
       "Run data is saved locally in <code>/home/ganddalf/MIPT/Kafedra/Oleinik-BS-Thesis/code/wandb/run-20240623_035710-mrhuqfv6</code>"
      ],
      "text/plain": [
       "<IPython.core.display.HTML object>"
      ]
     },
     "metadata": {},
     "output_type": "display_data"
    },
    {
     "data": {
      "text/html": [
       "Syncing run <strong><a href='https://wandb.ai/potapuch2001/Oleinik-BS-Thesis-code/runs/mrhuqfv6' target=\"_blank\">zesty-meadow-298</a></strong> to <a href='https://wandb.ai/potapuch2001/Oleinik-BS-Thesis-code' target=\"_blank\">Weights & Biases</a> (<a href='https://wandb.me/run' target=\"_blank\">docs</a>)<br/>"
      ],
      "text/plain": [
       "<IPython.core.display.HTML object>"
      ]
     },
     "metadata": {},
     "output_type": "display_data"
    },
    {
     "data": {
      "text/html": [
       " View project at <a href='https://wandb.ai/potapuch2001/Oleinik-BS-Thesis-code' target=\"_blank\">https://wandb.ai/potapuch2001/Oleinik-BS-Thesis-code</a>"
      ],
      "text/plain": [
       "<IPython.core.display.HTML object>"
      ]
     },
     "metadata": {},
     "output_type": "display_data"
    },
    {
     "data": {
      "text/html": [
       " View run at <a href='https://wandb.ai/potapuch2001/Oleinik-BS-Thesis-code/runs/mrhuqfv6' target=\"_blank\">https://wandb.ai/potapuch2001/Oleinik-BS-Thesis-code/runs/mrhuqfv6</a>"
      ],
      "text/plain": [
       "<IPython.core.display.HTML object>"
      ]
     },
     "metadata": {},
     "output_type": "display_data"
    },
    {
     "name": "stderr",
     "output_type": "stream",
     "text": [
      "GPU available: True (cuda), used: True\n",
      "TPU available: False, using: 0 TPU cores\n",
      "IPU available: False, using: 0 IPUs\n",
      "HPU available: False, using: 0 HPUs\n",
      "/home/ganddalf/anaconda3/envs/dl/lib/python3.12/site-packages/lightning/pytorch/loggers/wandb.py:391: There is a wandb run already in progress and newly created instances of `WandbLogger` will reuse this run. If this is not desired, call `wandb.finish()` before instantiating `WandbLogger`.\n",
      "LOCAL_RANK: 0 - CUDA_VISIBLE_DEVICES: [0]\n",
      "\n",
      "  | Name    | Type             | Params\n",
      "---------------------------------------------\n",
      "0 | student | Cifar_Very_Tiny  | 15.1 K\n",
      "1 | teacher | Cifar_Tiny       | 58.0 K\n",
      "2 | loss    | CrossEntropyLoss | 0     \n",
      "---------------------------------------------\n",
      "15.1 K    Trainable params\n",
      "58.0 K    Non-trainable params\n",
      "73.0 K    Total params\n",
      "0.292     Total estimated model params size (MB)\n"
     ]
    },
    {
     "name": "stdout",
     "output_type": "stream",
     "text": [
      "Epoch 99: 100%|██████████| 79/79 [00:02<00:00, 31.82it/s, v_num=qfv6]"
     ]
    },
    {
     "name": "stderr",
     "output_type": "stream",
     "text": [
      "`Trainer.fit` stopped: `max_epochs=100` reached.\n"
     ]
    },
    {
     "name": "stdout",
     "output_type": "stream",
     "text": [
      "Epoch 99: 100%|██████████| 79/79 [00:02<00:00, 31.69it/s, v_num=qfv6]\n"
     ]
    },
    {
     "name": "stderr",
     "output_type": "stream",
     "text": [
      "/home/ganddalf/anaconda3/envs/dl/lib/python3.12/site-packages/lightning/pytorch/trainer/connectors/checkpoint_connector.py:145: `.test(ckpt_path=None)` was called without a model. The best model of the previous `fit` call will be used. You can pass `.test(ckpt_path='best')` to use the best model or `.test(ckpt_path='last')` to use the last model. If you pass a value, this warning will be silenced.\n",
      "Restoring states from the checkpoint path at ./lightning_logs/mrhuqfv6/checkpoints/epoch=99-step=7900.ckpt\n",
      "LOCAL_RANK: 0 - CUDA_VISIBLE_DEVICES: [0]\n",
      "Loaded model weights from the checkpoint at ./lightning_logs/mrhuqfv6/checkpoints/epoch=99-step=7900.ckpt\n"
     ]
    },
    {
     "name": "stdout",
     "output_type": "stream",
     "text": [
      "Testing DataLoader 0: 100%|██████████| 79/79 [00:04<00:00, 16.59it/s] \n",
      "────────────────────────────────────────────────────────────────────────────────────────────────────────────────────────\n",
      "       Test metric             DataLoader 0\n",
      "────────────────────────────────────────────────────────────────────────────────────────────────────────────────────────\n",
      "        AUC_FGSM            0.24275000393390656\n",
      "        AUC_Noise           0.3097589612007141\n",
      "        test_acc            0.3628999888896942\n",
      "────────────────────────────────────────────────────────────────────────────────────────────────────────────────────────\n"
     ]
    },
    {
     "data": {
      "text/html": [
       "<style>\n",
       "    table.wandb td:nth-child(1) { padding: 0 10px; text-align: left ; width: auto;} td:nth-child(2) {text-align: left ; width: 100%}\n",
       "    .wandb-row { display: flex; flex-direction: row; flex-wrap: wrap; justify-content: flex-start; width: 100% }\n",
       "    .wandb-col { display: flex; flex-direction: column; flex-basis: 100%; flex: 1; padding: 10px; }\n",
       "    </style>\n",
       "<div class=\"wandb-row\"><div class=\"wandb-col\"><h3>Run history:</h3><br/><table class=\"wandb\"><tr><td>AUC_FGSM</td><td>▁</td></tr><tr><td>AUC_Noise</td><td>▁</td></tr><tr><td>epoch</td><td>▁▁▁▁▂▂▂▂▂▃▃▃▃▃▃▄▄▄▄▄▅▅▅▅▅▅▆▆▆▆▆▇▇▇▇▇▇███</td></tr><tr><td>lr</td><td>▁</td></tr><tr><td>test_acc</td><td>▁</td></tr><tr><td>train_acc</td><td>▁▃▂▂▂▄▅▄▄▄▄▅▅▄▄▅▆▆▆▆▅▆▅▆▇█▅▆▆▆▇▆▆▇▆▄█▇▇▆</td></tr><tr><td>train_loss</td><td>█▅▄▄▄▃▃▃▃▂▂▂▂▂▂▂▂▂▁▁▂▂▂▁▂▂▁▁▁▂▁▁▁▁▁▁▁▁▁▁</td></tr><tr><td>trainer/global_step</td><td>▁▁▁▂▂▂▂▂▂▃▃▃▃▃▄▄▄▄▄▄▅▅▅▅▅▅▆▆▆▆▆▇▇▇▇▇▇███</td></tr></table><br/></div><div class=\"wandb-col\"><h3>Run summary:</h3><br/><table class=\"wandb\"><tr><td>AUC_FGSM</td><td>0.24275</td></tr><tr><td>AUC_Noise</td><td>0.30976</td></tr><tr><td>distillation_type</td><td>random</td></tr><tr><td>epoch</td><td>100</td></tr><tr><td>lr</td><td>0.1</td></tr><tr><td>model_name</td><td>very_tiny</td></tr><tr><td>optimizer</td><td>SGD</td></tr><tr><td>test_acc</td><td>0.3629</td></tr><tr><td>train_acc</td><td>0.33594</td></tr><tr><td>train_loss</td><td>107.82845</td></tr><tr><td>trainer/global_step</td><td>7900</td></tr></table><br/></div></div>"
      ],
      "text/plain": [
       "<IPython.core.display.HTML object>"
      ]
     },
     "metadata": {},
     "output_type": "display_data"
    },
    {
     "data": {
      "text/html": [
       " View run <strong style=\"color:#cdcd00\">zesty-meadow-298</strong> at: <a href='https://wandb.ai/potapuch2001/Oleinik-BS-Thesis-code/runs/mrhuqfv6' target=\"_blank\">https://wandb.ai/potapuch2001/Oleinik-BS-Thesis-code/runs/mrhuqfv6</a><br/> View project at: <a href='https://wandb.ai/potapuch2001/Oleinik-BS-Thesis-code' target=\"_blank\">https://wandb.ai/potapuch2001/Oleinik-BS-Thesis-code</a><br/>Synced 6 W&B file(s), 3 media file(s), 2 artifact file(s) and 0 other file(s)"
      ],
      "text/plain": [
       "<IPython.core.display.HTML object>"
      ]
     },
     "metadata": {},
     "output_type": "display_data"
    },
    {
     "data": {
      "text/html": [
       "Find logs at: <code>./wandb/run-20240623_035710-mrhuqfv6/logs</code>"
      ],
      "text/plain": [
       "<IPython.core.display.HTML object>"
      ]
     },
     "metadata": {},
     "output_type": "display_data"
    },
    {
     "data": {
      "text/html": [
       "wandb version 0.17.2 is available!  To upgrade, please run:\n",
       " $ pip install wandb --upgrade"
      ],
      "text/plain": [
       "<IPython.core.display.HTML object>"
      ]
     },
     "metadata": {},
     "output_type": "display_data"
    },
    {
     "data": {
      "text/html": [
       "Tracking run with wandb version 0.16.6"
      ],
      "text/plain": [
       "<IPython.core.display.HTML object>"
      ]
     },
     "metadata": {},
     "output_type": "display_data"
    },
    {
     "data": {
      "text/html": [
       "Run data is saved locally in <code>/home/ganddalf/MIPT/Kafedra/Oleinik-BS-Thesis/code/wandb/run-20240623_040200-lsv5548f</code>"
      ],
      "text/plain": [
       "<IPython.core.display.HTML object>"
      ]
     },
     "metadata": {},
     "output_type": "display_data"
    },
    {
     "data": {
      "text/html": [
       "Syncing run <strong><a href='https://wandb.ai/potapuch2001/Oleinik-BS-Thesis-code/runs/lsv5548f' target=\"_blank\">skilled-flower-299</a></strong> to <a href='https://wandb.ai/potapuch2001/Oleinik-BS-Thesis-code' target=\"_blank\">Weights & Biases</a> (<a href='https://wandb.me/run' target=\"_blank\">docs</a>)<br/>"
      ],
      "text/plain": [
       "<IPython.core.display.HTML object>"
      ]
     },
     "metadata": {},
     "output_type": "display_data"
    },
    {
     "data": {
      "text/html": [
       " View project at <a href='https://wandb.ai/potapuch2001/Oleinik-BS-Thesis-code' target=\"_blank\">https://wandb.ai/potapuch2001/Oleinik-BS-Thesis-code</a>"
      ],
      "text/plain": [
       "<IPython.core.display.HTML object>"
      ]
     },
     "metadata": {},
     "output_type": "display_data"
    },
    {
     "data": {
      "text/html": [
       " View run at <a href='https://wandb.ai/potapuch2001/Oleinik-BS-Thesis-code/runs/lsv5548f' target=\"_blank\">https://wandb.ai/potapuch2001/Oleinik-BS-Thesis-code/runs/lsv5548f</a>"
      ],
      "text/plain": [
       "<IPython.core.display.HTML object>"
      ]
     },
     "metadata": {},
     "output_type": "display_data"
    },
    {
     "name": "stderr",
     "output_type": "stream",
     "text": [
      "GPU available: True (cuda), used: True\n",
      "TPU available: False, using: 0 TPU cores\n",
      "IPU available: False, using: 0 IPUs\n",
      "HPU available: False, using: 0 HPUs\n",
      "/home/ganddalf/anaconda3/envs/dl/lib/python3.12/site-packages/lightning/pytorch/loggers/wandb.py:391: There is a wandb run already in progress and newly created instances of `WandbLogger` will reuse this run. If this is not desired, call `wandb.finish()` before instantiating `WandbLogger`.\n",
      "LOCAL_RANK: 0 - CUDA_VISIBLE_DEVICES: [0]\n",
      "\n",
      "  | Name    | Type             | Params\n",
      "---------------------------------------------\n",
      "0 | student | Cifar_Very_Tiny  | 15.1 K\n",
      "1 | teacher | Cifar_Tiny       | 58.0 K\n",
      "2 | loss    | CrossEntropyLoss | 0     \n",
      "---------------------------------------------\n",
      "15.1 K    Trainable params\n",
      "58.0 K    Non-trainable params\n",
      "73.0 K    Total params\n",
      "0.292     Total estimated model params size (MB)\n"
     ]
    },
    {
     "name": "stdout",
     "output_type": "stream",
     "text": [
      "Epoch 99: 100%|██████████| 79/79 [00:02<00:00, 26.85it/s, v_num=548f]"
     ]
    },
    {
     "name": "stderr",
     "output_type": "stream",
     "text": [
      "`Trainer.fit` stopped: `max_epochs=100` reached.\n"
     ]
    },
    {
     "name": "stdout",
     "output_type": "stream",
     "text": [
      "Epoch 99: 100%|██████████| 79/79 [00:02<00:00, 26.74it/s, v_num=548f]\n"
     ]
    },
    {
     "name": "stderr",
     "output_type": "stream",
     "text": [
      "/home/ganddalf/anaconda3/envs/dl/lib/python3.12/site-packages/lightning/pytorch/trainer/connectors/checkpoint_connector.py:145: `.test(ckpt_path=None)` was called without a model. The best model of the previous `fit` call will be used. You can pass `.test(ckpt_path='best')` to use the best model or `.test(ckpt_path='last')` to use the last model. If you pass a value, this warning will be silenced.\n",
      "Restoring states from the checkpoint path at ./lightning_logs/lsv5548f/checkpoints/epoch=99-step=7900.ckpt\n",
      "LOCAL_RANK: 0 - CUDA_VISIBLE_DEVICES: [0]\n",
      "Loaded model weights from the checkpoint at ./lightning_logs/lsv5548f/checkpoints/epoch=99-step=7900.ckpt\n"
     ]
    },
    {
     "name": "stdout",
     "output_type": "stream",
     "text": [
      "Testing DataLoader 0: 100%|██████████| 79/79 [00:04<00:00, 17.20it/s] \n",
      "────────────────────────────────────────────────────────────────────────────────────────────────────────────────────────\n",
      "       Test metric             DataLoader 0\n",
      "────────────────────────────────────────────────────────────────────────────────────────────────────────────────────────\n",
      "        AUC_FGSM            0.10000000149011612\n",
      "        AUC_Noise           0.10000000149011612\n",
      "        test_acc            0.10000000149011612\n",
      "────────────────────────────────────────────────────────────────────────────────────────────────────────────────────────\n"
     ]
    },
    {
     "data": {
      "text/html": [
       "<style>\n",
       "    table.wandb td:nth-child(1) { padding: 0 10px; text-align: left ; width: auto;} td:nth-child(2) {text-align: left ; width: 100%}\n",
       "    .wandb-row { display: flex; flex-direction: row; flex-wrap: wrap; justify-content: flex-start; width: 100% }\n",
       "    .wandb-col { display: flex; flex-direction: column; flex-basis: 100%; flex: 1; padding: 10px; }\n",
       "    </style>\n",
       "<div class=\"wandb-row\"><div class=\"wandb-col\"><h3>Run history:</h3><br/><table class=\"wandb\"><tr><td>AUC_FGSM</td><td>▁</td></tr><tr><td>AUC_Noise</td><td>▁</td></tr><tr><td>epoch</td><td>▁▁▁▁▂▂▂▂▂▃▃▃▃▃▃▄▄▄▄▄▅▅▅▅▅▅▆▆▆▆▆▇▇▇▇▇▇███</td></tr><tr><td>lr</td><td>▁</td></tr><tr><td>test_acc</td><td>▁</td></tr><tr><td>train_acc</td><td>▆▄▄▄▆▅█▅▂▇▅▃▃▅▁▆▅▆▅▄▅▆▅▅▃▅▃▃▆▁▃█▃▇▆▅▅▆▅▄</td></tr><tr><td>trainer/global_step</td><td>▁▁▁▂▂▂▂▂▂▃▃▃▃▃▄▄▄▄▄▄▅▅▅▅▅▅▆▆▆▆▆▇▇▇▇▇▇███</td></tr></table><br/></div><div class=\"wandb-col\"><h3>Run summary:</h3><br/><table class=\"wandb\"><tr><td>AUC_FGSM</td><td>0.1</td></tr><tr><td>AUC_Noise</td><td>0.1</td></tr><tr><td>distillation_type</td><td>random</td></tr><tr><td>epoch</td><td>100</td></tr><tr><td>lr</td><td>0.1</td></tr><tr><td>model_name</td><td>very_tiny</td></tr><tr><td>optimizer</td><td>SGD</td></tr><tr><td>test_acc</td><td>0.1</td></tr><tr><td>train_acc</td><td>0.08594</td></tr><tr><td>train_loss</td><td>nan</td></tr><tr><td>trainer/global_step</td><td>7900</td></tr></table><br/></div></div>"
      ],
      "text/plain": [
       "<IPython.core.display.HTML object>"
      ]
     },
     "metadata": {},
     "output_type": "display_data"
    },
    {
     "data": {
      "text/html": [
       " View run <strong style=\"color:#cdcd00\">skilled-flower-299</strong> at: <a href='https://wandb.ai/potapuch2001/Oleinik-BS-Thesis-code/runs/lsv5548f' target=\"_blank\">https://wandb.ai/potapuch2001/Oleinik-BS-Thesis-code/runs/lsv5548f</a><br/> View project at: <a href='https://wandb.ai/potapuch2001/Oleinik-BS-Thesis-code' target=\"_blank\">https://wandb.ai/potapuch2001/Oleinik-BS-Thesis-code</a><br/>Synced 6 W&B file(s), 3 media file(s), 2 artifact file(s) and 0 other file(s)"
      ],
      "text/plain": [
       "<IPython.core.display.HTML object>"
      ]
     },
     "metadata": {},
     "output_type": "display_data"
    },
    {
     "data": {
      "text/html": [
       "Find logs at: <code>./wandb/run-20240623_040200-lsv5548f/logs</code>"
      ],
      "text/plain": [
       "<IPython.core.display.HTML object>"
      ]
     },
     "metadata": {},
     "output_type": "display_data"
    },
    {
     "data": {
      "text/html": [
       "wandb version 0.17.2 is available!  To upgrade, please run:\n",
       " $ pip install wandb --upgrade"
      ],
      "text/plain": [
       "<IPython.core.display.HTML object>"
      ]
     },
     "metadata": {},
     "output_type": "display_data"
    },
    {
     "data": {
      "text/html": [
       "Tracking run with wandb version 0.16.6"
      ],
      "text/plain": [
       "<IPython.core.display.HTML object>"
      ]
     },
     "metadata": {},
     "output_type": "display_data"
    },
    {
     "data": {
      "text/html": [
       "Run data is saved locally in <code>/home/ganddalf/MIPT/Kafedra/Oleinik-BS-Thesis/code/wandb/run-20240623_040652-36lp2dic</code>"
      ],
      "text/plain": [
       "<IPython.core.display.HTML object>"
      ]
     },
     "metadata": {},
     "output_type": "display_data"
    },
    {
     "data": {
      "text/html": [
       "Syncing run <strong><a href='https://wandb.ai/potapuch2001/Oleinik-BS-Thesis-code/runs/36lp2dic' target=\"_blank\">light-durian-300</a></strong> to <a href='https://wandb.ai/potapuch2001/Oleinik-BS-Thesis-code' target=\"_blank\">Weights & Biases</a> (<a href='https://wandb.me/run' target=\"_blank\">docs</a>)<br/>"
      ],
      "text/plain": [
       "<IPython.core.display.HTML object>"
      ]
     },
     "metadata": {},
     "output_type": "display_data"
    },
    {
     "data": {
      "text/html": [
       " View project at <a href='https://wandb.ai/potapuch2001/Oleinik-BS-Thesis-code' target=\"_blank\">https://wandb.ai/potapuch2001/Oleinik-BS-Thesis-code</a>"
      ],
      "text/plain": [
       "<IPython.core.display.HTML object>"
      ]
     },
     "metadata": {},
     "output_type": "display_data"
    },
    {
     "data": {
      "text/html": [
       " View run at <a href='https://wandb.ai/potapuch2001/Oleinik-BS-Thesis-code/runs/36lp2dic' target=\"_blank\">https://wandb.ai/potapuch2001/Oleinik-BS-Thesis-code/runs/36lp2dic</a>"
      ],
      "text/plain": [
       "<IPython.core.display.HTML object>"
      ]
     },
     "metadata": {},
     "output_type": "display_data"
    },
    {
     "name": "stderr",
     "output_type": "stream",
     "text": [
      "GPU available: True (cuda), used: True\n",
      "TPU available: False, using: 0 TPU cores\n",
      "IPU available: False, using: 0 IPUs\n",
      "HPU available: False, using: 0 HPUs\n",
      "/home/ganddalf/anaconda3/envs/dl/lib/python3.12/site-packages/lightning/pytorch/loggers/wandb.py:391: There is a wandb run already in progress and newly created instances of `WandbLogger` will reuse this run. If this is not desired, call `wandb.finish()` before instantiating `WandbLogger`.\n",
      "LOCAL_RANK: 0 - CUDA_VISIBLE_DEVICES: [0]\n",
      "\n",
      "  | Name    | Type             | Params\n",
      "---------------------------------------------\n",
      "0 | student | Cifar_Very_Tiny  | 15.1 K\n",
      "1 | teacher | Cifar_Tiny       | 58.0 K\n",
      "2 | loss    | CrossEntropyLoss | 0     \n",
      "---------------------------------------------\n",
      "15.1 K    Trainable params\n",
      "58.0 K    Non-trainable params\n",
      "73.0 K    Total params\n",
      "0.292     Total estimated model params size (MB)\n"
     ]
    },
    {
     "name": "stdout",
     "output_type": "stream",
     "text": [
      "Epoch 99: 100%|██████████| 79/79 [00:02<00:00, 27.73it/s, v_num=2dic]"
     ]
    },
    {
     "name": "stderr",
     "output_type": "stream",
     "text": [
      "`Trainer.fit` stopped: `max_epochs=100` reached.\n"
     ]
    },
    {
     "name": "stdout",
     "output_type": "stream",
     "text": [
      "Epoch 99: 100%|██████████| 79/79 [00:02<00:00, 27.62it/s, v_num=2dic]\n"
     ]
    },
    {
     "name": "stderr",
     "output_type": "stream",
     "text": [
      "/home/ganddalf/anaconda3/envs/dl/lib/python3.12/site-packages/lightning/pytorch/trainer/connectors/checkpoint_connector.py:145: `.test(ckpt_path=None)` was called without a model. The best model of the previous `fit` call will be used. You can pass `.test(ckpt_path='best')` to use the best model or `.test(ckpt_path='last')` to use the last model. If you pass a value, this warning will be silenced.\n",
      "Restoring states from the checkpoint path at ./lightning_logs/36lp2dic/checkpoints/epoch=99-step=7900.ckpt\n",
      "LOCAL_RANK: 0 - CUDA_VISIBLE_DEVICES: [0]\n",
      "Loaded model weights from the checkpoint at ./lightning_logs/36lp2dic/checkpoints/epoch=99-step=7900.ckpt\n"
     ]
    },
    {
     "name": "stdout",
     "output_type": "stream",
     "text": [
      "Testing DataLoader 0: 100%|██████████| 79/79 [00:04<00:00, 19.37it/s] \n",
      "────────────────────────────────────────────────────────────────────────────────────────────────────────────────────────\n",
      "       Test metric             DataLoader 0\n",
      "────────────────────────────────────────────────────────────────────────────────────────────────────────────────────────\n",
      "        AUC_FGSM            0.10000000149011612\n",
      "        AUC_Noise           0.10000000149011612\n",
      "        test_acc            0.10000000149011612\n",
      "────────────────────────────────────────────────────────────────────────────────────────────────────────────────────────\n"
     ]
    },
    {
     "data": {
      "text/html": [
       "<style>\n",
       "    table.wandb td:nth-child(1) { padding: 0 10px; text-align: left ; width: auto;} td:nth-child(2) {text-align: left ; width: 100%}\n",
       "    .wandb-row { display: flex; flex-direction: row; flex-wrap: wrap; justify-content: flex-start; width: 100% }\n",
       "    .wandb-col { display: flex; flex-direction: column; flex-basis: 100%; flex: 1; padding: 10px; }\n",
       "    </style>\n",
       "<div class=\"wandb-row\"><div class=\"wandb-col\"><h3>Run history:</h3><br/><table class=\"wandb\"><tr><td>AUC_FGSM</td><td>▁</td></tr><tr><td>AUC_Noise</td><td>▁</td></tr><tr><td>epoch</td><td>▁▁▁▁▂▂▂▂▂▃▃▃▃▃▃▄▄▄▄▄▅▅▅▅▅▅▆▆▆▆▆▇▇▇▇▇▇███</td></tr><tr><td>lr</td><td>▁</td></tr><tr><td>test_acc</td><td>▁</td></tr><tr><td>train_acc</td><td>▆▄▄▄▆▅█▅▂▇▅▃▃▅▁▆▅▆▅▄▅▆▅▅▃▅▃▃▆▁▃█▃▇▆▅▅▆▅▄</td></tr><tr><td>trainer/global_step</td><td>▁▁▁▂▂▂▂▂▂▃▃▃▃▃▄▄▄▄▄▄▅▅▅▅▅▅▆▆▆▆▆▇▇▇▇▇▇███</td></tr></table><br/></div><div class=\"wandb-col\"><h3>Run summary:</h3><br/><table class=\"wandb\"><tr><td>AUC_FGSM</td><td>0.1</td></tr><tr><td>AUC_Noise</td><td>0.1</td></tr><tr><td>distillation_type</td><td>random</td></tr><tr><td>epoch</td><td>100</td></tr><tr><td>lr</td><td>0.1</td></tr><tr><td>model_name</td><td>very_tiny</td></tr><tr><td>optimizer</td><td>SGD</td></tr><tr><td>test_acc</td><td>0.1</td></tr><tr><td>train_acc</td><td>0.08594</td></tr><tr><td>train_loss</td><td>nan</td></tr><tr><td>trainer/global_step</td><td>7900</td></tr></table><br/></div></div>"
      ],
      "text/plain": [
       "<IPython.core.display.HTML object>"
      ]
     },
     "metadata": {},
     "output_type": "display_data"
    },
    {
     "data": {
      "text/html": [
       " View run <strong style=\"color:#cdcd00\">light-durian-300</strong> at: <a href='https://wandb.ai/potapuch2001/Oleinik-BS-Thesis-code/runs/36lp2dic' target=\"_blank\">https://wandb.ai/potapuch2001/Oleinik-BS-Thesis-code/runs/36lp2dic</a><br/> View project at: <a href='https://wandb.ai/potapuch2001/Oleinik-BS-Thesis-code' target=\"_blank\">https://wandb.ai/potapuch2001/Oleinik-BS-Thesis-code</a><br/>Synced 6 W&B file(s), 3 media file(s), 2 artifact file(s) and 0 other file(s)"
      ],
      "text/plain": [
       "<IPython.core.display.HTML object>"
      ]
     },
     "metadata": {},
     "output_type": "display_data"
    },
    {
     "data": {
      "text/html": [
       "Find logs at: <code>./wandb/run-20240623_040652-36lp2dic/logs</code>"
      ],
      "text/plain": [
       "<IPython.core.display.HTML object>"
      ]
     },
     "metadata": {},
     "output_type": "display_data"
    },
    {
     "data": {
      "text/html": [
       "wandb version 0.17.2 is available!  To upgrade, please run:\n",
       " $ pip install wandb --upgrade"
      ],
      "text/plain": [
       "<IPython.core.display.HTML object>"
      ]
     },
     "metadata": {},
     "output_type": "display_data"
    },
    {
     "data": {
      "text/html": [
       "Tracking run with wandb version 0.16.6"
      ],
      "text/plain": [
       "<IPython.core.display.HTML object>"
      ]
     },
     "metadata": {},
     "output_type": "display_data"
    },
    {
     "data": {
      "text/html": [
       "Run data is saved locally in <code>/home/ganddalf/MIPT/Kafedra/Oleinik-BS-Thesis/code/wandb/run-20240623_041140-qob8qsby</code>"
      ],
      "text/plain": [
       "<IPython.core.display.HTML object>"
      ]
     },
     "metadata": {},
     "output_type": "display_data"
    },
    {
     "data": {
      "text/html": [
       "Syncing run <strong><a href='https://wandb.ai/potapuch2001/Oleinik-BS-Thesis-code/runs/qob8qsby' target=\"_blank\">misunderstood-galaxy-301</a></strong> to <a href='https://wandb.ai/potapuch2001/Oleinik-BS-Thesis-code' target=\"_blank\">Weights & Biases</a> (<a href='https://wandb.me/run' target=\"_blank\">docs</a>)<br/>"
      ],
      "text/plain": [
       "<IPython.core.display.HTML object>"
      ]
     },
     "metadata": {},
     "output_type": "display_data"
    },
    {
     "data": {
      "text/html": [
       " View project at <a href='https://wandb.ai/potapuch2001/Oleinik-BS-Thesis-code' target=\"_blank\">https://wandb.ai/potapuch2001/Oleinik-BS-Thesis-code</a>"
      ],
      "text/plain": [
       "<IPython.core.display.HTML object>"
      ]
     },
     "metadata": {},
     "output_type": "display_data"
    },
    {
     "data": {
      "text/html": [
       " View run at <a href='https://wandb.ai/potapuch2001/Oleinik-BS-Thesis-code/runs/qob8qsby' target=\"_blank\">https://wandb.ai/potapuch2001/Oleinik-BS-Thesis-code/runs/qob8qsby</a>"
      ],
      "text/plain": [
       "<IPython.core.display.HTML object>"
      ]
     },
     "metadata": {},
     "output_type": "display_data"
    },
    {
     "name": "stderr",
     "output_type": "stream",
     "text": [
      "GPU available: True (cuda), used: True\n",
      "TPU available: False, using: 0 TPU cores\n",
      "IPU available: False, using: 0 IPUs\n",
      "HPU available: False, using: 0 HPUs\n",
      "/home/ganddalf/anaconda3/envs/dl/lib/python3.12/site-packages/lightning/pytorch/loggers/wandb.py:391: There is a wandb run already in progress and newly created instances of `WandbLogger` will reuse this run. If this is not desired, call `wandb.finish()` before instantiating `WandbLogger`.\n",
      "LOCAL_RANK: 0 - CUDA_VISIBLE_DEVICES: [0]\n",
      "\n",
      "  | Name    | Type             | Params\n",
      "---------------------------------------------\n",
      "0 | student | Cifar_Very_Tiny  | 15.1 K\n",
      "1 | teacher | Cifar_Tiny       | 58.0 K\n",
      "2 | loss    | CrossEntropyLoss | 0     \n",
      "---------------------------------------------\n",
      "15.1 K    Trainable params\n",
      "58.0 K    Non-trainable params\n",
      "73.0 K    Total params\n",
      "0.292     Total estimated model params size (MB)\n"
     ]
    },
    {
     "name": "stdout",
     "output_type": "stream",
     "text": [
      "Epoch 99: 100%|██████████| 79/79 [00:02<00:00, 27.86it/s, v_num=qsby]"
     ]
    },
    {
     "name": "stderr",
     "output_type": "stream",
     "text": [
      "`Trainer.fit` stopped: `max_epochs=100` reached.\n"
     ]
    },
    {
     "name": "stdout",
     "output_type": "stream",
     "text": [
      "Epoch 99: 100%|██████████| 79/79 [00:02<00:00, 27.75it/s, v_num=qsby]\n"
     ]
    },
    {
     "name": "stderr",
     "output_type": "stream",
     "text": [
      "/home/ganddalf/anaconda3/envs/dl/lib/python3.12/site-packages/lightning/pytorch/trainer/connectors/checkpoint_connector.py:145: `.test(ckpt_path=None)` was called without a model. The best model of the previous `fit` call will be used. You can pass `.test(ckpt_path='best')` to use the best model or `.test(ckpt_path='last')` to use the last model. If you pass a value, this warning will be silenced.\n",
      "Restoring states from the checkpoint path at ./lightning_logs/qob8qsby/checkpoints/epoch=99-step=7900.ckpt\n",
      "LOCAL_RANK: 0 - CUDA_VISIBLE_DEVICES: [0]\n",
      "Loaded model weights from the checkpoint at ./lightning_logs/qob8qsby/checkpoints/epoch=99-step=7900.ckpt\n"
     ]
    },
    {
     "name": "stdout",
     "output_type": "stream",
     "text": [
      "Testing DataLoader 0: 100%|██████████| 79/79 [00:04<00:00, 16.64it/s] \n",
      "────────────────────────────────────────────────────────────────────────────────────────────────────────────────────────\n",
      "       Test metric             DataLoader 0\n",
      "────────────────────────────────────────────────────────────────────────────────────────────────────────────────────────\n",
      "        AUC_FGSM            0.10000000149011612\n",
      "        AUC_Noise           0.10000000149011612\n",
      "        test_acc            0.10000000149011612\n",
      "────────────────────────────────────────────────────────────────────────────────────────────────────────────────────────\n"
     ]
    },
    {
     "data": {
      "text/html": [
       "<style>\n",
       "    table.wandb td:nth-child(1) { padding: 0 10px; text-align: left ; width: auto;} td:nth-child(2) {text-align: left ; width: 100%}\n",
       "    .wandb-row { display: flex; flex-direction: row; flex-wrap: wrap; justify-content: flex-start; width: 100% }\n",
       "    .wandb-col { display: flex; flex-direction: column; flex-basis: 100%; flex: 1; padding: 10px; }\n",
       "    </style>\n",
       "<div class=\"wandb-row\"><div class=\"wandb-col\"><h3>Run history:</h3><br/><table class=\"wandb\"><tr><td>AUC_FGSM</td><td>▁</td></tr><tr><td>AUC_Noise</td><td>▁</td></tr><tr><td>epoch</td><td>▁▁▁▁▂▂▂▂▂▃▃▃▃▃▃▄▄▄▄▄▅▅▅▅▅▅▆▆▆▆▆▇▇▇▇▇▇███</td></tr><tr><td>lr</td><td>▁</td></tr><tr><td>test_acc</td><td>▁</td></tr><tr><td>train_acc</td><td>▆▄▄▄▆▅█▅▂▇▅▃▃▅▁▆▅▆▅▄▅▆▅▅▃▅▃▃▆▁▃█▃▇▆▅▅▆▅▄</td></tr><tr><td>trainer/global_step</td><td>▁▁▁▂▂▂▂▂▂▃▃▃▃▃▄▄▄▄▄▄▅▅▅▅▅▅▆▆▆▆▆▇▇▇▇▇▇███</td></tr></table><br/></div><div class=\"wandb-col\"><h3>Run summary:</h3><br/><table class=\"wandb\"><tr><td>AUC_FGSM</td><td>0.1</td></tr><tr><td>AUC_Noise</td><td>0.1</td></tr><tr><td>distillation_type</td><td>random</td></tr><tr><td>epoch</td><td>100</td></tr><tr><td>lr</td><td>0.1</td></tr><tr><td>model_name</td><td>very_tiny</td></tr><tr><td>optimizer</td><td>SGD</td></tr><tr><td>test_acc</td><td>0.1</td></tr><tr><td>train_acc</td><td>0.08594</td></tr><tr><td>train_loss</td><td>nan</td></tr><tr><td>trainer/global_step</td><td>7900</td></tr></table><br/></div></div>"
      ],
      "text/plain": [
       "<IPython.core.display.HTML object>"
      ]
     },
     "metadata": {},
     "output_type": "display_data"
    },
    {
     "data": {
      "text/html": [
       " View run <strong style=\"color:#cdcd00\">misunderstood-galaxy-301</strong> at: <a href='https://wandb.ai/potapuch2001/Oleinik-BS-Thesis-code/runs/qob8qsby' target=\"_blank\">https://wandb.ai/potapuch2001/Oleinik-BS-Thesis-code/runs/qob8qsby</a><br/> View project at: <a href='https://wandb.ai/potapuch2001/Oleinik-BS-Thesis-code' target=\"_blank\">https://wandb.ai/potapuch2001/Oleinik-BS-Thesis-code</a><br/>Synced 6 W&B file(s), 3 media file(s), 2 artifact file(s) and 0 other file(s)"
      ],
      "text/plain": [
       "<IPython.core.display.HTML object>"
      ]
     },
     "metadata": {},
     "output_type": "display_data"
    },
    {
     "data": {
      "text/html": [
       "Find logs at: <code>./wandb/run-20240623_041140-qob8qsby/logs</code>"
      ],
      "text/plain": [
       "<IPython.core.display.HTML object>"
      ]
     },
     "metadata": {},
     "output_type": "display_data"
    },
    {
     "data": {
      "text/html": [
       "wandb version 0.17.2 is available!  To upgrade, please run:\n",
       " $ pip install wandb --upgrade"
      ],
      "text/plain": [
       "<IPython.core.display.HTML object>"
      ]
     },
     "metadata": {},
     "output_type": "display_data"
    },
    {
     "data": {
      "text/html": [
       "Tracking run with wandb version 0.16.6"
      ],
      "text/plain": [
       "<IPython.core.display.HTML object>"
      ]
     },
     "metadata": {},
     "output_type": "display_data"
    },
    {
     "data": {
      "text/html": [
       "Run data is saved locally in <code>/home/ganddalf/MIPT/Kafedra/Oleinik-BS-Thesis/code/wandb/run-20240623_041634-yrlstqbq</code>"
      ],
      "text/plain": [
       "<IPython.core.display.HTML object>"
      ]
     },
     "metadata": {},
     "output_type": "display_data"
    },
    {
     "data": {
      "text/html": [
       "Syncing run <strong><a href='https://wandb.ai/potapuch2001/Oleinik-BS-Thesis-code/runs/yrlstqbq' target=\"_blank\">gallant-sea-302</a></strong> to <a href='https://wandb.ai/potapuch2001/Oleinik-BS-Thesis-code' target=\"_blank\">Weights & Biases</a> (<a href='https://wandb.me/run' target=\"_blank\">docs</a>)<br/>"
      ],
      "text/plain": [
       "<IPython.core.display.HTML object>"
      ]
     },
     "metadata": {},
     "output_type": "display_data"
    },
    {
     "data": {
      "text/html": [
       " View project at <a href='https://wandb.ai/potapuch2001/Oleinik-BS-Thesis-code' target=\"_blank\">https://wandb.ai/potapuch2001/Oleinik-BS-Thesis-code</a>"
      ],
      "text/plain": [
       "<IPython.core.display.HTML object>"
      ]
     },
     "metadata": {},
     "output_type": "display_data"
    },
    {
     "data": {
      "text/html": [
       " View run at <a href='https://wandb.ai/potapuch2001/Oleinik-BS-Thesis-code/runs/yrlstqbq' target=\"_blank\">https://wandb.ai/potapuch2001/Oleinik-BS-Thesis-code/runs/yrlstqbq</a>"
      ],
      "text/plain": [
       "<IPython.core.display.HTML object>"
      ]
     },
     "metadata": {},
     "output_type": "display_data"
    },
    {
     "name": "stderr",
     "output_type": "stream",
     "text": [
      "GPU available: True (cuda), used: True\n",
      "TPU available: False, using: 0 TPU cores\n",
      "IPU available: False, using: 0 IPUs\n",
      "HPU available: False, using: 0 HPUs\n",
      "/home/ganddalf/anaconda3/envs/dl/lib/python3.12/site-packages/lightning/pytorch/loggers/wandb.py:391: There is a wandb run already in progress and newly created instances of `WandbLogger` will reuse this run. If this is not desired, call `wandb.finish()` before instantiating `WandbLogger`.\n",
      "LOCAL_RANK: 0 - CUDA_VISIBLE_DEVICES: [0]\n",
      "\n",
      "  | Name    | Type             | Params\n",
      "---------------------------------------------\n",
      "0 | student | Cifar_Very_Tiny  | 15.1 K\n",
      "1 | teacher | Cifar_Tiny       | 58.0 K\n",
      "2 | loss    | CrossEntropyLoss | 0     \n",
      "---------------------------------------------\n",
      "15.1 K    Trainable params\n",
      "58.0 K    Non-trainable params\n",
      "73.0 K    Total params\n",
      "0.292     Total estimated model params size (MB)\n"
     ]
    },
    {
     "name": "stdout",
     "output_type": "stream",
     "text": [
      "Epoch 99: 100%|██████████| 79/79 [00:02<00:00, 27.93it/s, v_num=tqbq]"
     ]
    },
    {
     "name": "stderr",
     "output_type": "stream",
     "text": [
      "`Trainer.fit` stopped: `max_epochs=100` reached.\n"
     ]
    },
    {
     "name": "stdout",
     "output_type": "stream",
     "text": [
      "Epoch 99: 100%|██████████| 79/79 [00:02<00:00, 27.82it/s, v_num=tqbq]\n"
     ]
    },
    {
     "name": "stderr",
     "output_type": "stream",
     "text": [
      "/home/ganddalf/anaconda3/envs/dl/lib/python3.12/site-packages/lightning/pytorch/trainer/connectors/checkpoint_connector.py:145: `.test(ckpt_path=None)` was called without a model. The best model of the previous `fit` call will be used. You can pass `.test(ckpt_path='best')` to use the best model or `.test(ckpt_path='last')` to use the last model. If you pass a value, this warning will be silenced.\n",
      "Restoring states from the checkpoint path at ./lightning_logs/yrlstqbq/checkpoints/epoch=99-step=7900.ckpt\n",
      "LOCAL_RANK: 0 - CUDA_VISIBLE_DEVICES: [0]\n",
      "Loaded model weights from the checkpoint at ./lightning_logs/yrlstqbq/checkpoints/epoch=99-step=7900.ckpt\n"
     ]
    },
    {
     "name": "stdout",
     "output_type": "stream",
     "text": [
      "Testing DataLoader 0: 100%|██████████| 79/79 [00:04<00:00, 18.59it/s] \n",
      "────────────────────────────────────────────────────────────────────────────────────────────────────────────────────────\n",
      "       Test metric             DataLoader 0\n",
      "────────────────────────────────────────────────────────────────────────────────────────────────────────────────────────\n",
      "        AUC_FGSM            0.10000000149011612\n",
      "        AUC_Noise           0.10000000149011612\n",
      "        test_acc            0.10000000149011612\n",
      "────────────────────────────────────────────────────────────────────────────────────────────────────────────────────────\n"
     ]
    },
    {
     "data": {
      "text/html": [
       "<style>\n",
       "    table.wandb td:nth-child(1) { padding: 0 10px; text-align: left ; width: auto;} td:nth-child(2) {text-align: left ; width: 100%}\n",
       "    .wandb-row { display: flex; flex-direction: row; flex-wrap: wrap; justify-content: flex-start; width: 100% }\n",
       "    .wandb-col { display: flex; flex-direction: column; flex-basis: 100%; flex: 1; padding: 10px; }\n",
       "    </style>\n",
       "<div class=\"wandb-row\"><div class=\"wandb-col\"><h3>Run history:</h3><br/><table class=\"wandb\"><tr><td>AUC_FGSM</td><td>▁</td></tr><tr><td>AUC_Noise</td><td>▁</td></tr><tr><td>epoch</td><td>▁▁▁▁▂▂▂▂▂▃▃▃▃▃▃▄▄▄▄▄▅▅▅▅▅▅▆▆▆▆▆▇▇▇▇▇▇███</td></tr><tr><td>lr</td><td>▁</td></tr><tr><td>test_acc</td><td>▁</td></tr><tr><td>train_acc</td><td>▆▄▄▄▆▅█▅▂▇▅▃▃▅▁▆▅▆▅▄▅▆▅▅▃▅▃▃▆▁▃█▃▇▆▅▅▆▅▄</td></tr><tr><td>trainer/global_step</td><td>▁▁▁▂▂▂▂▂▂▃▃▃▃▃▄▄▄▄▄▄▅▅▅▅▅▅▆▆▆▆▆▇▇▇▇▇▇███</td></tr></table><br/></div><div class=\"wandb-col\"><h3>Run summary:</h3><br/><table class=\"wandb\"><tr><td>AUC_FGSM</td><td>0.1</td></tr><tr><td>AUC_Noise</td><td>0.1</td></tr><tr><td>distillation_type</td><td>random</td></tr><tr><td>epoch</td><td>100</td></tr><tr><td>lr</td><td>0.1</td></tr><tr><td>model_name</td><td>very_tiny</td></tr><tr><td>optimizer</td><td>SGD</td></tr><tr><td>test_acc</td><td>0.1</td></tr><tr><td>train_acc</td><td>0.08594</td></tr><tr><td>train_loss</td><td>nan</td></tr><tr><td>trainer/global_step</td><td>7900</td></tr></table><br/></div></div>"
      ],
      "text/plain": [
       "<IPython.core.display.HTML object>"
      ]
     },
     "metadata": {},
     "output_type": "display_data"
    },
    {
     "data": {
      "text/html": [
       " View run <strong style=\"color:#cdcd00\">gallant-sea-302</strong> at: <a href='https://wandb.ai/potapuch2001/Oleinik-BS-Thesis-code/runs/yrlstqbq' target=\"_blank\">https://wandb.ai/potapuch2001/Oleinik-BS-Thesis-code/runs/yrlstqbq</a><br/> View project at: <a href='https://wandb.ai/potapuch2001/Oleinik-BS-Thesis-code' target=\"_blank\">https://wandb.ai/potapuch2001/Oleinik-BS-Thesis-code</a><br/>Synced 6 W&B file(s), 3 media file(s), 2 artifact file(s) and 0 other file(s)"
      ],
      "text/plain": [
       "<IPython.core.display.HTML object>"
      ]
     },
     "metadata": {},
     "output_type": "display_data"
    },
    {
     "data": {
      "text/html": [
       "Find logs at: <code>./wandb/run-20240623_041634-yrlstqbq/logs</code>"
      ],
      "text/plain": [
       "<IPython.core.display.HTML object>"
      ]
     },
     "metadata": {},
     "output_type": "display_data"
    },
    {
     "data": {
      "text/html": [
       "wandb version 0.17.2 is available!  To upgrade, please run:\n",
       " $ pip install wandb --upgrade"
      ],
      "text/plain": [
       "<IPython.core.display.HTML object>"
      ]
     },
     "metadata": {},
     "output_type": "display_data"
    },
    {
     "data": {
      "text/html": [
       "Tracking run with wandb version 0.16.6"
      ],
      "text/plain": [
       "<IPython.core.display.HTML object>"
      ]
     },
     "metadata": {},
     "output_type": "display_data"
    },
    {
     "data": {
      "text/html": [
       "Run data is saved locally in <code>/home/ganddalf/MIPT/Kafedra/Oleinik-BS-Thesis/code/wandb/run-20240623_042124-4miqx9o7</code>"
      ],
      "text/plain": [
       "<IPython.core.display.HTML object>"
      ]
     },
     "metadata": {},
     "output_type": "display_data"
    },
    {
     "data": {
      "text/html": [
       "Syncing run <strong><a href='https://wandb.ai/potapuch2001/Oleinik-BS-Thesis-code/runs/4miqx9o7' target=\"_blank\">floral-wave-303</a></strong> to <a href='https://wandb.ai/potapuch2001/Oleinik-BS-Thesis-code' target=\"_blank\">Weights & Biases</a> (<a href='https://wandb.me/run' target=\"_blank\">docs</a>)<br/>"
      ],
      "text/plain": [
       "<IPython.core.display.HTML object>"
      ]
     },
     "metadata": {},
     "output_type": "display_data"
    },
    {
     "data": {
      "text/html": [
       " View project at <a href='https://wandb.ai/potapuch2001/Oleinik-BS-Thesis-code' target=\"_blank\">https://wandb.ai/potapuch2001/Oleinik-BS-Thesis-code</a>"
      ],
      "text/plain": [
       "<IPython.core.display.HTML object>"
      ]
     },
     "metadata": {},
     "output_type": "display_data"
    },
    {
     "data": {
      "text/html": [
       " View run at <a href='https://wandb.ai/potapuch2001/Oleinik-BS-Thesis-code/runs/4miqx9o7' target=\"_blank\">https://wandb.ai/potapuch2001/Oleinik-BS-Thesis-code/runs/4miqx9o7</a>"
      ],
      "text/plain": [
       "<IPython.core.display.HTML object>"
      ]
     },
     "metadata": {},
     "output_type": "display_data"
    },
    {
     "name": "stderr",
     "output_type": "stream",
     "text": [
      "GPU available: True (cuda), used: True\n",
      "TPU available: False, using: 0 TPU cores\n",
      "IPU available: False, using: 0 IPUs\n",
      "HPU available: False, using: 0 HPUs\n",
      "/home/ganddalf/anaconda3/envs/dl/lib/python3.12/site-packages/lightning/pytorch/loggers/wandb.py:391: There is a wandb run already in progress and newly created instances of `WandbLogger` will reuse this run. If this is not desired, call `wandb.finish()` before instantiating `WandbLogger`.\n",
      "LOCAL_RANK: 0 - CUDA_VISIBLE_DEVICES: [0]\n",
      "\n",
      "  | Name    | Type             | Params\n",
      "---------------------------------------------\n",
      "0 | student | Cifar_Very_Tiny  | 15.1 K\n",
      "1 | teacher | Cifar_Tiny       | 58.0 K\n",
      "2 | loss    | CrossEntropyLoss | 0     \n",
      "---------------------------------------------\n",
      "15.1 K    Trainable params\n",
      "58.0 K    Non-trainable params\n",
      "73.0 K    Total params\n",
      "0.292     Total estimated model params size (MB)\n"
     ]
    },
    {
     "name": "stdout",
     "output_type": "stream",
     "text": [
      "Epoch 99: 100%|██████████| 79/79 [00:02<00:00, 29.49it/s, v_num=x9o7]"
     ]
    },
    {
     "name": "stderr",
     "output_type": "stream",
     "text": [
      "`Trainer.fit` stopped: `max_epochs=100` reached.\n"
     ]
    },
    {
     "name": "stdout",
     "output_type": "stream",
     "text": [
      "Epoch 99: 100%|██████████| 79/79 [00:02<00:00, 29.36it/s, v_num=x9o7]\n"
     ]
    },
    {
     "name": "stderr",
     "output_type": "stream",
     "text": [
      "/home/ganddalf/anaconda3/envs/dl/lib/python3.12/site-packages/lightning/pytorch/trainer/connectors/checkpoint_connector.py:145: `.test(ckpt_path=None)` was called without a model. The best model of the previous `fit` call will be used. You can pass `.test(ckpt_path='best')` to use the best model or `.test(ckpt_path='last')` to use the last model. If you pass a value, this warning will be silenced.\n",
      "Restoring states from the checkpoint path at ./lightning_logs/4miqx9o7/checkpoints/epoch=99-step=7900.ckpt\n",
      "LOCAL_RANK: 0 - CUDA_VISIBLE_DEVICES: [0]\n",
      "Loaded model weights from the checkpoint at ./lightning_logs/4miqx9o7/checkpoints/epoch=99-step=7900.ckpt\n"
     ]
    },
    {
     "name": "stdout",
     "output_type": "stream",
     "text": [
      "Testing DataLoader 0: 100%|██████████| 79/79 [00:04<00:00, 18.64it/s] \n",
      "────────────────────────────────────────────────────────────────────────────────────────────────────────────────────────\n",
      "       Test metric             DataLoader 0\n",
      "────────────────────────────────────────────────────────────────────────────────────────────────────────────────────────\n",
      "        AUC_FGSM            0.10000000149011612\n",
      "        AUC_Noise           0.10000000149011612\n",
      "        test_acc            0.10000000149011612\n",
      "────────────────────────────────────────────────────────────────────────────────────────────────────────────────────────\n"
     ]
    },
    {
     "data": {
      "text/html": [
       "<style>\n",
       "    table.wandb td:nth-child(1) { padding: 0 10px; text-align: left ; width: auto;} td:nth-child(2) {text-align: left ; width: 100%}\n",
       "    .wandb-row { display: flex; flex-direction: row; flex-wrap: wrap; justify-content: flex-start; width: 100% }\n",
       "    .wandb-col { display: flex; flex-direction: column; flex-basis: 100%; flex: 1; padding: 10px; }\n",
       "    </style>\n",
       "<div class=\"wandb-row\"><div class=\"wandb-col\"><h3>Run history:</h3><br/><table class=\"wandb\"><tr><td>AUC_FGSM</td><td>▁</td></tr><tr><td>AUC_Noise</td><td>▁</td></tr><tr><td>epoch</td><td>▁▁▁▁▂▂▂▂▂▃▃▃▃▃▃▄▄▄▄▄▅▅▅▅▅▅▆▆▆▆▆▇▇▇▇▇▇███</td></tr><tr><td>lr</td><td>▁</td></tr><tr><td>test_acc</td><td>▁</td></tr><tr><td>train_acc</td><td>▆▄▄▄▆▅█▅▂▇▅▃▃▅▁▆▅▆▅▄▅▆▅▅▃▅▃▃▆▁▃█▃▇▆▅▅▆▅▄</td></tr><tr><td>trainer/global_step</td><td>▁▁▁▂▂▂▂▂▂▃▃▃▃▃▄▄▄▄▄▄▅▅▅▅▅▅▆▆▆▆▆▇▇▇▇▇▇███</td></tr></table><br/></div><div class=\"wandb-col\"><h3>Run summary:</h3><br/><table class=\"wandb\"><tr><td>AUC_FGSM</td><td>0.1</td></tr><tr><td>AUC_Noise</td><td>0.1</td></tr><tr><td>distillation_type</td><td>random</td></tr><tr><td>epoch</td><td>100</td></tr><tr><td>lr</td><td>0.1</td></tr><tr><td>model_name</td><td>very_tiny</td></tr><tr><td>optimizer</td><td>SGD</td></tr><tr><td>test_acc</td><td>0.1</td></tr><tr><td>train_acc</td><td>0.08594</td></tr><tr><td>train_loss</td><td>nan</td></tr><tr><td>trainer/global_step</td><td>7900</td></tr></table><br/></div></div>"
      ],
      "text/plain": [
       "<IPython.core.display.HTML object>"
      ]
     },
     "metadata": {},
     "output_type": "display_data"
    },
    {
     "data": {
      "text/html": [
       " View run <strong style=\"color:#cdcd00\">floral-wave-303</strong> at: <a href='https://wandb.ai/potapuch2001/Oleinik-BS-Thesis-code/runs/4miqx9o7' target=\"_blank\">https://wandb.ai/potapuch2001/Oleinik-BS-Thesis-code/runs/4miqx9o7</a><br/> View project at: <a href='https://wandb.ai/potapuch2001/Oleinik-BS-Thesis-code' target=\"_blank\">https://wandb.ai/potapuch2001/Oleinik-BS-Thesis-code</a><br/>Synced 6 W&B file(s), 3 media file(s), 2 artifact file(s) and 0 other file(s)"
      ],
      "text/plain": [
       "<IPython.core.display.HTML object>"
      ]
     },
     "metadata": {},
     "output_type": "display_data"
    },
    {
     "data": {
      "text/html": [
       "Find logs at: <code>./wandb/run-20240623_042124-4miqx9o7/logs</code>"
      ],
      "text/plain": [
       "<IPython.core.display.HTML object>"
      ]
     },
     "metadata": {},
     "output_type": "display_data"
    },
    {
     "data": {
      "text/html": [
       "wandb version 0.17.2 is available!  To upgrade, please run:\n",
       " $ pip install wandb --upgrade"
      ],
      "text/plain": [
       "<IPython.core.display.HTML object>"
      ]
     },
     "metadata": {},
     "output_type": "display_data"
    },
    {
     "data": {
      "text/html": [
       "Tracking run with wandb version 0.16.6"
      ],
      "text/plain": [
       "<IPython.core.display.HTML object>"
      ]
     },
     "metadata": {},
     "output_type": "display_data"
    },
    {
     "data": {
      "text/html": [
       "Run data is saved locally in <code>/home/ganddalf/MIPT/Kafedra/Oleinik-BS-Thesis/code/wandb/run-20240623_042614-e5h87d99</code>"
      ],
      "text/plain": [
       "<IPython.core.display.HTML object>"
      ]
     },
     "metadata": {},
     "output_type": "display_data"
    },
    {
     "data": {
      "text/html": [
       "Syncing run <strong><a href='https://wandb.ai/potapuch2001/Oleinik-BS-Thesis-code/runs/e5h87d99' target=\"_blank\">expert-snowball-304</a></strong> to <a href='https://wandb.ai/potapuch2001/Oleinik-BS-Thesis-code' target=\"_blank\">Weights & Biases</a> (<a href='https://wandb.me/run' target=\"_blank\">docs</a>)<br/>"
      ],
      "text/plain": [
       "<IPython.core.display.HTML object>"
      ]
     },
     "metadata": {},
     "output_type": "display_data"
    },
    {
     "data": {
      "text/html": [
       " View project at <a href='https://wandb.ai/potapuch2001/Oleinik-BS-Thesis-code' target=\"_blank\">https://wandb.ai/potapuch2001/Oleinik-BS-Thesis-code</a>"
      ],
      "text/plain": [
       "<IPython.core.display.HTML object>"
      ]
     },
     "metadata": {},
     "output_type": "display_data"
    },
    {
     "data": {
      "text/html": [
       " View run at <a href='https://wandb.ai/potapuch2001/Oleinik-BS-Thesis-code/runs/e5h87d99' target=\"_blank\">https://wandb.ai/potapuch2001/Oleinik-BS-Thesis-code/runs/e5h87d99</a>"
      ],
      "text/plain": [
       "<IPython.core.display.HTML object>"
      ]
     },
     "metadata": {},
     "output_type": "display_data"
    },
    {
     "name": "stderr",
     "output_type": "stream",
     "text": [
      "GPU available: True (cuda), used: True\n",
      "TPU available: False, using: 0 TPU cores\n",
      "IPU available: False, using: 0 IPUs\n",
      "HPU available: False, using: 0 HPUs\n",
      "/home/ganddalf/anaconda3/envs/dl/lib/python3.12/site-packages/lightning/pytorch/loggers/wandb.py:391: There is a wandb run already in progress and newly created instances of `WandbLogger` will reuse this run. If this is not desired, call `wandb.finish()` before instantiating `WandbLogger`.\n",
      "LOCAL_RANK: 0 - CUDA_VISIBLE_DEVICES: [0]\n",
      "\n",
      "  | Name    | Type             | Params\n",
      "---------------------------------------------\n",
      "0 | student | Cifar_Very_Tiny  | 15.1 K\n",
      "1 | teacher | Cifar_Tiny       | 58.0 K\n",
      "2 | loss    | CrossEntropyLoss | 0     \n",
      "---------------------------------------------\n",
      "15.1 K    Trainable params\n",
      "58.0 K    Non-trainable params\n",
      "73.0 K    Total params\n",
      "0.292     Total estimated model params size (MB)\n"
     ]
    },
    {
     "name": "stdout",
     "output_type": "stream",
     "text": [
      "Epoch 99: 100%|██████████| 79/79 [00:02<00:00, 27.97it/s, v_num=7d99]"
     ]
    },
    {
     "name": "stderr",
     "output_type": "stream",
     "text": [
      "`Trainer.fit` stopped: `max_epochs=100` reached.\n"
     ]
    },
    {
     "name": "stdout",
     "output_type": "stream",
     "text": [
      "Epoch 99: 100%|██████████| 79/79 [00:02<00:00, 27.86it/s, v_num=7d99]\n"
     ]
    },
    {
     "name": "stderr",
     "output_type": "stream",
     "text": [
      "/home/ganddalf/anaconda3/envs/dl/lib/python3.12/site-packages/lightning/pytorch/trainer/connectors/checkpoint_connector.py:145: `.test(ckpt_path=None)` was called without a model. The best model of the previous `fit` call will be used. You can pass `.test(ckpt_path='best')` to use the best model or `.test(ckpt_path='last')` to use the last model. If you pass a value, this warning will be silenced.\n",
      "Restoring states from the checkpoint path at ./lightning_logs/e5h87d99/checkpoints/epoch=99-step=7900.ckpt\n",
      "LOCAL_RANK: 0 - CUDA_VISIBLE_DEVICES: [0]\n",
      "Loaded model weights from the checkpoint at ./lightning_logs/e5h87d99/checkpoints/epoch=99-step=7900.ckpt\n"
     ]
    },
    {
     "name": "stdout",
     "output_type": "stream",
     "text": [
      "Testing DataLoader 0: 100%|██████████| 79/79 [00:04<00:00, 16.89it/s] \n",
      "────────────────────────────────────────────────────────────────────────────────────────────────────────────────────────\n",
      "       Test metric             DataLoader 0\n",
      "────────────────────────────────────────────────────────────────────────────────────────────────────────────────────────\n",
      "        AUC_FGSM            0.10000000149011612\n",
      "        AUC_Noise           0.10000000149011612\n",
      "        test_acc            0.10000000149011612\n",
      "────────────────────────────────────────────────────────────────────────────────────────────────────────────────────────\n"
     ]
    },
    {
     "data": {
      "text/html": [
       "<style>\n",
       "    table.wandb td:nth-child(1) { padding: 0 10px; text-align: left ; width: auto;} td:nth-child(2) {text-align: left ; width: 100%}\n",
       "    .wandb-row { display: flex; flex-direction: row; flex-wrap: wrap; justify-content: flex-start; width: 100% }\n",
       "    .wandb-col { display: flex; flex-direction: column; flex-basis: 100%; flex: 1; padding: 10px; }\n",
       "    </style>\n",
       "<div class=\"wandb-row\"><div class=\"wandb-col\"><h3>Run history:</h3><br/><table class=\"wandb\"><tr><td>AUC_FGSM</td><td>▁</td></tr><tr><td>AUC_Noise</td><td>▁</td></tr><tr><td>epoch</td><td>▁▁▁▁▂▂▂▂▂▃▃▃▃▃▃▄▄▄▄▄▅▅▅▅▅▅▆▆▆▆▆▇▇▇▇▇▇███</td></tr><tr><td>lr</td><td>▁</td></tr><tr><td>test_acc</td><td>▁</td></tr><tr><td>train_acc</td><td>▆▄▄▄▆▅█▅▂▇▅▃▃▅▁▆▅▆▅▄▅▆▅▅▃▅▃▃▆▁▃█▃▇▆▅▅▆▅▄</td></tr><tr><td>trainer/global_step</td><td>▁▁▁▂▂▂▂▂▂▃▃▃▃▃▄▄▄▄▄▄▅▅▅▅▅▅▆▆▆▆▆▇▇▇▇▇▇███</td></tr></table><br/></div><div class=\"wandb-col\"><h3>Run summary:</h3><br/><table class=\"wandb\"><tr><td>AUC_FGSM</td><td>0.1</td></tr><tr><td>AUC_Noise</td><td>0.1</td></tr><tr><td>distillation_type</td><td>random</td></tr><tr><td>epoch</td><td>100</td></tr><tr><td>lr</td><td>0.1</td></tr><tr><td>model_name</td><td>very_tiny</td></tr><tr><td>optimizer</td><td>SGD</td></tr><tr><td>test_acc</td><td>0.1</td></tr><tr><td>train_acc</td><td>0.08594</td></tr><tr><td>train_loss</td><td>nan</td></tr><tr><td>trainer/global_step</td><td>7900</td></tr></table><br/></div></div>"
      ],
      "text/plain": [
       "<IPython.core.display.HTML object>"
      ]
     },
     "metadata": {},
     "output_type": "display_data"
    },
    {
     "data": {
      "text/html": [
       " View run <strong style=\"color:#cdcd00\">expert-snowball-304</strong> at: <a href='https://wandb.ai/potapuch2001/Oleinik-BS-Thesis-code/runs/e5h87d99' target=\"_blank\">https://wandb.ai/potapuch2001/Oleinik-BS-Thesis-code/runs/e5h87d99</a><br/> View project at: <a href='https://wandb.ai/potapuch2001/Oleinik-BS-Thesis-code' target=\"_blank\">https://wandb.ai/potapuch2001/Oleinik-BS-Thesis-code</a><br/>Synced 6 W&B file(s), 3 media file(s), 2 artifact file(s) and 0 other file(s)"
      ],
      "text/plain": [
       "<IPython.core.display.HTML object>"
      ]
     },
     "metadata": {},
     "output_type": "display_data"
    },
    {
     "data": {
      "text/html": [
       "Find logs at: <code>./wandb/run-20240623_042614-e5h87d99/logs</code>"
      ],
      "text/plain": [
       "<IPython.core.display.HTML object>"
      ]
     },
     "metadata": {},
     "output_type": "display_data"
    },
    {
     "data": {
      "text/html": [
       "wandb version 0.17.2 is available!  To upgrade, please run:\n",
       " $ pip install wandb --upgrade"
      ],
      "text/plain": [
       "<IPython.core.display.HTML object>"
      ]
     },
     "metadata": {},
     "output_type": "display_data"
    },
    {
     "data": {
      "text/html": [
       "Tracking run with wandb version 0.16.6"
      ],
      "text/plain": [
       "<IPython.core.display.HTML object>"
      ]
     },
     "metadata": {},
     "output_type": "display_data"
    },
    {
     "data": {
      "text/html": [
       "Run data is saved locally in <code>/home/ganddalf/MIPT/Kafedra/Oleinik-BS-Thesis/code/wandb/run-20240623_043104-z9jtbcut</code>"
      ],
      "text/plain": [
       "<IPython.core.display.HTML object>"
      ]
     },
     "metadata": {},
     "output_type": "display_data"
    },
    {
     "data": {
      "text/html": [
       "Syncing run <strong><a href='https://wandb.ai/potapuch2001/Oleinik-BS-Thesis-code/runs/z9jtbcut' target=\"_blank\">faithful-totem-305</a></strong> to <a href='https://wandb.ai/potapuch2001/Oleinik-BS-Thesis-code' target=\"_blank\">Weights & Biases</a> (<a href='https://wandb.me/run' target=\"_blank\">docs</a>)<br/>"
      ],
      "text/plain": [
       "<IPython.core.display.HTML object>"
      ]
     },
     "metadata": {},
     "output_type": "display_data"
    },
    {
     "data": {
      "text/html": [
       " View project at <a href='https://wandb.ai/potapuch2001/Oleinik-BS-Thesis-code' target=\"_blank\">https://wandb.ai/potapuch2001/Oleinik-BS-Thesis-code</a>"
      ],
      "text/plain": [
       "<IPython.core.display.HTML object>"
      ]
     },
     "metadata": {},
     "output_type": "display_data"
    },
    {
     "data": {
      "text/html": [
       " View run at <a href='https://wandb.ai/potapuch2001/Oleinik-BS-Thesis-code/runs/z9jtbcut' target=\"_blank\">https://wandb.ai/potapuch2001/Oleinik-BS-Thesis-code/runs/z9jtbcut</a>"
      ],
      "text/plain": [
       "<IPython.core.display.HTML object>"
      ]
     },
     "metadata": {},
     "output_type": "display_data"
    },
    {
     "name": "stderr",
     "output_type": "stream",
     "text": [
      "GPU available: True (cuda), used: True\n",
      "TPU available: False, using: 0 TPU cores\n",
      "IPU available: False, using: 0 IPUs\n",
      "HPU available: False, using: 0 HPUs\n",
      "/home/ganddalf/anaconda3/envs/dl/lib/python3.12/site-packages/lightning/pytorch/loggers/wandb.py:391: There is a wandb run already in progress and newly created instances of `WandbLogger` will reuse this run. If this is not desired, call `wandb.finish()` before instantiating `WandbLogger`.\n",
      "LOCAL_RANK: 0 - CUDA_VISIBLE_DEVICES: [0]\n",
      "\n",
      "  | Name    | Type             | Params\n",
      "---------------------------------------------\n",
      "0 | student | Cifar_Very_Tiny  | 15.1 K\n",
      "1 | teacher | Cifar_Tiny       | 58.0 K\n",
      "2 | loss    | CrossEntropyLoss | 0     \n",
      "---------------------------------------------\n",
      "15.1 K    Trainable params\n",
      "58.0 K    Non-trainable params\n",
      "73.0 K    Total params\n",
      "0.292     Total estimated model params size (MB)\n"
     ]
    },
    {
     "name": "stdout",
     "output_type": "stream",
     "text": [
      "Epoch 99: 100%|██████████| 79/79 [00:02<00:00, 27.68it/s, v_num=bcut]"
     ]
    },
    {
     "name": "stderr",
     "output_type": "stream",
     "text": [
      "`Trainer.fit` stopped: `max_epochs=100` reached.\n"
     ]
    },
    {
     "name": "stdout",
     "output_type": "stream",
     "text": [
      "Epoch 99: 100%|██████████| 79/79 [00:02<00:00, 27.57it/s, v_num=bcut]\n"
     ]
    },
    {
     "name": "stderr",
     "output_type": "stream",
     "text": [
      "/home/ganddalf/anaconda3/envs/dl/lib/python3.12/site-packages/lightning/pytorch/trainer/connectors/checkpoint_connector.py:145: `.test(ckpt_path=None)` was called without a model. The best model of the previous `fit` call will be used. You can pass `.test(ckpt_path='best')` to use the best model or `.test(ckpt_path='last')` to use the last model. If you pass a value, this warning will be silenced.\n",
      "Restoring states from the checkpoint path at ./lightning_logs/z9jtbcut/checkpoints/epoch=99-step=7900.ckpt\n",
      "LOCAL_RANK: 0 - CUDA_VISIBLE_DEVICES: [0]\n",
      "Loaded model weights from the checkpoint at ./lightning_logs/z9jtbcut/checkpoints/epoch=99-step=7900.ckpt\n"
     ]
    },
    {
     "name": "stdout",
     "output_type": "stream",
     "text": [
      "Testing DataLoader 0: 100%|██████████| 79/79 [00:05<00:00, 14.42it/s] \n",
      "────────────────────────────────────────────────────────────────────────────────────────────────────────────────────────\n",
      "       Test metric             DataLoader 0\n",
      "────────────────────────────────────────────────────────────────────────────────────────────────────────────────────────\n",
      "        AUC_FGSM            0.10000000149011612\n",
      "        AUC_Noise           0.10000000149011612\n",
      "        test_acc            0.10000000149011612\n",
      "────────────────────────────────────────────────────────────────────────────────────────────────────────────────────────\n"
     ]
    },
    {
     "data": {
      "text/html": [
       "<style>\n",
       "    table.wandb td:nth-child(1) { padding: 0 10px; text-align: left ; width: auto;} td:nth-child(2) {text-align: left ; width: 100%}\n",
       "    .wandb-row { display: flex; flex-direction: row; flex-wrap: wrap; justify-content: flex-start; width: 100% }\n",
       "    .wandb-col { display: flex; flex-direction: column; flex-basis: 100%; flex: 1; padding: 10px; }\n",
       "    </style>\n",
       "<div class=\"wandb-row\"><div class=\"wandb-col\"><h3>Run history:</h3><br/><table class=\"wandb\"><tr><td>AUC_FGSM</td><td>▁</td></tr><tr><td>AUC_Noise</td><td>▁</td></tr><tr><td>epoch</td><td>▁▁▁▁▂▂▂▂▂▃▃▃▃▃▃▄▄▄▄▄▅▅▅▅▅▅▆▆▆▆▆▇▇▇▇▇▇███</td></tr><tr><td>lr</td><td>▁</td></tr><tr><td>test_acc</td><td>▁</td></tr><tr><td>train_acc</td><td>▆▄▄▄▆▅█▅▂▇▅▃▃▅▁▆▅▆▅▄▅▆▅▅▃▅▃▃▆▁▃█▃▇▆▅▅▆▅▄</td></tr><tr><td>trainer/global_step</td><td>▁▁▁▂▂▂▂▂▂▃▃▃▃▃▄▄▄▄▄▄▅▅▅▅▅▅▆▆▆▆▆▇▇▇▇▇▇███</td></tr></table><br/></div><div class=\"wandb-col\"><h3>Run summary:</h3><br/><table class=\"wandb\"><tr><td>AUC_FGSM</td><td>0.1</td></tr><tr><td>AUC_Noise</td><td>0.1</td></tr><tr><td>distillation_type</td><td>random</td></tr><tr><td>epoch</td><td>100</td></tr><tr><td>lr</td><td>0.1</td></tr><tr><td>model_name</td><td>very_tiny</td></tr><tr><td>optimizer</td><td>SGD</td></tr><tr><td>test_acc</td><td>0.1</td></tr><tr><td>train_acc</td><td>0.08594</td></tr><tr><td>train_loss</td><td>nan</td></tr><tr><td>trainer/global_step</td><td>7900</td></tr></table><br/></div></div>"
      ],
      "text/plain": [
       "<IPython.core.display.HTML object>"
      ]
     },
     "metadata": {},
     "output_type": "display_data"
    },
    {
     "data": {
      "text/html": [
       " View run <strong style=\"color:#cdcd00\">faithful-totem-305</strong> at: <a href='https://wandb.ai/potapuch2001/Oleinik-BS-Thesis-code/runs/z9jtbcut' target=\"_blank\">https://wandb.ai/potapuch2001/Oleinik-BS-Thesis-code/runs/z9jtbcut</a><br/> View project at: <a href='https://wandb.ai/potapuch2001/Oleinik-BS-Thesis-code' target=\"_blank\">https://wandb.ai/potapuch2001/Oleinik-BS-Thesis-code</a><br/>Synced 6 W&B file(s), 3 media file(s), 2 artifact file(s) and 0 other file(s)"
      ],
      "text/plain": [
       "<IPython.core.display.HTML object>"
      ]
     },
     "metadata": {},
     "output_type": "display_data"
    },
    {
     "data": {
      "text/html": [
       "Find logs at: <code>./wandb/run-20240623_043104-z9jtbcut/logs</code>"
      ],
      "text/plain": [
       "<IPython.core.display.HTML object>"
      ]
     },
     "metadata": {},
     "output_type": "display_data"
    },
    {
     "data": {
      "text/html": [
       "wandb version 0.17.2 is available!  To upgrade, please run:\n",
       " $ pip install wandb --upgrade"
      ],
      "text/plain": [
       "<IPython.core.display.HTML object>"
      ]
     },
     "metadata": {},
     "output_type": "display_data"
    },
    {
     "data": {
      "text/html": [
       "Tracking run with wandb version 0.16.6"
      ],
      "text/plain": [
       "<IPython.core.display.HTML object>"
      ]
     },
     "metadata": {},
     "output_type": "display_data"
    },
    {
     "data": {
      "text/html": [
       "Run data is saved locally in <code>/home/ganddalf/MIPT/Kafedra/Oleinik-BS-Thesis/code/wandb/run-20240623_043556-it7chjr9</code>"
      ],
      "text/plain": [
       "<IPython.core.display.HTML object>"
      ]
     },
     "metadata": {},
     "output_type": "display_data"
    },
    {
     "data": {
      "text/html": [
       "Syncing run <strong><a href='https://wandb.ai/potapuch2001/Oleinik-BS-Thesis-code/runs/it7chjr9' target=\"_blank\">radiant-lake-306</a></strong> to <a href='https://wandb.ai/potapuch2001/Oleinik-BS-Thesis-code' target=\"_blank\">Weights & Biases</a> (<a href='https://wandb.me/run' target=\"_blank\">docs</a>)<br/>"
      ],
      "text/plain": [
       "<IPython.core.display.HTML object>"
      ]
     },
     "metadata": {},
     "output_type": "display_data"
    },
    {
     "data": {
      "text/html": [
       " View project at <a href='https://wandb.ai/potapuch2001/Oleinik-BS-Thesis-code' target=\"_blank\">https://wandb.ai/potapuch2001/Oleinik-BS-Thesis-code</a>"
      ],
      "text/plain": [
       "<IPython.core.display.HTML object>"
      ]
     },
     "metadata": {},
     "output_type": "display_data"
    },
    {
     "data": {
      "text/html": [
       " View run at <a href='https://wandb.ai/potapuch2001/Oleinik-BS-Thesis-code/runs/it7chjr9' target=\"_blank\">https://wandb.ai/potapuch2001/Oleinik-BS-Thesis-code/runs/it7chjr9</a>"
      ],
      "text/plain": [
       "<IPython.core.display.HTML object>"
      ]
     },
     "metadata": {},
     "output_type": "display_data"
    },
    {
     "name": "stderr",
     "output_type": "stream",
     "text": [
      "GPU available: True (cuda), used: True\n",
      "TPU available: False, using: 0 TPU cores\n",
      "IPU available: False, using: 0 IPUs\n",
      "HPU available: False, using: 0 HPUs\n",
      "/home/ganddalf/anaconda3/envs/dl/lib/python3.12/site-packages/lightning/pytorch/loggers/wandb.py:391: There is a wandb run already in progress and newly created instances of `WandbLogger` will reuse this run. If this is not desired, call `wandb.finish()` before instantiating `WandbLogger`.\n",
      "LOCAL_RANK: 0 - CUDA_VISIBLE_DEVICES: [0]\n",
      "\n",
      "  | Name    | Type             | Params\n",
      "---------------------------------------------\n",
      "0 | student | Cifar_Very_Tiny  | 15.1 K\n",
      "1 | teacher | Cifar_Tiny       | 58.0 K\n",
      "2 | loss    | CrossEntropyLoss | 0     \n",
      "---------------------------------------------\n",
      "15.1 K    Trainable params\n",
      "58.0 K    Non-trainable params\n",
      "73.0 K    Total params\n",
      "0.292     Total estimated model params size (MB)\n"
     ]
    },
    {
     "name": "stdout",
     "output_type": "stream",
     "text": [
      "Epoch 99: 100%|██████████| 79/79 [00:02<00:00, 26.64it/s, v_num=hjr9]"
     ]
    },
    {
     "name": "stderr",
     "output_type": "stream",
     "text": [
      "`Trainer.fit` stopped: `max_epochs=100` reached.\n"
     ]
    },
    {
     "name": "stdout",
     "output_type": "stream",
     "text": [
      "Epoch 99: 100%|██████████| 79/79 [00:02<00:00, 26.53it/s, v_num=hjr9]\n"
     ]
    },
    {
     "name": "stderr",
     "output_type": "stream",
     "text": [
      "/home/ganddalf/anaconda3/envs/dl/lib/python3.12/site-packages/lightning/pytorch/trainer/connectors/checkpoint_connector.py:145: `.test(ckpt_path=None)` was called without a model. The best model of the previous `fit` call will be used. You can pass `.test(ckpt_path='best')` to use the best model or `.test(ckpt_path='last')` to use the last model. If you pass a value, this warning will be silenced.\n",
      "Restoring states from the checkpoint path at ./lightning_logs/it7chjr9/checkpoints/epoch=99-step=7900.ckpt\n",
      "LOCAL_RANK: 0 - CUDA_VISIBLE_DEVICES: [0]\n",
      "Loaded model weights from the checkpoint at ./lightning_logs/it7chjr9/checkpoints/epoch=99-step=7900.ckpt\n"
     ]
    },
    {
     "name": "stdout",
     "output_type": "stream",
     "text": [
      "Testing DataLoader 0: 100%|██████████| 79/79 [00:04<00:00, 16.56it/s] \n",
      "────────────────────────────────────────────────────────────────────────────────────────────────────────────────────────\n",
      "       Test metric             DataLoader 0\n",
      "────────────────────────────────────────────────────────────────────────────────────────────────────────────────────────\n",
      "        AUC_FGSM            0.10000000149011612\n",
      "        AUC_Noise           0.10000000149011612\n",
      "        test_acc            0.10000000149011612\n",
      "────────────────────────────────────────────────────────────────────────────────────────────────────────────────────────\n"
     ]
    },
    {
     "data": {
      "text/html": [
       "<style>\n",
       "    table.wandb td:nth-child(1) { padding: 0 10px; text-align: left ; width: auto;} td:nth-child(2) {text-align: left ; width: 100%}\n",
       "    .wandb-row { display: flex; flex-direction: row; flex-wrap: wrap; justify-content: flex-start; width: 100% }\n",
       "    .wandb-col { display: flex; flex-direction: column; flex-basis: 100%; flex: 1; padding: 10px; }\n",
       "    </style>\n",
       "<div class=\"wandb-row\"><div class=\"wandb-col\"><h3>Run history:</h3><br/><table class=\"wandb\"><tr><td>AUC_FGSM</td><td>▁</td></tr><tr><td>AUC_Noise</td><td>▁</td></tr><tr><td>epoch</td><td>▁▁▁▁▂▂▂▂▂▃▃▃▃▃▃▄▄▄▄▄▅▅▅▅▅▅▆▆▆▆▆▇▇▇▇▇▇███</td></tr><tr><td>lr</td><td>▁</td></tr><tr><td>test_acc</td><td>▁</td></tr><tr><td>train_acc</td><td>▆▄▄▄▆▅█▅▂▇▅▃▃▅▁▆▅▆▅▄▅▆▅▅▃▅▃▃▆▁▃█▃▇▆▅▅▆▅▄</td></tr><tr><td>trainer/global_step</td><td>▁▁▁▂▂▂▂▂▂▃▃▃▃▃▄▄▄▄▄▄▅▅▅▅▅▅▆▆▆▆▆▇▇▇▇▇▇███</td></tr></table><br/></div><div class=\"wandb-col\"><h3>Run summary:</h3><br/><table class=\"wandb\"><tr><td>AUC_FGSM</td><td>0.1</td></tr><tr><td>AUC_Noise</td><td>0.1</td></tr><tr><td>distillation_type</td><td>random</td></tr><tr><td>epoch</td><td>100</td></tr><tr><td>lr</td><td>0.1</td></tr><tr><td>model_name</td><td>very_tiny</td></tr><tr><td>optimizer</td><td>SGD</td></tr><tr><td>test_acc</td><td>0.1</td></tr><tr><td>train_acc</td><td>0.08594</td></tr><tr><td>train_loss</td><td>nan</td></tr><tr><td>trainer/global_step</td><td>7900</td></tr></table><br/></div></div>"
      ],
      "text/plain": [
       "<IPython.core.display.HTML object>"
      ]
     },
     "metadata": {},
     "output_type": "display_data"
    },
    {
     "data": {
      "text/html": [
       " View run <strong style=\"color:#cdcd00\">radiant-lake-306</strong> at: <a href='https://wandb.ai/potapuch2001/Oleinik-BS-Thesis-code/runs/it7chjr9' target=\"_blank\">https://wandb.ai/potapuch2001/Oleinik-BS-Thesis-code/runs/it7chjr9</a><br/> View project at: <a href='https://wandb.ai/potapuch2001/Oleinik-BS-Thesis-code' target=\"_blank\">https://wandb.ai/potapuch2001/Oleinik-BS-Thesis-code</a><br/>Synced 6 W&B file(s), 3 media file(s), 2 artifact file(s) and 0 other file(s)"
      ],
      "text/plain": [
       "<IPython.core.display.HTML object>"
      ]
     },
     "metadata": {},
     "output_type": "display_data"
    },
    {
     "data": {
      "text/html": [
       "Find logs at: <code>./wandb/run-20240623_043556-it7chjr9/logs</code>"
      ],
      "text/plain": [
       "<IPython.core.display.HTML object>"
      ]
     },
     "metadata": {},
     "output_type": "display_data"
    },
    {
     "data": {
      "text/html": [
       "wandb version 0.17.2 is available!  To upgrade, please run:\n",
       " $ pip install wandb --upgrade"
      ],
      "text/plain": [
       "<IPython.core.display.HTML object>"
      ]
     },
     "metadata": {},
     "output_type": "display_data"
    },
    {
     "data": {
      "text/html": [
       "Tracking run with wandb version 0.16.6"
      ],
      "text/plain": [
       "<IPython.core.display.HTML object>"
      ]
     },
     "metadata": {},
     "output_type": "display_data"
    },
    {
     "data": {
      "text/html": [
       "Run data is saved locally in <code>/home/ganddalf/MIPT/Kafedra/Oleinik-BS-Thesis/code/wandb/run-20240623_044048-cup0wms7</code>"
      ],
      "text/plain": [
       "<IPython.core.display.HTML object>"
      ]
     },
     "metadata": {},
     "output_type": "display_data"
    },
    {
     "data": {
      "text/html": [
       "Syncing run <strong><a href='https://wandb.ai/potapuch2001/Oleinik-BS-Thesis-code/runs/cup0wms7' target=\"_blank\">noble-forest-307</a></strong> to <a href='https://wandb.ai/potapuch2001/Oleinik-BS-Thesis-code' target=\"_blank\">Weights & Biases</a> (<a href='https://wandb.me/run' target=\"_blank\">docs</a>)<br/>"
      ],
      "text/plain": [
       "<IPython.core.display.HTML object>"
      ]
     },
     "metadata": {},
     "output_type": "display_data"
    },
    {
     "data": {
      "text/html": [
       " View project at <a href='https://wandb.ai/potapuch2001/Oleinik-BS-Thesis-code' target=\"_blank\">https://wandb.ai/potapuch2001/Oleinik-BS-Thesis-code</a>"
      ],
      "text/plain": [
       "<IPython.core.display.HTML object>"
      ]
     },
     "metadata": {},
     "output_type": "display_data"
    },
    {
     "data": {
      "text/html": [
       " View run at <a href='https://wandb.ai/potapuch2001/Oleinik-BS-Thesis-code/runs/cup0wms7' target=\"_blank\">https://wandb.ai/potapuch2001/Oleinik-BS-Thesis-code/runs/cup0wms7</a>"
      ],
      "text/plain": [
       "<IPython.core.display.HTML object>"
      ]
     },
     "metadata": {},
     "output_type": "display_data"
    },
    {
     "name": "stderr",
     "output_type": "stream",
     "text": [
      "GPU available: True (cuda), used: True\n",
      "TPU available: False, using: 0 TPU cores\n",
      "IPU available: False, using: 0 IPUs\n",
      "HPU available: False, using: 0 HPUs\n",
      "/home/ganddalf/anaconda3/envs/dl/lib/python3.12/site-packages/lightning/pytorch/loggers/wandb.py:391: There is a wandb run already in progress and newly created instances of `WandbLogger` will reuse this run. If this is not desired, call `wandb.finish()` before instantiating `WandbLogger`.\n",
      "LOCAL_RANK: 0 - CUDA_VISIBLE_DEVICES: [0]\n",
      "\n",
      "  | Name    | Type             | Params\n",
      "---------------------------------------------\n",
      "0 | student | Cifar_Very_Tiny  | 15.1 K\n",
      "1 | teacher | Cifar_Tiny       | 58.0 K\n",
      "2 | loss    | CrossEntropyLoss | 0     \n",
      "---------------------------------------------\n",
      "15.1 K    Trainable params\n",
      "58.0 K    Non-trainable params\n",
      "73.0 K    Total params\n",
      "0.292     Total estimated model params size (MB)\n"
     ]
    },
    {
     "name": "stdout",
     "output_type": "stream",
     "text": [
      "Epoch 99: 100%|██████████| 79/79 [00:02<00:00, 28.58it/s, v_num=wms7]"
     ]
    },
    {
     "name": "stderr",
     "output_type": "stream",
     "text": [
      "`Trainer.fit` stopped: `max_epochs=100` reached.\n"
     ]
    },
    {
     "name": "stdout",
     "output_type": "stream",
     "text": [
      "Epoch 99: 100%|██████████| 79/79 [00:02<00:00, 28.45it/s, v_num=wms7]\n"
     ]
    },
    {
     "name": "stderr",
     "output_type": "stream",
     "text": [
      "/home/ganddalf/anaconda3/envs/dl/lib/python3.12/site-packages/lightning/pytorch/trainer/connectors/checkpoint_connector.py:145: `.test(ckpt_path=None)` was called without a model. The best model of the previous `fit` call will be used. You can pass `.test(ckpt_path='best')` to use the best model or `.test(ckpt_path='last')` to use the last model. If you pass a value, this warning will be silenced.\n",
      "Restoring states from the checkpoint path at ./lightning_logs/cup0wms7/checkpoints/epoch=99-step=7900.ckpt\n",
      "LOCAL_RANK: 0 - CUDA_VISIBLE_DEVICES: [0]\n",
      "Loaded model weights from the checkpoint at ./lightning_logs/cup0wms7/checkpoints/epoch=99-step=7900.ckpt\n"
     ]
    },
    {
     "name": "stdout",
     "output_type": "stream",
     "text": [
      "Testing DataLoader 0: 100%|██████████| 79/79 [00:04<00:00, 19.46it/s] \n",
      "────────────────────────────────────────────────────────────────────────────────────────────────────────────────────────\n",
      "       Test metric             DataLoader 0\n",
      "────────────────────────────────────────────────────────────────────────────────────────────────────────────────────────\n",
      "        AUC_FGSM            0.21616841852664948\n",
      "        AUC_Noise           0.3340551257133484\n",
      "        test_acc            0.38929998874664307\n",
      "────────────────────────────────────────────────────────────────────────────────────────────────────────────────────────\n"
     ]
    },
    {
     "data": {
      "text/html": [
       "<style>\n",
       "    table.wandb td:nth-child(1) { padding: 0 10px; text-align: left ; width: auto;} td:nth-child(2) {text-align: left ; width: 100%}\n",
       "    .wandb-row { display: flex; flex-direction: row; flex-wrap: wrap; justify-content: flex-start; width: 100% }\n",
       "    .wandb-col { display: flex; flex-direction: column; flex-basis: 100%; flex: 1; padding: 10px; }\n",
       "    </style>\n",
       "<div class=\"wandb-row\"><div class=\"wandb-col\"><h3>Run history:</h3><br/><table class=\"wandb\"><tr><td>AUC_FGSM</td><td>▁</td></tr><tr><td>AUC_Noise</td><td>▁</td></tr><tr><td>epoch</td><td>▁▁▁▁▂▂▂▂▂▃▃▃▃▃▃▄▄▄▄▄▅▅▅▅▅▅▆▆▆▆▆▇▇▇▇▇▇███</td></tr><tr><td>lr</td><td>▁</td></tr><tr><td>test_acc</td><td>▁</td></tr><tr><td>train_acc</td><td>▁▂▁▂▂▃▄▄▃▄▃▄▃▃▄▄▄▆▄▆▄▅▄▆▆█▅▆█▇▇▅▅▆▇▅█▇▇█</td></tr><tr><td>train_loss</td><td>█▅▄▄▃▃▃▃▃▂▂▂▂▂▂▂▂▂▂▂▂▂▂▁▂▂▁▁▁▂▁▁▁▁▁▁▁▁▁▁</td></tr><tr><td>trainer/global_step</td><td>▁▁▁▂▂▂▂▂▂▃▃▃▃▃▄▄▄▄▄▄▅▅▅▅▅▅▆▆▆▆▆▇▇▇▇▇▇███</td></tr></table><br/></div><div class=\"wandb-col\"><h3>Run summary:</h3><br/><table class=\"wandb\"><tr><td>AUC_FGSM</td><td>0.21617</td></tr><tr><td>AUC_Noise</td><td>0.33406</td></tr><tr><td>distillation_type</td><td>random</td></tr><tr><td>epoch</td><td>100</td></tr><tr><td>lr</td><td>0.1</td></tr><tr><td>model_name</td><td>very_tiny</td></tr><tr><td>optimizer</td><td>SGD</td></tr><tr><td>test_acc</td><td>0.3893</td></tr><tr><td>train_acc</td><td>0.46875</td></tr><tr><td>train_loss</td><td>70.50489</td></tr><tr><td>trainer/global_step</td><td>7900</td></tr></table><br/></div></div>"
      ],
      "text/plain": [
       "<IPython.core.display.HTML object>"
      ]
     },
     "metadata": {},
     "output_type": "display_data"
    },
    {
     "data": {
      "text/html": [
       " View run <strong style=\"color:#cdcd00\">noble-forest-307</strong> at: <a href='https://wandb.ai/potapuch2001/Oleinik-BS-Thesis-code/runs/cup0wms7' target=\"_blank\">https://wandb.ai/potapuch2001/Oleinik-BS-Thesis-code/runs/cup0wms7</a><br/> View project at: <a href='https://wandb.ai/potapuch2001/Oleinik-BS-Thesis-code' target=\"_blank\">https://wandb.ai/potapuch2001/Oleinik-BS-Thesis-code</a><br/>Synced 6 W&B file(s), 3 media file(s), 2 artifact file(s) and 0 other file(s)"
      ],
      "text/plain": [
       "<IPython.core.display.HTML object>"
      ]
     },
     "metadata": {},
     "output_type": "display_data"
    },
    {
     "data": {
      "text/html": [
       "Find logs at: <code>./wandb/run-20240623_044048-cup0wms7/logs</code>"
      ],
      "text/plain": [
       "<IPython.core.display.HTML object>"
      ]
     },
     "metadata": {},
     "output_type": "display_data"
    },
    {
     "data": {
      "text/html": [
       "wandb version 0.17.2 is available!  To upgrade, please run:\n",
       " $ pip install wandb --upgrade"
      ],
      "text/plain": [
       "<IPython.core.display.HTML object>"
      ]
     },
     "metadata": {},
     "output_type": "display_data"
    },
    {
     "data": {
      "text/html": [
       "Tracking run with wandb version 0.16.6"
      ],
      "text/plain": [
       "<IPython.core.display.HTML object>"
      ]
     },
     "metadata": {},
     "output_type": "display_data"
    },
    {
     "data": {
      "text/html": [
       "Run data is saved locally in <code>/home/ganddalf/MIPT/Kafedra/Oleinik-BS-Thesis/code/wandb/run-20240623_044538-v74q6r9m</code>"
      ],
      "text/plain": [
       "<IPython.core.display.HTML object>"
      ]
     },
     "metadata": {},
     "output_type": "display_data"
    },
    {
     "data": {
      "text/html": [
       "Syncing run <strong><a href='https://wandb.ai/potapuch2001/Oleinik-BS-Thesis-code/runs/v74q6r9m' target=\"_blank\">restful-paper-308</a></strong> to <a href='https://wandb.ai/potapuch2001/Oleinik-BS-Thesis-code' target=\"_blank\">Weights & Biases</a> (<a href='https://wandb.me/run' target=\"_blank\">docs</a>)<br/>"
      ],
      "text/plain": [
       "<IPython.core.display.HTML object>"
      ]
     },
     "metadata": {},
     "output_type": "display_data"
    },
    {
     "data": {
      "text/html": [
       " View project at <a href='https://wandb.ai/potapuch2001/Oleinik-BS-Thesis-code' target=\"_blank\">https://wandb.ai/potapuch2001/Oleinik-BS-Thesis-code</a>"
      ],
      "text/plain": [
       "<IPython.core.display.HTML object>"
      ]
     },
     "metadata": {},
     "output_type": "display_data"
    },
    {
     "data": {
      "text/html": [
       " View run at <a href='https://wandb.ai/potapuch2001/Oleinik-BS-Thesis-code/runs/v74q6r9m' target=\"_blank\">https://wandb.ai/potapuch2001/Oleinik-BS-Thesis-code/runs/v74q6r9m</a>"
      ],
      "text/plain": [
       "<IPython.core.display.HTML object>"
      ]
     },
     "metadata": {},
     "output_type": "display_data"
    },
    {
     "name": "stderr",
     "output_type": "stream",
     "text": [
      "GPU available: True (cuda), used: True\n",
      "TPU available: False, using: 0 TPU cores\n",
      "IPU available: False, using: 0 IPUs\n",
      "HPU available: False, using: 0 HPUs\n",
      "/home/ganddalf/anaconda3/envs/dl/lib/python3.12/site-packages/lightning/pytorch/loggers/wandb.py:391: There is a wandb run already in progress and newly created instances of `WandbLogger` will reuse this run. If this is not desired, call `wandb.finish()` before instantiating `WandbLogger`.\n",
      "LOCAL_RANK: 0 - CUDA_VISIBLE_DEVICES: [0]\n",
      "\n",
      "  | Name    | Type             | Params\n",
      "---------------------------------------------\n",
      "0 | student | Cifar_Very_Tiny  | 15.1 K\n",
      "1 | teacher | Cifar_Tiny       | 58.0 K\n",
      "2 | loss    | CrossEntropyLoss | 0     \n",
      "---------------------------------------------\n",
      "15.1 K    Trainable params\n",
      "58.0 K    Non-trainable params\n",
      "73.0 K    Total params\n",
      "0.292     Total estimated model params size (MB)\n"
     ]
    },
    {
     "name": "stdout",
     "output_type": "stream",
     "text": [
      "Epoch 99: 100%|██████████| 79/79 [00:02<00:00, 27.45it/s, v_num=6r9m]"
     ]
    },
    {
     "name": "stderr",
     "output_type": "stream",
     "text": [
      "`Trainer.fit` stopped: `max_epochs=100` reached.\n"
     ]
    },
    {
     "name": "stdout",
     "output_type": "stream",
     "text": [
      "Epoch 99: 100%|██████████| 79/79 [00:02<00:00, 27.34it/s, v_num=6r9m]\n"
     ]
    },
    {
     "name": "stderr",
     "output_type": "stream",
     "text": [
      "/home/ganddalf/anaconda3/envs/dl/lib/python3.12/site-packages/lightning/pytorch/trainer/connectors/checkpoint_connector.py:145: `.test(ckpt_path=None)` was called without a model. The best model of the previous `fit` call will be used. You can pass `.test(ckpt_path='best')` to use the best model or `.test(ckpt_path='last')` to use the last model. If you pass a value, this warning will be silenced.\n",
      "Restoring states from the checkpoint path at ./lightning_logs/v74q6r9m/checkpoints/epoch=99-step=7900.ckpt\n",
      "LOCAL_RANK: 0 - CUDA_VISIBLE_DEVICES: [0]\n",
      "Loaded model weights from the checkpoint at ./lightning_logs/v74q6r9m/checkpoints/epoch=99-step=7900.ckpt\n"
     ]
    },
    {
     "name": "stdout",
     "output_type": "stream",
     "text": [
      "Testing DataLoader 0: 100%|██████████| 79/79 [00:04<00:00, 16.60it/s] \n",
      "────────────────────────────────────────────────────────────────────────────────────────────────────────────────────────\n",
      "       Test metric             DataLoader 0\n",
      "────────────────────────────────────────────────────────────────────────────────────────────────────────────────────────\n",
      "        AUC_FGSM            0.10000000149011612\n",
      "        AUC_Noise           0.10000000149011612\n",
      "        test_acc            0.10000000149011612\n",
      "────────────────────────────────────────────────────────────────────────────────────────────────────────────────────────\n"
     ]
    },
    {
     "data": {
      "text/html": [
       "<style>\n",
       "    table.wandb td:nth-child(1) { padding: 0 10px; text-align: left ; width: auto;} td:nth-child(2) {text-align: left ; width: 100%}\n",
       "    .wandb-row { display: flex; flex-direction: row; flex-wrap: wrap; justify-content: flex-start; width: 100% }\n",
       "    .wandb-col { display: flex; flex-direction: column; flex-basis: 100%; flex: 1; padding: 10px; }\n",
       "    </style>\n",
       "<div class=\"wandb-row\"><div class=\"wandb-col\"><h3>Run history:</h3><br/><table class=\"wandb\"><tr><td>AUC_FGSM</td><td>▁</td></tr><tr><td>AUC_Noise</td><td>▁</td></tr><tr><td>epoch</td><td>▁▁▁▁▂▂▂▂▂▃▃▃▃▃▃▄▄▄▄▄▅▅▅▅▅▅▆▆▆▆▆▇▇▇▇▇▇███</td></tr><tr><td>lr</td><td>▁</td></tr><tr><td>test_acc</td><td>▁</td></tr><tr><td>train_acc</td><td>▆▄▄▄▆▅█▅▂▇▅▃▃▅▁▆▅▆▅▄▅▆▅▅▃▅▃▃▆▁▃█▃▇▆▅▅▆▅▄</td></tr><tr><td>trainer/global_step</td><td>▁▁▁▂▂▂▂▂▂▃▃▃▃▃▄▄▄▄▄▄▅▅▅▅▅▅▆▆▆▆▆▇▇▇▇▇▇███</td></tr></table><br/></div><div class=\"wandb-col\"><h3>Run summary:</h3><br/><table class=\"wandb\"><tr><td>AUC_FGSM</td><td>0.1</td></tr><tr><td>AUC_Noise</td><td>0.1</td></tr><tr><td>distillation_type</td><td>random</td></tr><tr><td>epoch</td><td>100</td></tr><tr><td>lr</td><td>0.1</td></tr><tr><td>model_name</td><td>very_tiny</td></tr><tr><td>optimizer</td><td>SGD</td></tr><tr><td>test_acc</td><td>0.1</td></tr><tr><td>train_acc</td><td>0.08594</td></tr><tr><td>train_loss</td><td>nan</td></tr><tr><td>trainer/global_step</td><td>7900</td></tr></table><br/></div></div>"
      ],
      "text/plain": [
       "<IPython.core.display.HTML object>"
      ]
     },
     "metadata": {},
     "output_type": "display_data"
    },
    {
     "data": {
      "text/html": [
       " View run <strong style=\"color:#cdcd00\">restful-paper-308</strong> at: <a href='https://wandb.ai/potapuch2001/Oleinik-BS-Thesis-code/runs/v74q6r9m' target=\"_blank\">https://wandb.ai/potapuch2001/Oleinik-BS-Thesis-code/runs/v74q6r9m</a><br/> View project at: <a href='https://wandb.ai/potapuch2001/Oleinik-BS-Thesis-code' target=\"_blank\">https://wandb.ai/potapuch2001/Oleinik-BS-Thesis-code</a><br/>Synced 6 W&B file(s), 3 media file(s), 2 artifact file(s) and 0 other file(s)"
      ],
      "text/plain": [
       "<IPython.core.display.HTML object>"
      ]
     },
     "metadata": {},
     "output_type": "display_data"
    },
    {
     "data": {
      "text/html": [
       "Find logs at: <code>./wandb/run-20240623_044538-v74q6r9m/logs</code>"
      ],
      "text/plain": [
       "<IPython.core.display.HTML object>"
      ]
     },
     "metadata": {},
     "output_type": "display_data"
    },
    {
     "data": {
      "text/html": [
       "wandb version 0.17.2 is available!  To upgrade, please run:\n",
       " $ pip install wandb --upgrade"
      ],
      "text/plain": [
       "<IPython.core.display.HTML object>"
      ]
     },
     "metadata": {},
     "output_type": "display_data"
    },
    {
     "data": {
      "text/html": [
       "Tracking run with wandb version 0.16.6"
      ],
      "text/plain": [
       "<IPython.core.display.HTML object>"
      ]
     },
     "metadata": {},
     "output_type": "display_data"
    },
    {
     "data": {
      "text/html": [
       "Run data is saved locally in <code>/home/ganddalf/MIPT/Kafedra/Oleinik-BS-Thesis/code/wandb/run-20240623_045032-n7yh5dft</code>"
      ],
      "text/plain": [
       "<IPython.core.display.HTML object>"
      ]
     },
     "metadata": {},
     "output_type": "display_data"
    },
    {
     "data": {
      "text/html": [
       "Syncing run <strong><a href='https://wandb.ai/potapuch2001/Oleinik-BS-Thesis-code/runs/n7yh5dft' target=\"_blank\">grateful-sunset-309</a></strong> to <a href='https://wandb.ai/potapuch2001/Oleinik-BS-Thesis-code' target=\"_blank\">Weights & Biases</a> (<a href='https://wandb.me/run' target=\"_blank\">docs</a>)<br/>"
      ],
      "text/plain": [
       "<IPython.core.display.HTML object>"
      ]
     },
     "metadata": {},
     "output_type": "display_data"
    },
    {
     "data": {
      "text/html": [
       " View project at <a href='https://wandb.ai/potapuch2001/Oleinik-BS-Thesis-code' target=\"_blank\">https://wandb.ai/potapuch2001/Oleinik-BS-Thesis-code</a>"
      ],
      "text/plain": [
       "<IPython.core.display.HTML object>"
      ]
     },
     "metadata": {},
     "output_type": "display_data"
    },
    {
     "data": {
      "text/html": [
       " View run at <a href='https://wandb.ai/potapuch2001/Oleinik-BS-Thesis-code/runs/n7yh5dft' target=\"_blank\">https://wandb.ai/potapuch2001/Oleinik-BS-Thesis-code/runs/n7yh5dft</a>"
      ],
      "text/plain": [
       "<IPython.core.display.HTML object>"
      ]
     },
     "metadata": {},
     "output_type": "display_data"
    },
    {
     "name": "stderr",
     "output_type": "stream",
     "text": [
      "GPU available: True (cuda), used: True\n",
      "TPU available: False, using: 0 TPU cores\n",
      "IPU available: False, using: 0 IPUs\n",
      "HPU available: False, using: 0 HPUs\n",
      "/home/ganddalf/anaconda3/envs/dl/lib/python3.12/site-packages/lightning/pytorch/loggers/wandb.py:391: There is a wandb run already in progress and newly created instances of `WandbLogger` will reuse this run. If this is not desired, call `wandb.finish()` before instantiating `WandbLogger`.\n",
      "LOCAL_RANK: 0 - CUDA_VISIBLE_DEVICES: [0]\n",
      "\n",
      "  | Name    | Type             | Params\n",
      "---------------------------------------------\n",
      "0 | student | Cifar_Very_Tiny  | 15.1 K\n",
      "1 | teacher | Cifar_Tiny       | 58.0 K\n",
      "2 | loss    | CrossEntropyLoss | 0     \n",
      "---------------------------------------------\n",
      "15.1 K    Trainable params\n",
      "58.0 K    Non-trainable params\n",
      "73.0 K    Total params\n",
      "0.292     Total estimated model params size (MB)\n"
     ]
    },
    {
     "name": "stdout",
     "output_type": "stream",
     "text": [
      "Epoch 99: 100%|██████████| 79/79 [00:02<00:00, 27.20it/s, v_num=5dft]"
     ]
    },
    {
     "name": "stderr",
     "output_type": "stream",
     "text": [
      "`Trainer.fit` stopped: `max_epochs=100` reached.\n"
     ]
    },
    {
     "name": "stdout",
     "output_type": "stream",
     "text": [
      "Epoch 99: 100%|██████████| 79/79 [00:02<00:00, 27.11it/s, v_num=5dft]\n"
     ]
    },
    {
     "name": "stderr",
     "output_type": "stream",
     "text": [
      "/home/ganddalf/anaconda3/envs/dl/lib/python3.12/site-packages/lightning/pytorch/trainer/connectors/checkpoint_connector.py:145: `.test(ckpt_path=None)` was called without a model. The best model of the previous `fit` call will be used. You can pass `.test(ckpt_path='best')` to use the best model or `.test(ckpt_path='last')` to use the last model. If you pass a value, this warning will be silenced.\n",
      "Restoring states from the checkpoint path at ./lightning_logs/n7yh5dft/checkpoints/epoch=99-step=7900.ckpt\n",
      "LOCAL_RANK: 0 - CUDA_VISIBLE_DEVICES: [0]\n",
      "Loaded model weights from the checkpoint at ./lightning_logs/n7yh5dft/checkpoints/epoch=99-step=7900.ckpt\n"
     ]
    },
    {
     "name": "stdout",
     "output_type": "stream",
     "text": [
      "Testing DataLoader 0: 100%|██████████| 79/79 [00:04<00:00, 18.23it/s] \n",
      "────────────────────────────────────────────────────────────────────────────────────────────────────────────────────────\n",
      "       Test metric             DataLoader 0\n",
      "────────────────────────────────────────────────────────────────────────────────────────────────────────────────────────\n",
      "        AUC_FGSM            0.25707894563674927\n",
      "        AUC_Noise           0.36381539702415466\n",
      "        test_acc            0.4636000096797943\n",
      "────────────────────────────────────────────────────────────────────────────────────────────────────────────────────────\n"
     ]
    },
    {
     "data": {
      "text/html": [
       "<style>\n",
       "    table.wandb td:nth-child(1) { padding: 0 10px; text-align: left ; width: auto;} td:nth-child(2) {text-align: left ; width: 100%}\n",
       "    .wandb-row { display: flex; flex-direction: row; flex-wrap: wrap; justify-content: flex-start; width: 100% }\n",
       "    .wandb-col { display: flex; flex-direction: column; flex-basis: 100%; flex: 1; padding: 10px; }\n",
       "    </style>\n",
       "<div class=\"wandb-row\"><div class=\"wandb-col\"><h3>Run history:</h3><br/><table class=\"wandb\"><tr><td>AUC_FGSM</td><td>▁</td></tr><tr><td>AUC_Noise</td><td>▁</td></tr><tr><td>epoch</td><td>▁▁▁▁▂▂▂▂▂▃▃▃▃▃▃▄▄▄▄▄▅▅▅▅▅▅▆▆▆▆▆▇▇▇▇▇▇███</td></tr><tr><td>lr</td><td>▁</td></tr><tr><td>test_acc</td><td>▁</td></tr><tr><td>train_acc</td><td>▁▁▂▅▃▄▃▅▄▅▅▅▅▄▅▆▅▅▅▆▄▅▅▆▅▆▅▅▆▇█▆▇▇▇▅▇▆▇▇</td></tr><tr><td>train_loss</td><td>█▄▃▃▃▃▂▂▂▂▂▂▂▂▁▁▂▂▁▂▂▂▂▁▂▂▁▁▁▂▁▁▁▁▁▁▁▁▁▁</td></tr><tr><td>trainer/global_step</td><td>▁▁▁▂▂▂▂▂▂▃▃▃▃▃▄▄▄▄▄▄▅▅▅▅▅▅▆▆▆▆▆▇▇▇▇▇▇███</td></tr></table><br/></div><div class=\"wandb-col\"><h3>Run summary:</h3><br/><table class=\"wandb\"><tr><td>AUC_FGSM</td><td>0.25708</td></tr><tr><td>AUC_Noise</td><td>0.36382</td></tr><tr><td>distillation_type</td><td>random</td></tr><tr><td>epoch</td><td>100</td></tr><tr><td>lr</td><td>0.1</td></tr><tr><td>model_name</td><td>very_tiny</td></tr><tr><td>optimizer</td><td>SGD</td></tr><tr><td>test_acc</td><td>0.4636</td></tr><tr><td>train_acc</td><td>0.47656</td></tr><tr><td>train_loss</td><td>77.07025</td></tr><tr><td>trainer/global_step</td><td>7900</td></tr></table><br/></div></div>"
      ],
      "text/plain": [
       "<IPython.core.display.HTML object>"
      ]
     },
     "metadata": {},
     "output_type": "display_data"
    },
    {
     "data": {
      "text/html": [
       " View run <strong style=\"color:#cdcd00\">grateful-sunset-309</strong> at: <a href='https://wandb.ai/potapuch2001/Oleinik-BS-Thesis-code/runs/n7yh5dft' target=\"_blank\">https://wandb.ai/potapuch2001/Oleinik-BS-Thesis-code/runs/n7yh5dft</a><br/> View project at: <a href='https://wandb.ai/potapuch2001/Oleinik-BS-Thesis-code' target=\"_blank\">https://wandb.ai/potapuch2001/Oleinik-BS-Thesis-code</a><br/>Synced 6 W&B file(s), 3 media file(s), 2 artifact file(s) and 0 other file(s)"
      ],
      "text/plain": [
       "<IPython.core.display.HTML object>"
      ]
     },
     "metadata": {},
     "output_type": "display_data"
    },
    {
     "data": {
      "text/html": [
       "Find logs at: <code>./wandb/run-20240623_045032-n7yh5dft/logs</code>"
      ],
      "text/plain": [
       "<IPython.core.display.HTML object>"
      ]
     },
     "metadata": {},
     "output_type": "display_data"
    },
    {
     "data": {
      "text/html": [
       "wandb version 0.17.2 is available!  To upgrade, please run:\n",
       " $ pip install wandb --upgrade"
      ],
      "text/plain": [
       "<IPython.core.display.HTML object>"
      ]
     },
     "metadata": {},
     "output_type": "display_data"
    },
    {
     "data": {
      "text/html": [
       "Tracking run with wandb version 0.16.6"
      ],
      "text/plain": [
       "<IPython.core.display.HTML object>"
      ]
     },
     "metadata": {},
     "output_type": "display_data"
    },
    {
     "data": {
      "text/html": [
       "Run data is saved locally in <code>/home/ganddalf/MIPT/Kafedra/Oleinik-BS-Thesis/code/wandb/run-20240623_045523-9e5jygpo</code>"
      ],
      "text/plain": [
       "<IPython.core.display.HTML object>"
      ]
     },
     "metadata": {},
     "output_type": "display_data"
    },
    {
     "data": {
      "text/html": [
       "Syncing run <strong><a href='https://wandb.ai/potapuch2001/Oleinik-BS-Thesis-code/runs/9e5jygpo' target=\"_blank\">misty-plant-310</a></strong> to <a href='https://wandb.ai/potapuch2001/Oleinik-BS-Thesis-code' target=\"_blank\">Weights & Biases</a> (<a href='https://wandb.me/run' target=\"_blank\">docs</a>)<br/>"
      ],
      "text/plain": [
       "<IPython.core.display.HTML object>"
      ]
     },
     "metadata": {},
     "output_type": "display_data"
    },
    {
     "data": {
      "text/html": [
       " View project at <a href='https://wandb.ai/potapuch2001/Oleinik-BS-Thesis-code' target=\"_blank\">https://wandb.ai/potapuch2001/Oleinik-BS-Thesis-code</a>"
      ],
      "text/plain": [
       "<IPython.core.display.HTML object>"
      ]
     },
     "metadata": {},
     "output_type": "display_data"
    },
    {
     "data": {
      "text/html": [
       " View run at <a href='https://wandb.ai/potapuch2001/Oleinik-BS-Thesis-code/runs/9e5jygpo' target=\"_blank\">https://wandb.ai/potapuch2001/Oleinik-BS-Thesis-code/runs/9e5jygpo</a>"
      ],
      "text/plain": [
       "<IPython.core.display.HTML object>"
      ]
     },
     "metadata": {},
     "output_type": "display_data"
    },
    {
     "name": "stderr",
     "output_type": "stream",
     "text": [
      "GPU available: True (cuda), used: True\n",
      "TPU available: False, using: 0 TPU cores\n",
      "IPU available: False, using: 0 IPUs\n",
      "HPU available: False, using: 0 HPUs\n",
      "/home/ganddalf/anaconda3/envs/dl/lib/python3.12/site-packages/lightning/pytorch/loggers/wandb.py:391: There is a wandb run already in progress and newly created instances of `WandbLogger` will reuse this run. If this is not desired, call `wandb.finish()` before instantiating `WandbLogger`.\n",
      "LOCAL_RANK: 0 - CUDA_VISIBLE_DEVICES: [0]\n",
      "\n",
      "  | Name    | Type             | Params\n",
      "---------------------------------------------\n",
      "0 | student | Cifar_Very_Tiny  | 15.1 K\n",
      "1 | teacher | Cifar_Tiny       | 58.0 K\n",
      "2 | loss    | CrossEntropyLoss | 0     \n",
      "---------------------------------------------\n",
      "15.1 K    Trainable params\n",
      "58.0 K    Non-trainable params\n",
      "73.0 K    Total params\n",
      "0.292     Total estimated model params size (MB)\n"
     ]
    },
    {
     "name": "stdout",
     "output_type": "stream",
     "text": [
      "Epoch 99: 100%|██████████| 79/79 [00:02<00:00, 29.71it/s, v_num=ygpo]"
     ]
    },
    {
     "name": "stderr",
     "output_type": "stream",
     "text": [
      "`Trainer.fit` stopped: `max_epochs=100` reached.\n"
     ]
    },
    {
     "name": "stdout",
     "output_type": "stream",
     "text": [
      "Epoch 99: 100%|██████████| 79/79 [00:02<00:00, 29.58it/s, v_num=ygpo]\n"
     ]
    },
    {
     "name": "stderr",
     "output_type": "stream",
     "text": [
      "/home/ganddalf/anaconda3/envs/dl/lib/python3.12/site-packages/lightning/pytorch/trainer/connectors/checkpoint_connector.py:145: `.test(ckpt_path=None)` was called without a model. The best model of the previous `fit` call will be used. You can pass `.test(ckpt_path='best')` to use the best model or `.test(ckpt_path='last')` to use the last model. If you pass a value, this warning will be silenced.\n",
      "Restoring states from the checkpoint path at ./lightning_logs/9e5jygpo/checkpoints/epoch=99-step=7900.ckpt\n",
      "LOCAL_RANK: 0 - CUDA_VISIBLE_DEVICES: [0]\n",
      "Loaded model weights from the checkpoint at ./lightning_logs/9e5jygpo/checkpoints/epoch=99-step=7900.ckpt\n"
     ]
    },
    {
     "name": "stdout",
     "output_type": "stream",
     "text": [
      "Testing DataLoader 0: 100%|██████████| 79/79 [00:04<00:00, 19.47it/s] \n",
      "────────────────────────────────────────────────────────────────────────────────────────────────────────────────────────\n",
      "       Test metric             DataLoader 0\n",
      "────────────────────────────────────────────────────────────────────────────────────────────────────────────────────────\n",
      "        AUC_FGSM            0.10000000149011612\n",
      "        AUC_Noise           0.10000000149011612\n",
      "        test_acc            0.10000000149011612\n",
      "────────────────────────────────────────────────────────────────────────────────────────────────────────────────────────\n"
     ]
    },
    {
     "data": {
      "text/html": [
       "<style>\n",
       "    table.wandb td:nth-child(1) { padding: 0 10px; text-align: left ; width: auto;} td:nth-child(2) {text-align: left ; width: 100%}\n",
       "    .wandb-row { display: flex; flex-direction: row; flex-wrap: wrap; justify-content: flex-start; width: 100% }\n",
       "    .wandb-col { display: flex; flex-direction: column; flex-basis: 100%; flex: 1; padding: 10px; }\n",
       "    </style>\n",
       "<div class=\"wandb-row\"><div class=\"wandb-col\"><h3>Run history:</h3><br/><table class=\"wandb\"><tr><td>AUC_FGSM</td><td>▁</td></tr><tr><td>AUC_Noise</td><td>▁</td></tr><tr><td>epoch</td><td>▁▁▁▁▂▂▂▂▂▃▃▃▃▃▃▄▄▄▄▄▅▅▅▅▅▅▆▆▆▆▆▇▇▇▇▇▇███</td></tr><tr><td>lr</td><td>▁</td></tr><tr><td>test_acc</td><td>▁</td></tr><tr><td>train_acc</td><td>▆▄▄▄▆▅█▅▂▇▅▃▃▅▁▆▅▆▅▄▅▆▅▅▃▅▃▃▆▁▃█▃▇▆▅▅▆▅▄</td></tr><tr><td>trainer/global_step</td><td>▁▁▁▂▂▂▂▂▂▃▃▃▃▃▄▄▄▄▄▄▅▅▅▅▅▅▆▆▆▆▆▇▇▇▇▇▇███</td></tr></table><br/></div><div class=\"wandb-col\"><h3>Run summary:</h3><br/><table class=\"wandb\"><tr><td>AUC_FGSM</td><td>0.1</td></tr><tr><td>AUC_Noise</td><td>0.1</td></tr><tr><td>distillation_type</td><td>random</td></tr><tr><td>epoch</td><td>100</td></tr><tr><td>lr</td><td>0.1</td></tr><tr><td>model_name</td><td>very_tiny</td></tr><tr><td>optimizer</td><td>SGD</td></tr><tr><td>test_acc</td><td>0.1</td></tr><tr><td>train_acc</td><td>0.08594</td></tr><tr><td>train_loss</td><td>nan</td></tr><tr><td>trainer/global_step</td><td>7900</td></tr></table><br/></div></div>"
      ],
      "text/plain": [
       "<IPython.core.display.HTML object>"
      ]
     },
     "metadata": {},
     "output_type": "display_data"
    },
    {
     "data": {
      "text/html": [
       " View run <strong style=\"color:#cdcd00\">misty-plant-310</strong> at: <a href='https://wandb.ai/potapuch2001/Oleinik-BS-Thesis-code/runs/9e5jygpo' target=\"_blank\">https://wandb.ai/potapuch2001/Oleinik-BS-Thesis-code/runs/9e5jygpo</a><br/> View project at: <a href='https://wandb.ai/potapuch2001/Oleinik-BS-Thesis-code' target=\"_blank\">https://wandb.ai/potapuch2001/Oleinik-BS-Thesis-code</a><br/>Synced 6 W&B file(s), 3 media file(s), 2 artifact file(s) and 0 other file(s)"
      ],
      "text/plain": [
       "<IPython.core.display.HTML object>"
      ]
     },
     "metadata": {},
     "output_type": "display_data"
    },
    {
     "data": {
      "text/html": [
       "Find logs at: <code>./wandb/run-20240623_045523-9e5jygpo/logs</code>"
      ],
      "text/plain": [
       "<IPython.core.display.HTML object>"
      ]
     },
     "metadata": {},
     "output_type": "display_data"
    },
    {
     "data": {
      "text/html": [
       "wandb version 0.17.2 is available!  To upgrade, please run:\n",
       " $ pip install wandb --upgrade"
      ],
      "text/plain": [
       "<IPython.core.display.HTML object>"
      ]
     },
     "metadata": {},
     "output_type": "display_data"
    },
    {
     "data": {
      "text/html": [
       "Tracking run with wandb version 0.16.6"
      ],
      "text/plain": [
       "<IPython.core.display.HTML object>"
      ]
     },
     "metadata": {},
     "output_type": "display_data"
    },
    {
     "data": {
      "text/html": [
       "Run data is saved locally in <code>/home/ganddalf/MIPT/Kafedra/Oleinik-BS-Thesis/code/wandb/run-20240623_050014-ozem4glx</code>"
      ],
      "text/plain": [
       "<IPython.core.display.HTML object>"
      ]
     },
     "metadata": {},
     "output_type": "display_data"
    },
    {
     "data": {
      "text/html": [
       "Syncing run <strong><a href='https://wandb.ai/potapuch2001/Oleinik-BS-Thesis-code/runs/ozem4glx' target=\"_blank\">young-star-311</a></strong> to <a href='https://wandb.ai/potapuch2001/Oleinik-BS-Thesis-code' target=\"_blank\">Weights & Biases</a> (<a href='https://wandb.me/run' target=\"_blank\">docs</a>)<br/>"
      ],
      "text/plain": [
       "<IPython.core.display.HTML object>"
      ]
     },
     "metadata": {},
     "output_type": "display_data"
    },
    {
     "data": {
      "text/html": [
       " View project at <a href='https://wandb.ai/potapuch2001/Oleinik-BS-Thesis-code' target=\"_blank\">https://wandb.ai/potapuch2001/Oleinik-BS-Thesis-code</a>"
      ],
      "text/plain": [
       "<IPython.core.display.HTML object>"
      ]
     },
     "metadata": {},
     "output_type": "display_data"
    },
    {
     "data": {
      "text/html": [
       " View run at <a href='https://wandb.ai/potapuch2001/Oleinik-BS-Thesis-code/runs/ozem4glx' target=\"_blank\">https://wandb.ai/potapuch2001/Oleinik-BS-Thesis-code/runs/ozem4glx</a>"
      ],
      "text/plain": [
       "<IPython.core.display.HTML object>"
      ]
     },
     "metadata": {},
     "output_type": "display_data"
    },
    {
     "name": "stderr",
     "output_type": "stream",
     "text": [
      "GPU available: True (cuda), used: True\n",
      "TPU available: False, using: 0 TPU cores\n",
      "IPU available: False, using: 0 IPUs\n",
      "HPU available: False, using: 0 HPUs\n",
      "/home/ganddalf/anaconda3/envs/dl/lib/python3.12/site-packages/lightning/pytorch/loggers/wandb.py:391: There is a wandb run already in progress and newly created instances of `WandbLogger` will reuse this run. If this is not desired, call `wandb.finish()` before instantiating `WandbLogger`.\n",
      "LOCAL_RANK: 0 - CUDA_VISIBLE_DEVICES: [0]\n",
      "\n",
      "  | Name    | Type             | Params\n",
      "---------------------------------------------\n",
      "0 | student | Cifar_Very_Tiny  | 15.1 K\n",
      "1 | teacher | Cifar_Tiny       | 58.0 K\n",
      "2 | loss    | CrossEntropyLoss | 0     \n",
      "---------------------------------------------\n",
      "15.1 K    Trainable params\n",
      "58.0 K    Non-trainable params\n",
      "73.0 K    Total params\n",
      "0.292     Total estimated model params size (MB)\n"
     ]
    },
    {
     "name": "stdout",
     "output_type": "stream",
     "text": [
      "Epoch 99: 100%|██████████| 79/79 [00:02<00:00, 28.99it/s, v_num=4glx]"
     ]
    },
    {
     "name": "stderr",
     "output_type": "stream",
     "text": [
      "`Trainer.fit` stopped: `max_epochs=100` reached.\n"
     ]
    },
    {
     "name": "stdout",
     "output_type": "stream",
     "text": [
      "Epoch 99: 100%|██████████| 79/79 [00:02<00:00, 28.87it/s, v_num=4glx]\n"
     ]
    },
    {
     "name": "stderr",
     "output_type": "stream",
     "text": [
      "/home/ganddalf/anaconda3/envs/dl/lib/python3.12/site-packages/lightning/pytorch/trainer/connectors/checkpoint_connector.py:145: `.test(ckpt_path=None)` was called without a model. The best model of the previous `fit` call will be used. You can pass `.test(ckpt_path='best')` to use the best model or `.test(ckpt_path='last')` to use the last model. If you pass a value, this warning will be silenced.\n",
      "Restoring states from the checkpoint path at ./lightning_logs/ozem4glx/checkpoints/epoch=99-step=7900.ckpt\n",
      "LOCAL_RANK: 0 - CUDA_VISIBLE_DEVICES: [0]\n",
      "Loaded model weights from the checkpoint at ./lightning_logs/ozem4glx/checkpoints/epoch=99-step=7900.ckpt\n"
     ]
    },
    {
     "name": "stdout",
     "output_type": "stream",
     "text": [
      "Testing DataLoader 0: 100%|██████████| 79/79 [00:05<00:00, 14.25it/s] \n",
      "────────────────────────────────────────────────────────────────────────────────────────────────────────────────────────\n",
      "       Test metric             DataLoader 0\n",
      "────────────────────────────────────────────────────────────────────────────────────────────────────────────────────────\n",
      "        AUC_FGSM            0.25721052289009094\n",
      "        AUC_Noise           0.32589229941368103\n",
      "        test_acc            0.3831000030040741\n",
      "────────────────────────────────────────────────────────────────────────────────────────────────────────────────────────\n"
     ]
    },
    {
     "data": {
      "text/html": [
       "<style>\n",
       "    table.wandb td:nth-child(1) { padding: 0 10px; text-align: left ; width: auto;} td:nth-child(2) {text-align: left ; width: 100%}\n",
       "    .wandb-row { display: flex; flex-direction: row; flex-wrap: wrap; justify-content: flex-start; width: 100% }\n",
       "    .wandb-col { display: flex; flex-direction: column; flex-basis: 100%; flex: 1; padding: 10px; }\n",
       "    </style>\n",
       "<div class=\"wandb-row\"><div class=\"wandb-col\"><h3>Run history:</h3><br/><table class=\"wandb\"><tr><td>AUC_FGSM</td><td>▁</td></tr><tr><td>AUC_Noise</td><td>▁</td></tr><tr><td>epoch</td><td>▁▁▁▁▂▂▂▂▂▃▃▃▃▃▃▄▄▄▄▄▅▅▅▅▅▅▆▆▆▆▆▇▇▇▇▇▇███</td></tr><tr><td>lr</td><td>▁</td></tr><tr><td>test_acc</td><td>▁</td></tr><tr><td>train_acc</td><td>▁▁▃▁▄▅▃▄▄▆▅▅▅▆▄▅▅▄▅▆▆▅▄▆▆█▇▇▇▇▇▇▆▇▆▅█▇▇▇</td></tr><tr><td>train_loss</td><td>█▄▃▃▃▃▃▃▃▃▄▃▂▃▂▂▃▃▂▃▃▃▂▂▃▂▁▂▂▂▂▂▂▁▂▁▁▂▁▁</td></tr><tr><td>trainer/global_step</td><td>▁▁▁▂▂▂▂▂▂▃▃▃▃▃▄▄▄▄▄▄▅▅▅▅▅▅▆▆▆▆▆▇▇▇▇▇▇███</td></tr></table><br/></div><div class=\"wandb-col\"><h3>Run summary:</h3><br/><table class=\"wandb\"><tr><td>AUC_FGSM</td><td>0.25721</td></tr><tr><td>AUC_Noise</td><td>0.32589</td></tr><tr><td>distillation_type</td><td>random</td></tr><tr><td>epoch</td><td>100</td></tr><tr><td>lr</td><td>0.1</td></tr><tr><td>model_name</td><td>very_tiny</td></tr><tr><td>optimizer</td><td>SGD</td></tr><tr><td>test_acc</td><td>0.3831</td></tr><tr><td>train_acc</td><td>0.36719</td></tr><tr><td>train_loss</td><td>88.81807</td></tr><tr><td>trainer/global_step</td><td>7900</td></tr></table><br/></div></div>"
      ],
      "text/plain": [
       "<IPython.core.display.HTML object>"
      ]
     },
     "metadata": {},
     "output_type": "display_data"
    },
    {
     "data": {
      "text/html": [
       " View run <strong style=\"color:#cdcd00\">young-star-311</strong> at: <a href='https://wandb.ai/potapuch2001/Oleinik-BS-Thesis-code/runs/ozem4glx' target=\"_blank\">https://wandb.ai/potapuch2001/Oleinik-BS-Thesis-code/runs/ozem4glx</a><br/> View project at: <a href='https://wandb.ai/potapuch2001/Oleinik-BS-Thesis-code' target=\"_blank\">https://wandb.ai/potapuch2001/Oleinik-BS-Thesis-code</a><br/>Synced 6 W&B file(s), 3 media file(s), 2 artifact file(s) and 0 other file(s)"
      ],
      "text/plain": [
       "<IPython.core.display.HTML object>"
      ]
     },
     "metadata": {},
     "output_type": "display_data"
    },
    {
     "data": {
      "text/html": [
       "Find logs at: <code>./wandb/run-20240623_050014-ozem4glx/logs</code>"
      ],
      "text/plain": [
       "<IPython.core.display.HTML object>"
      ]
     },
     "metadata": {},
     "output_type": "display_data"
    },
    {
     "data": {
      "text/html": [
       "wandb version 0.17.2 is available!  To upgrade, please run:\n",
       " $ pip install wandb --upgrade"
      ],
      "text/plain": [
       "<IPython.core.display.HTML object>"
      ]
     },
     "metadata": {},
     "output_type": "display_data"
    },
    {
     "data": {
      "text/html": [
       "Tracking run with wandb version 0.16.6"
      ],
      "text/plain": [
       "<IPython.core.display.HTML object>"
      ]
     },
     "metadata": {},
     "output_type": "display_data"
    },
    {
     "data": {
      "text/html": [
       "Run data is saved locally in <code>/home/ganddalf/MIPT/Kafedra/Oleinik-BS-Thesis/code/wandb/run-20240623_050504-murflo0v</code>"
      ],
      "text/plain": [
       "<IPython.core.display.HTML object>"
      ]
     },
     "metadata": {},
     "output_type": "display_data"
    },
    {
     "data": {
      "text/html": [
       "Syncing run <strong><a href='https://wandb.ai/potapuch2001/Oleinik-BS-Thesis-code/runs/murflo0v' target=\"_blank\">polished-yogurt-312</a></strong> to <a href='https://wandb.ai/potapuch2001/Oleinik-BS-Thesis-code' target=\"_blank\">Weights & Biases</a> (<a href='https://wandb.me/run' target=\"_blank\">docs</a>)<br/>"
      ],
      "text/plain": [
       "<IPython.core.display.HTML object>"
      ]
     },
     "metadata": {},
     "output_type": "display_data"
    },
    {
     "data": {
      "text/html": [
       " View project at <a href='https://wandb.ai/potapuch2001/Oleinik-BS-Thesis-code' target=\"_blank\">https://wandb.ai/potapuch2001/Oleinik-BS-Thesis-code</a>"
      ],
      "text/plain": [
       "<IPython.core.display.HTML object>"
      ]
     },
     "metadata": {},
     "output_type": "display_data"
    },
    {
     "data": {
      "text/html": [
       " View run at <a href='https://wandb.ai/potapuch2001/Oleinik-BS-Thesis-code/runs/murflo0v' target=\"_blank\">https://wandb.ai/potapuch2001/Oleinik-BS-Thesis-code/runs/murflo0v</a>"
      ],
      "text/plain": [
       "<IPython.core.display.HTML object>"
      ]
     },
     "metadata": {},
     "output_type": "display_data"
    },
    {
     "name": "stderr",
     "output_type": "stream",
     "text": [
      "GPU available: True (cuda), used: True\n",
      "TPU available: False, using: 0 TPU cores\n",
      "IPU available: False, using: 0 IPUs\n",
      "HPU available: False, using: 0 HPUs\n",
      "/home/ganddalf/anaconda3/envs/dl/lib/python3.12/site-packages/lightning/pytorch/loggers/wandb.py:391: There is a wandb run already in progress and newly created instances of `WandbLogger` will reuse this run. If this is not desired, call `wandb.finish()` before instantiating `WandbLogger`.\n",
      "LOCAL_RANK: 0 - CUDA_VISIBLE_DEVICES: [0]\n",
      "\n",
      "  | Name    | Type             | Params\n",
      "---------------------------------------------\n",
      "0 | student | Cifar_Very_Tiny  | 15.1 K\n",
      "1 | teacher | Cifar_Tiny       | 58.0 K\n",
      "2 | loss    | CrossEntropyLoss | 0     \n",
      "---------------------------------------------\n",
      "15.1 K    Trainable params\n",
      "58.0 K    Non-trainable params\n",
      "73.0 K    Total params\n",
      "0.292     Total estimated model params size (MB)\n"
     ]
    },
    {
     "name": "stdout",
     "output_type": "stream",
     "text": [
      "Epoch 99: 100%|██████████| 79/79 [00:02<00:00, 27.10it/s, v_num=lo0v]"
     ]
    },
    {
     "name": "stderr",
     "output_type": "stream",
     "text": [
      "`Trainer.fit` stopped: `max_epochs=100` reached.\n"
     ]
    },
    {
     "name": "stdout",
     "output_type": "stream",
     "text": [
      "Epoch 99: 100%|██████████| 79/79 [00:02<00:00, 26.99it/s, v_num=lo0v]\n"
     ]
    },
    {
     "name": "stderr",
     "output_type": "stream",
     "text": [
      "/home/ganddalf/anaconda3/envs/dl/lib/python3.12/site-packages/lightning/pytorch/trainer/connectors/checkpoint_connector.py:145: `.test(ckpt_path=None)` was called without a model. The best model of the previous `fit` call will be used. You can pass `.test(ckpt_path='best')` to use the best model or `.test(ckpt_path='last')` to use the last model. If you pass a value, this warning will be silenced.\n",
      "Restoring states from the checkpoint path at ./lightning_logs/murflo0v/checkpoints/epoch=99-step=7900.ckpt\n",
      "LOCAL_RANK: 0 - CUDA_VISIBLE_DEVICES: [0]\n",
      "Loaded model weights from the checkpoint at ./lightning_logs/murflo0v/checkpoints/epoch=99-step=7900.ckpt\n"
     ]
    },
    {
     "name": "stdout",
     "output_type": "stream",
     "text": [
      "Testing DataLoader 0: 100%|██████████| 79/79 [00:04<00:00, 19.37it/s] \n",
      "────────────────────────────────────────────────────────────────────────────────────────────────────────────────────────\n",
      "       Test metric             DataLoader 0\n",
      "────────────────────────────────────────────────────────────────────────────────────────────────────────────────────────\n",
      "        AUC_FGSM            0.2748710513114929\n",
      "        AUC_Noise           0.4944192171096802\n",
      "        test_acc            0.5975000262260437\n",
      "────────────────────────────────────────────────────────────────────────────────────────────────────────────────────────\n"
     ]
    },
    {
     "data": {
      "text/html": [
       "<style>\n",
       "    table.wandb td:nth-child(1) { padding: 0 10px; text-align: left ; width: auto;} td:nth-child(2) {text-align: left ; width: 100%}\n",
       "    .wandb-row { display: flex; flex-direction: row; flex-wrap: wrap; justify-content: flex-start; width: 100% }\n",
       "    .wandb-col { display: flex; flex-direction: column; flex-basis: 100%; flex: 1; padding: 10px; }\n",
       "    </style>\n",
       "<div class=\"wandb-row\"><div class=\"wandb-col\"><h3>Run history:</h3><br/><table class=\"wandb\"><tr><td>AUC_FGSM</td><td>▁</td></tr><tr><td>AUC_Noise</td><td>▁</td></tr><tr><td>epoch</td><td>▁▁▁▁▂▂▂▂▂▃▃▃▃▃▃▄▄▄▄▄▅▅▅▅▅▅▆▆▆▆▆▇▇▇▇▇▇███</td></tr><tr><td>lr</td><td>▁</td></tr><tr><td>test_acc</td><td>▁</td></tr><tr><td>train_acc</td><td>▁▃▃▅▄▅▆▅▅▄▆▆▆▆▆▇▆▆▇▆▆▆▆▆▇▆▅▇▆▆▇▇▇█▆▆▇▆█▇</td></tr><tr><td>train_loss</td><td>█▆▅▄▄▃▃▃▃▂▂▂▂▂▂▂▂▂▂▂▂▂▂▂▂▂▂▂▂▂▁▁▁▁▁▁▁▁▁▁</td></tr><tr><td>trainer/global_step</td><td>▁▁▁▂▂▂▂▂▂▃▃▃▃▃▄▄▄▄▄▄▅▅▅▅▅▅▆▆▆▆▆▇▇▇▇▇▇███</td></tr></table><br/></div><div class=\"wandb-col\"><h3>Run summary:</h3><br/><table class=\"wandb\"><tr><td>AUC_FGSM</td><td>0.27487</td></tr><tr><td>AUC_Noise</td><td>0.49442</td></tr><tr><td>distillation_type</td><td>random</td></tr><tr><td>epoch</td><td>100</td></tr><tr><td>lr</td><td>0.1</td></tr><tr><td>model_name</td><td>very_tiny</td></tr><tr><td>optimizer</td><td>SGD</td></tr><tr><td>test_acc</td><td>0.5975</td></tr><tr><td>train_acc</td><td>0.67969</td></tr><tr><td>train_loss</td><td>44.3864</td></tr><tr><td>trainer/global_step</td><td>7900</td></tr></table><br/></div></div>"
      ],
      "text/plain": [
       "<IPython.core.display.HTML object>"
      ]
     },
     "metadata": {},
     "output_type": "display_data"
    },
    {
     "data": {
      "text/html": [
       " View run <strong style=\"color:#cdcd00\">polished-yogurt-312</strong> at: <a href='https://wandb.ai/potapuch2001/Oleinik-BS-Thesis-code/runs/murflo0v' target=\"_blank\">https://wandb.ai/potapuch2001/Oleinik-BS-Thesis-code/runs/murflo0v</a><br/> View project at: <a href='https://wandb.ai/potapuch2001/Oleinik-BS-Thesis-code' target=\"_blank\">https://wandb.ai/potapuch2001/Oleinik-BS-Thesis-code</a><br/>Synced 6 W&B file(s), 3 media file(s), 2 artifact file(s) and 0 other file(s)"
      ],
      "text/plain": [
       "<IPython.core.display.HTML object>"
      ]
     },
     "metadata": {},
     "output_type": "display_data"
    },
    {
     "data": {
      "text/html": [
       "Find logs at: <code>./wandb/run-20240623_050504-murflo0v/logs</code>"
      ],
      "text/plain": [
       "<IPython.core.display.HTML object>"
      ]
     },
     "metadata": {},
     "output_type": "display_data"
    },
    {
     "data": {
      "image/png": "[encoded data removed]",
      "text/plain": [
       "<Figure size 640x480 with 1 Axes>"
      ]
     },
     "metadata": {},
     "output_type": "display_data"
    }
   ],
   "source": [
    "for _ in range(30):\n",
    "    with wandb.init() as run:\n",
    "        wandb.log({\n",
    "            \"model_name\": \"very_tiny\",\n",
    "            \"distillation_type\": \"random\",\n",
    "        })\n",
    "        teacher = Base_Model.load_from_checkpoint(\"./lightning_logs/bov6ycbq/checkpoints/epoch=99-step=7900.ckpt\", model=Cifar_Tiny(10)).model\n",
    "        model = All_Connections_Distillation(student=Cifar_Very_Tiny(10), teacher=teacher, coeffs=random_coeffs())\n",
    "        trainer = L.Trainer(max_epochs=100, logger=WandbLogger(), inference_mode=False)\n",
    "        trainer.fit(model=model, train_dataloaders=train_loader)\n",
    "        trainer.test(dataloaders=test_loader)"
   ]
  },
  {
   "cell_type": "markdown",
   "metadata": {},
   "source": [
    "### Optuna"
   ]
  },
  {
   "cell_type": "code",
   "execution_count": 11,
   "metadata": {},
   "outputs": [],
   "source": [
    "def objective(trial):\n",
    "    beta = 0.5\n",
    "\n",
    "    coeffs = []\n",
    "    for i in range(4):\n",
    "        for j in range(4):\n",
    "            coeffs.append(trial.suggest_float(f\"l_{i}_{j}\", 0.00001, 1, log=True))\n",
    "    l_sum = sum(coeffs)\n",
    "    trial.set_user_attr(f\"l_sum\", l_sum)\n",
    "    for i in range(len(coeffs)):\n",
    "        coeffs[i] /= l_sum\n",
    "    \n",
    "    teacher = Base_Model.load_from_checkpoint(\"./lightning_logs/bov6ycbq/checkpoints/epoch=99-step=7900.ckpt\", model=Cifar_Tiny(10)).model\n",
    "    model = All_Connections_Distillation(student=Cifar_Very_Tiny(10), teacher=teacher, coeffs=coeffs, beta=beta)\n",
    "    trainer = L.Trainer(max_epochs=100, logger=WandbLogger(), inference_mode=False)\n",
    "    trainer.fit(model=model, train_dataloaders=train_loader)\n",
    "    trainer.test(dataloaders=test_loader)\n",
    "    return model.test_acc"
   ]
  },
  {
   "cell_type": "code",
   "execution_count": 12,
   "metadata": {},
   "outputs": [
    {
     "name": "stderr",
     "output_type": "stream",
     "text": [
      "/tmp/ipykernel_4515/1253110053.py:6: ExperimentalWarning: WeightsAndBiasesCallback is experimental (supported from v2.9.0). The interface can change in the future.\n",
      "  wandbc = WeightsAndBiasesCallback(metric_name=\"test_acc\")\n"
     ]
    },
    {
     "data": {
      "text/html": [
       "wandb version 0.17.2 is available!  To upgrade, please run:\n",
       " $ pip install wandb --upgrade"
      ],
      "text/plain": [
       "<IPython.core.display.HTML object>"
      ]
     },
     "metadata": {},
     "output_type": "display_data"
    },
    {
     "data": {
      "text/html": [
       "Tracking run with wandb version 0.16.6"
      ],
      "text/plain": [
       "<IPython.core.display.HTML object>"
      ]
     },
     "metadata": {},
     "output_type": "display_data"
    },
    {
     "data": {
      "text/html": [
       "Run data is saved locally in <code>/home/ganddalf/MIPT/Kafedra/Oleinik-BS-Thesis/code/wandb/run-20240623_050958-q73fuutg</code>"
      ],
      "text/plain": [
       "<IPython.core.display.HTML object>"
      ]
     },
     "metadata": {},
     "output_type": "display_data"
    },
    {
     "data": {
      "text/html": [
       "Syncing run <strong><a href='https://wandb.ai/potapuch2001/Oleinik-BS-Thesis-code/runs/q73fuutg' target=\"_blank\">peachy-shape-313</a></strong> to <a href='https://wandb.ai/potapuch2001/Oleinik-BS-Thesis-code' target=\"_blank\">Weights & Biases</a> (<a href='https://wandb.me/run' target=\"_blank\">docs</a>)<br/>"
      ],
      "text/plain": [
       "<IPython.core.display.HTML object>"
      ]
     },
     "metadata": {},
     "output_type": "display_data"
    },
    {
     "data": {
      "text/html": [
       " View project at <a href='https://wandb.ai/potapuch2001/Oleinik-BS-Thesis-code' target=\"_blank\">https://wandb.ai/potapuch2001/Oleinik-BS-Thesis-code</a>"
      ],
      "text/plain": [
       "<IPython.core.display.HTML object>"
      ]
     },
     "metadata": {},
     "output_type": "display_data"
    },
    {
     "data": {
      "text/html": [
       " View run at <a href='https://wandb.ai/potapuch2001/Oleinik-BS-Thesis-code/runs/q73fuutg' target=\"_blank\">https://wandb.ai/potapuch2001/Oleinik-BS-Thesis-code/runs/q73fuutg</a>"
      ],
      "text/plain": [
       "<IPython.core.display.HTML object>"
      ]
     },
     "metadata": {},
     "output_type": "display_data"
    }
   ],
   "source": [
    "wandb_kwargs = {\n",
    "            \"project\": \"Oleinik-BS-Thesis-code\",\n",
    "            \"entity\": \"potapuch2001\",\n",
    "            \"reinit\": True,\n",
    "        }\n",
    "wandbc = WeightsAndBiasesCallback(metric_name=\"test_acc\")"
   ]
  },
  {
   "cell_type": "code",
   "execution_count": 13,
   "metadata": {},
   "outputs": [
    {
     "name": "stderr",
     "output_type": "stream",
     "text": [
      "[I 2024-06-23 05:10:02,940] A new study created in memory with name: no-name-288434a4-ed5d-4f81-9e81-2f8d2cad37b6\n",
      "GPU available: True (cuda), used: True\n",
      "TPU available: False, using: 0 TPU cores\n",
      "IPU available: False, using: 0 IPUs\n",
      "HPU available: False, using: 0 HPUs\n",
      "/home/ganddalf/anaconda3/envs/dl/lib/python3.12/site-packages/lightning/pytorch/loggers/wandb.py:391: There is a wandb run already in progress and newly created instances of `WandbLogger` will reuse this run. If this is not desired, call `wandb.finish()` before instantiating `WandbLogger`.\n",
      "LOCAL_RANK: 0 - CUDA_VISIBLE_DEVICES: [0]\n",
      "\n",
      "  | Name    | Type             | Params\n",
      "---------------------------------------------\n",
      "0 | student | Cifar_Very_Tiny  | 15.1 K\n",
      "1 | teacher | Cifar_Tiny       | 58.0 K\n",
      "2 | loss    | CrossEntropyLoss | 0     \n",
      "---------------------------------------------\n",
      "15.1 K    Trainable params\n",
      "58.0 K    Non-trainable params\n",
      "73.0 K    Total params\n",
      "0.292     Total estimated model params size (MB)\n"
     ]
    },
    {
     "name": "stdout",
     "output_type": "stream",
     "text": [
      "Epoch 99: 100%|██████████| 79/79 [00:02<00:00, 29.26it/s, v_num=uutg]"
     ]
    },
    {
     "name": "stderr",
     "output_type": "stream",
     "text": [
      "`Trainer.fit` stopped: `max_epochs=100` reached.\n"
     ]
    },
    {
     "name": "stdout",
     "output_type": "stream",
     "text": [
      "Epoch 99: 100%|██████████| 79/79 [00:02<00:00, 29.13it/s, v_num=uutg]\n"
     ]
    },
    {
     "name": "stderr",
     "output_type": "stream",
     "text": [
      "/home/ganddalf/anaconda3/envs/dl/lib/python3.12/site-packages/lightning/pytorch/trainer/connectors/checkpoint_connector.py:145: `.test(ckpt_path=None)` was called without a model. The best model of the previous `fit` call will be used. You can pass `.test(ckpt_path='best')` to use the best model or `.test(ckpt_path='last')` to use the last model. If you pass a value, this warning will be silenced.\n",
      "Restoring states from the checkpoint path at ./lightning_logs/q73fuutg/checkpoints/epoch=99-step=7900.ckpt\n",
      "LOCAL_RANK: 0 - CUDA_VISIBLE_DEVICES: [0]\n",
      "Loaded model weights from the checkpoint at ./lightning_logs/q73fuutg/checkpoints/epoch=99-step=7900.ckpt\n"
     ]
    },
    {
     "name": "stdout",
     "output_type": "stream",
     "text": [
      "Testing DataLoader 0: 100%|██████████| 79/79 [00:04<00:00, 17.61it/s] "
     ]
    },
    {
     "name": "stderr",
     "output_type": "stream",
     "text": [
      "[I 2024-06-23 05:14:39,595] Trial 0 finished with value: 0.4835 and parameters: {'l_0_0': 1.2405158535906e-05, 'l_0_1': 0.025504509791833725, 'l_0_2': 3.308224572200784e-05, 'l_0_3': 0.007774584644570674, 'l_1_0': 0.0010864721031495779, 'l_1_1': 0.004531557901729248, 'l_1_2': 1.9720182622631414e-05, 'l_1_3': 1.7647610416328634e-05, 'l_2_0': 0.24995197524352042, 'l_2_1': 1.7478062187660882e-05, 'l_2_2': 0.47176785544516747, 'l_2_3': 2.039939029182473e-05, 'l_3_0': 0.2526583590314904, 'l_3_1': 0.5402313641662941, 'l_3_2': 1.528975488746934e-05, 'l_3_3': 0.022369857835652544}. Best is trial 0 with value: 0.4835.\n",
      "GPU available: True (cuda), used: True\n",
      "TPU available: False, using: 0 TPU cores\n",
      "IPU available: False, using: 0 IPUs\n",
      "HPU available: False, using: 0 HPUs\n",
      "/home/ganddalf/anaconda3/envs/dl/lib/python3.12/site-packages/lightning/pytorch/loggers/wandb.py:391: There is a wandb run already in progress and newly created instances of `WandbLogger` will reuse this run. If this is not desired, call `wandb.finish()` before instantiating `WandbLogger`.\n",
      "/home/ganddalf/anaconda3/envs/dl/lib/python3.12/site-packages/lightning/pytorch/callbacks/model_checkpoint.py:653: Checkpoint directory ./lightning_logs/q73fuutg/checkpoints exists and is not empty.\n",
      "LOCAL_RANK: 0 - CUDA_VISIBLE_DEVICES: [0]\n",
      "\n",
      "  | Name    | Type             | Params\n",
      "---------------------------------------------\n",
      "0 | student | Cifar_Very_Tiny  | 15.1 K\n",
      "1 | teacher | Cifar_Tiny       | 58.0 K\n",
      "2 | loss    | CrossEntropyLoss | 0     \n",
      "---------------------------------------------\n",
      "15.1 K    Trainable params\n",
      "58.0 K    Non-trainable params\n",
      "73.0 K    Total params\n",
      "0.292     Total estimated model params size (MB)\n"
     ]
    },
    {
     "name": "stdout",
     "output_type": "stream",
     "text": [
      "\n",
      "────────────────────────────────────────────────────────────────────────────────────────────────────────────────────────\n",
      "       Test metric             DataLoader 0\n",
      "────────────────────────────────────────────────────────────────────────────────────────────────────────────────────────\n",
      "        AUC_FGSM            0.26791316270828247\n",
      "        AUC_Noise           0.36542052030563354\n",
      "        test_acc            0.48350000381469727\n",
      "────────────────────────────────────────────────────────────────────────────────────────────────────────────────────────\n",
      "Epoch 99: 100%|██████████| 79/79 [00:02<00:00, 27.56it/s, v_num=uutg]"
     ]
    },
    {
     "name": "stderr",
     "output_type": "stream",
     "text": [
      "\u001b[34m\u001b[1mwandb\u001b[0m: \u001b[33mWARNING\u001b[0m Step only supports monotonically increasing values, use define_metric to set a custom x axis. For details see: https://wandb.me/define-metric\n",
      "\u001b[34m\u001b[1mwandb\u001b[0m: \u001b[33mWARNING\u001b[0m (User provided step: 0 is less than current step: 163. Dropping entry: {'l_0_0': 1.2405158535906e-05, 'l_0_1': 0.025504509791833725, 'l_0_2': 3.308224572200784e-05, 'l_0_3': 0.007774584644570674, 'l_1_0': 0.0010864721031495779, 'l_1_1': 0.004531557901729248, 'l_1_2': 1.9720182622631414e-05, 'l_1_3': 1.7647610416328634e-05, 'l_2_0': 0.24995197524352042, 'l_2_1': 1.7478062187660882e-05, 'l_2_2': 0.47176785544516747, 'l_2_3': 2.039939029182473e-05, 'l_3_0': 0.2526583590314904, 'l_3_1': 0.5402313641662941, 'l_3_2': 1.528975488746934e-05, 'l_3_3': 0.022369857835652544, 'test_acc': 0.4835, '_timestamp': 1719108879.5964825}).\n",
      "\u001b[34m\u001b[1mwandb\u001b[0m: \u001b[33mWARNING\u001b[0m (User provided step: 1 is less than current step: 326. Dropping entry: {'l_0_0': 0.3776760779893475, 'l_0_1': 0.002865819203483708, 'l_0_2': 0.19124340037350013, 'l_0_3': 0.7139394033710896, 'l_1_0': 0.0014598846677216636, 'l_1_1': 0.0004890729676922251, 'l_1_2': 0.0009801693314242601, 'l_1_3': 2.367887114757176e-05, 'l_2_0': 0.16638372638393706, 'l_2_1': 0.761190269083524, 'l_2_2': 0.009217322378465839, 'l_2_3': 0.5675748950381205, 'l_3_0': 0.0013315188647027843, 'l_3_1': 1.2522162339224748e-05, 'l_3_2': 0.00014940320999186826, 'l_3_3': 4.726225466905527e-05, 'test_acc': 0.5742, '_timestamp': 1719109154.977156}).\n",
      "\u001b[34m\u001b[1mwandb\u001b[0m: \u001b[33mWARNING\u001b[0m (User provided step: 2 is less than current step: 489. Dropping entry: {'l_0_0': 0.00355847203763678, 'l_0_1': 0.0001887833717963402, 'l_0_2': 0.6205633794131997, 'l_0_3': 1.0836228945656246e-05, 'l_1_0': 0.00010709929467880958, 'l_1_1': 0.04043757800786423, 'l_1_2': 0.13655751070838465, 'l_1_3': 0.009542790877271242, 'l_2_0': 0.0010722400611817603, 'l_2_1': 0.0012184789263867636, 'l_2_2': 0.7318371283898251, 'l_2_3': 0.00014013599797161653, 'l_3_0': 0.001740667619908208, 'l_3_1': 0.00032027141655180727, 'l_3_2': 0.05210744782218909, 'l_3_3': 0.22553006399802142, 'test_acc': 0.595, '_timestamp': 1719109432.0444376}).\n",
      "\u001b[34m\u001b[1mwandb\u001b[0m: \u001b[33mWARNING\u001b[0m (User provided step: 3 is less than current step: 652. Dropping entry: {'l_0_0': 0.0010355212959501407, 'l_0_1': 0.5234687211951792, 'l_0_2': 6.886507615936732e-05, 'l_0_3': 0.00026812080892280125, 'l_1_0': 0.010752127452642174, 'l_1_1': 0.06918050119328048, 'l_1_2': 0.00013766033729681725, 'l_1_3': 0.47227952959577046, 'l_2_0': 0.002766042671508555, 'l_2_1': 0.0303904942342625, 'l_2_2': 0.00011062720744344924, 'l_2_3': 0.07287034367068353, 'l_3_0': 0.0023972158909064062, 'l_3_1': 7.860063527682122e-05, 'l_3_2': 3.880432785002543e-05, 'l_3_3': 0.350459926491498, 'test_acc': 0.5842, '_timestamp': 1719109704.2802157}).\n",
      "\u001b[34m\u001b[1mwandb\u001b[0m: \u001b[33mWARNING\u001b[0m (User provided step: 4 is less than current step: 815. Dropping entry: {'l_0_0': 0.09620682428957845, 'l_0_1': 1.3379336352166171e-05, 'l_0_2': 8.281628064503496e-05, 'l_0_3': 0.007076991955493225, 'l_1_0': 0.08730358156715376, 'l_1_1': 0.004036966106319648, 'l_1_2': 0.0035983374571801224, 'l_1_3': 0.00021257892650230153, 'l_2_0': 2.382447633668015e-05, 'l_2_1': 1.1296524301682893e-05, 'l_2_2': 0.004962759185612788, 'l_2_3': 0.28909279599893506, 'l_3_0': 3.488651597528318e-05, 'l_3_1': 0.00021883302298334256, 'l_3_2': 0.0008915404117205542, 'l_3_3': 0.0017192288842949428, 'test_acc': 0.5854, '_timestamp': 1719109977.6005678}).\n",
      "\u001b[34m\u001b[1mwandb\u001b[0m: \u001b[33mWARNING\u001b[0m (User provided step: 5 is less than current step: 978. Dropping entry: {'l_0_0': 0.03915840197146564, 'l_0_1': 0.0012650383193218392, 'l_0_2': 0.8553642906572677, 'l_0_3': 0.006859130540776665, 'l_1_0': 0.03395557121992097, 'l_1_1': 5.028449465236722e-05, 'l_1_2': 0.013758125969739715, 'l_1_3': 0.0015875850041813732, 'l_2_0': 0.0007590394410521529, 'l_2_1': 0.02028222480448777, 'l_2_2': 1.0910051101258752e-05, 'l_2_3': 0.17951970203984544, 'l_3_0': 5.8138809965968954e-05, 'l_3_1': 0.10357584003424118, 'l_3_2': 0.0010622519401507955, 'l_3_3': 0.0036883015784823577, 'test_acc': 0.5601, '_timestamp': 1719110256.5315452}).\n",
      "\u001b[34m\u001b[1mwandb\u001b[0m: \u001b[33mWARNING\u001b[0m (User provided step: 6 is less than current step: 1141. Dropping entry: {'l_0_0': 0.012747751605950007, 'l_0_1': 0.00040006503821292193, 'l_0_2': 0.000508659956717831, 'l_0_3': 0.5383483206417936, 'l_1_0': 0.2594197633131169, 'l_1_1': 0.0007727360369704052, 'l_1_2': 0.0004221737002484562, 'l_1_3': 0.1721558575562417, 'l_2_0': 6.031228942936578e-05, 'l_2_1': 0.008140396822566695, 'l_2_2': 0.38761004117773873, 'l_2_3': 0.0002111451046380521, 'l_3_0': 0.011864880970355336, 'l_3_1': 0.002058414097424651, 'l_3_2': 0.0007678017047348959, 'l_3_3': 0.00017932855413432559, 'test_acc': 0.559, '_timestamp': 1719110537.5288725}).\n",
      "\u001b[34m\u001b[1mwandb\u001b[0m: \u001b[33mWARNING\u001b[0m (User provided step: 7 is less than current step: 1304. Dropping entry: {'l_0_0': 0.0006394001237656698, 'l_0_1': 9.843859459354948e-05, 'l_0_2': 0.00836802142627163, 'l_0_3': 0.1589565693543564, 'l_1_0': 0.00029302728577038247, 'l_1_1': 0.007923955808449156, 'l_1_2': 0.0007770333088462217, 'l_1_3': 0.02043877534226152, 'l_2_0': 3.799524409962908e-05, 'l_2_1': 0.9750854117755966, 'l_2_2': 0.052037129165641426, 'l_2_3': 0.0022873092615118, 'l_3_0': 0.0010613418978054846, 'l_3_1': 4.542921979215621e-05, 'l_3_2': 0.057417044120728684, 'l_3_3': 0.11711232982367888, 'test_acc': 0.5744, '_timestamp': 1719110814.0104403}).\n",
      "\u001b[34m\u001b[1mwandb\u001b[0m: \u001b[33mWARNING\u001b[0m (User provided step: 8 is less than current step: 1467. Dropping entry: {'l_0_0': 7.161414857119773e-05, 'l_0_1': 0.0009080112533023616, 'l_0_2': 0.7680415031203615, 'l_0_3': 0.04356637879502116, 'l_1_0': 0.00016413786722356693, 'l_1_1': 0.040751987953841974, 'l_1_2': 2.5491124335514476e-05, 'l_1_3': 3.2002785050721705e-05, 'l_2_0': 0.0004069244285877721, 'l_2_1': 0.009849499534527961, 'l_2_2': 5.1185820172979295e-05, 'l_2_3': 6.887056236604274e-05, 'l_3_0': 0.002109096395912034, 'l_3_1': 0.00591078779692476, 'l_3_2': 6.103917598906e-05, 'l_3_3': 0.036482178541527355, 'test_acc': 0.5553, '_timestamp': 1719111095.0797257}).\n",
      "\u001b[34m\u001b[1mwandb\u001b[0m: \u001b[33mWARNING\u001b[0m (User provided step: 9 is less than current step: 1630. Dropping entry: {'l_0_0': 0.192765315971426, 'l_0_1': 0.12759662688831305, 'l_0_2': 0.6120737813587183, 'l_0_3': 0.004932957425331948, 'l_1_0': 0.03667843319566009, 'l_1_1': 0.007766647431375069, 'l_1_2': 5.434471709966791e-05, 'l_1_3': 5.655205715624357e-05, 'l_2_0': 0.0005169100782817017, 'l_2_1': 0.0005226928195326391, 'l_2_2': 0.02911626940939174, 'l_2_3': 0.00397502616089779, 'l_3_0': 0.17072205902169285, 'l_3_1': 0.0014003437413876252, 'l_3_2': 0.0005245422684486459, 'l_3_3': 0.386798085635566, 'test_acc': 0.5559, '_timestamp': 1719111374.9529924}).\n",
      "\u001b[34m\u001b[1mwandb\u001b[0m: \u001b[33mWARNING\u001b[0m (User provided step: 10 is less than current step: 1793. Dropping entry: {'l_0_0': 0.005185623452051438, 'l_0_1': 2.5870247111675325e-05, 'l_0_2': 0.02225656840493365, 'l_0_3': 1.0473867029434718e-05, 'l_1_0': 1.0057914874987924e-05, 'l_1_1': 0.9738810677621824, 'l_1_2': 0.6832640107585987, 'l_1_3': 0.006435501242937779, 'l_2_0': 0.023497567903525782, 'l_2_1': 0.0002013282346795772, 'l_2_2': 0.0005737505130980371, 'l_2_3': 0.0008782799130596686, 'l_3_0': 0.04113948803735597, 'l_3_1': 0.018297559979175124, 'l_3_2': 0.16605381594195426, 'l_3_3': 0.8386537771575312, 'test_acc': 0.5904, '_timestamp': 1719111654.3407998}).\n",
      "\u001b[34m\u001b[1mwandb\u001b[0m: \u001b[33mWARNING\u001b[0m (User provided step: 11 is less than current step: 1956. Dropping entry: {'l_0_0': 0.005482052234296616, 'l_0_1': 1.0591366894406367e-05, 'l_0_2': 0.039113490992592044, 'l_0_3': 1.0382760641537894e-05, 'l_1_0': 2.8771208406753023e-05, 'l_1_1': 0.5716827668355343, 'l_1_2': 0.8621188300136609, 'l_1_3': 0.010150366140370617, 'l_2_0': 0.02316224689869122, 'l_2_1': 0.000292584718716929, 'l_2_2': 0.0003900092752866841, 'l_2_3': 0.0011041950602918619, 'l_3_0': 0.024527690192598973, 'l_3_1': 0.022553412859521327, 'l_3_2': 0.6902467970903672, 'l_3_3': 0.9708520217207028, 'test_acc': 0.589, '_timestamp': 1719111937.9208727}).\n",
      "\u001b[34m\u001b[1mwandb\u001b[0m: \u001b[33mWARNING\u001b[0m (User provided step: 12 is less than current step: 2119. Dropping entry: {'l_0_0': 0.0007131182135347845, 'l_0_1': 9.023787222710124e-05, 'l_0_2': 0.025525380728133228, 'l_0_3': 1.2517987253193271e-05, 'l_1_0': 1.1745762086368156e-05, 'l_1_1': 0.9726268651406487, 'l_1_2': 0.8271100984218752, 'l_1_3': 0.0013573641909349168, 'l_2_0': 0.02601243729190248, 'l_2_1': 0.0002379742734115661, 'l_2_2': 0.0008283995137597573, 'l_2_3': 0.0003013436685184922, 'l_3_0': 0.0002559550510772641, 'l_3_1': 0.00047495813060388246, 'l_3_2': 0.023515473796916646, 'l_3_3': 0.04541574811474408, 'test_acc': 0.5073, '_timestamp': 1719112218.2522585}).\n",
      "\u001b[34m\u001b[1mwandb\u001b[0m: \u001b[33mWARNING\u001b[0m (User provided step: 13 is less than current step: 2282. Dropping entry: {'l_0_0': 0.014282000944382298, 'l_0_1': 8.36383956801779e-05, 'l_0_2': 0.0023070393001593074, 'l_0_3': 0.00011091196969413596, 'l_1_0': 6.7097715499554e-05, 'l_1_1': 0.1369598605276693, 'l_1_2': 0.08021389535948782, 'l_1_3': 0.026326021407213233, 'l_2_0': 0.01740854433389756, 'l_2_1': 0.0013953010239821176, 'l_2_2': 0.0011371162695217641, 'l_2_3': 0.00976303167572719, 'l_3_0': 0.03096275013617906, 'l_3_1': 0.04006269008088327, 'l_3_2': 0.2661193421421777, 'l_3_3': 0.005850371930687124, 'test_acc': 0.5819, '_timestamp': 1719112496.4226654}).\n",
      "\u001b[34m\u001b[1mwandb\u001b[0m: \u001b[33mWARNING\u001b[0m (User provided step: 14 is less than current step: 2445. Dropping entry: {'l_0_0': 0.002321489636884291, 'l_0_1': 0.00947523398266864, 'l_0_2': 0.08311338639179651, 'l_0_3': 0.00010259716946351155, 'l_1_0': 1.3824082161652053e-05, 'l_1_1': 0.27789359839916955, 'l_1_2': 0.09758429493731005, 'l_1_3': 0.08599752952387468, 'l_2_0': 0.8984593315962897, 'l_2_1': 7.969510299211637e-05, 'l_2_2': 0.08413284239297064, 'l_2_3': 1.0638723196599872e-05, 'l_3_0': 0.07982177629220247, 'l_3_1': 0.008630927522131222, 'l_3_2': 0.027715247107834486, 'l_3_3': 0.9809347561649056, 'test_acc': 0.6057, '_timestamp': 1719112771.804471}).\n",
      "\u001b[34m\u001b[1mwandb\u001b[0m: \u001b[33mWARNING\u001b[0m (User provided step: 15 is less than current step: 2608. Dropping entry: {'l_0_0': 0.0002737680269834128, 'l_0_1': 0.00992918374603553, 'l_0_2': 0.11418862826805085, 'l_0_3': 0.00017393159989856534, 'l_1_0': 0.0003431065993787277, 'l_1_1': 0.03412330998573214, 'l_1_2': 0.07402388132123637, 'l_1_3': 0.12266989321265989, 'l_2_0': 0.8442645926047045, 'l_2_1': 5.677236545776769e-05, 'l_2_2': 0.13195684773089594, 'l_2_3': 1.08079072870318e-05, 'l_3_0': 0.9110757042305863, 'l_3_1': 0.000530335691026047, 'l_3_2': 0.009210807118588451, 'l_3_3': 0.17542859154069776, 'test_acc': 0.4675, '_timestamp': 1719113051.432265}).\n",
      "\u001b[34m\u001b[1mwandb\u001b[0m: \u001b[33mWARNING\u001b[0m (User provided step: 16 is less than current step: 2771. Dropping entry: {'l_0_0': 0.0001448094384879273, 'l_0_1': 0.0160460418533093, 'l_0_2': 0.1270790939340474, 'l_0_3': 0.0007135408430106999, 'l_1_0': 7.574489233901874e-05, 'l_1_1': 0.23525240126103134, 'l_1_2': 0.10495881745176006, 'l_1_3': 0.06429536214218566, 'l_2_0': 0.003158510415102322, 'l_2_1': 0.0021404962012629, 'l_2_2': 0.9600249302096093, 'l_2_3': 3.4242741902450365e-05, 'l_3_0': 0.0002813394917027407, 'l_3_1': 0.005557962775289502, 'l_3_2': 0.006095105351880187, 'l_3_3': 0.06870547542694752, 'test_acc': 0.5876, '_timestamp': 1719113329.126237}).\n",
      "\u001b[34m\u001b[1mwandb\u001b[0m: \u001b[33mWARNING\u001b[0m (User provided step: 17 is less than current step: 2934. Dropping entry: {'l_0_0': 0.00163225222624502, 'l_0_1': 0.08933783140275697, 'l_0_2': 0.0009598849217609918, 'l_0_3': 5.9955532672967216e-05, 'l_1_0': 0.00395187899085576, 'l_1_1': 0.020624270951526736, 'l_1_2': 0.012255584074644192, 'l_1_3': 0.8969375223456931, 'l_2_0': 0.00011527420757263042, 'l_2_1': 7.099658231091102e-05, 'l_2_2': 0.17476813749447398, 'l_2_3': 9.032136379167592e-05, 'l_3_0': 0.005742576399499335, 'l_3_1': 0.20021496584087206, 'l_3_2': 0.03279289236970426, 'l_3_3': 0.0008844248886876425, 'test_acc': 0.5795, '_timestamp': 1719113604.7549703}).\n",
      "\u001b[34m\u001b[1mwandb\u001b[0m: \u001b[33mWARNING\u001b[0m (User provided step: 18 is less than current step: 3097. Dropping entry: {'l_0_0': 3.212811996635212e-05, 'l_0_1': 0.0003254620234884295, 'l_0_2': 0.2069470786565712, 'l_0_3': 4.918523291103844e-05, 'l_1_0': 0.9723968633923467, 'l_1_1': 1.5052389078328667e-05, 'l_1_2': 0.18580949240081415, 'l_1_3': 0.0004300638361263192, 'l_2_0': 0.0933300643059733, 'l_2_1': 0.11892252154706646, 'l_2_2': 0.022150260073131603, 'l_2_3': 0.00016929655895933464, 'l_3_0': 0.1561598331256079, 'l_3_1': 0.00011270602736849912, 'l_3_2': 0.07611680432542398, 'l_3_3': 0.01164306970208346, 'test_acc': 0.1, '_timestamp': 1719113882.6843975}).\n",
      "\u001b[34m\u001b[1mwandb\u001b[0m: \u001b[33mWARNING\u001b[0m (User provided step: 19 is less than current step: 3260. Dropping entry: {'l_0_0': 0.055586134171881504, 'l_0_1': 0.003106695350593793, 'l_0_2': 0.007536772691284388, 'l_0_3': 0.0011746000524577524, 'l_1_0': 3.4110038759061285e-05, 'l_1_1': 0.20433667665841906, 'l_1_2': 0.01809370156087145, 'l_1_3': 0.003468119384755431, 'l_2_0': 1.1138646950690083e-05, 'l_2_1': 0.0008527516593415649, 'l_2_2': 0.09519962292288546, 'l_2_3': 0.01982199468670709, 'l_3_0': 0.00034209117757723036, 'l_3_1': 1.1100764487519505e-05, 'l_3_2': 0.8815553455477435, 'l_3_3': 0.0005779769898914919, 'test_acc': 0.5853, '_timestamp': 1719114159.8563385}).\n",
      "\u001b[34m\u001b[1mwandb\u001b[0m: \u001b[33mWARNING\u001b[0m (User provided step: 20 is less than current step: 3423. Dropping entry: {'l_0_0': 0.0029526182820403964, 'l_0_1': 0.008076337765603108, 'l_0_2': 0.046355450553815555, 'l_0_3': 3.901505557597081e-05, 'l_1_0': 0.0006916758249340815, 'l_1_1': 0.001107963698330708, 'l_1_2': 0.004311168633733017, 'l_1_3': 0.04748551053890874, 'l_2_0': 0.006694107000317433, 'l_2_1': 8.385253550543106e-05, 'l_2_2': 0.9779521843712538, 'l_2_3': 3.242700142178035e-05, 'l_3_0': 1.2358049431994835e-05, 'l_3_1': 0.0007535373693847579, 'l_3_2': 0.013252113922113659, 'l_3_3': 0.3099828637874347, 'test_acc': 0.5999, '_timestamp': 1719114438.6241775}).\n",
      "\u001b[34m\u001b[1mwandb\u001b[0m: \u001b[33mWARNING\u001b[0m (User provided step: 21 is less than current step: 3586. Dropping entry: {'l_0_0': 0.0026211089493939454, 'l_0_1': 0.008718313634481369, 'l_0_2': 0.04525644169627351, 'l_0_3': 2.991468041925312e-05, 'l_1_0': 0.0005388957008521042, 'l_1_1': 0.0007794937101623607, 'l_1_2': 0.0036379333877752254, 'l_1_3': 0.042494764430354194, 'l_2_0': 0.9903267500953927, 'l_2_1': 6.02853840533228e-05, 'l_2_2': 0.9212142595058479, 'l_2_3': 1.3037306480834955e-05, 'l_3_0': 1.0088744411238236e-05, 'l_3_1': 0.0011221905373669445, 'l_3_2': 0.012362318764248925, 'l_3_3': 0.20258598073441036, 'test_acc': 0.6014, '_timestamp': 1719114714.8139381}).\n",
      "\u001b[34m\u001b[1mwandb\u001b[0m: \u001b[33mWARNING\u001b[0m (User provided step: 22 is less than current step: 3749. Dropping entry: {'l_0_0': 0.01670915356520058, 'l_0_1': 0.007115458828459584, 'l_0_2': 0.05996897985332075, 'l_0_3': 4.756758178158884e-05, 'l_1_0': 0.0009700802713319336, 'l_1_1': 0.0007359768645374403, 'l_1_2': 0.0035066606003521035, 'l_1_3': 0.07665504637839837, 'l_2_0': 0.8825109613078566, 'l_2_1': 4.708735754082012e-05, 'l_2_2': 0.2785964069050053, 'l_2_3': 1.1920704138294565e-05, 'l_3_0': 1.1164749806369942e-05, 'l_3_1': 0.0015250499561489438, 'l_3_2': 0.003139150100499462, 'l_3_3': 0.9540494872170275, 'test_acc': 0.1, '_timestamp': 1719114996.2434077}).\n",
      "\u001b[34m\u001b[1mwandb\u001b[0m: \u001b[33mWARNING\u001b[0m (User provided step: 23 is less than current step: 3912. Dropping entry: {'l_0_0': 0.0019195658915981528, 'l_0_1': 0.0505382702686135, 'l_0_2': 0.007872165511449696, 'l_0_3': 0.0005352012444860377, 'l_1_0': 0.004151322856440761, 'l_1_1': 0.00025145230185802907, 'l_1_2': 0.030503811442848573, 'l_1_3': 0.29104015510190234, 'l_2_0': 0.3658879308568909, 'l_2_1': 0.0001052449154948322, 'l_2_2': 0.9600158696299107, 'l_2_3': 2.993201386449594e-05, 'l_3_0': 1.0709852763628607e-05, 'l_3_1': 0.008764318153299635, 'l_3_2': 0.01577891050339381, 'l_3_3': 0.13346439930958295, 'test_acc': 0.607, '_timestamp': 1719115271.8084104}).\n",
      "\u001b[34m\u001b[1mwandb\u001b[0m: \u001b[33mWARNING\u001b[0m (User provided step: 24 is less than current step: 4075. Dropping entry: {'l_0_0': 0.00030587120076674095, 'l_0_1': 0.060318620293199246, 'l_0_2': 0.009290921140962789, 'l_0_3': 0.0008609804375634843, 'l_1_0': 0.005876286308287182, 'l_1_1': 0.00013439418997824952, 'l_1_2': 0.026847356521856828, 'l_1_3': 0.27773645525089563, 'l_2_0': 0.36749528835860473, 'l_2_1': 2.8799124436132906e-05, 'l_2_2': 0.0663775998799133, 'l_2_3': 3.773934147444424e-05, 'l_3_0': 5.249683373650076e-05, 'l_3_1': 0.00996209330474365, 'l_3_2': 0.002821744802673486, 'l_3_3': 0.09000306965413146, 'test_acc': 0.1, '_timestamp': 1719115549.734113}).\n",
      "\u001b[34m\u001b[1mwandb\u001b[0m: \u001b[33mWARNING\u001b[0m (User provided step: 25 is less than current step: 4238. Dropping entry: {'l_0_0': 0.0018496283574662815, 'l_0_1': 0.21461755290577614, 'l_0_2': 0.0030933231507943677, 'l_0_3': 0.00035538666128854645, 'l_1_0': 0.011203146706284813, 'l_1_1': 5.0923262196878026e-05, 'l_1_2': 0.04448351304167418, 'l_1_3': 0.9838476189742041, 'l_2_0': 0.07490052085105539, 'l_2_1': 0.00014231937288205883, 'l_2_2': 0.22037707499005174, 'l_2_3': 0.0004882076605502978, 'l_3_0': 8.512516392845993e-05, 'l_3_1': 0.06943743061591873, 'l_3_2': 0.16531099978727393, 'l_3_3': 0.02614978825704718, 'test_acc': 0.5891, '_timestamp': 1719115828.355593}).\n",
      "\u001b[34m\u001b[1mwandb\u001b[0m: \u001b[33mWARNING\u001b[0m (User provided step: 26 is less than current step: 4401. Dropping entry: {'l_0_0': 0.9568088914507156, 'l_0_1': 0.029996050020337808, 'l_0_2': 0.013226847808357974, 'l_0_3': 0.00283801235617337, 'l_1_0': 0.0022277811676471733, 'l_1_1': 0.00019066155355743764, 'l_1_2': 0.32883846913264864, 'l_1_3': 0.28722906789306657, 'l_2_0': 0.4467011098326721, 'l_2_1': 1.0292881804977535e-05, 'l_2_2': 0.0193092284884978, 'l_2_3': 1.215021392451459e-05, 'l_3_0': 2.2735636625852284e-05, 'l_3_1': 0.003244957250280185, 'l_3_2': 0.01932442602247935, 'l_3_3': 0.012894704953640803, 'test_acc': 0.1, '_timestamp': 1719116105.374195}).\n",
      "\u001b[34m\u001b[1mwandb\u001b[0m: \u001b[33mWARNING\u001b[0m (User provided step: 27 is less than current step: 4564. Dropping entry: {'l_0_0': 0.00040501686288688376, 'l_0_1': 0.45807103163981594, 'l_0_2': 0.0010417312723902225, 'l_0_3': 0.00014517350306209175, 'l_1_0': 0.0005169100288421218, 'l_1_1': 0.00209432949442759, 'l_1_2': 0.008973457340313663, 'l_1_3': 0.04053744525676593, 'l_2_0': 0.11201396934916082, 'l_2_1': 0.0004691021338650415, 'l_2_2': 0.35703761951861657, 'l_2_3': 6.07148843258184e-05, 'l_3_0': 0.000161580905043875, 'l_3_1': 0.011243434905970318, 'l_3_2': 0.006199292964464328, 'l_3_3': 0.48303916567583227, 'test_acc': 0.6081, '_timestamp': 1719116383.000371}).\n",
      "\u001b[34m\u001b[1mwandb\u001b[0m: \u001b[33mWARNING\u001b[0m (User provided step: 28 is less than current step: 4727. Dropping entry: {'l_0_0': 0.00031507003188966753, 'l_0_1': 0.7861413776236181, 'l_0_2': 0.000847081060320895, 'l_0_3': 0.0023055163566750867, 'l_1_0': 2.9996224438223278e-05, 'l_1_1': 0.0014166542614324994, 'l_1_2': 0.008216833975914767, 'l_1_3': 0.019653153102088986, 'l_2_0': 0.06472844797543136, 'l_2_1': 0.0004086167628763889, 'l_2_2': 0.04081363544601812, 'l_2_3': 5.567699358592596e-05, 'l_3_0': 0.00014212020085828755, 'l_3_1': 0.016104084115887103, 'l_3_2': 0.004871491817476565, 'l_3_3': 0.555495942341928, 'test_acc': 0.6028, '_timestamp': 1719116658.0540862}).\n",
      "\u001b[34m\u001b[1mwandb\u001b[0m: \u001b[33mWARNING\u001b[0m (User provided step: 29 is less than current step: 4890. Dropping entry: {'l_0_0': 3.212552869790618e-05, 'l_0_1': 0.2640576168606941, 'l_0_2': 0.00015378462826881676, 'l_0_3': 0.023381880186462017, 'l_1_0': 0.008813225296673383, 'l_1_1': 0.00023862525284965464, 'l_1_2': 0.0013828404237911734, 'l_1_3': 0.12430868923435637, 'l_2_0': 0.21608900720767227, 'l_2_1': 0.0037454666362395635, 'l_2_2': 0.33715197506771705, 'l_2_3': 3.232110280437277e-05, 'l_3_0': 0.0006236605380538882, 'l_3_1': 0.3714822768577322, 'l_3_2': 0.0017047214063560386, 'l_3_3': 0.10080354857945736, 'test_acc': 0.5939, '_timestamp': 1719116930.7324371}).\n",
      "\u001b[34m\u001b[1mwandb\u001b[0m: \u001b[33mWARNING\u001b[0m (User provided step: 30 is less than current step: 5053. Dropping entry: {'l_0_0': 0.00011552147913299811, 'l_0_1': 0.03988057899873673, 'l_0_2': 1.297664893138127e-05, 'l_0_3': 0.0004083586029713674, 'l_1_0': 0.0020743805871056243, 'l_1_1': 0.001965194002643589, 'l_1_2': 0.0364171260332515, 'l_1_3': 0.4167277164572853, 'l_2_0': 0.1368163491523102, 'l_2_1': 2.955275473185641e-05, 'l_2_2': 0.010406521745021182, 'l_2_3': 7.23720269220614e-05, 'l_3_0': 0.3932059649543628, 'l_3_1': 0.046005729571653095, 'l_3_2': 0.10280016221835858, 'l_3_3': 1.9661094381632687e-05, 'test_acc': 0.464, '_timestamp': 1719117206.6829846}).\n",
      "\u001b[34m\u001b[1mwandb\u001b[0m: \u001b[33mWARNING\u001b[0m (User provided step: 31 is less than current step: 5216. Dropping entry: {'l_0_0': 0.00031078642238322406, 'l_0_1': 0.7429808130689114, 'l_0_2': 0.0005025118256855342, 'l_0_3': 0.0026343803874570373, 'l_1_0': 2.2804081459184478e-05, 'l_1_1': 0.0022894841408736405, 'l_1_2': 0.008178430669660038, 'l_1_3': 0.01936425369989781, 'l_2_0': 0.05928550691838676, 'l_2_1': 0.0003715139186039812, 'l_2_2': 0.04815933423581258, 'l_2_3': 5.476491794119355e-05, 'l_3_0': 0.00013680707024447538, 'l_3_1': 0.9713823427194659, 'l_3_2': 0.005758769064048892, 'l_3_3': 0.5043704349079268, 'test_acc': 0.5857, '_timestamp': 1719117481.9702842}).\n",
      "\u001b[34m\u001b[1mwandb\u001b[0m: \u001b[33mWARNING\u001b[0m (User provided step: 32 is less than current step: 5379. Dropping entry: {'l_0_0': 0.00054041063833813, 'l_0_1': 0.9711867732893926, 'l_0_2': 0.0012058729824043464, 'l_0_3': 0.0014759008799682769, 'l_1_0': 0.00019939022511749772, 'l_1_1': 0.00724399098443645, 'l_1_2': 0.009469556683596985, 'l_1_3': 0.029029058446105354, 'l_2_0': 0.33250438988284103, 'l_2_1': 0.0006275291106033645, 'l_2_2': 0.12782720850724008, 'l_2_3': 2.086018094932685e-05, 'l_3_0': 0.0001057008931825563, 'l_3_1': 0.016158433753478838, 'l_3_2': 0.00022963684703161856, 'l_3_3': 0.5294164638459355, 'test_acc': 0.5954, '_timestamp': 1719117753.3162925}).\n",
      "\u001b[34m\u001b[1mwandb\u001b[0m: \u001b[33mWARNING\u001b[0m (User provided step: 33 is less than current step: 5542. Dropping entry: {'l_0_0': 0.0014246002059492093, 'l_0_1': 0.24300971099371527, 'l_0_2': 0.0002892581060153588, 'l_0_3': 0.00012023064278613982, 'l_1_0': 4.9844124452467015e-05, 'l_1_1': 0.0003222001894892722, 'l_1_2': 0.23684008620936442, 'l_1_3': 0.012333105869188225, 'l_2_0': 0.1690863155274622, 'l_2_1': 0.00014990223890155684, 'l_2_2': 0.5218355714117499, 'l_2_3': 0.00011505490612496654, 'l_3_0': 0.0006122674090351273, 'l_3_1': 0.007313015875248911, 'l_3_2': 0.005822264712340952, 'l_3_3': 0.15956974945411184, 'test_acc': 0.5989, '_timestamp': 1719118031.4485383}).\n",
      "\u001b[34m\u001b[1mwandb\u001b[0m: \u001b[33mWARNING\u001b[0m (User provided step: 34 is less than current step: 5705. Dropping entry: {'l_0_0': 0.007908557873718773, 'l_0_1': 0.3980352558311019, 'l_0_2': 0.0015791201886958717, 'l_0_3': 0.00043581086752030143, 'l_1_0': 1.7376661618398774e-05, 'l_1_1': 9.298673661977134e-05, 'l_1_2': 0.05170201654712759, 'l_1_3': 0.1221468127296176, 'l_2_0': 0.048063183321464205, 'l_2_1': 0.00011909801779708735, 'l_2_2': 0.002305818309345148, 'l_2_3': 0.0003768604133138724, 'l_3_0': 0.004487397313372839, 'l_3_1': 0.025034869247385932, 'l_3_2': 0.03605488210833472, 'l_3_3': 0.5502701557885453, 'test_acc': 0.5923, '_timestamp': 1719118307.2382987}).\n",
      "\u001b[34m\u001b[1mwandb\u001b[0m: \u001b[33mWARNING\u001b[0m (User provided step: 35 is less than current step: 5868. Dropping entry: {'l_0_0': 6.47512223864195e-05, 'l_0_1': 0.11837993282874619, 'l_0_2': 0.004194597221723073, 'l_0_3': 0.00020555502661925282, 'l_1_0': 0.00013501789241099384, 'l_1_1': 0.002085076275220605, 'l_1_2': 0.006593230635521254, 'l_1_3': 0.005542272453669144, 'l_2_0': 0.009246525794840936, 'l_2_1': 0.003660520710638641, 'l_2_2': 0.01111261234248664, 'l_2_3': 2.203282621284279e-05, 'l_3_0': 0.06098858477902571, 'l_3_1': 0.0034489682508530356, 'l_3_2': 0.0021082267647372223, 'l_3_3': 0.24562578583089545, 'test_acc': 0.5716, '_timestamp': 1719118584.136636}).\n",
      "\u001b[34m\u001b[1mwandb\u001b[0m: \u001b[33mWARNING\u001b[0m (User provided step: 36 is less than current step: 6031. Dropping entry: {'l_0_0': 1.2091483611042036e-05, 'l_0_1': 0.05858951040435377, 'l_0_2': 0.0006046555858601052, 'l_0_3': 0.0019833107360510585, 'l_1_0': 0.0013090075742043842, 'l_1_1': 0.003914914350743519, 'l_1_2': 0.023435876433411107, 'l_1_3': 0.21251284840168794, 'l_2_0': 0.49141750639605575, 'l_2_1': 2.419641504936592e-05, 'l_2_2': 0.4469197098838264, 'l_2_3': 0.00013396602220984462, 'l_3_0': 2.5092431710624666e-05, 'l_3_1': 0.011515066006065998, 'l_3_2': 0.006819266879876582, 'l_3_3': 0.059137785744135085, 'test_acc': 0.1, '_timestamp': 1719118857.4863825}).\n",
      "\u001b[34m\u001b[1mwandb\u001b[0m: \u001b[33mWARNING\u001b[0m (User provided step: 37 is less than current step: 6194. Dropping entry: {'l_0_0': 0.0007719504953189451, 'l_0_1': 0.4612495693139121, 'l_0_2': 0.00018355443853776833, 'l_0_3': 0.025193481173724438, 'l_1_0': 0.022817227718134613, 'l_1_1': 0.013845243577340734, 'l_1_2': 0.0016081270859151227, 'l_1_3': 0.07674667519116092, 'l_2_0': 0.11480917988640245, 'l_2_1': 0.0011182701028672054, 'l_2_2': 0.004222193567171281, 'l_2_3': 5.503004437732559e-05, 'l_3_0': 0.011943385005329477, 'l_3_1': 0.148263117993224, 'l_3_2': 0.0003603059093083652, 'l_3_3': 0.335522000042336, 'test_acc': 0.5921, '_timestamp': 1719119134.559058}).\n",
      "\u001b[34m\u001b[1mwandb\u001b[0m: \u001b[33mWARNING\u001b[0m (User provided step: 38 is less than current step: 6357. Dropping entry: {'l_0_0': 0.00017911465174447482, 'l_0_1': 0.0190695043341787, 'l_0_2': 3.845911031617159e-05, 'l_0_3': 0.0005674038206406181, 'l_1_0': 0.0004234098106241973, 'l_1_1': 0.00036680427937377084, 'l_1_2': 0.0005062000921041029, 'l_1_3': 0.564156492114403, 'l_2_0': 0.04408506822571344, 'l_2_1': 0.00047509027486113456, 'l_2_2': 0.03957653036732561, 'l_2_3': 2.03050145391021e-05, 'l_3_0': 0.0008665631347750643, 'l_3_1': 0.0362999099935583, 'l_3_2': 0.016582758692098243, 'l_3_3': 0.018840212110584478, 'test_acc': 0.5637, '_timestamp': 1719119414.313531}).\n",
      "\u001b[34m\u001b[1mwandb\u001b[0m: \u001b[33mWARNING\u001b[0m (User provided step: 39 is less than current step: 6520. Dropping entry: {'l_0_0': 0.000388409419277816, 'l_0_1': 0.0020022632190930677, 'l_0_2': 0.005425777732711961, 'l_0_3': 0.00011220254926384947, 'l_1_0': 4.9798171687855156e-05, 'l_1_1': 0.0014316065321559191, 'l_1_2': 0.00019553404937436032, 'l_1_3': 0.0018350467308278946, 'l_2_0': 0.2559160935497926, 'l_2_1': 0.33488965579758556, 'l_2_2': 0.08278905322842073, 'l_2_3': 0.04642110784128441, 'l_3_0': 3.608236079919751e-05, 'l_3_1': 0.002567204810061441, 'l_3_2': 0.0010454710800861231, 'l_3_3': 0.00011589086302809177, 'test_acc': 0.5606, '_timestamp': 1719119696.519494}).\n",
      "\u001b[34m\u001b[1mwandb\u001b[0m: \u001b[33mWARNING\u001b[0m (User provided step: 40 is less than current step: 6683. Dropping entry: {'l_0_0': 0.0012957108184685636, 'l_0_1': 0.21604333832026368, 'l_0_2': 0.25672030242833654, 'l_0_3': 0.014109071380832026, 'l_1_0': 0.0038421451333999616, 'l_1_1': 1.3949703962666571e-05, 'l_1_2': 0.38160774463667774, 'l_1_3': 0.015351766815714832, 'l_2_0': 0.008690092298543003, 'l_2_1': 0.000266998383572024, 'l_2_2': 0.19044158546079454, 'l_2_3': 0.0001847253156978156, 'l_3_0': 0.002831502918977422, 'l_3_1': 0.08006279607595525, 'l_3_2': 0.03738507091958116, 'l_3_3': 0.5548893406255159, 'test_acc': 0.6063, '_timestamp': 1719119975.8642879}).\n",
      "\u001b[34m\u001b[1mwandb\u001b[0m: \u001b[33mWARNING\u001b[0m (User provided step: 41 is less than current step: 6846. Dropping entry: {'l_0_0': 0.001258215254713197, 'l_0_1': 0.15821321152712328, 'l_0_2': 0.3256469213347026, 'l_0_3': 0.013404647284053313, 'l_1_0': 0.003897102508630954, 'l_1_1': 1.563476532823876e-05, 'l_1_2': 0.4005615979101699, 'l_1_3': 0.015580247394581324, 'l_2_0': 0.007904205167935661, 'l_2_1': 0.00029603674643621276, 'l_2_2': 0.2013843292889867, 'l_2_3': 0.0002163830098207023, 'l_3_0': 0.010927268178343405, 'l_3_1': 0.06917618482160451, 'l_3_2': 0.04057334072108307, 'l_3_3': 0.5995872670210194, 'test_acc': 0.6059, '_timestamp': 1719120256.4194248}).\n",
      "\u001b[34m\u001b[1mwandb\u001b[0m: \u001b[33mWARNING\u001b[0m (User provided step: 42 is less than current step: 7009. Dropping entry: {'l_0_0': 0.0010634753062292066, 'l_0_1': 0.17894588666739178, 'l_0_2': 0.3336164420379842, 'l_0_3': 0.014092413984179967, 'l_1_0': 0.0038425093837663377, 'l_1_1': 1.3626579328239623e-05, 'l_1_2': 0.367353813306354, 'l_1_3': 0.013039763935209732, 'l_2_0': 0.0020981129455810306, 'l_2_1': 0.0001299224576705023, 'l_2_2': 0.5500757959652114, 'l_2_3': 0.00022654677356838564, 'l_3_0': 0.07689178082051053, 'l_3_1': 0.10725265883607205, 'l_3_2': 0.04865616672083115, 'l_3_3': 0.13392435189864815, 'test_acc': 0.6001, '_timestamp': 1719120535.1061301}).\n",
      "\u001b[34m\u001b[1mwandb\u001b[0m: \u001b[33mWARNING\u001b[0m (User provided step: 43 is less than current step: 7172. Dropping entry: {'l_0_0': 0.004079963347099292, 'l_0_1': 0.06301420764466267, 'l_0_2': 0.4013933552700977, 'l_0_3': 0.09066960154419833, 'l_1_0': 0.0170221983101176, 'l_1_1': 2.8001172654175623e-05, 'l_1_2': 0.15218321168684398, 'l_1_3': 0.04494017542739987, 'l_2_0': 0.008054196615696483, 'l_2_1': 0.00023746125670117866, 'l_2_2': 0.2134135956998289, 'l_2_3': 0.0008514404785603775, 'l_3_0': 0.0033969747258523115, 'l_3_1': 0.05137599024469885, 'l_3_2': 0.3155728682254667, 'l_3_3': 0.6409672738157575, 'test_acc': 0.6028, '_timestamp': 1719120809.3529918}).\n",
      "\u001b[34m\u001b[1mwandb\u001b[0m: \u001b[33mWARNING\u001b[0m (User provided step: 44 is less than current step: 7335. Dropping entry: {'l_0_0': 0.00946237568076909, 'l_0_1': 0.3319146704152157, 'l_0_2': 0.10298941752050551, 'l_0_3': 0.00505362741182583, 'l_1_0': 0.07729620019278996, 'l_1_1': 3.0938091855369625e-05, 'l_1_2': 0.4539462321045543, 'l_1_3': 0.006454975375201131, 'l_2_0': 0.0011497729052876832, 'l_2_1': 0.0019139753316297233, 'l_2_2': 0.2782495666011067, 'l_2_3': 0.0019333359324203631, 'l_3_0': 0.006745527820503623, 'l_3_1': 0.08620578711693362, 'l_3_2': 0.026534410313008766, 'l_3_3': 0.2615142280185046, 'test_acc': 0.6019, '_timestamp': 1719121090.3669946}).\n",
      "\u001b[34m\u001b[1mwandb\u001b[0m: \u001b[33mWARNING\u001b[0m (User provided step: 45 is less than current step: 7498. Dropping entry: {'l_0_0': 0.002591936350160741, 'l_0_1': 0.03666372256780081, 'l_0_2': 0.34006636802448625, 'l_0_3': 0.013391175047353526, 'l_1_0': 0.0020559818157415495, 'l_1_1': 1.092980116999255e-05, 'l_1_2': 0.12052788030587588, 'l_1_3': 0.002745460679945355, 'l_2_0': 0.00022149394356981388, 'l_2_1': 1.837273130767519e-05, 'l_2_2': 0.5477736759955092, 'l_2_3': 0.0004265386939485959, 'l_3_0': 0.01533390915689194, 'l_3_1': 0.20195135719626808, 'l_3_2': 0.10622240727222132, 'l_3_3': 0.8847543232947592, 'test_acc': 0.6036, '_timestamp': 1719121369.3355658}).\n",
      "\u001b[34m\u001b[1mwandb\u001b[0m: \u001b[33mWARNING\u001b[0m (User provided step: 46 is less than current step: 7661. Dropping entry: {'l_0_0': 0.02174013446671042, 'l_0_1': 0.12483049419507869, 'l_0_2': 0.18707596110922858, 'l_0_3': 0.08126538276819967, 'l_1_0': 0.006162737265889751, 'l_1_1': 4.769554870023572e-05, 'l_1_2': 0.5279356209756568, 'l_1_3': 0.0007035161867954832, 'l_2_0': 0.005172503280662415, 'l_2_1': 0.0008359177664993743, 'l_2_2': 0.12529304272372882, 'l_2_3': 0.00013366339930614838, 'l_3_0': 0.08679196043358907, 'l_3_1': 0.33610805418498557, 'l_3_2': 0.058428153633318686, 'l_3_3': 0.2848064668444638, 'test_acc': 0.57, '_timestamp': 1719121646.396214}).\n",
      "\u001b[34m\u001b[1mwandb\u001b[0m: \u001b[33mWARNING\u001b[0m (User provided step: 47 is less than current step: 7824. Dropping entry: {'l_0_0': 0.0011961314932205423, 'l_0_1': 0.016303724853206056, 'l_0_2': 0.016387751235151803, 'l_0_3': 2.0723130040872508e-05, 'l_1_0': 0.05204781106529604, 'l_1_1': 0.00010391468283811921, 'l_1_2': 0.24369178256762009, 'l_1_3': 0.1587394569454726, 'l_2_0': 0.01388184567862286, 'l_2_1': 0.007605098232885347, 'l_2_2': 1.974094741449288e-05, 'l_2_3': 0.5216058099406823, 'l_3_0': 0.0016679085045195772, 'l_3_1': 0.006421654188234255, 'l_3_2': 0.010019225512154692, 'l_3_3': 0.45343136834572273, 'test_acc': 0.6032, '_timestamp': 1719121924.3065622}).\n",
      "\u001b[34m\u001b[1mwandb\u001b[0m: \u001b[33mWARNING\u001b[0m (User provided step: 48 is less than current step: 7987. Dropping entry: {'l_0_0': 0.0061627375040926085, 'l_0_1': 0.004224647776082227, 'l_0_2': 0.0813990317704736, 'l_0_3': 0.28136537192643746, 'l_1_0': 0.0008922815554264534, 'l_1_1': 2.293436347153275e-05, 'l_1_2': 0.06971058843792063, 'l_1_3': 0.03255550351446936, 'l_2_0': 0.5649988676924166, 'l_2_1': 4.614533398295732e-05, 'l_2_2': 0.18394603252867045, 'l_2_3': 0.003868160597909053, 'l_3_0': 0.018027962586756652, 'l_3_1': 0.028072091390936197, 'l_3_2': 0.038055685627076216, 'l_3_3': 0.13037597803722628, 'test_acc': 0.5982, '_timestamp': 1719122203.3397248}).\n"
     ]
    },
    {
     "name": "stderr",
     "output_type": "stream",
     "text": [
      "`Trainer.fit` stopped: `max_epochs=100` reached.\n"
     ]
    },
    {
     "name": "stdout",
     "output_type": "stream",
     "text": [
      "Epoch 99: 100%|██████████| 79/79 [00:02<00:00, 27.45it/s, v_num=uutg]\n"
     ]
    },
    {
     "name": "stderr",
     "output_type": "stream",
     "text": [
      "/home/ganddalf/anaconda3/envs/dl/lib/python3.12/site-packages/lightning/pytorch/trainer/connectors/checkpoint_connector.py:145: `.test(ckpt_path=None)` was called without a model. The best model of the previous `fit` call will be used. You can pass `.test(ckpt_path='best')` to use the best model or `.test(ckpt_path='last')` to use the last model. If you pass a value, this warning will be silenced.\n",
      "Restoring states from the checkpoint path at ./lightning_logs/q73fuutg/checkpoints/epoch=99-step=7900-v1.ckpt\n",
      "LOCAL_RANK: 0 - CUDA_VISIBLE_DEVICES: [0]\n",
      "Loaded model weights from the checkpoint at ./lightning_logs/q73fuutg/checkpoints/epoch=99-step=7900-v1.ckpt\n"
     ]
    },
    {
     "name": "stdout",
     "output_type": "stream",
     "text": [
      "Testing DataLoader 0: 100%|██████████| 79/79 [00:04<00:00, 18.39it/s] "
     ]
    },
    {
     "name": "stderr",
     "output_type": "stream",
     "text": [
      "[I 2024-06-23 05:19:14,976] Trial 1 finished with value: 0.5742 and parameters: {'l_0_0': 0.3776760779893475, 'l_0_1': 0.002865819203483708, 'l_0_2': 0.19124340037350013, 'l_0_3': 0.7139394033710896, 'l_1_0': 0.0014598846677216636, 'l_1_1': 0.0004890729676922251, 'l_1_2': 0.0009801693314242601, 'l_1_3': 2.367887114757176e-05, 'l_2_0': 0.16638372638393706, 'l_2_1': 0.761190269083524, 'l_2_2': 0.009217322378465839, 'l_2_3': 0.5675748950381205, 'l_3_0': 0.0013315188647027843, 'l_3_1': 1.2522162339224748e-05, 'l_3_2': 0.00014940320999186826, 'l_3_3': 4.726225466905527e-05}. Best is trial 1 with value: 0.5742.\n",
      "GPU available: True (cuda), used: True\n",
      "TPU available: False, using: 0 TPU cores\n",
      "IPU available: False, using: 0 IPUs\n",
      "HPU available: False, using: 0 HPUs\n",
      "/home/ganddalf/anaconda3/envs/dl/lib/python3.12/site-packages/lightning/pytorch/loggers/wandb.py:391: There is a wandb run already in progress and newly created instances of `WandbLogger` will reuse this run. If this is not desired, call `wandb.finish()` before instantiating `WandbLogger`.\n",
      "/home/ganddalf/anaconda3/envs/dl/lib/python3.12/site-packages/lightning/pytorch/callbacks/model_checkpoint.py:653: Checkpoint directory ./lightning_logs/q73fuutg/checkpoints exists and is not empty.\n",
      "LOCAL_RANK: 0 - CUDA_VISIBLE_DEVICES: [0]\n",
      "\n",
      "  | Name    | Type             | Params\n",
      "---------------------------------------------\n",
      "0 | student | Cifar_Very_Tiny  | 15.1 K\n",
      "1 | teacher | Cifar_Tiny       | 58.0 K\n",
      "2 | loss    | CrossEntropyLoss | 0     \n",
      "---------------------------------------------\n",
      "15.1 K    Trainable params\n",
      "58.0 K    Non-trainable params\n",
      "73.0 K    Total params\n",
      "0.292     Total estimated model params size (MB)\n"
     ]
    },
    {
     "name": "stdout",
     "output_type": "stream",
     "text": [
      "\n",
      "────────────────────────────────────────────────────────────────────────────────────────────────────────────────────────\n",
      "       Test metric             DataLoader 0\n",
      "────────────────────────────────────────────────────────────────────────────────────────────────────────────────────────\n",
      "        AUC_FGSM            0.15233157575130463\n",
      "        AUC_Noise           0.37221667170524597\n",
      "        test_acc            0.5741999745368958\n",
      "────────────────────────────────────────────────────────────────────────────────────────────────────────────────────────\n",
      "Epoch 99: 100%|██████████| 79/79 [00:02<00:00, 27.58it/s, v_num=uutg]"
     ]
    },
    {
     "name": "stderr",
     "output_type": "stream",
     "text": [
      "`Trainer.fit` stopped: `max_epochs=100` reached.\n"
     ]
    },
    {
     "name": "stdout",
     "output_type": "stream",
     "text": [
      "Epoch 99: 100%|██████████| 79/79 [00:02<00:00, 27.47it/s, v_num=uutg]\n"
     ]
    },
    {
     "name": "stderr",
     "output_type": "stream",
     "text": [
      "/home/ganddalf/anaconda3/envs/dl/lib/python3.12/site-packages/lightning/pytorch/trainer/connectors/checkpoint_connector.py:145: `.test(ckpt_path=None)` was called without a model. The best model of the previous `fit` call will be used. You can pass `.test(ckpt_path='best')` to use the best model or `.test(ckpt_path='last')` to use the last model. If you pass a value, this warning will be silenced.\n",
      "Restoring states from the checkpoint path at ./lightning_logs/q73fuutg/checkpoints/epoch=99-step=7900-v2.ckpt\n",
      "LOCAL_RANK: 0 - CUDA_VISIBLE_DEVICES: [0]\n",
      "Loaded model weights from the checkpoint at ./lightning_logs/q73fuutg/checkpoints/epoch=99-step=7900-v2.ckpt\n"
     ]
    },
    {
     "name": "stdout",
     "output_type": "stream",
     "text": [
      "Testing DataLoader 0: 100%|██████████| 79/79 [00:04<00:00, 19.53it/s] "
     ]
    },
    {
     "name": "stderr",
     "output_type": "stream",
     "text": [
      "[I 2024-06-23 05:23:52,043] Trial 2 finished with value: 0.595 and parameters: {'l_0_0': 0.00355847203763678, 'l_0_1': 0.0001887833717963402, 'l_0_2': 0.6205633794131997, 'l_0_3': 1.0836228945656246e-05, 'l_1_0': 0.00010709929467880958, 'l_1_1': 0.04043757800786423, 'l_1_2': 0.13655751070838465, 'l_1_3': 0.009542790877271242, 'l_2_0': 0.0010722400611817603, 'l_2_1': 0.0012184789263867636, 'l_2_2': 0.7318371283898251, 'l_2_3': 0.00014013599797161653, 'l_3_0': 0.001740667619908208, 'l_3_1': 0.00032027141655180727, 'l_3_2': 0.05210744782218909, 'l_3_3': 0.22553006399802142}. Best is trial 2 with value: 0.595.\n",
      "GPU available: True (cuda), used: True\n",
      "TPU available: False, using: 0 TPU cores\n",
      "IPU available: False, using: 0 IPUs\n",
      "HPU available: False, using: 0 HPUs\n",
      "/home/ganddalf/anaconda3/envs/dl/lib/python3.12/site-packages/lightning/pytorch/loggers/wandb.py:391: There is a wandb run already in progress and newly created instances of `WandbLogger` will reuse this run. If this is not desired, call `wandb.finish()` before instantiating `WandbLogger`.\n",
      "/home/ganddalf/anaconda3/envs/dl/lib/python3.12/site-packages/lightning/pytorch/callbacks/model_checkpoint.py:653: Checkpoint directory ./lightning_logs/q73fuutg/checkpoints exists and is not empty.\n",
      "LOCAL_RANK: 0 - CUDA_VISIBLE_DEVICES: [0]\n",
      "\n",
      "  | Name    | Type             | Params\n",
      "---------------------------------------------\n",
      "0 | student | Cifar_Very_Tiny  | 15.1 K\n",
      "1 | teacher | Cifar_Tiny       | 58.0 K\n",
      "2 | loss    | CrossEntropyLoss | 0     \n",
      "---------------------------------------------\n",
      "15.1 K    Trainable params\n",
      "58.0 K    Non-trainable params\n",
      "73.0 K    Total params\n",
      "0.292     Total estimated model params size (MB)\n"
     ]
    },
    {
     "name": "stdout",
     "output_type": "stream",
     "text": [
      "\n",
      "────────────────────────────────────────────────────────────────────────────────────────────────────────────────────────\n",
      "       Test metric             DataLoader 0\n",
      "────────────────────────────────────────────────────────────────────────────────────────────────────────────────────────\n",
      "        AUC_FGSM            0.21600262820720673\n",
      "        AUC_Noise            0.431873083114624\n",
      "        test_acc            0.5950000286102295\n",
      "────────────────────────────────────────────────────────────────────────────────────────────────────────────────────────\n",
      "Epoch 99: 100%|██████████| 79/79 [00:02<00:00, 27.21it/s, v_num=uutg]"
     ]
    },
    {
     "name": "stderr",
     "output_type": "stream",
     "text": [
      "`Trainer.fit` stopped: `max_epochs=100` reached.\n"
     ]
    },
    {
     "name": "stdout",
     "output_type": "stream",
     "text": [
      "Epoch 99: 100%|██████████| 79/79 [00:02<00:00, 27.12it/s, v_num=uutg]\n"
     ]
    },
    {
     "name": "stderr",
     "output_type": "stream",
     "text": [
      "/home/ganddalf/anaconda3/envs/dl/lib/python3.12/site-packages/lightning/pytorch/trainer/connectors/checkpoint_connector.py:145: `.test(ckpt_path=None)` was called without a model. The best model of the previous `fit` call will be used. You can pass `.test(ckpt_path='best')` to use the best model or `.test(ckpt_path='last')` to use the last model. If you pass a value, this warning will be silenced.\n",
      "Restoring states from the checkpoint path at ./lightning_logs/q73fuutg/checkpoints/epoch=99-step=7900-v3.ckpt\n",
      "LOCAL_RANK: 0 - CUDA_VISIBLE_DEVICES: [0]\n",
      "Loaded model weights from the checkpoint at ./lightning_logs/q73fuutg/checkpoints/epoch=99-step=7900-v3.ckpt\n"
     ]
    },
    {
     "name": "stdout",
     "output_type": "stream",
     "text": [
      "Testing DataLoader 0: 100%|██████████| 79/79 [00:05<00:00, 15.27it/s] "
     ]
    },
    {
     "name": "stderr",
     "output_type": "stream",
     "text": [
      "[I 2024-06-23 05:28:24,279] Trial 3 finished with value: 0.5842 and parameters: {'l_0_0': 0.0010355212959501407, 'l_0_1': 0.5234687211951792, 'l_0_2': 6.886507615936732e-05, 'l_0_3': 0.00026812080892280125, 'l_1_0': 0.010752127452642174, 'l_1_1': 0.06918050119328048, 'l_1_2': 0.00013766033729681725, 'l_1_3': 0.47227952959577046, 'l_2_0': 0.002766042671508555, 'l_2_1': 0.0303904942342625, 'l_2_2': 0.00011062720744344924, 'l_2_3': 0.07287034367068353, 'l_3_0': 0.0023972158909064062, 'l_3_1': 7.860063527682122e-05, 'l_3_2': 3.880432785002543e-05, 'l_3_3': 0.350459926491498}. Best is trial 2 with value: 0.595.\n",
      "GPU available: True (cuda), used: True\n",
      "TPU available: False, using: 0 TPU cores\n",
      "IPU available: False, using: 0 IPUs\n",
      "HPU available: False, using: 0 HPUs\n",
      "/home/ganddalf/anaconda3/envs/dl/lib/python3.12/site-packages/lightning/pytorch/loggers/wandb.py:391: There is a wandb run already in progress and newly created instances of `WandbLogger` will reuse this run. If this is not desired, call `wandb.finish()` before instantiating `WandbLogger`.\n",
      "/home/ganddalf/anaconda3/envs/dl/lib/python3.12/site-packages/lightning/pytorch/callbacks/model_checkpoint.py:653: Checkpoint directory ./lightning_logs/q73fuutg/checkpoints exists and is not empty.\n",
      "LOCAL_RANK: 0 - CUDA_VISIBLE_DEVICES: [0]\n",
      "\n",
      "  | Name    | Type             | Params\n",
      "---------------------------------------------\n",
      "0 | student | Cifar_Very_Tiny  | 15.1 K\n",
      "1 | teacher | Cifar_Tiny       | 58.0 K\n",
      "2 | loss    | CrossEntropyLoss | 0     \n",
      "---------------------------------------------\n",
      "15.1 K    Trainable params\n",
      "58.0 K    Non-trainable params\n",
      "73.0 K    Total params\n",
      "0.292     Total estimated model params size (MB)\n"
     ]
    },
    {
     "name": "stdout",
     "output_type": "stream",
     "text": [
      "\n",
      "────────────────────────────────────────────────────────────────────────────────────────────────────────────────────────\n",
      "       Test metric             DataLoader 0\n",
      "────────────────────────────────────────────────────────────────────────────────────────────────────────────────────────\n",
      "        AUC_FGSM            0.17393946647644043\n",
      "        AUC_Noise           0.4308730661869049\n",
      "        test_acc            0.5842000246047974\n",
      "────────────────────────────────────────────────────────────────────────────────────────────────────────────────────────\n",
      "Epoch 99: 100%|██████████| 79/79 [00:02<00:00, 27.75it/s, v_num=uutg]"
     ]
    },
    {
     "name": "stderr",
     "output_type": "stream",
     "text": [
      "`Trainer.fit` stopped: `max_epochs=100` reached.\n"
     ]
    },
    {
     "name": "stdout",
     "output_type": "stream",
     "text": [
      "Epoch 99: 100%|██████████| 79/79 [00:02<00:00, 27.63it/s, v_num=uutg]\n"
     ]
    },
    {
     "name": "stderr",
     "output_type": "stream",
     "text": [
      "/home/ganddalf/anaconda3/envs/dl/lib/python3.12/site-packages/lightning/pytorch/trainer/connectors/checkpoint_connector.py:145: `.test(ckpt_path=None)` was called without a model. The best model of the previous `fit` call will be used. You can pass `.test(ckpt_path='best')` to use the best model or `.test(ckpt_path='last')` to use the last model. If you pass a value, this warning will be silenced.\n",
      "Restoring states from the checkpoint path at ./lightning_logs/q73fuutg/checkpoints/epoch=99-step=7900-v4.ckpt\n",
      "LOCAL_RANK: 0 - CUDA_VISIBLE_DEVICES: [0]\n",
      "Loaded model weights from the checkpoint at ./lightning_logs/q73fuutg/checkpoints/epoch=99-step=7900-v4.ckpt\n"
     ]
    },
    {
     "name": "stdout",
     "output_type": "stream",
     "text": [
      "Testing DataLoader 0: 100%|██████████| 79/79 [00:04<00:00, 18.76it/s] "
     ]
    },
    {
     "name": "stderr",
     "output_type": "stream",
     "text": [
      "[I 2024-06-23 05:32:57,599] Trial 4 finished with value: 0.5854 and parameters: {'l_0_0': 0.09620682428957845, 'l_0_1': 1.3379336352166171e-05, 'l_0_2': 8.281628064503496e-05, 'l_0_3': 0.007076991955493225, 'l_1_0': 0.08730358156715376, 'l_1_1': 0.004036966106319648, 'l_1_2': 0.0035983374571801224, 'l_1_3': 0.00021257892650230153, 'l_2_0': 2.382447633668015e-05, 'l_2_1': 1.1296524301682893e-05, 'l_2_2': 0.004962759185612788, 'l_2_3': 0.28909279599893506, 'l_3_0': 3.488651597528318e-05, 'l_3_1': 0.00021883302298334256, 'l_3_2': 0.0008915404117205542, 'l_3_3': 0.0017192288842949428}. Best is trial 2 with value: 0.595.\n",
      "GPU available: True (cuda), used: True\n",
      "TPU available: False, using: 0 TPU cores\n",
      "IPU available: False, using: 0 IPUs\n",
      "HPU available: False, using: 0 HPUs\n",
      "/home/ganddalf/anaconda3/envs/dl/lib/python3.12/site-packages/lightning/pytorch/loggers/wandb.py:391: There is a wandb run already in progress and newly created instances of `WandbLogger` will reuse this run. If this is not desired, call `wandb.finish()` before instantiating `WandbLogger`.\n",
      "/home/ganddalf/anaconda3/envs/dl/lib/python3.12/site-packages/lightning/pytorch/callbacks/model_checkpoint.py:653: Checkpoint directory ./lightning_logs/q73fuutg/checkpoints exists and is not empty.\n",
      "LOCAL_RANK: 0 - CUDA_VISIBLE_DEVICES: [0]\n",
      "\n",
      "  | Name    | Type             | Params\n",
      "---------------------------------------------\n",
      "0 | student | Cifar_Very_Tiny  | 15.1 K\n",
      "1 | teacher | Cifar_Tiny       | 58.0 K\n",
      "2 | loss    | CrossEntropyLoss | 0     \n",
      "---------------------------------------------\n",
      "15.1 K    Trainable params\n",
      "58.0 K    Non-trainable params\n",
      "73.0 K    Total params\n",
      "0.292     Total estimated model params size (MB)\n"
     ]
    },
    {
     "name": "stdout",
     "output_type": "stream",
     "text": [
      "\n",
      "────────────────────────────────────────────────────────────────────────────────────────────────────────────────────────\n",
      "       Test metric             DataLoader 0\n",
      "────────────────────────────────────────────────────────────────────────────────────────────────────────────────────────\n",
      "        AUC_FGSM            0.17892105877399445\n",
      "        AUC_Noise           0.4022859036922455\n",
      "        test_acc            0.5853999853134155\n",
      "────────────────────────────────────────────────────────────────────────────────────────────────────────────────────────\n",
      "Epoch 99: 100%|██████████| 79/79 [00:02<00:00, 26.81it/s, v_num=uutg]"
     ]
    },
    {
     "name": "stderr",
     "output_type": "stream",
     "text": [
      "`Trainer.fit` stopped: `max_epochs=100` reached.\n"
     ]
    },
    {
     "name": "stdout",
     "output_type": "stream",
     "text": [
      "Epoch 99: 100%|██████████| 79/79 [00:02<00:00, 26.70it/s, v_num=uutg]\n"
     ]
    },
    {
     "name": "stderr",
     "output_type": "stream",
     "text": [
      "/home/ganddalf/anaconda3/envs/dl/lib/python3.12/site-packages/lightning/pytorch/trainer/connectors/checkpoint_connector.py:145: `.test(ckpt_path=None)` was called without a model. The best model of the previous `fit` call will be used. You can pass `.test(ckpt_path='best')` to use the best model or `.test(ckpt_path='last')` to use the last model. If you pass a value, this warning will be silenced.\n",
      "Restoring states from the checkpoint path at ./lightning_logs/q73fuutg/checkpoints/epoch=99-step=7900-v5.ckpt\n",
      "LOCAL_RANK: 0 - CUDA_VISIBLE_DEVICES: [0]\n",
      "Loaded model weights from the checkpoint at ./lightning_logs/q73fuutg/checkpoints/epoch=99-step=7900-v5.ckpt\n"
     ]
    },
    {
     "name": "stdout",
     "output_type": "stream",
     "text": [
      "Testing DataLoader 0: 100%|██████████| 79/79 [00:04<00:00, 19.43it/s] "
     ]
    },
    {
     "name": "stderr",
     "output_type": "stream",
     "text": [
      "[I 2024-06-23 05:37:36,530] Trial 5 finished with value: 0.5601 and parameters: {'l_0_0': 0.03915840197146564, 'l_0_1': 0.0012650383193218392, 'l_0_2': 0.8553642906572677, 'l_0_3': 0.006859130540776665, 'l_1_0': 0.03395557121992097, 'l_1_1': 5.028449465236722e-05, 'l_1_2': 0.013758125969739715, 'l_1_3': 0.0015875850041813732, 'l_2_0': 0.0007590394410521529, 'l_2_1': 0.02028222480448777, 'l_2_2': 1.0910051101258752e-05, 'l_2_3': 0.17951970203984544, 'l_3_0': 5.8138809965968954e-05, 'l_3_1': 0.10357584003424118, 'l_3_2': 0.0010622519401507955, 'l_3_3': 0.0036883015784823577}. Best is trial 2 with value: 0.595.\n",
      "GPU available: True (cuda), used: True\n",
      "TPU available: False, using: 0 TPU cores\n",
      "IPU available: False, using: 0 IPUs\n",
      "HPU available: False, using: 0 HPUs\n",
      "/home/ganddalf/anaconda3/envs/dl/lib/python3.12/site-packages/lightning/pytorch/loggers/wandb.py:391: There is a wandb run already in progress and newly created instances of `WandbLogger` will reuse this run. If this is not desired, call `wandb.finish()` before instantiating `WandbLogger`.\n",
      "/home/ganddalf/anaconda3/envs/dl/lib/python3.12/site-packages/lightning/pytorch/callbacks/model_checkpoint.py:653: Checkpoint directory ./lightning_logs/q73fuutg/checkpoints exists and is not empty.\n",
      "LOCAL_RANK: 0 - CUDA_VISIBLE_DEVICES: [0]\n",
      "\n",
      "  | Name    | Type             | Params\n",
      "---------------------------------------------\n",
      "0 | student | Cifar_Very_Tiny  | 15.1 K\n",
      "1 | teacher | Cifar_Tiny       | 58.0 K\n",
      "2 | loss    | CrossEntropyLoss | 0     \n",
      "---------------------------------------------\n",
      "15.1 K    Trainable params\n",
      "58.0 K    Non-trainable params\n",
      "73.0 K    Total params\n",
      "0.292     Total estimated model params size (MB)\n"
     ]
    },
    {
     "name": "stdout",
     "output_type": "stream",
     "text": [
      "\n",
      "────────────────────────────────────────────────────────────────────────────────────────────────────────────────────────\n",
      "       Test metric             DataLoader 0\n",
      "────────────────────────────────────────────────────────────────────────────────────────────────────────────────────────\n",
      "        AUC_FGSM            0.14613421261310577\n",
      "        AUC_Noise           0.38773077726364136\n",
      "        test_acc            0.5601000189781189\n",
      "────────────────────────────────────────────────────────────────────────────────────────────────────────────────────────\n",
      "Epoch 99: 100%|██████████| 79/79 [00:02<00:00, 31.27it/s, v_num=uutg]"
     ]
    },
    {
     "name": "stderr",
     "output_type": "stream",
     "text": [
      "`Trainer.fit` stopped: `max_epochs=100` reached.\n"
     ]
    },
    {
     "name": "stdout",
     "output_type": "stream",
     "text": [
      "Epoch 99: 100%|██████████| 79/79 [00:02<00:00, 31.12it/s, v_num=uutg]\n"
     ]
    },
    {
     "name": "stderr",
     "output_type": "stream",
     "text": [
      "/home/ganddalf/anaconda3/envs/dl/lib/python3.12/site-packages/lightning/pytorch/trainer/connectors/checkpoint_connector.py:145: `.test(ckpt_path=None)` was called without a model. The best model of the previous `fit` call will be used. You can pass `.test(ckpt_path='best')` to use the best model or `.test(ckpt_path='last')` to use the last model. If you pass a value, this warning will be silenced.\n",
      "Restoring states from the checkpoint path at ./lightning_logs/q73fuutg/checkpoints/epoch=99-step=7900-v6.ckpt\n",
      "LOCAL_RANK: 0 - CUDA_VISIBLE_DEVICES: [0]\n",
      "Loaded model weights from the checkpoint at ./lightning_logs/q73fuutg/checkpoints/epoch=99-step=7900-v6.ckpt\n"
     ]
    },
    {
     "name": "stdout",
     "output_type": "stream",
     "text": [
      "Testing DataLoader 0: 100%|██████████| 79/79 [00:05<00:00, 15.48it/s] "
     ]
    },
    {
     "name": "stderr",
     "output_type": "stream",
     "text": [
      "[I 2024-06-23 05:42:17,528] Trial 6 finished with value: 0.559 and parameters: {'l_0_0': 0.012747751605950007, 'l_0_1': 0.00040006503821292193, 'l_0_2': 0.000508659956717831, 'l_0_3': 0.5383483206417936, 'l_1_0': 0.2594197633131169, 'l_1_1': 0.0007727360369704052, 'l_1_2': 0.0004221737002484562, 'l_1_3': 0.1721558575562417, 'l_2_0': 6.031228942936578e-05, 'l_2_1': 0.008140396822566695, 'l_2_2': 0.38761004117773873, 'l_2_3': 0.0002111451046380521, 'l_3_0': 0.011864880970355336, 'l_3_1': 0.002058414097424651, 'l_3_2': 0.0007678017047348959, 'l_3_3': 0.00017932855413432559}. Best is trial 2 with value: 0.595.\n",
      "GPU available: True (cuda), used: True\n",
      "TPU available: False, using: 0 TPU cores\n",
      "IPU available: False, using: 0 IPUs\n",
      "HPU available: False, using: 0 HPUs\n",
      "/home/ganddalf/anaconda3/envs/dl/lib/python3.12/site-packages/lightning/pytorch/loggers/wandb.py:391: There is a wandb run already in progress and newly created instances of `WandbLogger` will reuse this run. If this is not desired, call `wandb.finish()` before instantiating `WandbLogger`.\n",
      "/home/ganddalf/anaconda3/envs/dl/lib/python3.12/site-packages/lightning/pytorch/callbacks/model_checkpoint.py:653: Checkpoint directory ./lightning_logs/q73fuutg/checkpoints exists and is not empty.\n",
      "LOCAL_RANK: 0 - CUDA_VISIBLE_DEVICES: [0]\n",
      "\n",
      "  | Name    | Type             | Params\n",
      "---------------------------------------------\n",
      "0 | student | Cifar_Very_Tiny  | 15.1 K\n",
      "1 | teacher | Cifar_Tiny       | 58.0 K\n",
      "2 | loss    | CrossEntropyLoss | 0     \n",
      "---------------------------------------------\n",
      "15.1 K    Trainable params\n",
      "58.0 K    Non-trainable params\n",
      "73.0 K    Total params\n",
      "0.292     Total estimated model params size (MB)\n"
     ]
    },
    {
     "name": "stdout",
     "output_type": "stream",
     "text": [
      "\n",
      "────────────────────────────────────────────────────────────────────────────────────────────────────────────────────────\n",
      "       Test metric             DataLoader 0\n",
      "────────────────────────────────────────────────────────────────────────────────────────────────────────────────────────\n",
      "        AUC_FGSM            0.20632632076740265\n",
      "        AUC_Noise           0.3863910138607025\n",
      "        test_acc            0.5590000152587891\n",
      "────────────────────────────────────────────────────────────────────────────────────────────────────────────────────────\n",
      "Epoch 99: 100%|██████████| 79/79 [00:02<00:00, 31.65it/s, v_num=uutg]"
     ]
    },
    {
     "name": "stderr",
     "output_type": "stream",
     "text": [
      "`Trainer.fit` stopped: `max_epochs=100` reached.\n"
     ]
    },
    {
     "name": "stdout",
     "output_type": "stream",
     "text": [
      "Epoch 99: 100%|██████████| 79/79 [00:02<00:00, 31.57it/s, v_num=uutg]\n"
     ]
    },
    {
     "name": "stderr",
     "output_type": "stream",
     "text": [
      "/home/ganddalf/anaconda3/envs/dl/lib/python3.12/site-packages/lightning/pytorch/trainer/connectors/checkpoint_connector.py:145: `.test(ckpt_path=None)` was called without a model. The best model of the previous `fit` call will be used. You can pass `.test(ckpt_path='best')` to use the best model or `.test(ckpt_path='last')` to use the last model. If you pass a value, this warning will be silenced.\n",
      "Restoring states from the checkpoint path at ./lightning_logs/q73fuutg/checkpoints/epoch=99-step=7900-v7.ckpt\n",
      "LOCAL_RANK: 0 - CUDA_VISIBLE_DEVICES: [0]\n",
      "Loaded model weights from the checkpoint at ./lightning_logs/q73fuutg/checkpoints/epoch=99-step=7900-v7.ckpt\n"
     ]
    },
    {
     "name": "stdout",
     "output_type": "stream",
     "text": [
      "Testing DataLoader 0: 100%|██████████| 79/79 [00:04<00:00, 17.21it/s] "
     ]
    },
    {
     "name": "stderr",
     "output_type": "stream",
     "text": [
      "[I 2024-06-23 05:46:54,009] Trial 7 finished with value: 0.5744 and parameters: {'l_0_0': 0.0006394001237656698, 'l_0_1': 9.843859459354948e-05, 'l_0_2': 0.00836802142627163, 'l_0_3': 0.1589565693543564, 'l_1_0': 0.00029302728577038247, 'l_1_1': 0.007923955808449156, 'l_1_2': 0.0007770333088462217, 'l_1_3': 0.02043877534226152, 'l_2_0': 3.799524409962908e-05, 'l_2_1': 0.9750854117755966, 'l_2_2': 0.052037129165641426, 'l_2_3': 0.0022873092615118, 'l_3_0': 0.0010613418978054846, 'l_3_1': 4.542921979215621e-05, 'l_3_2': 0.057417044120728684, 'l_3_3': 0.11711232982367888}. Best is trial 2 with value: 0.595.\n",
      "GPU available: True (cuda), used: True\n",
      "TPU available: False, using: 0 TPU cores\n",
      "IPU available: False, using: 0 IPUs\n",
      "HPU available: False, using: 0 HPUs\n",
      "/home/ganddalf/anaconda3/envs/dl/lib/python3.12/site-packages/lightning/pytorch/loggers/wandb.py:391: There is a wandb run already in progress and newly created instances of `WandbLogger` will reuse this run. If this is not desired, call `wandb.finish()` before instantiating `WandbLogger`.\n",
      "/home/ganddalf/anaconda3/envs/dl/lib/python3.12/site-packages/lightning/pytorch/callbacks/model_checkpoint.py:653: Checkpoint directory ./lightning_logs/q73fuutg/checkpoints exists and is not empty.\n",
      "LOCAL_RANK: 0 - CUDA_VISIBLE_DEVICES: [0]\n",
      "\n",
      "  | Name    | Type             | Params\n",
      "---------------------------------------------\n",
      "0 | student | Cifar_Very_Tiny  | 15.1 K\n",
      "1 | teacher | Cifar_Tiny       | 58.0 K\n",
      "2 | loss    | CrossEntropyLoss | 0     \n",
      "---------------------------------------------\n",
      "15.1 K    Trainable params\n",
      "58.0 K    Non-trainable params\n",
      "73.0 K    Total params\n",
      "0.292     Total estimated model params size (MB)\n"
     ]
    },
    {
     "name": "stdout",
     "output_type": "stream",
     "text": [
      "\n",
      "────────────────────────────────────────────────────────────────────────────────────────────────────────────────────────\n",
      "       Test metric             DataLoader 0\n",
      "────────────────────────────────────────────────────────────────────────────────────────────────────────────────────────\n",
      "        AUC_FGSM            0.17851053178310394\n",
      "        AUC_Noise           0.39922308921813965\n",
      "        test_acc             0.574400007724762\n",
      "────────────────────────────────────────────────────────────────────────────────────────────────────────────────────────\n",
      "Epoch 99: 100%|██████████| 79/79 [00:02<00:00, 36.25it/s, v_num=uutg]"
     ]
    },
    {
     "name": "stderr",
     "output_type": "stream",
     "text": [
      "`Trainer.fit` stopped: `max_epochs=100` reached.\n"
     ]
    },
    {
     "name": "stdout",
     "output_type": "stream",
     "text": [
      "Epoch 99: 100%|██████████| 79/79 [00:02<00:00, 36.04it/s, v_num=uutg]\n"
     ]
    },
    {
     "name": "stderr",
     "output_type": "stream",
     "text": [
      "/home/ganddalf/anaconda3/envs/dl/lib/python3.12/site-packages/lightning/pytorch/trainer/connectors/checkpoint_connector.py:145: `.test(ckpt_path=None)` was called without a model. The best model of the previous `fit` call will be used. You can pass `.test(ckpt_path='best')` to use the best model or `.test(ckpt_path='last')` to use the last model. If you pass a value, this warning will be silenced.\n",
      "Restoring states from the checkpoint path at ./lightning_logs/q73fuutg/checkpoints/epoch=99-step=7900-v8.ckpt\n",
      "LOCAL_RANK: 0 - CUDA_VISIBLE_DEVICES: [0]\n",
      "Loaded model weights from the checkpoint at ./lightning_logs/q73fuutg/checkpoints/epoch=99-step=7900-v8.ckpt\n"
     ]
    },
    {
     "name": "stdout",
     "output_type": "stream",
     "text": [
      "Testing DataLoader 0: 100%|██████████| 79/79 [00:04<00:00, 18.73it/s] "
     ]
    },
    {
     "name": "stderr",
     "output_type": "stream",
     "text": [
      "[I 2024-06-23 05:51:35,079] Trial 8 finished with value: 0.5553 and parameters: {'l_0_0': 7.161414857119773e-05, 'l_0_1': 0.0009080112533023616, 'l_0_2': 0.7680415031203615, 'l_0_3': 0.04356637879502116, 'l_1_0': 0.00016413786722356693, 'l_1_1': 0.040751987953841974, 'l_1_2': 2.5491124335514476e-05, 'l_1_3': 3.2002785050721705e-05, 'l_2_0': 0.0004069244285877721, 'l_2_1': 0.009849499534527961, 'l_2_2': 5.1185820172979295e-05, 'l_2_3': 6.887056236604274e-05, 'l_3_0': 0.002109096395912034, 'l_3_1': 0.00591078779692476, 'l_3_2': 6.103917598906e-05, 'l_3_3': 0.036482178541527355}. Best is trial 2 with value: 0.595.\n",
      "GPU available: True (cuda), used: True\n",
      "TPU available: False, using: 0 TPU cores\n",
      "IPU available: False, using: 0 IPUs\n",
      "HPU available: False, using: 0 HPUs\n",
      "/home/ganddalf/anaconda3/envs/dl/lib/python3.12/site-packages/lightning/pytorch/loggers/wandb.py:391: There is a wandb run already in progress and newly created instances of `WandbLogger` will reuse this run. If this is not desired, call `wandb.finish()` before instantiating `WandbLogger`.\n",
      "/home/ganddalf/anaconda3/envs/dl/lib/python3.12/site-packages/lightning/pytorch/callbacks/model_checkpoint.py:653: Checkpoint directory ./lightning_logs/q73fuutg/checkpoints exists and is not empty.\n",
      "LOCAL_RANK: 0 - CUDA_VISIBLE_DEVICES: [0]\n",
      "\n",
      "  | Name    | Type             | Params\n",
      "---------------------------------------------\n",
      "0 | student | Cifar_Very_Tiny  | 15.1 K\n",
      "1 | teacher | Cifar_Tiny       | 58.0 K\n",
      "2 | loss    | CrossEntropyLoss | 0     \n",
      "---------------------------------------------\n",
      "15.1 K    Trainable params\n",
      "58.0 K    Non-trainable params\n",
      "73.0 K    Total params\n",
      "0.292     Total estimated model params size (MB)\n"
     ]
    },
    {
     "name": "stdout",
     "output_type": "stream",
     "text": [
      "\n",
      "────────────────────────────────────────────────────────────────────────────────────────────────────────────────────────\n",
      "       Test metric             DataLoader 0\n",
      "────────────────────────────────────────────────────────────────────────────────────────────────────────────────────────\n",
      "        AUC_FGSM            0.13314209878444672\n",
      "        AUC_Noise           0.37371280789375305\n",
      "        test_acc            0.5552999973297119\n",
      "────────────────────────────────────────────────────────────────────────────────────────────────────────────────────────\n",
      "Epoch 99: 100%|██████████| 79/79 [00:03<00:00, 26.29it/s, v_num=uutg]"
     ]
    },
    {
     "name": "stderr",
     "output_type": "stream",
     "text": [
      "`Trainer.fit` stopped: `max_epochs=100` reached.\n"
     ]
    },
    {
     "name": "stdout",
     "output_type": "stream",
     "text": [
      "Epoch 99: 100%|██████████| 79/79 [00:03<00:00, 26.18it/s, v_num=uutg]\n"
     ]
    },
    {
     "name": "stderr",
     "output_type": "stream",
     "text": [
      "/home/ganddalf/anaconda3/envs/dl/lib/python3.12/site-packages/lightning/pytorch/trainer/connectors/checkpoint_connector.py:145: `.test(ckpt_path=None)` was called without a model. The best model of the previous `fit` call will be used. You can pass `.test(ckpt_path='best')` to use the best model or `.test(ckpt_path='last')` to use the last model. If you pass a value, this warning will be silenced.\n",
      "Restoring states from the checkpoint path at ./lightning_logs/q73fuutg/checkpoints/epoch=99-step=7900-v9.ckpt\n",
      "LOCAL_RANK: 0 - CUDA_VISIBLE_DEVICES: [0]\n",
      "Loaded model weights from the checkpoint at ./lightning_logs/q73fuutg/checkpoints/epoch=99-step=7900-v9.ckpt\n"
     ]
    },
    {
     "name": "stdout",
     "output_type": "stream",
     "text": [
      "Testing DataLoader 0: 100%|██████████| 79/79 [00:04<00:00, 17.42it/s] "
     ]
    },
    {
     "name": "stderr",
     "output_type": "stream",
     "text": [
      "[I 2024-06-23 05:56:14,952] Trial 9 finished with value: 0.5559 and parameters: {'l_0_0': 0.192765315971426, 'l_0_1': 0.12759662688831305, 'l_0_2': 0.6120737813587183, 'l_0_3': 0.004932957425331948, 'l_1_0': 0.03667843319566009, 'l_1_1': 0.007766647431375069, 'l_1_2': 5.434471709966791e-05, 'l_1_3': 5.655205715624357e-05, 'l_2_0': 0.0005169100782817017, 'l_2_1': 0.0005226928195326391, 'l_2_2': 0.02911626940939174, 'l_2_3': 0.00397502616089779, 'l_3_0': 0.17072205902169285, 'l_3_1': 0.0014003437413876252, 'l_3_2': 0.0005245422684486459, 'l_3_3': 0.386798085635566}. Best is trial 2 with value: 0.595.\n",
      "GPU available: True (cuda), used: True\n",
      "TPU available: False, using: 0 TPU cores\n",
      "IPU available: False, using: 0 IPUs\n",
      "HPU available: False, using: 0 HPUs\n",
      "/home/ganddalf/anaconda3/envs/dl/lib/python3.12/site-packages/lightning/pytorch/loggers/wandb.py:391: There is a wandb run already in progress and newly created instances of `WandbLogger` will reuse this run. If this is not desired, call `wandb.finish()` before instantiating `WandbLogger`.\n",
      "/home/ganddalf/anaconda3/envs/dl/lib/python3.12/site-packages/lightning/pytorch/callbacks/model_checkpoint.py:653: Checkpoint directory ./lightning_logs/q73fuutg/checkpoints exists and is not empty.\n",
      "LOCAL_RANK: 0 - CUDA_VISIBLE_DEVICES: [0]\n",
      "\n",
      "  | Name    | Type             | Params\n",
      "---------------------------------------------\n",
      "0 | student | Cifar_Very_Tiny  | 15.1 K\n",
      "1 | teacher | Cifar_Tiny       | 58.0 K\n",
      "2 | loss    | CrossEntropyLoss | 0     \n",
      "---------------------------------------------\n",
      "15.1 K    Trainable params\n",
      "58.0 K    Non-trainable params\n",
      "73.0 K    Total params\n",
      "0.292     Total estimated model params size (MB)\n"
     ]
    },
    {
     "name": "stdout",
     "output_type": "stream",
     "text": [
      "\n",
      "────────────────────────────────────────────────────────────────────────────────────────────────────────────────────────\n",
      "       Test metric             DataLoader 0\n",
      "────────────────────────────────────────────────────────────────────────────────────────────────────────────────────────\n",
      "        AUC_FGSM            0.2126236855983734\n",
      "        AUC_Noise           0.37413591146469116\n",
      "        test_acc             0.555899977684021\n",
      "────────────────────────────────────────────────────────────────────────────────────────────────────────────────────────\n",
      "Epoch 99: 100%|██████████| 79/79 [00:02<00:00, 28.53it/s, v_num=uutg]"
     ]
    },
    {
     "name": "stderr",
     "output_type": "stream",
     "text": [
      "`Trainer.fit` stopped: `max_epochs=100` reached.\n"
     ]
    },
    {
     "name": "stdout",
     "output_type": "stream",
     "text": [
      "Epoch 99: 100%|██████████| 79/79 [00:02<00:00, 28.41it/s, v_num=uutg]\n"
     ]
    },
    {
     "name": "stderr",
     "output_type": "stream",
     "text": [
      "/home/ganddalf/anaconda3/envs/dl/lib/python3.12/site-packages/lightning/pytorch/trainer/connectors/checkpoint_connector.py:145: `.test(ckpt_path=None)` was called without a model. The best model of the previous `fit` call will be used. You can pass `.test(ckpt_path='best')` to use the best model or `.test(ckpt_path='last')` to use the last model. If you pass a value, this warning will be silenced.\n",
      "Restoring states from the checkpoint path at ./lightning_logs/q73fuutg/checkpoints/epoch=99-step=7900-v10.ckpt\n",
      "LOCAL_RANK: 0 - CUDA_VISIBLE_DEVICES: [0]\n",
      "Loaded model weights from the checkpoint at ./lightning_logs/q73fuutg/checkpoints/epoch=99-step=7900-v10.ckpt\n"
     ]
    },
    {
     "name": "stdout",
     "output_type": "stream",
     "text": [
      "Testing DataLoader 0: 100%|██████████| 79/79 [00:04<00:00, 19.64it/s] "
     ]
    },
    {
     "name": "stderr",
     "output_type": "stream",
     "text": [
      "[I 2024-06-23 06:00:54,340] Trial 10 finished with value: 0.5904 and parameters: {'l_0_0': 0.005185623452051438, 'l_0_1': 2.5870247111675325e-05, 'l_0_2': 0.02225656840493365, 'l_0_3': 1.0473867029434718e-05, 'l_1_0': 1.0057914874987924e-05, 'l_1_1': 0.9738810677621824, 'l_1_2': 0.6832640107585987, 'l_1_3': 0.006435501242937779, 'l_2_0': 0.023497567903525782, 'l_2_1': 0.0002013282346795772, 'l_2_2': 0.0005737505130980371, 'l_2_3': 0.0008782799130596686, 'l_3_0': 0.04113948803735597, 'l_3_1': 0.018297559979175124, 'l_3_2': 0.16605381594195426, 'l_3_3': 0.8386537771575312}. Best is trial 2 with value: 0.595.\n",
      "GPU available: True (cuda), used: True\n",
      "TPU available: False, using: 0 TPU cores\n",
      "IPU available: False, using: 0 IPUs\n",
      "HPU available: False, using: 0 HPUs\n",
      "/home/ganddalf/anaconda3/envs/dl/lib/python3.12/site-packages/lightning/pytorch/loggers/wandb.py:391: There is a wandb run already in progress and newly created instances of `WandbLogger` will reuse this run. If this is not desired, call `wandb.finish()` before instantiating `WandbLogger`.\n",
      "/home/ganddalf/anaconda3/envs/dl/lib/python3.12/site-packages/lightning/pytorch/callbacks/model_checkpoint.py:653: Checkpoint directory ./lightning_logs/q73fuutg/checkpoints exists and is not empty.\n",
      "LOCAL_RANK: 0 - CUDA_VISIBLE_DEVICES: [0]\n",
      "\n",
      "  | Name    | Type             | Params\n",
      "---------------------------------------------\n",
      "0 | student | Cifar_Very_Tiny  | 15.1 K\n",
      "1 | teacher | Cifar_Tiny       | 58.0 K\n",
      "2 | loss    | CrossEntropyLoss | 0     \n",
      "---------------------------------------------\n",
      "15.1 K    Trainable params\n",
      "58.0 K    Non-trainable params\n",
      "73.0 K    Total params\n",
      "0.292     Total estimated model params size (MB)\n"
     ]
    },
    {
     "name": "stdout",
     "output_type": "stream",
     "text": [
      "\n",
      "────────────────────────────────────────────────────────────────────────────────────────────────────────────────────────\n",
      "       Test metric             DataLoader 0\n",
      "────────────────────────────────────────────────────────────────────────────────────────────────────────────────────────\n",
      "        AUC_FGSM            0.1814684271812439\n",
      "        AUC_Noise           0.40682947635650635\n",
      "        test_acc             0.590399980545044\n",
      "────────────────────────────────────────────────────────────────────────────────────────────────────────────────────────\n",
      "Epoch 99: 100%|██████████| 79/79 [00:02<00:00, 28.16it/s, v_num=uutg]"
     ]
    },
    {
     "name": "stderr",
     "output_type": "stream",
     "text": [
      "`Trainer.fit` stopped: `max_epochs=100` reached.\n"
     ]
    },
    {
     "name": "stdout",
     "output_type": "stream",
     "text": [
      "Epoch 99: 100%|██████████| 79/79 [00:02<00:00, 28.03it/s, v_num=uutg]\n"
     ]
    },
    {
     "name": "stderr",
     "output_type": "stream",
     "text": [
      "/home/ganddalf/anaconda3/envs/dl/lib/python3.12/site-packages/lightning/pytorch/trainer/connectors/checkpoint_connector.py:145: `.test(ckpt_path=None)` was called without a model. The best model of the previous `fit` call will be used. You can pass `.test(ckpt_path='best')` to use the best model or `.test(ckpt_path='last')` to use the last model. If you pass a value, this warning will be silenced.\n",
      "Restoring states from the checkpoint path at ./lightning_logs/q73fuutg/checkpoints/epoch=99-step=7900-v11.ckpt\n",
      "LOCAL_RANK: 0 - CUDA_VISIBLE_DEVICES: [0]\n",
      "Loaded model weights from the checkpoint at ./lightning_logs/q73fuutg/checkpoints/epoch=99-step=7900-v11.ckpt\n"
     ]
    },
    {
     "name": "stdout",
     "output_type": "stream",
     "text": [
      "Testing DataLoader 0: 100%|██████████| 79/79 [00:04<00:00, 16.36it/s] "
     ]
    },
    {
     "name": "stderr",
     "output_type": "stream",
     "text": [
      "[I 2024-06-23 06:05:37,920] Trial 11 finished with value: 0.589 and parameters: {'l_0_0': 0.005482052234296616, 'l_0_1': 1.0591366894406367e-05, 'l_0_2': 0.039113490992592044, 'l_0_3': 1.0382760641537894e-05, 'l_1_0': 2.8771208406753023e-05, 'l_1_1': 0.5716827668355343, 'l_1_2': 0.8621188300136609, 'l_1_3': 0.010150366140370617, 'l_2_0': 0.02316224689869122, 'l_2_1': 0.000292584718716929, 'l_2_2': 0.0003900092752866841, 'l_2_3': 0.0011041950602918619, 'l_3_0': 0.024527690192598973, 'l_3_1': 0.022553412859521327, 'l_3_2': 0.6902467970903672, 'l_3_3': 0.9708520217207028}. Best is trial 2 with value: 0.595.\n",
      "GPU available: True (cuda), used: True\n",
      "TPU available: False, using: 0 TPU cores\n",
      "IPU available: False, using: 0 IPUs\n",
      "HPU available: False, using: 0 HPUs\n",
      "/home/ganddalf/anaconda3/envs/dl/lib/python3.12/site-packages/lightning/pytorch/loggers/wandb.py:391: There is a wandb run already in progress and newly created instances of `WandbLogger` will reuse this run. If this is not desired, call `wandb.finish()` before instantiating `WandbLogger`.\n",
      "/home/ganddalf/anaconda3/envs/dl/lib/python3.12/site-packages/lightning/pytorch/callbacks/model_checkpoint.py:653: Checkpoint directory ./lightning_logs/q73fuutg/checkpoints exists and is not empty.\n",
      "LOCAL_RANK: 0 - CUDA_VISIBLE_DEVICES: [0]\n",
      "\n",
      "  | Name    | Type             | Params\n",
      "---------------------------------------------\n",
      "0 | student | Cifar_Very_Tiny  | 15.1 K\n",
      "1 | teacher | Cifar_Tiny       | 58.0 K\n",
      "2 | loss    | CrossEntropyLoss | 0     \n",
      "---------------------------------------------\n",
      "15.1 K    Trainable params\n",
      "58.0 K    Non-trainable params\n",
      "73.0 K    Total params\n",
      "0.292     Total estimated model params size (MB)\n"
     ]
    },
    {
     "name": "stdout",
     "output_type": "stream",
     "text": [
      "\n",
      "────────────────────────────────────────────────────────────────────────────────────────────────────────────────────────\n",
      "       Test metric             DataLoader 0\n",
      "────────────────────────────────────────────────────────────────────────────────────────────────────────────────────────\n",
      "        AUC_FGSM            0.19982367753982544\n",
      "        AUC_Noise           0.43606793880462646\n",
      "        test_acc            0.5889999866485596\n",
      "────────────────────────────────────────────────────────────────────────────────────────────────────────────────────────\n",
      "Epoch 99: 100%|██████████| 79/79 [00:02<00:00, 28.23it/s, v_num=uutg]"
     ]
    },
    {
     "name": "stderr",
     "output_type": "stream",
     "text": [
      "`Trainer.fit` stopped: `max_epochs=100` reached.\n"
     ]
    },
    {
     "name": "stdout",
     "output_type": "stream",
     "text": [
      "Epoch 99: 100%|██████████| 79/79 [00:02<00:00, 28.11it/s, v_num=uutg]\n"
     ]
    },
    {
     "name": "stderr",
     "output_type": "stream",
     "text": [
      "/home/ganddalf/anaconda3/envs/dl/lib/python3.12/site-packages/lightning/pytorch/trainer/connectors/checkpoint_connector.py:145: `.test(ckpt_path=None)` was called without a model. The best model of the previous `fit` call will be used. You can pass `.test(ckpt_path='best')` to use the best model or `.test(ckpt_path='last')` to use the last model. If you pass a value, this warning will be silenced.\n",
      "Restoring states from the checkpoint path at ./lightning_logs/q73fuutg/checkpoints/epoch=99-step=7900-v12.ckpt\n",
      "LOCAL_RANK: 0 - CUDA_VISIBLE_DEVICES: [0]\n",
      "Loaded model weights from the checkpoint at ./lightning_logs/q73fuutg/checkpoints/epoch=99-step=7900-v12.ckpt\n"
     ]
    },
    {
     "name": "stdout",
     "output_type": "stream",
     "text": [
      "Testing DataLoader 0: 100%|██████████| 79/79 [00:04<00:00, 17.38it/s] "
     ]
    },
    {
     "name": "stderr",
     "output_type": "stream",
     "text": [
      "[I 2024-06-23 06:10:18,251] Trial 12 finished with value: 0.5073 and parameters: {'l_0_0': 0.0007131182135347845, 'l_0_1': 9.023787222710124e-05, 'l_0_2': 0.025525380728133228, 'l_0_3': 1.2517987253193271e-05, 'l_1_0': 1.1745762086368156e-05, 'l_1_1': 0.9726268651406487, 'l_1_2': 0.8271100984218752, 'l_1_3': 0.0013573641909349168, 'l_2_0': 0.02601243729190248, 'l_2_1': 0.0002379742734115661, 'l_2_2': 0.0008283995137597573, 'l_2_3': 0.0003013436685184922, 'l_3_0': 0.0002559550510772641, 'l_3_1': 0.00047495813060388246, 'l_3_2': 0.023515473796916646, 'l_3_3': 0.04541574811474408}. Best is trial 2 with value: 0.595.\n",
      "GPU available: True (cuda), used: True\n",
      "TPU available: False, using: 0 TPU cores\n",
      "IPU available: False, using: 0 IPUs\n",
      "HPU available: False, using: 0 HPUs\n",
      "/home/ganddalf/anaconda3/envs/dl/lib/python3.12/site-packages/lightning/pytorch/loggers/wandb.py:391: There is a wandb run already in progress and newly created instances of `WandbLogger` will reuse this run. If this is not desired, call `wandb.finish()` before instantiating `WandbLogger`.\n",
      "/home/ganddalf/anaconda3/envs/dl/lib/python3.12/site-packages/lightning/pytorch/callbacks/model_checkpoint.py:653: Checkpoint directory ./lightning_logs/q73fuutg/checkpoints exists and is not empty.\n",
      "LOCAL_RANK: 0 - CUDA_VISIBLE_DEVICES: [0]\n",
      "\n",
      "  | Name    | Type             | Params\n",
      "---------------------------------------------\n",
      "0 | student | Cifar_Very_Tiny  | 15.1 K\n",
      "1 | teacher | Cifar_Tiny       | 58.0 K\n",
      "2 | loss    | CrossEntropyLoss | 0     \n",
      "---------------------------------------------\n",
      "15.1 K    Trainable params\n",
      "58.0 K    Non-trainable params\n",
      "73.0 K    Total params\n",
      "0.292     Total estimated model params size (MB)\n"
     ]
    },
    {
     "name": "stdout",
     "output_type": "stream",
     "text": [
      "\n",
      "────────────────────────────────────────────────────────────────────────────────────────────────────────────────────────\n",
      "       Test metric             DataLoader 0\n",
      "────────────────────────────────────────────────────────────────────────────────────────────────────────────────────────\n",
      "        AUC_FGSM             0.129939466714859\n",
      "        AUC_Noise           0.3051474392414093\n",
      "        test_acc            0.5073000192642212\n",
      "────────────────────────────────────────────────────────────────────────────────────────────────────────────────────────\n",
      "Epoch 99: 100%|██████████| 79/79 [00:02<00:00, 26.82it/s, v_num=uutg]"
     ]
    },
    {
     "name": "stderr",
     "output_type": "stream",
     "text": [
      "`Trainer.fit` stopped: `max_epochs=100` reached.\n"
     ]
    },
    {
     "name": "stdout",
     "output_type": "stream",
     "text": [
      "Epoch 99: 100%|██████████| 79/79 [00:02<00:00, 26.71it/s, v_num=uutg]\n"
     ]
    },
    {
     "name": "stderr",
     "output_type": "stream",
     "text": [
      "/home/ganddalf/anaconda3/envs/dl/lib/python3.12/site-packages/lightning/pytorch/trainer/connectors/checkpoint_connector.py:145: `.test(ckpt_path=None)` was called without a model. The best model of the previous `fit` call will be used. You can pass `.test(ckpt_path='best')` to use the best model or `.test(ckpt_path='last')` to use the last model. If you pass a value, this warning will be silenced.\n",
      "Restoring states from the checkpoint path at ./lightning_logs/q73fuutg/checkpoints/epoch=99-step=7900-v13.ckpt\n",
      "LOCAL_RANK: 0 - CUDA_VISIBLE_DEVICES: [0]\n",
      "Loaded model weights from the checkpoint at ./lightning_logs/q73fuutg/checkpoints/epoch=99-step=7900-v13.ckpt\n"
     ]
    },
    {
     "name": "stdout",
     "output_type": "stream",
     "text": [
      "Testing DataLoader 0: 100%|██████████| 79/79 [00:04<00:00, 19.24it/s] "
     ]
    },
    {
     "name": "stderr",
     "output_type": "stream",
     "text": [
      "[I 2024-06-23 06:14:56,421] Trial 13 finished with value: 0.5819 and parameters: {'l_0_0': 0.014282000944382298, 'l_0_1': 8.36383956801779e-05, 'l_0_2': 0.0023070393001593074, 'l_0_3': 0.00011091196969413596, 'l_1_0': 6.7097715499554e-05, 'l_1_1': 0.1369598605276693, 'l_1_2': 0.08021389535948782, 'l_1_3': 0.026326021407213233, 'l_2_0': 0.01740854433389756, 'l_2_1': 0.0013953010239821176, 'l_2_2': 0.0011371162695217641, 'l_2_3': 0.00976303167572719, 'l_3_0': 0.03096275013617906, 'l_3_1': 0.04006269008088327, 'l_3_2': 0.2661193421421777, 'l_3_3': 0.005850371930687124}. Best is trial 2 with value: 0.595.\n",
      "GPU available: True (cuda), used: True\n",
      "TPU available: False, using: 0 TPU cores\n",
      "IPU available: False, using: 0 IPUs\n",
      "HPU available: False, using: 0 HPUs\n",
      "/home/ganddalf/anaconda3/envs/dl/lib/python3.12/site-packages/lightning/pytorch/loggers/wandb.py:391: There is a wandb run already in progress and newly created instances of `WandbLogger` will reuse this run. If this is not desired, call `wandb.finish()` before instantiating `WandbLogger`.\n",
      "/home/ganddalf/anaconda3/envs/dl/lib/python3.12/site-packages/lightning/pytorch/callbacks/model_checkpoint.py:653: Checkpoint directory ./lightning_logs/q73fuutg/checkpoints exists and is not empty.\n",
      "LOCAL_RANK: 0 - CUDA_VISIBLE_DEVICES: [0]\n",
      "\n",
      "  | Name    | Type             | Params\n",
      "---------------------------------------------\n",
      "0 | student | Cifar_Very_Tiny  | 15.1 K\n",
      "1 | teacher | Cifar_Tiny       | 58.0 K\n",
      "2 | loss    | CrossEntropyLoss | 0     \n",
      "---------------------------------------------\n",
      "15.1 K    Trainable params\n",
      "58.0 K    Non-trainable params\n",
      "73.0 K    Total params\n",
      "0.292     Total estimated model params size (MB)\n"
     ]
    },
    {
     "name": "stdout",
     "output_type": "stream",
     "text": [
      "\n",
      "────────────────────────────────────────────────────────────────────────────────────────────────────────────────────────\n",
      "       Test metric             DataLoader 0\n",
      "────────────────────────────────────────────────────────────────────────────────────────────────────────────────────────\n",
      "        AUC_FGSM            0.23156315088272095\n",
      "        AUC_Noise           0.40005001425743103\n",
      "        test_acc            0.5819000005722046\n",
      "────────────────────────────────────────────────────────────────────────────────────────────────────────────────────────\n",
      "Epoch 99: 100%|██████████| 79/79 [00:02<00:00, 26.45it/s, v_num=uutg]"
     ]
    },
    {
     "name": "stderr",
     "output_type": "stream",
     "text": [
      "`Trainer.fit` stopped: `max_epochs=100` reached.\n"
     ]
    },
    {
     "name": "stdout",
     "output_type": "stream",
     "text": [
      "Epoch 99: 100%|██████████| 79/79 [00:02<00:00, 26.34it/s, v_num=uutg]\n"
     ]
    },
    {
     "name": "stderr",
     "output_type": "stream",
     "text": [
      "/home/ganddalf/anaconda3/envs/dl/lib/python3.12/site-packages/lightning/pytorch/trainer/connectors/checkpoint_connector.py:145: `.test(ckpt_path=None)` was called without a model. The best model of the previous `fit` call will be used. You can pass `.test(ckpt_path='best')` to use the best model or `.test(ckpt_path='last')` to use the last model. If you pass a value, this warning will be silenced.\n",
      "Restoring states from the checkpoint path at ./lightning_logs/q73fuutg/checkpoints/epoch=99-step=7900-v14.ckpt\n",
      "LOCAL_RANK: 0 - CUDA_VISIBLE_DEVICES: [0]\n",
      "Loaded model weights from the checkpoint at ./lightning_logs/q73fuutg/checkpoints/epoch=99-step=7900-v14.ckpt\n"
     ]
    },
    {
     "name": "stdout",
     "output_type": "stream",
     "text": [
      "Testing DataLoader 0: 100%|██████████| 79/79 [00:05<00:00, 15.80it/s] "
     ]
    },
    {
     "name": "stderr",
     "output_type": "stream",
     "text": [
      "[I 2024-06-23 06:19:31,803] Trial 14 finished with value: 0.6057 and parameters: {'l_0_0': 0.002321489636884291, 'l_0_1': 0.00947523398266864, 'l_0_2': 0.08311338639179651, 'l_0_3': 0.00010259716946351155, 'l_1_0': 1.3824082161652053e-05, 'l_1_1': 0.27789359839916955, 'l_1_2': 0.09758429493731005, 'l_1_3': 0.08599752952387468, 'l_2_0': 0.8984593315962897, 'l_2_1': 7.969510299211637e-05, 'l_2_2': 0.08413284239297064, 'l_2_3': 1.0638723196599872e-05, 'l_3_0': 0.07982177629220247, 'l_3_1': 0.008630927522131222, 'l_3_2': 0.027715247107834486, 'l_3_3': 0.9809347561649056}. Best is trial 14 with value: 0.6057.\n",
      "GPU available: True (cuda), used: True\n",
      "TPU available: False, using: 0 TPU cores\n",
      "IPU available: False, using: 0 IPUs\n",
      "HPU available: False, using: 0 HPUs\n",
      "/home/ganddalf/anaconda3/envs/dl/lib/python3.12/site-packages/lightning/pytorch/loggers/wandb.py:391: There is a wandb run already in progress and newly created instances of `WandbLogger` will reuse this run. If this is not desired, call `wandb.finish()` before instantiating `WandbLogger`.\n",
      "/home/ganddalf/anaconda3/envs/dl/lib/python3.12/site-packages/lightning/pytorch/callbacks/model_checkpoint.py:653: Checkpoint directory ./lightning_logs/q73fuutg/checkpoints exists and is not empty.\n",
      "LOCAL_RANK: 0 - CUDA_VISIBLE_DEVICES: [0]\n",
      "\n",
      "  | Name    | Type             | Params\n",
      "---------------------------------------------\n",
      "0 | student | Cifar_Very_Tiny  | 15.1 K\n",
      "1 | teacher | Cifar_Tiny       | 58.0 K\n",
      "2 | loss    | CrossEntropyLoss | 0     \n",
      "---------------------------------------------\n",
      "15.1 K    Trainable params\n",
      "58.0 K    Non-trainable params\n",
      "73.0 K    Total params\n",
      "0.292     Total estimated model params size (MB)\n"
     ]
    },
    {
     "name": "stdout",
     "output_type": "stream",
     "text": [
      "\n",
      "────────────────────────────────────────────────────────────────────────────────────────────────────────────────────────\n",
      "       Test metric             DataLoader 0\n",
      "────────────────────────────────────────────────────────────────────────────────────────────────────────────────────────\n",
      "        AUC_FGSM            0.20918157696723938\n",
      "        AUC_Noise           0.43998590111732483\n",
      "        test_acc            0.6057000160217285\n",
      "────────────────────────────────────────────────────────────────────────────────────────────────────────────────────────\n",
      "Epoch 99: 100%|██████████| 79/79 [00:02<00:00, 32.13it/s, v_num=uutg]"
     ]
    },
    {
     "name": "stderr",
     "output_type": "stream",
     "text": [
      "`Trainer.fit` stopped: `max_epochs=100` reached.\n"
     ]
    },
    {
     "name": "stdout",
     "output_type": "stream",
     "text": [
      "Epoch 99: 100%|██████████| 79/79 [00:02<00:00, 31.97it/s, v_num=uutg]\n"
     ]
    },
    {
     "name": "stderr",
     "output_type": "stream",
     "text": [
      "/home/ganddalf/anaconda3/envs/dl/lib/python3.12/site-packages/lightning/pytorch/trainer/connectors/checkpoint_connector.py:145: `.test(ckpt_path=None)` was called without a model. The best model of the previous `fit` call will be used. You can pass `.test(ckpt_path='best')` to use the best model or `.test(ckpt_path='last')` to use the last model. If you pass a value, this warning will be silenced.\n",
      "Restoring states from the checkpoint path at ./lightning_logs/q73fuutg/checkpoints/epoch=99-step=7900-v15.ckpt\n",
      "LOCAL_RANK: 0 - CUDA_VISIBLE_DEVICES: [0]\n",
      "Loaded model weights from the checkpoint at ./lightning_logs/q73fuutg/checkpoints/epoch=99-step=7900-v15.ckpt\n"
     ]
    },
    {
     "name": "stdout",
     "output_type": "stream",
     "text": [
      "Testing DataLoader 0: 100%|██████████| 79/79 [00:05<00:00, 15.66it/s] "
     ]
    },
    {
     "name": "stderr",
     "output_type": "stream",
     "text": [
      "[I 2024-06-23 06:24:11,431] Trial 15 finished with value: 0.4675 and parameters: {'l_0_0': 0.0002737680269834128, 'l_0_1': 0.00992918374603553, 'l_0_2': 0.11418862826805085, 'l_0_3': 0.00017393159989856534, 'l_1_0': 0.0003431065993787277, 'l_1_1': 0.03412330998573214, 'l_1_2': 0.07402388132123637, 'l_1_3': 0.12266989321265989, 'l_2_0': 0.8442645926047045, 'l_2_1': 5.677236545776769e-05, 'l_2_2': 0.13195684773089594, 'l_2_3': 1.08079072870318e-05, 'l_3_0': 0.9110757042305863, 'l_3_1': 0.000530335691026047, 'l_3_2': 0.009210807118588451, 'l_3_3': 0.17542859154069776}. Best is trial 14 with value: 0.6057.\n",
      "GPU available: True (cuda), used: True\n",
      "TPU available: False, using: 0 TPU cores\n",
      "IPU available: False, using: 0 IPUs\n",
      "HPU available: False, using: 0 HPUs\n",
      "/home/ganddalf/anaconda3/envs/dl/lib/python3.12/site-packages/lightning/pytorch/loggers/wandb.py:391: There is a wandb run already in progress and newly created instances of `WandbLogger` will reuse this run. If this is not desired, call `wandb.finish()` before instantiating `WandbLogger`.\n",
      "/home/ganddalf/anaconda3/envs/dl/lib/python3.12/site-packages/lightning/pytorch/callbacks/model_checkpoint.py:653: Checkpoint directory ./lightning_logs/q73fuutg/checkpoints exists and is not empty.\n",
      "LOCAL_RANK: 0 - CUDA_VISIBLE_DEVICES: [0]\n",
      "\n",
      "  | Name    | Type             | Params\n",
      "---------------------------------------------\n",
      "0 | student | Cifar_Very_Tiny  | 15.1 K\n",
      "1 | teacher | Cifar_Tiny       | 58.0 K\n",
      "2 | loss    | CrossEntropyLoss | 0     \n",
      "---------------------------------------------\n",
      "15.1 K    Trainable params\n",
      "58.0 K    Non-trainable params\n",
      "73.0 K    Total params\n",
      "0.292     Total estimated model params size (MB)\n"
     ]
    },
    {
     "name": "stdout",
     "output_type": "stream",
     "text": [
      "\n",
      "────────────────────────────────────────────────────────────────────────────────────────────────────────────────────────\n",
      "       Test metric             DataLoader 0\n",
      "────────────────────────────────────────────────────────────────────────────────────────────────────────────────────────\n",
      "        AUC_FGSM            0.25656577944755554\n",
      "        AUC_Noise           0.36752307415008545\n",
      "        test_acc            0.4675000011920929\n",
      "────────────────────────────────────────────────────────────────────────────────────────────────────────────────────────\n",
      "Epoch 99: 100%|██████████| 79/79 [00:02<00:00, 29.90it/s, v_num=uutg]"
     ]
    },
    {
     "name": "stderr",
     "output_type": "stream",
     "text": [
      "`Trainer.fit` stopped: `max_epochs=100` reached.\n"
     ]
    },
    {
     "name": "stdout",
     "output_type": "stream",
     "text": [
      "Epoch 99: 100%|██████████| 79/79 [00:02<00:00, 29.76it/s, v_num=uutg]\n"
     ]
    },
    {
     "name": "stderr",
     "output_type": "stream",
     "text": [
      "/home/ganddalf/anaconda3/envs/dl/lib/python3.12/site-packages/lightning/pytorch/trainer/connectors/checkpoint_connector.py:145: `.test(ckpt_path=None)` was called without a model. The best model of the previous `fit` call will be used. You can pass `.test(ckpt_path='best')` to use the best model or `.test(ckpt_path='last')` to use the last model. If you pass a value, this warning will be silenced.\n",
      "Restoring states from the checkpoint path at ./lightning_logs/q73fuutg/checkpoints/epoch=99-step=7900-v16.ckpt\n",
      "LOCAL_RANK: 0 - CUDA_VISIBLE_DEVICES: [0]\n",
      "Loaded model weights from the checkpoint at ./lightning_logs/q73fuutg/checkpoints/epoch=99-step=7900-v16.ckpt\n"
     ]
    },
    {
     "name": "stdout",
     "output_type": "stream",
     "text": [
      "Testing DataLoader 0: 100%|██████████| 79/79 [00:04<00:00, 16.52it/s] "
     ]
    },
    {
     "name": "stderr",
     "output_type": "stream",
     "text": [
      "[I 2024-06-23 06:28:49,125] Trial 16 finished with value: 0.5876 and parameters: {'l_0_0': 0.0001448094384879273, 'l_0_1': 0.0160460418533093, 'l_0_2': 0.1270790939340474, 'l_0_3': 0.0007135408430106999, 'l_1_0': 7.574489233901874e-05, 'l_1_1': 0.23525240126103134, 'l_1_2': 0.10495881745176006, 'l_1_3': 0.06429536214218566, 'l_2_0': 0.003158510415102322, 'l_2_1': 0.0021404962012629, 'l_2_2': 0.9600249302096093, 'l_2_3': 3.4242741902450365e-05, 'l_3_0': 0.0002813394917027407, 'l_3_1': 0.005557962775289502, 'l_3_2': 0.006095105351880187, 'l_3_3': 0.06870547542694752}. Best is trial 14 with value: 0.6057.\n",
      "GPU available: True (cuda), used: True\n",
      "TPU available: False, using: 0 TPU cores\n",
      "IPU available: False, using: 0 IPUs\n",
      "HPU available: False, using: 0 HPUs\n",
      "/home/ganddalf/anaconda3/envs/dl/lib/python3.12/site-packages/lightning/pytorch/loggers/wandb.py:391: There is a wandb run already in progress and newly created instances of `WandbLogger` will reuse this run. If this is not desired, call `wandb.finish()` before instantiating `WandbLogger`.\n",
      "/home/ganddalf/anaconda3/envs/dl/lib/python3.12/site-packages/lightning/pytorch/callbacks/model_checkpoint.py:653: Checkpoint directory ./lightning_logs/q73fuutg/checkpoints exists and is not empty.\n",
      "LOCAL_RANK: 0 - CUDA_VISIBLE_DEVICES: [0]\n",
      "\n",
      "  | Name    | Type             | Params\n",
      "---------------------------------------------\n",
      "0 | student | Cifar_Very_Tiny  | 15.1 K\n",
      "1 | teacher | Cifar_Tiny       | 58.0 K\n",
      "2 | loss    | CrossEntropyLoss | 0     \n",
      "---------------------------------------------\n",
      "15.1 K    Trainable params\n",
      "58.0 K    Non-trainable params\n",
      "73.0 K    Total params\n",
      "0.292     Total estimated model params size (MB)\n"
     ]
    },
    {
     "name": "stdout",
     "output_type": "stream",
     "text": [
      "\n",
      "────────────────────────────────────────────────────────────────────────────────────────────────────────────────────────\n",
      "       Test metric             DataLoader 0\n",
      "────────────────────────────────────────────────────────────────────────────────────────────────────────────────────────\n",
      "        AUC_FGSM            0.19404210150241852\n",
      "        AUC_Noise           0.4070141017436981\n",
      "        test_acc            0.5875999927520752\n",
      "────────────────────────────────────────────────────────────────────────────────────────────────────────────────────────\n",
      "Epoch 99: 100%|██████████| 79/79 [00:02<00:00, 28.47it/s, v_num=uutg]"
     ]
    },
    {
     "name": "stderr",
     "output_type": "stream",
     "text": [
      "`Trainer.fit` stopped: `max_epochs=100` reached.\n"
     ]
    },
    {
     "name": "stdout",
     "output_type": "stream",
     "text": [
      "Epoch 99: 100%|██████████| 79/79 [00:02<00:00, 28.39it/s, v_num=uutg]\n"
     ]
    },
    {
     "name": "stderr",
     "output_type": "stream",
     "text": [
      "/home/ganddalf/anaconda3/envs/dl/lib/python3.12/site-packages/lightning/pytorch/trainer/connectors/checkpoint_connector.py:145: `.test(ckpt_path=None)` was called without a model. The best model of the previous `fit` call will be used. You can pass `.test(ckpt_path='best')` to use the best model or `.test(ckpt_path='last')` to use the last model. If you pass a value, this warning will be silenced.\n",
      "Restoring states from the checkpoint path at ./lightning_logs/q73fuutg/checkpoints/epoch=99-step=7900-v17.ckpt\n",
      "LOCAL_RANK: 0 - CUDA_VISIBLE_DEVICES: [0]\n",
      "Loaded model weights from the checkpoint at ./lightning_logs/q73fuutg/checkpoints/epoch=99-step=7900-v17.ckpt\n"
     ]
    },
    {
     "name": "stdout",
     "output_type": "stream",
     "text": [
      "Testing DataLoader 0: 100%|██████████| 79/79 [00:04<00:00, 19.16it/s] "
     ]
    },
    {
     "name": "stderr",
     "output_type": "stream",
     "text": [
      "[I 2024-06-23 06:33:24,754] Trial 17 finished with value: 0.5795 and parameters: {'l_0_0': 0.00163225222624502, 'l_0_1': 0.08933783140275697, 'l_0_2': 0.0009598849217609918, 'l_0_3': 5.9955532672967216e-05, 'l_1_0': 0.00395187899085576, 'l_1_1': 0.020624270951526736, 'l_1_2': 0.012255584074644192, 'l_1_3': 0.8969375223456931, 'l_2_0': 0.00011527420757263042, 'l_2_1': 7.099658231091102e-05, 'l_2_2': 0.17476813749447398, 'l_2_3': 9.032136379167592e-05, 'l_3_0': 0.005742576399499335, 'l_3_1': 0.20021496584087206, 'l_3_2': 0.03279289236970426, 'l_3_3': 0.0008844248886876425}. Best is trial 14 with value: 0.6057.\n",
      "GPU available: True (cuda), used: True\n",
      "TPU available: False, using: 0 TPU cores\n",
      "IPU available: False, using: 0 IPUs\n",
      "HPU available: False, using: 0 HPUs\n",
      "/home/ganddalf/anaconda3/envs/dl/lib/python3.12/site-packages/lightning/pytorch/loggers/wandb.py:391: There is a wandb run already in progress and newly created instances of `WandbLogger` will reuse this run. If this is not desired, call `wandb.finish()` before instantiating `WandbLogger`.\n",
      "/home/ganddalf/anaconda3/envs/dl/lib/python3.12/site-packages/lightning/pytorch/callbacks/model_checkpoint.py:653: Checkpoint directory ./lightning_logs/q73fuutg/checkpoints exists and is not empty.\n",
      "LOCAL_RANK: 0 - CUDA_VISIBLE_DEVICES: [0]\n",
      "\n",
      "  | Name    | Type             | Params\n",
      "---------------------------------------------\n",
      "0 | student | Cifar_Very_Tiny  | 15.1 K\n",
      "1 | teacher | Cifar_Tiny       | 58.0 K\n",
      "2 | loss    | CrossEntropyLoss | 0     \n",
      "---------------------------------------------\n",
      "15.1 K    Trainable params\n",
      "58.0 K    Non-trainable params\n",
      "73.0 K    Total params\n",
      "0.292     Total estimated model params size (MB)\n"
     ]
    },
    {
     "name": "stdout",
     "output_type": "stream",
     "text": [
      "\n",
      "────────────────────────────────────────────────────────────────────────────────────────────────────────────────────────\n",
      "       Test metric             DataLoader 0\n",
      "────────────────────────────────────────────────────────────────────────────────────────────────────────────────────────\n",
      "        AUC_FGSM            0.19612105190753937\n",
      "        AUC_Noise           0.4046333432197571\n",
      "        test_acc            0.5795000195503235\n",
      "────────────────────────────────────────────────────────────────────────────────────────────────────────────────────────\n",
      "Epoch 99: 100%|██████████| 79/79 [00:02<00:00, 35.79it/s, v_num=uutg]"
     ]
    },
    {
     "name": "stderr",
     "output_type": "stream",
     "text": [
      "`Trainer.fit` stopped: `max_epochs=100` reached.\n"
     ]
    },
    {
     "name": "stdout",
     "output_type": "stream",
     "text": [
      "Epoch 99: 100%|██████████| 79/79 [00:02<00:00, 35.68it/s, v_num=uutg]\n"
     ]
    },
    {
     "name": "stderr",
     "output_type": "stream",
     "text": [
      "/home/ganddalf/anaconda3/envs/dl/lib/python3.12/site-packages/lightning/pytorch/trainer/connectors/checkpoint_connector.py:145: `.test(ckpt_path=None)` was called without a model. The best model of the previous `fit` call will be used. You can pass `.test(ckpt_path='best')` to use the best model or `.test(ckpt_path='last')` to use the last model. If you pass a value, this warning will be silenced.\n",
      "Restoring states from the checkpoint path at ./lightning_logs/q73fuutg/checkpoints/epoch=99-step=7900-v18.ckpt\n",
      "LOCAL_RANK: 0 - CUDA_VISIBLE_DEVICES: [0]\n",
      "Loaded model weights from the checkpoint at ./lightning_logs/q73fuutg/checkpoints/epoch=99-step=7900-v18.ckpt\n"
     ]
    },
    {
     "name": "stdout",
     "output_type": "stream",
     "text": [
      "Testing DataLoader 0: 100%|██████████| 79/79 [00:04<00:00, 16.90it/s] "
     ]
    },
    {
     "name": "stderr",
     "output_type": "stream",
     "text": [
      "[I 2024-06-23 06:38:02,683] Trial 18 finished with value: 0.1 and parameters: {'l_0_0': 3.212811996635212e-05, 'l_0_1': 0.0003254620234884295, 'l_0_2': 0.2069470786565712, 'l_0_3': 4.918523291103844e-05, 'l_1_0': 0.9723968633923467, 'l_1_1': 1.5052389078328667e-05, 'l_1_2': 0.18580949240081415, 'l_1_3': 0.0004300638361263192, 'l_2_0': 0.0933300643059733, 'l_2_1': 0.11892252154706646, 'l_2_2': 0.022150260073131603, 'l_2_3': 0.00016929655895933464, 'l_3_0': 0.1561598331256079, 'l_3_1': 0.00011270602736849912, 'l_3_2': 0.07611680432542398, 'l_3_3': 0.01164306970208346}. Best is trial 14 with value: 0.6057.\n",
      "GPU available: True (cuda), used: True\n",
      "TPU available: False, using: 0 TPU cores\n",
      "IPU available: False, using: 0 IPUs\n",
      "HPU available: False, using: 0 HPUs\n",
      "/home/ganddalf/anaconda3/envs/dl/lib/python3.12/site-packages/lightning/pytorch/loggers/wandb.py:391: There is a wandb run already in progress and newly created instances of `WandbLogger` will reuse this run. If this is not desired, call `wandb.finish()` before instantiating `WandbLogger`.\n",
      "/home/ganddalf/anaconda3/envs/dl/lib/python3.12/site-packages/lightning/pytorch/callbacks/model_checkpoint.py:653: Checkpoint directory ./lightning_logs/q73fuutg/checkpoints exists and is not empty.\n",
      "LOCAL_RANK: 0 - CUDA_VISIBLE_DEVICES: [0]\n",
      "\n",
      "  | Name    | Type             | Params\n",
      "---------------------------------------------\n",
      "0 | student | Cifar_Very_Tiny  | 15.1 K\n",
      "1 | teacher | Cifar_Tiny       | 58.0 K\n",
      "2 | loss    | CrossEntropyLoss | 0     \n",
      "---------------------------------------------\n",
      "15.1 K    Trainable params\n",
      "58.0 K    Non-trainable params\n",
      "73.0 K    Total params\n",
      "0.292     Total estimated model params size (MB)\n"
     ]
    },
    {
     "name": "stdout",
     "output_type": "stream",
     "text": [
      "\n",
      "────────────────────────────────────────────────────────────────────────────────────────────────────────────────────────\n",
      "       Test metric             DataLoader 0\n",
      "────────────────────────────────────────────────────────────────────────────────────────────────────────────────────────\n",
      "        AUC_FGSM            0.10000000149011612\n",
      "        AUC_Noise           0.10000000149011612\n",
      "        test_acc            0.10000000149011612\n",
      "────────────────────────────────────────────────────────────────────────────────────────────────────────────────────────\n",
      "Epoch 99: 100%|██████████| 79/79 [00:02<00:00, 31.07it/s, v_num=uutg]"
     ]
    },
    {
     "name": "stderr",
     "output_type": "stream",
     "text": [
      "`Trainer.fit` stopped: `max_epochs=100` reached.\n"
     ]
    },
    {
     "name": "stdout",
     "output_type": "stream",
     "text": [
      "Epoch 99: 100%|██████████| 79/79 [00:02<00:00, 30.92it/s, v_num=uutg]\n"
     ]
    },
    {
     "name": "stderr",
     "output_type": "stream",
     "text": [
      "/home/ganddalf/anaconda3/envs/dl/lib/python3.12/site-packages/lightning/pytorch/trainer/connectors/checkpoint_connector.py:145: `.test(ckpt_path=None)` was called without a model. The best model of the previous `fit` call will be used. You can pass `.test(ckpt_path='best')` to use the best model or `.test(ckpt_path='last')` to use the last model. If you pass a value, this warning will be silenced.\n",
      "Restoring states from the checkpoint path at ./lightning_logs/q73fuutg/checkpoints/epoch=99-step=7900-v19.ckpt\n",
      "LOCAL_RANK: 0 - CUDA_VISIBLE_DEVICES: [0]\n",
      "Loaded model weights from the checkpoint at ./lightning_logs/q73fuutg/checkpoints/epoch=99-step=7900-v19.ckpt\n"
     ]
    },
    {
     "name": "stdout",
     "output_type": "stream",
     "text": [
      "Testing DataLoader 0: 100%|██████████| 79/79 [00:05<00:00, 14.03it/s] "
     ]
    },
    {
     "name": "stderr",
     "output_type": "stream",
     "text": [
      "[I 2024-06-23 06:42:39,855] Trial 19 finished with value: 0.5853 and parameters: {'l_0_0': 0.055586134171881504, 'l_0_1': 0.003106695350593793, 'l_0_2': 0.007536772691284388, 'l_0_3': 0.0011746000524577524, 'l_1_0': 3.4110038759061285e-05, 'l_1_1': 0.20433667665841906, 'l_1_2': 0.01809370156087145, 'l_1_3': 0.003468119384755431, 'l_2_0': 1.1138646950690083e-05, 'l_2_1': 0.0008527516593415649, 'l_2_2': 0.09519962292288546, 'l_2_3': 0.01982199468670709, 'l_3_0': 0.00034209117757723036, 'l_3_1': 1.1100764487519505e-05, 'l_3_2': 0.8815553455477435, 'l_3_3': 0.0005779769898914919}. Best is trial 14 with value: 0.6057.\n",
      "GPU available: True (cuda), used: True\n",
      "TPU available: False, using: 0 TPU cores\n",
      "IPU available: False, using: 0 IPUs\n",
      "HPU available: False, using: 0 HPUs\n",
      "/home/ganddalf/anaconda3/envs/dl/lib/python3.12/site-packages/lightning/pytorch/loggers/wandb.py:391: There is a wandb run already in progress and newly created instances of `WandbLogger` will reuse this run. If this is not desired, call `wandb.finish()` before instantiating `WandbLogger`.\n",
      "/home/ganddalf/anaconda3/envs/dl/lib/python3.12/site-packages/lightning/pytorch/callbacks/model_checkpoint.py:653: Checkpoint directory ./lightning_logs/q73fuutg/checkpoints exists and is not empty.\n",
      "LOCAL_RANK: 0 - CUDA_VISIBLE_DEVICES: [0]\n",
      "\n",
      "  | Name    | Type             | Params\n",
      "---------------------------------------------\n",
      "0 | student | Cifar_Very_Tiny  | 15.1 K\n",
      "1 | teacher | Cifar_Tiny       | 58.0 K\n",
      "2 | loss    | CrossEntropyLoss | 0     \n",
      "---------------------------------------------\n",
      "15.1 K    Trainable params\n",
      "58.0 K    Non-trainable params\n",
      "73.0 K    Total params\n",
      "0.292     Total estimated model params size (MB)\n"
     ]
    },
    {
     "name": "stdout",
     "output_type": "stream",
     "text": [
      "\n",
      "────────────────────────────────────────────────────────────────────────────────────────────────────────────────────────\n",
      "       Test metric             DataLoader 0\n",
      "────────────────────────────────────────────────────────────────────────────────────────────────────────────────────────\n",
      "        AUC_FGSM            0.22268947958946228\n",
      "        AUC_Noise           0.3958294987678528\n",
      "        test_acc            0.5853000283241272\n",
      "────────────────────────────────────────────────────────────────────────────────────────────────────────────────────────\n",
      "Epoch 99: 100%|██████████| 79/79 [00:02<00:00, 27.67it/s, v_num=uutg]"
     ]
    },
    {
     "name": "stderr",
     "output_type": "stream",
     "text": [
      "`Trainer.fit` stopped: `max_epochs=100` reached.\n"
     ]
    },
    {
     "name": "stdout",
     "output_type": "stream",
     "text": [
      "Epoch 99: 100%|██████████| 79/79 [00:02<00:00, 27.54it/s, v_num=uutg]\n"
     ]
    },
    {
     "name": "stderr",
     "output_type": "stream",
     "text": [
      "/home/ganddalf/anaconda3/envs/dl/lib/python3.12/site-packages/lightning/pytorch/trainer/connectors/checkpoint_connector.py:145: `.test(ckpt_path=None)` was called without a model. The best model of the previous `fit` call will be used. You can pass `.test(ckpt_path='best')` to use the best model or `.test(ckpt_path='last')` to use the last model. If you pass a value, this warning will be silenced.\n",
      "Restoring states from the checkpoint path at ./lightning_logs/q73fuutg/checkpoints/epoch=99-step=7900-v20.ckpt\n",
      "LOCAL_RANK: 0 - CUDA_VISIBLE_DEVICES: [0]\n",
      "Loaded model weights from the checkpoint at ./lightning_logs/q73fuutg/checkpoints/epoch=99-step=7900-v20.ckpt\n"
     ]
    },
    {
     "name": "stdout",
     "output_type": "stream",
     "text": [
      "Testing DataLoader 0: 100%|██████████| 79/79 [00:05<00:00, 14.95it/s] "
     ]
    },
    {
     "name": "stderr",
     "output_type": "stream",
     "text": [
      "[I 2024-06-23 06:47:18,623] Trial 20 finished with value: 0.5999 and parameters: {'l_0_0': 0.0029526182820403964, 'l_0_1': 0.008076337765603108, 'l_0_2': 0.046355450553815555, 'l_0_3': 3.901505557597081e-05, 'l_1_0': 0.0006916758249340815, 'l_1_1': 0.001107963698330708, 'l_1_2': 0.004311168633733017, 'l_1_3': 0.04748551053890874, 'l_2_0': 0.006694107000317433, 'l_2_1': 8.385253550543106e-05, 'l_2_2': 0.9779521843712538, 'l_2_3': 3.242700142178035e-05, 'l_3_0': 1.2358049431994835e-05, 'l_3_1': 0.0007535373693847579, 'l_3_2': 0.013252113922113659, 'l_3_3': 0.3099828637874347}. Best is trial 14 with value: 0.6057.\n",
      "GPU available: True (cuda), used: True\n",
      "TPU available: False, using: 0 TPU cores\n",
      "IPU available: False, using: 0 IPUs\n",
      "HPU available: False, using: 0 HPUs\n",
      "/home/ganddalf/anaconda3/envs/dl/lib/python3.12/site-packages/lightning/pytorch/loggers/wandb.py:391: There is a wandb run already in progress and newly created instances of `WandbLogger` will reuse this run. If this is not desired, call `wandb.finish()` before instantiating `WandbLogger`.\n",
      "/home/ganddalf/anaconda3/envs/dl/lib/python3.12/site-packages/lightning/pytorch/callbacks/model_checkpoint.py:653: Checkpoint directory ./lightning_logs/q73fuutg/checkpoints exists and is not empty.\n",
      "LOCAL_RANK: 0 - CUDA_VISIBLE_DEVICES: [0]\n",
      "\n",
      "  | Name    | Type             | Params\n",
      "---------------------------------------------\n",
      "0 | student | Cifar_Very_Tiny  | 15.1 K\n",
      "1 | teacher | Cifar_Tiny       | 58.0 K\n",
      "2 | loss    | CrossEntropyLoss | 0     \n",
      "---------------------------------------------\n",
      "15.1 K    Trainable params\n",
      "58.0 K    Non-trainable params\n",
      "73.0 K    Total params\n",
      "0.292     Total estimated model params size (MB)\n"
     ]
    },
    {
     "name": "stdout",
     "output_type": "stream",
     "text": [
      "\n",
      "────────────────────────────────────────────────────────────────────────────────────────────────────────────────────────\n",
      "       Test metric             DataLoader 0\n",
      "────────────────────────────────────────────────────────────────────────────────────────────────────────────────────────\n",
      "        AUC_FGSM            0.2288578897714615\n",
      "        AUC_Noise           0.4342128336429596\n",
      "        test_acc            0.5999000072479248\n",
      "────────────────────────────────────────────────────────────────────────────────────────────────────────────────────────\n",
      "Epoch 99: 100%|██████████| 79/79 [00:02<00:00, 28.52it/s, v_num=uutg]"
     ]
    },
    {
     "name": "stderr",
     "output_type": "stream",
     "text": [
      "`Trainer.fit` stopped: `max_epochs=100` reached.\n"
     ]
    },
    {
     "name": "stdout",
     "output_type": "stream",
     "text": [
      "Epoch 99: 100%|██████████| 79/79 [00:02<00:00, 28.40it/s, v_num=uutg]\n"
     ]
    },
    {
     "name": "stderr",
     "output_type": "stream",
     "text": [
      "/home/ganddalf/anaconda3/envs/dl/lib/python3.12/site-packages/lightning/pytorch/trainer/connectors/checkpoint_connector.py:145: `.test(ckpt_path=None)` was called without a model. The best model of the previous `fit` call will be used. You can pass `.test(ckpt_path='best')` to use the best model or `.test(ckpt_path='last')` to use the last model. If you pass a value, this warning will be silenced.\n",
      "Restoring states from the checkpoint path at ./lightning_logs/q73fuutg/checkpoints/epoch=99-step=7900-v21.ckpt\n",
      "LOCAL_RANK: 0 - CUDA_VISIBLE_DEVICES: [0]\n",
      "Loaded model weights from the checkpoint at ./lightning_logs/q73fuutg/checkpoints/epoch=99-step=7900-v21.ckpt\n"
     ]
    },
    {
     "name": "stdout",
     "output_type": "stream",
     "text": [
      "Testing DataLoader 0: 100%|██████████| 79/79 [00:04<00:00, 17.60it/s] "
     ]
    },
    {
     "name": "stderr",
     "output_type": "stream",
     "text": [
      "[I 2024-06-23 06:51:54,813] Trial 21 finished with value: 0.6014 and parameters: {'l_0_0': 0.0026211089493939454, 'l_0_1': 0.008718313634481369, 'l_0_2': 0.04525644169627351, 'l_0_3': 2.991468041925312e-05, 'l_1_0': 0.0005388957008521042, 'l_1_1': 0.0007794937101623607, 'l_1_2': 0.0036379333877752254, 'l_1_3': 0.042494764430354194, 'l_2_0': 0.9903267500953927, 'l_2_1': 6.02853840533228e-05, 'l_2_2': 0.9212142595058479, 'l_2_3': 1.3037306480834955e-05, 'l_3_0': 1.0088744411238236e-05, 'l_3_1': 0.0011221905373669445, 'l_3_2': 0.012362318764248925, 'l_3_3': 0.20258598073441036}. Best is trial 14 with value: 0.6057.\n",
      "GPU available: True (cuda), used: True\n",
      "TPU available: False, using: 0 TPU cores\n",
      "IPU available: False, using: 0 IPUs\n",
      "HPU available: False, using: 0 HPUs\n",
      "/home/ganddalf/anaconda3/envs/dl/lib/python3.12/site-packages/lightning/pytorch/loggers/wandb.py:391: There is a wandb run already in progress and newly created instances of `WandbLogger` will reuse this run. If this is not desired, call `wandb.finish()` before instantiating `WandbLogger`.\n",
      "/home/ganddalf/anaconda3/envs/dl/lib/python3.12/site-packages/lightning/pytorch/callbacks/model_checkpoint.py:653: Checkpoint directory ./lightning_logs/q73fuutg/checkpoints exists and is not empty.\n",
      "LOCAL_RANK: 0 - CUDA_VISIBLE_DEVICES: [0]\n",
      "\n",
      "  | Name    | Type             | Params\n",
      "---------------------------------------------\n",
      "0 | student | Cifar_Very_Tiny  | 15.1 K\n",
      "1 | teacher | Cifar_Tiny       | 58.0 K\n",
      "2 | loss    | CrossEntropyLoss | 0     \n",
      "---------------------------------------------\n",
      "15.1 K    Trainable params\n",
      "58.0 K    Non-trainable params\n",
      "73.0 K    Total params\n",
      "0.292     Total estimated model params size (MB)\n"
     ]
    },
    {
     "name": "stdout",
     "output_type": "stream",
     "text": [
      "\n",
      "────────────────────────────────────────────────────────────────────────────────────────────────────────────────────────\n",
      "       Test metric             DataLoader 0\n",
      "────────────────────────────────────────────────────────────────────────────────────────────────────────────────────────\n",
      "        AUC_FGSM            0.22217895090579987\n",
      "        AUC_Noise           0.4206564128398895\n",
      "        test_acc            0.6014000177383423\n",
      "────────────────────────────────────────────────────────────────────────────────────────────────────────────────────────\n",
      "Epoch 99: 100%|██████████| 79/79 [00:02<00:00, 28.40it/s, v_num=uutg]"
     ]
    },
    {
     "name": "stderr",
     "output_type": "stream",
     "text": [
      "`Trainer.fit` stopped: `max_epochs=100` reached.\n"
     ]
    },
    {
     "name": "stdout",
     "output_type": "stream",
     "text": [
      "Epoch 99: 100%|██████████| 79/79 [00:02<00:00, 28.27it/s, v_num=uutg]\n"
     ]
    },
    {
     "name": "stderr",
     "output_type": "stream",
     "text": [
      "/home/ganddalf/anaconda3/envs/dl/lib/python3.12/site-packages/lightning/pytorch/trainer/connectors/checkpoint_connector.py:145: `.test(ckpt_path=None)` was called without a model. The best model of the previous `fit` call will be used. You can pass `.test(ckpt_path='best')` to use the best model or `.test(ckpt_path='last')` to use the last model. If you pass a value, this warning will be silenced.\n",
      "Restoring states from the checkpoint path at ./lightning_logs/q73fuutg/checkpoints/epoch=99-step=7900-v22.ckpt\n",
      "LOCAL_RANK: 0 - CUDA_VISIBLE_DEVICES: [0]\n",
      "Loaded model weights from the checkpoint at ./lightning_logs/q73fuutg/checkpoints/epoch=99-step=7900-v22.ckpt\n"
     ]
    },
    {
     "name": "stdout",
     "output_type": "stream",
     "text": [
      "Testing DataLoader 0: 100%|██████████| 79/79 [00:05<00:00, 14.67it/s] "
     ]
    },
    {
     "name": "stderr",
     "output_type": "stream",
     "text": [
      "[I 2024-06-23 06:56:36,242] Trial 22 finished with value: 0.1 and parameters: {'l_0_0': 0.01670915356520058, 'l_0_1': 0.007115458828459584, 'l_0_2': 0.05996897985332075, 'l_0_3': 4.756758178158884e-05, 'l_1_0': 0.0009700802713319336, 'l_1_1': 0.0007359768645374403, 'l_1_2': 0.0035066606003521035, 'l_1_3': 0.07665504637839837, 'l_2_0': 0.8825109613078566, 'l_2_1': 4.708735754082012e-05, 'l_2_2': 0.2785964069050053, 'l_2_3': 1.1920704138294565e-05, 'l_3_0': 1.1164749806369942e-05, 'l_3_1': 0.0015250499561489438, 'l_3_2': 0.003139150100499462, 'l_3_3': 0.9540494872170275}. Best is trial 14 with value: 0.6057.\n",
      "GPU available: True (cuda), used: True\n",
      "TPU available: False, using: 0 TPU cores\n",
      "IPU available: False, using: 0 IPUs\n",
      "HPU available: False, using: 0 HPUs\n",
      "/home/ganddalf/anaconda3/envs/dl/lib/python3.12/site-packages/lightning/pytorch/loggers/wandb.py:391: There is a wandb run already in progress and newly created instances of `WandbLogger` will reuse this run. If this is not desired, call `wandb.finish()` before instantiating `WandbLogger`.\n",
      "/home/ganddalf/anaconda3/envs/dl/lib/python3.12/site-packages/lightning/pytorch/callbacks/model_checkpoint.py:653: Checkpoint directory ./lightning_logs/q73fuutg/checkpoints exists and is not empty.\n",
      "LOCAL_RANK: 0 - CUDA_VISIBLE_DEVICES: [0]\n",
      "\n",
      "  | Name    | Type             | Params\n",
      "---------------------------------------------\n",
      "0 | student | Cifar_Very_Tiny  | 15.1 K\n",
      "1 | teacher | Cifar_Tiny       | 58.0 K\n",
      "2 | loss    | CrossEntropyLoss | 0     \n",
      "---------------------------------------------\n",
      "15.1 K    Trainable params\n",
      "58.0 K    Non-trainable params\n",
      "73.0 K    Total params\n",
      "0.292     Total estimated model params size (MB)\n"
     ]
    },
    {
     "name": "stdout",
     "output_type": "stream",
     "text": [
      "\n",
      "────────────────────────────────────────────────────────────────────────────────────────────────────────────────────────\n",
      "       Test metric             DataLoader 0\n",
      "────────────────────────────────────────────────────────────────────────────────────────────────────────────────────────\n",
      "        AUC_FGSM            0.10000000149011612\n",
      "        AUC_Noise           0.10000000149011612\n",
      "        test_acc            0.10000000149011612\n",
      "────────────────────────────────────────────────────────────────────────────────────────────────────────────────────────\n",
      "Epoch 99: 100%|██████████| 79/79 [00:02<00:00, 27.30it/s, v_num=uutg]"
     ]
    },
    {
     "name": "stderr",
     "output_type": "stream",
     "text": [
      "`Trainer.fit` stopped: `max_epochs=100` reached.\n"
     ]
    },
    {
     "name": "stdout",
     "output_type": "stream",
     "text": [
      "Epoch 99: 100%|██████████| 79/79 [00:02<00:00, 27.18it/s, v_num=uutg]\n"
     ]
    },
    {
     "name": "stderr",
     "output_type": "stream",
     "text": [
      "/home/ganddalf/anaconda3/envs/dl/lib/python3.12/site-packages/lightning/pytorch/trainer/connectors/checkpoint_connector.py:145: `.test(ckpt_path=None)` was called without a model. The best model of the previous `fit` call will be used. You can pass `.test(ckpt_path='best')` to use the best model or `.test(ckpt_path='last')` to use the last model. If you pass a value, this warning will be silenced.\n",
      "Restoring states from the checkpoint path at ./lightning_logs/q73fuutg/checkpoints/epoch=99-step=7900-v23.ckpt\n",
      "LOCAL_RANK: 0 - CUDA_VISIBLE_DEVICES: [0]\n",
      "Loaded model weights from the checkpoint at ./lightning_logs/q73fuutg/checkpoints/epoch=99-step=7900-v23.ckpt\n"
     ]
    },
    {
     "name": "stdout",
     "output_type": "stream",
     "text": [
      "Testing DataLoader 0: 100%|██████████| 79/79 [00:04<00:00, 16.06it/s] "
     ]
    },
    {
     "name": "stderr",
     "output_type": "stream",
     "text": [
      "[I 2024-06-23 07:01:11,807] Trial 23 finished with value: 0.607 and parameters: {'l_0_0': 0.0019195658915981528, 'l_0_1': 0.0505382702686135, 'l_0_2': 0.007872165511449696, 'l_0_3': 0.0005352012444860377, 'l_1_0': 0.004151322856440761, 'l_1_1': 0.00025145230185802907, 'l_1_2': 0.030503811442848573, 'l_1_3': 0.29104015510190234, 'l_2_0': 0.3658879308568909, 'l_2_1': 0.0001052449154948322, 'l_2_2': 0.9600158696299107, 'l_2_3': 2.993201386449594e-05, 'l_3_0': 1.0709852763628607e-05, 'l_3_1': 0.008764318153299635, 'l_3_2': 0.01577891050339381, 'l_3_3': 0.13346439930958295}. Best is trial 23 with value: 0.607.\n",
      "GPU available: True (cuda), used: True\n",
      "TPU available: False, using: 0 TPU cores\n",
      "IPU available: False, using: 0 IPUs\n",
      "HPU available: False, using: 0 HPUs\n",
      "/home/ganddalf/anaconda3/envs/dl/lib/python3.12/site-packages/lightning/pytorch/loggers/wandb.py:391: There is a wandb run already in progress and newly created instances of `WandbLogger` will reuse this run. If this is not desired, call `wandb.finish()` before instantiating `WandbLogger`.\n",
      "/home/ganddalf/anaconda3/envs/dl/lib/python3.12/site-packages/lightning/pytorch/callbacks/model_checkpoint.py:653: Checkpoint directory ./lightning_logs/q73fuutg/checkpoints exists and is not empty.\n",
      "LOCAL_RANK: 0 - CUDA_VISIBLE_DEVICES: [0]\n",
      "\n",
      "  | Name    | Type             | Params\n",
      "---------------------------------------------\n",
      "0 | student | Cifar_Very_Tiny  | 15.1 K\n",
      "1 | teacher | Cifar_Tiny       | 58.0 K\n",
      "2 | loss    | CrossEntropyLoss | 0     \n",
      "---------------------------------------------\n",
      "15.1 K    Trainable params\n",
      "58.0 K    Non-trainable params\n",
      "73.0 K    Total params\n",
      "0.292     Total estimated model params size (MB)\n"
     ]
    },
    {
     "name": "stdout",
     "output_type": "stream",
     "text": [
      "\n",
      "────────────────────────────────────────────────────────────────────────────────────────────────────────────────────────\n",
      "       Test metric             DataLoader 0\n",
      "────────────────────────────────────────────────────────────────────────────────────────────────────────────────────────\n",
      "        AUC_FGSM            0.22881051898002625\n",
      "        AUC_Noise           0.40959101915359497\n",
      "        test_acc            0.6069999933242798\n",
      "────────────────────────────────────────────────────────────────────────────────────────────────────────────────────────\n",
      "Epoch 99: 100%|██████████| 79/79 [00:02<00:00, 27.43it/s, v_num=uutg]"
     ]
    },
    {
     "name": "stderr",
     "output_type": "stream",
     "text": [
      "`Trainer.fit` stopped: `max_epochs=100` reached.\n"
     ]
    },
    {
     "name": "stdout",
     "output_type": "stream",
     "text": [
      "Epoch 99: 100%|██████████| 79/79 [00:02<00:00, 27.30it/s, v_num=uutg]\n"
     ]
    },
    {
     "name": "stderr",
     "output_type": "stream",
     "text": [
      "/home/ganddalf/anaconda3/envs/dl/lib/python3.12/site-packages/lightning/pytorch/trainer/connectors/checkpoint_connector.py:145: `.test(ckpt_path=None)` was called without a model. The best model of the previous `fit` call will be used. You can pass `.test(ckpt_path='best')` to use the best model or `.test(ckpt_path='last')` to use the last model. If you pass a value, this warning will be silenced.\n",
      "Restoring states from the checkpoint path at ./lightning_logs/q73fuutg/checkpoints/epoch=99-step=7900-v24.ckpt\n",
      "LOCAL_RANK: 0 - CUDA_VISIBLE_DEVICES: [0]\n",
      "Loaded model weights from the checkpoint at ./lightning_logs/q73fuutg/checkpoints/epoch=99-step=7900-v24.ckpt\n"
     ]
    },
    {
     "name": "stdout",
     "output_type": "stream",
     "text": [
      "Testing DataLoader 0: 100%|██████████| 79/79 [00:04<00:00, 18.79it/s] "
     ]
    },
    {
     "name": "stderr",
     "output_type": "stream",
     "text": [
      "[I 2024-06-23 07:05:49,733] Trial 24 finished with value: 0.1 and parameters: {'l_0_0': 0.00030587120076674095, 'l_0_1': 0.060318620293199246, 'l_0_2': 0.009290921140962789, 'l_0_3': 0.0008609804375634843, 'l_1_0': 0.005876286308287182, 'l_1_1': 0.00013439418997824952, 'l_1_2': 0.026847356521856828, 'l_1_3': 0.27773645525089563, 'l_2_0': 0.36749528835860473, 'l_2_1': 2.8799124436132906e-05, 'l_2_2': 0.0663775998799133, 'l_2_3': 3.773934147444424e-05, 'l_3_0': 5.249683373650076e-05, 'l_3_1': 0.00996209330474365, 'l_3_2': 0.002821744802673486, 'l_3_3': 0.09000306965413146}. Best is trial 23 with value: 0.607.\n",
      "GPU available: True (cuda), used: True\n",
      "TPU available: False, using: 0 TPU cores\n",
      "IPU available: False, using: 0 IPUs\n",
      "HPU available: False, using: 0 HPUs\n",
      "/home/ganddalf/anaconda3/envs/dl/lib/python3.12/site-packages/lightning/pytorch/loggers/wandb.py:391: There is a wandb run already in progress and newly created instances of `WandbLogger` will reuse this run. If this is not desired, call `wandb.finish()` before instantiating `WandbLogger`.\n",
      "/home/ganddalf/anaconda3/envs/dl/lib/python3.12/site-packages/lightning/pytorch/callbacks/model_checkpoint.py:653: Checkpoint directory ./lightning_logs/q73fuutg/checkpoints exists and is not empty.\n",
      "LOCAL_RANK: 0 - CUDA_VISIBLE_DEVICES: [0]\n",
      "\n",
      "  | Name    | Type             | Params\n",
      "---------------------------------------------\n",
      "0 | student | Cifar_Very_Tiny  | 15.1 K\n",
      "1 | teacher | Cifar_Tiny       | 58.0 K\n",
      "2 | loss    | CrossEntropyLoss | 0     \n",
      "---------------------------------------------\n",
      "15.1 K    Trainable params\n",
      "58.0 K    Non-trainable params\n",
      "73.0 K    Total params\n",
      "0.292     Total estimated model params size (MB)\n"
     ]
    },
    {
     "name": "stdout",
     "output_type": "stream",
     "text": [
      "\n",
      "────────────────────────────────────────────────────────────────────────────────────────────────────────────────────────\n",
      "       Test metric             DataLoader 0\n",
      "────────────────────────────────────────────────────────────────────────────────────────────────────────────────────────\n",
      "        AUC_FGSM            0.10000000149011612\n",
      "        AUC_Noise           0.10000000149011612\n",
      "        test_acc            0.10000000149011612\n",
      "────────────────────────────────────────────────────────────────────────────────────────────────────────────────────────\n",
      "Epoch 99: 100%|██████████| 79/79 [00:02<00:00, 26.58it/s, v_num=uutg]"
     ]
    },
    {
     "name": "stderr",
     "output_type": "stream",
     "text": [
      "`Trainer.fit` stopped: `max_epochs=100` reached.\n"
     ]
    },
    {
     "name": "stdout",
     "output_type": "stream",
     "text": [
      "Epoch 99: 100%|██████████| 79/79 [00:02<00:00, 26.47it/s, v_num=uutg]\n"
     ]
    },
    {
     "name": "stderr",
     "output_type": "stream",
     "text": [
      "/home/ganddalf/anaconda3/envs/dl/lib/python3.12/site-packages/lightning/pytorch/trainer/connectors/checkpoint_connector.py:145: `.test(ckpt_path=None)` was called without a model. The best model of the previous `fit` call will be used. You can pass `.test(ckpt_path='best')` to use the best model or `.test(ckpt_path='last')` to use the last model. If you pass a value, this warning will be silenced.\n",
      "Restoring states from the checkpoint path at ./lightning_logs/q73fuutg/checkpoints/epoch=99-step=7900-v25.ckpt\n",
      "LOCAL_RANK: 0 - CUDA_VISIBLE_DEVICES: [0]\n",
      "Loaded model weights from the checkpoint at ./lightning_logs/q73fuutg/checkpoints/epoch=99-step=7900-v25.ckpt\n"
     ]
    },
    {
     "name": "stdout",
     "output_type": "stream",
     "text": [
      "Testing DataLoader 0: 100%|██████████| 79/79 [00:04<00:00, 17.52it/s] "
     ]
    },
    {
     "name": "stderr",
     "output_type": "stream",
     "text": [
      "[I 2024-06-23 07:10:28,354] Trial 25 finished with value: 0.5891 and parameters: {'l_0_0': 0.0018496283574662815, 'l_0_1': 0.21461755290577614, 'l_0_2': 0.0030933231507943677, 'l_0_3': 0.00035538666128854645, 'l_1_0': 0.011203146706284813, 'l_1_1': 5.0923262196878026e-05, 'l_1_2': 0.04448351304167418, 'l_1_3': 0.9838476189742041, 'l_2_0': 0.07490052085105539, 'l_2_1': 0.00014231937288205883, 'l_2_2': 0.22037707499005174, 'l_2_3': 0.0004882076605502978, 'l_3_0': 8.512516392845993e-05, 'l_3_1': 0.06943743061591873, 'l_3_2': 0.16531099978727393, 'l_3_3': 0.02614978825704718}. Best is trial 23 with value: 0.607.\n",
      "GPU available: True (cuda), used: True\n",
      "TPU available: False, using: 0 TPU cores\n",
      "IPU available: False, using: 0 IPUs\n",
      "HPU available: False, using: 0 HPUs\n",
      "/home/ganddalf/anaconda3/envs/dl/lib/python3.12/site-packages/lightning/pytorch/loggers/wandb.py:391: There is a wandb run already in progress and newly created instances of `WandbLogger` will reuse this run. If this is not desired, call `wandb.finish()` before instantiating `WandbLogger`.\n",
      "/home/ganddalf/anaconda3/envs/dl/lib/python3.12/site-packages/lightning/pytorch/callbacks/model_checkpoint.py:653: Checkpoint directory ./lightning_logs/q73fuutg/checkpoints exists and is not empty.\n",
      "LOCAL_RANK: 0 - CUDA_VISIBLE_DEVICES: [0]\n",
      "\n",
      "  | Name    | Type             | Params\n",
      "---------------------------------------------\n",
      "0 | student | Cifar_Very_Tiny  | 15.1 K\n",
      "1 | teacher | Cifar_Tiny       | 58.0 K\n",
      "2 | loss    | CrossEntropyLoss | 0     \n",
      "---------------------------------------------\n",
      "15.1 K    Trainable params\n",
      "58.0 K    Non-trainable params\n",
      "73.0 K    Total params\n",
      "0.292     Total estimated model params size (MB)\n"
     ]
    },
    {
     "name": "stdout",
     "output_type": "stream",
     "text": [
      "\n",
      "────────────────────────────────────────────────────────────────────────────────────────────────────────────────────────\n",
      "       Test metric             DataLoader 0\n",
      "────────────────────────────────────────────────────────────────────────────────────────────────────────────────────────\n",
      "        AUC_FGSM            0.17707368731498718\n",
      "        AUC_Noise           0.4243718087673187\n",
      "        test_acc            0.5891000032424927\n",
      "────────────────────────────────────────────────────────────────────────────────────────────────────────────────────────\n",
      "Epoch 99: 100%|██████████| 79/79 [00:02<00:00, 27.48it/s, v_num=uutg]"
     ]
    },
    {
     "name": "stderr",
     "output_type": "stream",
     "text": [
      "`Trainer.fit` stopped: `max_epochs=100` reached.\n"
     ]
    },
    {
     "name": "stdout",
     "output_type": "stream",
     "text": [
      "Epoch 99: 100%|██████████| 79/79 [00:02<00:00, 27.35it/s, v_num=uutg]\n"
     ]
    },
    {
     "name": "stderr",
     "output_type": "stream",
     "text": [
      "/home/ganddalf/anaconda3/envs/dl/lib/python3.12/site-packages/lightning/pytorch/trainer/connectors/checkpoint_connector.py:145: `.test(ckpt_path=None)` was called without a model. The best model of the previous `fit` call will be used. You can pass `.test(ckpt_path='best')` to use the best model or `.test(ckpt_path='last')` to use the last model. If you pass a value, this warning will be silenced.\n",
      "Restoring states from the checkpoint path at ./lightning_logs/q73fuutg/checkpoints/epoch=99-step=7900-v26.ckpt\n",
      "LOCAL_RANK: 0 - CUDA_VISIBLE_DEVICES: [0]\n",
      "Loaded model weights from the checkpoint at ./lightning_logs/q73fuutg/checkpoints/epoch=99-step=7900-v26.ckpt\n"
     ]
    },
    {
     "name": "stdout",
     "output_type": "stream",
     "text": [
      "Testing DataLoader 0: 100%|██████████| 79/79 [00:04<00:00, 18.40it/s] "
     ]
    },
    {
     "name": "stderr",
     "output_type": "stream",
     "text": [
      "[I 2024-06-23 07:15:05,373] Trial 26 finished with value: 0.1 and parameters: {'l_0_0': 0.9568088914507156, 'l_0_1': 0.029996050020337808, 'l_0_2': 0.013226847808357974, 'l_0_3': 0.00283801235617337, 'l_1_0': 0.0022277811676471733, 'l_1_1': 0.00019066155355743764, 'l_1_2': 0.32883846913264864, 'l_1_3': 0.28722906789306657, 'l_2_0': 0.4467011098326721, 'l_2_1': 1.0292881804977535e-05, 'l_2_2': 0.0193092284884978, 'l_2_3': 1.215021392451459e-05, 'l_3_0': 2.2735636625852284e-05, 'l_3_1': 0.003244957250280185, 'l_3_2': 0.01932442602247935, 'l_3_3': 0.012894704953640803}. Best is trial 23 with value: 0.607.\n",
      "GPU available: True (cuda), used: True\n",
      "TPU available: False, using: 0 TPU cores\n",
      "IPU available: False, using: 0 IPUs\n",
      "HPU available: False, using: 0 HPUs\n",
      "/home/ganddalf/anaconda3/envs/dl/lib/python3.12/site-packages/lightning/pytorch/loggers/wandb.py:391: There is a wandb run already in progress and newly created instances of `WandbLogger` will reuse this run. If this is not desired, call `wandb.finish()` before instantiating `WandbLogger`.\n",
      "/home/ganddalf/anaconda3/envs/dl/lib/python3.12/site-packages/lightning/pytorch/callbacks/model_checkpoint.py:653: Checkpoint directory ./lightning_logs/q73fuutg/checkpoints exists and is not empty.\n",
      "LOCAL_RANK: 0 - CUDA_VISIBLE_DEVICES: [0]\n",
      "\n",
      "  | Name    | Type             | Params\n",
      "---------------------------------------------\n",
      "0 | student | Cifar_Very_Tiny  | 15.1 K\n",
      "1 | teacher | Cifar_Tiny       | 58.0 K\n",
      "2 | loss    | CrossEntropyLoss | 0     \n",
      "---------------------------------------------\n",
      "15.1 K    Trainable params\n",
      "58.0 K    Non-trainable params\n",
      "73.0 K    Total params\n",
      "0.292     Total estimated model params size (MB)\n"
     ]
    },
    {
     "name": "stdout",
     "output_type": "stream",
     "text": [
      "\n",
      "────────────────────────────────────────────────────────────────────────────────────────────────────────────────────────\n",
      "       Test metric             DataLoader 0\n",
      "────────────────────────────────────────────────────────────────────────────────────────────────────────────────────────\n",
      "        AUC_FGSM            0.10000000149011612\n",
      "        AUC_Noise           0.10000000149011612\n",
      "        test_acc            0.10000000149011612\n",
      "────────────────────────────────────────────────────────────────────────────────────────────────────────────────────────\n",
      "Epoch 99: 100%|██████████| 79/79 [00:02<00:00, 28.71it/s, v_num=uutg]"
     ]
    },
    {
     "name": "stderr",
     "output_type": "stream",
     "text": [
      "`Trainer.fit` stopped: `max_epochs=100` reached.\n"
     ]
    },
    {
     "name": "stdout",
     "output_type": "stream",
     "text": [
      "Epoch 99: 100%|██████████| 79/79 [00:02<00:00, 28.61it/s, v_num=uutg]\n"
     ]
    },
    {
     "name": "stderr",
     "output_type": "stream",
     "text": [
      "/home/ganddalf/anaconda3/envs/dl/lib/python3.12/site-packages/lightning/pytorch/trainer/connectors/checkpoint_connector.py:145: `.test(ckpt_path=None)` was called without a model. The best model of the previous `fit` call will be used. You can pass `.test(ckpt_path='best')` to use the best model or `.test(ckpt_path='last')` to use the last model. If you pass a value, this warning will be silenced.\n",
      "Restoring states from the checkpoint path at ./lightning_logs/q73fuutg/checkpoints/epoch=99-step=7900-v27.ckpt\n",
      "LOCAL_RANK: 0 - CUDA_VISIBLE_DEVICES: [0]\n",
      "Loaded model weights from the checkpoint at ./lightning_logs/q73fuutg/checkpoints/epoch=99-step=7900-v27.ckpt\n"
     ]
    },
    {
     "name": "stdout",
     "output_type": "stream",
     "text": [
      "Testing DataLoader 0: 100%|██████████| 79/79 [00:04<00:00, 16.38it/s] "
     ]
    },
    {
     "name": "stderr",
     "output_type": "stream",
     "text": [
      "[I 2024-06-23 07:19:42,999] Trial 27 finished with value: 0.6081 and parameters: {'l_0_0': 0.00040501686288688376, 'l_0_1': 0.45807103163981594, 'l_0_2': 0.0010417312723902225, 'l_0_3': 0.00014517350306209175, 'l_1_0': 0.0005169100288421218, 'l_1_1': 0.00209432949442759, 'l_1_2': 0.008973457340313663, 'l_1_3': 0.04053744525676593, 'l_2_0': 0.11201396934916082, 'l_2_1': 0.0004691021338650415, 'l_2_2': 0.35703761951861657, 'l_2_3': 6.07148843258184e-05, 'l_3_0': 0.000161580905043875, 'l_3_1': 0.011243434905970318, 'l_3_2': 0.006199292964464328, 'l_3_3': 0.48303916567583227}. Best is trial 27 with value: 0.6081.\n",
      "GPU available: True (cuda), used: True\n",
      "TPU available: False, using: 0 TPU cores\n",
      "IPU available: False, using: 0 IPUs\n",
      "HPU available: False, using: 0 HPUs\n",
      "/home/ganddalf/anaconda3/envs/dl/lib/python3.12/site-packages/lightning/pytorch/loggers/wandb.py:391: There is a wandb run already in progress and newly created instances of `WandbLogger` will reuse this run. If this is not desired, call `wandb.finish()` before instantiating `WandbLogger`.\n",
      "/home/ganddalf/anaconda3/envs/dl/lib/python3.12/site-packages/lightning/pytorch/callbacks/model_checkpoint.py:653: Checkpoint directory ./lightning_logs/q73fuutg/checkpoints exists and is not empty.\n",
      "LOCAL_RANK: 0 - CUDA_VISIBLE_DEVICES: [0]\n",
      "\n",
      "  | Name    | Type             | Params\n",
      "---------------------------------------------\n",
      "0 | student | Cifar_Very_Tiny  | 15.1 K\n",
      "1 | teacher | Cifar_Tiny       | 58.0 K\n",
      "2 | loss    | CrossEntropyLoss | 0     \n",
      "---------------------------------------------\n",
      "15.1 K    Trainable params\n",
      "58.0 K    Non-trainable params\n",
      "73.0 K    Total params\n",
      "0.292     Total estimated model params size (MB)\n"
     ]
    },
    {
     "name": "stdout",
     "output_type": "stream",
     "text": [
      "\n",
      "────────────────────────────────────────────────────────────────────────────────────────────────────────────────────────\n",
      "       Test metric             DataLoader 0\n",
      "────────────────────────────────────────────────────────────────────────────────────────────────────────────────────────\n",
      "        AUC_FGSM            0.21362105011940002\n",
      "        AUC_Noise            0.455946147441864\n",
      "        test_acc            0.6080999970436096\n",
      "────────────────────────────────────────────────────────────────────────────────────────────────────────────────────────\n",
      "Epoch 99: 100%|██████████| 79/79 [00:02<00:00, 27.83it/s, v_num=uutg]"
     ]
    },
    {
     "name": "stderr",
     "output_type": "stream",
     "text": [
      "`Trainer.fit` stopped: `max_epochs=100` reached.\n"
     ]
    },
    {
     "name": "stdout",
     "output_type": "stream",
     "text": [
      "Epoch 99: 100%|██████████| 79/79 [00:02<00:00, 27.71it/s, v_num=uutg]\n"
     ]
    },
    {
     "name": "stderr",
     "output_type": "stream",
     "text": [
      "/home/ganddalf/anaconda3/envs/dl/lib/python3.12/site-packages/lightning/pytorch/trainer/connectors/checkpoint_connector.py:145: `.test(ckpt_path=None)` was called without a model. The best model of the previous `fit` call will be used. You can pass `.test(ckpt_path='best')` to use the best model or `.test(ckpt_path='last')` to use the last model. If you pass a value, this warning will be silenced.\n",
      "Restoring states from the checkpoint path at ./lightning_logs/q73fuutg/checkpoints/epoch=99-step=7900-v28.ckpt\n",
      "LOCAL_RANK: 0 - CUDA_VISIBLE_DEVICES: [0]\n",
      "Loaded model weights from the checkpoint at ./lightning_logs/q73fuutg/checkpoints/epoch=99-step=7900-v28.ckpt\n"
     ]
    },
    {
     "name": "stdout",
     "output_type": "stream",
     "text": [
      "Testing DataLoader 0: 100%|██████████| 79/79 [00:04<00:00, 19.28it/s] "
     ]
    },
    {
     "name": "stderr",
     "output_type": "stream",
     "text": [
      "[I 2024-06-23 07:24:18,053] Trial 28 finished with value: 0.6028 and parameters: {'l_0_0': 0.00031507003188966753, 'l_0_1': 0.7861413776236181, 'l_0_2': 0.000847081060320895, 'l_0_3': 0.0023055163566750867, 'l_1_0': 2.9996224438223278e-05, 'l_1_1': 0.0014166542614324994, 'l_1_2': 0.008216833975914767, 'l_1_3': 0.019653153102088986, 'l_2_0': 0.06472844797543136, 'l_2_1': 0.0004086167628763889, 'l_2_2': 0.04081363544601812, 'l_2_3': 5.567699358592596e-05, 'l_3_0': 0.00014212020085828755, 'l_3_1': 0.016104084115887103, 'l_3_2': 0.004871491817476565, 'l_3_3': 0.555495942341928}. Best is trial 27 with value: 0.6081.\n",
      "GPU available: True (cuda), used: True\n",
      "TPU available: False, using: 0 TPU cores\n",
      "IPU available: False, using: 0 IPUs\n",
      "HPU available: False, using: 0 HPUs\n",
      "/home/ganddalf/anaconda3/envs/dl/lib/python3.12/site-packages/lightning/pytorch/loggers/wandb.py:391: There is a wandb run already in progress and newly created instances of `WandbLogger` will reuse this run. If this is not desired, call `wandb.finish()` before instantiating `WandbLogger`.\n",
      "/home/ganddalf/anaconda3/envs/dl/lib/python3.12/site-packages/lightning/pytorch/callbacks/model_checkpoint.py:653: Checkpoint directory ./lightning_logs/q73fuutg/checkpoints exists and is not empty.\n",
      "LOCAL_RANK: 0 - CUDA_VISIBLE_DEVICES: [0]\n",
      "\n",
      "  | Name    | Type             | Params\n",
      "---------------------------------------------\n",
      "0 | student | Cifar_Very_Tiny  | 15.1 K\n",
      "1 | teacher | Cifar_Tiny       | 58.0 K\n",
      "2 | loss    | CrossEntropyLoss | 0     \n",
      "---------------------------------------------\n",
      "15.1 K    Trainable params\n",
      "58.0 K    Non-trainable params\n",
      "73.0 K    Total params\n",
      "0.292     Total estimated model params size (MB)\n"
     ]
    },
    {
     "name": "stdout",
     "output_type": "stream",
     "text": [
      "\n",
      "────────────────────────────────────────────────────────────────────────────────────────────────────────────────────────\n",
      "       Test metric             DataLoader 0\n",
      "────────────────────────────────────────────────────────────────────────────────────────────────────────────────────────\n",
      "        AUC_FGSM            0.18638157844543457\n",
      "        AUC_Noise           0.44282180070877075\n",
      "        test_acc            0.6028000116348267\n",
      "────────────────────────────────────────────────────────────────────────────────────────────────────────────────────────\n",
      "Epoch 99: 100%|██████████| 79/79 [00:02<00:00, 27.65it/s, v_num=uutg]"
     ]
    },
    {
     "name": "stderr",
     "output_type": "stream",
     "text": [
      "`Trainer.fit` stopped: `max_epochs=100` reached.\n"
     ]
    },
    {
     "name": "stdout",
     "output_type": "stream",
     "text": [
      "Epoch 99: 100%|██████████| 79/79 [00:02<00:00, 27.53it/s, v_num=uutg]\n"
     ]
    },
    {
     "name": "stderr",
     "output_type": "stream",
     "text": [
      "/home/ganddalf/anaconda3/envs/dl/lib/python3.12/site-packages/lightning/pytorch/trainer/connectors/checkpoint_connector.py:145: `.test(ckpt_path=None)` was called without a model. The best model of the previous `fit` call will be used. You can pass `.test(ckpt_path='best')` to use the best model or `.test(ckpt_path='last')` to use the last model. If you pass a value, this warning will be silenced.\n",
      "Restoring states from the checkpoint path at ./lightning_logs/q73fuutg/checkpoints/epoch=99-step=7900-v29.ckpt\n",
      "LOCAL_RANK: 0 - CUDA_VISIBLE_DEVICES: [0]\n",
      "Loaded model weights from the checkpoint at ./lightning_logs/q73fuutg/checkpoints/epoch=99-step=7900-v29.ckpt\n"
     ]
    },
    {
     "name": "stdout",
     "output_type": "stream",
     "text": [
      "Testing DataLoader 0: 100%|██████████| 79/79 [00:04<00:00, 19.32it/s] "
     ]
    },
    {
     "name": "stderr",
     "output_type": "stream",
     "text": [
      "[I 2024-06-23 07:28:50,731] Trial 29 finished with value: 0.5939 and parameters: {'l_0_0': 3.212552869790618e-05, 'l_0_1': 0.2640576168606941, 'l_0_2': 0.00015378462826881676, 'l_0_3': 0.023381880186462017, 'l_1_0': 0.008813225296673383, 'l_1_1': 0.00023862525284965464, 'l_1_2': 0.0013828404237911734, 'l_1_3': 0.12430868923435637, 'l_2_0': 0.21608900720767227, 'l_2_1': 0.0037454666362395635, 'l_2_2': 0.33715197506771705, 'l_2_3': 3.232110280437277e-05, 'l_3_0': 0.0006236605380538882, 'l_3_1': 0.3714822768577322, 'l_3_2': 0.0017047214063560386, 'l_3_3': 0.10080354857945736}. Best is trial 27 with value: 0.6081.\n",
      "GPU available: True (cuda), used: True\n",
      "TPU available: False, using: 0 TPU cores\n",
      "IPU available: False, using: 0 IPUs\n",
      "HPU available: False, using: 0 HPUs\n",
      "/home/ganddalf/anaconda3/envs/dl/lib/python3.12/site-packages/lightning/pytorch/loggers/wandb.py:391: There is a wandb run already in progress and newly created instances of `WandbLogger` will reuse this run. If this is not desired, call `wandb.finish()` before instantiating `WandbLogger`.\n",
      "/home/ganddalf/anaconda3/envs/dl/lib/python3.12/site-packages/lightning/pytorch/callbacks/model_checkpoint.py:653: Checkpoint directory ./lightning_logs/q73fuutg/checkpoints exists and is not empty.\n",
      "LOCAL_RANK: 0 - CUDA_VISIBLE_DEVICES: [0]\n",
      "\n",
      "  | Name    | Type             | Params\n",
      "---------------------------------------------\n",
      "0 | student | Cifar_Very_Tiny  | 15.1 K\n",
      "1 | teacher | Cifar_Tiny       | 58.0 K\n",
      "2 | loss    | CrossEntropyLoss | 0     \n",
      "---------------------------------------------\n",
      "15.1 K    Trainable params\n",
      "58.0 K    Non-trainable params\n",
      "73.0 K    Total params\n",
      "0.292     Total estimated model params size (MB)\n"
     ]
    },
    {
     "name": "stdout",
     "output_type": "stream",
     "text": [
      "\n",
      "────────────────────────────────────────────────────────────────────────────────────────────────────────────────────────\n",
      "       Test metric             DataLoader 0\n",
      "────────────────────────────────────────────────────────────────────────────────────────────────────────────────────────\n",
      "        AUC_FGSM            0.2394184172153473\n",
      "        AUC_Noise           0.4409846067428589\n",
      "        test_acc            0.5939000248908997\n",
      "────────────────────────────────────────────────────────────────────────────────────────────────────────────────────────\n",
      "Epoch 99: 100%|██████████| 79/79 [00:02<00:00, 27.01it/s, v_num=uutg]"
     ]
    },
    {
     "name": "stderr",
     "output_type": "stream",
     "text": [
      "`Trainer.fit` stopped: `max_epochs=100` reached.\n"
     ]
    },
    {
     "name": "stdout",
     "output_type": "stream",
     "text": [
      "Epoch 99: 100%|██████████| 79/79 [00:02<00:00, 26.89it/s, v_num=uutg]\n"
     ]
    },
    {
     "name": "stderr",
     "output_type": "stream",
     "text": [
      "/home/ganddalf/anaconda3/envs/dl/lib/python3.12/site-packages/lightning/pytorch/trainer/connectors/checkpoint_connector.py:145: `.test(ckpt_path=None)` was called without a model. The best model of the previous `fit` call will be used. You can pass `.test(ckpt_path='best')` to use the best model or `.test(ckpt_path='last')` to use the last model. If you pass a value, this warning will be silenced.\n",
      "Restoring states from the checkpoint path at ./lightning_logs/q73fuutg/checkpoints/epoch=99-step=7900-v30.ckpt\n",
      "LOCAL_RANK: 0 - CUDA_VISIBLE_DEVICES: [0]\n",
      "Loaded model weights from the checkpoint at ./lightning_logs/q73fuutg/checkpoints/epoch=99-step=7900-v30.ckpt\n"
     ]
    },
    {
     "name": "stdout",
     "output_type": "stream",
     "text": [
      "Testing DataLoader 0: 100%|██████████| 79/79 [00:04<00:00, 17.09it/s] "
     ]
    },
    {
     "name": "stderr",
     "output_type": "stream",
     "text": [
      "[I 2024-06-23 07:33:26,682] Trial 30 finished with value: 0.464 and parameters: {'l_0_0': 0.00011552147913299811, 'l_0_1': 0.03988057899873673, 'l_0_2': 1.297664893138127e-05, 'l_0_3': 0.0004083586029713674, 'l_1_0': 0.0020743805871056243, 'l_1_1': 0.001965194002643589, 'l_1_2': 0.0364171260332515, 'l_1_3': 0.4167277164572853, 'l_2_0': 0.1368163491523102, 'l_2_1': 2.955275473185641e-05, 'l_2_2': 0.010406521745021182, 'l_2_3': 7.23720269220614e-05, 'l_3_0': 0.3932059649543628, 'l_3_1': 0.046005729571653095, 'l_3_2': 0.10280016221835858, 'l_3_3': 1.9661094381632687e-05}. Best is trial 27 with value: 0.6081.\n",
      "GPU available: True (cuda), used: True\n",
      "TPU available: False, using: 0 TPU cores\n",
      "IPU available: False, using: 0 IPUs\n",
      "HPU available: False, using: 0 HPUs\n",
      "/home/ganddalf/anaconda3/envs/dl/lib/python3.12/site-packages/lightning/pytorch/loggers/wandb.py:391: There is a wandb run already in progress and newly created instances of `WandbLogger` will reuse this run. If this is not desired, call `wandb.finish()` before instantiating `WandbLogger`.\n",
      "/home/ganddalf/anaconda3/envs/dl/lib/python3.12/site-packages/lightning/pytorch/callbacks/model_checkpoint.py:653: Checkpoint directory ./lightning_logs/q73fuutg/checkpoints exists and is not empty.\n",
      "LOCAL_RANK: 0 - CUDA_VISIBLE_DEVICES: [0]\n",
      "\n",
      "  | Name    | Type             | Params\n",
      "---------------------------------------------\n",
      "0 | student | Cifar_Very_Tiny  | 15.1 K\n",
      "1 | teacher | Cifar_Tiny       | 58.0 K\n",
      "2 | loss    | CrossEntropyLoss | 0     \n",
      "---------------------------------------------\n",
      "15.1 K    Trainable params\n",
      "58.0 K    Non-trainable params\n",
      "73.0 K    Total params\n",
      "0.292     Total estimated model params size (MB)\n"
     ]
    },
    {
     "name": "stdout",
     "output_type": "stream",
     "text": [
      "\n",
      "────────────────────────────────────────────────────────────────────────────────────────────────────────────────────────\n",
      "       Test metric             DataLoader 0\n",
      "────────────────────────────────────────────────────────────────────────────────────────────────────────────────────────\n",
      "        AUC_FGSM            0.2553131580352783\n",
      "        AUC_Noise           0.36907562613487244\n",
      "        test_acc            0.46399998664855957\n",
      "────────────────────────────────────────────────────────────────────────────────────────────────────────────────────────\n",
      "Epoch 99: 100%|██████████| 79/79 [00:02<00:00, 27.74it/s, v_num=uutg]"
     ]
    },
    {
     "name": "stderr",
     "output_type": "stream",
     "text": [
      "`Trainer.fit` stopped: `max_epochs=100` reached.\n"
     ]
    },
    {
     "name": "stdout",
     "output_type": "stream",
     "text": [
      "Epoch 99: 100%|██████████| 79/79 [00:02<00:00, 27.62it/s, v_num=uutg]\n"
     ]
    },
    {
     "name": "stderr",
     "output_type": "stream",
     "text": [
      "/home/ganddalf/anaconda3/envs/dl/lib/python3.12/site-packages/lightning/pytorch/trainer/connectors/checkpoint_connector.py:145: `.test(ckpt_path=None)` was called without a model. The best model of the previous `fit` call will be used. You can pass `.test(ckpt_path='best')` to use the best model or `.test(ckpt_path='last')` to use the last model. If you pass a value, this warning will be silenced.\n",
      "Restoring states from the checkpoint path at ./lightning_logs/q73fuutg/checkpoints/epoch=99-step=7900-v31.ckpt\n",
      "LOCAL_RANK: 0 - CUDA_VISIBLE_DEVICES: [0]\n",
      "Loaded model weights from the checkpoint at ./lightning_logs/q73fuutg/checkpoints/epoch=99-step=7900-v31.ckpt\n"
     ]
    },
    {
     "name": "stdout",
     "output_type": "stream",
     "text": [
      "Testing DataLoader 0: 100%|██████████| 79/79 [00:04<00:00, 19.45it/s] "
     ]
    },
    {
     "name": "stderr",
     "output_type": "stream",
     "text": [
      "[I 2024-06-23 07:38:01,969] Trial 31 finished with value: 0.5857 and parameters: {'l_0_0': 0.00031078642238322406, 'l_0_1': 0.7429808130689114, 'l_0_2': 0.0005025118256855342, 'l_0_3': 0.0026343803874570373, 'l_1_0': 2.2804081459184478e-05, 'l_1_1': 0.0022894841408736405, 'l_1_2': 0.008178430669660038, 'l_1_3': 0.01936425369989781, 'l_2_0': 0.05928550691838676, 'l_2_1': 0.0003715139186039812, 'l_2_2': 0.04815933423581258, 'l_2_3': 5.476491794119355e-05, 'l_3_0': 0.00013680707024447538, 'l_3_1': 0.9713823427194659, 'l_3_2': 0.005758769064048892, 'l_3_3': 0.5043704349079268}. Best is trial 27 with value: 0.6081.\n",
      "GPU available: True (cuda), used: True\n",
      "TPU available: False, using: 0 TPU cores\n",
      "IPU available: False, using: 0 IPUs\n",
      "HPU available: False, using: 0 HPUs\n",
      "/home/ganddalf/anaconda3/envs/dl/lib/python3.12/site-packages/lightning/pytorch/loggers/wandb.py:391: There is a wandb run already in progress and newly created instances of `WandbLogger` will reuse this run. If this is not desired, call `wandb.finish()` before instantiating `WandbLogger`.\n",
      "/home/ganddalf/anaconda3/envs/dl/lib/python3.12/site-packages/lightning/pytorch/callbacks/model_checkpoint.py:653: Checkpoint directory ./lightning_logs/q73fuutg/checkpoints exists and is not empty.\n",
      "LOCAL_RANK: 0 - CUDA_VISIBLE_DEVICES: [0]\n",
      "\n",
      "  | Name    | Type             | Params\n",
      "---------------------------------------------\n",
      "0 | student | Cifar_Very_Tiny  | 15.1 K\n",
      "1 | teacher | Cifar_Tiny       | 58.0 K\n",
      "2 | loss    | CrossEntropyLoss | 0     \n",
      "---------------------------------------------\n",
      "15.1 K    Trainable params\n",
      "58.0 K    Non-trainable params\n",
      "73.0 K    Total params\n",
      "0.292     Total estimated model params size (MB)\n"
     ]
    },
    {
     "name": "stdout",
     "output_type": "stream",
     "text": [
      "\n",
      "────────────────────────────────────────────────────────────────────────────────────────────────────────────────────────\n",
      "       Test metric             DataLoader 0\n",
      "────────────────────────────────────────────────────────────────────────────────────────────────────────────────────────\n",
      "        AUC_FGSM            0.2271631509065628\n",
      "        AUC_Noise           0.43722307682037354\n",
      "        test_acc            0.5856999754905701\n",
      "────────────────────────────────────────────────────────────────────────────────────────────────────────────────────────\n",
      "Epoch 99: 100%|██████████| 79/79 [00:02<00:00, 27.23it/s, v_num=uutg]"
     ]
    },
    {
     "name": "stderr",
     "output_type": "stream",
     "text": [
      "`Trainer.fit` stopped: `max_epochs=100` reached.\n"
     ]
    },
    {
     "name": "stdout",
     "output_type": "stream",
     "text": [
      "Epoch 99: 100%|██████████| 79/79 [00:02<00:00, 27.12it/s, v_num=uutg]\n"
     ]
    },
    {
     "name": "stderr",
     "output_type": "stream",
     "text": [
      "/home/ganddalf/anaconda3/envs/dl/lib/python3.12/site-packages/lightning/pytorch/trainer/connectors/checkpoint_connector.py:145: `.test(ckpt_path=None)` was called without a model. The best model of the previous `fit` call will be used. You can pass `.test(ckpt_path='best')` to use the best model or `.test(ckpt_path='last')` to use the last model. If you pass a value, this warning will be silenced.\n",
      "Restoring states from the checkpoint path at ./lightning_logs/q73fuutg/checkpoints/epoch=99-step=7900-v32.ckpt\n",
      "LOCAL_RANK: 0 - CUDA_VISIBLE_DEVICES: [0]\n",
      "Loaded model weights from the checkpoint at ./lightning_logs/q73fuutg/checkpoints/epoch=99-step=7900-v32.ckpt\n"
     ]
    },
    {
     "name": "stdout",
     "output_type": "stream",
     "text": [
      "Testing DataLoader 0: 100%|██████████| 79/79 [00:04<00:00, 19.15it/s] "
     ]
    },
    {
     "name": "stderr",
     "output_type": "stream",
     "text": [
      "[I 2024-06-23 07:42:33,315] Trial 32 finished with value: 0.5954 and parameters: {'l_0_0': 0.00054041063833813, 'l_0_1': 0.9711867732893926, 'l_0_2': 0.0012058729824043464, 'l_0_3': 0.0014759008799682769, 'l_1_0': 0.00019939022511749772, 'l_1_1': 0.00724399098443645, 'l_1_2': 0.009469556683596985, 'l_1_3': 0.029029058446105354, 'l_2_0': 0.33250438988284103, 'l_2_1': 0.0006275291106033645, 'l_2_2': 0.12782720850724008, 'l_2_3': 2.086018094932685e-05, 'l_3_0': 0.0001057008931825563, 'l_3_1': 0.016158433753478838, 'l_3_2': 0.00022963684703161856, 'l_3_3': 0.5294164638459355}. Best is trial 27 with value: 0.6081.\n",
      "GPU available: True (cuda), used: True\n",
      "TPU available: False, using: 0 TPU cores\n",
      "IPU available: False, using: 0 IPUs\n",
      "HPU available: False, using: 0 HPUs\n",
      "/home/ganddalf/anaconda3/envs/dl/lib/python3.12/site-packages/lightning/pytorch/loggers/wandb.py:391: There is a wandb run already in progress and newly created instances of `WandbLogger` will reuse this run. If this is not desired, call `wandb.finish()` before instantiating `WandbLogger`.\n",
      "/home/ganddalf/anaconda3/envs/dl/lib/python3.12/site-packages/lightning/pytorch/callbacks/model_checkpoint.py:653: Checkpoint directory ./lightning_logs/q73fuutg/checkpoints exists and is not empty.\n",
      "LOCAL_RANK: 0 - CUDA_VISIBLE_DEVICES: [0]\n",
      "\n",
      "  | Name    | Type             | Params\n",
      "---------------------------------------------\n",
      "0 | student | Cifar_Very_Tiny  | 15.1 K\n",
      "1 | teacher | Cifar_Tiny       | 58.0 K\n",
      "2 | loss    | CrossEntropyLoss | 0     \n",
      "---------------------------------------------\n",
      "15.1 K    Trainable params\n",
      "58.0 K    Non-trainable params\n",
      "73.0 K    Total params\n",
      "0.292     Total estimated model params size (MB)\n"
     ]
    },
    {
     "name": "stdout",
     "output_type": "stream",
     "text": [
      "\n",
      "────────────────────────────────────────────────────────────────────────────────────────────────────────────────────────\n",
      "       Test metric             DataLoader 0\n",
      "────────────────────────────────────────────────────────────────────────────────────────────────────────────────────────\n",
      "        AUC_FGSM            0.18524736166000366\n",
      "        AUC_Noise           0.4382205009460449\n",
      "        test_acc            0.5953999757766724\n",
      "────────────────────────────────────────────────────────────────────────────────────────────────────────────────────────\n",
      "Epoch 99: 100%|██████████| 79/79 [00:02<00:00, 28.21it/s, v_num=uutg]"
     ]
    },
    {
     "name": "stderr",
     "output_type": "stream",
     "text": [
      "`Trainer.fit` stopped: `max_epochs=100` reached.\n"
     ]
    },
    {
     "name": "stdout",
     "output_type": "stream",
     "text": [
      "Epoch 99: 100%|██████████| 79/79 [00:02<00:00, 28.08it/s, v_num=uutg]\n"
     ]
    },
    {
     "name": "stderr",
     "output_type": "stream",
     "text": [
      "/home/ganddalf/anaconda3/envs/dl/lib/python3.12/site-packages/lightning/pytorch/trainer/connectors/checkpoint_connector.py:145: `.test(ckpt_path=None)` was called without a model. The best model of the previous `fit` call will be used. You can pass `.test(ckpt_path='best')` to use the best model or `.test(ckpt_path='last')` to use the last model. If you pass a value, this warning will be silenced.\n",
      "Restoring states from the checkpoint path at ./lightning_logs/q73fuutg/checkpoints/epoch=99-step=7900-v33.ckpt\n",
      "LOCAL_RANK: 0 - CUDA_VISIBLE_DEVICES: [0]\n",
      "Loaded model weights from the checkpoint at ./lightning_logs/q73fuutg/checkpoints/epoch=99-step=7900-v33.ckpt\n"
     ]
    },
    {
     "name": "stdout",
     "output_type": "stream",
     "text": [
      "Testing DataLoader 0: 100%|██████████| 79/79 [00:04<00:00, 19.35it/s] "
     ]
    },
    {
     "name": "stderr",
     "output_type": "stream",
     "text": [
      "[I 2024-06-23 07:47:11,447] Trial 33 finished with value: 0.5989 and parameters: {'l_0_0': 0.0014246002059492093, 'l_0_1': 0.24300971099371527, 'l_0_2': 0.0002892581060153588, 'l_0_3': 0.00012023064278613982, 'l_1_0': 4.9844124452467015e-05, 'l_1_1': 0.0003222001894892722, 'l_1_2': 0.23684008620936442, 'l_1_3': 0.012333105869188225, 'l_2_0': 0.1690863155274622, 'l_2_1': 0.00014990223890155684, 'l_2_2': 0.5218355714117499, 'l_2_3': 0.00011505490612496654, 'l_3_0': 0.0006122674090351273, 'l_3_1': 0.007313015875248911, 'l_3_2': 0.005822264712340952, 'l_3_3': 0.15956974945411184}. Best is trial 27 with value: 0.6081.\n",
      "GPU available: True (cuda), used: True\n",
      "TPU available: False, using: 0 TPU cores\n",
      "IPU available: False, using: 0 IPUs\n",
      "HPU available: False, using: 0 HPUs\n",
      "/home/ganddalf/anaconda3/envs/dl/lib/python3.12/site-packages/lightning/pytorch/loggers/wandb.py:391: There is a wandb run already in progress and newly created instances of `WandbLogger` will reuse this run. If this is not desired, call `wandb.finish()` before instantiating `WandbLogger`.\n",
      "/home/ganddalf/anaconda3/envs/dl/lib/python3.12/site-packages/lightning/pytorch/callbacks/model_checkpoint.py:653: Checkpoint directory ./lightning_logs/q73fuutg/checkpoints exists and is not empty.\n",
      "LOCAL_RANK: 0 - CUDA_VISIBLE_DEVICES: [0]\n",
      "\n",
      "  | Name    | Type             | Params\n",
      "---------------------------------------------\n",
      "0 | student | Cifar_Very_Tiny  | 15.1 K\n",
      "1 | teacher | Cifar_Tiny       | 58.0 K\n",
      "2 | loss    | CrossEntropyLoss | 0     \n",
      "---------------------------------------------\n",
      "15.1 K    Trainable params\n",
      "58.0 K    Non-trainable params\n",
      "73.0 K    Total params\n",
      "0.292     Total estimated model params size (MB)\n"
     ]
    },
    {
     "name": "stdout",
     "output_type": "stream",
     "text": [
      "\n",
      "────────────────────────────────────────────────────────────────────────────────────────────────────────────────────────\n",
      "       Test metric             DataLoader 0\n",
      "────────────────────────────────────────────────────────────────────────────────────────────────────────────────────────\n",
      "        AUC_FGSM            0.21568158268928528\n",
      "        AUC_Noise           0.43683332204818726\n",
      "        test_acc            0.5989000201225281\n",
      "────────────────────────────────────────────────────────────────────────────────────────────────────────────────────────\n",
      "Epoch 99: 100%|██████████| 79/79 [00:02<00:00, 28.28it/s, v_num=uutg]"
     ]
    },
    {
     "name": "stderr",
     "output_type": "stream",
     "text": [
      "`Trainer.fit` stopped: `max_epochs=100` reached.\n"
     ]
    },
    {
     "name": "stdout",
     "output_type": "stream",
     "text": [
      "Epoch 99: 100%|██████████| 79/79 [00:02<00:00, 28.15it/s, v_num=uutg]\n"
     ]
    },
    {
     "name": "stderr",
     "output_type": "stream",
     "text": [
      "/home/ganddalf/anaconda3/envs/dl/lib/python3.12/site-packages/lightning/pytorch/trainer/connectors/checkpoint_connector.py:145: `.test(ckpt_path=None)` was called without a model. The best model of the previous `fit` call will be used. You can pass `.test(ckpt_path='best')` to use the best model or `.test(ckpt_path='last')` to use the last model. If you pass a value, this warning will be silenced.\n",
      "Restoring states from the checkpoint path at ./lightning_logs/q73fuutg/checkpoints/epoch=99-step=7900-v34.ckpt\n",
      "LOCAL_RANK: 0 - CUDA_VISIBLE_DEVICES: [0]\n",
      "Loaded model weights from the checkpoint at ./lightning_logs/q73fuutg/checkpoints/epoch=99-step=7900-v34.ckpt\n"
     ]
    },
    {
     "name": "stdout",
     "output_type": "stream",
     "text": [
      "Testing DataLoader 0: 100%|██████████| 79/79 [00:04<00:00, 19.16it/s] "
     ]
    },
    {
     "name": "stderr",
     "output_type": "stream",
     "text": [
      "[I 2024-06-23 07:51:47,237] Trial 34 finished with value: 0.5923 and parameters: {'l_0_0': 0.007908557873718773, 'l_0_1': 0.3980352558311019, 'l_0_2': 0.0015791201886958717, 'l_0_3': 0.00043581086752030143, 'l_1_0': 1.7376661618398774e-05, 'l_1_1': 9.298673661977134e-05, 'l_1_2': 0.05170201654712759, 'l_1_3': 0.1221468127296176, 'l_2_0': 0.048063183321464205, 'l_2_1': 0.00011909801779708735, 'l_2_2': 0.002305818309345148, 'l_2_3': 0.0003768604133138724, 'l_3_0': 0.004487397313372839, 'l_3_1': 0.025034869247385932, 'l_3_2': 0.03605488210833472, 'l_3_3': 0.5502701557885453}. Best is trial 27 with value: 0.6081.\n",
      "GPU available: True (cuda), used: True\n",
      "TPU available: False, using: 0 TPU cores\n",
      "IPU available: False, using: 0 IPUs\n",
      "HPU available: False, using: 0 HPUs\n",
      "/home/ganddalf/anaconda3/envs/dl/lib/python3.12/site-packages/lightning/pytorch/loggers/wandb.py:391: There is a wandb run already in progress and newly created instances of `WandbLogger` will reuse this run. If this is not desired, call `wandb.finish()` before instantiating `WandbLogger`.\n",
      "/home/ganddalf/anaconda3/envs/dl/lib/python3.12/site-packages/lightning/pytorch/callbacks/model_checkpoint.py:653: Checkpoint directory ./lightning_logs/q73fuutg/checkpoints exists and is not empty.\n",
      "LOCAL_RANK: 0 - CUDA_VISIBLE_DEVICES: [0]\n",
      "\n",
      "  | Name    | Type             | Params\n",
      "---------------------------------------------\n",
      "0 | student | Cifar_Very_Tiny  | 15.1 K\n",
      "1 | teacher | Cifar_Tiny       | 58.0 K\n",
      "2 | loss    | CrossEntropyLoss | 0     \n",
      "---------------------------------------------\n",
      "15.1 K    Trainable params\n",
      "58.0 K    Non-trainable params\n",
      "73.0 K    Total params\n",
      "0.292     Total estimated model params size (MB)\n"
     ]
    },
    {
     "name": "stdout",
     "output_type": "stream",
     "text": [
      "\n",
      "────────────────────────────────────────────────────────────────────────────────────────────────────────────────────────\n",
      "       Test metric             DataLoader 0\n",
      "────────────────────────────────────────────────────────────────────────────────────────────────────────────────────────\n",
      "        AUC_FGSM            0.18418946862220764\n",
      "        AUC_Noise           0.4616679549217224\n",
      "        test_acc            0.5922999978065491\n",
      "────────────────────────────────────────────────────────────────────────────────────────────────────────────────────────\n",
      "Epoch 99: 100%|██████████| 79/79 [00:02<00:00, 30.93it/s, v_num=uutg]"
     ]
    },
    {
     "name": "stderr",
     "output_type": "stream",
     "text": [
      "`Trainer.fit` stopped: `max_epochs=100` reached.\n"
     ]
    },
    {
     "name": "stdout",
     "output_type": "stream",
     "text": [
      "Epoch 99: 100%|██████████| 79/79 [00:02<00:00, 30.77it/s, v_num=uutg]\n"
     ]
    },
    {
     "name": "stderr",
     "output_type": "stream",
     "text": [
      "/home/ganddalf/anaconda3/envs/dl/lib/python3.12/site-packages/lightning/pytorch/trainer/connectors/checkpoint_connector.py:145: `.test(ckpt_path=None)` was called without a model. The best model of the previous `fit` call will be used. You can pass `.test(ckpt_path='best')` to use the best model or `.test(ckpt_path='last')` to use the last model. If you pass a value, this warning will be silenced.\n",
      "Restoring states from the checkpoint path at ./lightning_logs/q73fuutg/checkpoints/epoch=99-step=7900-v35.ckpt\n",
      "LOCAL_RANK: 0 - CUDA_VISIBLE_DEVICES: [0]\n",
      "Loaded model weights from the checkpoint at ./lightning_logs/q73fuutg/checkpoints/epoch=99-step=7900-v35.ckpt\n"
     ]
    },
    {
     "name": "stdout",
     "output_type": "stream",
     "text": [
      "Testing DataLoader 0: 100%|██████████| 79/79 [00:05<00:00, 15.52it/s] "
     ]
    },
    {
     "name": "stderr",
     "output_type": "stream",
     "text": [
      "[I 2024-06-23 07:56:24,136] Trial 35 finished with value: 0.5716 and parameters: {'l_0_0': 6.47512223864195e-05, 'l_0_1': 0.11837993282874619, 'l_0_2': 0.004194597221723073, 'l_0_3': 0.00020555502661925282, 'l_1_0': 0.00013501789241099384, 'l_1_1': 0.002085076275220605, 'l_1_2': 0.006593230635521254, 'l_1_3': 0.005542272453669144, 'l_2_0': 0.009246525794840936, 'l_2_1': 0.003660520710638641, 'l_2_2': 0.01111261234248664, 'l_2_3': 2.203282621284279e-05, 'l_3_0': 0.06098858477902571, 'l_3_1': 0.0034489682508530356, 'l_3_2': 0.0021082267647372223, 'l_3_3': 0.24562578583089545}. Best is trial 27 with value: 0.6081.\n",
      "GPU available: True (cuda), used: True\n",
      "TPU available: False, using: 0 TPU cores\n",
      "IPU available: False, using: 0 IPUs\n",
      "HPU available: False, using: 0 HPUs\n",
      "/home/ganddalf/anaconda3/envs/dl/lib/python3.12/site-packages/lightning/pytorch/loggers/wandb.py:391: There is a wandb run already in progress and newly created instances of `WandbLogger` will reuse this run. If this is not desired, call `wandb.finish()` before instantiating `WandbLogger`.\n",
      "/home/ganddalf/anaconda3/envs/dl/lib/python3.12/site-packages/lightning/pytorch/callbacks/model_checkpoint.py:653: Checkpoint directory ./lightning_logs/q73fuutg/checkpoints exists and is not empty.\n",
      "LOCAL_RANK: 0 - CUDA_VISIBLE_DEVICES: [0]\n",
      "\n",
      "  | Name    | Type             | Params\n",
      "---------------------------------------------\n",
      "0 | student | Cifar_Very_Tiny  | 15.1 K\n",
      "1 | teacher | Cifar_Tiny       | 58.0 K\n",
      "2 | loss    | CrossEntropyLoss | 0     \n",
      "---------------------------------------------\n",
      "15.1 K    Trainable params\n",
      "58.0 K    Non-trainable params\n",
      "73.0 K    Total params\n",
      "0.292     Total estimated model params size (MB)\n"
     ]
    },
    {
     "name": "stdout",
     "output_type": "stream",
     "text": [
      "\n",
      "────────────────────────────────────────────────────────────────────────────────────────────────────────────────────────\n",
      "       Test metric             DataLoader 0\n",
      "────────────────────────────────────────────────────────────────────────────────────────────────────────────────────────\n",
      "        AUC_FGSM            0.2248184233903885\n",
      "        AUC_Noise           0.44900384545326233\n",
      "        test_acc            0.5716000199317932\n",
      "────────────────────────────────────────────────────────────────────────────────────────────────────────────────────────\n",
      "Epoch 99: 100%|██████████| 79/79 [00:02<00:00, 27.84it/s, v_num=uutg]"
     ]
    },
    {
     "name": "stderr",
     "output_type": "stream",
     "text": [
      "`Trainer.fit` stopped: `max_epochs=100` reached.\n"
     ]
    },
    {
     "name": "stdout",
     "output_type": "stream",
     "text": [
      "Epoch 99: 100%|██████████| 79/79 [00:02<00:00, 27.72it/s, v_num=uutg]\n"
     ]
    },
    {
     "name": "stderr",
     "output_type": "stream",
     "text": [
      "/home/ganddalf/anaconda3/envs/dl/lib/python3.12/site-packages/lightning/pytorch/trainer/connectors/checkpoint_connector.py:145: `.test(ckpt_path=None)` was called without a model. The best model of the previous `fit` call will be used. You can pass `.test(ckpt_path='best')` to use the best model or `.test(ckpt_path='last')` to use the last model. If you pass a value, this warning will be silenced.\n",
      "Restoring states from the checkpoint path at ./lightning_logs/q73fuutg/checkpoints/epoch=99-step=7900-v36.ckpt\n",
      "LOCAL_RANK: 0 - CUDA_VISIBLE_DEVICES: [0]\n",
      "Loaded model weights from the checkpoint at ./lightning_logs/q73fuutg/checkpoints/epoch=99-step=7900-v36.ckpt\n"
     ]
    },
    {
     "name": "stdout",
     "output_type": "stream",
     "text": [
      "Testing DataLoader 0: 100%|██████████| 79/79 [00:04<00:00, 18.02it/s] "
     ]
    },
    {
     "name": "stderr",
     "output_type": "stream",
     "text": [
      "[I 2024-06-23 08:00:57,485] Trial 36 finished with value: 0.1 and parameters: {'l_0_0': 1.2091483611042036e-05, 'l_0_1': 0.05858951040435377, 'l_0_2': 0.0006046555858601052, 'l_0_3': 0.0019833107360510585, 'l_1_0': 0.0013090075742043842, 'l_1_1': 0.003914914350743519, 'l_1_2': 0.023435876433411107, 'l_1_3': 0.21251284840168794, 'l_2_0': 0.49141750639605575, 'l_2_1': 2.419641504936592e-05, 'l_2_2': 0.4469197098838264, 'l_2_3': 0.00013396602220984462, 'l_3_0': 2.5092431710624666e-05, 'l_3_1': 0.011515066006065998, 'l_3_2': 0.006819266879876582, 'l_3_3': 0.059137785744135085}. Best is trial 27 with value: 0.6081.\n",
      "GPU available: True (cuda), used: True\n",
      "TPU available: False, using: 0 TPU cores\n",
      "IPU available: False, using: 0 IPUs\n",
      "HPU available: False, using: 0 HPUs\n",
      "/home/ganddalf/anaconda3/envs/dl/lib/python3.12/site-packages/lightning/pytorch/loggers/wandb.py:391: There is a wandb run already in progress and newly created instances of `WandbLogger` will reuse this run. If this is not desired, call `wandb.finish()` before instantiating `WandbLogger`.\n",
      "/home/ganddalf/anaconda3/envs/dl/lib/python3.12/site-packages/lightning/pytorch/callbacks/model_checkpoint.py:653: Checkpoint directory ./lightning_logs/q73fuutg/checkpoints exists and is not empty.\n",
      "LOCAL_RANK: 0 - CUDA_VISIBLE_DEVICES: [0]\n",
      "\n",
      "  | Name    | Type             | Params\n",
      "---------------------------------------------\n",
      "0 | student | Cifar_Very_Tiny  | 15.1 K\n",
      "1 | teacher | Cifar_Tiny       | 58.0 K\n",
      "2 | loss    | CrossEntropyLoss | 0     \n",
      "---------------------------------------------\n",
      "15.1 K    Trainable params\n",
      "58.0 K    Non-trainable params\n",
      "73.0 K    Total params\n",
      "0.292     Total estimated model params size (MB)\n"
     ]
    },
    {
     "name": "stdout",
     "output_type": "stream",
     "text": [
      "\n",
      "────────────────────────────────────────────────────────────────────────────────────────────────────────────────────────\n",
      "       Test metric             DataLoader 0\n",
      "────────────────────────────────────────────────────────────────────────────────────────────────────────────────────────\n",
      "        AUC_FGSM            0.10000000149011612\n",
      "        AUC_Noise           0.10000000149011612\n",
      "        test_acc            0.10000000149011612\n",
      "────────────────────────────────────────────────────────────────────────────────────────────────────────────────────────\n",
      "Epoch 99: 100%|██████████| 79/79 [00:02<00:00, 27.44it/s, v_num=uutg]"
     ]
    },
    {
     "name": "stderr",
     "output_type": "stream",
     "text": [
      "`Trainer.fit` stopped: `max_epochs=100` reached.\n"
     ]
    },
    {
     "name": "stdout",
     "output_type": "stream",
     "text": [
      "Epoch 99: 100%|██████████| 79/79 [00:02<00:00, 27.31it/s, v_num=uutg]\n"
     ]
    },
    {
     "name": "stderr",
     "output_type": "stream",
     "text": [
      "/home/ganddalf/anaconda3/envs/dl/lib/python3.12/site-packages/lightning/pytorch/trainer/connectors/checkpoint_connector.py:145: `.test(ckpt_path=None)` was called without a model. The best model of the previous `fit` call will be used. You can pass `.test(ckpt_path='best')` to use the best model or `.test(ckpt_path='last')` to use the last model. If you pass a value, this warning will be silenced.\n",
      "Restoring states from the checkpoint path at ./lightning_logs/q73fuutg/checkpoints/epoch=99-step=7900-v37.ckpt\n",
      "LOCAL_RANK: 0 - CUDA_VISIBLE_DEVICES: [0]\n",
      "Loaded model weights from the checkpoint at ./lightning_logs/q73fuutg/checkpoints/epoch=99-step=7900-v37.ckpt\n"
     ]
    },
    {
     "name": "stdout",
     "output_type": "stream",
     "text": [
      "Testing DataLoader 0: 100%|██████████| 79/79 [00:04<00:00, 17.71it/s]  "
     ]
    },
    {
     "name": "stderr",
     "output_type": "stream",
     "text": [
      "[I 2024-06-23 08:05:34,558] Trial 37 finished with value: 0.5921 and parameters: {'l_0_0': 0.0007719504953189451, 'l_0_1': 0.4612495693139121, 'l_0_2': 0.00018355443853776833, 'l_0_3': 0.025193481173724438, 'l_1_0': 0.022817227718134613, 'l_1_1': 0.013845243577340734, 'l_1_2': 0.0016081270859151227, 'l_1_3': 0.07674667519116092, 'l_2_0': 0.11480917988640245, 'l_2_1': 0.0011182701028672054, 'l_2_2': 0.004222193567171281, 'l_2_3': 5.503004437732559e-05, 'l_3_0': 0.011943385005329477, 'l_3_1': 0.148263117993224, 'l_3_2': 0.0003603059093083652, 'l_3_3': 0.335522000042336}. Best is trial 27 with value: 0.6081.\n",
      "GPU available: True (cuda), used: True\n",
      "TPU available: False, using: 0 TPU cores\n",
      "IPU available: False, using: 0 IPUs\n",
      "HPU available: False, using: 0 HPUs\n",
      "/home/ganddalf/anaconda3/envs/dl/lib/python3.12/site-packages/lightning/pytorch/loggers/wandb.py:391: There is a wandb run already in progress and newly created instances of `WandbLogger` will reuse this run. If this is not desired, call `wandb.finish()` before instantiating `WandbLogger`.\n",
      "/home/ganddalf/anaconda3/envs/dl/lib/python3.12/site-packages/lightning/pytorch/callbacks/model_checkpoint.py:653: Checkpoint directory ./lightning_logs/q73fuutg/checkpoints exists and is not empty.\n",
      "LOCAL_RANK: 0 - CUDA_VISIBLE_DEVICES: [0]\n",
      "\n",
      "  | Name    | Type             | Params\n",
      "---------------------------------------------\n",
      "0 | student | Cifar_Very_Tiny  | 15.1 K\n",
      "1 | teacher | Cifar_Tiny       | 58.0 K\n",
      "2 | loss    | CrossEntropyLoss | 0     \n",
      "---------------------------------------------\n",
      "15.1 K    Trainable params\n",
      "58.0 K    Non-trainable params\n",
      "73.0 K    Total params\n",
      "0.292     Total estimated model params size (MB)\n"
     ]
    },
    {
     "name": "stdout",
     "output_type": "stream",
     "text": [
      "\n",
      "────────────────────────────────────────────────────────────────────────────────────────────────────────────────────────\n",
      "       Test metric             DataLoader 0\n",
      "────────────────────────────────────────────────────────────────────────────────────────────────────────────────────────\n",
      "        AUC_FGSM            0.20479737222194672\n",
      "        AUC_Noise           0.4487076997756958\n",
      "        test_acc            0.5921000242233276\n",
      "────────────────────────────────────────────────────────────────────────────────────────────────────────────────────────\n",
      "Epoch 99: 100%|██████████| 79/79 [00:02<00:00, 30.67it/s, v_num=uutg]"
     ]
    },
    {
     "name": "stderr",
     "output_type": "stream",
     "text": [
      "`Trainer.fit` stopped: `max_epochs=100` reached.\n"
     ]
    },
    {
     "name": "stdout",
     "output_type": "stream",
     "text": [
      "Epoch 99: 100%|██████████| 79/79 [00:02<00:00, 30.52it/s, v_num=uutg]\n"
     ]
    },
    {
     "name": "stderr",
     "output_type": "stream",
     "text": [
      "/home/ganddalf/anaconda3/envs/dl/lib/python3.12/site-packages/lightning/pytorch/trainer/connectors/checkpoint_connector.py:145: `.test(ckpt_path=None)` was called without a model. The best model of the previous `fit` call will be used. You can pass `.test(ckpt_path='best')` to use the best model or `.test(ckpt_path='last')` to use the last model. If you pass a value, this warning will be silenced.\n",
      "Restoring states from the checkpoint path at ./lightning_logs/q73fuutg/checkpoints/epoch=99-step=7900-v38.ckpt\n",
      "LOCAL_RANK: 0 - CUDA_VISIBLE_DEVICES: [0]\n",
      "Loaded model weights from the checkpoint at ./lightning_logs/q73fuutg/checkpoints/epoch=99-step=7900-v38.ckpt\n"
     ]
    },
    {
     "name": "stdout",
     "output_type": "stream",
     "text": [
      "Testing DataLoader 0: 100%|██████████| 79/79 [00:04<00:00, 17.78it/s] "
     ]
    },
    {
     "name": "stderr",
     "output_type": "stream",
     "text": [
      "[I 2024-06-23 08:10:14,312] Trial 38 finished with value: 0.5637 and parameters: {'l_0_0': 0.00017911465174447482, 'l_0_1': 0.0190695043341787, 'l_0_2': 3.845911031617159e-05, 'l_0_3': 0.0005674038206406181, 'l_1_0': 0.0004234098106241973, 'l_1_1': 0.00036680427937377084, 'l_1_2': 0.0005062000921041029, 'l_1_3': 0.564156492114403, 'l_2_0': 0.04408506822571344, 'l_2_1': 0.00047509027486113456, 'l_2_2': 0.03957653036732561, 'l_2_3': 2.03050145391021e-05, 'l_3_0': 0.0008665631347750643, 'l_3_1': 0.0362999099935583, 'l_3_2': 0.016582758692098243, 'l_3_3': 0.018840212110584478}. Best is trial 27 with value: 0.6081.\n",
      "GPU available: True (cuda), used: True\n",
      "TPU available: False, using: 0 TPU cores\n",
      "IPU available: False, using: 0 IPUs\n",
      "HPU available: False, using: 0 HPUs\n",
      "/home/ganddalf/anaconda3/envs/dl/lib/python3.12/site-packages/lightning/pytorch/loggers/wandb.py:391: There is a wandb run already in progress and newly created instances of `WandbLogger` will reuse this run. If this is not desired, call `wandb.finish()` before instantiating `WandbLogger`.\n",
      "/home/ganddalf/anaconda3/envs/dl/lib/python3.12/site-packages/lightning/pytorch/callbacks/model_checkpoint.py:653: Checkpoint directory ./lightning_logs/q73fuutg/checkpoints exists and is not empty.\n",
      "LOCAL_RANK: 0 - CUDA_VISIBLE_DEVICES: [0]\n",
      "\n",
      "  | Name    | Type             | Params\n",
      "---------------------------------------------\n",
      "0 | student | Cifar_Very_Tiny  | 15.1 K\n",
      "1 | teacher | Cifar_Tiny       | 58.0 K\n",
      "2 | loss    | CrossEntropyLoss | 0     \n",
      "---------------------------------------------\n",
      "15.1 K    Trainable params\n",
      "58.0 K    Non-trainable params\n",
      "73.0 K    Total params\n",
      "0.292     Total estimated model params size (MB)\n"
     ]
    },
    {
     "name": "stdout",
     "output_type": "stream",
     "text": [
      "\n",
      "────────────────────────────────────────────────────────────────────────────────────────────────────────────────────────\n",
      "       Test metric             DataLoader 0\n",
      "────────────────────────────────────────────────────────────────────────────────────────────────────────────────────────\n",
      "        AUC_FGSM            0.16367632150650024\n",
      "        AUC_Noise           0.41184744238853455\n",
      "        test_acc            0.5637000203132629\n",
      "────────────────────────────────────────────────────────────────────────────────────────────────────────────────────────\n",
      "Epoch 99: 100%|██████████| 79/79 [00:02<00:00, 30.25it/s, v_num=uutg]"
     ]
    },
    {
     "name": "stderr",
     "output_type": "stream",
     "text": [
      "`Trainer.fit` stopped: `max_epochs=100` reached.\n"
     ]
    },
    {
     "name": "stdout",
     "output_type": "stream",
     "text": [
      "Epoch 99: 100%|██████████| 79/79 [00:02<00:00, 30.10it/s, v_num=uutg]\n"
     ]
    },
    {
     "name": "stderr",
     "output_type": "stream",
     "text": [
      "/home/ganddalf/anaconda3/envs/dl/lib/python3.12/site-packages/lightning/pytorch/trainer/connectors/checkpoint_connector.py:145: `.test(ckpt_path=None)` was called without a model. The best model of the previous `fit` call will be used. You can pass `.test(ckpt_path='best')` to use the best model or `.test(ckpt_path='last')` to use the last model. If you pass a value, this warning will be silenced.\n",
      "Restoring states from the checkpoint path at ./lightning_logs/q73fuutg/checkpoints/epoch=99-step=7900-v39.ckpt\n",
      "LOCAL_RANK: 0 - CUDA_VISIBLE_DEVICES: [0]\n",
      "Loaded model weights from the checkpoint at ./lightning_logs/q73fuutg/checkpoints/epoch=99-step=7900-v39.ckpt\n"
     ]
    },
    {
     "name": "stdout",
     "output_type": "stream",
     "text": [
      "Testing DataLoader 0: 100%|██████████| 79/79 [00:05<00:00, 15.72it/s] "
     ]
    },
    {
     "name": "stderr",
     "output_type": "stream",
     "text": [
      "[I 2024-06-23 08:14:56,518] Trial 39 finished with value: 0.5606 and parameters: {'l_0_0': 0.000388409419277816, 'l_0_1': 0.0020022632190930677, 'l_0_2': 0.005425777732711961, 'l_0_3': 0.00011220254926384947, 'l_1_0': 4.9798171687855156e-05, 'l_1_1': 0.0014316065321559191, 'l_1_2': 0.00019553404937436032, 'l_1_3': 0.0018350467308278946, 'l_2_0': 0.2559160935497926, 'l_2_1': 0.33488965579758556, 'l_2_2': 0.08278905322842073, 'l_2_3': 0.04642110784128441, 'l_3_0': 3.608236079919751e-05, 'l_3_1': 0.002567204810061441, 'l_3_2': 0.0010454710800861231, 'l_3_3': 0.00011589086302809177}. Best is trial 27 with value: 0.6081.\n",
      "GPU available: True (cuda), used: True\n",
      "TPU available: False, using: 0 TPU cores\n",
      "IPU available: False, using: 0 IPUs\n",
      "HPU available: False, using: 0 HPUs\n",
      "/home/ganddalf/anaconda3/envs/dl/lib/python3.12/site-packages/lightning/pytorch/loggers/wandb.py:391: There is a wandb run already in progress and newly created instances of `WandbLogger` will reuse this run. If this is not desired, call `wandb.finish()` before instantiating `WandbLogger`.\n",
      "/home/ganddalf/anaconda3/envs/dl/lib/python3.12/site-packages/lightning/pytorch/callbacks/model_checkpoint.py:653: Checkpoint directory ./lightning_logs/q73fuutg/checkpoints exists and is not empty.\n",
      "LOCAL_RANK: 0 - CUDA_VISIBLE_DEVICES: [0]\n",
      "\n",
      "  | Name    | Type             | Params\n",
      "---------------------------------------------\n",
      "0 | student | Cifar_Very_Tiny  | 15.1 K\n",
      "1 | teacher | Cifar_Tiny       | 58.0 K\n",
      "2 | loss    | CrossEntropyLoss | 0     \n",
      "---------------------------------------------\n",
      "15.1 K    Trainable params\n",
      "58.0 K    Non-trainable params\n",
      "73.0 K    Total params\n",
      "0.292     Total estimated model params size (MB)\n"
     ]
    },
    {
     "name": "stdout",
     "output_type": "stream",
     "text": [
      "\n",
      "────────────────────────────────────────────────────────────────────────────────────────────────────────────────────────\n",
      "       Test metric             DataLoader 0\n",
      "────────────────────────────────────────────────────────────────────────────────────────────────────────────────────────\n",
      "        AUC_FGSM            0.17064736783504486\n",
      "        AUC_Noise           0.38316410779953003\n",
      "        test_acc            0.5605999827384949\n",
      "────────────────────────────────────────────────────────────────────────────────────────────────────────────────────────\n",
      "Epoch 99: 100%|██████████| 79/79 [00:02<00:00, 28.08it/s, v_num=uutg]"
     ]
    },
    {
     "name": "stderr",
     "output_type": "stream",
     "text": [
      "`Trainer.fit` stopped: `max_epochs=100` reached.\n"
     ]
    },
    {
     "name": "stdout",
     "output_type": "stream",
     "text": [
      "Epoch 99: 100%|██████████| 79/79 [00:02<00:00, 27.95it/s, v_num=uutg]\n"
     ]
    },
    {
     "name": "stderr",
     "output_type": "stream",
     "text": [
      "/home/ganddalf/anaconda3/envs/dl/lib/python3.12/site-packages/lightning/pytorch/trainer/connectors/checkpoint_connector.py:145: `.test(ckpt_path=None)` was called without a model. The best model of the previous `fit` call will be used. You can pass `.test(ckpt_path='best')` to use the best model or `.test(ckpt_path='last')` to use the last model. If you pass a value, this warning will be silenced.\n",
      "Restoring states from the checkpoint path at ./lightning_logs/q73fuutg/checkpoints/epoch=99-step=7900-v40.ckpt\n",
      "LOCAL_RANK: 0 - CUDA_VISIBLE_DEVICES: [0]\n",
      "Loaded model weights from the checkpoint at ./lightning_logs/q73fuutg/checkpoints/epoch=99-step=7900-v40.ckpt\n"
     ]
    },
    {
     "name": "stdout",
     "output_type": "stream",
     "text": [
      "Testing DataLoader 0: 100%|██████████| 79/79 [00:05<00:00, 15.44it/s] "
     ]
    },
    {
     "name": "stderr",
     "output_type": "stream",
     "text": [
      "[I 2024-06-23 08:19:35,863] Trial 40 finished with value: 0.6063 and parameters: {'l_0_0': 0.0012957108184685636, 'l_0_1': 0.21604333832026368, 'l_0_2': 0.25672030242833654, 'l_0_3': 0.014109071380832026, 'l_1_0': 0.0038421451333999616, 'l_1_1': 1.3949703962666571e-05, 'l_1_2': 0.38160774463667774, 'l_1_3': 0.015351766815714832, 'l_2_0': 0.008690092298543003, 'l_2_1': 0.000266998383572024, 'l_2_2': 0.19044158546079454, 'l_2_3': 0.0001847253156978156, 'l_3_0': 0.002831502918977422, 'l_3_1': 0.08006279607595525, 'l_3_2': 0.03738507091958116, 'l_3_3': 0.5548893406255159}. Best is trial 27 with value: 0.6081.\n",
      "GPU available: True (cuda), used: True\n",
      "TPU available: False, using: 0 TPU cores\n",
      "IPU available: False, using: 0 IPUs\n",
      "HPU available: False, using: 0 HPUs\n",
      "/home/ganddalf/anaconda3/envs/dl/lib/python3.12/site-packages/lightning/pytorch/loggers/wandb.py:391: There is a wandb run already in progress and newly created instances of `WandbLogger` will reuse this run. If this is not desired, call `wandb.finish()` before instantiating `WandbLogger`.\n",
      "/home/ganddalf/anaconda3/envs/dl/lib/python3.12/site-packages/lightning/pytorch/callbacks/model_checkpoint.py:653: Checkpoint directory ./lightning_logs/q73fuutg/checkpoints exists and is not empty.\n",
      "LOCAL_RANK: 0 - CUDA_VISIBLE_DEVICES: [0]\n",
      "\n",
      "  | Name    | Type             | Params\n",
      "---------------------------------------------\n",
      "0 | student | Cifar_Very_Tiny  | 15.1 K\n",
      "1 | teacher | Cifar_Tiny       | 58.0 K\n",
      "2 | loss    | CrossEntropyLoss | 0     \n",
      "---------------------------------------------\n",
      "15.1 K    Trainable params\n",
      "58.0 K    Non-trainable params\n",
      "73.0 K    Total params\n",
      "0.292     Total estimated model params size (MB)\n"
     ]
    },
    {
     "name": "stdout",
     "output_type": "stream",
     "text": [
      "\n",
      "────────────────────────────────────────────────────────────────────────────────────────────────────────────────────────\n",
      "       Test metric             DataLoader 0\n",
      "────────────────────────────────────────────────────────────────────────────────────────────────────────────────────────\n",
      "        AUC_FGSM            0.21124210953712463\n",
      "        AUC_Noise           0.4476897418498993\n",
      "        test_acc            0.6062999963760376\n",
      "────────────────────────────────────────────────────────────────────────────────────────────────────────────────────────\n",
      "Epoch 99: 100%|██████████| 79/79 [00:02<00:00, 27.99it/s, v_num=uutg]"
     ]
    },
    {
     "name": "stderr",
     "output_type": "stream",
     "text": [
      "`Trainer.fit` stopped: `max_epochs=100` reached.\n"
     ]
    },
    {
     "name": "stdout",
     "output_type": "stream",
     "text": [
      "Epoch 99: 100%|██████████| 79/79 [00:02<00:00, 27.90it/s, v_num=uutg]\n"
     ]
    },
    {
     "name": "stderr",
     "output_type": "stream",
     "text": [
      "/home/ganddalf/anaconda3/envs/dl/lib/python3.12/site-packages/lightning/pytorch/trainer/connectors/checkpoint_connector.py:145: `.test(ckpt_path=None)` was called without a model. The best model of the previous `fit` call will be used. You can pass `.test(ckpt_path='best')` to use the best model or `.test(ckpt_path='last')` to use the last model. If you pass a value, this warning will be silenced.\n",
      "Restoring states from the checkpoint path at ./lightning_logs/q73fuutg/checkpoints/epoch=99-step=7900-v41.ckpt\n",
      "LOCAL_RANK: 0 - CUDA_VISIBLE_DEVICES: [0]\n",
      "Loaded model weights from the checkpoint at ./lightning_logs/q73fuutg/checkpoints/epoch=99-step=7900-v41.ckpt\n"
     ]
    },
    {
     "name": "stdout",
     "output_type": "stream",
     "text": [
      "Testing DataLoader 0: 100%|██████████| 79/79 [00:04<00:00, 17.21it/s] "
     ]
    },
    {
     "name": "stderr",
     "output_type": "stream",
     "text": [
      "[I 2024-06-23 08:24:16,418] Trial 41 finished with value: 0.6059 and parameters: {'l_0_0': 0.001258215254713197, 'l_0_1': 0.15821321152712328, 'l_0_2': 0.3256469213347026, 'l_0_3': 0.013404647284053313, 'l_1_0': 0.003897102508630954, 'l_1_1': 1.563476532823876e-05, 'l_1_2': 0.4005615979101699, 'l_1_3': 0.015580247394581324, 'l_2_0': 0.007904205167935661, 'l_2_1': 0.00029603674643621276, 'l_2_2': 0.2013843292889867, 'l_2_3': 0.0002163830098207023, 'l_3_0': 0.010927268178343405, 'l_3_1': 0.06917618482160451, 'l_3_2': 0.04057334072108307, 'l_3_3': 0.5995872670210194}. Best is trial 27 with value: 0.6081.\n",
      "GPU available: True (cuda), used: True\n",
      "TPU available: False, using: 0 TPU cores\n",
      "IPU available: False, using: 0 IPUs\n",
      "HPU available: False, using: 0 HPUs\n",
      "/home/ganddalf/anaconda3/envs/dl/lib/python3.12/site-packages/lightning/pytorch/loggers/wandb.py:391: There is a wandb run already in progress and newly created instances of `WandbLogger` will reuse this run. If this is not desired, call `wandb.finish()` before instantiating `WandbLogger`.\n",
      "/home/ganddalf/anaconda3/envs/dl/lib/python3.12/site-packages/lightning/pytorch/callbacks/model_checkpoint.py:653: Checkpoint directory ./lightning_logs/q73fuutg/checkpoints exists and is not empty.\n",
      "LOCAL_RANK: 0 - CUDA_VISIBLE_DEVICES: [0]\n",
      "\n",
      "  | Name    | Type             | Params\n",
      "---------------------------------------------\n",
      "0 | student | Cifar_Very_Tiny  | 15.1 K\n",
      "1 | teacher | Cifar_Tiny       | 58.0 K\n",
      "2 | loss    | CrossEntropyLoss | 0     \n",
      "---------------------------------------------\n",
      "15.1 K    Trainable params\n",
      "58.0 K    Non-trainable params\n",
      "73.0 K    Total params\n",
      "0.292     Total estimated model params size (MB)\n"
     ]
    },
    {
     "name": "stdout",
     "output_type": "stream",
     "text": [
      "\n",
      "────────────────────────────────────────────────────────────────────────────────────────────────────────────────────────\n",
      "       Test metric             DataLoader 0\n",
      "────────────────────────────────────────────────────────────────────────────────────────────────────────────────────────\n",
      "        AUC_FGSM            0.21282631158828735\n",
      "        AUC_Noise           0.4563961625099182\n",
      "        test_acc             0.60589998960495\n",
      "────────────────────────────────────────────────────────────────────────────────────────────────────────────────────────\n",
      "Epoch 99: 100%|██████████| 79/79 [00:02<00:00, 26.79it/s, v_num=uutg]"
     ]
    },
    {
     "name": "stderr",
     "output_type": "stream",
     "text": [
      "`Trainer.fit` stopped: `max_epochs=100` reached.\n"
     ]
    },
    {
     "name": "stdout",
     "output_type": "stream",
     "text": [
      "Epoch 99: 100%|██████████| 79/79 [00:02<00:00, 26.68it/s, v_num=uutg]\n"
     ]
    },
    {
     "name": "stderr",
     "output_type": "stream",
     "text": [
      "/home/ganddalf/anaconda3/envs/dl/lib/python3.12/site-packages/lightning/pytorch/trainer/connectors/checkpoint_connector.py:145: `.test(ckpt_path=None)` was called without a model. The best model of the previous `fit` call will be used. You can pass `.test(ckpt_path='best')` to use the best model or `.test(ckpt_path='last')` to use the last model. If you pass a value, this warning will be silenced.\n",
      "Restoring states from the checkpoint path at ./lightning_logs/q73fuutg/checkpoints/epoch=99-step=7900-v42.ckpt\n",
      "LOCAL_RANK: 0 - CUDA_VISIBLE_DEVICES: [0]\n",
      "Loaded model weights from the checkpoint at ./lightning_logs/q73fuutg/checkpoints/epoch=99-step=7900-v42.ckpt\n"
     ]
    },
    {
     "name": "stdout",
     "output_type": "stream",
     "text": [
      "Testing DataLoader 0: 100%|██████████| 79/79 [00:04<00:00, 18.78it/s] "
     ]
    },
    {
     "name": "stderr",
     "output_type": "stream",
     "text": [
      "[I 2024-06-23 08:28:55,105] Trial 42 finished with value: 0.6001 and parameters: {'l_0_0': 0.0010634753062292066, 'l_0_1': 0.17894588666739178, 'l_0_2': 0.3336164420379842, 'l_0_3': 0.014092413984179967, 'l_1_0': 0.0038425093837663377, 'l_1_1': 1.3626579328239623e-05, 'l_1_2': 0.367353813306354, 'l_1_3': 0.013039763935209732, 'l_2_0': 0.0020981129455810306, 'l_2_1': 0.0001299224576705023, 'l_2_2': 0.5500757959652114, 'l_2_3': 0.00022654677356838564, 'l_3_0': 0.07689178082051053, 'l_3_1': 0.10725265883607205, 'l_3_2': 0.04865616672083115, 'l_3_3': 0.13392435189864815}. Best is trial 27 with value: 0.6081.\n",
      "GPU available: True (cuda), used: True\n",
      "TPU available: False, using: 0 TPU cores\n",
      "IPU available: False, using: 0 IPUs\n",
      "HPU available: False, using: 0 HPUs\n",
      "/home/ganddalf/anaconda3/envs/dl/lib/python3.12/site-packages/lightning/pytorch/loggers/wandb.py:391: There is a wandb run already in progress and newly created instances of `WandbLogger` will reuse this run. If this is not desired, call `wandb.finish()` before instantiating `WandbLogger`.\n",
      "/home/ganddalf/anaconda3/envs/dl/lib/python3.12/site-packages/lightning/pytorch/callbacks/model_checkpoint.py:653: Checkpoint directory ./lightning_logs/q73fuutg/checkpoints exists and is not empty.\n",
      "LOCAL_RANK: 0 - CUDA_VISIBLE_DEVICES: [0]\n",
      "\n",
      "  | Name    | Type             | Params\n",
      "---------------------------------------------\n",
      "0 | student | Cifar_Very_Tiny  | 15.1 K\n",
      "1 | teacher | Cifar_Tiny       | 58.0 K\n",
      "2 | loss    | CrossEntropyLoss | 0     \n",
      "---------------------------------------------\n",
      "15.1 K    Trainable params\n",
      "58.0 K    Non-trainable params\n",
      "73.0 K    Total params\n",
      "0.292     Total estimated model params size (MB)\n"
     ]
    },
    {
     "name": "stdout",
     "output_type": "stream",
     "text": [
      "\n",
      "────────────────────────────────────────────────────────────────────────────────────────────────────────────────────────\n",
      "       Test metric             DataLoader 0\n",
      "────────────────────────────────────────────────────────────────────────────────────────────────────────────────────────\n",
      "        AUC_FGSM            0.24437367916107178\n",
      "        AUC_Noise           0.4278179407119751\n",
      "        test_acc            0.6000999808311462\n",
      "────────────────────────────────────────────────────────────────────────────────────────────────────────────────────────\n",
      "Epoch 99: 100%|██████████| 79/79 [00:02<00:00, 28.10it/s, v_num=uutg]"
     ]
    },
    {
     "name": "stderr",
     "output_type": "stream",
     "text": [
      "`Trainer.fit` stopped: `max_epochs=100` reached.\n"
     ]
    },
    {
     "name": "stdout",
     "output_type": "stream",
     "text": [
      "Epoch 99: 100%|██████████| 79/79 [00:02<00:00, 28.03it/s, v_num=uutg]\n"
     ]
    },
    {
     "name": "stderr",
     "output_type": "stream",
     "text": [
      "/home/ganddalf/anaconda3/envs/dl/lib/python3.12/site-packages/lightning/pytorch/trainer/connectors/checkpoint_connector.py:145: `.test(ckpt_path=None)` was called without a model. The best model of the previous `fit` call will be used. You can pass `.test(ckpt_path='best')` to use the best model or `.test(ckpt_path='last')` to use the last model. If you pass a value, this warning will be silenced.\n",
      "Restoring states from the checkpoint path at ./lightning_logs/q73fuutg/checkpoints/epoch=99-step=7900-v43.ckpt\n",
      "LOCAL_RANK: 0 - CUDA_VISIBLE_DEVICES: [0]\n",
      "Loaded model weights from the checkpoint at ./lightning_logs/q73fuutg/checkpoints/epoch=99-step=7900-v43.ckpt\n"
     ]
    },
    {
     "name": "stdout",
     "output_type": "stream",
     "text": [
      "Testing DataLoader 0: 100%|██████████| 79/79 [00:04<00:00, 18.79it/s] "
     ]
    },
    {
     "name": "stderr",
     "output_type": "stream",
     "text": [
      "[I 2024-06-23 08:33:29,352] Trial 43 finished with value: 0.6028 and parameters: {'l_0_0': 0.004079963347099292, 'l_0_1': 0.06301420764466267, 'l_0_2': 0.4013933552700977, 'l_0_3': 0.09066960154419833, 'l_1_0': 0.0170221983101176, 'l_1_1': 2.8001172654175623e-05, 'l_1_2': 0.15218321168684398, 'l_1_3': 0.04494017542739987, 'l_2_0': 0.008054196615696483, 'l_2_1': 0.00023746125670117866, 'l_2_2': 0.2134135956998289, 'l_2_3': 0.0008514404785603775, 'l_3_0': 0.0033969747258523115, 'l_3_1': 0.05137599024469885, 'l_3_2': 0.3155728682254667, 'l_3_3': 0.6409672738157575}. Best is trial 27 with value: 0.6081.\n",
      "GPU available: True (cuda), used: True\n",
      "TPU available: False, using: 0 TPU cores\n",
      "IPU available: False, using: 0 IPUs\n",
      "HPU available: False, using: 0 HPUs\n",
      "/home/ganddalf/anaconda3/envs/dl/lib/python3.12/site-packages/lightning/pytorch/loggers/wandb.py:391: There is a wandb run already in progress and newly created instances of `WandbLogger` will reuse this run. If this is not desired, call `wandb.finish()` before instantiating `WandbLogger`.\n",
      "/home/ganddalf/anaconda3/envs/dl/lib/python3.12/site-packages/lightning/pytorch/callbacks/model_checkpoint.py:653: Checkpoint directory ./lightning_logs/q73fuutg/checkpoints exists and is not empty.\n",
      "LOCAL_RANK: 0 - CUDA_VISIBLE_DEVICES: [0]\n",
      "\n",
      "  | Name    | Type             | Params\n",
      "---------------------------------------------\n",
      "0 | student | Cifar_Very_Tiny  | 15.1 K\n",
      "1 | teacher | Cifar_Tiny       | 58.0 K\n",
      "2 | loss    | CrossEntropyLoss | 0     \n",
      "---------------------------------------------\n",
      "15.1 K    Trainable params\n",
      "58.0 K    Non-trainable params\n",
      "73.0 K    Total params\n",
      "0.292     Total estimated model params size (MB)\n"
     ]
    },
    {
     "name": "stdout",
     "output_type": "stream",
     "text": [
      "\n",
      "────────────────────────────────────────────────────────────────────────────────────────────────────────────────────────\n",
      "       Test metric             DataLoader 0\n",
      "────────────────────────────────────────────────────────────────────────────────────────────────────────────────────────\n",
      "        AUC_FGSM            0.21398158371448517\n",
      "        AUC_Noise           0.46308332681655884\n",
      "        test_acc            0.6028000116348267\n",
      "────────────────────────────────────────────────────────────────────────────────────────────────────────────────────────\n",
      "Epoch 99: 100%|██████████| 79/79 [00:02<00:00, 29.63it/s, v_num=uutg]"
     ]
    },
    {
     "name": "stderr",
     "output_type": "stream",
     "text": [
      "`Trainer.fit` stopped: `max_epochs=100` reached.\n"
     ]
    },
    {
     "name": "stdout",
     "output_type": "stream",
     "text": [
      "Epoch 99: 100%|██████████| 79/79 [00:02<00:00, 29.48it/s, v_num=uutg]\n"
     ]
    },
    {
     "name": "stderr",
     "output_type": "stream",
     "text": [
      "/home/ganddalf/anaconda3/envs/dl/lib/python3.12/site-packages/lightning/pytorch/trainer/connectors/checkpoint_connector.py:145: `.test(ckpt_path=None)` was called without a model. The best model of the previous `fit` call will be used. You can pass `.test(ckpt_path='best')` to use the best model or `.test(ckpt_path='last')` to use the last model. If you pass a value, this warning will be silenced.\n",
      "Restoring states from the checkpoint path at ./lightning_logs/q73fuutg/checkpoints/epoch=99-step=7900-v44.ckpt\n",
      "LOCAL_RANK: 0 - CUDA_VISIBLE_DEVICES: [0]\n",
      "Loaded model weights from the checkpoint at ./lightning_logs/q73fuutg/checkpoints/epoch=99-step=7900-v44.ckpt\n"
     ]
    },
    {
     "name": "stdout",
     "output_type": "stream",
     "text": [
      "Testing DataLoader 0: 100%|██████████| 79/79 [00:05<00:00, 15.22it/s] "
     ]
    },
    {
     "name": "stderr",
     "output_type": "stream",
     "text": [
      "[I 2024-06-23 08:38:10,366] Trial 44 finished with value: 0.6019 and parameters: {'l_0_0': 0.00946237568076909, 'l_0_1': 0.3319146704152157, 'l_0_2': 0.10298941752050551, 'l_0_3': 0.00505362741182583, 'l_1_0': 0.07729620019278996, 'l_1_1': 3.0938091855369625e-05, 'l_1_2': 0.4539462321045543, 'l_1_3': 0.006454975375201131, 'l_2_0': 0.0011497729052876832, 'l_2_1': 0.0019139753316297233, 'l_2_2': 0.2782495666011067, 'l_2_3': 0.0019333359324203631, 'l_3_0': 0.006745527820503623, 'l_3_1': 0.08620578711693362, 'l_3_2': 0.026534410313008766, 'l_3_3': 0.2615142280185046}. Best is trial 27 with value: 0.6081.\n",
      "GPU available: True (cuda), used: True\n",
      "TPU available: False, using: 0 TPU cores\n",
      "IPU available: False, using: 0 IPUs\n",
      "HPU available: False, using: 0 HPUs\n",
      "/home/ganddalf/anaconda3/envs/dl/lib/python3.12/site-packages/lightning/pytorch/loggers/wandb.py:391: There is a wandb run already in progress and newly created instances of `WandbLogger` will reuse this run. If this is not desired, call `wandb.finish()` before instantiating `WandbLogger`.\n",
      "/home/ganddalf/anaconda3/envs/dl/lib/python3.12/site-packages/lightning/pytorch/callbacks/model_checkpoint.py:653: Checkpoint directory ./lightning_logs/q73fuutg/checkpoints exists and is not empty.\n",
      "LOCAL_RANK: 0 - CUDA_VISIBLE_DEVICES: [0]\n",
      "\n",
      "  | Name    | Type             | Params\n",
      "---------------------------------------------\n",
      "0 | student | Cifar_Very_Tiny  | 15.1 K\n",
      "1 | teacher | Cifar_Tiny       | 58.0 K\n",
      "2 | loss    | CrossEntropyLoss | 0     \n",
      "---------------------------------------------\n",
      "15.1 K    Trainable params\n",
      "58.0 K    Non-trainable params\n",
      "73.0 K    Total params\n",
      "0.292     Total estimated model params size (MB)\n"
     ]
    },
    {
     "name": "stdout",
     "output_type": "stream",
     "text": [
      "\n",
      "────────────────────────────────────────────────────────────────────────────────────────────────────────────────────────\n",
      "       Test metric             DataLoader 0\n",
      "────────────────────────────────────────────────────────────────────────────────────────────────────────────────────────\n",
      "        AUC_FGSM            0.21526052057743073\n",
      "        AUC_Noise            0.432115375995636\n",
      "        test_acc            0.6018999814987183\n",
      "────────────────────────────────────────────────────────────────────────────────────────────────────────────────────────\n",
      "Epoch 99: 100%|██████████| 79/79 [00:02<00:00, 28.51it/s, v_num=uutg]"
     ]
    },
    {
     "name": "stderr",
     "output_type": "stream",
     "text": [
      "`Trainer.fit` stopped: `max_epochs=100` reached.\n"
     ]
    },
    {
     "name": "stdout",
     "output_type": "stream",
     "text": [
      "Epoch 99: 100%|██████████| 79/79 [00:02<00:00, 28.38it/s, v_num=uutg]\n"
     ]
    },
    {
     "name": "stderr",
     "output_type": "stream",
     "text": [
      "/home/ganddalf/anaconda3/envs/dl/lib/python3.12/site-packages/lightning/pytorch/trainer/connectors/checkpoint_connector.py:145: `.test(ckpt_path=None)` was called without a model. The best model of the previous `fit` call will be used. You can pass `.test(ckpt_path='best')` to use the best model or `.test(ckpt_path='last')` to use the last model. If you pass a value, this warning will be silenced.\n",
      "Restoring states from the checkpoint path at ./lightning_logs/q73fuutg/checkpoints/epoch=99-step=7900-v45.ckpt\n",
      "LOCAL_RANK: 0 - CUDA_VISIBLE_DEVICES: [0]\n",
      "Loaded model weights from the checkpoint at ./lightning_logs/q73fuutg/checkpoints/epoch=99-step=7900-v45.ckpt\n"
     ]
    },
    {
     "name": "stdout",
     "output_type": "stream",
     "text": [
      "Testing DataLoader 0: 100%|██████████| 79/79 [00:04<00:00, 17.45it/s] "
     ]
    },
    {
     "name": "stderr",
     "output_type": "stream",
     "text": [
      "[I 2024-06-23 08:42:49,334] Trial 45 finished with value: 0.6036 and parameters: {'l_0_0': 0.002591936350160741, 'l_0_1': 0.03666372256780081, 'l_0_2': 0.34006636802448625, 'l_0_3': 0.013391175047353526, 'l_1_0': 0.0020559818157415495, 'l_1_1': 1.092980116999255e-05, 'l_1_2': 0.12052788030587588, 'l_1_3': 0.002745460679945355, 'l_2_0': 0.00022149394356981388, 'l_2_1': 1.837273130767519e-05, 'l_2_2': 0.5477736759955092, 'l_2_3': 0.0004265386939485959, 'l_3_0': 0.01533390915689194, 'l_3_1': 0.20195135719626808, 'l_3_2': 0.10622240727222132, 'l_3_3': 0.8847543232947592}. Best is trial 27 with value: 0.6081.\n",
      "GPU available: True (cuda), used: True\n",
      "TPU available: False, using: 0 TPU cores\n",
      "IPU available: False, using: 0 IPUs\n",
      "HPU available: False, using: 0 HPUs\n",
      "/home/ganddalf/anaconda3/envs/dl/lib/python3.12/site-packages/lightning/pytorch/loggers/wandb.py:391: There is a wandb run already in progress and newly created instances of `WandbLogger` will reuse this run. If this is not desired, call `wandb.finish()` before instantiating `WandbLogger`.\n",
      "/home/ganddalf/anaconda3/envs/dl/lib/python3.12/site-packages/lightning/pytorch/callbacks/model_checkpoint.py:653: Checkpoint directory ./lightning_logs/q73fuutg/checkpoints exists and is not empty.\n",
      "LOCAL_RANK: 0 - CUDA_VISIBLE_DEVICES: [0]\n",
      "\n",
      "  | Name    | Type             | Params\n",
      "---------------------------------------------\n",
      "0 | student | Cifar_Very_Tiny  | 15.1 K\n",
      "1 | teacher | Cifar_Tiny       | 58.0 K\n",
      "2 | loss    | CrossEntropyLoss | 0     \n",
      "---------------------------------------------\n",
      "15.1 K    Trainable params\n",
      "58.0 K    Non-trainable params\n",
      "73.0 K    Total params\n",
      "0.292     Total estimated model params size (MB)\n"
     ]
    },
    {
     "name": "stdout",
     "output_type": "stream",
     "text": [
      "\n",
      "────────────────────────────────────────────────────────────────────────────────────────────────────────────────────────\n",
      "       Test metric             DataLoader 0\n",
      "────────────────────────────────────────────────────────────────────────────────────────────────────────────────────────\n",
      "        AUC_FGSM            0.2452736794948578\n",
      "        AUC_Noise           0.4385615289211273\n",
      "        test_acc             0.603600025177002\n",
      "────────────────────────────────────────────────────────────────────────────────────────────────────────────────────────\n",
      "Epoch 99: 100%|██████████| 79/79 [00:02<00:00, 37.39it/s, v_num=uutg]"
     ]
    },
    {
     "name": "stderr",
     "output_type": "stream",
     "text": [
      "`Trainer.fit` stopped: `max_epochs=100` reached.\n"
     ]
    },
    {
     "name": "stdout",
     "output_type": "stream",
     "text": [
      "Epoch 99: 100%|██████████| 79/79 [00:02<00:00, 37.26it/s, v_num=uutg]\n"
     ]
    },
    {
     "name": "stderr",
     "output_type": "stream",
     "text": [
      "/home/ganddalf/anaconda3/envs/dl/lib/python3.12/site-packages/lightning/pytorch/trainer/connectors/checkpoint_connector.py:145: `.test(ckpt_path=None)` was called without a model. The best model of the previous `fit` call will be used. You can pass `.test(ckpt_path='best')` to use the best model or `.test(ckpt_path='last')` to use the last model. If you pass a value, this warning will be silenced.\n",
      "Restoring states from the checkpoint path at ./lightning_logs/q73fuutg/checkpoints/epoch=99-step=7900-v46.ckpt\n",
      "LOCAL_RANK: 0 - CUDA_VISIBLE_DEVICES: [0]\n",
      "Loaded model weights from the checkpoint at ./lightning_logs/q73fuutg/checkpoints/epoch=99-step=7900-v46.ckpt\n"
     ]
    },
    {
     "name": "stdout",
     "output_type": "stream",
     "text": [
      "Testing DataLoader 0: 100%|██████████| 79/79 [00:04<00:00, 16.28it/s] "
     ]
    },
    {
     "name": "stderr",
     "output_type": "stream",
     "text": [
      "[I 2024-06-23 08:47:26,395] Trial 46 finished with value: 0.57 and parameters: {'l_0_0': 0.02174013446671042, 'l_0_1': 0.12483049419507869, 'l_0_2': 0.18707596110922858, 'l_0_3': 0.08126538276819967, 'l_1_0': 0.006162737265889751, 'l_1_1': 4.769554870023572e-05, 'l_1_2': 0.5279356209756568, 'l_1_3': 0.0007035161867954832, 'l_2_0': 0.005172503280662415, 'l_2_1': 0.0008359177664993743, 'l_2_2': 0.12529304272372882, 'l_2_3': 0.00013366339930614838, 'l_3_0': 0.08679196043358907, 'l_3_1': 0.33610805418498557, 'l_3_2': 0.058428153633318686, 'l_3_3': 0.2848064668444638}. Best is trial 27 with value: 0.6081.\n",
      "GPU available: True (cuda), used: True\n",
      "TPU available: False, using: 0 TPU cores\n",
      "IPU available: False, using: 0 IPUs\n",
      "HPU available: False, using: 0 HPUs\n",
      "/home/ganddalf/anaconda3/envs/dl/lib/python3.12/site-packages/lightning/pytorch/loggers/wandb.py:391: There is a wandb run already in progress and newly created instances of `WandbLogger` will reuse this run. If this is not desired, call `wandb.finish()` before instantiating `WandbLogger`.\n",
      "/home/ganddalf/anaconda3/envs/dl/lib/python3.12/site-packages/lightning/pytorch/callbacks/model_checkpoint.py:653: Checkpoint directory ./lightning_logs/q73fuutg/checkpoints exists and is not empty.\n",
      "LOCAL_RANK: 0 - CUDA_VISIBLE_DEVICES: [0]\n",
      "\n",
      "  | Name    | Type             | Params\n",
      "---------------------------------------------\n",
      "0 | student | Cifar_Very_Tiny  | 15.1 K\n",
      "1 | teacher | Cifar_Tiny       | 58.0 K\n",
      "2 | loss    | CrossEntropyLoss | 0     \n",
      "---------------------------------------------\n",
      "15.1 K    Trainable params\n",
      "58.0 K    Non-trainable params\n",
      "73.0 K    Total params\n",
      "0.292     Total estimated model params size (MB)\n"
     ]
    },
    {
     "name": "stdout",
     "output_type": "stream",
     "text": [
      "\n",
      "────────────────────────────────────────────────────────────────────────────────────────────────────────────────────────\n",
      "       Test metric             DataLoader 0\n",
      "────────────────────────────────────────────────────────────────────────────────────────────────────────────────────────\n",
      "        AUC_FGSM            0.23078946769237518\n",
      "        AUC_Noise           0.42398589849472046\n",
      "        test_acc            0.5699999928474426\n",
      "────────────────────────────────────────────────────────────────────────────────────────────────────────────────────────\n",
      "Epoch 99: 100%|██████████| 79/79 [00:02<00:00, 27.34it/s, v_num=uutg]"
     ]
    },
    {
     "name": "stderr",
     "output_type": "stream",
     "text": [
      "`Trainer.fit` stopped: `max_epochs=100` reached.\n"
     ]
    },
    {
     "name": "stdout",
     "output_type": "stream",
     "text": [
      "Epoch 99: 100%|██████████| 79/79 [00:02<00:00, 27.22it/s, v_num=uutg]\n"
     ]
    },
    {
     "name": "stderr",
     "output_type": "stream",
     "text": [
      "/home/ganddalf/anaconda3/envs/dl/lib/python3.12/site-packages/lightning/pytorch/trainer/connectors/checkpoint_connector.py:145: `.test(ckpt_path=None)` was called without a model. The best model of the previous `fit` call will be used. You can pass `.test(ckpt_path='best')` to use the best model or `.test(ckpt_path='last')` to use the last model. If you pass a value, this warning will be silenced.\n",
      "Restoring states from the checkpoint path at ./lightning_logs/q73fuutg/checkpoints/epoch=99-step=7900-v47.ckpt\n",
      "LOCAL_RANK: 0 - CUDA_VISIBLE_DEVICES: [0]\n",
      "Loaded model weights from the checkpoint at ./lightning_logs/q73fuutg/checkpoints/epoch=99-step=7900-v47.ckpt\n"
     ]
    },
    {
     "name": "stdout",
     "output_type": "stream",
     "text": [
      "Testing DataLoader 0: 100%|██████████| 79/79 [00:04<00:00, 18.51it/s] "
     ]
    },
    {
     "name": "stderr",
     "output_type": "stream",
     "text": [
      "[I 2024-06-23 08:52:04,305] Trial 47 finished with value: 0.6032 and parameters: {'l_0_0': 0.0011961314932205423, 'l_0_1': 0.016303724853206056, 'l_0_2': 0.016387751235151803, 'l_0_3': 2.0723130040872508e-05, 'l_1_0': 0.05204781106529604, 'l_1_1': 0.00010391468283811921, 'l_1_2': 0.24369178256762009, 'l_1_3': 0.1587394569454726, 'l_2_0': 0.01388184567862286, 'l_2_1': 0.007605098232885347, 'l_2_2': 1.974094741449288e-05, 'l_2_3': 0.5216058099406823, 'l_3_0': 0.0016679085045195772, 'l_3_1': 0.006421654188234255, 'l_3_2': 0.010019225512154692, 'l_3_3': 0.45343136834572273}. Best is trial 27 with value: 0.6081.\n",
      "GPU available: True (cuda), used: True\n",
      "TPU available: False, using: 0 TPU cores\n",
      "IPU available: False, using: 0 IPUs\n",
      "HPU available: False, using: 0 HPUs\n",
      "/home/ganddalf/anaconda3/envs/dl/lib/python3.12/site-packages/lightning/pytorch/loggers/wandb.py:391: There is a wandb run already in progress and newly created instances of `WandbLogger` will reuse this run. If this is not desired, call `wandb.finish()` before instantiating `WandbLogger`.\n",
      "/home/ganddalf/anaconda3/envs/dl/lib/python3.12/site-packages/lightning/pytorch/callbacks/model_checkpoint.py:653: Checkpoint directory ./lightning_logs/q73fuutg/checkpoints exists and is not empty.\n",
      "LOCAL_RANK: 0 - CUDA_VISIBLE_DEVICES: [0]\n",
      "\n",
      "  | Name    | Type             | Params\n",
      "---------------------------------------------\n",
      "0 | student | Cifar_Very_Tiny  | 15.1 K\n",
      "1 | teacher | Cifar_Tiny       | 58.0 K\n",
      "2 | loss    | CrossEntropyLoss | 0     \n",
      "---------------------------------------------\n",
      "15.1 K    Trainable params\n",
      "58.0 K    Non-trainable params\n",
      "73.0 K    Total params\n",
      "0.292     Total estimated model params size (MB)\n"
     ]
    },
    {
     "name": "stdout",
     "output_type": "stream",
     "text": [
      "\n",
      "────────────────────────────────────────────────────────────────────────────────────────────────────────────────────────\n",
      "       Test metric             DataLoader 0\n",
      "────────────────────────────────────────────────────────────────────────────────────────────────────────────────────────\n",
      "        AUC_FGSM            0.1960473656654358\n",
      "        AUC_Noise           0.4639076888561249\n",
      "        test_acc            0.6032000184059143\n",
      "────────────────────────────────────────────────────────────────────────────────────────────────────────────────────────\n",
      "Epoch 99: 100%|██████████| 79/79 [00:02<00:00, 27.95it/s, v_num=uutg]"
     ]
    },
    {
     "name": "stderr",
     "output_type": "stream",
     "text": [
      "`Trainer.fit` stopped: `max_epochs=100` reached.\n"
     ]
    },
    {
     "name": "stdout",
     "output_type": "stream",
     "text": [
      "Epoch 99: 100%|██████████| 79/79 [00:02<00:00, 27.82it/s, v_num=uutg]\n"
     ]
    },
    {
     "name": "stderr",
     "output_type": "stream",
     "text": [
      "/home/ganddalf/anaconda3/envs/dl/lib/python3.12/site-packages/lightning/pytorch/trainer/connectors/checkpoint_connector.py:145: `.test(ckpt_path=None)` was called without a model. The best model of the previous `fit` call will be used. You can pass `.test(ckpt_path='best')` to use the best model or `.test(ckpt_path='last')` to use the last model. If you pass a value, this warning will be silenced.\n",
      "Restoring states from the checkpoint path at ./lightning_logs/q73fuutg/checkpoints/epoch=99-step=7900-v48.ckpt\n",
      "LOCAL_RANK: 0 - CUDA_VISIBLE_DEVICES: [0]\n",
      "Loaded model weights from the checkpoint at ./lightning_logs/q73fuutg/checkpoints/epoch=99-step=7900-v48.ckpt\n"
     ]
    },
    {
     "name": "stdout",
     "output_type": "stream",
     "text": [
      "Testing DataLoader 0: 100%|██████████| 79/79 [00:05<00:00, 14.97it/s] "
     ]
    },
    {
     "name": "stderr",
     "output_type": "stream",
     "text": [
      "[I 2024-06-23 08:56:43,339] Trial 48 finished with value: 0.5982 and parameters: {'l_0_0': 0.0061627375040926085, 'l_0_1': 0.004224647776082227, 'l_0_2': 0.0813990317704736, 'l_0_3': 0.28136537192643746, 'l_1_0': 0.0008922815554264534, 'l_1_1': 2.293436347153275e-05, 'l_1_2': 0.06971058843792063, 'l_1_3': 0.03255550351446936, 'l_2_0': 0.5649988676924166, 'l_2_1': 4.614533398295732e-05, 'l_2_2': 0.18394603252867045, 'l_2_3': 0.003868160597909053, 'l_3_0': 0.018027962586756652, 'l_3_1': 0.028072091390936197, 'l_3_2': 0.038055685627076216, 'l_3_3': 0.13037597803722628}. Best is trial 27 with value: 0.6081.\n",
      "GPU available: True (cuda), used: True\n",
      "TPU available: False, using: 0 TPU cores\n",
      "IPU available: False, using: 0 IPUs\n",
      "HPU available: False, using: 0 HPUs\n",
      "/home/ganddalf/anaconda3/envs/dl/lib/python3.12/site-packages/lightning/pytorch/loggers/wandb.py:391: There is a wandb run already in progress and newly created instances of `WandbLogger` will reuse this run. If this is not desired, call `wandb.finish()` before instantiating `WandbLogger`.\n",
      "/home/ganddalf/anaconda3/envs/dl/lib/python3.12/site-packages/lightning/pytorch/callbacks/model_checkpoint.py:653: Checkpoint directory ./lightning_logs/q73fuutg/checkpoints exists and is not empty.\n",
      "LOCAL_RANK: 0 - CUDA_VISIBLE_DEVICES: [0]\n",
      "\n",
      "  | Name    | Type             | Params\n",
      "---------------------------------------------\n",
      "0 | student | Cifar_Very_Tiny  | 15.1 K\n",
      "1 | teacher | Cifar_Tiny       | 58.0 K\n",
      "2 | loss    | CrossEntropyLoss | 0     \n",
      "---------------------------------------------\n",
      "15.1 K    Trainable params\n",
      "58.0 K    Non-trainable params\n",
      "73.0 K    Total params\n",
      "0.292     Total estimated model params size (MB)\n"
     ]
    },
    {
     "name": "stdout",
     "output_type": "stream",
     "text": [
      "\n",
      "────────────────────────────────────────────────────────────────────────────────────────────────────────────────────────\n",
      "       Test metric             DataLoader 0\n",
      "────────────────────────────────────────────────────────────────────────────────────────────────────────────────────────\n",
      "        AUC_FGSM             0.206510528922081\n",
      "        AUC_Noise           0.4079897403717041\n",
      "        test_acc            0.5982000231742859\n",
      "────────────────────────────────────────────────────────────────────────────────────────────────────────────────────────\n",
      "Epoch 99: 100%|██████████| 79/79 [00:02<00:00, 26.96it/s, v_num=uutg]"
     ]
    },
    {
     "name": "stderr",
     "output_type": "stream",
     "text": [
      "`Trainer.fit` stopped: `max_epochs=100` reached.\n"
     ]
    },
    {
     "name": "stdout",
     "output_type": "stream",
     "text": [
      "Epoch 99: 100%|██████████| 79/79 [00:02<00:00, 26.84it/s, v_num=uutg]\n"
     ]
    },
    {
     "name": "stderr",
     "output_type": "stream",
     "text": [
      "/home/ganddalf/anaconda3/envs/dl/lib/python3.12/site-packages/lightning/pytorch/trainer/connectors/checkpoint_connector.py:145: `.test(ckpt_path=None)` was called without a model. The best model of the previous `fit` call will be used. You can pass `.test(ckpt_path='best')` to use the best model or `.test(ckpt_path='last')` to use the last model. If you pass a value, this warning will be silenced.\n",
      "Restoring states from the checkpoint path at ./lightning_logs/q73fuutg/checkpoints/epoch=99-step=7900-v49.ckpt\n",
      "LOCAL_RANK: 0 - CUDA_VISIBLE_DEVICES: [0]\n",
      "Loaded model weights from the checkpoint at ./lightning_logs/q73fuutg/checkpoints/epoch=99-step=7900-v49.ckpt\n"
     ]
    },
    {
     "name": "stdout",
     "output_type": "stream",
     "text": [
      "Testing DataLoader 0: 100%|██████████| 79/79 [00:04<00:00, 18.83it/s] "
     ]
    },
    {
     "name": "stderr",
     "output_type": "stream",
     "text": [
      "[I 2024-06-23 09:01:19,991] Trial 49 finished with value: 0.5209 and parameters: {'l_0_0': 0.0005580541886736031, 'l_0_1': 0.08278380832407888, 'l_0_2': 0.9664659217031505, 'l_0_3': 0.01140873425685202, 'l_1_0': 0.01763249927320897, 'l_1_1': 6.915036445888834e-05, 'l_1_2': 0.9175928439229596, 'l_1_3': 0.07429196995904574, 'l_2_0': 0.0017793868027445787, 'l_2_1': 9.314295191102208e-05, 'l_2_2': 0.00026389399816738627, 'l_2_3': 0.000603393702895062, 'l_3_0': 0.4068357279749403, 'l_3_1': 0.00419376021256199, 'l_3_2': 1.1444121022522486e-05, 'l_3_3': 0.06299259348963411}. Best is trial 27 with value: 0.6081.\n"
     ]
    },
    {
     "name": "stdout",
     "output_type": "stream",
     "text": [
      "\n",
      "────────────────────────────────────────────────────────────────────────────────────────────────────────────────────────\n",
      "       Test metric             DataLoader 0\n",
      "────────────────────────────────────────────────────────────────────────────────────────────────────────────────────────\n",
      "        AUC_FGSM            0.20577631890773773\n",
      "        AUC_Noise           0.3640551269054413\n",
      "        test_acc            0.5209000110626221\n",
      "────────────────────────────────────────────────────────────────────────────────────────────────────────────────────────\n"
     ]
    },
    {
     "data": {
      "image/png": "[encoded data removed]",
      "text/plain": [
       "<Figure size 640x480 with 1 Axes>"
      ]
     },
     "metadata": {},
     "output_type": "display_data"
    }
   ],
   "source": [
    "study = optuna.create_study(direction='maximize')\n",
    "study.optimize(objective, n_trials=50, callbacks=[wandbc])"
   ]
  },
  {
   "cell_type": "code",
   "execution_count": 14,
   "metadata": {},
   "outputs": [
    {
     "data": {
      "text/html": [
       "<style>\n",
       "    table.wandb td:nth-child(1) { padding: 0 10px; text-align: left ; width: auto;} td:nth-child(2) {text-align: left ; width: 100%}\n",
       "    .wandb-row { display: flex; flex-direction: row; flex-wrap: wrap; justify-content: flex-start; width: 100% }\n",
       "    .wandb-col { display: flex; flex-direction: column; flex-basis: 100%; flex: 1; padding: 10px; }\n",
       "    </style>\n",
       "<div class=\"wandb-row\"><div class=\"wandb-col\"><h3>Run history:</h3><br/><table class=\"wandb\"><tr><td>AUC_FGSM</td><td>█▃▆▄▃▅▄▂▄▅▂▆█▅▅▁▆▆▁▆▄▁▆▅▇▆▅▆▆▁▅▄▆▆▇▆▇▆▅▅</td></tr><tr><td>AUC_Noise</td><td>▆▆▇▇▇▇▇▆▇▇▅▇▆▇▇▁▇▇▁▇▇▁██▆▇█▇█▁█▇██▇██▇█▆</td></tr><tr><td>epoch</td><td>▄▅▇▁▃▄▆▃▄▆▇▁▃█▂▃▅▆█▂▆█▂▄▅▇▄▅▇▁▃▄▆▃▄▆▇▂▃█</td></tr><tr><td>lr</td><td>▁▁▁▁▁▁▁▁▁▁▁▁▁▁▁▁▁▁▁▁▁▁▁▁▁▁▁▁▁▁▁▁▁▁▁▁▁▁▁▁</td></tr><tr><td>test_acc</td><td>▆███▇▇█▇██▇█▆██▁██▁██▁██▆███▇▁█▇█████▇█▇</td></tr><tr><td>train_acc</td><td>▄█▇▅▆▇▇█▆▇█▆▄▇▆▄▆▇▆▁▇▁▇▅▄▇▆▇▆▂▅▆▇▅▆▇▇▆▆▅</td></tr><tr><td>train_loss</td><td>▅▂▁▃▁▃▂▁▁▁▁▅█▁▁▂▁▆▃ ▁ ▂▃▅▂▂▁▂ ▂▆▁▂▁▂▁▂▆▂</td></tr><tr><td>trainer/global_step</td><td>▄▅▇▁▃▄▆▃▄▆▇▁▃█▂▃▅▆█▂▆█▂▄▅▇▄▅▇▁▃▄▆▃▄▆▇▂▃█</td></tr></table><br/></div><div class=\"wandb-col\"><h3>Run summary:</h3><br/><table class=\"wandb\"><tr><td>AUC_FGSM</td><td>0.20578</td></tr><tr><td>AUC_Noise</td><td>0.36406</td></tr><tr><td>best accuracy</td><td>0.6081</td></tr><tr><td>best_l_0_0</td><td>0.00041</td></tr><tr><td>best_l_0_1</td><td>0.45807</td></tr><tr><td>best_l_0_2</td><td>0.00104</td></tr><tr><td>best_l_0_3</td><td>0.00015</td></tr><tr><td>best_l_1_0</td><td>0.00052</td></tr><tr><td>best_l_1_1</td><td>0.00209</td></tr><tr><td>best_l_1_2</td><td>0.00897</td></tr><tr><td>best_l_1_3</td><td>0.04054</td></tr><tr><td>best_l_2_0</td><td>0.11201</td></tr><tr><td>best_l_2_1</td><td>0.00047</td></tr><tr><td>best_l_2_2</td><td>0.35704</td></tr><tr><td>best_l_2_3</td><td>6e-05</td></tr><tr><td>best_l_3_0</td><td>0.00016</td></tr><tr><td>best_l_3_1</td><td>0.01124</td></tr><tr><td>best_l_3_2</td><td>0.0062</td></tr><tr><td>best_l_3_3</td><td>0.48304</td></tr><tr><td>epoch</td><td>100</td></tr><tr><td>lr</td><td>0.1</td></tr><tr><td>optimizer</td><td>SGD</td></tr><tr><td>test_acc</td><td>0.5209</td></tr><tr><td>train_acc</td><td>0.61719</td></tr><tr><td>train_loss</td><td>15.4973</td></tr><tr><td>trainer/global_step</td><td>7900</td></tr></table><br/></div></div>"
      ],
      "text/plain": [
       "<IPython.core.display.HTML object>"
      ]
     },
     "metadata": {},
     "output_type": "display_data"
    },
    {
     "data": {
      "text/html": [
       " View run <strong style=\"color:#cdcd00\">peachy-shape-313</strong> at: <a href='https://wandb.ai/potapuch2001/Oleinik-BS-Thesis-code/runs/q73fuutg' target=\"_blank\">https://wandb.ai/potapuch2001/Oleinik-BS-Thesis-code/runs/q73fuutg</a><br/> View project at: <a href='https://wandb.ai/potapuch2001/Oleinik-BS-Thesis-code' target=\"_blank\">https://wandb.ai/potapuch2001/Oleinik-BS-Thesis-code</a><br/>Synced 6 W&B file(s), 152 media file(s), 92 artifact file(s) and 0 other file(s)"
      ],
      "text/plain": [
       "<IPython.core.display.HTML object>"
      ]
     },
     "metadata": {},
     "output_type": "display_data"
    },
    {
     "data": {
      "text/html": [
       "Find logs at: <code>./wandb/run-20240623_050958-q73fuutg/logs</code>"
      ],
      "text/plain": [
       "<IPython.core.display.HTML object>"
      ]
     },
     "metadata": {},
     "output_type": "display_data"
    },
    {
     "data": {
      "text/html": [
       "(User provided step: 49 is less than current step: 8150. Dropping entry: {'l_0_0': 0.0005580541886736031, 'l_0_1': 0.08278380832407888, 'l_0_2': 0.9664659217031505, 'l_0_3': 0.01140873425685202, 'l_1_0': 0.01763249927320897, 'l_1_1': 6.915036445888834e-05, 'l_1_2': 0.9175928439229596, 'l_1_3': 0.07429196995904574, 'l_2_0': 0.0017793868027445787, 'l_2_1': 9.314295191102208e-05, 'l_2_2': 0.00026389399816738627, 'l_2_3': 0.000603393702895062, 'l_3_0': 0.4068357279749403, 'l_3_1': 0.00419376021256199, 'l_3_2': 1.1444121022522486e-05, 'l_3_3': 0.06299259348963411, 'test_acc': 0.5209, '_timestamp': 1719122479.9921963})."
      ],
      "text/plain": [
       "<IPython.core.display.HTML object>"
      ]
     },
     "metadata": {},
     "output_type": "display_data"
    }
   ],
   "source": [
    "f = \"best_{}\".format\n",
    "for param_name, param_value in study.best_trial.params.items():\n",
    "    wandb.run.summary[f(param_name)] = param_value\n",
    "\n",
    "wandb.run.summary[\"best accuracy\"] = study.best_trial.value\n",
    "\n",
    "wandb.log(\n",
    "    {\n",
    "        \"optuna_optimization_history\": optuna.visualization.plot_optimization_history(\n",
    "            study\n",
    "        ),\n",
    "        \"optuna_param_importances\": optuna.visualization.plot_param_importances(\n",
    "            study\n",
    "        ),\n",
    "    }\n",
    ")\n",
    "\n",
    "wandb.finish()"
   ]
  }
 ],
 "metadata": {
  "kernelspec": {
   "display_name": "ml_dl",
   "language": "python",
   "name": "python3"
  },
  "language_info": {
   "codemirror_mode": {
    "name": "ipython",
    "version": 3
   },
   "file_extension": ".py",
   "mimetype": "text/x-python",
   "name": "python",
   "nbconvert_exporter": "python",
   "pygments_lexer": "ipython3",
   "version": "3.12.3"
  }
 },
 "nbformat": 4,
 "nbformat_minor": 2
}
